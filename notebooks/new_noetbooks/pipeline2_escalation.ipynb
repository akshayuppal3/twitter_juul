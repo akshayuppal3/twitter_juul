{
 "cells": [
  {
   "cell_type": "code",
   "execution_count": 1,
   "metadata": {},
   "outputs": [],
   "source": [
    "## aim to predict the escalation of users using RNN and compare with other baseline classfiers"
   ]
  },
  {
   "cell_type": "code",
   "execution_count": 34,
   "metadata": {},
   "outputs": [],
   "source": [
    "import pandas as pd\n",
    "import numpy \n",
    "import os\n",
    "import git\n",
    "import pickle\n",
    "import matplotlib.pyplot as plt\n",
    "pd.set_option('display.max_colwidth', -1)\n",
    "from sklearn.ensemble import RandomForestClassifier\n",
    "from sklearn.ensemble import ExtraTreesClassifier\n",
    "import warnings\n",
    "warnings.filterwarnings('ignore')\n",
    "from matplotlib import pyplot\n",
    "import numpy as np\n",
    "import re\n",
    "from collections import Counter\n",
    "# import gensim\n",
    "# from gensim import corpora\n",
    "import os\n",
    "import networkx as nx\n",
    "import ast"
   ]
  },
  {
   "cell_type": "code",
   "execution_count": 35,
   "metadata": {},
   "outputs": [],
   "source": [
    "from sklearn.feature_extraction.text import TfidfVectorizer\n",
    "from sklearn.feature_extraction.text import CountVectorizer\n",
    "from sklearn.preprocessing import LabelEncoder \n",
    "from sklearn.model_selection import train_test_split\n",
    "from sklearn.model_selection import GridSearchCV\n",
    "from sklearn.svm import SVC\n",
    "from sklearn.utils import shuffle"
   ]
  },
  {
   "cell_type": "code",
   "execution_count": 36,
   "metadata": {},
   "outputs": [],
   "source": [
    "from keras.preprocessing.sequence import pad_sequences\n",
    "from keras.optimizers import SGD\n",
    "from keras.models import Model, Input\n",
    "from keras.models import Sequential\n",
    "from keras.layers import Dense\n",
    "from keras.layers import Flatten\n",
    "from keras.layers import Embedding\n",
    "from keras.layers import Bidirectional\n",
    "from keras.layers import LSTM\n",
    "from keras.layers import TimeDistributed\n",
    "from keras.layers import Reshape\n",
    "from keras.layers import Average\n",
    "from keras.layers import Dropout\n",
    "from sklearn.model_selection import train_test_split"
   ]
  },
  {
   "cell_type": "code",
   "execution_count": 37,
   "metadata": {},
   "outputs": [],
   "source": [
    "from sklearn.model_selection import cross_val_score\n",
    "from sklearn.model_selection import StratifiedKFold\n",
    "from sklearn.metrics import precision_recall_fscore_support\n",
    "from sklearn.model_selection import KFold\n",
    "from sklearn.model_selection import cross_val_score\n",
    "from sklearn.metrics import classification_report\n",
    "from tqdm.auto import tqdm"
   ]
  },
  {
   "cell_type": "code",
   "execution_count": 38,
   "metadata": {},
   "outputs": [],
   "source": [
    "## Read the labelled files and the poly_user\n",
    "def get_git_root(path):\n",
    "\tgit_repo = git.Repo(path, search_parent_directories=True)\n",
    "\tgit_root = git_repo.git.rev_parse(\"--show-toplevel\")\n",
    "\treturn git_root"
   ]
  },
  {
   "cell_type": "code",
   "execution_count": 39,
   "metadata": {},
   "outputs": [],
   "source": [
    "from nltk.corpus import wordnet as wn\n",
    "def get_lemma(word):\n",
    "    lemma = wn.morphy(word)\n",
    "    if lemma is None:\n",
    "        return word\n",
    "    else:\n",
    "        return lemma"
   ]
  },
  {
   "cell_type": "code",
   "execution_count": 40,
   "metadata": {},
   "outputs": [
    {
     "name": "stderr",
     "output_type": "stream",
     "text": [
      "[nltk_data] Downloading package wordnet to\n",
      "[nltk_data]     /home/drew_william2345/nltk_data...\n",
      "[nltk_data]   Package wordnet is already up-to-date!\n",
      "[nltk_data] Downloading package stopwords to\n",
      "[nltk_data]     /home/drew_william2345/nltk_data...\n",
      "[nltk_data]   Package stopwords is already up-to-date!\n"
     ]
    }
   ],
   "source": [
    "# setup env\n",
    "import nltk\n",
    "from nltk.corpus import stopwords\n",
    "nltk.download('wordnet')\n",
    "nltk.download('stopwords')\n",
    "stopwords = set(stopwords.words('english'))"
   ]
  },
  {
   "cell_type": "code",
   "execution_count": 41,
   "metadata": {},
   "outputs": [],
   "source": [
    "## tokenize the text..\n",
    "from sklearn.svm import LinearSVC\n",
    "from sklearn.feature_extraction.text import TfidfVectorizer\n",
    "from keras.preprocessing.text import Tokenizer as keras_Tokenizer\n",
    "from sklearn.metrics import classification_report\n",
    "from keras.layers import Embedding\n",
    "from nltk.tokenize import TweetTokenizer\n",
    "tweet_tknzr = TweetTokenizer()\n",
    "def get_tokens(sentence):\n",
    "#     tokens = nltk.word_tokenize(sentence)  # now using tweet tokenizer\n",
    "    tokens = tweet_tknzr.tokenize(sentence)\n",
    "    tokens = [token for token in tokens if (token not in stopwords and len(token) > 1)]\n",
    "    tokens = [get_lemma(token) for token in tokens]\n",
    "    return (tokens)"
   ]
  },
  {
   "cell_type": "code",
   "execution_count": 219,
   "metadata": {},
   "outputs": [],
   "source": [
    "def clean_text(text):\n",
    "    text = re.sub(r'(https?://\\S+)', \"\", text) ## remove url\n",
    "    text = re.sub(r'(\\@\\w+)', \"author\",text)   ## remove @ mentions with author\n",
    "    text = re.sub(r'(@)', \"\",text)             ## remove @ symbols\n",
    "    text = re.sub(r'(author)',\"\",text)         ## remove author\n",
    "    text = re.sub(r'(#)', \"\",text)             ## removing the hashtags signal \n",
    "    text = re.sub(r'(RT )', \"\",text)         ## remove the retweet info as they dont convey any information\n",
    "    text = re.sub(r'(^:)',\"\",text)\n",
    "    text.rstrip \n",
    "    text.lstrip\n",
    "    return(text)"
   ]
  },
  {
   "cell_type": "code",
   "execution_count": 43,
   "metadata": {},
   "outputs": [],
   "source": [
    "# create the word2vec dict from the dictionary\n",
    "def get_word2vec(file_path):\n",
    "    file = open(file_path, \"r\")\n",
    "    if (file):\n",
    "        word2vec = dict()\n",
    "#         split = file.read().splitlines()\n",
    "        for line in file:\n",
    "            split_line = line.split(' ')\n",
    "            key = split_line[0] # the first word is the key\n",
    "            value = np.array([float(val) for val in split_line[1:]])\n",
    "            word2vec[key] = value\n",
    "        return (word2vec)\n",
    "    else:\n",
    "        print(\"invalid fiel path\")"
   ]
  },
  {
   "cell_type": "code",
   "execution_count": 44,
   "metadata": {},
   "outputs": [],
   "source": [
    "## get the embedding matrix weights:\n",
    "from numpy import zeros\n",
    "def get_embedding_matrix(keras_tkzr,word2vec):\n",
    "    vocab_size = len(keras_tkzr.word_index) + 1\n",
    "    embedding_matrix = zeros((vocab_size, 100))\n",
    "    for word, i in keras_tkzr.word_index.items():\n",
    "        embedding_vector = word2vec.get(word)\n",
    "        if embedding_vector is not None:\n",
    "            embedding_matrix[i] = embedding_vector\n",
    "    return (embedding_matrix,vocab_size)"
   ]
  },
  {
   "cell_type": "code",
   "execution_count": 45,
   "metadata": {},
   "outputs": [],
   "source": [
    "## pass to the bi-lstm model\n",
    "def create_model(max_len,vocab_size,embedding_matrix):\n",
    "    input = Input(shape=(max_len,))\n",
    "    model = Embedding(vocab_size,100,weights=[embedding_matrix],input_length=max_len)(input)\n",
    "    model =  Bidirectional (LSTM (100,return_sequences=True,dropout=0.50),merge_mode='concat')(model)\n",
    "    model = TimeDistributed(Dense(100,activation='relu'))(model)\n",
    "    model = Flatten()(model)\n",
    "    model = Dense(100,activation='relu')(model)\n",
    "    output = Dense(3,activation='softmax')(model)\n",
    "    model = Model(input,output)\n",
    "    model.compile(loss='sparse_categorical_crossentropy',optimizer='adam', metrics=['accuracy'])\n",
    "    return model"
   ]
  },
  {
   "cell_type": "code",
   "execution_count": 46,
   "metadata": {},
   "outputs": [],
   "source": [
    "## get the trained model\n",
    "def train_evaluate_model(model,X_train,Y_train,X_test,Y_test):\n",
    "    loss, accuracy = model.evaluate(X_test, Y_test, verbose=2)\n",
    "    print('Accuracy: %f' % (accuracy*100))\n",
    "    Y_pred = model.predict(X_test)\n",
    "    y_pred = np.array([np.argmax(pred) for pred in Y_pred])\n",
    "    # scores = cross_val_score(model, X_test, Y_test, cv=5)\n",
    "    print('  Classification Report:\\n',classification_report(Y_test,y_pred),'\\n')\n",
    "    precision,recall,fscore,_ = precision_recall_fscore_support(Y_test,y_pred)\n",
    "    return (model,precision,recall,fscore)"
   ]
  },
  {
   "cell_type": "code",
   "execution_count": 47,
   "metadata": {},
   "outputs": [],
   "source": [
    "top_dir = os.path.join(get_git_root(os.getcwd()))\n",
    "input_dir = os.path.join(get_git_root(os.getcwd()),\"input\")\n",
    "embeddings_dir  = os.path.join(get_git_root(os.getcwd()),\"input\",\"embeddings\")\n",
    "annotatted_dir = os.path.join(input_dir,\"annotated_data\")\n",
    "classifier_dir = os.path.join(get_git_root(os.getcwd()),\"models\",\"classifier\")\n",
    "model_dir = os.path.join(get_git_root(os.getcwd()),\"models\")\n",
    "poly_dir = os.path.join(model_dir,\"poly_users\")"
   ]
  },
  {
   "cell_type": "code",
   "execution_count": 48,
   "metadata": {},
   "outputs": [],
   "source": [
    "# so wil filter the users that does have weed tweet before 2016\n",
    "# it return the mono user in that year\n",
    "def get_mono(first_data,year):\n",
    "    first_data[\"weed_first\"] = pd.to_datetime(first_data[\"weed_first\"])\n",
    "    first_data[\"juul_first\"] = pd.to_datetime(first_data[\"juul_first\"])\n",
    "    juul_users = list(first_data[\"userID\"].loc[first_data[\"juul_first\"].dt.year < year])\n",
    "    print(\"juul_initial\",len(juul_users))\n",
    "    weed_users = list(first_data[\"userID\"].loc[(first_data[\"weed_first\"].dt.year < (year))])\n",
    "    mono_users = list(set(juul_users) - set(weed_users))\n",
    "    print(\"mono final\",len(mono_users))\n",
    "    return mono_users"
   ]
  },
  {
   "cell_type": "code",
   "execution_count": 49,
   "metadata": {},
   "outputs": [],
   "source": [
    "## return the label of the poly users\n",
    "def get_label_mono(tweets_data,first_data):  ## will change for year\n",
    "    users = tweets_data.userID.unique()\n",
    "    print(\"initial_users\",len(users))\n",
    "    poly_labelled =  list(first_data[\"userID\"].loc[first_data.userID.isin(users) & (first_data.weed_first.isnull())]) ## all not null will become poly\n",
    "    mono_labelled = (list(set(users) - set(poly_labelled)))   ## users that will change to poly in future year\n",
    "    print(\"poly_users that will change\",len(poly_labelled))\n",
    "    print(\"users reaminin mono\",len(mono_labelled))\n",
    "    tweets_data[\"label\"] = 0   ## initialize\n",
    "    tweets_data.loc[tweets_data.userID.isin(poly_labelled),\"label\"] = 1  # all of the poly\n",
    "    return(tweets_data)"
   ]
  },
  {
   "cell_type": "code",
   "execution_count": 50,
   "metadata": {},
   "outputs": [],
   "source": [
    "def get_f1(Y_true,Y_pred):\n",
    "    f_scores = precision_recall_fscore_support(Y_true,Y_pred)[2]\n",
    "    supports = precision_recall_fscore_support(Y_true,Y_pred)[3]\n",
    "    f1_num = 0\n",
    "    for f_s,sup in zip(f_scores,supports):\n",
    "        f1_num += (f_s * sup)\n",
    "    f1 = f1_num / np.sum(supports)\n",
    "    return(f1)"
   ]
  },
  {
   "cell_type": "code",
   "execution_count": 51,
   "metadata": {},
   "outputs": [],
   "source": [
    "## join al the of the tweets for each user\n",
    "def get_tweets_user(df):\n",
    "    tqdm.pandas()\n",
    "    df = df.groupby(['userID'])['tweetText'].progress_apply(lambda x: ','.join(x)).reset_index()\n",
    "    return (df)"
   ]
  },
  {
   "cell_type": "code",
   "execution_count": 53,
   "metadata": {},
   "outputs": [],
   "source": [
    "def get_lstm_model(max_len,dimension,embedding_matrix):\n",
    "    max_len= max_len\n",
    "    n_words = vocab_size\n",
    "    print(\"creating model\")\n",
    "    input = Input(shape=(max_len,))\n",
    "    model = Embedding(n_words,Dimension,weights=[embedding_matrix],input_length=max_len)(input)\n",
    "    model =  Bidirectional (LSTM (100,return_sequences=True,dropout=0.50),merge_mode='concat')(model)\n",
    "    model = Flatten()(model)\n",
    "    model = Dense(100,activation='relu')(model)\n",
    "    output = Dense(2,activation='sigmoid')(model)\n",
    "    model = Model(input,output)\n",
    "    # sgd = SGD(lr=0.1, momentum=0.9, decay=0.0, nesterov=False)\n",
    "    print(\"compiling the model\")\n",
    "    model.compile(loss='sparse_categorical_crossentropy',optimizer='adam', metrics=['accuracy'])\n",
    "    model.summary()\n",
    "    return model"
   ]
  },
  {
   "cell_type": "code",
   "execution_count": 504,
   "metadata": {},
   "outputs": [],
   "source": [
    "## returns the emnbedding matrix for the lstm model\n",
    "def get_embedding_matrix(vocab_size,dimension,embedding_file,keras_tkzr):\n",
    "    word2vec = get_word2vec(embedding_file)\n",
    "    from numpy import zeros\n",
    "    embedding_matrix = zeros((vocab_size, dimension))\n",
    "    for word, i in keras_tkzr.word_index.items():\n",
    "        embedding_vector = word2vec.get(word)\n",
    "        if embedding_vector is not None:\n",
    "            embedding_matrix[i] = embedding_vector\n",
    "    return embedding_matrix"
   ]
  },
  {
   "cell_type": "code",
   "execution_count": 54,
   "metadata": {},
   "outputs": [],
   "source": [
    "poly_users = pickle.load(open(os.path.join(poly_dir,\"poly_users.pkl\"),\"rb\"))\n",
    "regular_users = pickle.load(open(os.path.join(poly_dir,\"regular_users.pkl\"),\"rb\"))\n",
    "mono_users = pickle.load(open(os.path.join(poly_dir,\"mono_users.pkl\"),\"rb\"))"
   ]
  },
  {
   "cell_type": "code",
   "execution_count": 96,
   "metadata": {},
   "outputs": [],
   "source": [
    "first_data = pd.read_csv(os.path.join(input_dir,\"user_first.csv\"),lineterminator=\"\\n\")\n",
    "juul_data = pd.read_csv(os.path.join(input_dir,\"juul_data.csv\"),lineterminator=\"\\n\")"
   ]
  },
  {
   "cell_type": "code",
   "execution_count": 56,
   "metadata": {},
   "outputs": [],
   "source": [
    "## we taking data from juul and weed and not use the pattern\n",
    "juul_data[\"tweetCreatedAt\"] = pd.to_datetime(juul_data[\"tweetCreatedAt\"])\n",
    "# ## filter the juul data to capture just the regualr users\n",
    "juul_data = juul_data.loc[juul_data.userID.isin(regular_users)]\n",
    "\n",
    "# ## we keep only the regular usrs\n",
    "first_data = first_data.loc[first_data.userID.isin(regular_users)]\n",
    "\n",
    "## we look at weed first and juul first tweets\n",
    "first_data[\"weed_first\"] = pd.to_datetime(first_data[\"weed_first\"])\n",
    "first_data[\"juul_first\"] = pd.to_datetime(first_data[\"juul_first\"])"
   ]
  },
  {
   "cell_type": "code",
   "execution_count": 57,
   "metadata": {},
   "outputs": [],
   "source": [
    "## so will train the classfier on the bucket data"
   ]
  },
  {
   "cell_type": "code",
   "execution_count": 58,
   "metadata": {},
   "outputs": [],
   "source": [
    "## bucket the users in bucket :\n",
    "#1 2015 - [2015-2018] \n",
    "#2 2015- 2016 - [17 - 18]\n",
    "#3 2015 - 2017 - [18]"
   ]
  },
  {
   "cell_type": "markdown",
   "metadata": {},
   "source": [
    "## Sequential prediction using LSTM and baseline classfier for 2018 data"
   ]
  },
  {
   "cell_type": "code",
   "execution_count": 97,
   "metadata": {},
   "outputs": [],
   "source": [
    "## so we are taking the users that start on Jan 2018 and change in the month of september, \n",
    "# and we change the threshold of input data to see how accurately we can predict that"
   ]
  },
  {
   "cell_type": "code",
   "execution_count": 352,
   "metadata": {},
   "outputs": [],
   "source": [
    "## input data :juul_data \n",
    "juul_data = pd.read_csv(os.path.join(input_dir,\"juul_data.csv\"),lineterminator=\"\\n\")\n",
    "juul_data[\"tweetCreatedAt\"] = pd.to_datetime(juul_data[\"tweetCreatedAt\"])\n",
    "juul_data = juul_data.loc[juul_data.userID.isin(regular_users)]\n",
    "\n",
    "# ## look at the weed first and juul_first tweet\n",
    "first_data = pd.read_csv(os.path.join(input_dir,\"user_first.csv\"),lineterminator=\"\\n\")\n",
    "first_data = first_data.loc[first_data.userID.isin(regular_users)]  # reg users\n",
    "first_data[\"weed_first\"] = pd.to_datetime(first_data[\"weed_first\"])\n",
    "first_data[\"juul_first\"] = pd.to_datetime(first_data[\"juul_first\"])"
   ]
  },
  {
   "cell_type": "code",
   "execution_count": 353,
   "metadata": {},
   "outputs": [
    {
     "data": {
      "text/plain": [
       "1353987"
      ]
     },
     "execution_count": 353,
     "metadata": {},
     "output_type": "execute_result"
    }
   ],
   "source": [
    "## removing the rewteet text column completely\n",
    "ids_ = juul_data.loc[juul_data['retweetText'].notnull()][\"tweetId\"]\n",
    "juul_data.loc[juul_data.tweetId.isin(ids_),\"tweetText\"] = juul_data.loc[juul_data.tweetId.isin(ids_)][\"retweetText\"]\n",
    "juul_data = juul_data.drop([\"hashtags\",\"retweetText\"],axis=1)\n",
    "len(juul_data) ## 1353987 (sanity check)"
   ]
  },
  {
   "cell_type": "code",
   "execution_count": 354,
   "metadata": {},
   "outputs": [
    {
     "data": {
      "text/plain": [
       "673724"
      ]
     },
     "execution_count": 354,
     "metadata": {},
     "output_type": "execute_result"
    }
   ],
   "source": [
    "len(juul_data) ## 1353987\n",
    "len(juul_data.userID.unique()) ## 673724  reg users"
   ]
  },
  {
   "cell_type": "code",
   "execution_count": 355,
   "metadata": {},
   "outputs": [
    {
     "data": {
      "text/plain": [
       "True"
      ]
     },
     "execution_count": 355,
     "metadata": {},
     "output_type": "execute_result"
    }
   ],
   "source": [
    "pd.isnull(list(first_data.loc[first_data.userID == 2534][\"weed_first\"])[0])"
   ]
  },
  {
   "cell_type": "code",
   "execution_count": 356,
   "metadata": {},
   "outputs": [
    {
     "name": "stdout",
     "output_type": "stream",
     "text": [
      "total users 15966\n",
      "users will change 6135\n"
     ]
    }
   ],
   "source": [
    "## get the users who start at jan 2018 \n",
    "users_2018 = list(first_data[\"userID\"].loc[ \n",
    "    (first_data.juul_first.dt.year == 2018)  \n",
    "    & (first_data.juul_first.dt.month== 1)   ## selecting 2018, Jan data\n",
    "    & ((first_data.weed_first.dt.month >= 9) | (pd.isnull(first_data.weed_first)))]) # users who will change after september\n",
    "\n",
    "poly_lbl = list(first_data[\"userID\"].loc[(first_data.juul_first.dt.year == 2018)  \n",
    "                                         & (first_data.juul_first.dt.month== 1) \n",
    "                                           & (first_data.weed_first.dt.month >= 9)]) ## users that will change\n",
    "print(\"total users\", len(users_2018))\n",
    "print(\"users will change\",len(poly_lbl))"
   ]
  },
  {
   "cell_type": "code",
   "execution_count": 357,
   "metadata": {},
   "outputs": [
    {
     "name": "stdout",
     "output_type": "stream",
     "text": [
      "total data 40430\n",
      "users 15966\n",
      "total data 40430\n",
      "users 15966\n"
     ]
    }
   ],
   "source": [
    "data_2018 = juul_data.loc[juul_data.userID.isin(users_2018) & (juul_data.tweetCreatedAt.dt.year == 2018)]\n",
    "print(\"total data\", len(data_2018))\n",
    "print(\"users\",len(data_2018.userID.unique()))\n",
    "\n",
    "## sanity check -- all users start in 2018 year..\n",
    "data_2018 = juul_data.loc[juul_data.userID.isin(users_2018)]\n",
    "print(\"total data\", len(data_2018))\n",
    "print(\"users\",len(data_2018.userID.unique()))"
   ]
  },
  {
   "cell_type": "code",
   "execution_count": 359,
   "metadata": {},
   "outputs": [
    {
     "data": {
      "text/plain": [
       "6135"
      ]
     },
     "execution_count": 359,
     "metadata": {},
     "output_type": "execute_result"
    }
   ],
   "source": [
    "## get label - they reamain same for this task as the no of users, we only change the tweets data\n",
    "users_ = data_2018.userID.unique()\n",
    "users_labelled = pd.DataFrame(users_,columns=[\"userID\"])\n",
    "users_labelled[\"label\"] = 0  ## initialize\n",
    "users_labelled.loc[users_labelled.userID.isin(poly_lbl) , \"label\"] = 1\n",
    "len(users_labelled.loc[users_labelled.label == 1])  ## sanity check"
   ]
  },
  {
   "cell_type": "code",
   "execution_count": 421,
   "metadata": {},
   "outputs": [],
   "source": [
    "embedding_file = os.path.join(embeddings_dir,\"glove.twitter.27B.100d.txt\")\n"
   ]
  },
  {
   "cell_type": "markdown",
   "metadata": {},
   "source": [
    "### functions for sequence LSTM"
   ]
  },
  {
   "cell_type": "code",
   "execution_count": 479,
   "metadata": {},
   "outputs": [],
   "source": [
    "def get_length(s):\n",
    "    a = list(s.split())\n",
    "    return(len(a))"
   ]
  },
  {
   "cell_type": "code",
   "execution_count": 627,
   "metadata": {},
   "outputs": [],
   "source": [
    "## get window size\n",
    "def get_window_size(df):\n",
    "    tweet_count = df.groupby(by=\"userID\")[\"tweetId\"].count()\n",
    "    tweet_count = tweet_count.reset_index()\n",
    "    window = int(tweet_count.tweetId.quantile(0.95))\n",
    "    return window"
   ]
  },
  {
   "cell_type": "code",
   "execution_count": 671,
   "metadata": {},
   "outputs": [],
   "source": [
    "def get_max_length(df):\n",
    "    ## max_length\n",
    "    lengths = df[\"tweetText\"].progress_apply(get_length)\n",
    "    max_len = int(lengths.quantile(0.95))\n",
    "    return (max_len)"
   ]
  },
  {
   "cell_type": "code",
   "execution_count": 482,
   "metadata": {},
   "outputs": [],
   "source": [
    "def get_sequence(df,column,window,max_len):\n",
    "    users = df.userID.unique()  # select the unique users\n",
    "    X = []\n",
    "    for user in tqdm(users):\n",
    "        temp = list(df[column].loc[df.userID.isin([user])])\n",
    "        if len(temp) < window:\n",
    "            pad = np.zeros(((window-len(temp)),max_len))  # pad in case data is less than the window\n",
    "            data = np.vstack((temp,pad))\n",
    "        else:\n",
    "            data = temp[:window]             ## truncate to be equal to window size\n",
    "        X.append(data)\n",
    "    return np.array(X)"
   ]
  },
  {
   "cell_type": "code",
   "execution_count": 775,
   "metadata": {},
   "outputs": [],
   "source": [
    "def plot_coeff(k,model,feature_names):\n",
    "    coef = (model.coef_.ravel()) \n",
    "    top_positive_coefficients = np.argsort(coef)[-k:]\n",
    "    top_negative_coefficients = np.argsort(coef)[:k]\n",
    "    top_coefficients = np.hstack([top_negative_coefficients, top_positive_coefficients])\n",
    "    # create plot\n",
    "    plt.figure(figsize=(17, 8))\n",
    "    colors = ['red' if c < 0 else 'blue' for c in coef[top_coefficients]]\n",
    "    plt.bar(np.arange(2 * k), coef[top_coefficients], color=colors)\n",
    "    feature_names = np.array(feature_names)\n",
    "    plt.xticks(np.arange(1, 1 + 2 * k), feature_names[top_coefficients], rotation=60, ha='right',fontsize= 20)\n",
    "    plt.show()\n",
    "    return coef"
   ]
  },
  {
   "cell_type": "code",
   "execution_count": 696,
   "metadata": {},
   "outputs": [],
   "source": [
    "def get_lstm_tweet_seq(max_len,window,vocab_size,embedding_matrix):\n",
    "    max_len= max_len\n",
    "    n_words = vocab_size\n",
    "    Dimension = 100\n",
    "    input = Input(shape=(window,max_len,))\n",
    "    model = Embedding(n_words,Dimension,weights=[embedding_matrix],input_length=(window,max_len,))(input)\n",
    "    model = Reshape(target_shape=(window,(max_len*Dimension)))(model)\n",
    "    # model =  Bidirectional (LSTM (100,return_sequences=True,dropout=0.25),merge_mode='concat')(model)\n",
    "    model =  Bidirectional (LSTM (100,return_sequences=True,dropout=0.25),merge_mode='concat')(model)\n",
    "    model = Flatten()(model)\n",
    "    output = Dense(2,activation='sigmoid')(model)\n",
    "    model = Model(input,output)\n",
    "    # sgd = SGD(lr=0.1, momentum=0.9, decay=0.0, nesterov=False)\n",
    "    print(\"compiling the model\")\n",
    "    model.compile(loss='sparse_categorical_crossentropy', optimizer='adam', metrics=['accuracy'])\n",
    "    print(model.summary())\n",
    "    return model"
   ]
  },
  {
   "cell_type": "code",
   "execution_count": 693,
   "metadata": {},
   "outputs": [],
   "source": [
    "def training_plot(history):\n",
    "    # Plot training & validation accuracy values\n",
    "    plt.plot(history.history['acc'])\n",
    "    plt.plot(history.history['val_acc'])\n",
    "    plt.title('Model accuracy')\n",
    "    plt.ylabel('Accuracy')\n",
    "    plt.xlabel('Epoch')\n",
    "    plt.legend(['Train', 'Validation'], loc='upper left')\n",
    "    plt.show()\n",
    "    \n",
    "    # Plot training & validation loss values\n",
    "    plt.plot(history.history['loss'])\n",
    "    plt.plot(history.history['val_loss'])\n",
    "    plt.title('Model loss')\n",
    "    plt.ylabel('Loss')\n",
    "    plt.xlabel('Epoch')\n",
    "    plt.legend(['Train', 'Test'], loc='upper left')\n",
    "    plt.show()"
   ]
  },
  {
   "cell_type": "code",
   "execution_count": 701,
   "metadata": {},
   "outputs": [],
   "source": [
    "def run_sequence_model(df,users_labelled,epoch):\n",
    "    dimension = 100\n",
    "    \n",
    "    ## data\n",
    "    print(\"length of the data\",len(df))\n",
    "    \n",
    "    print(\"users\",len(df.userID.unique()))\n",
    "    \n",
    "    ## cleaning \n",
    "    print(\"cleanining the data\")\n",
    "    tqdm.pandas()\n",
    "    df[\"tweetText\"] = df[\"tweetText\"].progress_apply(clean_text)\n",
    "    \n",
    "    ## print winodow , max_len for analysis purpose\n",
    "    max_len = get_max_length(df)\n",
    "    print(\"max_length\",max_len)\n",
    "    window= get_window_size(df)\n",
    "    print(\"window_size\",window)\n",
    "\n",
    "    ## prepare the tokenizer\n",
    "    print(\"preparing the tokenizer\")\n",
    "    keras_tkzr1 = keras_Tokenizer()\n",
    "    keras_tkzr1.fit_on_texts(df[\"tweetText\"])\n",
    "    vocab_size = len(keras_tkzr1.word_index) + 1\n",
    "    print(\"vocalb\",vocab_size)\n",
    "    \n",
    "    ## embedding matrix\n",
    "    print(\"creating glove embeddign matrix\")\n",
    "    embedding_matrix = get_embedding_matrix(vocab_size,dimension,embedding_file,keras_tkzr1) ## tokenizer contains the vocalb info\n",
    "\n",
    "    ## encoding the docs\n",
    "    print(\"encoding the data\")\n",
    "    encoded_docs = keras_tkzr.texts_to_sequences(df[\"tweetText\"])\n",
    "    df[\"encoded_docs\"] = list(pad_sequences(encoded_docs, maxlen=max_len, padding='post'))\n",
    "    \n",
    "    ## get sequnced data (X)\n",
    "    print(\"sequencing data\")\n",
    "    X = get_sequence(df,\"encoded_docs\",window,max_len)\n",
    "\n",
    "    ## getting output label \n",
    "    print(\"getting the output label\")\n",
    "    temp = df.groupby(by=\"userID\")[\"tweetId\"].count().reset_index()\n",
    "    ## join with the users_labelled data to preserve the order\n",
    "    temp = temp.join(users_labelled.set_index(\"userID\"),on=\"userID\",how=\"inner\")\n",
    "    y = list(temp[\"label\"])\n",
    "\n",
    "    ## split the data\n",
    "    print(\"train-test split\")\n",
    "    X_train,X_test,Y_train,Y_test  = train_test_split(X, np.array(y),test_size =0.20,random_state= 4,shuffle=True ,\n",
    "                                                      stratify= np.array(y))\n",
    "\n",
    "    print(X_train.shape)\n",
    "    print(X_test.shape)\n",
    "    print(Y_train.shape)\n",
    "\n",
    "    \n",
    "    print(\"creating lstm model\")\n",
    "    model = get_lstm_tweet_seq(max_len,window,vocab_size,embedding_matrix)\n",
    "    \n",
    "    print(\"training the model\")\n",
    "    history = model.fit(X_train,Y_train,validation_split=0.25, nb_epoch = epoch, verbose = 1)\n",
    "\n",
    "    ##plotting trainin validation\n",
    "    training_plot(history)\n",
    "    \n",
    "    print(\"generating classfication report\")\n",
    "    loss, accuracy = model.evaluate(X_test, Y_test, verbose=2)\n",
    "    print('Accuracy: %f' % (accuracy*100))\n",
    "    ## lstm model\n",
    "    temp = model.predict(X_test)\n",
    "    y_pred = [np.argmax(value) for value in temp] \n",
    "    print('  Classification Report:\\n',classification_report(Y_test,y_pred),'\\n')\n",
    "    f1_score = (get_f1(Y_test,y_pred))\n",
    "    \n",
    "    print(\"job finished\")\n",
    "    return (model,f1_score)"
   ]
  },
  {
   "cell_type": "code",
   "execution_count": 763,
   "metadata": {},
   "outputs": [],
   "source": [
    "def run_baslines(df,users_labelled):\n",
    "    df[\"tweetText\"] = df[\"tweetText\"].progress_apply(clean_text)\n",
    "    data = df.groupby(by=\"userID\")[\"tweetText\"].apply(lambda x: \"%s\" % ' '.join(x)).reset_index()\n",
    "    data = data.join(users_labelled.set_index(\"userID\"),on=\"userID\",how=\"inner\")\n",
    "    # ## prepare the tokenizer\n",
    "    print(\"preparing the tokenizer\")\n",
    "    tf_idf = TfidfVectorizer(sublinear_tf=True)\n",
    "    tf_idf.fit(data[\"tweetText\"])\n",
    "    X = tf_idf.fit_transform(data[\"tweetText\"])\n",
    "    y = list(data[\"label\"])\n",
    "    print(\"train-test split\")\n",
    "    X_train,X_test,Y_train,Y_test  = train_test_split(X, np.array(y),test_size =0.20,random_state= 4,shuffle=True ,\n",
    "                                                          stratify= np.array(y))\n",
    "    print(\"training the models\")\n",
    "    print(\"svm\")\n",
    "    svm = LinearSVC(C=1,verbose=1)\n",
    "    svm.fit(X_train,Y_train)\n",
    "    \n",
    "    print(\"rf\")\n",
    "    rf = RandomForestClassifier(n_estimators=100, max_depth=2,\n",
    "                             random_state=0)\n",
    "    rf.fit(X_train,Y_train)\n",
    "    \n",
    "    print(\"predicting scores\")\n",
    "    y_pred = svm.predict(X_test)\n",
    "    print('  Classification Report:\\n',classification_report(Y_test,y_pred),'\\n')\n",
    "    svm_score = (get_f1(Y_test,y_pred))\n",
    "    \n",
    "    y_pred = rf.predict(X_test)\n",
    "    print('  Classification Report:\\n',classification_report(Y_test,y_pred),'\\n')\n",
    "    rf_score = (get_f1(Y_test,y_pred))\n",
    "\n",
    "    print(\"job finished\")\n",
    "    final = {\n",
    "        'svm': [svm,svm_score],\n",
    "        'rf' : [rf,rf_score],\n",
    "        'tf-idf': tf_idf,\n",
    "    }\n",
    "    return (final)"
   ]
  },
  {
   "cell_type": "code",
   "execution_count": 685,
   "metadata": {},
   "outputs": [],
   "source": [
    "## sequence of tweets for user\n",
    "## output prediction would be for the users so teh lstm layer would need to flatten to a single user..\n",
    "\n",
    "## poly_turned : if users tweets weed after september (>=9 months) \n",
    "## remain_mono :\n",
    "## seeing the data in different buckets:\n",
    "#   1  [jan - mar )\n",
    "#   2  [mar- may )\n",
    "#   3  [May - july]\n",
    "#   4  [July - sept]\n",
    "\n",
    "## use lstm\n",
    "## use svm\n",
    "## majority\n",
    "## xg boost"
   ]
  },
  {
   "cell_type": "code",
   "execution_count": 738,
   "metadata": {},
   "outputs": [],
   "source": [
    "bucket_data = []"
   ]
  },
  {
   "cell_type": "code",
   "execution_count": 739,
   "metadata": {},
   "outputs": [
    {
     "name": "stdout",
     "output_type": "stream",
     "text": [
      "length of the data 19821\n",
      "total users 15966\n"
     ]
    }
   ],
   "source": [
    "#   1  [jan - mar )\n",
    "bucket_ = data_2018.loc[(data_2018.tweetCreatedAt.dt.month >= 1) & (data_2018.tweetCreatedAt.dt.month < 3)] ## first\n",
    "print(\"length of the data\",len(bucket_))\n",
    "print(\"total users\",len(bucket_.userID.unique()))\n",
    "bucket_data.append(bucket_)"
   ]
  },
  {
   "cell_type": "code",
   "execution_count": 740,
   "metadata": {},
   "outputs": [
    {
     "data": {
      "text/plain": [
       "(15966, 10995)"
      ]
     },
     "execution_count": 740,
     "metadata": {},
     "output_type": "execute_result"
    }
   ],
   "source": [
    "encoded_docs.shape"
   ]
  },
  {
   "cell_type": "code",
   "execution_count": 741,
   "metadata": {},
   "outputs": [
    {
     "name": "stdout",
     "output_type": "stream",
     "text": [
      "length of the data 24163\n",
      "total users 15966\n"
     ]
    }
   ],
   "source": [
    "#   2  [mar- may )\n",
    "bucket_ = data_2018.loc[(data_2018.tweetCreatedAt.dt.month >= 1) & (data_2018.tweetCreatedAt.dt.month < 5)] ## first\n",
    "print(\"length of the data\",len(bucket_))\n",
    "print(\"total users\",len(bucket_1.userID.unique()))\n",
    "bucket_data.append(bucket_)"
   ]
  },
  {
   "cell_type": "code",
   "execution_count": 742,
   "metadata": {},
   "outputs": [
    {
     "name": "stdout",
     "output_type": "stream",
     "text": [
      "length of the data 29270\n",
      "total users 15966\n"
     ]
    }
   ],
   "source": [
    "#   3  [May - july]\n",
    "bucket_ = data_2018.loc[(data_2018.tweetCreatedAt.dt.month >= 1) & (data_2018.tweetCreatedAt.dt.month < 7)] ## first\n",
    "print(\"length of the data\",len(bucket_))\n",
    "print(\"total users\",len(bucket_1.userID.unique()))\n",
    "bucket_data.append(bucket_)"
   ]
  },
  {
   "cell_type": "code",
   "execution_count": 743,
   "metadata": {},
   "outputs": [
    {
     "name": "stdout",
     "output_type": "stream",
     "text": [
      "length of the data 33513\n",
      "total users 15966\n"
     ]
    }
   ],
   "source": [
    "#   4  [July - sept]\n",
    "bucket_ = data_2018.loc[(data_2018.tweetCreatedAt.dt.month >= 1) & (data_2018.tweetCreatedAt.dt.month < 9)] ## first\n",
    "print(\"length of the data\",len(bucket_))\n",
    "print(\"total users\",len(bucket_1.userID.unique()))\n",
    "bucket_data.append(bucket_)"
   ]
  },
  {
   "cell_type": "code",
   "execution_count": 744,
   "metadata": {},
   "outputs": [
    {
     "data": {
      "text/plain": [
       "4"
      ]
     },
     "execution_count": 744,
     "metadata": {},
     "output_type": "execute_result"
    }
   ],
   "source": [
    "len(bucket_data)"
   ]
  },
  {
   "cell_type": "code",
   "execution_count": 695,
   "metadata": {
    "scrolled": true
   },
   "outputs": [
    {
     "name": "stdout",
     "output_type": "stream",
     "text": [
      "length of the data 19821\n",
      "users 15966\n",
      "cleanining the data\n"
     ]
    },
    {
     "data": {
      "application/vnd.jupyter.widget-view+json": {
       "model_id": "99fd07d0f1c54b7cb015c8acb133621b",
       "version_major": 2,
       "version_minor": 0
      },
      "text/plain": [
       "HBox(children=(IntProgress(value=0, max=19821), HTML(value='')))"
      ]
     },
     "metadata": {},
     "output_type": "display_data"
    },
    {
     "data": {
      "application/vnd.jupyter.widget-view+json": {
       "model_id": "06695b818f8848a1bd7863a2f77aa973",
       "version_major": 2,
       "version_minor": 0
      },
      "text/plain": [
       "HBox(children=(IntProgress(value=0, max=19821), HTML(value='')))"
      ]
     },
     "metadata": {},
     "output_type": "display_data"
    },
    {
     "name": "stdout",
     "output_type": "stream",
     "text": [
      "max_length 59\n",
      "window_size 2\n",
      "preparing the tokenizer\n",
      "vocalb 10995\n",
      "creating glove embeddign matrix\n",
      "encoding the data\n",
      "sequencing data\n"
     ]
    },
    {
     "data": {
      "application/vnd.jupyter.widget-view+json": {
       "model_id": "3887c36f0f124ce689d6d7b870535441",
       "version_major": 2,
       "version_minor": 0
      },
      "text/plain": [
       "HBox(children=(IntProgress(value=0, max=15966), HTML(value='')))"
      ]
     },
     "metadata": {},
     "output_type": "display_data"
    },
    {
     "name": "stdout",
     "output_type": "stream",
     "text": [
      "getting the output label\n",
      "train-test split\n",
      "(12772, 2, 59)\n",
      "(3194, 2, 59)\n",
      "(12772,)\n",
      "creating lstm model\n",
      "compiling the model\n",
      "_________________________________________________________________\n",
      "Layer (type)                 Output Shape              Param #   \n",
      "=================================================================\n",
      "input_49 (InputLayer)        (None, 2, 59)             0         \n",
      "_________________________________________________________________\n",
      "embedding_47 (Embedding)     (None, 2, 59, 100)        1099500   \n",
      "_________________________________________________________________\n",
      "reshape_43 (Reshape)         (None, 2, 5900)           0         \n",
      "_________________________________________________________________\n",
      "bidirectional_49 (Bidirectio (None, 2, 200)            4800800   \n",
      "_________________________________________________________________\n",
      "flatten_6 (Flatten)          (None, 400)               0         \n",
      "_________________________________________________________________\n",
      "dense_76 (Dense)             (None, 100)               40100     \n",
      "_________________________________________________________________\n",
      "dense_77 (Dense)             (None, 2)                 202       \n",
      "=================================================================\n",
      "Total params: 5,940,602\n",
      "Trainable params: 5,940,602\n",
      "Non-trainable params: 0\n",
      "_________________________________________________________________\n",
      "None\n",
      "training the model\n",
      "Train on 9579 samples, validate on 3193 samples\n",
      "Epoch 1/5\n",
      "9579/9579 [==============================] - 79s 8ms/step - loss: 0.6690 - acc: 0.6150 - val_loss: 0.6675 - val_acc: 0.6123\n",
      "Epoch 2/5\n",
      "9579/9579 [==============================] - 65s 7ms/step - loss: 0.6575 - acc: 0.6159 - val_loss: 0.6741 - val_acc: 0.6035\n",
      "Epoch 3/5\n",
      "9579/9579 [==============================] - 65s 7ms/step - loss: 0.6085 - acc: 0.6586 - val_loss: 0.7095 - val_acc: 0.5797\n",
      "Epoch 4/5\n",
      "9579/9579 [==============================] - 65s 7ms/step - loss: 0.5173 - acc: 0.7182 - val_loss: 0.8257 - val_acc: 0.5647\n",
      "Epoch 5/5\n",
      "9579/9579 [==============================] - 65s 7ms/step - loss: 0.4437 - acc: 0.7609 - val_loss: 0.9155 - val_acc: 0.5775\n"
     ]
    },
    {
     "data": {
      "image/png": "[encoded data removed]",
      "text/plain": [
       "<Figure size 432x288 with 1 Axes>"
      ]
     },
     "metadata": {
      "needs_background": "light"
     },
     "output_type": "display_data"
    },
    {
     "data": {
      "image/png": "[encoded data removed]",
      "text/plain": [
       "<Figure size 432x288 with 1 Axes>"
      ]
     },
     "metadata": {
      "needs_background": "light"
     },
     "output_type": "display_data"
    },
    {
     "name": "stdout",
     "output_type": "stream",
     "text": [
      "generating classfication report\n",
      "Accuracy: 57.858485\n",
      "  Classification Report:\n",
      "              precision    recall  f1-score   support\n",
      "\n",
      "          0       0.62      0.84      0.71      1967\n",
      "          1       0.39      0.16      0.23      1227\n",
      "\n",
      "avg / total       0.53      0.58      0.53      3194\n",
      " \n",
      "\n",
      "job finished\n",
      "length of the data 24163\n",
      "users 15966\n",
      "cleanining the data\n"
     ]
    },
    {
     "data": {
      "application/vnd.jupyter.widget-view+json": {
       "model_id": "3bc926518f954f47b50548b0aee41059",
       "version_major": 2,
       "version_minor": 0
      },
      "text/plain": [
       "HBox(children=(IntProgress(value=0, max=24163), HTML(value='')))"
      ]
     },
     "metadata": {},
     "output_type": "display_data"
    },
    {
     "data": {
      "application/vnd.jupyter.widget-view+json": {
       "model_id": "b31a04124d004893baeadc9b0402ae4d",
       "version_major": 2,
       "version_minor": 0
      },
      "text/plain": [
       "HBox(children=(IntProgress(value=0, max=24163), HTML(value='')))"
      ]
     },
     "metadata": {},
     "output_type": "display_data"
    },
    {
     "name": "stdout",
     "output_type": "stream",
     "text": [
      "max_length 59\n",
      "window_size 3\n",
      "preparing the tokenizer\n",
      "vocalb 12447\n",
      "creating glove embeddign matrix\n",
      "encoding the data\n",
      "sequencing data\n"
     ]
    },
    {
     "data": {
      "application/vnd.jupyter.widget-view+json": {
       "model_id": "d2a0538ef54a45ab930ca058630ccce7",
       "version_major": 2,
       "version_minor": 0
      },
      "text/plain": [
       "HBox(children=(IntProgress(value=0, max=15966), HTML(value='')))"
      ]
     },
     "metadata": {},
     "output_type": "display_data"
    },
    {
     "name": "stdout",
     "output_type": "stream",
     "text": [
      "getting the output label\n",
      "train-test split\n",
      "(12772, 3, 59)\n",
      "(3194, 3, 59)\n",
      "(12772,)\n",
      "creating lstm model\n",
      "compiling the model\n",
      "_________________________________________________________________\n",
      "Layer (type)                 Output Shape              Param #   \n",
      "=================================================================\n",
      "input_50 (InputLayer)        (None, 3, 59)             0         \n",
      "_________________________________________________________________\n",
      "embedding_48 (Embedding)     (None, 3, 59, 100)        1244700   \n",
      "_________________________________________________________________\n",
      "reshape_44 (Reshape)         (None, 3, 5900)           0         \n",
      "_________________________________________________________________\n",
      "bidirectional_50 (Bidirectio (None, 3, 200)            4800800   \n",
      "_________________________________________________________________\n",
      "flatten_7 (Flatten)          (None, 600)               0         \n",
      "_________________________________________________________________\n",
      "dense_78 (Dense)             (None, 100)               60100     \n",
      "_________________________________________________________________\n",
      "dense_79 (Dense)             (None, 2)                 202       \n",
      "=================================================================\n",
      "Total params: 6,105,802\n",
      "Trainable params: 6,105,802\n",
      "Non-trainable params: 0\n",
      "_________________________________________________________________\n",
      "None\n",
      "training the model\n",
      "Train on 9579 samples, validate on 3193 samples\n",
      "Epoch 1/5\n",
      "9579/9579 [==============================] - 91s 10ms/step - loss: 0.6706 - acc: 0.6125 - val_loss: 0.6680 - val_acc: 0.6123\n",
      "Epoch 2/5\n",
      "9579/9579 [==============================] - 77s 8ms/step - loss: 0.6546 - acc: 0.6152 - val_loss: 0.6711 - val_acc: 0.6107\n",
      "Epoch 3/5\n",
      "9579/9579 [==============================] - 77s 8ms/step - loss: 0.5920 - acc: 0.6692 - val_loss: 0.7345 - val_acc: 0.5828\n",
      "Epoch 4/5\n",
      "9579/9579 [==============================] - 77s 8ms/step - loss: 0.4836 - acc: 0.7376 - val_loss: 0.9674 - val_acc: 0.5578\n",
      "Epoch 5/5\n",
      "9579/9579 [==============================] - 77s 8ms/step - loss: 0.4105 - acc: 0.7772 - val_loss: 0.9902 - val_acc: 0.5691\n"
     ]
    },
    {
     "data": {
      "image/png": "[encoded data removed]",
      "text/plain": [
       "<Figure size 432x288 with 1 Axes>"
      ]
     },
     "metadata": {
      "needs_background": "light"
     },
     "output_type": "display_data"
    },
    {
     "data": {
      "image/png": "[encoded data removed]",
      "text/plain": [
       "<Figure size 432x288 with 1 Axes>"
      ]
     },
     "metadata": {
      "needs_background": "light"
     },
     "output_type": "display_data"
    },
    {
     "name": "stdout",
     "output_type": "stream",
     "text": [
      "generating classfication report\n",
      "Accuracy: 57.858485\n",
      "  Classification Report:\n",
      "              precision    recall  f1-score   support\n",
      "\n",
      "          0       0.62      0.80      0.70      1967\n",
      "          1       0.41      0.22      0.28      1227\n",
      "\n",
      "avg / total       0.54      0.58      0.54      3194\n",
      " \n",
      "\n",
      "job finished\n",
      "length of the data 29270\n",
      "users 15966\n",
      "cleanining the data\n"
     ]
    },
    {
     "data": {
      "application/vnd.jupyter.widget-view+json": {
       "model_id": "8e3af704c14b439a891d822b7306f7ad",
       "version_major": 2,
       "version_minor": 0
      },
      "text/plain": [
       "HBox(children=(IntProgress(value=0, max=29270), HTML(value='')))"
      ]
     },
     "metadata": {},
     "output_type": "display_data"
    },
    {
     "data": {
      "application/vnd.jupyter.widget-view+json": {
       "model_id": "71d805344154457ca83e5c28fdc1a8bc",
       "version_major": 2,
       "version_minor": 0
      },
      "text/plain": [
       "HBox(children=(IntProgress(value=0, max=29270), HTML(value='')))"
      ]
     },
     "metadata": {},
     "output_type": "display_data"
    },
    {
     "name": "stdout",
     "output_type": "stream",
     "text": [
      "max_length 59\n",
      "window_size 5\n",
      "preparing the tokenizer\n",
      "vocalb 13903\n",
      "creating glove embeddign matrix\n",
      "encoding the data\n",
      "sequencing data\n"
     ]
    },
    {
     "data": {
      "application/vnd.jupyter.widget-view+json": {
       "model_id": "d905957a78034aeabcd942fb91bf857e",
       "version_major": 2,
       "version_minor": 0
      },
      "text/plain": [
       "HBox(children=(IntProgress(value=0, max=15966), HTML(value='')))"
      ]
     },
     "metadata": {},
     "output_type": "display_data"
    },
    {
     "name": "stdout",
     "output_type": "stream",
     "text": [
      "getting the output label\n",
      "train-test split\n",
      "(12772, 5, 59)\n",
      "(3194, 5, 59)\n",
      "(12772,)\n",
      "creating lstm model\n",
      "compiling the model\n",
      "_________________________________________________________________\n",
      "Layer (type)                 Output Shape              Param #   \n",
      "=================================================================\n",
      "input_51 (InputLayer)        (None, 5, 59)             0         \n",
      "_________________________________________________________________\n",
      "embedding_49 (Embedding)     (None, 5, 59, 100)        1390300   \n",
      "_________________________________________________________________\n",
      "reshape_45 (Reshape)         (None, 5, 5900)           0         \n",
      "_________________________________________________________________\n",
      "bidirectional_51 (Bidirectio (None, 5, 200)            4800800   \n",
      "_________________________________________________________________\n",
      "flatten_8 (Flatten)          (None, 1000)              0         \n",
      "_________________________________________________________________\n",
      "dense_80 (Dense)             (None, 100)               100100    \n",
      "_________________________________________________________________\n",
      "dense_81 (Dense)             (None, 2)                 202       \n",
      "=================================================================\n",
      "Total params: 6,291,402\n",
      "Trainable params: 6,291,402\n",
      "Non-trainable params: 0\n",
      "_________________________________________________________________\n",
      "None\n",
      "training the model\n",
      "Train on 9579 samples, validate on 3193 samples\n",
      "Epoch 1/5\n",
      "9579/9579 [==============================] - 117s 12ms/step - loss: 0.6681 - acc: 0.6147 - val_loss: 0.6694 - val_acc: 0.6123\n",
      "Epoch 2/5\n",
      "9579/9579 [==============================] - 103s 11ms/step - loss: 0.6549 - acc: 0.6168 - val_loss: 0.6831 - val_acc: 0.6110\n",
      "Epoch 3/5\n",
      "9579/9579 [==============================] - 103s 11ms/step - loss: 0.5970 - acc: 0.6660 - val_loss: 0.7508 - val_acc: 0.5424\n",
      "Epoch 4/5\n",
      "9579/9579 [==============================] - 103s 11ms/step - loss: 0.4825 - acc: 0.7412 - val_loss: 0.8564 - val_acc: 0.5719\n",
      "Epoch 5/5\n",
      "9579/9579 [==============================] - 103s 11ms/step - loss: 0.3975 - acc: 0.7849 - val_loss: 0.9853 - val_acc: 0.5747\n"
     ]
    },
    {
     "data": {
      "image/png": "[encoded data removed]",
      "text/plain": [
       "<Figure size 432x288 with 1 Axes>"
      ]
     },
     "metadata": {
      "needs_background": "light"
     },
     "output_type": "display_data"
    },
    {
     "data": {
      "image/png": "[encoded data removed]",
      "text/plain": [
       "<Figure size 432x288 with 1 Axes>"
      ]
     },
     "metadata": {
      "needs_background": "light"
     },
     "output_type": "display_data"
    },
    {
     "name": "stdout",
     "output_type": "stream",
     "text": [
      "generating classfication report\n",
      "Accuracy: 58.140263\n",
      "  Classification Report:\n",
      "              precision    recall  f1-score   support\n",
      "\n",
      "          0       0.62      0.84      0.71      1967\n",
      "          1       0.39      0.16      0.23      1227\n",
      "\n",
      "avg / total       0.53      0.58      0.53      3194\n",
      " \n",
      "\n",
      "job finished\n",
      "length of the data 33513\n",
      "users 15966\n",
      "cleanining the data\n"
     ]
    },
    {
     "data": {
      "application/vnd.jupyter.widget-view+json": {
       "model_id": "80b265978bdb48e08a993784b20bd9cf",
       "version_major": 2,
       "version_minor": 0
      },
      "text/plain": [
       "HBox(children=(IntProgress(value=0, max=33513), HTML(value='')))"
      ]
     },
     "metadata": {},
     "output_type": "display_data"
    },
    {
     "data": {
      "application/vnd.jupyter.widget-view+json": {
       "model_id": "90b2d9c5bd564cc9b794a562202f9544",
       "version_major": 2,
       "version_minor": 0
      },
      "text/plain": [
       "HBox(children=(IntProgress(value=0, max=33513), HTML(value='')))"
      ]
     },
     "metadata": {},
     "output_type": "display_data"
    },
    {
     "name": "stdout",
     "output_type": "stream",
     "text": [
      "max_length 59\n",
      "window_size 6\n",
      "preparing the tokenizer\n",
      "vocalb 15234\n",
      "creating glove embeddign matrix\n",
      "encoding the data\n",
      "sequencing data\n"
     ]
    },
    {
     "data": {
      "application/vnd.jupyter.widget-view+json": {
       "model_id": "3c61b4e702934b688f11de288fb3535c",
       "version_major": 2,
       "version_minor": 0
      },
      "text/plain": [
       "HBox(children=(IntProgress(value=0, max=15966), HTML(value='')))"
      ]
     },
     "metadata": {},
     "output_type": "display_data"
    },
    {
     "name": "stdout",
     "output_type": "stream",
     "text": [
      "getting the output label\n",
      "train-test split\n",
      "(12772, 6, 59)\n",
      "(3194, 6, 59)\n",
      "(12772,)\n",
      "creating lstm model\n",
      "compiling the model\n",
      "_________________________________________________________________\n",
      "Layer (type)                 Output Shape              Param #   \n",
      "=================================================================\n",
      "input_52 (InputLayer)        (None, 6, 59)             0         \n",
      "_________________________________________________________________\n",
      "embedding_50 (Embedding)     (None, 6, 59, 100)        1523400   \n",
      "_________________________________________________________________\n",
      "reshape_46 (Reshape)         (None, 6, 5900)           0         \n",
      "_________________________________________________________________\n",
      "bidirectional_52 (Bidirectio (None, 6, 200)            4800800   \n",
      "_________________________________________________________________\n",
      "flatten_9 (Flatten)          (None, 1200)              0         \n",
      "_________________________________________________________________\n",
      "dense_82 (Dense)             (None, 100)               120100    \n",
      "_________________________________________________________________\n",
      "dense_83 (Dense)             (None, 2)                 202       \n",
      "=================================================================\n",
      "Total params: 6,444,502\n",
      "Trainable params: 6,444,502\n",
      "Non-trainable params: 0\n",
      "_________________________________________________________________\n",
      "None\n",
      "training the model\n",
      "Train on 9579 samples, validate on 3193 samples\n",
      "Epoch 1/5\n",
      "9579/9579 [==============================] - 131s 14ms/step - loss: 0.6687 - acc: 0.6141 - val_loss: 0.6681 - val_acc: 0.6123\n",
      "Epoch 2/5\n",
      "9579/9579 [==============================] - 118s 12ms/step - loss: 0.6585 - acc: 0.6162 - val_loss: 0.6743 - val_acc: 0.6091\n",
      "Epoch 3/5\n",
      "9579/9579 [==============================] - 118s 12ms/step - loss: 0.6060 - acc: 0.6592 - val_loss: 0.7559 - val_acc: 0.5631\n",
      "Epoch 4/5\n",
      "9579/9579 [==============================] - 118s 12ms/step - loss: 0.4843 - acc: 0.7413 - val_loss: 0.8330 - val_acc: 0.5628\n",
      "Epoch 5/5\n",
      "9579/9579 [==============================] - 118s 12ms/step - loss: 0.3903 - acc: 0.7901 - val_loss: 0.9767 - val_acc: 0.5593\n"
     ]
    },
    {
     "data": {
      "image/png": "[encoded data removed]",
      "text/plain": [
       "<Figure size 432x288 with 1 Axes>"
      ]
     },
     "metadata": {
      "needs_background": "light"
     },
     "output_type": "display_data"
    },
    {
     "data": {
      "image/png": "[encoded data removed]",
      "text/plain": [
       "<Figure size 432x288 with 1 Axes>"
      ]
     },
     "metadata": {
      "needs_background": "light"
     },
     "output_type": "display_data"
    },
    {
     "name": "stdout",
     "output_type": "stream",
     "text": [
      "generating classfication report\n",
      "Accuracy: 56.199123\n",
      "  Classification Report:\n",
      "              precision    recall  f1-score   support\n",
      "\n",
      "          0       0.62      0.77      0.68      1967\n",
      "          1       0.38      0.23      0.29      1227\n",
      "\n",
      "avg / total       0.53      0.56      0.53      3194\n",
      " \n",
      "\n",
      "job finished\n"
     ]
    }
   ],
   "source": [
    "## run lstm models on all of the sequences\n",
    "sequence_scores = []\n",
    "sequence_models = []\n",
    "for data in bucket_data:\n",
    "    model,score = run_sequence_model(data,users_labelled,5)\n",
    "    sequence_scores.append(score)\n",
    "    sequence_models.append(model)"
   ]
  },
  {
   "cell_type": "markdown",
   "metadata": {},
   "source": [
    "### majority classfier"
   ]
  },
  {
   "cell_type": "code",
   "execution_count": 706,
   "metadata": {},
   "outputs": [
    {
     "name": "stdout",
     "output_type": "stream",
     "text": [
      "  Classification Report:\n",
      "              precision    recall  f1-score   support\n",
      "\n",
      "          0       0.00      0.00      0.00      1967\n",
      "          1       0.38      1.00      0.56      1227\n",
      "\n",
      "avg / total       0.15      0.38      0.21      3194\n",
      " \n",
      "\n"
     ]
    }
   ],
   "source": [
    "y_pred = [1 for x in range(len(Y_test))]\n",
    "print('  Classification Report:\\n',classification_report(Y_test,y_pred),'\\n')\n",
    "maj_score = (get_f1(Y_test,y_pred))"
   ]
  },
  {
   "cell_type": "markdown",
   "metadata": {},
   "source": [
    "## using svm approach"
   ]
  },
  {
   "cell_type": "code",
   "execution_count": 764,
   "metadata": {
    "scrolled": true
   },
   "outputs": [
    {
     "data": {
      "application/vnd.jupyter.widget-view+json": {
       "model_id": "37f4cfd46a524f76b34aaad6ac95b4f9",
       "version_major": 2,
       "version_minor": 0
      },
      "text/plain": [
       "HBox(children=(IntProgress(value=0, max=33513), HTML(value='')))"
      ]
     },
     "metadata": {},
     "output_type": "display_data"
    },
    {
     "name": "stdout",
     "output_type": "stream",
     "text": [
      "preparing the tokenizer\n",
      "train-test split\n",
      "training the models\n",
      "svm\n",
      "[LibLinear]rf\n",
      "predicting scores\n",
      "  Classification Report:\n",
      "              precision    recall  f1-score   support\n",
      "\n",
      "          0       0.67      0.81      0.73      1967\n",
      "          1       0.54      0.36      0.43      1227\n",
      "\n",
      "avg / total       0.62      0.63      0.62      3194\n",
      " \n",
      "\n",
      "  Classification Report:\n",
      "              precision    recall  f1-score   support\n",
      "\n",
      "          0       0.62      1.00      0.76      1967\n",
      "          1       1.00      0.00      0.00      1227\n",
      "\n",
      "avg / total       0.76      0.62      0.47      3194\n",
      " \n",
      "\n",
      "job finished\n"
     ]
    },
    {
     "data": {
      "application/vnd.jupyter.widget-view+json": {
       "model_id": "13e912619c214e66a2a127786851e6e1",
       "version_major": 2,
       "version_minor": 0
      },
      "text/plain": [
       "HBox(children=(IntProgress(value=0, max=33513), HTML(value='')))"
      ]
     },
     "metadata": {},
     "output_type": "display_data"
    },
    {
     "name": "stdout",
     "output_type": "stream",
     "text": [
      "preparing the tokenizer\n",
      "train-test split\n",
      "training the models\n",
      "svm\n",
      "[LibLinear]rf\n",
      "predicting scores\n",
      "  Classification Report:\n",
      "              precision    recall  f1-score   support\n",
      "\n",
      "          0       0.67      0.81      0.73      1967\n",
      "          1       0.54      0.36      0.43      1227\n",
      "\n",
      "avg / total       0.62      0.63      0.62      3194\n",
      " \n",
      "\n",
      "  Classification Report:\n",
      "              precision    recall  f1-score   support\n",
      "\n",
      "          0       0.62      1.00      0.76      1967\n",
      "          1       1.00      0.00      0.00      1227\n",
      "\n",
      "avg / total       0.76      0.62      0.47      3194\n",
      " \n",
      "\n",
      "job finished\n"
     ]
    },
    {
     "data": {
      "application/vnd.jupyter.widget-view+json": {
       "model_id": "1c5f1467b4694dacbc4fa2c5b33a0b13",
       "version_major": 2,
       "version_minor": 0
      },
      "text/plain": [
       "HBox(children=(IntProgress(value=0, max=33513), HTML(value='')))"
      ]
     },
     "metadata": {},
     "output_type": "display_data"
    },
    {
     "name": "stdout",
     "output_type": "stream",
     "text": [
      "preparing the tokenizer\n",
      "train-test split\n",
      "training the models\n",
      "svm\n",
      "[LibLinear]rf\n",
      "predicting scores\n",
      "  Classification Report:\n",
      "              precision    recall  f1-score   support\n",
      "\n",
      "          0       0.67      0.81      0.73      1967\n",
      "          1       0.54      0.36      0.43      1227\n",
      "\n",
      "avg / total       0.62      0.63      0.62      3194\n",
      " \n",
      "\n",
      "  Classification Report:\n",
      "              precision    recall  f1-score   support\n",
      "\n",
      "          0       0.62      1.00      0.76      1967\n",
      "          1       1.00      0.00      0.00      1227\n",
      "\n",
      "avg / total       0.76      0.62      0.47      3194\n",
      " \n",
      "\n",
      "job finished\n"
     ]
    },
    {
     "data": {
      "application/vnd.jupyter.widget-view+json": {
       "model_id": "39cf1585fa574a5f8e17c6b7edb9ceec",
       "version_major": 2,
       "version_minor": 0
      },
      "text/plain": [
       "HBox(children=(IntProgress(value=0, max=33513), HTML(value='')))"
      ]
     },
     "metadata": {},
     "output_type": "display_data"
    },
    {
     "name": "stdout",
     "output_type": "stream",
     "text": [
      "preparing the tokenizer\n",
      "train-test split\n",
      "training the models\n",
      "svm\n",
      "[LibLinear]rf\n",
      "predicting scores\n",
      "  Classification Report:\n",
      "              precision    recall  f1-score   support\n",
      "\n",
      "          0       0.67      0.81      0.73      1967\n",
      "          1       0.54      0.36      0.43      1227\n",
      "\n",
      "avg / total       0.62      0.63      0.62      3194\n",
      " \n",
      "\n",
      "  Classification Report:\n",
      "              precision    recall  f1-score   support\n",
      "\n",
      "          0       0.62      1.00      0.76      1967\n",
      "          1       1.00      0.00      0.00      1227\n",
      "\n",
      "avg / total       0.76      0.62      0.47      3194\n",
      " \n",
      "\n",
      "job finished\n"
     ]
    }
   ],
   "source": [
    "svm_scores = []\n",
    "svm_models= []\n",
    "rf_models= []\n",
    "rf_scores = []\n",
    "tfidf_list = []\n",
    "for data in bucket_data:\n",
    "    final = run_baslines(bucket_,users_labelled,)\n",
    "    svm_model,svm_score = final[\"svm\"]\n",
    "    rf_mdoel, rf_score = final[\"rf\"]\n",
    "    tf_idf = final[\"tf-idf\"]\n",
    "    tfidf_list.append(tf_idf)\n",
    "    svm_scores.append(score)\n",
    "    svm_models.append(svm_model)\n",
    "    rf_scores.append(rf_score)\n",
    "    rf_models.append(rf_model)"
   ]
  },
  {
   "cell_type": "code",
   "execution_count": 757,
   "metadata": {},
   "outputs": [
    {
     "data": {
      "image/png": "[encoded data removed]",
      "text/plain": [
       "<Figure size 1080x504 with 1 Axes>"
      ]
     },
     "metadata": {
      "needs_background": "light"
     },
     "output_type": "display_data"
    }
   ],
   "source": [
    "plt.figure(figsize=(15,7))\n",
    "months = [\"Jan-Feb\",\"Jan-Apr\",\"Jan-Jun\",\"Jan-Aug\"]\n",
    "plt.plot(months,sequence_scores,label=\"lstm\")\n",
    "plt.plot(months,(4*[maj_score]),label=\"majority classifier\")\n",
    "plt.plot(months,svm_scores,label=\"svm\")\n",
    "plt.plot(months,rf_scores,label=\"rf\")\n",
    "plt.title(\"sequence tweets into fixed window size for each of 16k users in different intervals for 2018\")\n",
    "plt.ylabel(\"weighted F1 score\")\n",
    "plt.legend()\n",
    "plt.show()"
   ]
  },
  {
   "cell_type": "code",
   "execution_count": 776,
   "metadata": {
    "scrolled": false
   },
   "outputs": [
    {
     "name": "stdout",
     "output_type": "stream",
     "text": [
      "Jan-Feb\n"
     ]
    },
    {
     "data": {
      "image/png": "[encoded data removed]",
      "text/plain": [
       "<Figure size 1224x576 with 1 Axes>"
      ]
     },
     "metadata": {
      "needs_background": "light"
     },
     "output_type": "display_data"
    },
    {
     "name": "stdout",
     "output_type": "stream",
     "text": [
      "Jan-Apr\n"
     ]
    },
    {
     "data": {
      "image/png": "[encoded data removed]",
      "text/plain": [
       "<Figure size 1224x576 with 1 Axes>"
      ]
     },
     "metadata": {
      "needs_background": "light"
     },
     "output_type": "display_data"
    },
    {
     "name": "stdout",
     "output_type": "stream",
     "text": [
      "Jan-Jun\n"
     ]
    },
    {
     "data": {
      "image/png": "[encoded data removed]",
      "text/plain": [
       "<Figure size 1224x576 with 1 Axes>"
      ]
     },
     "metadata": {
      "needs_background": "light"
     },
     "output_type": "display_data"
    },
    {
     "name": "stdout",
     "output_type": "stream",
     "text": [
      "Jan-Aug\n"
     ]
    },
    {
     "data": {
      "image/png": "[encoded data removed]",
      "text/plain": [
       "<Figure size 1224x576 with 1 Axes>"
      ]
     },
     "metadata": {
      "needs_background": "light"
     },
     "output_type": "display_data"
    }
   ],
   "source": [
    "for svm,tf_idf,month in zip(svm_models,tfidf_list,months):\n",
    "    print(month)\n",
    "    plot_coeff(20,svm,tf_idf.get_feature_names())"
   ]
  },
  {
   "cell_type": "code",
   "execution_count": 777,
   "metadata": {},
   "outputs": [],
   "source": [
    "## dump the scores\n",
    "# with open(os.path.join(input_dir,\"sequence_score.pkl\"),\"wb\") as f:\n",
    "#     pickle.dump(sequence_scores,f)\n",
    "\n",
    "# with open(os.path.join(input_dir,\"sequence_models.pkl\"),\"wb\") as f:\n",
    "#     pickle.dump(sequence_models,f)\n",
    "    \n",
    "# with open(os.path.join(input_dir,\"svm_models.pkl\"),\"wb\") as f:\n",
    "#     pickle.dump(svm_models,f)\n",
    "\n",
    "# with open(os.path.join(input_dir,\"tf_idfs.pkl\"),\"wb\") as f:\n",
    "#     pickle.dump(tfidf_list,f)"
   ]
  },
  {
   "cell_type": "code",
   "execution_count": 526,
   "metadata": {},
   "outputs": [],
   "source": [
    "sequence_scores = pickle.load(open(os.path.join(input_dir,\"sequence_score.pkl\"),\"rb\"))"
   ]
  },
  {
   "cell_type": "code",
   "execution_count": 707,
   "metadata": {},
   "outputs": [
    {
     "data": {
      "text/plain": [
       "array([0.21323756, 0.21323756, 0.21323756, 0.21323756])"
      ]
     },
     "execution_count": 707,
     "metadata": {},
     "output_type": "execute_result"
    }
   ],
   "source": []
  },
  {
   "cell_type": "code",
   "execution_count": 527,
   "metadata": {},
   "outputs": [
    {
     "data": {
      "text/plain": [
       "[0.5321313761102834,\n",
       " 0.5286587720826345,\n",
       " 0.5345769583362259,\n",
       " 0.5352044505888427]"
      ]
     },
     "execution_count": 527,
     "metadata": {},
     "output_type": "execute_result"
    }
   ],
   "source": [
    "sequence_scores"
   ]
  },
  {
   "cell_type": "markdown",
   "metadata": {},
   "source": [
    "### Bucket1"
   ]
  },
  {
   "cell_type": "markdown",
   "metadata": {},
   "source": [
    "### preparing data"
   ]
  },
  {
   "cell_type": "code",
   "execution_count": 26,
   "metadata": {},
   "outputs": [
    {
     "name": "stdout",
     "output_type": "stream",
     "text": [
      "juul_initial 1792\n",
      "mono final 1140\n"
     ]
    }
   ],
   "source": [
    "mono_ = get_mono(first_data,2016)"
   ]
  },
  {
   "cell_type": "code",
   "execution_count": 27,
   "metadata": {},
   "outputs": [
    {
     "data": {
      "text/plain": [
       "952"
      ]
     },
     "execution_count": 27,
     "metadata": {},
     "output_type": "execute_result"
    }
   ],
   "source": [
    "len(set(mono_users).intersection(set(mono_))) ## this should be labelled as 0\n",
    "# first_data.loc[first_data.userID.isin(mono_)]"
   ]
  },
  {
   "cell_type": "code",
   "execution_count": 28,
   "metadata": {},
   "outputs": [
    {
     "name": "stdout",
     "output_type": "stream",
     "text": [
      "2131\n",
      "1140\n"
     ]
    },
    {
     "data": {
      "application/vnd.jupyter.widget-view+json": {
       "model_id": "",
       "version_major": 2,
       "version_minor": 0
      },
      "text/plain": [
       "HBox(children=(IntProgress(value=0, max=1140), HTML(value='')))"
      ]
     },
     "metadata": {},
     "output_type": "display_data"
    },
    {
     "name": "stdout",
     "output_type": "stream",
     "text": [
      "\n",
      "tweets 1140\n",
      "users 1140\n"
     ]
    }
   ],
   "source": [
    " ## select the data for the users in that year\n",
    "mono_data_2015 = juul_data.loc[(juul_data.userID.isin(mono_)) & (juul_data.tweetCreatedAt.dt.year < 2016)]  \n",
    "print(len(mono_data_2015))\n",
    "print(len(mono_data_2015.userID.unique()))\n",
    "tweets_2015 = get_tweets_user(mono_data_2015)  ## concatenating tweets by user\n",
    "print(\"tweets\",len(tweets_2015))\n",
    "print(\"users\",len(tweets_2015.userID.unique()))"
   ]
  },
  {
   "cell_type": "code",
   "execution_count": 126,
   "metadata": {},
   "outputs": [
    {
     "name": "stdout",
     "output_type": "stream",
     "text": [
      "initial_users 1140\n",
      "poly_users that will change 952\n",
      "users reaminin mono 188\n",
      "mono 188\n",
      "poly 952\n"
     ]
    }
   ],
   "source": [
    "## gettting labels\n",
    "tweets_2015 = get_label_mono(tweets_2015,first_data)\n",
    "tweets_2015[\"label\"].unique()\n",
    "## 0 : mono\n",
    "## 1 : poly\n",
    "y = list(tweets_2015[\"label\"])\n",
    "print(\"mono\",len([ele for ele in y if ele == 0]))\n",
    "print(\"poly\",len([ele for ele in y if ele == 1]))"
   ]
  },
  {
   "cell_type": "code",
   "execution_count": 127,
   "metadata": {},
   "outputs": [],
   "source": [
    "## clean the tweets\n",
    "tweets_2015[\"tweetText\"] = tweets_2015[\"tweetText\"].apply(clean_text)"
   ]
  },
  {
   "cell_type": "code",
   "execution_count": 128,
   "metadata": {},
   "outputs": [
    {
     "name": "stdout",
     "output_type": "stream",
     "text": [
      "4983\n",
      "(1140, 26)\n"
     ]
    }
   ],
   "source": [
    "## load the tokenizer \n",
    "max_len = 26\n",
    "keras_tkzr = keras_Tokenizer()\n",
    "keras_tkzr.fit_on_texts(tweets_2015[\"tweetText\"])\n",
    "vocab_size = len(keras_tkzr.word_index) + 1\n",
    "print(vocab_size)\n",
    "\n",
    "## prepare the encoded data\n",
    "encoded_docs = keras_tkzr.texts_to_sequences(tweets_2015[\"tweetText\"])\n",
    "X = pad_sequences(encoded_docs, maxlen=max_len, padding='post')\n",
    "print(X.shape)"
   ]
  },
  {
   "cell_type": "code",
   "execution_count": null,
   "metadata": {},
   "outputs": [],
   "source": []
  },
  {
   "cell_type": "code",
   "execution_count": 129,
   "metadata": {},
   "outputs": [],
   "source": [
    "X_train,X_test,Y_train,Y_test  = train_test_split(X, np.array(y),test_size =0.20,random_state= 4,shuffle=True ,)"
   ]
  },
  {
   "cell_type": "code",
   "execution_count": 130,
   "metadata": {},
   "outputs": [
    {
     "name": "stdout",
     "output_type": "stream",
     "text": [
      "(912, 26)\n",
      "(228, 26)\n",
      "(912,)\n"
     ]
    }
   ],
   "source": [
    "print(X_train.shape)\n",
    "print(X_test.shape)\n",
    "print(Y_train.shape)"
   ]
  },
  {
   "cell_type": "markdown",
   "metadata": {},
   "source": [
    "## Training"
   ]
  },
  {
   "cell_type": "code",
   "execution_count": 131,
   "metadata": {},
   "outputs": [],
   "source": [
    "#### embeddings\n",
    "embedding_file = os.path.join(embeddings_dir,\"glove.twitter.27B.100d.txt\")"
   ]
  },
  {
   "cell_type": "code",
   "execution_count": 132,
   "metadata": {},
   "outputs": [],
   "source": [
    "word2vec = get_word2vec(embedding_file)\n",
    "from numpy import zeros\n",
    "embedding_matrix = zeros((vocab_size, 100))\n",
    "for word, i in keras_tkzr.word_index.items():\n",
    "    embedding_vector = word2vec.get(word)\n",
    "    if embedding_vector is not None:\n",
    "        embedding_matrix[i] = embedding_vector"
   ]
  },
  {
   "cell_type": "code",
   "execution_count": 133,
   "metadata": {},
   "outputs": [
    {
     "name": "stdout",
     "output_type": "stream",
     "text": [
      "_________________________________________________________________\n",
      "Layer (type)                 Output Shape              Param #   \n",
      "=================================================================\n",
      "input_9 (InputLayer)         (None, 26)                0         \n",
      "_________________________________________________________________\n",
      "embedding_9 (Embedding)      (None, 26, 100)           498300    \n",
      "_________________________________________________________________\n",
      "bidirectional_8 (Bidirection (None, 26, 200)           160800    \n",
      "_________________________________________________________________\n",
      "flatten_8 (Flatten)          (None, 5200)              0         \n",
      "_________________________________________________________________\n",
      "dense_15 (Dense)             (None, 100)               520100    \n",
      "_________________________________________________________________\n",
      "dense_16 (Dense)             (None, 2)                 202       \n",
      "=================================================================\n",
      "Total params: 1,179,402\n",
      "Trainable params: 1,179,402\n",
      "Non-trainable params: 0\n",
      "_________________________________________________________________\n"
     ]
    }
   ],
   "source": [
    "model = get_lstm_model(max_len,100,embedding_matrix)"
   ]
  },
  {
   "cell_type": "code",
   "execution_count": 134,
   "metadata": {
    "scrolled": true
   },
   "outputs": [
    {
     "name": "stdout",
     "output_type": "stream",
     "text": [
      "Train on 684 samples, validate on 228 samples\n",
      "Epoch 1/6\n",
      "684/684 [==============================] - 19s 28ms/step - loss: 0.5046 - acc: 0.8260 - val_loss: 0.4145 - val_acc: 0.8596\n",
      "Epoch 2/6\n",
      "684/684 [==============================] - 4s 6ms/step - loss: 0.4268 - acc: 0.8333 - val_loss: 0.4248 - val_acc: 0.8596\n",
      "Epoch 3/6\n",
      "684/684 [==============================] - 4s 6ms/step - loss: 0.3852 - acc: 0.8348 - val_loss: 0.4417 - val_acc: 0.8596\n",
      "Epoch 4/6\n",
      "684/684 [==============================] - 4s 6ms/step - loss: 0.3764 - acc: 0.8377 - val_loss: 0.4946 - val_acc: 0.8509\n",
      "Epoch 5/6\n",
      "684/684 [==============================] - 4s 6ms/step - loss: 0.3710 - acc: 0.8348 - val_loss: 0.4774 - val_acc: 0.8553\n",
      "Epoch 6/6\n",
      "684/684 [==============================] - 4s 6ms/step - loss: 0.3116 - acc: 0.8582 - val_loss: 0.5048 - val_acc: 0.8158\n"
     ]
    }
   ],
   "source": [
    "history = model.fit(X_train,Y_train,validation_split=0.25, nb_epoch = 6, verbose = 1)"
   ]
  },
  {
   "cell_type": "code",
   "execution_count": 135,
   "metadata": {
    "scrolled": true
   },
   "outputs": [
    {
     "data": {
      "image/png": "[encoded data removed]",
      "text/plain": [
       "<Figure size 432x288 with 1 Axes>"
      ]
     },
     "metadata": {
      "needs_background": "light"
     },
     "output_type": "display_data"
    }
   ],
   "source": [
    "# Plot training & validation accuracy values\n",
    "plt.plot(history.history['acc'])\n",
    "plt.plot(history.history['val_acc'])\n",
    "plt.title('Model accuracy')\n",
    "plt.ylabel('Accuracy')\n",
    "plt.xlabel('Epoch')\n",
    "plt.legend(['Train', 'Validation'], loc='upper left')\n",
    "plt.show()"
   ]
  },
  {
   "cell_type": "code",
   "execution_count": 136,
   "metadata": {},
   "outputs": [],
   "source": [
    "lstm_scores = []\n",
    "majority = []\n",
    "svm_scores = []\n",
    "rf_scores = []"
   ]
  },
  {
   "cell_type": "code",
   "execution_count": 137,
   "metadata": {},
   "outputs": [
    {
     "name": "stdout",
     "output_type": "stream",
     "text": [
      "Accuracy: 78.508772\n",
      "  Classification Report:\n",
      "              precision    recall  f1-score   support\n",
      "\n",
      "          0       0.11      0.02      0.04        42\n",
      "          1       0.81      0.96      0.88       186\n",
      "\n",
      "avg / total       0.68      0.79      0.72       228\n",
      " \n",
      "\n"
     ]
    }
   ],
   "source": [
    "loss, accuracy = model.evaluate(X_test, Y_test, verbose=2)\n",
    "print('Accuracy: %f' % (accuracy*100))\n",
    "## lstm model\n",
    "from sklearn.metrics import classification_report,confusion_matrix\n",
    "temp = model.predict(X_test)\n",
    "y_pred = [np.argmax(value) for value in temp] \n",
    "print('  Classification Report:\\n',classification_report(Y_test,y_pred),'\\n')\n",
    "lstm_scores.append(get_f1(Y_test,y_pred))"
   ]
  },
  {
   "cell_type": "code",
   "execution_count": 138,
   "metadata": {},
   "outputs": [
    {
     "name": "stdout",
     "output_type": "stream",
     "text": [
      "  Classification Report:\n",
      "              precision    recall  f1-score   support\n",
      "\n",
      "          0       0.00      0.00      0.00        42\n",
      "          1       0.82      1.00      0.90       186\n",
      "\n",
      "avg / total       0.67      0.82      0.73       228\n",
      " \n",
      "\n"
     ]
    }
   ],
   "source": [
    "## majority classifier\n",
    "Y_pred = [1  for ele in range(len(Y_test))]\n",
    "print('  Classification Report:\\n',classification_report(Y_test,Y_pred),'\\n')\n",
    "majority.append(get_f1(Y_test,Y_pred))"
   ]
  },
  {
   "cell_type": "code",
   "execution_count": 139,
   "metadata": {},
   "outputs": [
    {
     "name": "stdout",
     "output_type": "stream",
     "text": [
      "[LibLinear]  Classification Report:\n",
      "              precision    recall  f1-score   support\n",
      "\n",
      "          0       0.28      0.48      0.35        42\n",
      "          1       0.86      0.72      0.78       186\n",
      "\n",
      "avg / total       0.75      0.68      0.70       228\n",
      " \n",
      "\n"
     ]
    }
   ],
   "source": [
    "## svm classfier\n",
    "svm = LinearSVC(C=1,verbose=1)\n",
    "svm.fit(X_train,Y_train)\n",
    "## svm\n",
    "Y_pred = svm.predict(X_test)\n",
    "print('  Classification Report:\\n',classification_report(Y_test,Y_pred),'\\n')\n",
    "## accuarcy score\n",
    "(Y_test == Y_pred).mean()\n",
    "svm_scores.append(get_f1(Y_test,Y_pred))"
   ]
  },
  {
   "cell_type": "code",
   "execution_count": 140,
   "metadata": {
    "scrolled": true
   },
   "outputs": [
    {
     "name": "stdout",
     "output_type": "stream",
     "text": [
      "  Classification Report:\n",
      "              precision    recall  f1-score   support\n",
      "\n",
      "          0       0.00      0.00      0.00        42\n",
      "          1       0.82      1.00      0.90       186\n",
      "\n",
      "avg / total       0.67      0.82      0.73       228\n",
      " \n",
      "\n"
     ]
    }
   ],
   "source": [
    "## random forest\n",
    "rf = RandomForestClassifier(n_estimators=100, max_depth=2,\n",
    "                             random_state=0)\n",
    "rf.fit(X_train,Y_train)\n",
    "Y_pred = rf.predict(X_test)\n",
    "print('  Classification Report:\\n',classification_report(Y_test,Y_pred),'\\n')\n",
    "## accuarcy score\n",
    "(Y_test == Y_pred).mean()\n",
    "rf_scores.append(get_f1(Y_test,Y_pred))"
   ]
  },
  {
   "cell_type": "markdown",
   "metadata": {},
   "source": [
    "### bucket2"
   ]
  },
  {
   "cell_type": "code",
   "execution_count": 163,
   "metadata": {},
   "outputs": [
    {
     "name": "stdout",
     "output_type": "stream",
     "text": [
      "juul_initial 5619\n",
      "mono final 2861\n"
     ]
    }
   ],
   "source": [
    "year = 2017\n",
    "mono_ = get_mono(first_data,year)"
   ]
  },
  {
   "cell_type": "code",
   "execution_count": 164,
   "metadata": {},
   "outputs": [
    {
     "data": {
      "text/plain": [
       "2329"
      ]
     },
     "execution_count": 164,
     "metadata": {},
     "output_type": "execute_result"
    }
   ],
   "source": [
    "len(set(mono_users).intersection(set(mono_))) ## this should be labelled as 0\n",
    "# first_data.loc[first_data.userID.isin(mono_)]"
   ]
  },
  {
   "cell_type": "code",
   "execution_count": 165,
   "metadata": {},
   "outputs": [
    {
     "name": "stdout",
     "output_type": "stream",
     "text": [
      "length of data in that span 6806\n",
      "users: 2861\n"
     ]
    },
    {
     "data": {
      "application/vnd.jupyter.widget-view+json": {
       "model_id": "",
       "version_major": 2,
       "version_minor": 0
      },
      "text/plain": [
       "HBox(children=(IntProgress(value=0, max=2861), HTML(value='')))"
      ]
     },
     "metadata": {},
     "output_type": "display_data"
    },
    {
     "name": "stdout",
     "output_type": "stream",
     "text": [
      "\n"
     ]
    }
   ],
   "source": [
    " ## select the data for the users in that year\n",
    "mono_data_ = juul_data.loc[(juul_data.userID.isin(mono_)) & (juul_data.tweetCreatedAt.dt.year < year)]  \n",
    "print(\"length of data in that span\",len(mono_data_))\n",
    "print(\"users:\",len(mono_data_.userID.unique()))\n",
    "tweets_ = get_tweets_user(mono_data_)  ## concatenating tweets by user"
   ]
  },
  {
   "cell_type": "code",
   "execution_count": 166,
   "metadata": {},
   "outputs": [
    {
     "name": "stdout",
     "output_type": "stream",
     "text": [
      "tweets 2861\n",
      "users 2861\n"
     ]
    }
   ],
   "source": [
    "print(\"tweets\",len(tweets_))\n",
    "print(\"users\",len(tweets_.userID.unique()))"
   ]
  },
  {
   "cell_type": "code",
   "execution_count": 167,
   "metadata": {},
   "outputs": [
    {
     "name": "stdout",
     "output_type": "stream",
     "text": [
      "initial_users 2861\n",
      "poly_users that will change 2329\n",
      "users reaminin mono 532\n"
     ]
    }
   ],
   "source": [
    "tweets_ = get_label_mono(tweets_,first_data)"
   ]
  },
  {
   "cell_type": "code",
   "execution_count": 168,
   "metadata": {},
   "outputs": [
    {
     "name": "stdout",
     "output_type": "stream",
     "text": [
      "mono 532\n",
      "poly 2329\n"
     ]
    }
   ],
   "source": [
    "tweets_[\"label\"].unique()\n",
    "## 0 : mono\n",
    "## 1 : poly\n",
    "y = list(tweets_[\"label\"])\n",
    "print(\"mono\",len([ele for ele in y if ele == 0]))\n",
    "print(\"poly\",len([ele for ele in y if ele == 1]))"
   ]
  },
  {
   "cell_type": "code",
   "execution_count": 169,
   "metadata": {},
   "outputs": [],
   "source": [
    "## clean the tweets\n",
    "tweets_[\"tweetText\"] = tweets_[\"tweetText\"].apply(clean_text)"
   ]
  },
  {
   "cell_type": "code",
   "execution_count": 170,
   "metadata": {},
   "outputs": [
    {
     "name": "stdout",
     "output_type": "stream",
     "text": [
      "10335\n",
      "(2861, 26)\n"
     ]
    }
   ],
   "source": [
    "## load the tokenizer \n",
    "max_len = 26\n",
    "keras_tkzr = keras_Tokenizer()\n",
    "keras_tkzr.fit_on_texts(tweets_[\"tweetText\"])\n",
    "vocab_size = len(keras_tkzr.word_index) + 1\n",
    "print(vocab_size)\n",
    "\n",
    "## prepare the encoded data\n",
    "encoded_docs = keras_tkzr.texts_to_sequences(tweets_[\"tweetText\"])\n",
    "X = pad_sequences(encoded_docs, maxlen=max_len, padding='post')\n",
    "print(X.shape)"
   ]
  },
  {
   "cell_type": "code",
   "execution_count": 171,
   "metadata": {},
   "outputs": [],
   "source": [
    "X_train,X_test,Y_train,Y_test  = train_test_split(X, np.array(y),test_size =0.20,random_state= 4,shuffle=True ,)"
   ]
  },
  {
   "cell_type": "code",
   "execution_count": 172,
   "metadata": {},
   "outputs": [
    {
     "name": "stdout",
     "output_type": "stream",
     "text": [
      "(2288, 26)\n",
      "(573, 26)\n",
      "(2288,)\n"
     ]
    }
   ],
   "source": [
    "print(X_train.shape)\n",
    "print(X_test.shape)\n",
    "print(Y_train.shape)"
   ]
  },
  {
   "cell_type": "markdown",
   "metadata": {},
   "source": [
    "## Training"
   ]
  },
  {
   "cell_type": "code",
   "execution_count": 173,
   "metadata": {},
   "outputs": [],
   "source": [
    "embedding_matrix = get_embedding_matrix(100,embedding_file,keras_tkzr)"
   ]
  },
  {
   "cell_type": "code",
   "execution_count": 174,
   "metadata": {},
   "outputs": [
    {
     "name": "stdout",
     "output_type": "stream",
     "text": [
      "_________________________________________________________________\n",
      "Layer (type)                 Output Shape              Param #   \n",
      "=================================================================\n",
      "input_11 (InputLayer)        (None, 26)                0         \n",
      "_________________________________________________________________\n",
      "embedding_11 (Embedding)     (None, 26, 100)           1033500   \n",
      "_________________________________________________________________\n",
      "bidirectional_10 (Bidirectio (None, 26, 200)           160800    \n",
      "_________________________________________________________________\n",
      "flatten_10 (Flatten)         (None, 5200)              0         \n",
      "_________________________________________________________________\n",
      "dense_19 (Dense)             (None, 100)               520100    \n",
      "_________________________________________________________________\n",
      "dense_20 (Dense)             (None, 2)                 202       \n",
      "=================================================================\n",
      "Total params: 1,714,602\n",
      "Trainable params: 1,714,602\n",
      "Non-trainable params: 0\n",
      "_________________________________________________________________\n"
     ]
    }
   ],
   "source": [
    "model = get_lstm_model(max_len,100,embedding_matrix)"
   ]
  },
  {
   "cell_type": "code",
   "execution_count": 175,
   "metadata": {
    "scrolled": true
   },
   "outputs": [
    {
     "name": "stdout",
     "output_type": "stream",
     "text": [
      "Train on 1716 samples, validate on 572 samples\n",
      "Epoch 1/6\n",
      "1716/1716 [==============================] - 27s 15ms/step - loss: 0.4975 - acc: 0.8100 - val_loss: 0.5176 - val_acc: 0.7815\n",
      "Epoch 2/6\n",
      "1716/1716 [==============================] - 11s 6ms/step - loss: 0.4631 - acc: 0.8199 - val_loss: 0.4955 - val_acc: 0.7815\n",
      "Epoch 3/6\n",
      "1716/1716 [==============================] - 10s 6ms/step - loss: 0.4327 - acc: 0.8205 - val_loss: 0.4980 - val_acc: 0.7815\n",
      "Epoch 4/6\n",
      "1716/1716 [==============================] - 10s 6ms/step - loss: 0.4057 - acc: 0.8176 - val_loss: 0.5235 - val_acc: 0.7815\n",
      "Epoch 5/6\n",
      "1716/1716 [==============================] - 10s 6ms/step - loss: 0.3721 - acc: 0.8205 - val_loss: 0.5651 - val_acc: 0.7815\n",
      "Epoch 6/6\n",
      "1716/1716 [==============================] - 10s 6ms/step - loss: 0.3254 - acc: 0.8450 - val_loss: 0.5708 - val_acc: 0.7780\n"
     ]
    }
   ],
   "source": [
    "history = model.fit(X_train,Y_train,validation_split=0.25, nb_epoch = 6, verbose = 1)"
   ]
  },
  {
   "cell_type": "code",
   "execution_count": 176,
   "metadata": {},
   "outputs": [
    {
     "data": {
      "image/png": "[encoded data removed]",
      "text/plain": [
       "<Figure size 432x288 with 1 Axes>"
      ]
     },
     "metadata": {
      "needs_background": "light"
     },
     "output_type": "display_data"
    }
   ],
   "source": [
    "# Plot training & validation accuracy values\n",
    "plt.plot(history.history['acc'])\n",
    "plt.plot(history.history['val_acc'])\n",
    "plt.title('Model accuracy')\n",
    "plt.ylabel('Accuracy')\n",
    "plt.xlabel('Epoch')\n",
    "plt.legend(['Train', 'Validation'], loc='upper left')\n",
    "plt.show()"
   ]
  },
  {
   "cell_type": "code",
   "execution_count": 177,
   "metadata": {},
   "outputs": [
    {
     "name": "stdout",
     "output_type": "stream",
     "text": [
      "Accuracy: 77.486911\n",
      "  Classification Report:\n",
      "              precision    recall  f1-score   support\n",
      "\n",
      "          0       0.21      0.11      0.15        98\n",
      "          1       0.83      0.91      0.87       475\n",
      "\n",
      "avg / total       0.73      0.77      0.75       573\n",
      " \n",
      "\n"
     ]
    }
   ],
   "source": [
    "loss, accuracy = model.evaluate(X_test, Y_test, verbose=2)\n",
    "print('Accuracy: %f' % (accuracy*100))\n",
    "## lstm model\n",
    "temp = model.predict(X_test)\n",
    "y_pred = [np.argmax(value) for value in temp] \n",
    "print('  Classification Report:\\n',classification_report(Y_test,y_pred),'\\n')\n",
    "lstm_scores.append(get_f1(Y_test,y_pred))"
   ]
  },
  {
   "cell_type": "code",
   "execution_count": 157,
   "metadata": {},
   "outputs": [
    {
     "name": "stdout",
     "output_type": "stream",
     "text": [
      "  Classification Report:\n",
      "              precision    recall  f1-score   support\n",
      "\n",
      "          0       0.00      0.00      0.00        98\n",
      "          1       0.83      1.00      0.91       475\n",
      "\n",
      "avg / total       0.69      0.83      0.75       573\n",
      " \n",
      "\n"
     ]
    }
   ],
   "source": [
    "## majority classifier\n",
    "Y_pred = [1  for ele in range(len(Y_test))]\n",
    "print('  Classification Report:\\n',classification_report(Y_test,Y_pred),'\\n')\n",
    "majority.append(get_f1(Y_test,Y_pred))"
   ]
  },
  {
   "cell_type": "code",
   "execution_count": 158,
   "metadata": {},
   "outputs": [
    {
     "name": "stdout",
     "output_type": "stream",
     "text": [
      "[LibLinear]  Classification Report:\n",
      "              precision    recall  f1-score   support\n",
      "\n",
      "          0       0.18      0.40      0.24        98\n",
      "          1       0.83      0.61      0.71       475\n",
      "\n",
      "avg / total       0.72      0.58      0.63       573\n",
      " \n",
      "\n"
     ]
    }
   ],
   "source": [
    "## svm classfier\n",
    "svm = LinearSVC(C=1,verbose=1)\n",
    "svm.fit(X_train,Y_train)\n",
    "## svm\n",
    "Y_pred = svm.predict(X_test)\n",
    "print('  Classification Report:\\n',classification_report(Y_test,Y_pred),'\\n')\n",
    "## accuarcy score\n",
    "(Y_test == Y_pred).mean()\n",
    "svm_scores.append(get_f1(Y_test,Y_pred))"
   ]
  },
  {
   "cell_type": "code",
   "execution_count": 159,
   "metadata": {},
   "outputs": [
    {
     "name": "stdout",
     "output_type": "stream",
     "text": [
      "  Classification Report:\n",
      "              precision    recall  f1-score   support\n",
      "\n",
      "          0       0.00      0.00      0.00        98\n",
      "          1       0.83      1.00      0.91       475\n",
      "\n",
      "avg / total       0.69      0.83      0.75       573\n",
      " \n",
      "\n"
     ]
    }
   ],
   "source": [
    "## random forest\n",
    "rf = RandomForestClassifier(n_estimators=100, max_depth=2,\n",
    "                             random_state=0)\n",
    "rf.fit(X_train,Y_train)\n",
    "Y_pred = rf.predict(X_test)\n",
    "print('  Classification Report:\\n',classification_report(Y_test,Y_pred),'\\n')\n",
    "## accuarcy score\n",
    "(Y_test == Y_pred).mean()\n",
    "rf_scores.append(get_f1(Y_test,Y_pred))"
   ]
  },
  {
   "cell_type": "markdown",
   "metadata": {},
   "source": [
    "## Bucket 3"
   ]
  },
  {
   "cell_type": "code",
   "execution_count": 187,
   "metadata": {},
   "outputs": [
    {
     "data": {
      "text/plain": [
       "[0.7330282227307398, 0.7514521135579446]"
      ]
     },
     "execution_count": 187,
     "metadata": {},
     "output_type": "execute_result"
    }
   ],
   "source": [
    "# lstm_scores\n",
    "# majority\n",
    "# svm_scores\n",
    "# rf_scores"
   ]
  },
  {
   "cell_type": "code",
   "execution_count": 188,
   "metadata": {},
   "outputs": [
    {
     "name": "stdout",
     "output_type": "stream",
     "text": [
      "juul_initial 113426\n",
      "mono final 42784\n"
     ]
    }
   ],
   "source": [
    "year = 2018\n",
    "mono_ = get_mono(first_data,year)"
   ]
  },
  {
   "cell_type": "code",
   "execution_count": 189,
   "metadata": {},
   "outputs": [
    {
     "data": {
      "text/plain": [
       "33259"
      ]
     },
     "execution_count": 189,
     "metadata": {},
     "output_type": "execute_result"
    }
   ],
   "source": [
    "len(set(mono_users).intersection(set(mono_))) ## this should be labelled as 0\n",
    "# first_data.loc[first_data.userID.isin(mono_)]"
   ]
  },
  {
   "cell_type": "code",
   "execution_count": 190,
   "metadata": {},
   "outputs": [
    {
     "name": "stdout",
     "output_type": "stream",
     "text": [
      "length of data in that span 62655\n",
      "users: 42784\n"
     ]
    },
    {
     "data": {
      "application/vnd.jupyter.widget-view+json": {
       "model_id": "f7611073864242f4a43eaf5b14afce4c",
       "version_major": 2,
       "version_minor": 0
      },
      "text/plain": [
       "HBox(children=(IntProgress(value=0, max=42784), HTML(value='')))"
      ]
     },
     "metadata": {},
     "output_type": "display_data"
    },
    {
     "name": "stdout",
     "output_type": "stream",
     "text": [
      "\n"
     ]
    }
   ],
   "source": [
    " ## select the data for the users in that year\n",
    "mono_data_ = juul_data.loc[(juul_data.userID.isin(mono_)) & (juul_data.tweetCreatedAt.dt.year < year)]  \n",
    "print(\"length of data in that span\",len(mono_data_))\n",
    "print(\"users:\",len(mono_data_.userID.unique()))\n",
    "tweets_ = get_tweets_user(mono_data_)  ## concatenating tweets by user"
   ]
  },
  {
   "cell_type": "code",
   "execution_count": 191,
   "metadata": {},
   "outputs": [
    {
     "name": "stdout",
     "output_type": "stream",
     "text": [
      "tweets 42784\n",
      "users 42784\n"
     ]
    }
   ],
   "source": [
    "print(\"tweets\",len(tweets_))\n",
    "print(\"users\",len(tweets_.userID.unique()))"
   ]
  },
  {
   "cell_type": "code",
   "execution_count": 192,
   "metadata": {},
   "outputs": [
    {
     "name": "stdout",
     "output_type": "stream",
     "text": [
      "initial_users 42784\n",
      "poly_users that will change 33259\n",
      "users reaminin mono 9525\n"
     ]
    }
   ],
   "source": [
    "tweets_ = get_label_mono(tweets_,first_data)"
   ]
  },
  {
   "cell_type": "code",
   "execution_count": 193,
   "metadata": {},
   "outputs": [
    {
     "name": "stdout",
     "output_type": "stream",
     "text": [
      "mono 9525\n",
      "poly 33259\n"
     ]
    }
   ],
   "source": [
    "tweets_[\"label\"].unique()\n",
    "## 0 : mono\n",
    "## 1 : poly\n",
    "y = list(tweets_[\"label\"])\n",
    "print(\"mono\",len([ele for ele in y if ele == 0]))\n",
    "print(\"poly\",len([ele for ele in y if ele == 1]))"
   ]
  },
  {
   "cell_type": "code",
   "execution_count": 194,
   "metadata": {},
   "outputs": [],
   "source": [
    "## clean the tweets\n",
    "tweets_[\"tweetText\"] = tweets_[\"tweetText\"].apply(clean_text)"
   ]
  },
  {
   "cell_type": "code",
   "execution_count": 195,
   "metadata": {},
   "outputs": [
    {
     "name": "stdout",
     "output_type": "stream",
     "text": [
      "24427\n",
      "(42784, 26)\n"
     ]
    }
   ],
   "source": [
    "## load the tokenizer \n",
    "max_len = 26\n",
    "keras_tkzr = keras_Tokenizer()\n",
    "keras_tkzr.fit_on_texts(tweets_[\"tweetText\"])\n",
    "vocab_size = len(keras_tkzr.word_index) + 1\n",
    "print(vocab_size)\n",
    "\n",
    "## prepare the encoded data\n",
    "encoded_docs = keras_tkzr.texts_to_sequences(tweets_[\"tweetText\"])\n",
    "X = pad_sequences(encoded_docs, maxlen=max_len, padding='post')\n",
    "print(X.shape)"
   ]
  },
  {
   "cell_type": "code",
   "execution_count": 196,
   "metadata": {},
   "outputs": [],
   "source": [
    "X_train,X_test,Y_train,Y_test  = train_test_split(X, np.array(y),test_size =0.20,random_state= 4,shuffle=True , stratify=y)\n"
   ]
  },
  {
   "cell_type": "code",
   "execution_count": 197,
   "metadata": {},
   "outputs": [
    {
     "name": "stdout",
     "output_type": "stream",
     "text": [
      "(34227, 26)\n",
      "(8557, 26)\n",
      "(34227,)\n"
     ]
    }
   ],
   "source": [
    "print(X_train.shape)\n",
    "print(X_test.shape)\n",
    "print(Y_train.shape)"
   ]
  },
  {
   "cell_type": "markdown",
   "metadata": {},
   "source": [
    "### Training"
   ]
  },
  {
   "cell_type": "code",
   "execution_count": 198,
   "metadata": {},
   "outputs": [],
   "source": [
    "embedding_matrix = get_embedding_matrix(100,embedding_file,keras_tkzr)"
   ]
  },
  {
   "cell_type": "code",
   "execution_count": 199,
   "metadata": {},
   "outputs": [
    {
     "name": "stdout",
     "output_type": "stream",
     "text": [
      "creating model\n",
      "compiling the model\n",
      "_________________________________________________________________\n",
      "Layer (type)                 Output Shape              Param #   \n",
      "=================================================================\n",
      "input_12 (InputLayer)        (None, 26)                0         \n",
      "_________________________________________________________________\n",
      "embedding_12 (Embedding)     (None, 26, 100)           2442700   \n",
      "_________________________________________________________________\n",
      "bidirectional_11 (Bidirectio (None, 26, 200)           160800    \n",
      "_________________________________________________________________\n",
      "flatten_11 (Flatten)         (None, 5200)              0         \n",
      "_________________________________________________________________\n",
      "dense_21 (Dense)             (None, 100)               520100    \n",
      "_________________________________________________________________\n",
      "dense_22 (Dense)             (None, 2)                 202       \n",
      "=================================================================\n",
      "Total params: 3,123,802\n",
      "Trainable params: 3,123,802\n",
      "Non-trainable params: 0\n",
      "_________________________________________________________________\n"
     ]
    }
   ],
   "source": [
    "model = get_lstm_model(max_len,100,embedding_matrix)"
   ]
  },
  {
   "cell_type": "code",
   "execution_count": 200,
   "metadata": {
    "scrolled": true
   },
   "outputs": [
    {
     "name": "stdout",
     "output_type": "stream",
     "text": [
      "Train on 25670 samples, validate on 8557 samples\n",
      "Epoch 1/6\n",
      "25670/25670 [==============================] - 183s 7ms/step - loss: 0.5302 - acc: 0.7770 - val_loss: 0.5176 - val_acc: 0.7762\n",
      "Epoch 2/6\n",
      "25670/25670 [==============================] - 165s 6ms/step - loss: 0.5087 - acc: 0.7800 - val_loss: 0.5237 - val_acc: 0.7788\n",
      "Epoch 3/6\n",
      "25670/25670 [==============================] - 167s 6ms/step - loss: 0.4904 - acc: 0.7820 - val_loss: 0.5247 - val_acc: 0.7782\n",
      "Epoch 4/6\n",
      "25670/25670 [==============================] - 166s 6ms/step - loss: 0.4615 - acc: 0.7915 - val_loss: 0.5476 - val_acc: 0.7690\n",
      "Epoch 5/6\n",
      "25670/25670 [==============================] - 166s 6ms/step - loss: 0.4313 - acc: 0.8069 - val_loss: 0.6089 - val_acc: 0.7581\n",
      "Epoch 6/6\n",
      "25670/25670 [==============================] - 175s 7ms/step - loss: 0.4016 - acc: 0.8209 - val_loss: 0.6345 - val_acc: 0.7579\n"
     ]
    }
   ],
   "source": [
    "history = model.fit(X_train,Y_train,validation_split=0.25, nb_epoch = 6, verbose = 1)"
   ]
  },
  {
   "cell_type": "code",
   "execution_count": 201,
   "metadata": {},
   "outputs": [
    {
     "data": {
      "image/png": "[encoded data removed]",
      "text/plain": [
       "<Figure size 432x288 with 1 Axes>"
      ]
     },
     "metadata": {
      "needs_background": "light"
     },
     "output_type": "display_data"
    }
   ],
   "source": [
    "# Plot training & validation accuracy values\n",
    "plt.plot(history.history['acc'])\n",
    "plt.plot(history.history['val_acc'])\n",
    "plt.title('Model accuracy')\n",
    "plt.ylabel('Accuracy')\n",
    "plt.xlabel('Epoch')\n",
    "plt.legend(['Train', 'Validation'], loc='upper left')\n",
    "plt.show()"
   ]
  },
  {
   "cell_type": "code",
   "execution_count": 202,
   "metadata": {},
   "outputs": [
    {
     "name": "stdout",
     "output_type": "stream",
     "text": [
      "Accuracy: 76.592264\n",
      "  Classification Report:\n",
      "              precision    recall  f1-score   support\n",
      "\n",
      "          0       0.40      0.17      0.24      1851\n",
      "          1       0.80      0.93      0.86      6706\n",
      "\n",
      "avg / total       0.72      0.77      0.73      8557\n",
      " \n",
      "\n"
     ]
    }
   ],
   "source": [
    "loss, accuracy = model.evaluate(X_test, Y_test, verbose=2)\n",
    "print('Accuracy: %f' % (accuracy*100))\n",
    "## lstm model\n",
    "temp = model.predict(X_test)\n",
    "y_pred = [np.argmax(value) for value in temp] \n",
    "print('  Classification Report:\\n',classification_report(Y_test,y_pred),'\\n')\n",
    "lstm_scores.append(get_f1(Y_test,y_pred))"
   ]
  },
  {
   "cell_type": "code",
   "execution_count": 203,
   "metadata": {},
   "outputs": [
    {
     "name": "stdout",
     "output_type": "stream",
     "text": [
      "  Classification Report:\n",
      "              precision    recall  f1-score   support\n",
      "\n",
      "          0       0.00      0.00      0.00      1851\n",
      "          1       0.78      1.00      0.88      6706\n",
      "\n",
      "avg / total       0.61      0.78      0.69      8557\n",
      " \n",
      "\n"
     ]
    }
   ],
   "source": [
    "## majority classifier\n",
    "Y_pred = [1  for ele in range(len(Y_test))]\n",
    "print('  Classification Report:\\n',classification_report(Y_test,Y_pred),'\\n')\n",
    "majority.append(get_f1(Y_test,Y_pred))"
   ]
  },
  {
   "cell_type": "code",
   "execution_count": 204,
   "metadata": {},
   "outputs": [
    {
     "name": "stdout",
     "output_type": "stream",
     "text": [
      "[LibLinear]  Classification Report:\n",
      "              precision    recall  f1-score   support\n",
      "\n",
      "          0       0.22      0.77      0.35      1851\n",
      "          1       0.80      0.27      0.40      6706\n",
      "\n",
      "avg / total       0.68      0.37      0.39      8557\n",
      " \n",
      "\n"
     ]
    }
   ],
   "source": [
    "## svm classfier\n",
    "svm = LinearSVC(C=1,verbose=1)\n",
    "svm.fit(X_train,Y_train)\n",
    "## svm\n",
    "Y_pred = svm.predict(X_test)\n",
    "print('  Classification Report:\\n',classification_report(Y_test,Y_pred),'\\n')\n",
    "## accuarcy score\n",
    "(Y_test == Y_pred).mean()\n",
    "svm_scores.append(get_f1(Y_test,Y_pred))"
   ]
  },
  {
   "cell_type": "code",
   "execution_count": 205,
   "metadata": {},
   "outputs": [
    {
     "name": "stdout",
     "output_type": "stream",
     "text": [
      "  Classification Report:\n",
      "              precision    recall  f1-score   support\n",
      "\n",
      "          0       0.00      0.00      0.00      1851\n",
      "          1       0.78      1.00      0.88      6706\n",
      "\n",
      "avg / total       0.61      0.78      0.69      8557\n",
      " \n",
      "\n"
     ]
    }
   ],
   "source": [
    "## random forest\n",
    "rf = RandomForestClassifier(n_estimators=100, max_depth=2,\n",
    "                             random_state=0)\n",
    "rf.fit(X_train,Y_train)\n",
    "Y_pred = rf.predict(X_test)\n",
    "print('  Classification Report:\\n',classification_report(Y_test,Y_pred),'\\n')\n",
    "## accuarcy score\n",
    "(Y_test == Y_pred).mean()\n",
    "rf_scores.append(get_f1(Y_test,Y_pred))"
   ]
  },
  {
   "cell_type": "markdown",
   "metadata": {},
   "source": [
    "### plotting the classfier acuuracy "
   ]
  },
  {
   "cell_type": "code",
   "execution_count": 214,
   "metadata": {},
   "outputs": [
    {
     "data": {
      "image/png": "[encoded data removed]",
      "text/plain": [
       "<Figure size 720x432 with 1 Axes>"
      ]
     },
     "metadata": {
      "needs_background": "light"
     },
     "output_type": "display_data"
    }
   ],
   "source": [
    "fig, ax = plt.subplots(figsize = (10,6))\n",
    "x_label = [\"2015\",\"205-16\",\"2015-17\"]\n",
    "ax.plot(x_label,lstm_scores,label=\"lstm\")\n",
    "ax.plot(x_label,svm_scores,label=\"svm\")\n",
    "ax.plot(x_label,rf_scores,label=\"rf\")\n",
    "ax.plot(x_label,majority,label=\"majority classifier\")\n",
    "plt.title(\"Change of accuarcy of classifier to recongnize mono- > poly on different range of data\",fontsize=14)\n",
    "plt.xlabel(\"date range\",fontsize=12)\n",
    "plt.ylabel(\"f1 score of the classifier\",fontsize=12)\n",
    "plt.legend()\n",
    "plt.show()"
   ]
  },
  {
   "cell_type": "markdown",
   "metadata": {},
   "source": [
    "## using a sequence approach"
   ]
  },
  {
   "cell_type": "code",
   "execution_count": 216,
   "metadata": {},
   "outputs": [],
   "source": [
    "## will take a sequence of tweets instead of tweet similar to sequence of spans so that the classifier \n",
    "# learns the sequence and then make the prediction "
   ]
  },
  {
   "cell_type": "code",
   "execution_count": 1,
   "metadata": {},
   "outputs": [],
   "source": [
    "## will be looking at the data of 2017-18 to look at sequence of spans.."
   ]
  },
  {
   "cell_type": "code",
   "execution_count": 27,
   "metadata": {},
   "outputs": [],
   "source": [
    "# year = 2018\n",
    "juul_data_2018 = juul_data.loc[(juul_data[\"tweetCreatedAt\"].dt.year < 2018) & (juul_data[\"tweetCreatedAt\"].dt.year >= 2017)]"
   ]
  },
  {
   "cell_type": "code",
   "execution_count": 28,
   "metadata": {},
   "outputs": [
    {
     "data": {
      "text/plain": [
       "163154"
      ]
     },
     "execution_count": 28,
     "metadata": {},
     "output_type": "execute_result"
    }
   ],
   "source": [
    "len(juul_data_2018)  # 163154\n",
    "len(juul_data_2018.userID.unique()) ## 109350"
   ]
  },
  {
   "cell_type": "code",
   "execution_count": 33,
   "metadata": {},
   "outputs": [
    {
     "ename": "NameError",
     "evalue": "name 'juul_users' is not defined",
     "output_type": "error",
     "traceback": [
      "\u001b[0;31m---------------------------------------------------------------------------\u001b[0m",
      "\u001b[0;31mNameError\u001b[0m                                 Traceback (most recent call last)",
      "\u001b[0;32m<ipython-input-33-22aa495b1416>\u001b[0m in \u001b[0;36m<module>\u001b[0;34m\u001b[0m\n\u001b[1;32m      1\u001b[0m \u001b[0;31m## filtering the promoters, and others\u001b[0m\u001b[0;34m\u001b[0m\u001b[0;34m\u001b[0m\u001b[0m\n\u001b[1;32m      2\u001b[0m \u001b[0mweed_users\u001b[0m \u001b[0;34m=\u001b[0m \u001b[0mlist\u001b[0m\u001b[0;34m(\u001b[0m\u001b[0mfirst_data\u001b[0m\u001b[0;34m[\u001b[0m\u001b[0;34m\"userID\"\u001b[0m\u001b[0;34m]\u001b[0m\u001b[0;34m.\u001b[0m\u001b[0mloc\u001b[0m\u001b[0;34m[\u001b[0m\u001b[0;34m(\u001b[0m\u001b[0mfirst_data\u001b[0m\u001b[0;34m[\u001b[0m\u001b[0;34m\"weed_first\"\u001b[0m\u001b[0;34m]\u001b[0m\u001b[0;34m.\u001b[0m\u001b[0mdt\u001b[0m\u001b[0;34m.\u001b[0m\u001b[0myear\u001b[0m \u001b[0;34m<\u001b[0m \u001b[0;34m(\u001b[0m\u001b[0;36m2018\u001b[0m\u001b[0;34m)\u001b[0m\u001b[0;34m)\u001b[0m\u001b[0;34m]\u001b[0m\u001b[0;34m)\u001b[0m\u001b[0;34m\u001b[0m\u001b[0m\n\u001b[0;32m----> 3\u001b[0;31m \u001b[0mmono_users\u001b[0m \u001b[0;34m=\u001b[0m \u001b[0mlist\u001b[0m\u001b[0;34m(\u001b[0m\u001b[0mset\u001b[0m\u001b[0;34m(\u001b[0m\u001b[0mjuul_users\u001b[0m\u001b[0;34m)\u001b[0m \u001b[0;34m-\u001b[0m \u001b[0mset\u001b[0m\u001b[0;34m(\u001b[0m\u001b[0mweed_users\u001b[0m\u001b[0;34m)\u001b[0m\u001b[0;34m)\u001b[0m\u001b[0;34m\u001b[0m\u001b[0m\n\u001b[0m\u001b[1;32m      4\u001b[0m \u001b[0mmono_data_2018\u001b[0m \u001b[0;34m=\u001b[0m \u001b[0mjuul_data_2018\u001b[0m\u001b[0;34m.\u001b[0m\u001b[0mloc\u001b[0m\u001b[0;34m[\u001b[0m\u001b[0mjuul_data\u001b[0m\u001b[0;34m.\u001b[0m\u001b[0muserID\u001b[0m\u001b[0;34m.\u001b[0m\u001b[0misin\u001b[0m\u001b[0;34m(\u001b[0m\u001b[0mmono_users\u001b[0m\u001b[0;34m)\u001b[0m\u001b[0;34m]\u001b[0m\u001b[0;34m\u001b[0m\u001b[0m\n",
      "\u001b[0;31mNameError\u001b[0m: name 'juul_users' is not defined"
     ]
    }
   ],
   "source": [
    "## filtering the promoters, and others\n",
    "weed_users = list(first_data[\"userID\"].loc[(first_data[\"weed_first\"].dt.year < (2018))])\n",
    "mono_users = list(set(juul_users) - set(weed_users))    \n",
    "mono_data_2018 = juul_data_2018.loc[juul_data.userID.isin(mono_users)]"
   ]
  },
  {
   "cell_type": "code",
   "execution_count": 243,
   "metadata": {},
   "outputs": [
    {
     "name": "stdout",
     "output_type": "stream",
     "text": [
      "62655\n",
      "42784\n"
     ]
    }
   ],
   "source": [
    " ## select the data for the users in that year\n",
    "mono_data_ = juul_data.loc[(juul_data.userID.isin(mono_)) & (juul_data.tweetCreatedAt.dt.year < year)]  \n",
    "print(len(mono_data_))\n",
    "print(len(mono_data_.userID.unique()))"
   ]
  },
  {
   "cell_type": "code",
   "execution_count": 126,
   "metadata": {},
   "outputs": [
    {
     "name": "stdout",
     "output_type": "stream",
     "text": [
      "initial_users 1140\n",
      "poly_users that will change 952\n",
      "users reaminin mono 188\n",
      "mono 188\n",
      "poly 952\n"
     ]
    }
   ],
   "source": [
    "## gettting labels\n",
    "tweets_2015 = get_label_mono(tweets_2015,first_data)\n",
    "tweets_2015[\"label\"].unique()\n",
    "## 0 : mono\n",
    "## 1 : poly\n",
    "y = list(tweets_2015[\"label\"])\n",
    "print(\"mono\",len([ele for ele in y if ele == 0]))\n",
    "print(\"poly\",len([ele for ele in y if ele == 1]))"
   ]
  },
  {
   "cell_type": "code",
   "execution_count": 127,
   "metadata": {},
   "outputs": [],
   "source": [
    "## clean the tweets\n",
    "tweets_2015[\"tweetText\"] = tweets_2015[\"tweetText\"].apply(clean_text)"
   ]
  },
  {
   "cell_type": "code",
   "execution_count": 128,
   "metadata": {},
   "outputs": [
    {
     "name": "stdout",
     "output_type": "stream",
     "text": [
      "4983\n",
      "(1140, 26)\n"
     ]
    }
   ],
   "source": [
    "## load the tokenizer \n",
    "max_len = 26\n",
    "keras_tkzr = keras_Tokenizer()\n",
    "keras_tkzr.fit_on_texts(tweets_2015[\"tweetText\"])\n",
    "vocab_size = len(keras_tkzr.word_index) + 1\n",
    "print(vocab_size)\n",
    "\n",
    "## prepare the encoded data\n",
    "encoded_docs = keras_tkzr.texts_to_sequences(tweets_2015[\"tweetText\"])\n",
    "X = pad_sequences(encoded_docs, maxlen=max_len, padding='post')\n",
    "print(X.shape)"
   ]
  },
  {
   "cell_type": "code",
   "execution_count": 129,
   "metadata": {},
   "outputs": [],
   "source": [
    "X_train,X_test,Y_train,Y_test  = train_test_split(X, np.array(y),test_size =0.20,random_state= 4,shuffle=True ,)"
   ]
  },
  {
   "cell_type": "code",
   "execution_count": 130,
   "metadata": {},
   "outputs": [
    {
     "name": "stdout",
     "output_type": "stream",
     "text": [
      "(912, 26)\n",
      "(228, 26)\n",
      "(912,)\n"
     ]
    }
   ],
   "source": [
    "print(X_train.shape)\n",
    "print(X_test.shape)\n",
    "print(Y_train.shape)"
   ]
  },
  {
   "cell_type": "markdown",
   "metadata": {},
   "source": [
    "## Training"
   ]
  },
  {
   "cell_type": "code",
   "execution_count": 131,
   "metadata": {},
   "outputs": [],
   "source": [
    "#### embeddings\n",
    "embedding_file = os.path.join(embeddings_dir,\"glove.twitter.27B.100d.txt\")"
   ]
  },
  {
   "cell_type": "code",
   "execution_count": 132,
   "metadata": {},
   "outputs": [],
   "source": [
    "word2vec = get_word2vec(embedding_file)\n",
    "from numpy import zeros\n",
    "embedding_matrix = zeros((vocab_size, 100))\n",
    "for word, i in keras_tkzr.word_index.items():\n",
    "    embedding_vector = word2vec.get(word)\n",
    "    if embedding_vector is not None:\n",
    "        embedding_matrix[i] = embedding_vector"
   ]
  },
  {
   "cell_type": "code",
   "execution_count": 133,
   "metadata": {},
   "outputs": [
    {
     "name": "stdout",
     "output_type": "stream",
     "text": [
      "_________________________________________________________________\n",
      "Layer (type)                 Output Shape              Param #   \n",
      "=================================================================\n",
      "input_9 (InputLayer)         (None, 26)                0         \n",
      "_________________________________________________________________\n",
      "embedding_9 (Embedding)      (None, 26, 100)           498300    \n",
      "_________________________________________________________________\n",
      "bidirectional_8 (Bidirection (None, 26, 200)           160800    \n",
      "_________________________________________________________________\n",
      "flatten_8 (Flatten)          (None, 5200)              0         \n",
      "_________________________________________________________________\n",
      "dense_15 (Dense)             (None, 100)               520100    \n",
      "_________________________________________________________________\n",
      "dense_16 (Dense)             (None, 2)                 202       \n",
      "=================================================================\n",
      "Total params: 1,179,402\n",
      "Trainable params: 1,179,402\n",
      "Non-trainable params: 0\n",
      "_________________________________________________________________\n"
     ]
    }
   ],
   "source": [
    "model = get_lstm_model(max_len,100,embedding_matrix)"
   ]
  },
  {
   "cell_type": "code",
   "execution_count": 134,
   "metadata": {
    "scrolled": true
   },
   "outputs": [
    {
     "name": "stdout",
     "output_type": "stream",
     "text": [
      "Train on 684 samples, validate on 228 samples\n",
      "Epoch 1/6\n",
      "684/684 [==============================] - 19s 28ms/step - loss: 0.5046 - acc: 0.8260 - val_loss: 0.4145 - val_acc: 0.8596\n",
      "Epoch 2/6\n",
      "684/684 [==============================] - 4s 6ms/step - loss: 0.4268 - acc: 0.8333 - val_loss: 0.4248 - val_acc: 0.8596\n",
      "Epoch 3/6\n",
      "684/684 [==============================] - 4s 6ms/step - loss: 0.3852 - acc: 0.8348 - val_loss: 0.4417 - val_acc: 0.8596\n",
      "Epoch 4/6\n",
      "684/684 [==============================] - 4s 6ms/step - loss: 0.3764 - acc: 0.8377 - val_loss: 0.4946 - val_acc: 0.8509\n",
      "Epoch 5/6\n",
      "684/684 [==============================] - 4s 6ms/step - loss: 0.3710 - acc: 0.8348 - val_loss: 0.4774 - val_acc: 0.8553\n",
      "Epoch 6/6\n",
      "684/684 [==============================] - 4s 6ms/step - loss: 0.3116 - acc: 0.8582 - val_loss: 0.5048 - val_acc: 0.8158\n"
     ]
    }
   ],
   "source": [
    "history = model.fit(X_train,Y_train,validation_split=0.25, nb_epoch = 6, verbose = 1)"
   ]
  },
  {
   "cell_type": "code",
   "execution_count": 135,
   "metadata": {
    "scrolled": true
   },
   "outputs": [
    {
     "data": {
      "image/png": "[encoded data removed]",
      "text/plain": [
       "<Figure size 432x288 with 1 Axes>"
      ]
     },
     "metadata": {
      "needs_background": "light"
     },
     "output_type": "display_data"
    }
   ],
   "source": [
    "# Plot training & validation accuracy values\n",
    "plt.plot(history.history['acc'])\n",
    "plt.plot(history.history['val_acc'])\n",
    "plt.title('Model accuracy')\n",
    "plt.ylabel('Accuracy')\n",
    "plt.xlabel('Epoch')\n",
    "plt.legend(['Train', 'Validation'], loc='upper left')\n",
    "plt.show()"
   ]
  },
  {
   "cell_type": "code",
   "execution_count": 136,
   "metadata": {},
   "outputs": [],
   "source": [
    "lstm_scores = []\n",
    "majority = []\n",
    "svm_scores = []\n",
    "rf_scores = []"
   ]
  },
  {
   "cell_type": "code",
   "execution_count": 137,
   "metadata": {},
   "outputs": [
    {
     "name": "stdout",
     "output_type": "stream",
     "text": [
      "Accuracy: 78.508772\n",
      "  Classification Report:\n",
      "              precision    recall  f1-score   support\n",
      "\n",
      "          0       0.11      0.02      0.04        42\n",
      "          1       0.81      0.96      0.88       186\n",
      "\n",
      "avg / total       0.68      0.79      0.72       228\n",
      " \n",
      "\n"
     ]
    }
   ],
   "source": [
    "loss, accuracy = model.evaluate(X_test, Y_test, verbose=2)\n",
    "print('Accuracy: %f' % (accuracy*100))\n",
    "## lstm model\n",
    "from sklearn.metrics import classification_report,confusion_matrix\n",
    "temp = model.predict(X_test)\n",
    "y_pred = [np.argmax(value) for value in temp] \n",
    "print('  Classification Report:\\n',classification_report(Y_test,y_pred),'\\n')\n",
    "lstm_scores.append(get_f1(Y_test,y_pred))"
   ]
  },
  {
   "cell_type": "code",
   "execution_count": null,
   "metadata": {},
   "outputs": [],
   "source": []
  }
 ],
 "metadata": {
  "kernelspec": {
   "display_name": "juul",
   "language": "python",
   "name": "myenv"
  },
  "language_info": {
   "codemirror_mode": {
    "name": "ipython",
    "version": 3
   },
   "file_extension": ".py",
   "mimetype": "text/x-python",
   "name": "python",
   "nbconvert_exporter": "python",
   "pygments_lexer": "ipython3",
   "version": "3.6.6"
  }
 },
 "nbformat": 4,
 "nbformat_minor": 2
}
