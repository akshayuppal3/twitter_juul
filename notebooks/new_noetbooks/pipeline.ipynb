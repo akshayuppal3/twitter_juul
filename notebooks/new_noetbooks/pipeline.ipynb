{
 "cells": [
  {
   "cell_type": "code",
   "execution_count": 1,
   "metadata": {},
   "outputs": [
    {
     "name": "stderr",
     "output_type": "stream",
     "text": [
      "/home/drew_william2345/anaconda3/envs/multimodal-env/lib/python3.6/site-packages/sklearn/ensemble/weight_boosting.py:29: DeprecationWarning: numpy.core.umath_tests is an internal NumPy module and should not be imported. It will be removed in a future NumPy release.\n",
      "  from numpy.core.umath_tests import inner1d\n"
     ]
    }
   ],
   "source": [
    "import pandas as pd\n",
    "import numpy \n",
    "import os\n",
    "import git\n",
    "import pickle\n",
    "import matplotlib.pyplot as plt\n",
    "pd.set_option('display.max_colwidth', -1)\n",
    "from sklearn.ensemble import RandomForestClassifier\n",
    "from sklearn.ensemble import ExtraTreesClassifier\n",
    "import warnings\n",
    "warnings.filterwarnings('ignore')\n",
    "from matplotlib import pyplot\n",
    "import numpy as np\n",
    "import re\n",
    "from collections import Counter\n",
    "# import gensim\n",
    "# from gensim import corpora\n",
    "import os\n",
    "import networkx as nx\n",
    "import ast"
   ]
  },
  {
   "cell_type": "code",
   "execution_count": 2,
   "metadata": {},
   "outputs": [],
   "source": [
    "from sklearn.feature_extraction.text import TfidfVectorizer\n",
    "from sklearn.feature_extraction.text import CountVectorizer\n",
    "from sklearn.preprocessing import LabelEncoder \n",
    "from sklearn.model_selection import train_test_split\n",
    "from sklearn.model_selection import GridSearchCV\n",
    "from sklearn.svm import SVC\n",
    "from sklearn.utils import shuffle"
   ]
  },
  {
   "cell_type": "code",
   "execution_count": 3,
   "metadata": {},
   "outputs": [
    {
     "name": "stderr",
     "output_type": "stream",
     "text": [
      "Using TensorFlow backend.\n"
     ]
    }
   ],
   "source": [
    "from keras.preprocessing.sequence import pad_sequences\n",
    "from keras.optimizers import SGD\n",
    "from keras.models import Model, Input\n",
    "from keras.models import Sequential\n",
    "from keras.layers import Dense\n",
    "from keras.layers import Flatten\n",
    "from keras.layers import Embedding\n",
    "from keras.layers import Bidirectional\n",
    "from keras.layers import LSTM\n",
    "from keras.layers import TimeDistributed\n",
    "from keras.layers import Reshape\n",
    "from keras.layers import Average\n",
    "from keras.layers import Dropout\n",
    "from sklearn.model_selection import train_test_split"
   ]
  },
  {
   "cell_type": "code",
   "execution_count": 4,
   "metadata": {},
   "outputs": [],
   "source": [
    "from sklearn.model_selection import cross_val_score\n",
    "from sklearn.model_selection import StratifiedKFold\n",
    "from sklearn.metrics import precision_recall_fscore_support\n",
    "from sklearn.model_selection import KFold\n",
    "from sklearn.model_selection import cross_val_score\n",
    "from sklearn.metrics import classification_report\n",
    "from tqdm.auto import tqdm"
   ]
  },
  {
   "cell_type": "code",
   "execution_count": 5,
   "metadata": {},
   "outputs": [],
   "source": [
    "## Read the labelled files and the poly_user\n",
    "def get_git_root(path):\n",
    "\tgit_repo = git.Repo(path, search_parent_directories=True)\n",
    "\tgit_root = git_repo.git.rev_parse(\"--show-toplevel\")\n",
    "\treturn git_root"
   ]
  },
  {
   "cell_type": "code",
   "execution_count": 6,
   "metadata": {},
   "outputs": [],
   "source": [
    "from nltk.corpus import wordnet as wn\n",
    "def get_lemma(word):\n",
    "    lemma = wn.morphy(word)\n",
    "    if lemma is None:\n",
    "        return word\n",
    "    else:\n",
    "        return lemma"
   ]
  },
  {
   "cell_type": "code",
   "execution_count": 7,
   "metadata": {},
   "outputs": [
    {
     "name": "stderr",
     "output_type": "stream",
     "text": [
      "[nltk_data] Downloading package wordnet to\n",
      "[nltk_data]     /home/drew_william2345/nltk_data...\n",
      "[nltk_data]   Package wordnet is already up-to-date!\n",
      "[nltk_data] Downloading package stopwords to\n",
      "[nltk_data]     /home/drew_william2345/nltk_data...\n",
      "[nltk_data]   Package stopwords is already up-to-date!\n"
     ]
    }
   ],
   "source": [
    "# setup env\n",
    "import nltk\n",
    "from nltk.corpus import stopwords\n",
    "nltk.download('wordnet')\n",
    "nltk.download('stopwords')\n",
    "stopwords = set(stopwords.words('english'))"
   ]
  },
  {
   "cell_type": "code",
   "execution_count": 8,
   "metadata": {},
   "outputs": [],
   "source": [
    "## tokenize the text..\n",
    "from sklearn.svm import LinearSVC\n",
    "from sklearn.feature_extraction.text import TfidfVectorizer\n",
    "from keras.preprocessing.text import Tokenizer as keras_Tokenizer\n",
    "from sklearn.metrics import classification_report\n",
    "from keras.layers import Embedding\n",
    "from nltk.tokenize import TweetTokenizer\n",
    "tweet_tknzr = TweetTokenizer()\n",
    "def get_tokens(sentence):\n",
    "#     tokens = nltk.word_tokenize(sentence)  # now using tweet tokenizer\n",
    "    tokens = tweet_tknzr.tokenize(sentence)\n",
    "    tokens = [token for token in tokens if (token not in stopwords and len(token) > 1)]\n",
    "    tokens = [get_lemma(token) for token in tokens]\n",
    "    return (tokens)"
   ]
  },
  {
   "cell_type": "code",
   "execution_count": 9,
   "metadata": {},
   "outputs": [],
   "source": [
    "def clean_text(text):\n",
    "    text = re.sub(r'(https?://\\S+)', \"\", text) ## remove url\n",
    "    text = re.sub(r'(\\@\\w+)', \"author\",text)   ## remove @ mentions with author\n",
    "    text = re.sub(r'(@)', \"\",text)             ## remove @ symbols\n",
    "    text = re.sub(r'(author)',\"\",text)         ## remove author\n",
    "    text = re.sub(r'(#)', \"\",text)             ## removing the hashtags signal \n",
    "    text = re.sub(r'(RT )', \"\",text)         ## remove the retweet info as they dont convey any information\n",
    "    text.rstrip \n",
    "    text.lstrip\n",
    "    return(text)"
   ]
  },
  {
   "cell_type": "code",
   "execution_count": 10,
   "metadata": {},
   "outputs": [],
   "source": [
    "# create the word2vec dict from the dictionary\n",
    "def get_word2vec(file_path):\n",
    "    file = open(file_path, \"r\")\n",
    "    if (file):\n",
    "        word2vec = dict()\n",
    "#         split = file.read().splitlines()\n",
    "        for line in file:\n",
    "            split_line = line.split(' ')\n",
    "            key = split_line[0] # the first word is the key\n",
    "            value = np.array([float(val) for val in split_line[1:]])\n",
    "            word2vec[key] = value\n",
    "        return (word2vec)\n",
    "    else:\n",
    "        print(\"invalid fiel path\")"
   ]
  },
  {
   "cell_type": "code",
   "execution_count": 11,
   "metadata": {},
   "outputs": [],
   "source": [
    "## calculate the mean of the embeddings\n",
    "class MeanEmbeddingVectorizer(object):\n",
    "\tdef __init__(self, word2vec):\n",
    "\t\tself.word2vec = word2vec\n",
    "\t\t# if a text is empty we should return a vector of zeros\n",
    "\t\t# with the same dimensionality as all the other vectors\n",
    "\t\tself.dim = len(next(iter(word2vec.values())))\n",
    "\n",
    "\tdef fit(self, X, y):\n",
    "\t\treturn self\n",
    "\n",
    "\tdef transform(self, X):\n",
    "\t\treturn np.array([\n",
    "\t\t\tnp.mean([self.word2vec[w] for w in words if w in self.word2vec]\n",
    "\t\t\t\t\tor [np.zeros(self.dim)], axis=0)\n",
    "\t\t\tfor words in tqdm(X)\n",
    "\t\t])"
   ]
  },
  {
   "cell_type": "code",
   "execution_count": 12,
   "metadata": {},
   "outputs": [],
   "source": [
    "## get the embedding matrix weights:\n",
    "from numpy import zeros\n",
    "def get_embedding_matrix(keras_tkzr,word2vec):\n",
    "    vocab_size = len(keras_tkzr.word_index) + 1\n",
    "    embedding_matrix = zeros((vocab_size, 100))\n",
    "    for word, i in keras_tkzr.word_index.items():\n",
    "        embedding_vector = word2vec.get(word)\n",
    "        if embedding_vector is not None:\n",
    "            embedding_matrix[i] = embedding_vector\n",
    "    return (embedding_matrix,vocab_size)"
   ]
  },
  {
   "cell_type": "code",
   "execution_count": 13,
   "metadata": {},
   "outputs": [],
   "source": [
    "## pass to the bi-lstm model\n",
    "def create_model(max_len,vocab_size,embedding_matrix):\n",
    "    input = Input(shape=(max_len,))\n",
    "    model = Embedding(vocab_size,100,weights=[embedding_matrix],input_length=max_len)(input)\n",
    "    model =  Bidirectional (LSTM (100,return_sequences=True,dropout=0.50),merge_mode='concat')(model)\n",
    "    model = TimeDistributed(Dense(100,activation='relu'))(model)\n",
    "    model = Flatten()(model)\n",
    "    model = Dense(100,activation='relu')(model)\n",
    "    output = Dense(3,activation='softmax')(model)\n",
    "    model = Model(input,output)\n",
    "    model.compile(loss='sparse_categorical_crossentropy',optimizer='adam', metrics=['accuracy'])\n",
    "    return model"
   ]
  },
  {
   "cell_type": "code",
   "execution_count": 14,
   "metadata": {},
   "outputs": [],
   "source": [
    "def load_data(df,max_len):\n",
    "    keras_tkzr = keras_Tokenizer()\n",
    "    le = LabelEncoder()\n",
    "    print(\"fitting tokenizer on text\")\n",
    "    keras_tkzr.fit_on_texts(df[\"tweetText\"])\n",
    "    ## getting input X\n",
    "    print(\"getting the encoded data\")\n",
    "    encoded_docs = keras_tkzr.texts_to_sequences(df[\"tweetText\"])\n",
    "    print(\"padding the input sequnce\")\n",
    "    X = pad_sequences(encoded_docs, maxlen=max_len, padding='post')\n",
    "    ## getting output Y\n",
    "    print(\"labelling data\")\n",
    "    Y = (list(df['label']))\n",
    "    le.fit(Y)\n",
    "    le.classes_\n",
    "    y = le.transform(Y)\n",
    "    return (X,y,keras_tkzr)"
   ]
  },
  {
   "cell_type": "code",
   "execution_count": 15,
   "metadata": {},
   "outputs": [],
   "source": [
    "## get the trained model\n",
    "def train_evaluate_model(model,X_train,Y_train,X_test,Y_test):\n",
    "    loss, accuracy = model.evaluate(X_test, Y_test, verbose=2)\n",
    "    print('Accuracy: %f' % (accuracy*100))\n",
    "    Y_pred = model.predict(X_test)\n",
    "    y_pred = np.array([np.argmax(pred) for pred in Y_pred])\n",
    "    # scores = cross_val_score(model, X_test, Y_test, cv=5)\n",
    "    print('  Classification Report:\\n',classification_report(Y_test,y_pred),'\\n')\n",
    "    precision,recall,fscore,_ = precision_recall_fscore_support(Y_test,y_pred)\n",
    "    return (model,precision,recall,fscore)"
   ]
  },
  {
   "cell_type": "code",
   "execution_count": 16,
   "metadata": {},
   "outputs": [],
   "source": [
    "def fit_model(model,X_train,Y_train,epoch):\n",
    "    hist = model.fit(X_train,Y_train,validation_split=0.25, nb_epoch = epoch, verbose = 2)\n",
    "    return model,hist"
   ]
  },
  {
   "cell_type": "code",
   "execution_count": 38,
   "metadata": {},
   "outputs": [],
   "source": [
    "def get_tokens_split(s):\n",
    "    a = list(s.split())\n",
    "    return(a)"
   ]
  },
  {
   "cell_type": "code",
   "execution_count": 17,
   "metadata": {},
   "outputs": [],
   "source": [
    "import pickle\n",
    "def dump_obj(obj,pathname):\n",
    "    with open(pathname,\"wb\") as f:\n",
    "        pickle.dump(obj,f)"
   ]
  },
  {
   "cell_type": "code",
   "execution_count": 18,
   "metadata": {},
   "outputs": [],
   "source": [
    "top_dir = os.path.join(get_git_root(os.getcwd()))\n",
    "input_dir = os.path.join(get_git_root(os.getcwd()),\"input\")\n",
    "embeddings_dir  = os.path.join(get_git_root(os.getcwd()),\"input\",\"embeddings\")\n",
    "annotatted_dir = os.path.join(input_dir,\"annotated_data\")\n",
    "classifier_dir = os.path.join(get_git_root(os.getcwd()),\"models\",\"classifier\")\n",
    "model_dir = os.path.join(get_git_root(os.getcwd()),\"models\")\n",
    "poly_dir = os.path.join(model_dir,\"poly_users\")"
   ]
  },
  {
   "cell_type": "code",
   "execution_count": 20,
   "metadata": {},
   "outputs": [],
   "source": [
    "glove_embeddings = os.path.join(embeddings_dir,\"glove.twitter.27B.100d.txt\")"
   ]
  },
  {
   "cell_type": "code",
   "execution_count": 19,
   "metadata": {},
   "outputs": [],
   "source": [
    "# weed data , poly data\n",
    "# weed_data = pd.read_csv(os.path.join(input_dir,\"weed_data_text2.csv\"),lineterminator=\"\\n\")\n",
    "juul_data = pd.read_csv(os.path.join(input_dir,\"juul_data.csv\"),lineterminator=\"\\n\")\n",
    "first_data = pd.read_csv(os.path.join(input_dir,\"user_first.csv\"),lineterminator=\"\\n\")"
   ]
  },
  {
   "cell_type": "code",
   "execution_count": 22,
   "metadata": {},
   "outputs": [],
   "source": [
    "# df_following_final = pd.read_csv(os.path.join(input_dir,\"following_final.csv\"))"
   ]
  },
  {
   "cell_type": "code",
   "execution_count": 20,
   "metadata": {},
   "outputs": [],
   "source": [
    "df_dataset = pd.read_csv(os.path.join(input_dir,\"dataset.csv\"),lineterminator=\"\\n\")"
   ]
  },
  {
   "cell_type": "code",
   "execution_count": 21,
   "metadata": {},
   "outputs": [
    {
     "name": "stdout",
     "output_type": "stream",
     "text": [
      "12088584\n",
      "887180\n"
     ]
    }
   ],
   "source": [
    "print(len(df_dataset))   # 11,578,887\n",
    "print(len(df_dataset.userID.unique())) # 551,261"
   ]
  },
  {
   "cell_type": "code",
   "execution_count": 22,
   "metadata": {},
   "outputs": [
    {
     "data": {
      "text/html": [
       "<div>\n",
       "<style scoped>\n",
       "    .dataframe tbody tr th:only-of-type {\n",
       "        vertical-align: middle;\n",
       "    }\n",
       "\n",
       "    .dataframe tbody tr th {\n",
       "        vertical-align: top;\n",
       "    }\n",
       "\n",
       "    .dataframe thead th {\n",
       "        text-align: right;\n",
       "    }\n",
       "</style>\n",
       "<table border=\"1\" class=\"dataframe\">\n",
       "  <thead>\n",
       "    <tr style=\"text-align: right;\">\n",
       "      <th></th>\n",
       "      <th>userID</th>\n",
       "      <th>tweetId</th>\n",
       "      <th>tweetCreatedAt</th>\n",
       "      <th>tweetText</th>\n",
       "    </tr>\n",
       "  </thead>\n",
       "  <tbody>\n",
       "    <tr>\n",
       "      <th>0</th>\n",
       "      <td>768566977384312832</td>\n",
       "      <td>800352533508136961</td>\n",
       "      <td>2016-11-20 14:58:08</td>\n",
       "      <td>I just wanna chill smoke weed watch movies and possibly bowl today.</td>\n",
       "    </tr>\n",
       "    <tr>\n",
       "      <th>1</th>\n",
       "      <td>722831808593731584</td>\n",
       "      <td>838220580591546368</td>\n",
       "      <td>2017-03-05 02:52:14</td>\n",
       "      <td>Marijuana was initially made illegal in 1937 by a man who testified the drug made white women want to be with black men.</td>\n",
       "    </tr>\n",
       "    <tr>\n",
       "      <th>2</th>\n",
       "      <td>2270846172</td>\n",
       "      <td>849375958910074880</td>\n",
       "      <td>2017-04-04 21:39:43</td>\n",
       "      <td>i want to go a simpler time, a time where mcdonald's had a mascot that was an anthropomorphic nug of weed https://t.co/Gj305Abss3</td>\n",
       "    </tr>\n",
       "    <tr>\n",
       "      <th>3</th>\n",
       "      <td>2942106408</td>\n",
       "      <td>1034814696560324609</td>\n",
       "      <td>2018-08-29 14:47:04</td>\n",
       "      <td>weed smells so fucking beautiful that shit really turns me on</td>\n",
       "    </tr>\n",
       "    <tr>\n",
       "      <th>4</th>\n",
       "      <td>529061796</td>\n",
       "      <td>520808303262433282</td>\n",
       "      <td>2014-10-11 05:29:10</td>\n",
       "      <td>The day josh tried really hard not to smoke weed</td>\n",
       "    </tr>\n",
       "  </tbody>\n",
       "</table>\n",
       "</div>"
      ],
      "text/plain": [
       "               userID              tweetId       tweetCreatedAt  \\\n",
       "0  768566977384312832  800352533508136961   2016-11-20 14:58:08   \n",
       "1  722831808593731584  838220580591546368   2017-03-05 02:52:14   \n",
       "2  2270846172          849375958910074880   2017-04-04 21:39:43   \n",
       "3  2942106408          1034814696560324609  2018-08-29 14:47:04   \n",
       "4  529061796           520808303262433282   2014-10-11 05:29:10   \n",
       "\n",
       "                                                                                                                           tweetText  \n",
       "0  I just wanna chill smoke weed watch movies and possibly bowl today.                                                                \n",
       "1  Marijuana was initially made illegal in 1937 by a man who testified the drug made white women want to be with black men.           \n",
       "2  i want to go a simpler time, a time where mcdonald's had a mascot that was an anthropomorphic nug of weed https://t.co/Gj305Abss3  \n",
       "3  weed smells so fucking beautiful that shit really turns me on                                                                      \n",
       "4  The day josh tried really hard not to smoke weed                                                                                   "
      ]
     },
     "execution_count": 22,
     "metadata": {},
     "output_type": "execute_result"
    }
   ],
   "source": [
    "df_dataset.head(5)"
   ]
  },
  {
   "cell_type": "markdown",
   "metadata": {},
   "source": [
    "## predicting promoter, regular, news from data using bilstm model -- finally use svm"
   ]
  },
  {
   "cell_type": "markdown",
   "metadata": {},
   "source": [
    "### loading the svm vectorizer trained on annottaion data"
   ]
  },
  {
   "cell_type": "code",
   "execution_count": 35,
   "metadata": {},
   "outputs": [],
   "source": [
    "# len(df_annotation)\n",
    "# ## 0 -news\n",
    "# ## 1 - promo\n",
    "# ## 2 -regular users\n",
    "# print(df_annotation.label.value_counts())\n",
    "# df_annotation = df_annotation.sample(frac=1)\n",
    "# df_annotation = df_annotation.reset_index()\n",
    "# ## take a balnced sample of 200 from each category\n",
    "# df_news = (df_annotation[df_annotation.label == 0])[:200] \n",
    "# df_reg = (df_annotation[df_annotation.label == 2])[:200] \n",
    "# df_promo = (df_annotation[df_annotation.label == 1])[:200] \n",
    "# df_annotation = pd.concat([df_news,df_promo,df_reg])\n",
    "# ## random sample annotation file\n",
    "# df_annotation = df_annotation.sample(frac=1).reset_index(drop=True)\n",
    "\n",
    "# ## tokenize the sentences\n",
    "# df_annotation['tweetText'] = df_annotation['tweetText'].apply(clean_text)\n",
    "# df_annotation.loc[df_annotation.label.isin([1,2])].head(200)\n",
    "\n",
    "# ## looking at the tokenized data\n",
    "# df_test = pd.DataFrame()\n",
    "# df_test[\"tweetText\"] = list(df_annotation['tweetText'].apply(get_tokens))\n",
    "# df_test['label'] = list(df_annotation[\"label\"])\n",
    "# df_test\n",
    "\n",
    "## getting mean , quantile length of text\n",
    "# df_len = list()\n",
    "# for tokens in token_list:\n",
    "#     df_len.append(len(tokens))\n",
    "# df_len = pd.DataFrame(df_len)\n",
    "# df_len.boxplot()\n",
    "# df_len.describe()\n",
    "# max_len = int(df_len.quantile(0.95))  ## take the max_len = 90 percentile\n",
    "# max_len = 27\n",
    "\n",
    "## we use svm for annotation"
   ]
  },
  {
   "cell_type": "code",
   "execution_count": 25,
   "metadata": {},
   "outputs": [
    {
     "data": {
      "text/plain": [
       "12088584"
      ]
     },
     "execution_count": 25,
     "metadata": {},
     "output_type": "execute_result"
    }
   ],
   "source": [
    "len(df_dataset)"
   ]
  },
  {
   "cell_type": "code",
   "execution_count": 27,
   "metadata": {},
   "outputs": [],
   "source": [
    "## load the model and tokenizer\n",
    "svm_tf = pickle.load(open(os.path.join(classifier_dir,\"annotation_classifier\",\"svm_tf.pkl\"),\"rb\"))\n",
    "tfidf_vect = pickle.load(open(os.path.join(classifier_dir,\"annotation_classifier\",\"tf_idf_vect.pkl\"),\"rb\"))"
   ]
  },
  {
   "cell_type": "code",
   "execution_count": 28,
   "metadata": {},
   "outputs": [],
   "source": [
    "data = df_dataset[\"tweetText\"]\n",
    "X = tfidf_vect.transform(data)"
   ]
  },
  {
   "cell_type": "code",
   "execution_count": 29,
   "metadata": {},
   "outputs": [],
   "source": [
    "y = svm_tf.predict(X) "
   ]
  },
  {
   "cell_type": "code",
   "execution_count": 30,
   "metadata": {},
   "outputs": [
    {
     "name": "stdout",
     "output_type": "stream",
     "text": [
      "(12088584, 3789)\n",
      "(12088584,)\n"
     ]
    }
   ],
   "source": [
    "print(X.shape)\n",
    "print(y.shape)"
   ]
  },
  {
   "cell_type": "code",
   "execution_count": 31,
   "metadata": {},
   "outputs": [],
   "source": [
    "df_dataset[\"label\"] = y"
   ]
  },
  {
   "cell_type": "code",
   "execution_count": 32,
   "metadata": {},
   "outputs": [
    {
     "name": "stdout",
     "output_type": "stream",
     "text": [
      "0.5003586855168479\n",
      "6048628\n"
     ]
    }
   ],
   "source": [
    "## regualr tweets\n",
    "use= len(df_dataset.loc[df_dataset.label == 2])\n",
    "print(use/len(df_dataset))\n",
    "print(use)"
   ]
  },
  {
   "cell_type": "code",
   "execution_count": 33,
   "metadata": {},
   "outputs": [
    {
     "name": "stdout",
     "output_type": "stream",
     "text": [
      "0.3694362383551291\n"
     ]
    }
   ],
   "source": [
    "## news tweets\n",
    "news = len(df_dataset.loc[df_dataset.label == 0])\n",
    "print(news/ len(df_dataset))"
   ]
  },
  {
   "cell_type": "code",
   "execution_count": 34,
   "metadata": {},
   "outputs": [
    {
     "name": "stdout",
     "output_type": "stream",
     "text": [
      "0.13020507612802293\n"
     ]
    }
   ],
   "source": [
    "## promotional tweets\n",
    "prom = len(df_dataset.loc[df_dataset.label == 1])\n",
    "print(prom/ len(df_dataset))"
   ]
  },
  {
   "cell_type": "markdown",
   "metadata": {},
   "source": [
    "## predicting regular, promoters and news users"
   ]
  },
  {
   "cell_type": "code",
   "execution_count": 35,
   "metadata": {},
   "outputs": [
    {
     "data": {
      "text/plain": [
       "6048628.0"
      ]
     },
     "execution_count": 35,
     "metadata": {},
     "output_type": "execute_result"
    }
   ],
   "source": [
    "temp = pd.get_dummies(df_dataset,columns=[\"label\"],prefix=['cat'])\n",
    "users_type = temp.groupby(by=\"userID\").agg({'cat_0': 'sum','cat_1':'sum','cat_2':'sum'})\n",
    "users_type = users_type.reset_index()\n",
    "users_type[\"label\"] = users_type[['cat_0','cat_1','cat_2']].idxmax(axis=1)\n",
    "## sanity check\n",
    "# regular tweets 5675561\n",
    "(np.sum(list(users_type[\"cat_2\"])))"
   ]
  },
  {
   "cell_type": "markdown",
   "metadata": {},
   "source": [
    "### plot of user, promoter and news.."
   ]
  },
  {
   "cell_type": "code",
   "execution_count": 36,
   "metadata": {},
   "outputs": [
    {
     "name": "stdout",
     "output_type": "stream",
     "text": [
      "total users 887180\n",
      "regular_users 673724\n",
      "promoters users 91130\n",
      "news users, 122326\n",
      "887180\n",
      "887180\n"
     ]
    },
    {
     "data": {
      "image/png": "[encoded data removed]",
      "text/plain": [
       "<Figure size 720x360 with 1 Axes>"
      ]
     },
     "metadata": {
      "needs_background": "light"
     },
     "output_type": "display_data"
    }
   ],
   "source": [
    "## no of users in each category\n",
    "print(\"total users\",len(users_type))\n",
    "print(\"regular_users\",len(users_type.loc[users_type.label == \"cat_2\"]))\n",
    "print(\"promoters users\",len(users_type.loc[users_type.label == \"cat_1\"]))\n",
    "print(\"news users,\",len(users_type.loc[users_type.label == \"cat_0\"]))\n",
    "users_ = {\"reg\":len(users_type.loc[users_type.label == \"cat_2\"]),\n",
    " \"prom\":len(users_type.loc[users_type.label == \"cat_1\"]),\n",
    " \"news\":len(users_type.loc[users_type.label == \"cat_0\"])}\n",
    "\n",
    "## sanity check\n",
    "print(np.sum(list(users_.values())))\n",
    "print(len(users_type.userID.unique()))\n",
    "\n",
    "## plotting each user by category\n",
    "fig, ax = plt.subplots(figsize=(10,5)) \n",
    "ax.set_title(\"distrbution of users\")\n",
    "ax.bar(users_.keys(),users_.values())\n",
    "for idx,(key,value) in enumerate(users_.items()):\n",
    "    ax.text( idx - 0.2 ,value + 0.5, value, color='blue',fontsize=14)"
   ]
  },
  {
   "cell_type": "markdown",
   "metadata": {},
   "source": [
    "### getting the normal users"
   ]
  },
  {
   "cell_type": "code",
   "execution_count": 37,
   "metadata": {},
   "outputs": [],
   "source": [
    "## getting all the tweets from normal users(who have max number of user expressed tweets)\n",
    "regular_users = list(users_type[\"userID\"].loc[users_type.label == \"cat_2\"])\n",
    "normal_tweets = (df_dataset.loc[df_dataset.userID.isin(regular_users)])"
   ]
  },
  {
   "cell_type": "code",
   "execution_count": 39,
   "metadata": {},
   "outputs": [],
   "source": [
    "## dump labelled and user types\n",
    "users_type.to_csv(os.path.join(input_dir,\"labelled_data\",\"users_type.csv\"))\n",
    "df_dataset.to_csv(os.path.join(input_dir,\"labelled_data\",\"dataset.csv\"))"
   ]
  },
  {
   "cell_type": "code",
   "execution_count": 56,
   "metadata": {},
   "outputs": [
    {
     "data": {
      "text/plain": [
       "673724"
      ]
     },
     "execution_count": 56,
     "metadata": {},
     "output_type": "execute_result"
    }
   ],
   "source": [
    "len(regular_users)"
   ]
  },
  {
   "cell_type": "code",
   "execution_count": 42,
   "metadata": {},
   "outputs": [
    {
     "data": {
      "text/plain": [
       "6886772"
      ]
     },
     "execution_count": 42,
     "metadata": {},
     "output_type": "execute_result"
    }
   ],
   "source": [
    "len(normal_tweets)"
   ]
  },
  {
   "cell_type": "markdown",
   "metadata": {},
   "source": [
    "## predicting poly and mono users.. (check with most common words as well)"
   ]
  },
  {
   "cell_type": "code",
   "execution_count": 30,
   "metadata": {},
   "outputs": [],
   "source": [
    "def build_vocab(tokens_list):\n",
    "    vocab = Counter()\n",
    "    for tokens in tokens_list:\n",
    "        vocab.update(tokens)\n",
    "    return vocab"
   ]
  },
  {
   "cell_type": "code",
   "execution_count": 31,
   "metadata": {},
   "outputs": [],
   "source": [
    "# return clean text\n",
    "def prepare_text_LDA(sentence):\n",
    "#     tokens = nltk.word_tokenize(sentence)  # now using tweet tokenizer\n",
    "    tweet_tknzr = TweetTokenizer()\n",
    "    tokens = tweet_tknzr.tokenize(sentence)\n",
    "    tokens = [token.lower() for token in tokens if (token not in stopwords and token.isalpha())] # stopwords removal\n",
    "    tokens = [get_lemma(token) for token in tokens]  # lemmatization\n",
    "    return (\" \".join(tokens))"
   ]
  },
  {
   "cell_type": "code",
   "execution_count": 32,
   "metadata": {},
   "outputs": [],
   "source": [
    "## join al the of the tweets for each user\n",
    "def get_tweets_user(df):\n",
    "    tqdm.pandas()\n",
    "    df = df.groupby(['userID'])['tweetText'].progress_apply(lambda x: ','.join(x)).reset_index()\n",
    "    return (df)"
   ]
  },
  {
   "cell_type": "code",
   "execution_count": 60,
   "metadata": {},
   "outputs": [
    {
     "data": {
      "text/plain": [
       "554815"
      ]
     },
     "execution_count": 60,
     "metadata": {},
     "output_type": "execute_result"
    }
   ],
   "source": [
    "len(weed_data.userID.unique())"
   ]
  },
  {
   "cell_type": "code",
   "execution_count": 52,
   "metadata": {},
   "outputs": [],
   "source": [
    "## loading the labelled regular users\n",
    "regular_users = pickle.load(open(os.path.join(poly_dir,\"regular_users.pkl\"),\"rb\"))\n",
    "# weed data , poly data\n",
    "weed_data = pd.read_csv(os.path.join(input_dir,\"weed_data_text2.csv\"),lineterminator=\"\\n\")\n",
    "juul_data = pd.read_csv(os.path.join(input_dir,\"juul_data.csv\"),lineterminator=\"\\n\")"
   ]
  },
  {
   "cell_type": "code",
   "execution_count": 304,
   "metadata": {},
   "outputs": [],
   "source": [
    "## poly are users in weed data and mono are remaining users\n",
    "poly_data = weed_data.loc[weed_data.userID.isin(regular_users)]\n",
    "mono_data = juul_data.loc[juul_data.userID.isin(regular_users)]"
   ]
  },
  {
   "cell_type": "code",
   "execution_count": 305,
   "metadata": {},
   "outputs": [
    {
     "name": "stdout",
     "output_type": "stream",
     "text": [
      "poly data users 432316\n",
      "juul data total users 673724\n"
     ]
    }
   ],
   "source": [
    "## poly_users are the ones defined in weed data and rest are considered as mono\n",
    "poly_users = (poly_data.userID.unique())\n",
    "print(\"poly data users\",len(poly_users))\n",
    "print(\"juul data total users\",len(mono_data.userID.unique()))\n",
    "# total_users = list(poly_users) + list(mono_data.userID.unique())"
   ]
  },
  {
   "cell_type": "code",
   "execution_count": 306,
   "metadata": {},
   "outputs": [
    {
     "name": "stdout",
     "output_type": "stream",
     "text": [
      "total users =  673724\n",
      "no of poly users =  432316\n",
      "no of mono users =  241408\n",
      "% of poly users is  0.6416811632062981\n",
      "% of mono users is  0.35831883679370186\n"
     ]
    }
   ],
   "source": [
    "mono_users = list(set(mono_data.userID.unique()) - set(poly_users))\n",
    "print(\"total users = \", len(regular_users))\n",
    "print(\"no of poly users = \", len(poly_users))\n",
    "print(\"no of mono users = \", len(mono_users))\n",
    "print(\"% of poly users is \", len(poly_users) / len(regular_users))\n",
    "print(\"% of mono users is \", len(mono_users) / len(regular_users))"
   ]
  },
  {
   "cell_type": "markdown",
   "metadata": {},
   "source": [
    "## dump the users"
   ]
  },
  {
   "cell_type": "code",
   "execution_count": 308,
   "metadata": {},
   "outputs": [],
   "source": [
    "# dump the poly_users,regualar_users\n",
    "poly_dir = os.path.join(model_dir,\"poly_users\")\n",
    "\n",
    "pathname = os.path.join(poly_dir,\"poly_users.pkl\")\n",
    "dump_obj(poly_users,pathname)\n",
    "pathname = os.path.join(poly_dir,\"regular_users.pkl\")\n",
    "dump_obj(regular_users,pathname)\n",
    "pathname = os.path.join(poly_dir, \"mono_users.pkl\")\n",
    "dump_obj(mono_users,pathname)"
   ]
  },
  {
   "cell_type": "markdown",
   "metadata": {},
   "source": [
    "### load the poly - mono users"
   ]
  },
  {
   "cell_type": "code",
   "execution_count": 25,
   "metadata": {},
   "outputs": [],
   "source": [
    "poly_users = pickle.load(open(os.path.join(poly_dir,\"poly_users.pkl\"),\"rb\"))\n",
    "regular_users = pickle.load(open(os.path.join(poly_dir,\"regular_users.pkl\"),\"rb\"))\n",
    "# df_dataset = pd.read_csv(os.path.join(input_dir,\"labelled_data\",\"tweets_predicted.csv\"),lineterminator=\"\\n\")"
   ]
  },
  {
   "cell_type": "code",
   "execution_count": 26,
   "metadata": {},
   "outputs": [
    {
     "name": "stdout",
     "output_type": "stream",
     "text": [
      "poly_users 432316\n",
      "poly_tweets 6512011\n",
      "mono users 241408\n",
      "mono tweets 374761\n"
     ]
    }
   ],
   "source": [
    "# normal_tweets = df_dataset.loc[df_dataset.userID.isin(normal_users)]\n",
    "poly_tweets = df_dataset.loc[df_dataset.userID.isin(poly_users)]\n",
    "print(\"poly_users\",len(poly_users))\n",
    "print(\"poly_tweets\",len(poly_tweets))\n",
    "\n",
    "mono_users = list(set(regular_users) - set(poly_users))\n",
    "mono_tweets = df_dataset.loc[df_dataset.userID.isin(mono_users)]\n",
    "print(\"mono users\",len(mono_users))\n",
    "print(\"mono tweets\", len(mono_tweets))"
   ]
  },
  {
   "cell_type": "markdown",
   "metadata": {},
   "source": [
    "### with rt"
   ]
  },
  {
   "cell_type": "code",
   "execution_count": 27,
   "metadata": {},
   "outputs": [
    {
     "name": "stdout",
     "output_type": "stream",
     "text": [
      "all tweets by poly users:  6512011\n",
      "poly users (based with retweets): 432316\n"
     ]
    }
   ],
   "source": [
    "print(\"all tweets by poly users: \", len(poly_tweets))\n",
    "print(\"poly users (based with retweets):\", len(poly_tweets.userID.unique()))"
   ]
  },
  {
   "cell_type": "code",
   "execution_count": 28,
   "metadata": {},
   "outputs": [
    {
     "name": "stdout",
     "output_type": "stream",
     "text": [
      "all tweets by mono users:  374761\n",
      "mono users (based with retweets): 241408\n"
     ]
    }
   ],
   "source": [
    "print(\"all tweets by mono users: \", len(mono_tweets))\n",
    "print(\"mono users (based with retweets):\", len(mono_tweets.userID.unique()))"
   ]
  },
  {
   "cell_type": "code",
   "execution_count": 34,
   "metadata": {},
   "outputs": [
    {
     "data": {
      "application/vnd.jupyter.widget-view+json": {
       "model_id": "a3b4fe99b1ce456f8212e4dbab57e06d",
       "version_major": 2,
       "version_minor": 0
      },
      "text/plain": [
       "HBox(children=(IntProgress(value=0, max=6512011), HTML(value='')))"
      ]
     },
     "metadata": {},
     "output_type": "display_data"
    },
    {
     "name": "stdout",
     "output_type": "stream",
     "text": [
      "\n"
     ]
    },
    {
     "data": {
      "application/vnd.jupyter.widget-view+json": {
       "model_id": "c6a9ebdf3ec3430d9d60c5d8b31002ee",
       "version_major": 2,
       "version_minor": 0
      },
      "text/plain": [
       "HBox(children=(IntProgress(value=0, max=374761), HTML(value='')))"
      ]
     },
     "metadata": {},
     "output_type": "display_data"
    },
    {
     "name": "stdout",
     "output_type": "stream",
     "text": [
      "\n"
     ]
    },
    {
     "data": {
      "application/vnd.jupyter.widget-view+json": {
       "model_id": "ebdc85e334584237ab6d4b3317634b25",
       "version_major": 2,
       "version_minor": 0
      },
      "text/plain": [
       "HBox(children=(IntProgress(value=0, max=6512011), HTML(value='')))"
      ]
     },
     "metadata": {},
     "output_type": "display_data"
    },
    {
     "name": "stdout",
     "output_type": "stream",
     "text": [
      "\n"
     ]
    },
    {
     "data": {
      "application/vnd.jupyter.widget-view+json": {
       "model_id": "77508e53ac0d4544834b1e338526aee6",
       "version_major": 2,
       "version_minor": 0
      },
      "text/plain": [
       "HBox(children=(IntProgress(value=0, max=374761), HTML(value='')))"
      ]
     },
     "metadata": {},
     "output_type": "display_data"
    },
    {
     "name": "stdout",
     "output_type": "stream",
     "text": [
      "\n"
     ]
    }
   ],
   "source": [
    "## cleaning the text\n",
    "tqdm.pandas()\n",
    "poly_tweets[\"tweetText\"] = poly_tweets[\"tweetText\"].progress_apply(clean_text)\n",
    "mono_tweets[\"tweetText\"] = mono_tweets[\"tweetText\"].progress_apply(clean_text)\n",
    "# ## tokenizing and lemmatizing\n",
    "poly_tweets[\"tweetText\"] = (poly_tweets[\"tweetText\"].progress_apply(prepare_text_LDA))\n",
    "mono_tweets[\"tweetText\"] = mono_tweets[\"tweetText\"].progress_apply(prepare_text_LDA)"
   ]
  },
  {
   "cell_type": "markdown",
   "metadata": {},
   "source": [
    "## get the most common words"
   ]
  },
  {
   "cell_type": "markdown",
   "metadata": {},
   "source": [
    "### getting most coomon words for each user"
   ]
  },
  {
   "cell_type": "code",
   "execution_count": 35,
   "metadata": {},
   "outputs": [
    {
     "data": {
      "application/vnd.jupyter.widget-view+json": {
       "model_id": "384ee376dc014ce0b3593463515fdf47",
       "version_major": 2,
       "version_minor": 0
      },
      "text/plain": [
       "HBox(children=(IntProgress(value=0, max=432316), HTML(value='')))"
      ]
     },
     "metadata": {},
     "output_type": "display_data"
    },
    {
     "name": "stdout",
     "output_type": "stream",
     "text": [
      "\n"
     ]
    }
   ],
   "source": [
    "poly_tweets_user = get_tweets_user(poly_tweets)"
   ]
  },
  {
   "cell_type": "code",
   "execution_count": 36,
   "metadata": {},
   "outputs": [
    {
     "data": {
      "application/vnd.jupyter.widget-view+json": {
       "model_id": "b7c53cadfaa5481ba43c268ced1dca60",
       "version_major": 2,
       "version_minor": 0
      },
      "text/plain": [
       "HBox(children=(IntProgress(value=0, max=241408), HTML(value='')))"
      ]
     },
     "metadata": {},
     "output_type": "display_data"
    },
    {
     "name": "stdout",
     "output_type": "stream",
     "text": [
      "\n"
     ]
    }
   ],
   "source": [
    "mono_tweets_user = get_tweets_user(mono_tweets)"
   ]
  },
  {
   "cell_type": "code",
   "execution_count": 39,
   "metadata": {
    "scrolled": false
   },
   "outputs": [
    {
     "data": {
      "application/vnd.jupyter.widget-view+json": {
       "model_id": "03d5579932eb43058c554a6f6a91e694",
       "version_major": 2,
       "version_minor": 0
      },
      "text/plain": [
       "HBox(children=(IntProgress(value=0, max=432316), HTML(value='')))"
      ]
     },
     "metadata": {},
     "output_type": "display_data"
    },
    {
     "data": {
      "application/vnd.jupyter.widget-view+json": {
       "model_id": "67b573602ca1457987b0fa6c93d5b371",
       "version_major": 2,
       "version_minor": 0
      },
      "text/plain": [
       "HBox(children=(IntProgress(value=0, max=241408), HTML(value='')))"
      ]
     },
     "metadata": {},
     "output_type": "display_data"
    }
   ],
   "source": [
    "tokens_p = list(poly_tweets_user[\"tweetText\"].progress_apply(get_tokens_split))\n",
    "tokens_j = list(mono_tweets_user[\"tweetText\"].progress_apply(get_tokens_splitt))"
   ]
  },
  {
   "cell_type": "code",
   "execution_count": null,
   "metadata": {},
   "outputs": [],
   "source": [
    "vocab = build_vocab(tokens_p)\n",
    "list(vocab.most_common()[:30])"
   ]
  },
  {
   "cell_type": "code",
   "execution_count": 46,
   "metadata": {},
   "outputs": [
    {
     "data": {
      "text/plain": [
       "array(['weed', 'i', 'smoke', 'juul', 'like', 'marijuana', 'get',\n",
       "       'smoking', 'say', 'u', 'people', 'make', 'one', 'smell', 'hit',\n",
       "       'go', 'need', 'shit', 'high', 'the', 'bro', 'good', 'pod', 'know',\n",
       "       'want', 'hash', 'time', 'kid', 'it', 'drug'], dtype='<U9')"
      ]
     },
     "execution_count": 46,
     "metadata": {},
     "output_type": "execute_result"
    }
   ],
   "source": [
    "np.array([ele[0] for ele in list(vocab.most_common()[:30])])"
   ]
  },
  {
   "cell_type": "code",
   "execution_count": null,
   "metadata": {},
   "outputs": [],
   "source": [
    "## most common words for juul user tweets\n",
    "vocab1 = build_vocab(tokens_j)"
   ]
  },
  {
   "cell_type": "code",
   "execution_count": 47,
   "metadata": {
    "scrolled": false
   },
   "outputs": [
    {
     "data": {
      "text/plain": [
       "array(['juul', 'i', 'pod', 'say', 'hit', 'like', 'it', 'bro', 'dont',\n",
       "       'one', 'get', 'nicotine', 'u', 'class', 'please', 'boy', 'my',\n",
       "       'hitting', 'writing', 'buy', 'me', 'kid', 'give', 'rip', 'smoke',\n",
       "       'the', 'fuck', 'and', 'let', 'life'], dtype='<U8')"
      ]
     },
     "execution_count": 47,
     "metadata": {},
     "output_type": "execute_result"
    }
   ],
   "source": [
    "np.array([ele[0] for ele in list(vocab1.most_common()[:30])])"
   ]
  },
  {
   "cell_type": "markdown",
   "metadata": {},
   "source": [
    "## LDA"
   ]
  },
  {
   "cell_type": "code",
   "execution_count": null,
   "metadata": {},
   "outputs": [],
   "source": [
    "temp_dir = os.path.join(model_dir,\"temp\")"
   ]
  },
  {
   "cell_type": "code",
   "execution_count": null,
   "metadata": {},
   "outputs": [],
   "source": [
    "dictionary = corpora.Dictionary(tokens_p)  # tokens_j\n",
    "corpus = [dictionary.doc2bow(text) for text in tokens_p] # tokens_j\n",
    "pickle.dump(corpus, open(os.path.join(temp_dir,'corpus_m.pkl'), 'wb'))\n",
    "dictionary.save(os.path.join(temp_dir,'dictionary_m.gensim'))\n",
    "## LDA\n",
    "NUM_TOPICS = 5\n",
    "ldamodel = gensim.models.ldamodel.LdaModel(corpus, num_topics = NUM_TOPICS, id2word=dictionary, passes=8)\n",
    "ldamodel.save(os.path.join(temp_dir,'model_m.gensim'))\n",
    "topics = ldamodel.print_topics(num_words=4)"
   ]
  },
  {
   "cell_type": "code",
   "execution_count": null,
   "metadata": {},
   "outputs": [],
   "source": [
    "for topic in topics:\n",
    "    print(topic)"
   ]
  },
  {
   "cell_type": "code",
   "execution_count": null,
   "metadata": {
    "scrolled": true
   },
   "outputs": [],
   "source": [
    "## poly\n",
    "dictionary = gensim.corpora.Dictionary.load(os.path.join(temp_dir,'dictionary_m.gensim'))\n",
    "corpus = pickle.load(open(os.path.join(temp_dir,'corpus_m.pkl'), 'rb'))\n",
    "lda = gensim.models.ldamodel.LdaModel.load(os.path.join(temp_dir,'model_m.gensim'))\n",
    "lda_display = pyLDAvis.gensim.prepare(lda, corpus, dictionary, sort_topics=False)\n",
    "pyLDAvis.display(lda_display)"
   ]
  },
  {
   "cell_type": "code",
   "execution_count": null,
   "metadata": {},
   "outputs": [],
   "source": [
    "##### mono\n",
    "dictionary = corpora.Dictionary(tokens_j)  # tokens_j\n",
    "corpus = [dictionary.doc2bow(text) for text in tokens_j] # tokens_j\n",
    "pickle.dump(corpus, open(os.path.join(temp_dir,'corpus_m.pkl'), 'wb'))\n",
    "dictionary.save(os.path.join(temp_dir,'dictionary_m.gensim'))\n",
    "## LDA\n",
    "NUM_TOPICS = 5\n",
    "ldamodel = gensim.models.ldamodel.LdaModel(corpus, num_topics = NUM_TOPICS, id2word=dictionary, passes=8)\n",
    "ldamodel.save(os.path.join(temp_dir,'model_m.gensim'))\n",
    "topics = ldamodel.print_topics(num_words=4)"
   ]
  },
  {
   "cell_type": "code",
   "execution_count": null,
   "metadata": {},
   "outputs": [],
   "source": [
    "## mono\n",
    "dictionary = gensim.corpora.Dictionary.load(os.path.join(temp_dir,'dictionary_m.gensim'))\n",
    "corpus = pickle.load(open(os.path.join(temp_dir,'corpus_m.pkl'), 'rb'))\n",
    "lda = gensim.models.ldamodel.LdaModel.load(os.path.join(temp_dir,'model_m.gensim'))\n",
    "lda_display = pyLDAvis.gensim.prepare(lda, corpus, dictionary, sort_topics=False)\n",
    "pyLDAvis.display(lda_display)"
   ]
  },
  {
   "cell_type": "markdown",
   "metadata": {},
   "source": [
    "## get further categorization of poly_subtypes"
   ]
  },
  {
   "cell_type": "markdown",
   "metadata": {},
   "source": [
    "### getting first occurances of each user  - consolidation file"
   ]
  },
  {
   "cell_type": "markdown",
   "metadata": {},
   "source": [
    "### for poly catgories {j_before and j_after} based on juul_data and weed "
   ]
  },
  {
   "cell_type": "code",
   "execution_count": 303,
   "metadata": {},
   "outputs": [],
   "source": [
    "first = pd.read_csv(os.path.join(input_dir,\"user_first.csv\"),lineterminator=\"\\n\")\n",
    "first = first.loc[first.userID.isin(poly_users)]  ## we only look for poly users and dicard the rest\n",
    "\n",
    "first[\"juul_first\"] = pd.to_datetime(first[\"juul_first\"])\n",
    "first[\"weed_first\"] = pd.to_datetime(first[\"weed_first\"])\n",
    "first['category'] = first.apply(lambda x : 'j_before' if x['juul_first'] <= x['weed_first'] else \"j_after\", axis=1)\n"
   ]
  },
  {
   "cell_type": "code",
   "execution_count": 100,
   "metadata": {},
   "outputs": [
    {
     "name": "stdout",
     "output_type": "stream",
     "text": [
      "Poly type users calculated\n",
      "total poly users = 432316\n",
      "****************\n",
      "\n",
      "juul before =  52702 ( 0.12190619824387716 )\n",
      "juul after =  379614 ( 0.8780938017561228 )\n"
     ]
    }
   ],
   "source": [
    "print(\"Poly type users calculated\")\n",
    "print(\"total poly users =\", len(poly_users))\n",
    "print(\"****************\\n\")\n",
    "juul_before = first['userID'].loc[first['category']=='j_before']\n",
    "juul_after = first['userID'].loc[first['category']=='j_after']\n",
    "print(\"juul before = \",len(juul_before), \"(\", len(juul_before) / len(poly_users),\")\")\n",
    "print(\"juul after = \",len(juul_after),\"(\", len(juul_after) / len(poly_users),\")\")"
   ]
  },
  {
   "cell_type": "markdown",
   "metadata": {},
   "source": [
    "Poly type users calculated\n",
    "total users = 640\n",
    "\n",
    "****************\n",
    "\n",
    "% of juul before users =  0.190625\n",
    "len of juul before =  122\n",
    "\n",
    "\n",
    "% of juul after users =  0.809375\n",
    "len of juul after =  518\n",
    "\n",
    "\n",
    "% of undefined users =  0.0"
   ]
  },
  {
   "cell_type": "code",
   "execution_count": 301,
   "metadata": {},
   "outputs": [
    {
     "data": {
      "text/plain": [
       "241408"
      ]
     },
     "execution_count": 301,
     "metadata": {},
     "output_type": "execute_result"
    }
   ],
   "source": [
    "## users who remain mono only\n",
    "mono_only = (first_data[first_data.weed_first.isnull()])\n",
    "len(first_data[first_data.weed_first.isnull()])"
   ]
  },
  {
   "cell_type": "markdown",
   "metadata": {},
   "source": [
    "## plotting the change of poly_before to poly again"
   ]
  },
  {
   "cell_type": "code",
   "execution_count": null,
   "metadata": {},
   "outputs": [],
   "source": [
    "## getting the poly_before user juul before and first weed tweet"
   ]
  },
  {
   "cell_type": "code",
   "execution_count": 104,
   "metadata": {},
   "outputs": [],
   "source": [
    "first = first.sort_values(by=[\"juul_first\"],ascending=True)"
   ]
  },
  {
   "cell_type": "code",
   "execution_count": 105,
   "metadata": {},
   "outputs": [
    {
     "data": {
      "text/plain": [
       "<matplotlib.legend.Legend at 0x7fc5a1789e48>"
      ]
     },
     "execution_count": 105,
     "metadata": {},
     "output_type": "execute_result"
    },
    {
     "data": {
      "image/png": "[encoded data removed]",
      "text/plain": [
       "<Figure size 432x288 with 1 Axes>"
      ]
     },
     "metadata": {
      "needs_background": "light"
     },
     "output_type": "display_data"
    }
   ],
   "source": [
    "plt.title(\"distribution of juul before and juul_after\")\n",
    "plt.bar(np.arange(1),[len(juul_before)],color=\"blue\",label=\"juul_before\")\n",
    "plt.bar(2,[len(juul_after)],color=\"green\",label= \"juul_after\")\n",
    "plt.legend()"
   ]
  },
  {
   "cell_type": "code",
   "execution_count": null,
   "metadata": {},
   "outputs": [],
   "source": [
    "## lot of time to plot\n",
    "plt.figure(figsize=(18,10))\n",
    "users_list = list(first.userID.unique())\n",
    "plt.scatter(list(first[\"juul_first\"]),[str(user) for user in users_list],color=\"blue\")\n",
    "plt.scatter(list(first[\"weed_first\"]), [str(user) for user in users_list],color=\"green\")\n",
    "plt.tick_params(\n",
    "    axis='y',          # changes apply to the x-axis\n",
    "    which='both',      # both major and minor ticks are affected\n",
    "    left=False,      # ticks along the bottom edge are off\n",
    "    top=False,         # ticks along the top edge are off\n",
    "    labelleft=False) # labels along the bottom edge are of\n",
    "plt.ylabel(\"users\", fontsize = 15)\n",
    "plt.xlabel(\"timeline \", fontsize=15)\n",
    "plt.title(\"timeline of change of users from mono to poly\" )\n",
    "\n",
    "plt.show()"
   ]
  },
  {
   "cell_type": "code",
   "execution_count": 106,
   "metadata": {},
   "outputs": [],
   "source": [
    "first[\"juul_first\"] = pd.to_datetime(first[\"juul_first\"])\n",
    "first[\"weed_first\"] = pd.to_datetime(first[\"weed_first\"])\n",
    "first_before = first.loc[first.userID.isin(juul_before)]\n",
    "first_before[\"interval\"] = first_before[\"weed_first\"].dt.date - first[\"juul_first\"].dt.date ## weed tweets wil be after juul\n"
   ]
  },
  {
   "cell_type": "code",
   "execution_count": 107,
   "metadata": {},
   "outputs": [],
   "source": [
    "days = [ele.days for ele in list(first_before[\"interval\"])]\n",
    "days.sort()"
   ]
  },
  {
   "cell_type": "code",
   "execution_count": 108,
   "metadata": {},
   "outputs": [],
   "source": [
    "pos = 0\n",
    "counts = {}\n",
    "delta = 30\n",
    "counts[(pos+delta)] = 0\n",
    "for ele in days:\n",
    "    if  ele < pos + delta:\n",
    "        counts[(pos+ delta)] += 1\n",
    "    else:\n",
    "        pos += delta\n",
    "        counts[(pos + delta)] = 1"
   ]
  },
  {
   "cell_type": "code",
   "execution_count": 109,
   "metadata": {},
   "outputs": [],
   "source": [
    "values = [ele[1] for ele in sorted(counts.items(), key=lambda x: x[0])]\n",
    "keys = [ele[0] for ele in sorted(counts.items(), key=lambda x: x[0])]"
   ]
  },
  {
   "cell_type": "code",
   "execution_count": 110,
   "metadata": {
    "scrolled": false
   },
   "outputs": [
    {
     "data": {
      "image/png": "[encoded data removed]",
      "text/plain": [
       "<Figure size 1440x720 with 1 Axes>"
      ]
     },
     "metadata": {
      "needs_background": "light"
     },
     "output_type": "display_data"
    }
   ],
   "source": [
    "plt.figure(figsize=(20,10))\n",
    "plt.bar(keys,values,width = 20)\n",
    "plt.title(\"Delay between juul first and substance tweet for juul_before users (=52550)\")\n",
    "plt.xlabel(\"Delay (30 days intrval) \")\n",
    "plt.ylabel(\"Delay\")\n",
    "plt.show()"
   ]
  },
  {
   "cell_type": "markdown",
   "metadata": {},
   "source": [
    "## Training the classifier on poly and mono data"
   ]
  },
  {
   "cell_type": "code",
   "execution_count": 23,
   "metadata": {},
   "outputs": [],
   "source": [
    "def get_length(text):\n",
    "#     return(list(map(len, text.split())))\n",
    "    return (len(text.split()))"
   ]
  },
  {
   "cell_type": "code",
   "execution_count": 24,
   "metadata": {},
   "outputs": [],
   "source": [
    "def svm_wrapper(X_train,Y_train):\n",
    "#     svm = SVC(kernel='rbf',C=10)\n",
    "    svm = LinearSVC(C=1,verbose=1)\n",
    "    svm.fit(X_train,Y_train,)\n",
    "    return svm"
   ]
  },
  {
   "cell_type": "code",
   "execution_count": 300,
   "metadata": {},
   "outputs": [
    {
     "data": {
      "text/plain": [
       "42784"
      ]
     },
     "execution_count": 300,
     "metadata": {},
     "output_type": "execute_result"
    }
   ],
   "source": [
    "len(mono_users)"
   ]
  },
  {
   "cell_type": "code",
   "execution_count": 25,
   "metadata": {},
   "outputs": [],
   "source": [
    "# weed data , poly data\n",
    "weed_data = pd.read_csv(os.path.join(input_dir,\"weed_data_text2.csv\"),lineterminator=\"\\n\")\n",
    "juul_data = pd.read_csv(os.path.join(input_dir,\"juul_data.csv\"),lineterminator=\"\\n\")"
   ]
  },
  {
   "cell_type": "code",
   "execution_count": 26,
   "metadata": {},
   "outputs": [],
   "source": [
    "juul_data = juul_data[[\"tweetCreatedAt\",\"tweetId\",\"tweetText\", \"userID\"]]"
   ]
  },
  {
   "cell_type": "code",
   "execution_count": 27,
   "metadata": {},
   "outputs": [
    {
     "data": {
      "application/vnd.jupyter.widget-view+json": {
       "model_id": "9be511acca4947b68a72445f047f8f1f",
       "version_major": 2,
       "version_minor": 0
      },
      "text/plain": [
       "HBox(children=(IntProgress(value=0, max=10420444), HTML(value='')))"
      ]
     },
     "metadata": {},
     "output_type": "display_data"
    },
    {
     "name": "stdout",
     "output_type": "stream",
     "text": [
      "\n"
     ]
    },
    {
     "data": {
      "application/vnd.jupyter.widget-view+json": {
       "model_id": "04b02abd51d64cb9b68187137ee3ac7e",
       "version_major": 2,
       "version_minor": 0
      },
      "text/plain": [
       "HBox(children=(IntProgress(value=0, max=1692201), HTML(value='')))"
      ]
     },
     "metadata": {},
     "output_type": "display_data"
    },
    {
     "name": "stdout",
     "output_type": "stream",
     "text": [
      "\n"
     ]
    }
   ],
   "source": [
    "## cleaning the text\n",
    "tqdm.pandas()\n",
    "weed_data[\"tweetText\"] = weed_data[\"tweetText\"].progress_apply(clean_text)\n",
    "juul_data[\"tweetText\"] = juul_data[\"tweetText\"].progress_apply(clean_text)"
   ]
  },
  {
   "cell_type": "code",
   "execution_count": 28,
   "metadata": {},
   "outputs": [
    {
     "data": {
      "application/vnd.jupyter.widget-view+json": {
       "model_id": "4a71bc6e4e0640dc852b1c03b8fb706b",
       "version_major": 2,
       "version_minor": 0
      },
      "text/plain": [
       "HBox(children=(IntProgress(value=0, max=554815), HTML(value='')))"
      ]
     },
     "metadata": {},
     "output_type": "display_data"
    },
    {
     "name": "stdout",
     "output_type": "stream",
     "text": [
      "\n"
     ]
    },
    {
     "data": {
      "application/vnd.jupyter.widget-view+json": {
       "model_id": "f5183aacc2cd4e52ab3b1a30b69299a5",
       "version_major": 2,
       "version_minor": 0
      },
      "text/plain": [
       "HBox(children=(IntProgress(value=0, max=887180), HTML(value='')))"
      ]
     },
     "metadata": {},
     "output_type": "display_data"
    },
    {
     "name": "stdout",
     "output_type": "stream",
     "text": [
      "\n"
     ]
    }
   ],
   "source": [
    "poly_tweets_user = get_tweets_user(weed_data)\n",
    "mono_tweets_user = get_tweets_user(juul_data)"
   ]
  },
  {
   "cell_type": "code",
   "execution_count": 29,
   "metadata": {},
   "outputs": [],
   "source": [
    "poly_tweets_user['label'] = \"poly\"\n",
    "mono_tweets_user['label'] = \"mono\"\n",
    "frames = [poly_tweets_user, mono_tweets_user]\n",
    "df_concat_tweets = pd.concat(frames)"
   ]
  },
  {
   "cell_type": "code",
   "execution_count": 30,
   "metadata": {},
   "outputs": [
    {
     "data": {
      "application/vnd.jupyter.widget-view+json": {
       "model_id": "3bc40052b6e94b93b750e2e030861b34",
       "version_major": 2,
       "version_minor": 0
      },
      "text/plain": [
       "HBox(children=(IntProgress(value=0, max=1441995), HTML(value='')))"
      ]
     },
     "metadata": {},
     "output_type": "display_data"
    },
    {
     "name": "stdout",
     "output_type": "stream",
     "text": [
      "\n"
     ]
    }
   ],
   "source": [
    "length = ((df_concat_tweets[\"tweetText\"])).progress_apply(get_length)"
   ]
  },
  {
   "cell_type": "code",
   "execution_count": 31,
   "metadata": {},
   "outputs": [
    {
     "name": "stdout",
     "output_type": "stream",
     "text": [
      "average legth of tweets 124.64053204067976\n",
      "median legth of tweets 26.0\n"
     ]
    }
   ],
   "source": [
    "print(\"average legth of tweets\",np.mean(length))\n",
    "print(\"median legth of tweets\",np.median(length))\n",
    "max_len = int(np.median(length))"
   ]
  },
  {
   "cell_type": "markdown",
   "metadata": {},
   "source": [
    "####  bilstm model"
   ]
  },
  {
   "cell_type": "code",
   "execution_count": 32,
   "metadata": {},
   "outputs": [],
   "source": [
    "## taking only sample of the data (=1% of the data) as data is huge\n",
    "df_tweets = (df_concat_tweets.sample(frac=0.01))"
   ]
  },
  {
   "cell_type": "code",
   "execution_count": 33,
   "metadata": {},
   "outputs": [
    {
     "data": {
      "text/plain": [
       "14420"
      ]
     },
     "execution_count": 33,
     "metadata": {},
     "output_type": "execute_result"
    }
   ],
   "source": [
    "len(df_tweets)"
   ]
  },
  {
   "cell_type": "code",
   "execution_count": 34,
   "metadata": {},
   "outputs": [
    {
     "name": "stdout",
     "output_type": "stream",
     "text": [
      "fitting tokenizer on text\n",
      "getting the encoded data\n",
      "padding the input sequnce\n",
      "labelling data\n"
     ]
    },
    {
     "data": {
      "text/plain": [
       "77163"
      ]
     },
     "execution_count": 34,
     "metadata": {},
     "output_type": "execute_result"
    }
   ],
   "source": [
    "X,y, keras_tkzr = load_data(df_tweets,max_len)\n",
    "vocab_size = len(keras_tkzr.word_index) + 1\n",
    "vocab_size"
   ]
  },
  {
   "cell_type": "code",
   "execution_count": 35,
   "metadata": {},
   "outputs": [],
   "source": [
    "X_train,X_test,Y_train,Y_test  = train_test_split(X, y,test_size =0.20,random_state= 4,shuffle=True ,)"
   ]
  },
  {
   "cell_type": "code",
   "execution_count": 36,
   "metadata": {},
   "outputs": [
    {
     "name": "stdout",
     "output_type": "stream",
     "text": [
      "(11536, 26)\n",
      "(2884, 26)\n"
     ]
    }
   ],
   "source": [
    "print(X_train.shape)\n",
    "print(X_test.shape)"
   ]
  },
  {
   "cell_type": "code",
   "execution_count": 37,
   "metadata": {
    "scrolled": true
   },
   "outputs": [],
   "source": [
    "#### embeddings\n",
    "embedding_file = os.path.join(embeddings_dir,\"glove.twitter.27B.100d.txt\")"
   ]
  },
  {
   "cell_type": "code",
   "execution_count": 38,
   "metadata": {},
   "outputs": [],
   "source": [
    "word2vec = get_word2vec(embedding_file)\n",
    "from numpy import zeros\n",
    "embedding_matrix = zeros((vocab_size, 100))\n",
    "for word, i in keras_tkzr.word_index.items():\n",
    "    embedding_vector = word2vec.get(word)\n",
    "    if embedding_vector is not None:\n",
    "        embedding_matrix[i] = embedding_vector"
   ]
  },
  {
   "cell_type": "code",
   "execution_count": 39,
   "metadata": {},
   "outputs": [],
   "source": [
    "max_len= max_len\n",
    "Dimension = 100\n",
    "n_words = vocab_size\n",
    "input = Input(shape=(max_len,))\n",
    "model = Embedding(n_words,Dimension,weights=[embedding_matrix],input_length=max_len)(input)\n",
    "model =  Bidirectional (LSTM (100,return_sequences=True,dropout=0.25),merge_mode='concat')(model)\n",
    "model = Flatten()(model)\n",
    "model = Dense(100,activation='relu')(model)\n",
    "output = Dense(1,activation='sigmoid')(model)"
   ]
  },
  {
   "cell_type": "code",
   "execution_count": 40,
   "metadata": {},
   "outputs": [],
   "source": [
    "model = Model(input,output)"
   ]
  },
  {
   "cell_type": "code",
   "execution_count": 41,
   "metadata": {},
   "outputs": [
    {
     "name": "stdout",
     "output_type": "stream",
     "text": [
      "_________________________________________________________________\n",
      "Layer (type)                 Output Shape              Param #   \n",
      "=================================================================\n",
      "input_1 (InputLayer)         (None, 26)                0         \n",
      "_________________________________________________________________\n",
      "embedding_1 (Embedding)      (None, 26, 100)           7716300   \n",
      "_________________________________________________________________\n",
      "bidirectional_1 (Bidirection (None, 26, 200)           160800    \n",
      "_________________________________________________________________\n",
      "flatten_1 (Flatten)          (None, 5200)              0         \n",
      "_________________________________________________________________\n",
      "dense_1 (Dense)              (None, 100)               520100    \n",
      "_________________________________________________________________\n",
      "dense_2 (Dense)              (None, 1)                 101       \n",
      "=================================================================\n",
      "Total params: 8,397,301\n",
      "Trainable params: 8,397,301\n",
      "Non-trainable params: 0\n",
      "_________________________________________________________________\n"
     ]
    }
   ],
   "source": [
    "sgd = SGD(lr=0.1, momentum=0.9, decay=0.0, nesterov=False)\n",
    "model.compile(loss='binary_crossentropy', optimizer=sgd, metrics=['accuracy']) \n",
    "model.summary()"
   ]
  },
  {
   "cell_type": "code",
   "execution_count": 42,
   "metadata": {},
   "outputs": [
    {
     "name": "stdout",
     "output_type": "stream",
     "text": [
      "Train on 8652 samples, validate on 2884 samples\n",
      "Epoch 1/5\n",
      "8652/8652 [==============================] - 62s 7ms/step - loss: 0.2116 - acc: 0.9126 - val_loss: 0.0478 - val_acc: 0.9809\n",
      "Epoch 2/5\n",
      "8652/8652 [==============================] - 56s 6ms/step - loss: 0.0477 - acc: 0.9844 - val_loss: 0.0382 - val_acc: 0.9844\n",
      "Epoch 3/5\n",
      "8652/8652 [==============================] - 55s 6ms/step - loss: 0.0303 - acc: 0.9901 - val_loss: 0.0450 - val_acc: 0.9816\n",
      "Epoch 4/5\n",
      "8652/8652 [==============================] - 56s 6ms/step - loss: 0.0237 - acc: 0.9920 - val_loss: 0.0348 - val_acc: 0.9875\n",
      "Epoch 5/5\n",
      "8652/8652 [==============================] - 59s 7ms/step - loss: 0.0180 - acc: 0.9940 - val_loss: 0.0438 - val_acc: 0.9872\n"
     ]
    }
   ],
   "source": [
    "hist = model.fit(X_train,Y_train,validation_split=0.25, nb_epoch = 5, verbose = 1)"
   ]
  },
  {
   "cell_type": "code",
   "execution_count": 43,
   "metadata": {},
   "outputs": [
    {
     "name": "stdout",
     "output_type": "stream",
     "text": [
      "Accuracy: 98.578363\n"
     ]
    }
   ],
   "source": [
    "loss, accuracy = model.evaluate(X_test, Y_test, verbose=2)\n",
    "print('Accuracy: %f' % (accuracy*100))"
   ]
  },
  {
   "cell_type": "code",
   "execution_count": 44,
   "metadata": {},
   "outputs": [
    {
     "name": "stdout",
     "output_type": "stream",
     "text": [
      "  Classification Report:\n",
      "              precision    recall  f1-score   support\n",
      "\n",
      "          0       0.99      0.99      0.99      1808\n",
      "          1       0.98      0.99      0.98      1076\n",
      "\n",
      "avg / total       0.99      0.99      0.99      2884\n",
      " \n",
      "\n"
     ]
    }
   ],
   "source": [
    "from sklearn.metrics import classification_report,confusion_matrix\n",
    "temp = model.predict(X_test)\n",
    "y_pred = [0 if value< 0.5 else 1 for value in temp] \n",
    "print('  Classification Report:\\n',classification_report(Y_test,y_pred),'\\n')"
   ]
  },
  {
   "cell_type": "code",
   "execution_count": 45,
   "metadata": {},
   "outputs": [
    {
     "name": "stdout",
     "output_type": "stream",
     "text": [
      "[LibLinear]  Classification Report:\n",
      "              precision    recall  f1-score   support\n",
      "\n",
      "          0       0.63      0.42      0.51      1808\n",
      "          1       0.38      0.59      0.46      1076\n",
      "\n",
      "avg / total       0.54      0.48      0.49      2884\n",
      " \n",
      "\n"
     ]
    }
   ],
   "source": [
    "svm = LinearSVC(C=1,verbose=1)\n",
    "svm.fit(X_train,Y_train)\n",
    "## svm accuracy on poly mono data ## C=1 kernel= linear\n",
    "Y_pred = svm.predict(X_test)\n",
    "print('  Classification Report:\\n',classification_report(Y_test,Y_pred),'\\n')"
   ]
  },
  {
   "cell_type": "code",
   "execution_count": 46,
   "metadata": {},
   "outputs": [
    {
     "name": "stdout",
     "output_type": "stream",
     "text": [
      "  Classification Report Random forest (without PCA):\n",
      "              precision    recall  f1-score   support\n",
      "\n",
      "          0       0.83      0.67      0.74      1808\n",
      "          1       0.58      0.76      0.66      1076\n",
      "\n",
      "avg / total       0.73      0.71      0.71      2884\n",
      " \n",
      "\n"
     ]
    },
    {
     "data": {
      "text/plain": [
       "0.7059639389736477"
      ]
     },
     "execution_count": 46,
     "metadata": {},
     "output_type": "execute_result"
    }
   ],
   "source": [
    "rf = RandomForestClassifier(n_estimators=100, max_depth=2,\n",
    "                             random_state=0)\n",
    "rf.fit(X_train,Y_train)\n",
    "Y_pred = rf.predict(X_test)\n",
    "print('  Classification Report Random forest (without PCA):\\n',classification_report(Y_test,Y_pred),'\\n')\n",
    "## accuarcy score\n",
    "(Y_test == Y_pred).mean()"
   ]
  },
  {
   "cell_type": "code",
   "execution_count": 47,
   "metadata": {},
   "outputs": [
    {
     "name": "stdout",
     "output_type": "stream",
     "text": [
      "  Classification Report Etree (without PCA):\n",
      "              precision    recall  f1-score   support\n",
      "\n",
      "          0       0.87      0.81      0.84      1808\n",
      "          1       0.72      0.80      0.76      1076\n",
      "\n",
      "avg / total       0.81      0.81      0.81      2884\n",
      " \n",
      "\n"
     ]
    },
    {
     "data": {
      "text/plain": [
       "0.8072122052704577"
      ]
     },
     "execution_count": 47,
     "metadata": {},
     "output_type": "execute_result"
    }
   ],
   "source": [
    "## etree without PCA\n",
    "etree = ExtraTreesClassifier(n_estimators=200)\n",
    "etree.fit(X_train,Y_train)\n",
    "Y_pred = etree.predict(X_test)\n",
    "print('  Classification Report Etree (without PCA):\\n',classification_report(Y_test,Y_pred),'\\n')\n",
    "## accuarcy score\n",
    "(Y_test == Y_pred).mean()"
   ]
  },
  {
   "cell_type": "code",
   "execution_count": 48,
   "metadata": {},
   "outputs": [],
   "source": [
    "# from xgboost import XGBClassifier\n",
    "# xgb = XGBClassifier()\n",
    "# xgb.fit(X_train, y_train)\n",
    "# Y_pred = etree.predict(X_test)\n",
    "# print('  Classification Report Etree (without PCA):\\n',classification_report(Y_test,Y_pred),'\\n')\n",
    "# ## accuarcy score\n",
    "# (Y_test == Y_pred).mean()"
   ]
  },
  {
   "cell_type": "code",
   "execution_count": 54,
   "metadata": {},
   "outputs": [],
   "source": [
    "## dump the models --  dump the lstm model\n",
    "# dump_obj(model,os.path.join(classifier_dir,\"lstm_model.pkl\"))\n",
    "dump_obj(keras_tkzr,os.path.join(classifier_dir,\"keras_vect.pkl\"))"
   ]
  },
  {
   "cell_type": "markdown",
   "metadata": {},
   "source": [
    "#### PCA option"
   ]
  },
  {
   "cell_type": "code",
   "execution_count": 50,
   "metadata": {},
   "outputs": [],
   "source": [
    "from sklearn.decomposition import PCA\n",
    "pca = PCA(n_components=10)\n",
    "X_new = pca.fit_transform(X)\n",
    "X_train,X_test,Y_train,Y_test  = train_test_split(X_new, y,test_size =0.20,random_state= 4 )"
   ]
  },
  {
   "cell_type": "code",
   "execution_count": 51,
   "metadata": {},
   "outputs": [
    {
     "data": {
      "text/plain": [
       "(14420, 10)"
      ]
     },
     "execution_count": 51,
     "metadata": {},
     "output_type": "execute_result"
    }
   ],
   "source": [
    "X_new.shape"
   ]
  },
  {
   "cell_type": "code",
   "execution_count": null,
   "metadata": {},
   "outputs": [
    {
     "name": "stdout",
     "output_type": "stream",
     "text": [
      "[LibSVM]"
     ]
    }
   ],
   "source": [
    "svm = SVC(C=1,kernel='linear',verbose=2)\n",
    "svm.fit(X_train,Y_train)\n",
    "## svm\n",
    "Y_pred = svm.predict(X_test)\n",
    "print('  Classification Report:\\n',classification_report(Y_test,Y_pred),'\\n')\n",
    "## accuarcy score\n",
    "(Y_test == Y_pred).mean()"
   ]
  },
  {
   "cell_type": "code",
   "execution_count": 53,
   "metadata": {},
   "outputs": [
    {
     "name": "stdout",
     "output_type": "stream",
     "text": [
      "  Classification Report:\n",
      "              precision    recall  f1-score   support\n",
      "\n",
      "          0       0.65      0.93      0.77      1808\n",
      "          1       0.59      0.16      0.25      1076\n",
      "\n",
      "avg / total       0.63      0.64      0.57      2884\n",
      " \n",
      "\n"
     ]
    },
    {
     "data": {
      "text/plain": [
       "0.644244105409154"
      ]
     },
     "execution_count": 53,
     "metadata": {},
     "output_type": "execute_result"
    }
   ],
   "source": [
    "rf = RandomForestClassifier(n_estimators=100, max_depth=2,\n",
    "                             random_state=0)\n",
    "rf.fit(X_train,Y_train)\n",
    "Y_pred = rf.predict(X_test)\n",
    "print('  Classification Report:\\n',classification_report(Y_test,Y_pred),'\\n')\n",
    "## accuarcy score\n",
    "(Y_test == Y_pred).mean()"
   ]
  },
  {
   "cell_type": "markdown",
   "metadata": {},
   "source": [
    "## PREDICTING ESCALATION"
   ]
  },
  {
   "cell_type": "markdown",
   "metadata": {},
   "source": [
    "### get the change of mono as(poly_before) to poly"
   ]
  },
  {
   "cell_type": "code",
   "execution_count": null,
   "metadata": {},
   "outputs": [],
   "source": [
    "## bucket the users in bucket :\n",
    "#1 2015 - [2015-2018] \n",
    "#2 2015- 2016 - [17 - 18]\n",
    "#3 2015 - 2017 - [18]"
   ]
  },
  {
   "cell_type": "code",
   "execution_count": null,
   "metadata": {},
   "outputs": [],
   "source": [
    "## we are taking final labels rather than next year"
   ]
  },
  {
   "cell_type": "code",
   "execution_count": 183,
   "metadata": {},
   "outputs": [],
   "source": [
    "# so wil filter the users that does have weed tweet before 2016\n",
    "# it return the mono user in that year\n",
    "def get_mono(first_data,year):\n",
    "    first_data[\"weed_first\"] = pd.to_datetime(first_data[\"weed_first\"])\n",
    "    first_data[\"juul_first\"] = pd.to_datetime(first_data[\"juul_first\"])\n",
    "    juul_users = list(first_data[\"userID\"].loc[first_data[\"juul_first\"].dt.year < year])\n",
    "    print(\"juul_initial\",len(juul_users))\n",
    "    weed_users = list(first_data[\"userID\"].loc[(first_data[\"weed_first\"].dt.year < (year))])\n",
    "    mono_users = list(set(juul_users) - set(weed_users))\n",
    "    print(\"mono final\",len(mono_users))\n",
    "    return mono_users"
   ]
  },
  {
   "cell_type": "code",
   "execution_count": 376,
   "metadata": {},
   "outputs": [],
   "source": [
    "## return the label of the poly users\n",
    "def get_label_mono(tweets_data,first_data):  ## will change for year\n",
    "    users = tweets_data.userID.unique()\n",
    "    print(\"initial_users\",len(users))\n",
    "    poly_labelled =  list(first_data[\"userID\"].loc[first_data.userID.isin(users) & (first_data.weed_first.isnull())]) ## all not null will become poly\n",
    "    mono_labelled = (list(set(users) - set(poly_labelled)))   ## users that will change to poly in future year\n",
    "    print(\"poly_users that will change\",len(poly_labelled))\n",
    "    print(\"users reaminin mono\",len(mono_labelled))\n",
    "    tweets_data[\"label\"] = 0   ## initialize\n",
    "    tweets_data.loc[tweets_data.userID.isin(poly_labelled),\"label\"] = 1  # all of the poly\n",
    "    return(tweets_data)"
   ]
  },
  {
   "cell_type": "code",
   "execution_count": 426,
   "metadata": {},
   "outputs": [],
   "source": [
    "def get_f1(Y_true,Y_pred):\n",
    "    f_scores = precision_recall_fscore_support(Y_true,Y_pred)[2]\n",
    "    supports = precision_recall_fscore_support(Y_true,Y_pred)[3]\n",
    "    f1_num = 0\n",
    "    for f_s,sup in zip(f_scores,supports):\n",
    "        f1_num += (f_s * sup)\n",
    "    f1 = f1_num / np.sum(supports)\n",
    "    return(f1)"
   ]
  },
  {
   "cell_type": "code",
   "execution_count": 173,
   "metadata": {},
   "outputs": [],
   "source": [
    "poly_users = pickle.load(open(os.path.join(poly_dir,\"poly_users.pkl\"),\"rb\"))\n",
    "regular_users = pickle.load(open(os.path.join(poly_dir,\"regular_users.pkl\"),\"rb\"))\n",
    "first_data = pd.read_csv(os.path.join(input_dir,\"user_first.csv\"),lineterminator=\"\\n\")\n",
    "mono_users = pickle.load(open(os.path.join(poly_dir,\"mono_users.pkl\"),\"rb\"))"
   ]
  },
  {
   "cell_type": "code",
   "execution_count": 161,
   "metadata": {},
   "outputs": [],
   "source": [
    "# weed data , poly data\n",
    "weed_data = pd.read_csv(os.path.join(input_dir,\"weed_data_text2.csv\"),lineterminator=\"\\n\")\n",
    "juul_data = pd.read_csv(os.path.join(input_dir,\"juul_data.csv\"),lineterminator=\"\\n\")\n",
    "first_data = pd.read_csv(os.path.join(input_dir,\"user_first.csv\"),lineterminator=\"\\n\")"
   ]
  },
  {
   "cell_type": "code",
   "execution_count": 171,
   "metadata": {
    "scrolled": true
   },
   "outputs": [
    {
     "data": {
      "text/html": [
       "<div>\n",
       "<style scoped>\n",
       "    .dataframe tbody tr th:only-of-type {\n",
       "        vertical-align: middle;\n",
       "    }\n",
       "\n",
       "    .dataframe tbody tr th {\n",
       "        vertical-align: top;\n",
       "    }\n",
       "\n",
       "    .dataframe thead th {\n",
       "        text-align: right;\n",
       "    }\n",
       "</style>\n",
       "<table border=\"1\" class=\"dataframe\">\n",
       "  <thead>\n",
       "    <tr style=\"text-align: right;\">\n",
       "      <th></th>\n",
       "      <th>userID</th>\n",
       "      <th>juul_first</th>\n",
       "      <th>weed_first</th>\n",
       "    </tr>\n",
       "  </thead>\n",
       "  <tbody>\n",
       "    <tr>\n",
       "      <th>60</th>\n",
       "      <td>22823</td>\n",
       "      <td>2016-11-12 02:59:03</td>\n",
       "      <td>NaT</td>\n",
       "    </tr>\n",
       "    <tr>\n",
       "      <th>75</th>\n",
       "      <td>54913</td>\n",
       "      <td>2017-07-07 21:21:45</td>\n",
       "      <td>NaT</td>\n",
       "    </tr>\n",
       "    <tr>\n",
       "      <th>76</th>\n",
       "      <td>59453</td>\n",
       "      <td>2015-06-11 06:41:00</td>\n",
       "      <td>NaT</td>\n",
       "    </tr>\n",
       "    <tr>\n",
       "      <th>89</th>\n",
       "      <td>82063</td>\n",
       "      <td>2015-09-18 11:50:36</td>\n",
       "      <td>NaT</td>\n",
       "    </tr>\n",
       "    <tr>\n",
       "      <th>154</th>\n",
       "      <td>733293</td>\n",
       "      <td>2016-05-03 07:42:06</td>\n",
       "      <td>NaT</td>\n",
       "    </tr>\n",
       "    <tr>\n",
       "      <th>176</th>\n",
       "      <td>767578</td>\n",
       "      <td>2017-11-09 22:41:51</td>\n",
       "      <td>NaT</td>\n",
       "    </tr>\n",
       "    <tr>\n",
       "      <th>271</th>\n",
       "      <td>1154181</td>\n",
       "      <td>2015-06-03 18:03:55</td>\n",
       "      <td>NaT</td>\n",
       "    </tr>\n",
       "    <tr>\n",
       "      <th>323</th>\n",
       "      <td>1503691</td>\n",
       "      <td>2015-12-14 14:20:16</td>\n",
       "      <td>NaT</td>\n",
       "    </tr>\n",
       "    <tr>\n",
       "      <th>326</th>\n",
       "      <td>1533411</td>\n",
       "      <td>2017-06-22 03:18:39</td>\n",
       "      <td>NaT</td>\n",
       "    </tr>\n",
       "    <tr>\n",
       "      <th>350</th>\n",
       "      <td>1753061</td>\n",
       "      <td>2017-03-10 12:11:52</td>\n",
       "      <td>NaT</td>\n",
       "    </tr>\n",
       "    <tr>\n",
       "      <th>389</th>\n",
       "      <td>2062241</td>\n",
       "      <td>2017-04-03 11:37:38</td>\n",
       "      <td>NaT</td>\n",
       "    </tr>\n",
       "    <tr>\n",
       "      <th>403</th>\n",
       "      <td>2205491</td>\n",
       "      <td>2015-06-03 19:37:17</td>\n",
       "      <td>NaT</td>\n",
       "    </tr>\n",
       "    <tr>\n",
       "      <th>407</th>\n",
       "      <td>2237651</td>\n",
       "      <td>2017-05-03 20:30:17</td>\n",
       "      <td>NaT</td>\n",
       "    </tr>\n",
       "    <tr>\n",
       "      <th>413</th>\n",
       "      <td>2335001</td>\n",
       "      <td>2015-11-22 14:29:22</td>\n",
       "      <td>NaT</td>\n",
       "    </tr>\n",
       "    <tr>\n",
       "      <th>420</th>\n",
       "      <td>2450021</td>\n",
       "      <td>2017-06-09 01:00:02</td>\n",
       "      <td>NaT</td>\n",
       "    </tr>\n",
       "    <tr>\n",
       "      <th>457</th>\n",
       "      <td>2906421</td>\n",
       "      <td>2015-10-13 07:03:43</td>\n",
       "      <td>NaT</td>\n",
       "    </tr>\n",
       "    <tr>\n",
       "      <th>476</th>\n",
       "      <td>3235031</td>\n",
       "      <td>2015-03-22 15:11:32</td>\n",
       "      <td>NaT</td>\n",
       "    </tr>\n",
       "    <tr>\n",
       "      <th>514</th>\n",
       "      <td>3845641</td>\n",
       "      <td>2017-08-21 23:14:52</td>\n",
       "      <td>NaT</td>\n",
       "    </tr>\n",
       "    <tr>\n",
       "      <th>522</th>\n",
       "      <td>3960901</td>\n",
       "      <td>2015-05-23 17:08:36</td>\n",
       "      <td>NaT</td>\n",
       "    </tr>\n",
       "    <tr>\n",
       "      <th>592</th>\n",
       "      <td>5373832</td>\n",
       "      <td>2016-07-29 14:11:29</td>\n",
       "      <td>NaT</td>\n",
       "    </tr>\n",
       "    <tr>\n",
       "      <th>668</th>\n",
       "      <td>5750832</td>\n",
       "      <td>2017-08-30 08:06:17</td>\n",
       "      <td>NaT</td>\n",
       "    </tr>\n",
       "    <tr>\n",
       "      <th>721</th>\n",
       "      <td>6068862</td>\n",
       "      <td>2016-07-16 19:07:49</td>\n",
       "      <td>NaT</td>\n",
       "    </tr>\n",
       "    <tr>\n",
       "      <th>750</th>\n",
       "      <td>6189032</td>\n",
       "      <td>2017-08-22 02:02:10</td>\n",
       "      <td>NaT</td>\n",
       "    </tr>\n",
       "    <tr>\n",
       "      <th>796</th>\n",
       "      <td>6564442</td>\n",
       "      <td>2017-10-06 02:17:08</td>\n",
       "      <td>NaT</td>\n",
       "    </tr>\n",
       "    <tr>\n",
       "      <th>854</th>\n",
       "      <td>7115172</td>\n",
       "      <td>2017-04-26 17:22:58</td>\n",
       "      <td>NaT</td>\n",
       "    </tr>\n",
       "    <tr>\n",
       "      <th>931</th>\n",
       "      <td>7580512</td>\n",
       "      <td>2015-12-01 08:53:59</td>\n",
       "      <td>NaT</td>\n",
       "    </tr>\n",
       "    <tr>\n",
       "      <th>953</th>\n",
       "      <td>7706602</td>\n",
       "      <td>2015-04-21 13:41:13</td>\n",
       "      <td>NaT</td>\n",
       "    </tr>\n",
       "    <tr>\n",
       "      <th>954</th>\n",
       "      <td>7708932</td>\n",
       "      <td>2015-07-30 13:30:12</td>\n",
       "      <td>NaT</td>\n",
       "    </tr>\n",
       "    <tr>\n",
       "      <th>972</th>\n",
       "      <td>7849082</td>\n",
       "      <td>2016-10-14 11:08:30</td>\n",
       "      <td>NaT</td>\n",
       "    </tr>\n",
       "    <tr>\n",
       "      <th>1019</th>\n",
       "      <td>8189082</td>\n",
       "      <td>2017-02-14 02:00:51</td>\n",
       "      <td>NaT</td>\n",
       "    </tr>\n",
       "    <tr>\n",
       "      <th>...</th>\n",
       "      <td>...</td>\n",
       "      <td>...</td>\n",
       "      <td>...</td>\n",
       "    </tr>\n",
       "    <tr>\n",
       "      <th>828063</th>\n",
       "      <td>945068645578784768</td>\n",
       "      <td>2017-12-29 18:39:21</td>\n",
       "      <td>NaT</td>\n",
       "    </tr>\n",
       "    <tr>\n",
       "      <th>828080</th>\n",
       "      <td>945105240033869824</td>\n",
       "      <td>2017-12-26 23:24:39</td>\n",
       "      <td>NaT</td>\n",
       "    </tr>\n",
       "    <tr>\n",
       "      <th>828202</th>\n",
       "      <td>945383980580462592</td>\n",
       "      <td>2017-12-29 17:33:16</td>\n",
       "      <td>NaT</td>\n",
       "    </tr>\n",
       "    <tr>\n",
       "      <th>828256</th>\n",
       "      <td>945463647689695233</td>\n",
       "      <td>2017-12-27 20:59:46</td>\n",
       "      <td>NaT</td>\n",
       "    </tr>\n",
       "    <tr>\n",
       "      <th>828273</th>\n",
       "      <td>945487692049014784</td>\n",
       "      <td>2017-12-31 03:28:50</td>\n",
       "      <td>NaT</td>\n",
       "    </tr>\n",
       "    <tr>\n",
       "      <th>828302</th>\n",
       "      <td>945519413423419392</td>\n",
       "      <td>2017-12-28 06:35:46</td>\n",
       "      <td>NaT</td>\n",
       "    </tr>\n",
       "    <tr>\n",
       "      <th>828317</th>\n",
       "      <td>945532323327602688</td>\n",
       "      <td>2017-12-29 07:25:49</td>\n",
       "      <td>NaT</td>\n",
       "    </tr>\n",
       "    <tr>\n",
       "      <th>828320</th>\n",
       "      <td>945548145936646145</td>\n",
       "      <td>2017-12-26 07:13:55</td>\n",
       "      <td>NaT</td>\n",
       "    </tr>\n",
       "    <tr>\n",
       "      <th>828322</th>\n",
       "      <td>945549324766842881</td>\n",
       "      <td>2017-12-29 05:40:07</td>\n",
       "      <td>NaT</td>\n",
       "    </tr>\n",
       "    <tr>\n",
       "      <th>828343</th>\n",
       "      <td>945643638406746112</td>\n",
       "      <td>2017-12-26 13:15:32</td>\n",
       "      <td>NaT</td>\n",
       "    </tr>\n",
       "    <tr>\n",
       "      <th>828373</th>\n",
       "      <td>945713193040662529</td>\n",
       "      <td>2017-12-26 17:52:28</td>\n",
       "      <td>NaT</td>\n",
       "    </tr>\n",
       "    <tr>\n",
       "      <th>828428</th>\n",
       "      <td>945790073445871616</td>\n",
       "      <td>2017-12-26 22:57:20</td>\n",
       "      <td>NaT</td>\n",
       "    </tr>\n",
       "    <tr>\n",
       "      <th>828452</th>\n",
       "      <td>945816935433871360</td>\n",
       "      <td>2017-12-31 12:57:29</td>\n",
       "      <td>NaT</td>\n",
       "    </tr>\n",
       "    <tr>\n",
       "      <th>828477</th>\n",
       "      <td>945857188626554880</td>\n",
       "      <td>2017-12-27 03:38:53</td>\n",
       "      <td>NaT</td>\n",
       "    </tr>\n",
       "    <tr>\n",
       "      <th>828496</th>\n",
       "      <td>945871905516433409</td>\n",
       "      <td>2017-12-31 03:25:02</td>\n",
       "      <td>NaT</td>\n",
       "    </tr>\n",
       "    <tr>\n",
       "      <th>828544</th>\n",
       "      <td>946023709239848961</td>\n",
       "      <td>2017-12-31 15:29:57</td>\n",
       "      <td>NaT</td>\n",
       "    </tr>\n",
       "    <tr>\n",
       "      <th>828596</th>\n",
       "      <td>946110564635496450</td>\n",
       "      <td>2017-12-28 03:03:28</td>\n",
       "      <td>NaT</td>\n",
       "    </tr>\n",
       "    <tr>\n",
       "      <th>828620</th>\n",
       "      <td>946141591420506113</td>\n",
       "      <td>2017-12-27 22:19:30</td>\n",
       "      <td>NaT</td>\n",
       "    </tr>\n",
       "    <tr>\n",
       "      <th>828668</th>\n",
       "      <td>946206152538378241</td>\n",
       "      <td>2017-12-30 07:08:58</td>\n",
       "      <td>NaT</td>\n",
       "    </tr>\n",
       "    <tr>\n",
       "      <th>828807</th>\n",
       "      <td>946477396974362625</td>\n",
       "      <td>2017-12-28 20:27:06</td>\n",
       "      <td>NaT</td>\n",
       "    </tr>\n",
       "    <tr>\n",
       "      <th>828811</th>\n",
       "      <td>946482312023281664</td>\n",
       "      <td>2017-12-31 18:53:31</td>\n",
       "      <td>NaT</td>\n",
       "    </tr>\n",
       "    <tr>\n",
       "      <th>828887</th>\n",
       "      <td>946580309214158849</td>\n",
       "      <td>2017-12-31 18:12:34</td>\n",
       "      <td>NaT</td>\n",
       "    </tr>\n",
       "    <tr>\n",
       "      <th>828946</th>\n",
       "      <td>946685019162062848</td>\n",
       "      <td>2017-12-29 10:20:52</td>\n",
       "      <td>NaT</td>\n",
       "    </tr>\n",
       "    <tr>\n",
       "      <th>829051</th>\n",
       "      <td>946896873205436421</td>\n",
       "      <td>2017-12-30 02:38:51</td>\n",
       "      <td>NaT</td>\n",
       "    </tr>\n",
       "    <tr>\n",
       "      <th>829054</th>\n",
       "      <td>946898122218885120</td>\n",
       "      <td>2017-12-31 06:19:20</td>\n",
       "      <td>NaT</td>\n",
       "    </tr>\n",
       "    <tr>\n",
       "      <th>829101</th>\n",
       "      <td>946972761318154241</td>\n",
       "      <td>2017-12-30 05:15:46</td>\n",
       "      <td>NaT</td>\n",
       "    </tr>\n",
       "    <tr>\n",
       "      <th>829140</th>\n",
       "      <td>947060559337340928</td>\n",
       "      <td>2017-12-31 10:54:29</td>\n",
       "      <td>NaT</td>\n",
       "    </tr>\n",
       "    <tr>\n",
       "      <th>829226</th>\n",
       "      <td>947234170455064576</td>\n",
       "      <td>2017-12-31 18:05:01</td>\n",
       "      <td>NaT</td>\n",
       "    </tr>\n",
       "    <tr>\n",
       "      <th>829383</th>\n",
       "      <td>947549664823463936</td>\n",
       "      <td>2017-12-31 19:38:59</td>\n",
       "      <td>NaT</td>\n",
       "    </tr>\n",
       "    <tr>\n",
       "      <th>829396</th>\n",
       "      <td>947571377950937088</td>\n",
       "      <td>2017-12-31 21:14:21</td>\n",
       "      <td>NaT</td>\n",
       "    </tr>\n",
       "  </tbody>\n",
       "</table>\n",
       "<p>47342 rows × 3 columns</p>\n",
       "</div>"
      ],
      "text/plain": [
       "                    userID          juul_first weed_first\n",
       "60      22823              2016-11-12 02:59:03 NaT       \n",
       "75      54913              2017-07-07 21:21:45 NaT       \n",
       "76      59453              2015-06-11 06:41:00 NaT       \n",
       "89      82063              2015-09-18 11:50:36 NaT       \n",
       "154     733293             2016-05-03 07:42:06 NaT       \n",
       "176     767578             2017-11-09 22:41:51 NaT       \n",
       "271     1154181            2015-06-03 18:03:55 NaT       \n",
       "323     1503691            2015-12-14 14:20:16 NaT       \n",
       "326     1533411            2017-06-22 03:18:39 NaT       \n",
       "350     1753061            2017-03-10 12:11:52 NaT       \n",
       "389     2062241            2017-04-03 11:37:38 NaT       \n",
       "403     2205491            2015-06-03 19:37:17 NaT       \n",
       "407     2237651            2017-05-03 20:30:17 NaT       \n",
       "413     2335001            2015-11-22 14:29:22 NaT       \n",
       "420     2450021            2017-06-09 01:00:02 NaT       \n",
       "457     2906421            2015-10-13 07:03:43 NaT       \n",
       "476     3235031            2015-03-22 15:11:32 NaT       \n",
       "514     3845641            2017-08-21 23:14:52 NaT       \n",
       "522     3960901            2015-05-23 17:08:36 NaT       \n",
       "592     5373832            2016-07-29 14:11:29 NaT       \n",
       "668     5750832            2017-08-30 08:06:17 NaT       \n",
       "721     6068862            2016-07-16 19:07:49 NaT       \n",
       "750     6189032            2017-08-22 02:02:10 NaT       \n",
       "796     6564442            2017-10-06 02:17:08 NaT       \n",
       "854     7115172            2017-04-26 17:22:58 NaT       \n",
       "931     7580512            2015-12-01 08:53:59 NaT       \n",
       "953     7706602            2015-04-21 13:41:13 NaT       \n",
       "954     7708932            2015-07-30 13:30:12 NaT       \n",
       "972     7849082            2016-10-14 11:08:30 NaT       \n",
       "1019    8189082            2017-02-14 02:00:51 NaT       \n",
       "...         ...                            ...  ..       \n",
       "828063  945068645578784768 2017-12-29 18:39:21 NaT       \n",
       "828080  945105240033869824 2017-12-26 23:24:39 NaT       \n",
       "828202  945383980580462592 2017-12-29 17:33:16 NaT       \n",
       "828256  945463647689695233 2017-12-27 20:59:46 NaT       \n",
       "828273  945487692049014784 2017-12-31 03:28:50 NaT       \n",
       "828302  945519413423419392 2017-12-28 06:35:46 NaT       \n",
       "828317  945532323327602688 2017-12-29 07:25:49 NaT       \n",
       "828320  945548145936646145 2017-12-26 07:13:55 NaT       \n",
       "828322  945549324766842881 2017-12-29 05:40:07 NaT       \n",
       "828343  945643638406746112 2017-12-26 13:15:32 NaT       \n",
       "828373  945713193040662529 2017-12-26 17:52:28 NaT       \n",
       "828428  945790073445871616 2017-12-26 22:57:20 NaT       \n",
       "828452  945816935433871360 2017-12-31 12:57:29 NaT       \n",
       "828477  945857188626554880 2017-12-27 03:38:53 NaT       \n",
       "828496  945871905516433409 2017-12-31 03:25:02 NaT       \n",
       "828544  946023709239848961 2017-12-31 15:29:57 NaT       \n",
       "828596  946110564635496450 2017-12-28 03:03:28 NaT       \n",
       "828620  946141591420506113 2017-12-27 22:19:30 NaT       \n",
       "828668  946206152538378241 2017-12-30 07:08:58 NaT       \n",
       "828807  946477396974362625 2017-12-28 20:27:06 NaT       \n",
       "828811  946482312023281664 2017-12-31 18:53:31 NaT       \n",
       "828887  946580309214158849 2017-12-31 18:12:34 NaT       \n",
       "828946  946685019162062848 2017-12-29 10:20:52 NaT       \n",
       "829051  946896873205436421 2017-12-30 02:38:51 NaT       \n",
       "829054  946898122218885120 2017-12-31 06:19:20 NaT       \n",
       "829101  946972761318154241 2017-12-30 05:15:46 NaT       \n",
       "829140  947060559337340928 2017-12-31 10:54:29 NaT       \n",
       "829226  947234170455064576 2017-12-31 18:05:01 NaT       \n",
       "829383  947549664823463936 2017-12-31 19:38:59 NaT       \n",
       "829396  947571377950937088 2017-12-31 21:14:21 NaT       \n",
       "\n",
       "[47342 rows x 3 columns]"
      ]
     },
     "execution_count": 171,
     "metadata": {},
     "output_type": "execute_result"
    }
   ],
   "source": [
    "(first_data.loc[(first_data.weed_first.isnull()) & (first_data.juul_first.dt.year < 2018)])"
   ]
  },
  {
   "cell_type": "code",
   "execution_count": null,
   "metadata": {},
   "outputs": [],
   "source": [
    "## we taking 15 data from juul and weed and not use the pattern\n",
    "juul_data[\"tweetCreatedAt\"] = pd.to_datetime(juul_data[\"tweetCreatedAt\"])\n",
    "## filter the juul data to capture just the regualr users\n",
    "juul_data = juul_data.loc[juul_data.userID.isin(regular_users)]\n",
    "\n",
    "## we keep only the regular usrs\n",
    "first_data = first_data.loc[first_data.userID.isin(regular_users)]"
   ]
  },
  {
   "cell_type": "code",
   "execution_count": 310,
   "metadata": {},
   "outputs": [
    {
     "data": {
      "text/plain": [
       "673724"
      ]
     },
     "execution_count": 310,
     "metadata": {},
     "output_type": "execute_result"
    }
   ],
   "source": [
    "len(first_data)  ## equal to the regular users"
   ]
  },
  {
   "cell_type": "code",
   "execution_count": 176,
   "metadata": {},
   "outputs": [],
   "source": [
    "## so we will label the users based on the first weed tweet of the user and if the first weed tweet does not exist\n",
    "# then that user is considered mono"
   ]
  },
  {
   "cell_type": "code",
   "execution_count": 311,
   "metadata": {},
   "outputs": [],
   "source": [
    "## load the model and tokenizer\n",
    "lstm_model = pickle.load(open(os.path.join(classifier_dir,\"lstm_model.pkl\"),\"rb\"))\n",
    "keras_tkzr = pickle.load(open(os.path.join(classifier_dir,\"lstm_vect.pkl\"),\"rb\"))"
   ]
  },
  {
   "cell_type": "markdown",
   "metadata": {},
   "source": [
    "## bucket 1"
   ]
  },
  {
   "cell_type": "code",
   "execution_count": 428,
   "metadata": {},
   "outputs": [
    {
     "name": "stdout",
     "output_type": "stream",
     "text": [
      "juul_initial 1792\n",
      "mono final 1140\n"
     ]
    }
   ],
   "source": [
    "mono_ = get_mono(first_data,2016)"
   ]
  },
  {
   "cell_type": "code",
   "execution_count": 429,
   "metadata": {
    "scrolled": true
   },
   "outputs": [
    {
     "data": {
      "text/plain": [
       "952"
      ]
     },
     "execution_count": 429,
     "metadata": {},
     "output_type": "execute_result"
    }
   ],
   "source": [
    "len(set(mono_users).intersection(set(mono_))) ## this should be labelled as 0\n",
    "# first_data.loc[first_data.userID.isin(mono_)]"
   ]
  },
  {
   "cell_type": "code",
   "execution_count": 430,
   "metadata": {},
   "outputs": [
    {
     "name": "stdout",
     "output_type": "stream",
     "text": [
      "2131\n",
      "1140\n"
     ]
    },
    {
     "data": {
      "application/vnd.jupyter.widget-view+json": {
       "model_id": "5d6195b1b32f47e29fdacea92c07575f",
       "version_major": 2,
       "version_minor": 0
      },
      "text/plain": [
       "HBox(children=(IntProgress(value=0, max=1140), HTML(value='')))"
      ]
     },
     "metadata": {},
     "output_type": "display_data"
    },
    {
     "name": "stdout",
     "output_type": "stream",
     "text": [
      "\n"
     ]
    }
   ],
   "source": [
    " ## select the data for the users in that year\n",
    "mono_data_2015 = juul_data.loc[(juul_data.userID.isin(mono_)) & (juul_data.tweetCreatedAt.dt.year < 2016)]  \n",
    "print(len(mono_data_2015))\n",
    "print(len(mono_data_2015.userID.unique()))\n",
    "tweets_2015 = get_tweets_user(mono_data_2015)  ## concatenating tweets by user"
   ]
  },
  {
   "cell_type": "code",
   "execution_count": 431,
   "metadata": {},
   "outputs": [
    {
     "name": "stdout",
     "output_type": "stream",
     "text": [
      "tweets 1140\n",
      "users 1140\n"
     ]
    }
   ],
   "source": [
    "print(\"tweets\",len(tweets_2015))\n",
    "print(\"users\",len(tweets_2015.userID.unique()))"
   ]
  },
  {
   "cell_type": "code",
   "execution_count": 432,
   "metadata": {},
   "outputs": [
    {
     "name": "stdout",
     "output_type": "stream",
     "text": [
      "initial_users 1140\n",
      "poly_users that will change 952\n",
      "users reaminin mono 188\n"
     ]
    }
   ],
   "source": [
    "tweets_2015 = get_label_mono(tweets_2015,first_data)"
   ]
  },
  {
   "cell_type": "code",
   "execution_count": 433,
   "metadata": {},
   "outputs": [
    {
     "name": "stdout",
     "output_type": "stream",
     "text": [
      "mono 188\n",
      "poly 952\n"
     ]
    }
   ],
   "source": [
    "tweets_2015[\"label\"].unique()\n",
    "## 0 : mono\n",
    "## 1 : poly\n",
    "Y_true = list(tweets_2015[\"label\"])\n",
    "print(\"mono\",len([ele for ele in Y_true if ele == 0]))\n",
    "print(\"poly\",len([ele for ele in Y_true if ele == 1]))"
   ]
  },
  {
   "cell_type": "code",
   "execution_count": 434,
   "metadata": {},
   "outputs": [],
   "source": [
    "## clean the tweets\n",
    "tweets_2015[\"tweetText\"] = tweets_2015[\"tweetText\"].apply(clean_text)"
   ]
  },
  {
   "cell_type": "code",
   "execution_count": 435,
   "metadata": {},
   "outputs": [
    {
     "name": "stdout",
     "output_type": "stream",
     "text": [
      "(1140, 26)\n"
     ]
    }
   ],
   "source": [
    "max_len = 26\n",
    "encoded_docs = keras_tkzr.texts_to_sequences(tweets_2015[\"tweetText\"])\n",
    "X_new = pad_sequences(encoded_docs, maxlen=max_len, padding='post')\n",
    "print(X_new.shape)"
   ]
  },
  {
   "cell_type": "code",
   "execution_count": 436,
   "metadata": {},
   "outputs": [
    {
     "name": "stdout",
     "output_type": "stream",
     "text": [
      "_________________________________________________________________\n",
      "Layer (type)                 Output Shape              Param #   \n",
      "=================================================================\n",
      "input_1 (InputLayer)         (None, 26)                0         \n",
      "_________________________________________________________________\n",
      "embedding_1 (Embedding)      (None, 26, 100)           7716300   \n",
      "_________________________________________________________________\n",
      "bidirectional_1 (Bidirection (None, 26, 200)           160800    \n",
      "_________________________________________________________________\n",
      "flatten_1 (Flatten)          (None, 5200)              0         \n",
      "_________________________________________________________________\n",
      "dense_1 (Dense)              (None, 100)               520100    \n",
      "_________________________________________________________________\n",
      "dense_2 (Dense)              (None, 1)                 101       \n",
      "=================================================================\n",
      "Total params: 8,397,301\n",
      "Trainable params: 8,397,301\n",
      "Non-trainable params: 0\n",
      "_________________________________________________________________\n"
     ]
    }
   ],
   "source": [
    "lstm_model.summary()"
   ]
  },
  {
   "cell_type": "code",
   "execution_count": 437,
   "metadata": {},
   "outputs": [
    {
     "name": "stdout",
     "output_type": "stream",
     "text": [
      "1140/1140 [==============================] - 1s 586us/step\n"
     ]
    }
   ],
   "source": [
    "Y_pred = [np.argmax(ele) for ele in lstm_model.predict(X_new,verbose=1)]"
   ]
  },
  {
   "cell_type": "code",
   "execution_count": 438,
   "metadata": {
    "scrolled": true
   },
   "outputs": [
    {
     "name": "stdout",
     "output_type": "stream",
     "text": [
      "  Classification Report:\n",
      "              precision    recall  f1-score   support\n",
      "\n",
      "          0       0.16      1.00      0.28       188\n",
      "          1       0.00      0.00      0.00       952\n",
      "\n",
      "avg / total       0.03      0.16      0.05      1140\n",
      " \n",
      "\n"
     ]
    }
   ],
   "source": [
    "lstm = []\n",
    "print('  Classification Report:\\n',classification_report(Y_true,Y_pred),'\\n')\n",
    "lstm.append(get_f1(Y_true,Y_pred))"
   ]
  },
  {
   "cell_type": "code",
   "execution_count": 439,
   "metadata": {},
   "outputs": [
    {
     "name": "stdout",
     "output_type": "stream",
     "text": [
      "  Classification Report:\n",
      "              precision    recall  f1-score   support\n",
      "\n",
      "          0       0.00      0.00      0.00       188\n",
      "          1       0.84      1.00      0.91       952\n",
      "\n",
      "avg / total       0.70      0.84      0.76      1140\n",
      " \n",
      "\n"
     ]
    }
   ],
   "source": [
    "## majority classifier\n",
    "majority = []\n",
    "Y_pred = [1  for ele in range(len(Y_true))]\n",
    "print('  Classification Report:\\n',classification_report(Y_true,Y_pred),'\\n')\n",
    "majority.append(get_f1(Y_true,Y_pred))"
   ]
  },
  {
   "cell_type": "markdown",
   "metadata": {},
   "source": [
    "## bucket 2"
   ]
  },
  {
   "cell_type": "code",
   "execution_count": 440,
   "metadata": {},
   "outputs": [
    {
     "name": "stdout",
     "output_type": "stream",
     "text": [
      "juul_initial 5619\n",
      "mono final 2861\n"
     ]
    }
   ],
   "source": [
    "year = 2017\n",
    "mono_ = get_mono(first_data,year)"
   ]
  },
  {
   "cell_type": "code",
   "execution_count": 441,
   "metadata": {
    "scrolled": true
   },
   "outputs": [
    {
     "data": {
      "text/plain": [
       "2329"
      ]
     },
     "execution_count": 441,
     "metadata": {},
     "output_type": "execute_result"
    }
   ],
   "source": [
    "len(set(mono_users).intersection(set(mono_))) ## this should be labelled as 0\n",
    "# first_data.loc[first_data.userID.isin(mono_)]"
   ]
  },
  {
   "cell_type": "code",
   "execution_count": 442,
   "metadata": {},
   "outputs": [
    {
     "name": "stdout",
     "output_type": "stream",
     "text": [
      "length of data in that span 6806\n",
      "users: 2861\n"
     ]
    },
    {
     "data": {
      "application/vnd.jupyter.widget-view+json": {
       "model_id": "195a8cfd9c7446f9995f257997498158",
       "version_major": 2,
       "version_minor": 0
      },
      "text/plain": [
       "HBox(children=(IntProgress(value=0, max=2861), HTML(value='')))"
      ]
     },
     "metadata": {},
     "output_type": "display_data"
    },
    {
     "name": "stdout",
     "output_type": "stream",
     "text": [
      "\n"
     ]
    }
   ],
   "source": [
    " ## select the data for the users in that year\n",
    "mono_data_ = juul_data.loc[(juul_data.userID.isin(mono_)) & (juul_data.tweetCreatedAt.dt.year < year)]  \n",
    "print(\"length of data in that span\",len(mono_data_))\n",
    "print(\"users:\",len(mono_data_.userID.unique()))\n",
    "tweets_ = get_tweets_user(mono_data_)  ## concatenating tweets by user"
   ]
  },
  {
   "cell_type": "code",
   "execution_count": 443,
   "metadata": {},
   "outputs": [
    {
     "name": "stdout",
     "output_type": "stream",
     "text": [
      "tweets 2861\n",
      "users 2861\n"
     ]
    }
   ],
   "source": [
    "print(\"tweets\",len(tweets_))\n",
    "print(\"users\",len(tweets_.userID.unique()))"
   ]
  },
  {
   "cell_type": "code",
   "execution_count": 444,
   "metadata": {},
   "outputs": [
    {
     "name": "stdout",
     "output_type": "stream",
     "text": [
      "initial_users 2861\n",
      "poly_users that will change 2329\n",
      "users reaminin mono 532\n"
     ]
    }
   ],
   "source": [
    "tweets_ = get_label_mono(tweets_,first_data)"
   ]
  },
  {
   "cell_type": "code",
   "execution_count": 445,
   "metadata": {},
   "outputs": [
    {
     "name": "stdout",
     "output_type": "stream",
     "text": [
      "mono 532\n",
      "poly 2329\n"
     ]
    }
   ],
   "source": [
    "tweets_[\"label\"].unique()\n",
    "## 0 : mono\n",
    "## 1 : poly\n",
    "Y_true = list(tweets_[\"label\"])\n",
    "print(\"mono\",len([ele for ele in Y_true if ele == 0]))\n",
    "print(\"poly\",len([ele for ele in Y_true if ele == 1]))"
   ]
  },
  {
   "cell_type": "code",
   "execution_count": 446,
   "metadata": {},
   "outputs": [],
   "source": [
    "## clean the tweets\n",
    "tweets_[\"tweetText\"] = tweets_[\"tweetText\"].apply(clean_text)"
   ]
  },
  {
   "cell_type": "code",
   "execution_count": 447,
   "metadata": {},
   "outputs": [
    {
     "name": "stdout",
     "output_type": "stream",
     "text": [
      "(2861, 26)\n"
     ]
    }
   ],
   "source": [
    "max_len = 26\n",
    "encoded_docs = keras_tkzr.texts_to_sequences(tweets_[\"tweetText\"])\n",
    "X_new = pad_sequences(encoded_docs, maxlen=max_len, padding='post')\n",
    "print(X_new.shape)"
   ]
  },
  {
   "cell_type": "code",
   "execution_count": 448,
   "metadata": {},
   "outputs": [
    {
     "name": "stdout",
     "output_type": "stream",
     "text": [
      "2861/2861 [==============================] - 2s 681us/step\n"
     ]
    }
   ],
   "source": [
    "Y_pred = [np.argmax(ele) for ele in lstm_model.predict(X_new,verbose=1)]"
   ]
  },
  {
   "cell_type": "code",
   "execution_count": 449,
   "metadata": {
    "scrolled": true
   },
   "outputs": [
    {
     "name": "stdout",
     "output_type": "stream",
     "text": [
      "  Classification Report:\n",
      "              precision    recall  f1-score   support\n",
      "\n",
      "          0       0.19      1.00      0.31       532\n",
      "          1       0.00      0.00      0.00      2329\n",
      "\n",
      "avg / total       0.03      0.19      0.06      2861\n",
      " \n",
      "\n"
     ]
    }
   ],
   "source": [
    "print('  Classification Report:\\n',classification_report(Y_true,Y_pred),'\\n')\n",
    "lstm.append(get_f1(Y_true,Y_pred))"
   ]
  },
  {
   "cell_type": "code",
   "execution_count": 450,
   "metadata": {},
   "outputs": [
    {
     "name": "stdout",
     "output_type": "stream",
     "text": [
      "  Classification Report:\n",
      "              precision    recall  f1-score   support\n",
      "\n",
      "          0       0.00      0.00      0.00       532\n",
      "          1       0.81      1.00      0.90      2329\n",
      "\n",
      "avg / total       0.66      0.81      0.73      2861\n",
      " \n",
      "\n"
     ]
    }
   ],
   "source": [
    "## majority classifier\n",
    "Y_pred = [1  for ele in range(len(Y_true))]\n",
    "print('  Classification Report:\\n',classification_report(Y_true,Y_pred),'\\n')\n",
    "majority.append(get_f1(Y_true,Y_pred))"
   ]
  },
  {
   "cell_type": "markdown",
   "metadata": {},
   "source": [
    "## bucket 3 - (2015-2017 ;  2018)"
   ]
  },
  {
   "cell_type": "code",
   "execution_count": 451,
   "metadata": {},
   "outputs": [
    {
     "name": "stdout",
     "output_type": "stream",
     "text": [
      "juul_initial 113426\n",
      "mono final 42784\n"
     ]
    }
   ],
   "source": [
    "year = 2018\n",
    "mono_ = get_mono(first_data,year)"
   ]
  },
  {
   "cell_type": "code",
   "execution_count": 452,
   "metadata": {
    "scrolled": true
   },
   "outputs": [
    {
     "data": {
      "text/plain": [
       "33259"
      ]
     },
     "execution_count": 452,
     "metadata": {},
     "output_type": "execute_result"
    }
   ],
   "source": [
    "len(set(mono_users).intersection(set(mono_))) ## this should be labelled as 0\n",
    "# first_data.loc[first_data.userID.isin(mono_)]"
   ]
  },
  {
   "cell_type": "code",
   "execution_count": 453,
   "metadata": {},
   "outputs": [
    {
     "name": "stdout",
     "output_type": "stream",
     "text": [
      "length of data in that span 62655\n",
      "users: 42784\n"
     ]
    },
    {
     "data": {
      "application/vnd.jupyter.widget-view+json": {
       "model_id": "39e380fa27b1497da1ba0241085ae932",
       "version_major": 2,
       "version_minor": 0
      },
      "text/plain": [
       "HBox(children=(IntProgress(value=0, max=42784), HTML(value='')))"
      ]
     },
     "metadata": {},
     "output_type": "display_data"
    },
    {
     "name": "stdout",
     "output_type": "stream",
     "text": [
      "\n"
     ]
    }
   ],
   "source": [
    " ## select the data for the users in that year\n",
    "mono_data_ = juul_data.loc[(juul_data.userID.isin(mono_)) & (juul_data.tweetCreatedAt.dt.year < year)]  \n",
    "print(\"length of data in that span\",len(mono_data_))\n",
    "print(\"users:\",len(mono_data_.userID.unique()))\n",
    "tweets_ = get_tweets_user(mono_data_)  ## concatenating tweets by user"
   ]
  },
  {
   "cell_type": "code",
   "execution_count": 454,
   "metadata": {},
   "outputs": [
    {
     "name": "stdout",
     "output_type": "stream",
     "text": [
      "tweets 42784\n",
      "users 42784\n"
     ]
    }
   ],
   "source": [
    "print(\"tweets\",len(tweets_))\n",
    "print(\"users\",len(tweets_.userID.unique()))"
   ]
  },
  {
   "cell_type": "code",
   "execution_count": 455,
   "metadata": {},
   "outputs": [
    {
     "name": "stdout",
     "output_type": "stream",
     "text": [
      "initial_users 42784\n",
      "poly_users that will change 33259\n",
      "users reaminin mono 9525\n"
     ]
    }
   ],
   "source": [
    "tweets_ = get_label_mono(tweets_,first_data)"
   ]
  },
  {
   "cell_type": "code",
   "execution_count": 456,
   "metadata": {},
   "outputs": [
    {
     "name": "stdout",
     "output_type": "stream",
     "text": [
      "mono 9525\n",
      "poly 33259\n"
     ]
    }
   ],
   "source": [
    "tweets_[\"label\"].unique()\n",
    "## 0 : mono\n",
    "## 1 : poly\n",
    "Y_true = list(tweets_[\"label\"])\n",
    "print(\"mono\",len([ele for ele in Y_true if ele == 0]))\n",
    "print(\"poly\",len([ele for ele in Y_true if ele == 1]))"
   ]
  },
  {
   "cell_type": "code",
   "execution_count": 457,
   "metadata": {},
   "outputs": [],
   "source": [
    "## clean the tweets\n",
    "tweets_[\"tweetText\"] = tweets_[\"tweetText\"].apply(clean_text)"
   ]
  },
  {
   "cell_type": "code",
   "execution_count": 458,
   "metadata": {},
   "outputs": [
    {
     "name": "stdout",
     "output_type": "stream",
     "text": [
      "(42784, 26)\n"
     ]
    }
   ],
   "source": [
    "max_len = 26\n",
    "encoded_docs = keras_tkzr.texts_to_sequences(tweets_[\"tweetText\"])\n",
    "X_new = pad_sequences(encoded_docs, maxlen=max_len, padding='post')\n",
    "print(X_new.shape)"
   ]
  },
  {
   "cell_type": "code",
   "execution_count": 459,
   "metadata": {},
   "outputs": [
    {
     "name": "stdout",
     "output_type": "stream",
     "text": [
      "42784/42784 [==============================] - 28s 664us/step\n"
     ]
    }
   ],
   "source": [
    "Y_pred = [np.argmax(ele) for ele in lstm_model.predict(X_new,verbose=1)]"
   ]
  },
  {
   "cell_type": "code",
   "execution_count": 460,
   "metadata": {
    "scrolled": true
   },
   "outputs": [
    {
     "name": "stdout",
     "output_type": "stream",
     "text": [
      "  Classification Report:\n",
      "              precision    recall  f1-score   support\n",
      "\n",
      "          0       0.22      1.00      0.36      9525\n",
      "          1       0.00      0.00      0.00     33259\n",
      "\n",
      "avg / total       0.05      0.22      0.08     42784\n",
      " \n",
      "\n"
     ]
    }
   ],
   "source": [
    "print('  Classification Report:\\n',classification_report(Y_true,Y_pred),'\\n')\n",
    "lstm.append(get_f1(Y_true,Y_pred))"
   ]
  },
  {
   "cell_type": "code",
   "execution_count": 461,
   "metadata": {},
   "outputs": [
    {
     "name": "stdout",
     "output_type": "stream",
     "text": [
      "  Classification Report:\n",
      "              precision    recall  f1-score   support\n",
      "\n",
      "          0       0.00      0.00      0.00      9525\n",
      "          1       0.78      1.00      0.87     33259\n",
      "\n",
      "avg / total       0.60      0.78      0.68     42784\n",
      " \n",
      "\n"
     ]
    }
   ],
   "source": [
    "## majority classifier\n",
    "Y_pred = [1  for ele in range(len(Y_true))]\n",
    "print('  Classification Report:\\n',classification_report(Y_true,Y_pred),'\\n')\n",
    "majority.append(get_f1(Y_true,Y_pred))"
   ]
  },
  {
   "cell_type": "markdown",
   "metadata": {},
   "source": [
    "### plotting the classfier acuuracy "
   ]
  },
  {
   "cell_type": "code",
   "execution_count": 466,
   "metadata": {},
   "outputs": [
    {
     "data": {
      "text/plain": [
       "<matplotlib.legend.Legend at 0x7fc6ec8ec358>"
      ]
     },
     "execution_count": 466,
     "metadata": {},
     "output_type": "execute_result"
    },
    {
     "data": {
      "image/png": "[encoded data removed]",
      "text/plain": [
       "<Figure size 720x432 with 1 Axes>"
      ]
     },
     "metadata": {
      "needs_background": "light"
     },
     "output_type": "display_data"
    }
   ],
   "source": [
    "fig, ax = plt.subplots(figsize = (10,6))\n",
    "x_label = [\"2015\",\"205-16\",\"2015-17\"]\n",
    "ax.plot(x_label,lstm,label=\"lstm\")\n",
    "ax.plot(x_label,majority,label=\"majority classifier\")\n",
    "plt.title(\"Change of accuarcy of classifier to recongnize mono- > poly on different range of data\",fontsize=14)\n",
    "plt.xlabel(\"date range\",fontsize=12)\n",
    "plt.ylabel(\"f1 score of the classifier\",fontsize=12)\n",
    "plt.legend()\n",
    "# for i, v in enumerate(lstm):\n",
    "#     plt.text(i - 0.09,v + 0.01, str(v), color='blue', fontweight='bold')\n",
    "#-- need to change with f1 score acuarcy instead of just poly_accuarcy"
   ]
  },
  {
   "cell_type": "markdown",
   "metadata": {},
   "source": [
    "# looking at the most predictive weights for the SVM classifier"
   ]
  },
  {
   "cell_type": "code",
   "execution_count": null,
   "metadata": {},
   "outputs": [],
   "source": [
    "from sklearn.svm import LinearSVC\n",
    "from sklearn.feature_extraction.text import TfidfVectorizer\n",
    "from keras.preprocessing.text import Tokenizer as keras_Tokenizer\n",
    "from sklearn.metrics import classification_report\n",
    "keras_tkzr = keras_Tokenizer()"
   ]
  },
  {
   "cell_type": "code",
   "execution_count": null,
   "metadata": {},
   "outputs": [],
   "source": [
    "def clean_tweets(df):\n",
    "    df[\"tweetText\"] = df[\"tweetText\"].apply(clean_text)\n",
    "    df[\"tweetText\"] = df[\"tweetText\"].apply(prepare_text_LDA)\n",
    "    return (df)"
   ]
  },
  {
   "cell_type": "code",
   "execution_count": null,
   "metadata": {},
   "outputs": [],
   "source": [
    "def get_label(df):\n",
    "    # poly_users global\n",
    "    label = []\n",
    "    for idx,row in df.iterrows():\n",
    "        if row['userID'] in poly_users:\n",
    "            label.append(\"poly\")\n",
    "        else:\n",
    "            label.append(\"mono\")\n",
    "    return label"
   ]
  },
  {
   "cell_type": "code",
   "execution_count": null,
   "metadata": {},
   "outputs": [],
   "source": [
    "def encode(label):\n",
    "    le = LabelEncoder()\n",
    "    le.fit(label)\n",
    "    y = le.transform(label)\n",
    "    return y"
   ]
  },
  {
   "cell_type": "code",
   "execution_count": null,
   "metadata": {},
   "outputs": [],
   "source": [
    "def get_data(df):\n",
    "    label = get_label(df)\n",
    "#     y = encode(label)\n",
    "    tf_idf = TfidfVectorizer(sublinear_tf=True)\n",
    "    tf_idf.fit(df[\"tweetText\"])\n",
    "    feature_names = np.array(tf_idf.get_feature_names())\n",
    "    X = tf_idf.fit_transform(df[\"tweetText\"])\n",
    "    print(X.shape)\n",
    "    return (X,np.array(label),tf_idf)"
   ]
  },
  {
   "cell_type": "code",
   "execution_count": null,
   "metadata": {},
   "outputs": [],
   "source": [
    "def plot_coeff(k,model,feature_names):\n",
    "    coef = (model.coef_.ravel()) \n",
    "    top_positive_coefficients = np.argsort(coef)[-k:]\n",
    "    top_negative_coefficients = np.argsort(coef)[:k]\n",
    "    top_coefficients = np.hstack([top_negative_coefficients, top_positive_coefficients])\n",
    "    # create plot\n",
    "    plt.figure(figsize=(20, 8))\n",
    "    colors = ['red' if c < 0 else 'blue' for c in coef[top_coefficients]]\n",
    "    plt.bar(np.arange(2 * k), coef[top_coefficients], color=colors)\n",
    "    feature_names = np.array(feature_names)\n",
    "    plt.xticks(np.arange(1, 1 + 2 * k), feature_names[top_coefficients], rotation=60, ha='right',fontsize= 20)\n",
    "    plt.show()\n",
    "    return coef"
   ]
  },
  {
   "cell_type": "code",
   "execution_count": null,
   "metadata": {},
   "outputs": [],
   "source": [
    "len(df_tweets.userID.unique())"
   ]
  },
  {
   "cell_type": "code",
   "execution_count": null,
   "metadata": {},
   "outputs": [],
   "source": [
    "tweets_all = df_tweets.loc[df_tweets.userID.isin(normal_users)]"
   ]
  },
  {
   "cell_type": "code",
   "execution_count": null,
   "metadata": {},
   "outputs": [],
   "source": [
    "print(\"total tweets \",len(tweets_all))\n",
    "print(\"users\", len(tweets_all.userID.unique()))"
   ]
  },
  {
   "cell_type": "code",
   "execution_count": null,
   "metadata": {},
   "outputs": [],
   "source": [
    "tweets_ = clean_tweets(tweets_all)\n",
    "tweets_user = get_tweets_user(tweets_)  ## combining all of the tweets of the user\n",
    "X,y,tf_idf_final = get_data(tweets_user)\n",
    "X_train,X_test, Y_train, Y_test = train_test_split(X,y,test_size=0.25,random_state =4)\n",
    "svm_final = svm_wrapper(X_train,Y_train)\n",
    "## svm accuracy on poly mono data ## C=1 kernel= linear\n",
    "Y_pred = svm_final.predict(X_test)\n",
    "print('  Classification Report:\\n',classification_report(Y_test,Y_pred),'\\n')"
   ]
  },
  {
   "cell_type": "code",
   "execution_count": null,
   "metadata": {},
   "outputs": [],
   "source": [
    "np.mean(Y_test == Y_pred)"
   ]
  },
  {
   "cell_type": "code",
   "execution_count": null,
   "metadata": {},
   "outputs": [],
   "source": [
    "## shape\n",
    "print(X_train.shape)\n",
    "print(Y_train.shape)"
   ]
  },
  {
   "cell_type": "code",
   "execution_count": null,
   "metadata": {},
   "outputs": [],
   "source": [
    "## vocalb size\n",
    "print(len(tf_idf.get_feature_names()))"
   ]
  },
  {
   "cell_type": "code",
   "execution_count": null,
   "metadata": {},
   "outputs": [],
   "source": [
    "coeff = plot_coeff(20,svm_final,tf_idf_final.get_feature_names())"
   ]
  },
  {
   "cell_type": "code",
   "execution_count": null,
   "metadata": {},
   "outputs": [],
   "source": [
    "k = 20\n",
    "coef = (svm.coef_.ravel()) \n",
    "feature_names = np.array(tf_idf.get_feature_names())\n",
    "top_positive_coefficients = np.argsort(coef)[-k:]\n",
    "list(feature_names[top_positive_coefficients][::-1])"
   ]
  },
  {
   "cell_type": "code",
   "execution_count": null,
   "metadata": {},
   "outputs": [],
   "source": [
    "top_negative_coefficients = np.argsort(coef)[:k]\n",
    "list(feature_names[top_negative_coefficients])"
   ]
  },
  {
   "cell_type": "markdown",
   "metadata": {},
   "source": [
    "# Buckets - svm"
   ]
  },
  {
   "cell_type": "markdown",
   "metadata": {},
   "source": [
    "## bucket 2014"
   ]
  },
  {
   "cell_type": "code",
   "execution_count": null,
   "metadata": {},
   "outputs": [],
   "source": [
    "tweets_all = df_tweets.loc[df_tweets.userID.isin(normal_users)]\n",
    "f_scores = []\n",
    "years = []"
   ]
  },
  {
   "cell_type": "code",
   "execution_count": null,
   "metadata": {},
   "outputs": [],
   "source": [
    "tweets_all[\"tweetCreatedAt\"] = pd.to_datetime(tweets_all.tweetCreatedAt)"
   ]
  },
  {
   "cell_type": "code",
   "execution_count": null,
   "metadata": {},
   "outputs": [],
   "source": [
    "tweets = tweets_all[tweets_all.tweetCreatedAt.dt.year < 2015]"
   ]
  },
  {
   "cell_type": "code",
   "execution_count": null,
   "metadata": {
    "scrolled": true
   },
   "outputs": [],
   "source": [
    "print(\"tweets\",len(tweets))\n",
    "print(\"users\",len(tweets.userID.unique()))"
   ]
  },
  {
   "cell_type": "code",
   "execution_count": null,
   "metadata": {},
   "outputs": [],
   "source": [
    "tweets_ = clean_tweets(tweets)\n",
    "tweets_user = get_tweets_user(tweets_)  ## combining all of the tweets of the user\n",
    "X,y,tf_idf = get_data(tweets_user)\n",
    "X_train,X_test, Y_train, Y_test = train_test_split(X,y,test_size=0.25,random_state =4)\n",
    "svm = svm_wrapper(X_train,Y_train)\n",
    "## svm accuracy on poly mono data ## C=1 kernel= linear\n",
    "Y_pred = svm.predict(X_test)\n",
    "print('  Classification Report:\\n',classification_report(Y_test,Y_pred),'\\n')\n",
    "_,_,fscore,_ = precision_recall_fscore_support(Y_test,Y_pred)\n",
    "# print(np.average(fscore))\n",
    "f_scores.append(np.average(fscore)) "
   ]
  },
  {
   "cell_type": "code",
   "execution_count": null,
   "metadata": {
    "scrolled": false
   },
   "outputs": [],
   "source": [
    "coeff = plot_coeff(20,svm,tf_idf.get_feature_names())"
   ]
  },
  {
   "cell_type": "code",
   "execution_count": null,
   "metadata": {},
   "outputs": [],
   "source": [
    "plt.figure(figsize=(10,5))\n",
    "years = [\"2014-2015\"]\n",
    "plt.scatter(years, f_scores)\n",
    "plt.title(\"Training accuarcy of classifier(SVM) on tweets for different time range\",fontsize = 20)\n",
    "plt.xlabel(\"Range of year span \",fontsize = 16)\n",
    "plt.ylabel(\"f1-score\",fontsize = 16)\n",
    "plt.xticks(rotation=30, ha='center')\n",
    "plt.show()"
   ]
  },
  {
   "cell_type": "markdown",
   "metadata": {},
   "source": [
    "## bucket 2015"
   ]
  },
  {
   "cell_type": "code",
   "execution_count": null,
   "metadata": {},
   "outputs": [],
   "source": [
    "tweets = tweets_all[tweets_all.tweetCreatedAt.dt.year < 2016]"
   ]
  },
  {
   "cell_type": "code",
   "execution_count": null,
   "metadata": {
    "scrolled": true
   },
   "outputs": [],
   "source": [
    "print(\"tweets\",len(tweets))\n",
    "print(\"users\",len(tweets.userID.unique()))"
   ]
  },
  {
   "cell_type": "code",
   "execution_count": null,
   "metadata": {},
   "outputs": [],
   "source": [
    "tweets_ = clean_tweets(tweets)\n",
    "tweets_user = get_tweets_user(tweets_)  ## combining all of the tweets of the user\n",
    "X,y,tf_idf = get_data(tweets_user)\n",
    "X_train,X_test, Y_train, Y_test = train_test_split(X,y,test_size=0.25,random_state =4)\n",
    "svm = svm_wrapper(X_train,Y_train)\n",
    "## svm accuracy on poly mono data ## C=1 kernel= linear\n",
    "Y_pred = svm.predict(X_test)\n",
    "print('  Classification Report:\\n',classification_report(Y_test,Y_pred),'\\n')\n",
    "_,_,fscore,_ = precision_recall_fscore_support(Y_test,Y_pred)\n",
    "# print(np.average(fscore))\n",
    "f_scores.append(np.average(fscore)) "
   ]
  },
  {
   "cell_type": "code",
   "execution_count": null,
   "metadata": {
    "scrolled": false
   },
   "outputs": [],
   "source": [
    "coeff = plot_coeff(20,svm,tf_idf.get_feature_names())"
   ]
  },
  {
   "cell_type": "code",
   "execution_count": null,
   "metadata": {},
   "outputs": [],
   "source": [
    "plt.figure(figsize=(10,5))\n",
    "years = [\"2014-15\",\"2014-16\"]\n",
    "plt.scatter(years, f_scores)\n",
    "plt.title(\"Training accuarcy of classifier(SVM) on tweets for different time range\",fontsize = 20)\n",
    "plt.xlabel(\"Range of year span \",fontsize = 16)\n",
    "plt.ylabel(\"f1-score\",fontsize = 16)\n",
    "plt.xticks(rotation=30, ha='center')\n",
    "plt.show()"
   ]
  },
  {
   "cell_type": "markdown",
   "metadata": {},
   "source": [
    "# Bucket 2016"
   ]
  },
  {
   "cell_type": "code",
   "execution_count": null,
   "metadata": {},
   "outputs": [],
   "source": [
    "tweets = tweets_all[tweets_all.tweetCreatedAt.dt.year < 2017]"
   ]
  },
  {
   "cell_type": "code",
   "execution_count": null,
   "metadata": {
    "scrolled": true
   },
   "outputs": [],
   "source": [
    "print(\"tweets\",len(tweets))\n",
    "print(\"users\",len(tweets.userID.unique()))"
   ]
  },
  {
   "cell_type": "code",
   "execution_count": null,
   "metadata": {},
   "outputs": [],
   "source": [
    "tweets_ = clean_tweets(tweets)\n",
    "tweets_user = get_tweets_user(tweets_)  ## combining all of the tweets of the user\n",
    "X,y,tf_idf = get_data(tweets_user)\n",
    "X_train,X_test, Y_train, Y_test = train_test_split(X,y,test_size=0.25,random_state =4)\n",
    "svm = svm_wrapper(X_train,Y_train)\n",
    "## svm accuracy on poly mono data ## C=1 kernel= linear\n",
    "Y_pred = svm.predict(X_test)\n",
    "print('  Classification Report:\\n',classification_report(Y_test,Y_pred),'\\n')\n",
    "_,_,fscore,_ = precision_recall_fscore_support(Y_test,Y_pred)\n",
    "# print(np.average(fscore))\n",
    "f_scores.append(np.average(fscore)) "
   ]
  },
  {
   "cell_type": "code",
   "execution_count": null,
   "metadata": {
    "scrolled": false
   },
   "outputs": [],
   "source": [
    "coeff = plot_coeff(20,svm,tf_idf.get_feature_names())"
   ]
  },
  {
   "cell_type": "code",
   "execution_count": null,
   "metadata": {},
   "outputs": [],
   "source": [
    "plt.figure(figsize=(10,5))\n",
    "years = [\"2014-15\",\"2014-16\",\"2014-17\"]\n",
    "plt.scatter(years, f_scores)\n",
    "plt.title(\"Training accuarcy of classifier(SVM) on tweets for different time range\",fontsize = 20)\n",
    "plt.xlabel(\"Range of year span \",fontsize = 16)\n",
    "plt.ylabel(\"f1-score\",fontsize = 16)\n",
    "plt.xticks(rotation=30, ha='center')\n",
    "plt.show()"
   ]
  },
  {
   "cell_type": "markdown",
   "metadata": {},
   "source": [
    "##  bucket 2017"
   ]
  },
  {
   "cell_type": "code",
   "execution_count": null,
   "metadata": {},
   "outputs": [],
   "source": [
    "year_c = 2018\n",
    "tweets = tweets_all[tweets_all.tweetCreatedAt.dt.year < year_c]\n",
    "print(\"tweets\",len(tweets))\n",
    "print(\"users\",len(tweets.userID.unique()))\n",
    "tweets_ = clean_tweets(tweets)\n",
    "tweets_user = get_tweets_user(tweets_)  ## combining all of the tweets of the user\n",
    "X,y,tf_idf = get_data(tweets_user)\n",
    "X_train,X_test, Y_train, Y_test = train_test_split(X,y,test_size=0.25,random_state =4)\n",
    "svm = svm_wrapper(X_train,Y_train)\n",
    "## svm accuracy on poly mono data ## C=1 kernel= linear\n",
    "Y_pred = svm.predict(X_test)\n",
    "print('  Classification Report:\\n',classification_report(Y_test,Y_pred),'\\n')\n",
    "_,_,fscore,_ = precision_recall_fscore_support(Y_test,Y_pred)\n",
    "# print(np.average(fscore))\n",
    "f_scores.append(np.average(fscore)) "
   ]
  },
  {
   "cell_type": "code",
   "execution_count": null,
   "metadata": {
    "scrolled": false
   },
   "outputs": [],
   "source": [
    "coeff = plot_coeff(20,svm,tf_idf.get_feature_names())"
   ]
  },
  {
   "cell_type": "code",
   "execution_count": null,
   "metadata": {},
   "outputs": [],
   "source": [
    "plt.figure(figsize=(10,5))\n",
    "years = [\"2014-15\",\"2014-16\",\"2014-17\",\"2014-18\"]\n",
    "plt.plot(years, f_scores)\n",
    "plt.title(\"Training accuarcy of classifier(SVM) on tweets for different time range\",fontsize = 20)\n",
    "plt.xlabel(\"Range of year span \",fontsize = 16)\n",
    "plt.ylabel(\"f1-score\",fontsize = 16)\n",
    "plt.xticks(rotation=30, ha='center')\n",
    "plt.show()"
   ]
  },
  {
   "cell_type": "markdown",
   "metadata": {},
   "source": [
    "# change of accuracy of the svm model using only the specific year data"
   ]
  },
  {
   "cell_type": "code",
   "execution_count": null,
   "metadata": {
    "scrolled": true
   },
   "outputs": [],
   "source": [
    "## prediction\n",
    "tweets = tweets_all[tweets_all.tweetCreatedAt.dt.year < 2015]\n",
    "tweets_ = clean_tweets(tweets)\n",
    "tweets_user = get_tweets_user(tweets_)  ## combining all of the tweets of the user\n",
    "X_test = tf_idf_final.transform(tweets_user[\"tweetText\"])\n",
    "Y_true = get_label(tweets_user)\n",
    "y_pred = svm_final.predict(X_test)\n",
    "print('  Classification Report:\\n',classification_report(Y_true,y_pred),'\\n')"
   ]
  },
  {
   "cell_type": "code",
   "execution_count": null,
   "metadata": {},
   "outputs": [],
   "source": [
    "year_c = 2016\n",
    "tweets = tweets_all[tweets_all.tweetCreatedAt.dt.year < year_c]\n",
    "tweets_ = clean_tweets(tweets)\n",
    "tweets_user = get_tweets_user(tweets_)  ## combining all of the tweets of the user\n",
    "X_test = tf_idf_final.transform(tweets_user[\"tweetText\"])\n",
    "Y_true = get_label(tweets_user)\n",
    "y_pred = svm_final.predict(X_test)\n",
    "print('  Classification Report:\\n',classification_report(Y_true,y_pred),'\\n')"
   ]
  },
  {
   "cell_type": "code",
   "execution_count": null,
   "metadata": {},
   "outputs": [],
   "source": [
    "year_c = 2017\n",
    "tweets = tweets_all[tweets_all.tweetCreatedAt.dt.year < year_c]\n",
    "tweets_ = clean_tweets(tweets)\n",
    "tweets_user = get_tweets_user(tweets_)  ## combining all of the tweets of the user\n",
    "X_test = tf_idf_final.transform(tweets_user[\"tweetText\"])\n",
    "Y_true = get_label(tweets_user)\n",
    "y_pred = svm_final.predict(X_test)\n",
    "print('  Classification Report:\\n',classification_report(Y_true,y_pred),'\\n')"
   ]
  },
  {
   "cell_type": "code",
   "execution_count": null,
   "metadata": {},
   "outputs": [],
   "source": [
    "year_c = 2018\n",
    "tweets = tweets_all[tweets_all.tweetCreatedAt.dt.year < year_c]\n",
    "tweets_ = clean_tweets(tweets)\n",
    "tweets_user = get_tweets_user(tweets_)  ## combining all of the tweets of the user\n",
    "X_test = tf_idf_final.transform(tweets_user[\"tweetText\"])\n",
    "Y_true = get_label(tweets_user)\n",
    "y_pred = svm_final.predict(X_test)\n",
    "print('  Classification Report:\\n',classification_report(Y_true,y_pred),'\\n')"
   ]
  },
  {
   "cell_type": "code",
   "execution_count": null,
   "metadata": {},
   "outputs": [],
   "source": [
    "year_c = 2019\n",
    "tweets = tweets_all[tweets_all.tweetCreatedAt.dt.year < year_c]\n",
    "tweets_ = clean_tweets(tweets)\n",
    "tweets_user = get_tweets_user(tweets_)  ## combining all of the tweets of the user\n",
    "X_test = tf_idf_final.transform(tweets_user[\"tweetText\"])\n",
    "Y_true = get_label(tweets_user)\n",
    "y_pred = svm_final.predict(X_test)\n",
    "print('  Classification Report:\\n',classification_report(Y_true,y_pred),'\\n')"
   ]
  },
  {
   "cell_type": "markdown",
   "metadata": {},
   "source": [
    "## looking at the cascades"
   ]
  },
  {
   "cell_type": "code",
   "execution_count": null,
   "metadata": {},
   "outputs": [],
   "source": [
    "import operator\n",
    "def get_depth(G):\n",
    "    level = nx.get_node_attributes(G,'level')\n",
    "    if not level:\n",
    "        level = nx.get_node_attributes(G,'depth')\n",
    "    depth = max(level.items(), key=operator.itemgetter(1))[1]\n",
    "    return depth"
   ]
  },
  {
   "cell_type": "code",
   "execution_count": null,
   "metadata": {},
   "outputs": [],
   "source": [
    "graph_path = os.path.join(top_dir,\"models\",\"graphs2\")"
   ]
  },
  {
   "cell_type": "code",
   "execution_count": null,
   "metadata": {},
   "outputs": [],
   "source": [
    "filenames = [file for file in os.listdir(os.path.join(os.getcwd(),graph_path)) if file.endswith(\".gpickle\")]"
   ]
  },
  {
   "cell_type": "code",
   "execution_count": null,
   "metadata": {},
   "outputs": [],
   "source": [
    "len(filenames)"
   ]
  },
  {
   "cell_type": "code",
   "execution_count": null,
   "metadata": {},
   "outputs": [],
   "source": [
    "def get_type_nodes(G,main_node,poly_users):\n",
    "    poly_nodes = []\n",
    "    mono_nodes = []\n",
    "    for node in G:\n",
    "        if node != main_node:\n",
    "            if node in set(poly_users):\n",
    "                poly_nodes.append(node)\n",
    "            else:\n",
    "                mono_nodes.append(node)\n",
    "    return (poly_nodes,mono_nodes)"
   ]
  },
  {
   "cell_type": "markdown",
   "metadata": {},
   "source": [
    "## gettng the network properties"
   ]
  },
  {
   "cell_type": "code",
   "execution_count": null,
   "metadata": {},
   "outputs": [],
   "source": [
    "df_following_final = pd.read_csv(os.path.join(input_dir,\"following_final.csv\"))"
   ]
  },
  {
   "cell_type": "code",
   "execution_count": null,
   "metadata": {},
   "outputs": [],
   "source": [
    "print(len(normal_users))\n",
    "print(len(poly_users))\n",
    "print(len(mono_users))"
   ]
  },
  {
   "cell_type": "code",
   "execution_count": null,
   "metadata": {},
   "outputs": [],
   "source": [
    "## selecting a subset of the following that contain the total users\n",
    "df_poly_users = df_following_final[df_following_final.userID.isin(poly_users)]\n",
    "df_mono_users = df_following_final[df_following_final.userID.isin(mono_users)]\n",
    "df_all_users = df_following_final[df_following_final.userID.isin(total_users)]"
   ]
  },
  {
   "cell_type": "code",
   "execution_count": null,
   "metadata": {},
   "outputs": [],
   "source": [
    "def get_graph(df):\n",
    "    G = nx.DiGraph()\n",
    "    users = list(df.userID.unique())\n",
    "    for user in tqdm(users):\n",
    "        following_A = set(ast.literal_eval((df.loc[df.userID == user].head(1)[\"following\"].values)[0]))\n",
    "        user_set = set([node for node in users if node != user])\n",
    "        users_list = user_set.intersection(following_A)\n",
    "        for user_following in list(users_list):\n",
    "            G.add_edge(user,user_following)\n",
    "    return G"
   ]
  },
  {
   "cell_type": "code",
   "execution_count": null,
   "metadata": {},
   "outputs": [],
   "source": [
    "G_poly = get_graph(df_poly_users)\n",
    "G_mono = get_graph(df_mono_users)\n",
    "G_all = get_graph(df_all_users)"
   ]
  },
  {
   "cell_type": "code",
   "execution_count": null,
   "metadata": {},
   "outputs": [],
   "source": [
    "# color map \n",
    "def get_color_map(G,poly_users):\n",
    "    color_map = list()\n",
    "    for node in G.nodes():\n",
    "        if int(node) in set(poly_users):\n",
    "            color_map.append('green')\n",
    "        else:\n",
    "            color_map.append('blue')\n",
    "    return color_map"
   ]
  },
  {
   "cell_type": "code",
   "execution_count": null,
   "metadata": {},
   "outputs": [],
   "source": [
    "## mono viz --(filetersd)\n",
    "color_map = get_color_map(G_mono,poly_users)\n",
    "plt.figure(figsize=(30,30))\n",
    "nx.draw(G_mono,node_color=color_map)"
   ]
  },
  {
   "cell_type": "code",
   "execution_count": null,
   "metadata": {},
   "outputs": [],
   "source": [
    "color_map = get_color_map(G_poly,poly_users)\n",
    "plt.figure(figsize=(30,30))\n",
    "nx.draw(G_poly,node_color=color_map)"
   ]
  },
  {
   "cell_type": "code",
   "execution_count": null,
   "metadata": {},
   "outputs": [],
   "source": [
    "plt.figure(figsize=(50,50))\n",
    "color_map = get_color_map(G_all,poly_users)\n",
    "pos = nx.spring_layout(G_all)\n",
    "nx.draw_networkx(G_all, pos=pos, node_color = color_map,with_label = False,arrows=True,labels=None)\n",
    "plt.show()"
   ]
  },
  {
   "cell_type": "code",
   "execution_count": null,
   "metadata": {},
   "outputs": [],
   "source": [
    "print(nx.info(G_all))\n",
    "print(\"average clustering poly\",nx.average_clustering(G_all))"
   ]
  },
  {
   "cell_type": "code",
   "execution_count": null,
   "metadata": {},
   "outputs": [],
   "source": [
    "print(nx.info(G_mono))\n",
    "print(\"average clustering poly\",nx.average_clustering(G_mono))"
   ]
  },
  {
   "cell_type": "code",
   "execution_count": null,
   "metadata": {},
   "outputs": [],
   "source": [
    "print(nx.info(G_poly))\n",
    "print(\"average clustering mono\",nx.average_clustering(G_poly))"
   ]
  },
  {
   "cell_type": "code",
   "execution_count": null,
   "metadata": {},
   "outputs": [],
   "source": [
    "## checking the influence in the cascades..\n",
    "## influence = no of poly/mono / total no of nodes\n",
    "influence_poly = []\n",
    "influence_mono = []\n",
    "for file in filenames:\n",
    "    G = nx.read_gpickle(os.path.join(graph_path,file))\n",
    "    depth = nx.get_node_attributes(G,'level')\n",
    "    main_node = [node for node,level in depth.items() if level ==0]\n",
    "    poly_nodes,mono_nodes =  get_type_nodes(G,main_node,poly_users)\n",
    "#     if len(G.nodes) > 30:\n",
    "    if main_node[0] in set(poly_users):\n",
    "        influence_poly.append(len(poly_nodes)/(len(poly_nodes)+len(mono_nodes)))\n",
    "    else:\n",
    "        influence_mono.append(len(mono_nodes)/(len(poly_nodes)+len(mono_nodes)))"
   ]
  },
  {
   "cell_type": "code",
   "execution_count": null,
   "metadata": {},
   "outputs": [],
   "source": [
    "len(influence_poly)"
   ]
  },
  {
   "cell_type": "code",
   "execution_count": null,
   "metadata": {},
   "outputs": [],
   "source": [
    "len(influence_mono)"
   ]
  },
  {
   "cell_type": "code",
   "execution_count": null,
   "metadata": {},
   "outputs": [],
   "source": [
    "np.mean(influence_mono) "
   ]
  },
  {
   "cell_type": "code",
   "execution_count": null,
   "metadata": {},
   "outputs": [],
   "source": [
    "np.mean(influence_poly)"
   ]
  },
  {
   "cell_type": "code",
   "execution_count": null,
   "metadata": {},
   "outputs": [],
   "source": [
    "len(poly_users)"
   ]
  }
 ],
 "metadata": {
  "kernelspec": {
   "display_name": "juul",
   "language": "python",
   "name": "python3"
  },
  "language_info": {
   "codemirror_mode": {
    "name": "ipython",
    "version": 3
   },
   "file_extension": ".py",
   "mimetype": "text/x-python",
   "name": "python",
   "nbconvert_exporter": "python",
   "pygments_lexer": "ipython3",
   "version": "3.6.6"
  }
 },
 "nbformat": 4,
 "nbformat_minor": 1
}
