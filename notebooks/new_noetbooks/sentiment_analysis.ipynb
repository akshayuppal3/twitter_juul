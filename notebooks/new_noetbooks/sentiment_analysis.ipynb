{
 "cells": [
  {
   "cell_type": "code",
   "execution_count": 194,
   "metadata": {},
   "outputs": [
    {
     "name": "stderr",
     "output_type": "stream",
     "text": [
      "[nltk_data] Downloading package vader_lexicon to\n",
      "[nltk_data]     /home/drew_william2345/nltk_data...\n",
      "[nltk_data]   Package vader_lexicon is already up-to-date!\n"
     ]
    }
   ],
   "source": [
    "import pandas as pd\n",
    "import numpy as np\n",
    "import os\n",
    "import git\n",
    "import pickle\n",
    "from datetime import datetime\n",
    "import nltk\n",
    "nltk.download('vader_lexicon')\n",
    "from tqdm.auto import tqdm\n",
    "from dateutil.relativedelta import relativedelta\n",
    "from nltk.sentiment.vader import SentimentIntensityAnalyzer\n",
    "import matplotlib.pyplot as plt\n",
    "pd.set_option('display.max_colwidth', -1)\n",
    "from tqdm.auto import tqdm\n",
    "sid = SentimentIntensityAnalyzer()"
   ]
  },
  {
   "cell_type": "code",
   "execution_count": 5,
   "metadata": {},
   "outputs": [],
   "source": [
    "def get_git_root(path):\n",
    "    git_repo = git.Repo(path, search_parent_directories=True)\n",
    "    git_root = git_repo.git.rev_parse(\"--show-toplevel\")\n",
    "    return git_root"
   ]
  },
  {
   "cell_type": "code",
   "execution_count": 6,
   "metadata": {},
   "outputs": [],
   "source": [
    "top_dir = get_git_root(os.getcwd())\n",
    "input_dir = os.path.join(top_dir,\"input\")\n",
    "model_dir = os.path.join(top_dir,\"models\")"
   ]
  },
  {
   "cell_type": "code",
   "execution_count": 15,
   "metadata": {},
   "outputs": [],
   "source": [
    "juul_data = pd.read_csv(os.path.join(input_dir,\"juul_data.csv\"),lineterminator=\"\\n\")\n",
    "juul_data[\"tweetCreatedAt\"] = pd.to_datetime(juul_data[\"tweetCreatedAt\"])\n",
    "user_data = pd.read_csv(os.path.join(input_dir,\"user_data.csv\"),lineterminator=\"\\n\")"
   ]
  },
  {
   "cell_type": "code",
   "execution_count": 5,
   "metadata": {},
   "outputs": [
    {
     "data": {
      "text/plain": [
       "887180"
      ]
     },
     "execution_count": 5,
     "metadata": {},
     "output_type": "execute_result"
    }
   ],
   "source": [
    "## no of users\n",
    "len(juul_data.userID.unique())"
   ]
  },
  {
   "cell_type": "markdown",
   "metadata": {},
   "source": [
    "## extarct the data for 2018 and look at the sentiments"
   ]
  },
  {
   "cell_type": "markdown",
   "metadata": {},
   "source": [
    "### extract 2018 data \n"
   ]
  },
  {
   "cell_type": "code",
   "execution_count": 8,
   "metadata": {},
   "outputs": [
    {
     "data": {
      "text/plain": [
       "{'neg': 0.0, 'neu': 0.408, 'pos': 0.592, 'compound': 0.4404}"
      ]
     },
     "execution_count": 8,
     "metadata": {},
     "output_type": "execute_result"
    }
   ],
   "source": [
    "sid = SentimentIntensityAnalyzer()\n",
    "sid.polarity_scores(\"this is good\")  ## test"
   ]
  },
  {
   "cell_type": "code",
   "execution_count": 40,
   "metadata": {},
   "outputs": [
    {
     "data": {
      "text/plain": [
       "0.6757790593434232"
      ]
     },
     "execution_count": 40,
     "metadata": {},
     "output_type": "execute_result"
    }
   ],
   "source": [
    "## 67 % of retweet data\n",
    "len(juul_data.loc[juul_data.retweeted == True]) / len(juul_data)"
   ]
  },
  {
   "cell_type": "code",
   "execution_count": 18,
   "metadata": {
    "scrolled": true
   },
   "outputs": [
    {
     "data": {
      "application/vnd.jupyter.widget-view+json": {
       "model_id": "664f5d01812d4a57ad8e110cf3399438",
       "version_major": 2,
       "version_minor": 0
      },
      "text/plain": [
       "HBox(children=(IntProgress(value=0, max=12), HTML(value='')))"
      ]
     },
     "metadata": {},
     "output_type": "display_data"
    },
    {
     "name": "stdout",
     "output_type": "stream",
     "text": [
      "Jan\n",
      "64275\n"
     ]
    },
    {
     "data": {
      "application/vnd.jupyter.widget-view+json": {
       "model_id": "237245c2e7ff4238a92e9ee6e000a886",
       "version_major": 2,
       "version_minor": 0
      },
      "text/plain": [
       "HBox(children=(IntProgress(value=0, max=64275), HTML(value='')))"
      ]
     },
     "metadata": {},
     "output_type": "display_data"
    },
    {
     "name": "stdout",
     "output_type": "stream",
     "text": [
      "Feb\n",
      "57121\n"
     ]
    },
    {
     "data": {
      "application/vnd.jupyter.widget-view+json": {
       "model_id": "bdb1c04a09424e0389ba410e6b19efdc",
       "version_major": 2,
       "version_minor": 0
      },
      "text/plain": [
       "HBox(children=(IntProgress(value=0, max=57121), HTML(value='')))"
      ]
     },
     "metadata": {},
     "output_type": "display_data"
    },
    {
     "name": "stdout",
     "output_type": "stream",
     "text": [
      "Mar\n",
      "78153\n"
     ]
    },
    {
     "data": {
      "application/vnd.jupyter.widget-view+json": {
       "model_id": "835aa6e0664c4f7eb41f11ab62444d7c",
       "version_major": 2,
       "version_minor": 0
      },
      "text/plain": [
       "HBox(children=(IntProgress(value=0, max=78153), HTML(value='')))"
      ]
     },
     "metadata": {},
     "output_type": "display_data"
    },
    {
     "name": "stdout",
     "output_type": "stream",
     "text": [
      "Apr\n",
      "102004\n"
     ]
    },
    {
     "data": {
      "application/vnd.jupyter.widget-view+json": {
       "model_id": "6be768a59a2d461db975c296df719fa1",
       "version_major": 2,
       "version_minor": 0
      },
      "text/plain": [
       "HBox(children=(IntProgress(value=0, max=102004), HTML(value='')))"
      ]
     },
     "metadata": {},
     "output_type": "display_data"
    },
    {
     "name": "stdout",
     "output_type": "stream",
     "text": [
      "May\n",
      "112754\n"
     ]
    },
    {
     "data": {
      "application/vnd.jupyter.widget-view+json": {
       "model_id": "81b0d84004384e2fa5a4d015436211b8",
       "version_major": 2,
       "version_minor": 0
      },
      "text/plain": [
       "HBox(children=(IntProgress(value=0, max=112754), HTML(value='')))"
      ]
     },
     "metadata": {},
     "output_type": "display_data"
    },
    {
     "name": "stdout",
     "output_type": "stream",
     "text": [
      "Jun\n",
      "134507\n"
     ]
    },
    {
     "data": {
      "application/vnd.jupyter.widget-view+json": {
       "model_id": "4489bd3670514f4a95faa3a98c2e0f59",
       "version_major": 2,
       "version_minor": 0
      },
      "text/plain": [
       "HBox(children=(IntProgress(value=0, max=134507), HTML(value='')))"
      ]
     },
     "metadata": {},
     "output_type": "display_data"
    },
    {
     "name": "stdout",
     "output_type": "stream",
     "text": [
      "Jul\n",
      "151713\n"
     ]
    },
    {
     "data": {
      "application/vnd.jupyter.widget-view+json": {
       "model_id": "eb552026f5294f6baa1f052e3231dc0c",
       "version_major": 2,
       "version_minor": 0
      },
      "text/plain": [
       "HBox(children=(IntProgress(value=0, max=151713), HTML(value='')))"
      ]
     },
     "metadata": {},
     "output_type": "display_data"
    },
    {
     "name": "stdout",
     "output_type": "stream",
     "text": [
      "Aug\n",
      "155437\n"
     ]
    },
    {
     "data": {
      "application/vnd.jupyter.widget-view+json": {
       "model_id": "ec563fd3bee74c96a4d38e3e6704cceb",
       "version_major": 2,
       "version_minor": 0
      },
      "text/plain": [
       "HBox(children=(IntProgress(value=0, max=155437), HTML(value='')))"
      ]
     },
     "metadata": {},
     "output_type": "display_data"
    },
    {
     "name": "stdout",
     "output_type": "stream",
     "text": [
      "Sep\n",
      "132445\n"
     ]
    },
    {
     "data": {
      "application/vnd.jupyter.widget-view+json": {
       "model_id": "d10cea0d91d7472cb44528f9b357ebdc",
       "version_major": 2,
       "version_minor": 0
      },
      "text/plain": [
       "HBox(children=(IntProgress(value=0, max=132445), HTML(value='')))"
      ]
     },
     "metadata": {},
     "output_type": "display_data"
    },
    {
     "name": "stdout",
     "output_type": "stream",
     "text": [
      "Oct\n",
      "154867\n"
     ]
    },
    {
     "data": {
      "application/vnd.jupyter.widget-view+json": {
       "model_id": "439d67848d024211af569906576e6218",
       "version_major": 2,
       "version_minor": 0
      },
      "text/plain": [
       "HBox(children=(IntProgress(value=0, max=154867), HTML(value='')))"
      ]
     },
     "metadata": {},
     "output_type": "display_data"
    },
    {
     "name": "stdout",
     "output_type": "stream",
     "text": [
      "Nov\n",
      "167740\n"
     ]
    },
    {
     "data": {
      "application/vnd.jupyter.widget-view+json": {
       "model_id": "03a5537a6ed0462c8810b8257cdf3ffa",
       "version_major": 2,
       "version_minor": 0
      },
      "text/plain": [
       "HBox(children=(IntProgress(value=0, max=167740), HTML(value='')))"
      ]
     },
     "metadata": {},
     "output_type": "display_data"
    },
    {
     "name": "stdout",
     "output_type": "stream",
     "text": [
      "Dec\n",
      "162147\n"
     ]
    },
    {
     "data": {
      "application/vnd.jupyter.widget-view+json": {
       "model_id": "dc2f824f20b34059a98ffc139a62f89b",
       "version_major": 2,
       "version_minor": 0
      },
      "text/plain": [
       "HBox(children=(IntProgress(value=0, max=162147), HTML(value='')))"
      ]
     },
     "metadata": {},
     "output_type": "display_data"
    },
    {
     "name": "stdout",
     "output_type": "stream",
     "text": [
      "\n"
     ]
    }
   ],
   "source": [
    "pos_sentiment= []\n",
    "neg_sentiment = []\n",
    "neutral_sentiment = []\n",
    "compound_sentiment = []\n",
    "dates = []\n",
    "start = datetime(2018,1,1)\n",
    "for i in tqdm(range(12)):\n",
    "    next_ = start + relativedelta(months=1)\n",
    "    print(start.strftime(\"%b\"))\n",
    "    data = juul_data.loc[(juul_data[\"tweetCreatedAt\"] >= start ) & (juul_data[\"tweetCreatedAt\"] < next_)]\n",
    "    print(len(data))\n",
    "    count = 0\n",
    "    pos_value = 0\n",
    "    neg_value = 0\n",
    "    neutral_value = 0\n",
    "    compound_value= 0\n",
    "    for sentence in tqdm(list(data.tweetText)):\n",
    "        ss = sid.polarity_scores(sentence)\n",
    "        pos_value += ss[\"pos\"]\n",
    "        neg_value += ss[\"neg\"]\n",
    "        neutral_value += ss[\"neu\"]\n",
    "        compound_value += ss[\"compound\"]\n",
    "        count += 1\n",
    "    pos_sentiment.append(pos_value/ count)\n",
    "    neg_sentiment.append(neg_value/ count)\n",
    "    compound_sentiment.append(compound_value/ count)\n",
    "    neutral_sentiment.append(neutral_value/ count)\n",
    "    dates.append(start.strftime(\"%b\"))\n",
    "    start = next_"
   ]
  },
  {
   "cell_type": "code",
   "execution_count": 29,
   "metadata": {},
   "outputs": [
    {
     "data": {
      "image/png": "[encoded data removed]",
      "text/plain": [
       "<Figure size 1080x576 with 1 Axes>"
      ]
     },
     "metadata": {
      "needs_background": "light"
     },
     "output_type": "display_data"
    }
   ],
   "source": [
    "plt.figure(figsize=(15,8))\n",
    "# dates = [str(date) for date in dates]\n",
    "# plt.plot(dates,pos_sentiment,label=\"pos\")\n",
    "# plt.plot(dates,neg_sentiment,label=\"neg\")\n",
    "plt.plot(dates,np.zeros(len(dates)),label=\"neutral baseline\")\n",
    "plt.plot(dates,compound_sentiment,label=\"compound\")\n",
    "plt.title(\"range of sentiment over a period of 2018\")\n",
    "plt.legend()\n",
    "plt.show()"
   ]
  },
  {
   "cell_type": "markdown",
   "metadata": {},
   "source": [
    "## selecting 2018 data and seeing the sentiments of them"
   ]
  },
  {
   "cell_type": "code",
   "execution_count": 17,
   "metadata": {},
   "outputs": [],
   "source": [
    "juul_2018 = juul_data.loc[(juul_data[\"tweetCreatedAt\"] >= datetime(2018,1,1) ) & (juul_data[\"tweetCreatedAt\"] < datetime(2018,12,31))]\n"
   ]
  },
  {
   "cell_type": "code",
   "execution_count": 12,
   "metadata": {},
   "outputs": [],
   "source": [
    "classifier_dir = os.path.join(model_dir,\"classifier\",\"filter\")\n",
    "svm = pickle.load(open(os.path.join(classifier_dir,\"svm_tf.pkl\"),\"rb\"))\n",
    "tf_idf = pickle.load(open(os.path.join(classifier_dir,\"tf_idf_vect.pkl\"),\"rb\"))"
   ]
  },
  {
   "cell_type": "code",
   "execution_count": 26,
   "metadata": {},
   "outputs": [],
   "source": [
    "X = tf_idf.transform(juul_2018[\"tweetText\"])"
   ]
  },
  {
   "cell_type": "code",
   "execution_count": 35,
   "metadata": {},
   "outputs": [],
   "source": [
    "y = (svm.predict(X))"
   ]
  },
  {
   "cell_type": "code",
   "execution_count": 36,
   "metadata": {},
   "outputs": [
    {
     "data": {
      "text/plain": [
       "(1471336,)"
      ]
     },
     "execution_count": 36,
     "metadata": {},
     "output_type": "execute_result"
    }
   ],
   "source": [
    "y.shape"
   ]
  },
  {
   "cell_type": "code",
   "execution_count": 51,
   "metadata": {},
   "outputs": [
    {
     "name": "stdout",
     "output_type": "stream",
     "text": [
      "regular tweets 0.694000554597998 : 1021108\n",
      "promoters tweets 0.17742990044422213 : 261059\n",
      "news tweets 0.12856954495777986 : 189169\n"
     ]
    }
   ],
   "source": [
    "print(\"regular tweets\",len([ele for ele in y if ele== 2]) / len(y),\":\",len([ele for ele in y if ele== 2]))\n",
    "print(\"promoters tweets\",len([ele for ele in y if ele== 1]) / len(y),\":\",len([ele for ele in y if ele== 1]) )\n",
    "print(\"news tweets\",len([ele for ele in y if ele== 0]) / len(y),\":\",len([ele for ele in y if ele== 0]))"
   ]
  },
  {
   "cell_type": "code",
   "execution_count": 52,
   "metadata": {},
   "outputs": [
    {
     "name": "stderr",
     "output_type": "stream",
     "text": [
      "/home/drew_william2345/anaconda3/envs/multimodal-env/lib/python3.6/site-packages/ipykernel_launcher.py:1: SettingWithCopyWarning: \n",
      "A value is trying to be set on a copy of a slice from a DataFrame.\n",
      "Try using .loc[row_indexer,col_indexer] = value instead\n",
      "\n",
      "See the caveats in the documentation: http://pandas.pydata.org/pandas-docs/stable/indexing.html#indexing-view-versus-copy\n",
      "  \"\"\"Entry point for launching an IPython kernel.\n"
     ]
    }
   ],
   "source": [
    "juul_2018[\"label\"] = y"
   ]
  },
  {
   "cell_type": "markdown",
   "metadata": {},
   "source": [
    "### capture regular users (max tweets of each category)"
   ]
  },
  {
   "cell_type": "code",
   "execution_count": 192,
   "metadata": {},
   "outputs": [
    {
     "data": {
      "text/plain": [
       "1021108.0"
      ]
     },
     "execution_count": 192,
     "metadata": {},
     "output_type": "execute_result"
    }
   ],
   "source": [
    "juul_ = pd.get_dummies(juul_2018,columns=[\"label\"],prefix=['cat'])\n",
    "juul_users_2018 = juul_.groupby(by=\"userID\").agg({'cat_0': 'sum','cat_1':'sum','cat_2':'sum'})\n",
    "juul_users_2018 = juul_users_2018.reset_index()\n",
    "juul_users_2018[\"label\"] = juul_users_2018[['cat_0','cat_1','cat_2']].idxmax(axis=1)\n",
    "## sanity check\n",
    "# regular tweets 1021108\n",
    "(np.sum(list(juul_users_2018[\"cat_2\"])))"
   ]
  },
  {
   "cell_type": "markdown",
   "metadata": {},
   "source": [
    "### plotting each user in different category"
   ]
  },
  {
   "cell_type": "code",
   "execution_count": 176,
   "metadata": {},
   "outputs": [
    {
     "name": "stdout",
     "output_type": "stream",
     "text": [
      "regular_users 546396\n",
      "promoters users 146993\n",
      "news users, 113029\n",
      "806418\n",
      "806418\n"
     ]
    },
    {
     "data": {
      "image/png": "[encoded data removed]",
      "text/plain": [
       "<Figure size 720x360 with 1 Axes>"
      ]
     },
     "metadata": {
      "needs_background": "light"
     },
     "output_type": "display_data"
    }
   ],
   "source": [
    "## no of users in each category\n",
    "print(\"regular_users\",len(juul_users_2018.loc[juul_users_2018.label == \"cat_2\"]))\n",
    "print(\"promoters users\",len(juul_users_2018.loc[juul_users_2018.label == \"cat_1\"]))\n",
    "print(\"news users,\",len(juul_users_2018.loc[juul_users_2018.label == \"cat_0\"]))\n",
    "users_ = {\"reg\":len(juul_users_2018.loc[juul_users_2018.label == \"cat_2\"]),\n",
    " \"prom\":len(juul_users_2018.loc[juul_users_2018.label == \"cat_1\"]),\n",
    " \"news\":len(juul_users_2018.loc[juul_users_2018.label == \"cat_0\"])}\n",
    "\n",
    "## sanity check\n",
    "print(np.sum(list(users_.values())))\n",
    "print(len(juul_users_2018.userID.unique()))\n",
    "\n",
    "## plotting each user by category\n",
    "fig, ax = plt.subplots(figsize=(10,5)) \n",
    "ax.set_title(\"distrbution of users\")\n",
    "ax.bar(users_.keys(),users_.values())\n",
    "for idx,(key,value) in enumerate(users_.items()):\n",
    "    ax.text( idx - 0.2 ,value + 0.5, value, color='blue',fontsize=14)"
   ]
  },
  {
   "cell_type": "code",
   "execution_count": 184,
   "metadata": {},
   "outputs": [],
   "source": [
    "## predict teh sentiment of regualr users\n",
    "juul_reg_users_18 = juul_users_2018.loc[juul_users_2018.label == \"cat_2\"]\n",
    "users_18 = list(juul_reg_users_18.userID.unique())\n",
    "reg_tweets_18 = juul_2018.loc[juul_2018.userID.isin(users_18)][[\"userID\",\"tweetText\"]]"
   ]
  },
  {
   "cell_type": "code",
   "execution_count": 191,
   "metadata": {},
   "outputs": [
    {
     "name": "stdout",
     "output_type": "stream",
     "text": [
      "reg users tweets '18 1046205\n",
      "reg users in '18 546396\n"
     ]
    }
   ],
   "source": [
    "print(\"reg users tweets '18\",len(reg_tweets_18))\n",
    "print(\"reg users in '18\",len(reg_tweets_18.userID.unique()))"
   ]
  },
  {
   "cell_type": "code",
   "execution_count": null,
   "metadata": {},
   "outputs": [
    {
     "data": {
      "application/vnd.jupyter.widget-view+json": {
       "model_id": "ac09b5aef7894cf8906700167164b15d",
       "version_major": 2,
       "version_minor": 0
      },
      "text/plain": [
       "HBox(children=(IntProgress(value=0, max=12), HTML(value='')))"
      ]
     },
     "metadata": {},
     "output_type": "display_data"
    },
    {
     "name": "stdout",
     "output_type": "stream",
     "text": [
      "Jan\n",
      "1046205\n"
     ]
    },
    {
     "data": {
      "application/vnd.jupyter.widget-view+json": {
       "model_id": "7c5455340c7e47f6bf7993c48979f60b",
       "version_major": 2,
       "version_minor": 0
      },
      "text/plain": [
       "HBox(children=(IntProgress(value=0, max=64275), HTML(value='')))"
      ]
     },
     "metadata": {},
     "output_type": "display_data"
    },
    {
     "name": "stdout",
     "output_type": "stream",
     "text": [
      "Feb\n",
      "1046205\n"
     ]
    },
    {
     "data": {
      "application/vnd.jupyter.widget-view+json": {
       "model_id": "e27331ddd93e4f40bbe9e74cdcb3e558",
       "version_major": 2,
       "version_minor": 0
      },
      "text/plain": [
       "HBox(children=(IntProgress(value=0, max=57121), HTML(value='')))"
      ]
     },
     "metadata": {},
     "output_type": "display_data"
    },
    {
     "name": "stdout",
     "output_type": "stream",
     "text": [
      "Mar\n",
      "1046205\n"
     ]
    },
    {
     "data": {
      "application/vnd.jupyter.widget-view+json": {
       "model_id": "0d4b05161eee4315895f721b78510d85",
       "version_major": 2,
       "version_minor": 0
      },
      "text/plain": [
       "HBox(children=(IntProgress(value=0, max=78153), HTML(value='')))"
      ]
     },
     "metadata": {},
     "output_type": "display_data"
    },
    {
     "name": "stdout",
     "output_type": "stream",
     "text": [
      "Apr\n",
      "1046205\n"
     ]
    },
    {
     "data": {
      "application/vnd.jupyter.widget-view+json": {
       "model_id": "562da02caca04af5a17f066bf3b8d140",
       "version_major": 2,
       "version_minor": 0
      },
      "text/plain": [
       "HBox(children=(IntProgress(value=0, max=102004), HTML(value='')))"
      ]
     },
     "metadata": {},
     "output_type": "display_data"
    },
    {
     "name": "stdout",
     "output_type": "stream",
     "text": [
      "May\n",
      "1046205\n"
     ]
    },
    {
     "data": {
      "application/vnd.jupyter.widget-view+json": {
       "model_id": "17ea005bead146329b94afd9c342ed57",
       "version_major": 2,
       "version_minor": 0
      },
      "text/plain": [
       "HBox(children=(IntProgress(value=0, max=112754), HTML(value='')))"
      ]
     },
     "metadata": {},
     "output_type": "display_data"
    }
   ],
   "source": [
    "pos_sentiment= []\n",
    "neg_sentiment = []\n",
    "neutral_sentiment = []\n",
    "compound_sentiment = []\n",
    "dates = []\n",
    "start = datetime(2018,1,1)\n",
    "for i in tqdm(range(12)):\n",
    "    next_ = start + relativedelta(months=1)\n",
    "    print(start.strftime(\"%b\"))\n",
    "    ## filtering data of each month\n",
    "    data = juul_data.loc[(juul_data[\"tweetCreatedAt\"] >= start ) & (juul_data[\"tweetCreatedAt\"] < next_)]\n",
    "    print(len(reg_tweets_18))\n",
    "    count = 0\n",
    "    pos_value = 0\n",
    "    neg_value = 0\n",
    "    neutral_value = 0\n",
    "    compound_value= 0\n",
    "    for sentence in tqdm(list(data.tweetText)):\n",
    "        ss = sid.polarity_scores(sentence)\n",
    "        pos_value += ss[\"pos\"]\n",
    "        neg_value += ss[\"neg\"]\n",
    "        neutral_value += ss[\"neu\"]\n",
    "        compound_value += ss[\"compound\"]\n",
    "        count += 1\n",
    "    pos_sentiment.append(pos_value/ count)\n",
    "    neg_sentiment.append(neg_value/ count)\n",
    "    compound_sentiment.append(compound_value/ count)\n",
    "    neutral_sentiment.append(neutral_value/ count)\n",
    "    dates.append(start.strftime(\"%b\"))\n",
    "    start = next_"
   ]
  },
  {
   "cell_type": "code",
   "execution_count": null,
   "metadata": {},
   "outputs": [],
   "source": [
    "plt.figure(figsize=(15,8))\n",
    "plt.plot(dates,np.zeros(len(dates)),label=\"neutral baseline\")\n",
    "plt.plot(dates,compound_sentiment,label=\"compound\")\n",
    "plt.title(\"range of sentiment over a period of 2018\")\n",
    "plt.legend()\n",
    "plt.show()"
   ]
  }
 ],
 "metadata": {
  "kernelspec": {
   "display_name": "juul",
   "language": "python",
   "name": "python3"
  },
  "language_info": {
   "codemirror_mode": {
    "name": "ipython",
    "version": 3
   },
   "file_extension": ".py",
   "mimetype": "text/x-python",
   "name": "python",
   "nbconvert_exporter": "python",
   "pygments_lexer": "ipython3",
   "version": "3.6.6"
  }
 },
 "nbformat": 4,
 "nbformat_minor": 2
}
