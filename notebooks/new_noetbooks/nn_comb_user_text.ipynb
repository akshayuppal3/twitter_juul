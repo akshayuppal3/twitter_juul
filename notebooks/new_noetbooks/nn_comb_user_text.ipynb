{
 "cells": [
  {
   "cell_type": "code",
   "execution_count": 84,
   "metadata": {},
   "outputs": [
    {
     "name": "stdout",
     "output_type": "stream",
     "text": [
      "[nltk_data] Downloading package wordnet to\n",
      "[nltk_data]     /Users/akshay.uppal/nltk_data...\n",
      "[nltk_data]   Package wordnet is already up-to-date!\n",
      "[nltk_data] Downloading package stopwords to\n",
      "[nltk_data]     /Users/akshay.uppal/nltk_data...\n",
      "[nltk_data]   Package stopwords is already up-to-date!\n"
     ]
    }
   ],
   "source": [
    "import pickle\n",
    "import pandas as pd\n",
    "import os\n",
    "import git\n",
    "import numpy as np\n",
    "from tqdm import tqdm\n",
    "import re\n",
    "import matplotlib.pyplot as plt\n",
    "## keras"
   ]
  },
  {
   "cell_type": "code",
   "execution_count": 3,
   "metadata": {},
   "outputs": [],
   "source": [
    "## Read the labelled files and the poly_user\n",
    "def get_git_root(path):\n",
    "\tgit_repo = git.Repo(path, search_parent_directories=True)\n",
    "\tgit_root = git_repo.git.rev_parse(\"--show-toplevel\")\n",
    "\treturn git_root"
   ]
  },
  {
   "cell_type": "code",
   "execution_count": 4,
   "metadata": {},
   "outputs": [],
   "source": [
    "top_dir = os.path.join(get_git_root(os.getcwd()))\n",
    "model_dir = os.path.join(get_git_root(os.getcwd()),\"models\")\n",
    "input_dir = os.path.join(get_git_root(os.getcwd()),\"input\")\n",
    "poly_dir = os.path.join(model_dir,\"poly_users\")\n",
    "embeddings_dir = os.path.join(input_dir,\"embeddings\")\n",
    "poly_users = pickle.load(open(os.path.join(poly_dir,\"poly_users.pkl\"),\"rb\"))\n",
    "regular_users = pickle.load(open(os.path.join(poly_dir,\"regular_users.pkl\"),\"rb\"))\n",
    "mono_users = pickle.load(open(os.path.join(poly_dir,\"mono_users.pkl\"),\"rb\"))"
   ]
  },
  {
   "cell_type": "code",
   "execution_count": 85,
   "metadata": {},
   "outputs": [],
   "source": [
    "## insert the escalation dir\n",
    "sys.path.insert(0, os.path.join(top_dir,\"src\",\"preprocess\",\"escalation\"))"
   ]
  },
  {
   "cell_type": "code",
   "execution_count": 86,
   "metadata": {},
   "outputs": [
    {
     "name": "stdout",
     "output_type": "stream",
     "text": [
      "The autoreload extension is already loaded. To reload it, use:\n",
      "  %reload_ext autoreload\n"
     ]
    }
   ],
   "source": [
    "%load_ext autoreload\n",
    "%autoreload 2"
   ]
  },
  {
   "cell_type": "code",
   "execution_count": 87,
   "metadata": {},
   "outputs": [],
   "source": [
    "import util\n",
    "import driver\n",
    "import preprocessing"
   ]
  },
  {
   "cell_type": "code",
   "execution_count": 11,
   "metadata": {},
   "outputs": [],
   "source": [
    "## input data :juul_data \n",
    "juul_data = pd.read_csv(os.path.join(input_dir,\"juul_data.csv\"),lineterminator=\"\\n\")\n",
    "juul_data[\"tweetCreatedAt\"] = pd.to_datetime(juul_data[\"tweetCreatedAt\"])\n",
    "juul_data = juul_data.loc[juul_data.userID.isin(regular_users)]\n",
    "\n",
    "# ## look at the weed first and juul_first tweet\n",
    "first_data = pd.read_csv(os.path.join(input_dir,\"user_first.csv\"),lineterminator=\"\\n\")\n",
    "first_data = first_data.loc[first_data.userID.isin(regular_users)]  # reg users\n",
    "first_data[\"weed_first\"] = pd.to_datetime(first_data[\"weed_first\"])\n",
    "first_data[\"juul_first\"] = pd.to_datetime(first_data[\"juul_first\"])\n",
    "\n",
    "embedding_file = os.path.join(embeddings_dir,\"glove.twitter.27B.100d.txt\")"
   ]
  },
  {
   "cell_type": "code",
   "execution_count": 12,
   "metadata": {},
   "outputs": [
    {
     "data": {
      "text/plain": [
       "1353987"
      ]
     },
     "execution_count": 12,
     "metadata": {},
     "output_type": "execute_result"
    }
   ],
   "source": [
    "## removing the rewteet text column completely\n",
    "ids_ = juul_data.loc[juul_data['retweetText'].notnull()][\"tweetId\"]\n",
    "juul_data.loc[juul_data.tweetId.isin(ids_),\"tweetText\"] = juul_data.loc[juul_data.tweetId.isin(ids_)][\"retweetText\"]\n",
    "juul_data = juul_data.drop([\"hashtags\",\"retweetText\"],axis=1)\n",
    "len(juul_data) ## 1353987 (sanity check)"
   ]
  },
  {
   "cell_type": "code",
   "execution_count": 13,
   "metadata": {},
   "outputs": [
    {
     "data": {
      "text/plain": [
       "673724"
      ]
     },
     "execution_count": 13,
     "metadata": {},
     "output_type": "execute_result"
    }
   ],
   "source": [
    "len(juul_data) ## 1353987\n",
    "len(juul_data.userID.unique()) ## 673724  reg users"
   ]
  },
  {
   "cell_type": "code",
   "execution_count": 23,
   "metadata": {},
   "outputs": [
    {
     "name": "stdout",
     "output_type": "stream",
     "text": [
      "year 2015\n",
      "users that will change 97\n",
      "total users 1049\n",
      "length of data 2944\n",
      "year 2016\n",
      "users that will change 313\n",
      "total users 1636\n",
      "length of data 6475\n",
      "year 2017\n",
      "users that will change 9525\n",
      "total users 40236\n",
      "length of data 111735\n"
     ]
    }
   ],
   "source": [
    "## gathering data in different range of intervals\n",
    "bucket_data = []\n",
    "bucket_data.append(preprocessing.get_year_data(2015,first_data, juul_data))\n",
    "bucket_data.append(preprocessing.get_year_data(2016,first_data, juul_data))\n",
    "bucket_data.append(preprocessing.get_year_data(2017,first_data, juul_data))"
   ]
  },
  {
   "cell_type": "code",
   "execution_count": null,
   "metadata": {
    "scrolled": true
   },
   "outputs": [
    {
     "name": "stderr",
     "output_type": "stream",
     "text": [
      "\n",
      "  0%|          | 0/1049 [00:00<?, ?it/s]\u001b[A\n",
      "100%|██████████| 1049/1049 [00:00<00:00, 62728.29it/s]\u001b[A\n",
      "  0%|          | 0/1049 [00:00<?, ?it/s]\u001b[A\n",
      " 27%|██▋       | 279/1049 [00:00<00:00, 2787.46it/s]\u001b[A"
     ]
    },
    {
     "name": "stdout",
     "output_type": "stream",
     "text": [
      "************\n",
      "preparing the data\n"
     ]
    },
    {
     "name": "stderr",
     "output_type": "stream",
     "text": [
      "\n",
      " 54%|█████▍    | 565/1049 [00:00<00:00, 2808.18it/s]\u001b[A\n",
      " 77%|███████▋  | 807/1049 [00:00<00:00, 2659.93it/s]\u001b[A\n",
      "100%|██████████| 1049/1049 [00:00<00:00, 2630.18it/s]\u001b[A\n",
      "  0%|          | 0/155 [00:00<?, ?it/s]\u001b[A\n",
      "100%|██████████| 155/155 [00:00<00:00, 84982.63it/s]\u001b[A"
     ]
    },
    {
     "name": "stdout",
     "output_type": "stream",
     "text": [
      "downsampling\n",
      "downsampled data length 194\n",
      "train-test split\n",
      "runnning classfier to get user features\n",
      "max_length 60\n",
      "preparing the tokenizer\n",
      "vocalb 2073\n",
      "creating glove embeddign matrix\n"
     ]
    }
   ],
   "source": [
    "## running by year\n",
    "dimension = 100\n",
    "lstm_scores = []\n",
    "for year,data,users_labelled in bucket_data:\n",
    "    print(\"************\")\n",
    "    print(\"preparing the data\")\n",
    "    train_data,test_data,Y_train,Y_test = preprocessing.prepare_data(data,users_labelled)\n",
    "    train_data = train_data.reset_index(drop=True)\n",
    "    print(\"runnning classfier to get user features\")\n",
    "    \n",
    "    lstm_score,y_pred,lstm_model,keras_tkzr,max_len = driver.run_lstm(train_data,test_data,Y_train,Y_test,\n",
    "                                                      dimension,1)\n",
    "    lstm_scores.append(lstm_score)"
   ]
  },
  {
   "cell_type": "code",
   "execution_count": 41,
   "metadata": {},
   "outputs": [],
   "source": [
    "year,input_data,users_labelled= bucket_data[0]"
   ]
  },
  {
   "cell_type": "code",
   "execution_count": 290,
   "metadata": {},
   "outputs": [
    {
     "data": {
      "image/png": "[encoded data removed]",
      "text/plain": [
       "<Figure size 1080x504 with 1 Axes>"
      ]
     },
     "metadata": {
      "needs_background": "light"
     },
     "output_type": "display_data"
    }
   ],
   "source": [
    "y_pred_maj = [0 for x in range(len(Y_test))]\n",
    "maj_score = precision_recall_fscore_support(Y_test,y_pred_maj,average=None)[2][0]\n",
    "\n",
    "lstm = [ele[0] for ele in lstm_scores]\n",
    "\n",
    "## plotting user features\n",
    "plt.figure(figsize=(15,7))\n",
    "years = [\"2014-15\",\"2015-16\",\"2016-17\"]\n",
    "plt.plot(years,3*[maj_score],label=\"majority classifier\")\n",
    "plt.plot(years,lstm,label=\"lstm\")\n",
    "plt.title(\"Performance of classifiers for predicting mono users using User Features\")\n",
    "plt.ylabel(\"F1 score\")\n",
    "plt.legend()\n",
    "plt.show()"
   ]
  },
  {
   "cell_type": "code",
   "execution_count": 291,
   "metadata": {},
   "outputs": [
    {
     "data": {
      "image/png": "[encoded data removed]",
      "text/plain": [
       "<Figure size 1080x504 with 1 Axes>"
      ]
     },
     "metadata": {
      "needs_background": "light"
     },
     "output_type": "display_data"
    }
   ],
   "source": [
    "y_pred_maj = [1 for x in range(len(Y_test))]\n",
    "maj_score = precision_recall_fscore_support(Y_test,y_pred_maj,average=None)[2][1]\n",
    "\n",
    "lstm = [ele[1] for ele in lstm_scores]\n",
    "\n",
    "## plotting user features\n",
    "plt.figure(figsize=(15,7))\n",
    "years = [\"2014-15\",\"2015-16\",\"2016-17\"]\n",
    "plt.plot(years,3*[maj_score],label=\"majority classifier\")\n",
    "plt.plot(years,lstm,label=\"lstm\")\n",
    "plt.title(\"Performance of classifiers for predicting mono users using User Features\")\n",
    "plt.ylabel(\"F1 score\")\n",
    "plt.legend()\n",
    "plt.show()"
   ]
  },
  {
   "cell_type": "code",
   "execution_count": null,
   "metadata": {},
   "outputs": [],
   "source": []
  }
 ],
 "metadata": {
  "kernelspec": {
   "display_name": "Python 3",
   "language": "python",
   "name": "python3"
  },
  "language_info": {
   "codemirror_mode": {
    "name": "ipython",
    "version": 3
   },
   "file_extension": ".py",
   "mimetype": "text/x-python",
   "name": "python",
   "nbconvert_exporter": "python",
   "pygments_lexer": "ipython3",
   "version": "3.6.8"
  }
 },
 "nbformat": 4,
 "nbformat_minor": 2
}
