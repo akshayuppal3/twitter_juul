{
 "cells": [
  {
   "cell_type": "code",
   "execution_count": 1,
   "metadata": {},
   "outputs": [],
   "source": [
    "import pandas as pd\n",
    "import numpy as np\n",
    "import git\n",
    "import os \n",
    "import matplotlib.pyplot as plt\n",
    "pd.set_option('display.max_colwidth', -1)"
   ]
  },
  {
   "cell_type": "code",
   "execution_count": 5,
   "metadata": {},
   "outputs": [],
   "source": [
    "def get_git_root(path):\n",
    "\tgit_repo = git.Repo(path, search_parent_directories=True)\n",
    "\tgit_root = git_repo.git.rev_parse(\"--show-toplevel\")\n",
    "\treturn git_root"
   ]
  },
  {
   "cell_type": "code",
   "execution_count": 6,
   "metadata": {},
   "outputs": [],
   "source": [
    "top_dir = get_git_root(os.getcwd())\n",
    "input_dir = os.path.join(top_dir,\"input\")\n",
    "extraction_new_dir = os.path.join(input_dir,\"hexagon_extract_new\")\n",
    "extraction_rem_dir = os.path.join(input_dir,\"hexagon_extract\")\n",
    "model_dir = os.path.join(get_git_root(os.getcwd()),\"models\")"
   ]
  },
  {
   "cell_type": "code",
   "execution_count": 4,
   "metadata": {},
   "outputs": [
    {
     "name": "stdout",
     "output_type": "stream",
     "text": [
      "hexagon_extract_2018.csv 1698\n",
      "hexagon_extract_2016.csv 324\n",
      "hexagon_extract_2014.csv 74\n",
      "hexagon_extract_2017.csv 475\n",
      "hexagon_extract_2015.csv 122\n"
     ]
    }
   ],
   "source": [
    "df_extract_rem = pd.DataFrame()\n",
    "files = [file for file in os.listdir(extraction_rem_dir) if file.endswith(\".csv\")]\n",
    "for file in files:\n",
    "    file_path = os.path.join(extraction_rem_dir,file)\n",
    "    df_ = pd.read_csv(file_path,lineterminator= \"\\n\")\n",
    "    frames = [df_,df_extract_rem]\n",
    "    print(file,len(df_))\n",
    "    df_extract_rem = pd.concat(frames)"
   ]
  },
  {
   "cell_type": "code",
   "execution_count": 6,
   "metadata": {},
   "outputs": [
    {
     "name": "stderr",
     "output_type": "stream",
     "text": [
      "/home/drew_william2345/anaconda3/envs/multimodal-env/lib/python3.6/site-packages/IPython/core/interactiveshell.py:3049: DtypeWarning: Columns (2) have mixed types. Specify dtype option on import or set low_memory=False.\n",
      "  interactivity=interactivity, compiler=compiler, result=result)\n"
     ]
    }
   ],
   "source": [
    "## getting teh previous data of the 4857 users\n",
    "df_tweets = pd.read_csv(os.path.join(model_dir,\"poly_users\",\"labelled_data.csv\"),lineterminator=\"\\n\",index_col=0)\n"
   ]
  },
  {
   "cell_type": "code",
   "execution_count": 20,
   "metadata": {},
   "outputs": [
    {
     "data": {
      "text/plain": [
       "663"
      ]
     },
     "execution_count": 20,
     "metadata": {},
     "output_type": "execute_result"
    }
   ],
   "source": [
    "users_663 = (df_extract_rem.userID.unique())\n",
    "len(users_663)"
   ]
  },
  {
   "cell_type": "code",
   "execution_count": 21,
   "metadata": {},
   "outputs": [
    {
     "data": {
      "text/plain": [
       "4857"
      ]
     },
     "execution_count": 21,
     "metadata": {},
     "output_type": "execute_result"
    }
   ],
   "source": [
    "users_4857 = (df_tweets.userID.unique())\n",
    "len(users_4857)"
   ]
  },
  {
   "cell_type": "code",
   "execution_count": 12,
   "metadata": {},
   "outputs": [
    {
     "name": "stdout",
     "output_type": "stream",
     "text": [
      "tweets extract rem: 2693\n",
      "tweets consolidated before: 120470\n"
     ]
    }
   ],
   "source": [
    "print(\"tweets extract rem:\",len(df_extract_rem))\n",
    "# print(\"tweets extract full:\",len(df_extract_full))\n",
    "print(\"tweets consolidated before:\",len(df_tweets))"
   ]
  },
  {
   "cell_type": "code",
   "execution_count": 13,
   "metadata": {},
   "outputs": [
    {
     "data": {
      "text/plain": [
       "5520"
      ]
     },
     "execution_count": 13,
     "metadata": {},
     "output_type": "execute_result"
    }
   ],
   "source": [
    "users_final = set(list(users_663) + list(users_4857))\n",
    "len(users_final)"
   ]
  },
  {
   "cell_type": "code",
   "execution_count": 14,
   "metadata": {},
   "outputs": [
    {
     "name": "stderr",
     "output_type": "stream",
     "text": [
      "/home/drew_william2345/anaconda3/envs/multimodal-env/lib/python3.6/site-packages/ipykernel_launcher.py:2: FutureWarning: Sorting because non-concatenation axis is not aligned. A future version\n",
      "of pandas will change to not sort by default.\n",
      "\n",
      "To accept the future behavior, pass 'sort=False'.\n",
      "\n",
      "To retain the current behavior and silence the warning, pass 'sort=True'.\n",
      "\n",
      "  \n"
     ]
    }
   ],
   "source": [
    "frames = [df_extract_rem,df_tweets]\n",
    "df_final = pd.concat(frames)"
   ]
  },
  {
   "cell_type": "code",
   "execution_count": 22,
   "metadata": {},
   "outputs": [
    {
     "data": {
      "text/plain": [
       "5520"
      ]
     },
     "execution_count": 22,
     "metadata": {},
     "output_type": "execute_result"
    }
   ],
   "source": [
    "## combining the new data to raise to 5520 users\n",
    "len(df_final.userID.unique())"
   ]
  },
  {
   "cell_type": "code",
   "execution_count": 16,
   "metadata": {},
   "outputs": [],
   "source": [
    "df_final.to_csv(os.path.join(input_dir,\"extraction\",\"consolidated_data.csv\"),index=False )"
   ]
  },
  {
   "cell_type": "code",
   "execution_count": 17,
   "metadata": {},
   "outputs": [
    {
     "name": "stderr",
     "output_type": "stream",
     "text": [
      "/home/drew_william2345/anaconda3/envs/multimodal-env/lib/python3.6/site-packages/IPython/core/interactiveshell.py:3049: DtypeWarning: Columns (2) have mixed types. Specify dtype option on import or set low_memory=False.\n",
      "  interactivity=interactivity, compiler=compiler, result=result)\n"
     ]
    }
   ],
   "source": [
    "## read the data\n",
    "df_final = pd.read_csv(os.path.join(input_dir,\"extraction\",\"consolidated_data.csv\"),lineterminator=\"\\n\")"
   ]
  },
  {
   "cell_type": "code",
   "execution_count": 18,
   "metadata": {},
   "outputs": [
    {
     "name": "stdout",
     "output_type": "stream",
     "text": [
      "no of tweets 123163\n",
      "no of users 5520\n"
     ]
    }
   ],
   "source": [
    "print(\"no of tweets\",len(df_final))\n",
    "print(\"no of users\",len(df_final.userID.unique()))"
   ]
  },
  {
   "cell_type": "code",
   "execution_count": 12,
   "metadata": {},
   "outputs": [
    {
     "data": {
      "text/plain": [
       "1140"
      ]
     },
     "execution_count": 12,
     "metadata": {},
     "output_type": "execute_result"
    }
   ],
   "source": [
    "## random sample of 500 tweets\n",
    "df_annotate = (df_final.sample(frac=0.01,random_state=5))    ## random sample of 0.5% of tweets\n",
    "len(df_annotate)"
   ]
  },
  {
   "cell_type": "code",
   "execution_count": 13,
   "metadata": {},
   "outputs": [],
   "source": [
    "df_annotate =df_annotate[[\"userID\",\"retweetText\",\"tweetText\",]]"
   ]
  },
  {
   "cell_type": "code",
   "execution_count": 14,
   "metadata": {},
   "outputs": [],
   "source": [
    "annotate = []\n",
    "for index,row in df_annotate.iterrows():\n",
    "    if(row[\"retweetText\"]) is not np.nan:\n",
    "        df_ = row[\"retweetText\"]\n",
    "    else:\n",
    "        df_ = row[\"tweetText\"]\n",
    "    annotate.append(df_)"
   ]
  },
  {
   "cell_type": "code",
   "execution_count": 15,
   "metadata": {},
   "outputs": [],
   "source": [
    "annotate = pd.DataFrame(annotate,columns=[\"tweetText\"])"
   ]
  },
  {
   "cell_type": "code",
   "execution_count": 16,
   "metadata": {},
   "outputs": [
    {
     "data": {
      "text/html": [
       "<div>\n",
       "<style scoped>\n",
       "    .dataframe tbody tr th:only-of-type {\n",
       "        vertical-align: middle;\n",
       "    }\n",
       "\n",
       "    .dataframe tbody tr th {\n",
       "        vertical-align: top;\n",
       "    }\n",
       "\n",
       "    .dataframe thead th {\n",
       "        text-align: right;\n",
       "    }\n",
       "</style>\n",
       "<table border=\"1\" class=\"dataframe\">\n",
       "  <thead>\n",
       "    <tr style=\"text-align: right;\">\n",
       "      <th></th>\n",
       "      <th>tweetText</th>\n",
       "    </tr>\n",
       "  </thead>\n",
       "  <tbody>\n",
       "    <tr>\n",
       "      <th>0</th>\n",
       "      <td>It's a small subset of #marijuana users who develop problems but with such widespread use, a \"small subset\" is millions of people in U.S.</td>\n",
       "    </tr>\n",
       "    <tr>\n",
       "      <th>1</th>\n",
       "      <td>Poll: 67% of #Florida Voters in Favor of Medical #Marijuana #Amendment2  via author #LegalizeIt #Pot #Cannabis</td>\n",
       "    </tr>\n",
       "    <tr>\n",
       "      <th>2</th>\n",
       "      <td>RT CannabisBizNews \"Medical marijuana: Coming to a dispensary near you | News | https://t.co/KZfCbTT51n https://t.co/daygUkbTWl #cannabis #training mjbiztraining\"</td>\n",
       "    </tr>\n",
       "    <tr>\n",
       "      <th>3</th>\n",
       "      <td>Tag someone you know 👊🏽 Link in bio 👨🏽‍💻 “Nothing last forever💯🔥” #latino #producer #rap #dope #realshit #heat #music #newshit https://t.co/vUK0FLiwaw</td>\n",
       "    </tr>\n",
       "    <tr>\n",
       "      <th>4</th>\n",
       "      <td>Here’s what’s next now that the #FDA has #approved a #cannabis #drug for #seizures  via author #MULTIPLESCLEROSIS #Yes! #News #CBD #pain #Health #Healthcare #Medicine</td>\n",
       "    </tr>\n",
       "    <tr>\n",
       "      <th>5</th>\n",
       "      <td>78 countries have implemented strong graphic #tobacco pack warnings—covering almost 1/2 the 🌏  population https://t.co/8qcEAm8KyP #NoTobacco</td>\n",
       "    </tr>\n",
       "    <tr>\n",
       "      <th>6</th>\n",
       "      <td>Reposting author: Thanks for the great post of our #minivac in action author! . . . . #tightpac #storage #herbs #weed #toronto #legalize #canada #minivac #cannabis #cannabisculture #cannabissociety #weedporn #weedstagram420 #stonernation #potheadsociety</td>\n",
       "    </tr>\n",
       "    <tr>\n",
       "      <th>7</th>\n",
       "      <td>The day Smiths Falls' luck finally turned: The story of a #cannabis boom town, by @JamesBagnall1 https://t.co/4uHuSBaXX9 via @OttawaCitizen</td>\n",
       "    </tr>\n",
       "    <tr>\n",
       "      <th>8</th>\n",
       "      <td>Right And Wrong Way To Smoke Hemp Flowers https://t.co/EkKTbFzH3k דרך @CBDTesters  #smoke #smoking #smokingroom #vape #vaping #hempflowers #cbdflowers</td>\n",
       "    </tr>\n",
       "    <tr>\n",
       "      <th>9</th>\n",
       "      <td>These are adults for whom the on-ramp “must be reduced” @FDATobacco @SGottliebFDA   Their service deserves better. #vaping can help eradicate combustible #tobacco among the military.   https://t.co/2TKpxEzlH9</td>\n",
       "    </tr>\n",
       "    <tr>\n",
       "      <th>10</th>\n",
       "      <td>Nintendo Characters Padded Pipe Pouch by https://t.co/GRpeEhB0n3 - https://t.co/jexG3YLgEI #Mario #NES #gaming #gamer #videogames #spoonpipes #glasspipes #handpipes #dabcase #weedcase #stonergirls #weedlovers #trichomes #ganja #stonerstuff #nerd #protectyourglass #stayhigh #thc</td>\n",
       "    </tr>\n",
       "    <tr>\n",
       "      <th>11</th>\n",
       "      <td>Regarding recent inquiries involving #JUUL, please read our official statement:  https://t.co/z8P5KRLsYO https://t.co/FBTg3Kwegk</td>\n",
       "    </tr>\n",
       "    <tr>\n",
       "      <th>12</th>\n",
       "      <td>Warning: #tobacco tax parasites are orchestrating media hit pieces to resurrect debunked junk in an effort to slander the #harmless #vaping alternative to #smoking. Here's the antidote👇 https://t.co/97YCCudBFy</td>\n",
       "    </tr>\n",
       "    <tr>\n",
       "      <th>13</th>\n",
       "      <td>#Vaping #Tobacco #eJuice Flavors – A Great Way to Start!   https://t.co/uZ1d4mO7Mb https://t.co/rGvgxa0pZz</td>\n",
       "    </tr>\n",
       "    <tr>\n",
       "      <th>14</th>\n",
       "      <td>Streaming #Fortnite on Twitch: 🍼DrilldoBaggins2🍼 ⬇️ ➡️ RIP Revolver 💀💀 ⬇️ #BattleRoyale #Xbox #XB1 #Console #JUUL #Ninja #WailingWoods #Shotguns #Traps #Eminem #LSUvsMIA #Miami #Canes #Doodoo @RetweetOfTwitch @TwitchSIE @twitchcrowd @GamerzArena  https://t.co/PnKzrYwQez</td>\n",
       "    </tr>\n",
       "    <tr>\n",
       "      <th>15</th>\n",
       "      <td>author available at the Norfolk Location in Cocoa Bean &amp;amp; Pineapple! 😍👌🔥👽🛸👽🛸 #a51 #smokeshop #headshop #norfolk #norfolkva #va #757smokeshop #757headshop #primal #hemp #wraps #notobacco</td>\n",
       "    </tr>\n",
       "    <tr>\n",
       "      <th>16</th>\n",
       "      <td>#Juul of the Valley — #GadgetLab  #TechNews #Vaping</td>\n",
       "    </tr>\n",
       "    <tr>\n",
       "      <th>17</th>\n",
       "      <td>Dispute arises over partially covered warnings on cigarettes #tobacco #warning #cigarettes #buzz https://t.co/kjHR3FwPKy</td>\n",
       "    </tr>\n",
       "    <tr>\n",
       "      <th>18</th>\n",
       "      <td>This @NIDAnews infographic says it all: regular teen #marijuana use can not only lower IQ, it can lower grades. http://t.co/JY7yt3Ui36</td>\n",
       "    </tr>\n",
       "    <tr>\n",
       "      <th>19</th>\n",
       "      <td>3 x 120 ML ELIQUID FROM £19.98  #memes #triggered #rekt #lifequotes #dank #weed #home #unitedstates #uk #england #greatbritain #europe #refugees #conservative #fitness #fit #China</td>\n",
       "    </tr>\n",
       "    <tr>\n",
       "      <th>20</th>\n",
       "      <td>New on our blog: Wrapping Death &amp;amp; Disease in Red, White &amp;amp; Blue   #tobacco</td>\n",
       "    </tr>\n",
       "    <tr>\n",
       "      <th>21</th>\n",
       "      <td>Excuse the language I use I’m sorry #juul #juulnation #juulvapor #juulmemes#juultricks #juulpods #juulgang #juulcentral #juuling #comedy #comedyvideo #comedians #funnyshit #humor…</td>\n",
       "    </tr>\n",
       "    <tr>\n",
       "      <th>22</th>\n",
       "      <td>I guess regular cigarettes are not a problem! Let's continue to sell them on every corner of this country YAY!!! #invest #in #tobacco #stock https://t.co/SL42iSpmqW</td>\n",
       "    </tr>\n",
       "    <tr>\n",
       "      <th>23</th>\n",
       "      <td>26 (7-31): #Brain changes responsible for the #appetite effects of #cannabis identified in animal studies</td>\n",
       "    </tr>\n",
       "    <tr>\n",
       "      <th>24</th>\n",
       "      <td>Fresh List Top 20 Consumer #staples #stocks By #dividend #yield #tobacco https://t.co/tC4XyL0XDw #bacon #beans #beer #investing #markets #trading #dividends https://t.co/cPeJUzFN0G</td>\n",
       "    </tr>\n",
       "    <tr>\n",
       "      <th>25</th>\n",
       "      <td>An efficient way of delivering #CBD oil or #hemp oil to the body is to use a #vaping device. While there is plenty of choices out there today, take your time ordering any oil if you want to use it for vaping: https://t.co/WKQqaPSIEQ https://t.co/RnarlpIM8Q</td>\n",
       "    </tr>\n",
       "    <tr>\n",
       "      <th>26</th>\n",
       "      <td>I am a partially blind stoner that makes weed videos on YouTube. Check out my latest video here https://t.co/68P9bBvarI #cannabisculture  #cannabus #stoner #stoned #heady #thx #xbs #weed  #420 #710</td>\n",
       "    </tr>\n",
       "    <tr>\n",
       "      <th>27</th>\n",
       "      <td>Researchers of &amp;gt;250,000 Twitter and Reddit posts on #Juul #ecigs #vaping from October 2017 to February 2018 showed forums were found on Reddit where #teens discussed #Juul and how to access it.</td>\n",
       "    </tr>\n",
       "    <tr>\n",
       "      <th>28</th>\n",
       "      <td>Lift #Cannabis Business Conference: Investing and Thriving in the Growing #Canadian #Market -</td>\n",
       "    </tr>\n",
       "    <tr>\n",
       "      <th>29</th>\n",
       "      <td>Reasoned Research - ... -  #VAPING #bcpoli #cdnpoli #tobacco #vape #vaping</td>\n",
       "    </tr>\n",
       "    <tr>\n",
       "      <th>...</th>\n",
       "      <td>...</td>\n",
       "    </tr>\n",
       "    <tr>\n",
       "      <th>1110</th>\n",
       "      <td>The Smokers lifeline #stoned #weed #blaze #joint #smoke #biff #cannabis #pot #420 #marijuana… https://t.co/2keLaWu43R</td>\n",
       "    </tr>\n",
       "    <tr>\n",
       "      <th>1111</th>\n",
       "      <td>author any chance of an answer here? Preferably before I and many others die.#ecigs or #tobacco - which toxins are in ecigs?</td>\n",
       "    </tr>\n",
       "    <tr>\n",
       "      <th>1112</th>\n",
       "      <td>Study finds medical #cannabis is effective at reducing opioid addiction (USA)  participants more likely to reduce or cease use of prescription #opioids for #painmanagement via author</td>\n",
       "    </tr>\n",
       "    <tr>\n",
       "      <th>1113</th>\n",
       "      <td>#cannabis: gateway drug  author</td>\n",
       "    </tr>\n",
       "    <tr>\n",
       "      <th>1114</th>\n",
       "      <td>A #Cannabis Friendly Creative Agency Branding | Website Design | Ecommerce #branding #webdesign #ecommerce #marketing Beefentertainment@mail.com</td>\n",
       "    </tr>\n",
       "    <tr>\n",
       "      <th>1115</th>\n",
       "      <td>#Vaping #Tobacco #eJuice Flavors – A Great Way to Start!   https://t.co/uZ1d4mO7Mb https://t.co/mCvN4d6GvV</td>\n",
       "    </tr>\n",
       "    <tr>\n",
       "      <th>1116</th>\n",
       "      <td>Reverse psychology at its best. 👌 https://t.co/y08HHXquLB #stonersbelike #cannabis #weed #marijuana #trippy #smokingweed #stoners #stoned</td>\n",
       "    </tr>\n",
       "    <tr>\n",
       "      <th>1117</th>\n",
       "      <td>It's now time for a Q &amp;amp; A session with Dr Webber on #tobacco tax in Ukraine https://t.co/9I9c8AIOd7 JOIN THE DEBATE</td>\n",
       "    </tr>\n",
       "    <tr>\n",
       "      <th>1118</th>\n",
       "      <td>I wonder...  #weedporn #smokeweedeveryday #smokeweed #ganja #cannabis #cannabislife #marijuana #marihuana #weedmemes #joint  #smokeweed #high #blazed #pot https://t.co/lJlccLCqbK</td>\n",
       "    </tr>\n",
       "    <tr>\n",
       "      <th>1119</th>\n",
       "      <td>.author says .author Shows Sustained Commitment to Fighting #Tobacco w/ New Anti-Smoking Ads #CDCTips</td>\n",
       "    </tr>\n",
       "    <tr>\n",
       "      <th>1120</th>\n",
       "      <td>Team tatted... 😤🤘🏻 Yup!!! 🤬🤬🤬🤬 Hurt like a bitch but it was so worth it.  🤑🤑🤑🤑 #juul #tattoo #CaptionThis https://t.co/88RXkzY6Oe</td>\n",
       "    </tr>\n",
       "    <tr>\n",
       "      <th>1121</th>\n",
       "      <td>Come check out our new dutch flavors! #dutch #2for1 #mint #java #berry #honey #rum #smoke #brickell #slowburning</td>\n",
       "    </tr>\n",
       "    <tr>\n",
       "      <th>1122</th>\n",
       "      <td>Several Canadian provincial governments are preparing to open commercial cannabis dispensaries, but the only problem is: No one has ever sold drugs before!  #cdnpoli #cannabis</td>\n",
       "    </tr>\n",
       "    <tr>\n",
       "      <th>1123</th>\n",
       "      <td>State moves forward on #marijuana licenses  #MedicalMarijuana #Florida</td>\n",
       "    </tr>\n",
       "    <tr>\n",
       "      <th>1124</th>\n",
       "      <td>author author Chemicals &amp;amp; #pesticides in cigarettes qualify as #pollution; in China there are FOREST FIRES of #tobacco smoke! #smokingkills #TobaccoKills</td>\n",
       "    </tr>\n",
       "    <tr>\n",
       "      <th>1125</th>\n",
       "      <td>Happy trips guys #trippy #Trippyart #ACID #weed #fun #colourful #beautifulworld #stoned https://t.co/SB5CnOqBxT</td>\n",
       "    </tr>\n",
       "    <tr>\n",
       "      <th>1126</th>\n",
       "      <td>toxic &amp;amp; cancer-causing #smh MT author #FACT of the day: 69 of the toxic chemicals in #secondhand tobacco #smoke cause cancer.</td>\n",
       "    </tr>\n",
       "    <tr>\n",
       "      <th>1127</th>\n",
       "      <td>DAILY WEED FEED : )  #stoned #marijuana #weed #nugrun #cannabis #weedporn #kush #sativa #indica #budtender</td>\n",
       "    </tr>\n",
       "    <tr>\n",
       "      <th>1128</th>\n",
       "      <td>\"(#Cannabis) Prohibition has been great for all of us\"  says @BruceLintonCGC  @canexjamaica. We wouldn't be \"in the business of it wasn't for prohibition\".</td>\n",
       "    </tr>\n",
       "    <tr>\n",
       "      <th>1129</th>\n",
       "      <td>Get $0.75 OFF when you buy 2 cans of select #Copenhagen #smokeless #tobacco at participating #SmokerFriendly stores! #smokinrewards #rewards #loyalty #SmokerFriendlyInt #special #offers  This offer can be combined with other offers and mobile coupons for additional savings.</td>\n",
       "    </tr>\n",
       "    <tr>\n",
       "      <th>1130</th>\n",
       "      <td>.@fakehater The #tobacco Protection Act of 2009 (aka FSPTCA) prevents @FDATobacco from banning any product made from actual tobacco</td>\n",
       "    </tr>\n",
       "    <tr>\n",
       "      <th>1131</th>\n",
       "      <td>We share #FDA's alarm at the huge number of youth abandoning approved #tobacco products -like #cigarettes- for unregulated #ecigs 👍🚬💰 https://t.co/ugT8fvuWlj</td>\n",
       "    </tr>\n",
       "    <tr>\n",
       "      <th>1132</th>\n",
       "      <td>#Ecigs  There is a mountain of evidence showing less harm.  They are a smoke-free, healthier alternative to smoking. They are safer &amp;amp; can help you switch from combustible cigarettes.  Use contributes to the collapse of #PublicHealth, #Tobacco CONtrol &amp;amp; government's fiscal health. https://t.co/7czyoRm18v</td>\n",
       "    </tr>\n",
       "    <tr>\n",
       "      <th>1133</th>\n",
       "      <td>@TobaccoPrev \"There is nothing trendy about #COPD\"  Agreed. I got COPD from #smoking. Now I #vape instead, to avoid exacerbating it. 👍 My chest is also more clear, since the PG helped loosen the built up gunk of #cigarette #smoke that had accumulated over 29 years.  https://t.co/IhyQDe846y</td>\n",
       "    </tr>\n",
       "    <tr>\n",
       "      <th>1134</th>\n",
       "      <td>#cannabis Watch The Cheesy Movie Trailer Trump Made For Kim Jong Un To Inspire Peace https://t.co/DIe8MJ8rKa https://t.co/KCDdovm7aK</td>\n",
       "    </tr>\n",
       "    <tr>\n",
       "      <th>1135</th>\n",
       "      <td>.....and I hope #divest from #tobacco #NCDs https://t.co/QN57PWcSYw</td>\n",
       "    </tr>\n",
       "    <tr>\n",
       "      <th>1136</th>\n",
       "      <td>Cheers‼️🔥🔥 #weed #marijuana #cannabis #stonerfam #stonercircle #worldreefers 💨💨</td>\n",
       "    </tr>\n",
       "    <tr>\n",
       "      <th>1137</th>\n",
       "      <td>#WorstCaseScenarioIn4Words  Milk is not beef.  Syrup is not wood.  Government is not honest.  #Nicotine is not #tobacco. https://t.co/rdCBfrLPRP</td>\n",
       "    </tr>\n",
       "    <tr>\n",
       "      <th>1138</th>\n",
       "      <td>#JIMIN couldn't help himself and smacked #JUNGKOOK'S BUTT AHAHA #SICK #DOPE #쩔어 (Vine by @JiminsGotJams) https://t.co/LWlzYTTneR</td>\n",
       "    </tr>\n",
       "    <tr>\n",
       "      <th>1139</th>\n",
       "      <td>@CANNiLIVE @cheaphomegrow @cannaworldsite @_jena4n @Hippie_of_Love @D420Allen @afterdarkmusic @AtlasPlantTrain @UncleTweezy @LARRYIRBY6 #MENEITHER when infused with plants / vegetables #CANNABIS becomes a #SUPERPOWER for the body. #EXTRAVIRGINCOCNUTOIL 🥥</td>\n",
       "    </tr>\n",
       "  </tbody>\n",
       "</table>\n",
       "<p>1140 rows × 1 columns</p>\n",
       "</div>"
      ],
      "text/plain": [
       "                                                                                                                                                                                                                                                                                                                     tweetText\n",
       "0     It's a small subset of #marijuana users who develop problems but with such widespread use, a \"small subset\" is millions of people in U.S.                                                                                                                                                                               \n",
       "1     Poll: 67% of #Florida Voters in Favor of Medical #Marijuana #Amendment2  via author #LegalizeIt #Pot #Cannabis                                                                                                                                                                                                          \n",
       "2     RT CannabisBizNews \"Medical marijuana: Coming to a dispensary near you | News | https://t.co/KZfCbTT51n https://t.co/daygUkbTWl #cannabis #training mjbiztraining\"                                                                                                                                                      \n",
       "3     Tag someone you know 👊🏽 Link in bio 👨🏽‍💻 “Nothing last forever💯🔥” #latino #producer #rap #dope #realshit #heat #music #newshit https://t.co/vUK0FLiwaw                                                                                                                                                                  \n",
       "4     Here’s what’s next now that the #FDA has #approved a #cannabis #drug for #seizures  via author #MULTIPLESCLEROSIS #Yes! #News #CBD #pain #Health #Healthcare #Medicine                                                                                                                                                  \n",
       "5     78 countries have implemented strong graphic #tobacco pack warnings—covering almost 1/2 the 🌏  population https://t.co/8qcEAm8KyP #NoTobacco                                                                                                                                                                            \n",
       "6     Reposting author: Thanks for the great post of our #minivac in action author! . . . . #tightpac #storage #herbs #weed #toronto #legalize #canada #minivac #cannabis #cannabisculture #cannabissociety #weedporn #weedstagram420 #stonernation #potheadsociety                                                           \n",
       "7     The day Smiths Falls' luck finally turned: The story of a #cannabis boom town, by @JamesBagnall1 https://t.co/4uHuSBaXX9 via @OttawaCitizen                                                                                                                                                                             \n",
       "8     Right And Wrong Way To Smoke Hemp Flowers https://t.co/EkKTbFzH3k דרך @CBDTesters  #smoke #smoking #smokingroom #vape #vaping #hempflowers #cbdflowers                                                                                                                                                                  \n",
       "9     These are adults for whom the on-ramp “must be reduced” @FDATobacco @SGottliebFDA   Their service deserves better. #vaping can help eradicate combustible #tobacco among the military.   https://t.co/2TKpxEzlH9                                                                                                        \n",
       "10    Nintendo Characters Padded Pipe Pouch by https://t.co/GRpeEhB0n3 - https://t.co/jexG3YLgEI #Mario #NES #gaming #gamer #videogames #spoonpipes #glasspipes #handpipes #dabcase #weedcase #stonergirls #weedlovers #trichomes #ganja #stonerstuff #nerd #protectyourglass #stayhigh #thc                                  \n",
       "11    Regarding recent inquiries involving #JUUL, please read our official statement:  https://t.co/z8P5KRLsYO https://t.co/FBTg3Kwegk                                                                                                                                                                                        \n",
       "12    Warning: #tobacco tax parasites are orchestrating media hit pieces to resurrect debunked junk in an effort to slander the #harmless #vaping alternative to #smoking. Here's the antidote👇 https://t.co/97YCCudBFy                                                                                                       \n",
       "13    #Vaping #Tobacco #eJuice Flavors – A Great Way to Start!   https://t.co/uZ1d4mO7Mb https://t.co/rGvgxa0pZz                                                                                                                                                                                                              \n",
       "14    Streaming #Fortnite on Twitch: 🍼DrilldoBaggins2🍼 ⬇️ ➡️ RIP Revolver 💀💀 ⬇️ #BattleRoyale #Xbox #XB1 #Console #JUUL #Ninja #WailingWoods #Shotguns #Traps #Eminem #LSUvsMIA #Miami #Canes #Doodoo @RetweetOfTwitch @TwitchSIE @twitchcrowd @GamerzArena  https://t.co/PnKzrYwQez                                          \n",
       "15    author available at the Norfolk Location in Cocoa Bean &amp; Pineapple! 😍👌🔥👽🛸👽🛸 #a51 #smokeshop #headshop #norfolk #norfolkva #va #757smokeshop #757headshop #primal #hemp #wraps #notobacco                                                                                                                            \n",
       "16    #Juul of the Valley — #GadgetLab  #TechNews #Vaping                                                                                                                                                                                                                                                                     \n",
       "17    Dispute arises over partially covered warnings on cigarettes #tobacco #warning #cigarettes #buzz https://t.co/kjHR3FwPKy                                                                                                                                                                                                \n",
       "18    This @NIDAnews infographic says it all: regular teen #marijuana use can not only lower IQ, it can lower grades. http://t.co/JY7yt3Ui36                                                                                                                                                                                  \n",
       "19    3 x 120 ML ELIQUID FROM £19.98  #memes #triggered #rekt #lifequotes #dank #weed #home #unitedstates #uk #england #greatbritain #europe #refugees #conservative #fitness #fit #China                                                                                                                                     \n",
       "20    New on our blog: Wrapping Death &amp; Disease in Red, White &amp; Blue   #tobacco                                                                                                                                                                                                                                       \n",
       "21    Excuse the language I use I’m sorry #juul #juulnation #juulvapor #juulmemes#juultricks #juulpods #juulgang #juulcentral #juuling #comedy #comedyvideo #comedians #funnyshit #humor…                                                                                                                                     \n",
       "22    I guess regular cigarettes are not a problem! Let's continue to sell them on every corner of this country YAY!!! #invest #in #tobacco #stock https://t.co/SL42iSpmqW                                                                                                                                                    \n",
       "23    26 (7-31): #Brain changes responsible for the #appetite effects of #cannabis identified in animal studies                                                                                                                                                                                                               \n",
       "24    Fresh List Top 20 Consumer #staples #stocks By #dividend #yield #tobacco https://t.co/tC4XyL0XDw #bacon #beans #beer #investing #markets #trading #dividends https://t.co/cPeJUzFN0G                                                                                                                                    \n",
       "25    An efficient way of delivering #CBD oil or #hemp oil to the body is to use a #vaping device. While there is plenty of choices out there today, take your time ordering any oil if you want to use it for vaping: https://t.co/WKQqaPSIEQ https://t.co/RnarlpIM8Q                                                        \n",
       "26    I am a partially blind stoner that makes weed videos on YouTube. Check out my latest video here https://t.co/68P9bBvarI #cannabisculture  #cannabus #stoner #stoned #heady #thx #xbs #weed  #420 #710                                                                                                                   \n",
       "27    Researchers of &gt;250,000 Twitter and Reddit posts on #Juul #ecigs #vaping from October 2017 to February 2018 showed forums were found on Reddit where #teens discussed #Juul and how to access it.                                                                                                                    \n",
       "28    Lift #Cannabis Business Conference: Investing and Thriving in the Growing #Canadian #Market -                                                                                                                                                                                                                           \n",
       "29    Reasoned Research - ... -  #VAPING #bcpoli #cdnpoli #tobacco #vape #vaping                                                                                                                                                                                                                                              \n",
       "...                                                                           ...                                                                                                                                                                                                                                             \n",
       "1110  The Smokers lifeline #stoned #weed #blaze #joint #smoke #biff #cannabis #pot #420 #marijuana… https://t.co/2keLaWu43R                                                                                                                                                                                                   \n",
       "1111  author any chance of an answer here? Preferably before I and many others die.#ecigs or #tobacco - which toxins are in ecigs?                                                                                                                                                                                            \n",
       "1112  Study finds medical #cannabis is effective at reducing opioid addiction (USA)  participants more likely to reduce or cease use of prescription #opioids for #painmanagement via author                                                                                                                                  \n",
       "1113  #cannabis: gateway drug  author                                                                                                                                                                                                                                                                                         \n",
       "1114  A #Cannabis Friendly Creative Agency Branding | Website Design | Ecommerce #branding #webdesign #ecommerce #marketing Beefentertainment@mail.com                                                                                                                                                                        \n",
       "1115  #Vaping #Tobacco #eJuice Flavors – A Great Way to Start!   https://t.co/uZ1d4mO7Mb https://t.co/mCvN4d6GvV                                                                                                                                                                                                              \n",
       "1116  Reverse psychology at its best. 👌 https://t.co/y08HHXquLB #stonersbelike #cannabis #weed #marijuana #trippy #smokingweed #stoners #stoned                                                                                                                                                                               \n",
       "1117  It's now time for a Q &amp; A session with Dr Webber on #tobacco tax in Ukraine https://t.co/9I9c8AIOd7 JOIN THE DEBATE                                                                                                                                                                                                 \n",
       "1118  I wonder...  #weedporn #smokeweedeveryday #smokeweed #ganja #cannabis #cannabislife #marijuana #marihuana #weedmemes #joint  #smokeweed #high #blazed #pot https://t.co/lJlccLCqbK                                                                                                                                      \n",
       "1119  .author says .author Shows Sustained Commitment to Fighting #Tobacco w/ New Anti-Smoking Ads #CDCTips                                                                                                                                                                                                                   \n",
       "1120  Team tatted... 😤🤘🏻 Yup!!! 🤬🤬🤬🤬 Hurt like a bitch but it was so worth it.  🤑🤑🤑🤑 #juul #tattoo #CaptionThis https://t.co/88RXkzY6Oe                                                                                                                                                                                       \n",
       "1121  Come check out our new dutch flavors! #dutch #2for1 #mint #java #berry #honey #rum #smoke #brickell #slowburning                                                                                                                                                                                                        \n",
       "1122  Several Canadian provincial governments are preparing to open commercial cannabis dispensaries, but the only problem is: No one has ever sold drugs before!  #cdnpoli #cannabis                                                                                                                                         \n",
       "1123  State moves forward on #marijuana licenses  #MedicalMarijuana #Florida                                                                                                                                                                                                                                                  \n",
       "1124  author author Chemicals &amp; #pesticides in cigarettes qualify as #pollution; in China there are FOREST FIRES of #tobacco smoke! #smokingkills #TobaccoKills                                                                                                                                                           \n",
       "1125  Happy trips guys #trippy #Trippyart #ACID #weed #fun #colourful #beautifulworld #stoned https://t.co/SB5CnOqBxT                                                                                                                                                                                                         \n",
       "1126  toxic &amp; cancer-causing #smh MT author #FACT of the day: 69 of the toxic chemicals in #secondhand tobacco #smoke cause cancer.                                                                                                                                                                                       \n",
       "1127  DAILY WEED FEED : )  #stoned #marijuana #weed #nugrun #cannabis #weedporn #kush #sativa #indica #budtender                                                                                                                                                                                                              \n",
       "1128  \"(#Cannabis) Prohibition has been great for all of us\"  says @BruceLintonCGC  @canexjamaica. We wouldn't be \"in the business of it wasn't for prohibition\".                                                                                                                                                             \n",
       "1129  Get $0.75 OFF when you buy 2 cans of select #Copenhagen #smokeless #tobacco at participating #SmokerFriendly stores! #smokinrewards #rewards #loyalty #SmokerFriendlyInt #special #offers  This offer can be combined with other offers and mobile coupons for additional savings.                                      \n",
       "1130  .@fakehater The #tobacco Protection Act of 2009 (aka FSPTCA) prevents @FDATobacco from banning any product made from actual tobacco                                                                                                                                                                                     \n",
       "1131  We share #FDA's alarm at the huge number of youth abandoning approved #tobacco products -like #cigarettes- for unregulated #ecigs 👍🚬💰 https://t.co/ugT8fvuWlj                                                                                                                                                           \n",
       "1132  #Ecigs  There is a mountain of evidence showing less harm.  They are a smoke-free, healthier alternative to smoking. They are safer &amp; can help you switch from combustible cigarettes.  Use contributes to the collapse of #PublicHealth, #Tobacco CONtrol &amp; government's fiscal health. https://t.co/7czyoRm18v\n",
       "1133  @TobaccoPrev \"There is nothing trendy about #COPD\"  Agreed. I got COPD from #smoking. Now I #vape instead, to avoid exacerbating it. 👍 My chest is also more clear, since the PG helped loosen the built up gunk of #cigarette #smoke that had accumulated over 29 years.  https://t.co/IhyQDe846y                      \n",
       "1134  #cannabis Watch The Cheesy Movie Trailer Trump Made For Kim Jong Un To Inspire Peace https://t.co/DIe8MJ8rKa https://t.co/KCDdovm7aK                                                                                                                                                                                    \n",
       "1135  .....and I hope #divest from #tobacco #NCDs https://t.co/QN57PWcSYw                                                                                                                                                                                                                                                     \n",
       "1136  Cheers‼️🔥🔥 #weed #marijuana #cannabis #stonerfam #stonercircle #worldreefers 💨💨                                                                                                                                                                                                                                         \n",
       "1137  #WorstCaseScenarioIn4Words  Milk is not beef.  Syrup is not wood.  Government is not honest.  #Nicotine is not #tobacco. https://t.co/rdCBfrLPRP                                                                                                                                                                        \n",
       "1138  #JIMIN couldn't help himself and smacked #JUNGKOOK'S BUTT AHAHA #SICK #DOPE #쩔어 (Vine by @JiminsGotJams) https://t.co/LWlzYTTneR                                                                                                                                                                                        \n",
       "1139  @CANNiLIVE @cheaphomegrow @cannaworldsite @_jena4n @Hippie_of_Love @D420Allen @afterdarkmusic @AtlasPlantTrain @UncleTweezy @LARRYIRBY6 #MENEITHER when infused with plants / vegetables #CANNABIS becomes a #SUPERPOWER for the body. #EXTRAVIRGINCOCNUTOIL 🥥                                                          \n",
       "\n",
       "[1140 rows x 1 columns]"
      ]
     },
     "execution_count": 16,
     "metadata": {},
     "output_type": "execute_result"
    }
   ],
   "source": [
    "annotate"
   ]
  },
  {
   "cell_type": "code",
   "execution_count": 17,
   "metadata": {},
   "outputs": [],
   "source": [
    "annotate.to_excel(os.path.join(input_dir,\"annotated_data\",\"to_annotate.xlsx\"),index=False)"
   ]
  },
  {
   "cell_type": "markdown",
   "metadata": {},
   "source": [
    "### Testing area"
   ]
  },
  {
   "cell_type": "code",
   "execution_count": 32,
   "metadata": {
    "scrolled": true
   },
   "outputs": [
    {
     "name": "stdout",
     "output_type": "stream",
     "text": [
      "hexagon_extract_2018.csv 80\n",
      "hexagon_extract_2016.csv 3915\n",
      "hexagon_extract_2014.csv 1361\n",
      "hexagon_extract_2018_32544.csv 10000\n",
      "hexagon_extract_2017.csv 5319\n",
      "hexagon_extract_2015.csv 2896\n"
     ]
    },
    {
     "name": "stderr",
     "output_type": "stream",
     "text": [
      "/home/drew_william2345/anaconda3/envs/multimodal-env/lib/python3.6/site-packages/ipykernel_launcher.py:8: FutureWarning: Sorting because non-concatenation axis is not aligned. A future version\n",
      "of pandas will change to not sort by default.\n",
      "\n",
      "To accept the future behavior, pass 'sort=False'.\n",
      "\n",
      "To retain the current behavior and silence the warning, pass 'sort=True'.\n",
      "\n",
      "  \n"
     ]
    }
   ],
   "source": [
    "df_extract_full = pd.DataFrame()\n",
    "files = [file for file in os.listdir(extraction_new_dir) if file.endswith(\".csv\")]\n",
    "for file in files:\n",
    "    file_path = os.path.join(extraction_new_dir,file)\n",
    "    df_ = pd.read_csv(file_path,lineterminator= \"\\n\")\n",
    "    frames = [df_,df_extract_full]\n",
    "    print(file,len(df_))\n",
    "    df_extract_full = pd.concat(frames)"
   ]
  },
  {
   "cell_type": "code",
   "execution_count": 20,
   "metadata": {},
   "outputs": [
    {
     "data": {
      "text/plain": [
       "3233"
      ]
     },
     "execution_count": 20,
     "metadata": {},
     "output_type": "execute_result"
    }
   ],
   "source": [
    "## not using as it would overlap ...\n",
    "users2 = (df_extract_full.userID.unique())\n",
    "len(users2)"
   ]
  },
  {
   "cell_type": "code",
   "execution_count": 7,
   "metadata": {},
   "outputs": [],
   "source": [
    "from authentication import Authenticate\n",
    "from collections import deque\n",
    "import pandas as pd\n",
    "ob = Authenticate()\n",
    "apis = deque(ob.api)\n",
    "apis.rotate(-1)\n",
    "api = apis[0]"
   ]
  },
  {
   "cell_type": "code",
   "execution_count": 8,
   "metadata": {},
   "outputs": [],
   "source": [
    "df_hexagon = pd.read_csv(os.path.join(input_dir,\"hexagonData.csv\"),lineterminator=\"\\n\")\n",
    "users = list(df_hexagon.userID.unique())"
   ]
  },
  {
   "cell_type": "code",
   "execution_count": 9,
   "metadata": {},
   "outputs": [
    {
     "name": "stdout",
     "output_type": "stream",
     "text": [
      "extracting the pattern for weeds\n",
      "extracting the pattern for juul\n"
     ]
    }
   ],
   "source": [
    "import pickle\n",
    "## getting the weed and juul pattern\n",
    "print(\"extracting the pattern for weeds\")\n",
    "weed_words = pickle.load(open(os.path.join(model_dir, \"weed_words.pkl\"), \"rb\"))\n",
    "weed_words.remove('CBD oil')\n",
    "# weed_words = [(\" \" + word + \" \") for word in weed_words]\n",
    "pattern_weed = \"|\".join(weed_words)\n",
    "print(\"extracting the pattern for juul\")\n",
    "pattern_juul = 'juul'"
   ]
  },
  {
   "cell_type": "code",
   "execution_count": 10,
   "metadata": {},
   "outputs": [],
   "source": [
    "import math\n",
    "batch_size = 100\n",
    "batch_len = math.ceil(len(users)/batch_size)\n",
    "user_profiles = []\n",
    "for idx in range(batch_len):\n",
    "    users_batch = users[idx*batch_size:((idx+1)*batch_size)]\n",
    "    apis.rotate(-1)\n",
    "    api = apis[0]\n",
    "    user_ob = api.lookup_users(user_ids=users_batch)\n",
    "    for user in user_ob:\n",
    "        user_profiles.append([user.id,user.screen_name])"
   ]
  },
  {
   "cell_type": "code",
   "execution_count": 11,
   "metadata": {},
   "outputs": [],
   "source": [
    "df_user_names = pd.DataFrame(user_profiles,columns=[\"userID\",\"screen_name\"])"
   ]
  },
  {
   "cell_type": "code",
   "execution_count": null,
   "metadata": {},
   "outputs": [],
   "source": [
    "## eg\n",
    "for author in list(df_user_names.screen_name[:4300]):\n",
    "    print('author:\"%s\" OR'%author, end=\" \")"
   ]
  },
  {
   "cell_type": "code",
   "execution_count": 13,
   "metadata": {},
   "outputs": [
    {
     "name": "stdout",
     "output_type": "stream",
     "text": [
      "OR \"weed\" OR \"ganja\" OR \"marijuana\" OR \"grass\" OR \"cannabis\" OR \"pot\" OR \"smoke\" OR \"mary jane\" OR \"hemp\" OR \"marihuana\" OR \"hash\" OR \"reefer\" OR \"hashish\" OR \"herb\" OR \"bhang\" OR \"green goddess\" OR \"locoweed\" OR \"maryjane\" OR \"bud\" OR \"spliff\" OR \"wacky baccy\" OR \"joint\" OR \"sinsemilla\" OR \"doobie\" OR \"acapulco gold\" OR \"CBD\" OR \"THC\" "
     ]
    }
   ],
   "source": [
    "## eg\n",
    "for ele in weed_words:\n",
    "    print('OR \"%s\"'% ele,end = \" \")"
   ]
  },
  {
   "cell_type": "code",
   "execution_count": 12,
   "metadata": {},
   "outputs": [
    {
     "data": {
      "text/plain": [
       "7130"
      ]
     },
     "execution_count": 12,
     "metadata": {},
     "output_type": "execute_result"
    }
   ],
   "source": [
    "len(df_user_names)"
   ]
  },
  {
   "cell_type": "code",
   "execution_count": 16,
   "metadata": {},
   "outputs": [],
   "source": [
    "df_user_handle = (df_user_names[[\"screen_name\"]])"
   ]
  },
  {
   "cell_type": "code",
   "execution_count": 17,
   "metadata": {},
   "outputs": [
    {
     "data": {
      "text/plain": [
       "'/home/drew_william2345/twitter_juul/input'"
      ]
     },
     "execution_count": 17,
     "metadata": {},
     "output_type": "execute_result"
    }
   ],
   "source": [
    "input_dir"
   ]
  },
  {
   "cell_type": "code",
   "execution_count": 24,
   "metadata": {},
   "outputs": [],
   "source": [
    "filename = os.path.join(input_dir,\"user_handles.csv\")\n",
    "df_user_handle.to_csv(filename)"
   ]
  },
  {
   "cell_type": "code",
   "execution_count": 20,
   "metadata": {},
   "outputs": [
    {
     "data": {
      "text/plain": [
       "7371"
      ]
     },
     "execution_count": 20,
     "metadata": {},
     "output_type": "execute_result"
    }
   ],
   "source": [
    "len(df_hexagon.userID.unique())"
   ]
  },
  {
   "cell_type": "code",
   "execution_count": 22,
   "metadata": {},
   "outputs": [
    {
     "name": "stderr",
     "output_type": "stream",
     "text": [
      "/home/drew_william2345/anaconda3/envs/multimodal-env/lib/python3.6/site-packages/ipykernel_launcher.py:1: SettingWithCopyWarning: \n",
      "A value is trying to be set on a copy of a slice from a DataFrame.\n",
      "Try using .loc[row_indexer,col_indexer] = value instead\n",
      "\n",
      "See the caveats in the documentation: http://pandas.pydata.org/pandas-docs/stable/indexing.html#indexing-view-versus-copy\n",
      "  \"\"\"Entry point for launching an IPython kernel.\n"
     ]
    }
   ],
   "source": [
    "df_user_handle['screen_name'] = '@' + df_user_handle['screen_name'].astype(str)"
   ]
  },
  {
   "cell_type": "code",
   "execution_count": 25,
   "metadata": {},
   "outputs": [
    {
     "data": {
      "text/plain": [
       "7130"
      ]
     },
     "execution_count": 25,
     "metadata": {},
     "output_type": "execute_result"
    }
   ],
   "source": [
    "len(df_user_handle.screen_name.unique())"
   ]
  },
  {
   "cell_type": "code",
   "execution_count": null,
   "metadata": {},
   "outputs": [],
   "source": []
  }
 ],
 "metadata": {
  "kernelspec": {
   "display_name": "Python 3",
   "language": "python",
   "name": "python3"
  },
  "language_info": {
   "codemirror_mode": {
    "name": "ipython",
    "version": 3
   },
   "file_extension": ".py",
   "mimetype": "text/x-python",
   "name": "python",
   "nbconvert_exporter": "python",
   "pygments_lexer": "ipython3",
   "version": "3.6.6"
  }
 },
 "nbformat": 4,
 "nbformat_minor": 2
}
