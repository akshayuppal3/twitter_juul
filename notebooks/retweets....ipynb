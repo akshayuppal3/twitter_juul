{
 "cells": [
  {
   "cell_type": "code",
   "execution_count": 1,
   "metadata": {
    "collapsed": true
   },
   "outputs": [],
   "source": [
    "# check for retweets..\n",
    "# visulalize heat map of those that only follow each other..\n",
    "# user-user graph of who follow each other"
   ]
  },
  {
   "cell_type": "code",
   "execution_count": 97,
   "metadata": {
    "collapsed": true
   },
   "outputs": [],
   "source": [
    "import pandas as pd\n",
    "import numpy as np\n",
    "import nltk\n",
    "import re\n",
    "from datetime import date, datetime\n",
    "import time\n",
    "import matplotlib.pyplot as plt\n",
    "import urllib.request\n",
    "from tqdm import tqdm\n",
    "import pickle\n",
    "import random\n",
    "import ast\n",
    "import networkx as nx\n",
    "import ast\n",
    "import os\n",
    "from tweepy import OAuthHandler\n",
    "import tweepy"
   ]
  },
  {
   "cell_type": "code",
   "execution_count": 144,
   "metadata": {
    "collapsed": false
   },
   "outputs": [],
   "source": [
    "# following data for user...\n",
    "df_300 = pd.read_csv(\"~/Following300_1220.csv\",index_col=0)\n",
    "df_keys = pd.read_csv(\"~/keys.csv\",encoding = \"utf-8\")\n",
    "df_user = pd.read_csv(\"/home/akshayuppal3/hexagonData.csv\",lineterminator=\"\\n\")"
   ]
  },
  {
   "cell_type": "code",
   "execution_count": 170,
   "metadata": {
    "collapsed": false
   },
   "outputs": [],
   "source": [
    "users = list(df_user.userID.unique())"
   ]
  },
  {
   "cell_type": "code",
   "execution_count": 172,
   "metadata": {
    "collapsed": false
   },
   "outputs": [
    {
     "data": {
      "text/plain": [
       "7372"
      ]
     },
     "execution_count": 172,
     "metadata": {},
     "output_type": "execute_result"
    }
   ],
   "source": [
    "len(users)"
   ]
  },
  {
   "cell_type": "code",
   "execution_count": 10,
   "metadata": {
    "collapsed": false
   },
   "outputs": [],
   "source": [
    "foll = ast.literal_eval(df_300.loc[778352663612174336]['following'])"
   ]
  },
  {
   "cell_type": "code",
   "execution_count": 13,
   "metadata": {
    "collapsed": false
   },
   "outputs": [
    {
     "name": "stdout",
     "output_type": "stream",
     "text": [
      "509\n",
      "886\n",
      "339\n",
      "518\n",
      "745\n",
      "407\n",
      "50\n",
      "1402\n",
      "190\n",
      "400\n",
      "2252\n",
      "997\n",
      "2465\n",
      "574\n",
      "874\n",
      "1366\n",
      "352\n",
      "749\n",
      "12\n",
      "65\n",
      "38\n",
      "5000\n",
      "106\n",
      "1694\n",
      "394\n",
      "900\n",
      "399\n",
      "1554\n",
      "2919\n",
      "1880\n",
      "484\n",
      "289\n",
      "241\n",
      "287\n",
      "445\n",
      "4620\n",
      "538\n",
      "2271\n",
      "5000\n",
      "192\n",
      "2091\n",
      "794\n",
      "172\n",
      "389\n",
      "546\n",
      "322\n",
      "50\n",
      "557\n",
      "622\n",
      "670\n",
      "296\n",
      "526\n",
      "2150\n",
      "1509\n",
      "5000\n",
      "66\n",
      "746\n",
      "2130\n",
      "196\n",
      "142\n",
      "1017\n",
      "410\n",
      "1371\n",
      "3048\n",
      "5000\n",
      "4735\n",
      "371\n",
      "840\n",
      "1406\n",
      "2553\n",
      "5000\n",
      "232\n",
      "1344\n",
      "4948\n",
      "480\n",
      "334\n",
      "481\n",
      "75\n",
      "44\n",
      "2103\n",
      "304\n",
      "0\n",
      "326\n",
      "464\n",
      "874\n",
      "180\n",
      "410\n",
      "42\n",
      "339\n",
      "922\n",
      "776\n",
      "24\n",
      "1341\n",
      "3118\n",
      "189\n",
      "137\n",
      "323\n",
      "5000\n",
      "200\n",
      "431\n",
      "237\n",
      "83\n",
      "609\n",
      "559\n",
      "960\n",
      "150\n",
      "5000\n",
      "4\n",
      "675\n",
      "2223\n",
      "1285\n",
      "2738\n",
      "144\n",
      "2088\n",
      "768\n",
      "600\n",
      "2165\n",
      "86\n",
      "2374\n",
      "510\n",
      "476\n",
      "5000\n",
      "2343\n",
      "2819\n",
      "209\n",
      "398\n",
      "485\n",
      "1698\n",
      "344\n",
      "1544\n",
      "4981\n",
      "2698\n",
      "2105\n",
      "1575\n",
      "72\n",
      "3183\n",
      "1316\n",
      "909\n",
      "4\n",
      "2248\n",
      "142\n",
      "2060\n",
      "164\n",
      "439\n",
      "3\n",
      "189\n",
      "1580\n",
      "995\n",
      "2893\n",
      "657\n",
      "155\n",
      "333\n",
      "412\n",
      "159\n",
      "45\n",
      "450\n",
      "402\n",
      "320\n",
      "7\n",
      "800\n",
      "4214\n",
      "318\n",
      "65\n",
      "75\n",
      "303\n",
      "179\n",
      "1152\n",
      "395\n",
      "524\n",
      "8\n",
      "102\n",
      "3447\n",
      "224\n",
      "468\n",
      "4919\n",
      "259\n",
      "250\n",
      "3950\n",
      "41\n",
      "295\n",
      "154\n",
      "741\n",
      "831\n",
      "272\n",
      "50\n",
      "15\n",
      "177\n",
      "302\n",
      "1148\n",
      "1383\n",
      "49\n",
      "0\n",
      "957\n",
      "5000\n",
      "450\n",
      "257\n",
      "2386\n",
      "4823\n",
      "527\n",
      "441\n",
      "128\n",
      "349\n",
      "1527\n",
      "791\n",
      "3400\n",
      "197\n",
      "700\n",
      "4603\n",
      "457\n",
      "747\n",
      "211\n",
      "4996\n",
      "278\n",
      "9\n",
      "298\n",
      "929\n",
      "704\n",
      "756\n",
      "540\n",
      "2310\n",
      "60\n",
      "382\n",
      "217\n",
      "248\n",
      "43\n",
      "289\n",
      "177\n",
      "1008\n",
      "458\n",
      "237\n",
      "324\n",
      "41\n",
      "13\n",
      "120\n",
      "5000\n",
      "252\n",
      "13\n",
      "108\n",
      "195\n",
      "412\n",
      "624\n",
      "251\n",
      "293\n",
      "300\n",
      "5000\n",
      "35\n",
      "465\n",
      "1937\n",
      "7\n",
      "1378\n",
      "110\n",
      "3361\n",
      "1834\n",
      "148\n",
      "1778\n",
      "344\n",
      "2402\n",
      "85\n",
      "4988\n",
      "138\n",
      "87\n",
      "1447\n",
      "800\n",
      "1378\n",
      "94\n",
      "494\n",
      "262\n",
      "543\n",
      "281\n",
      "3\n",
      "294\n",
      "187\n",
      "900\n",
      "280\n",
      "5000\n",
      "422\n",
      "521\n",
      "56\n",
      "4404\n",
      "2740\n",
      "880\n"
     ]
    }
   ],
   "source": [
    "for index,row in df_300.iterrows():\n",
    "    foll = ast.literal_eval(row['following'])\n",
    "    print(len(foll))"
   ]
  },
  {
   "cell_type": "code",
   "execution_count": 115,
   "metadata": {
    "collapsed": false
   },
   "outputs": [
    {
     "data": {
      "text/html": [
       "<div>\n",
       "<table border=\"1\" class=\"dataframe\">\n",
       "  <thead>\n",
       "    <tr style=\"text-align: right;\">\n",
       "      <th></th>\n",
       "      <th>consumer_key</th>\n",
       "      <th>consumer_secret</th>\n",
       "      <th>access_token</th>\n",
       "      <th>access_secret</th>\n",
       "    </tr>\n",
       "  </thead>\n",
       "  <tbody>\n",
       "    <tr>\n",
       "      <th>0</th>\n",
       "      <td>EiLaKLlGvXdakLsKf7yi86pVo</td>\n",
       "      <td>CWK0UzygY5sGD7lXEz9xOklaH7Fq6uaVyJ3ZZlEXXpYke1...</td>\n",
       "      <td>1069034330385715200-nq6kISbrjP3AcCBtvIbgepOxAe...</td>\n",
       "      <td>ahVZbT8Y8ydpRJGWzIkmSiIV0yiWsg5pB4ToMqOLhUjMk</td>\n",
       "    </tr>\n",
       "    <tr>\n",
       "      <th>1</th>\n",
       "      <td>D3FYC1mjWNDWgoHtyoCnEcLJS</td>\n",
       "      <td>usDBtyz12FxBhbauvL9BeHQ8SZ10DS0id2z1oR2oXcN9h7...</td>\n",
       "      <td>1080997779093245952-JXWQNvn4LCuuLiwc8S3EMZJV7o...</td>\n",
       "      <td>R0y0OouZoBZzwgNQ31TVJ3KaenmI8u1Tb3QuV6EEny4y2</td>\n",
       "    </tr>\n",
       "    <tr>\n",
       "      <th>2</th>\n",
       "      <td>QdZhej7MeKeUuQiQCS0r5clCv</td>\n",
       "      <td>gF9oH8bW2xsoFi3S6GLikjpKI5tTB47z5RNXkEsCHVAzMT...</td>\n",
       "      <td>1080997779093245952-IfCUS8uqO4lIHbqXY57xgnjYEi...</td>\n",
       "      <td>ovbhWLeyNgdsVu7xm0HwSRwllwmuqx6CLGLVG1quKQdzA</td>\n",
       "    </tr>\n",
       "    <tr>\n",
       "      <th>3</th>\n",
       "      <td>ltmvhNbs9vjlilzF7R4qCVwUL</td>\n",
       "      <td>5vkvaKnT5AEfDvTxmQhazyiMFjyzf4SY5R8CzOOWbIcQT8...</td>\n",
       "      <td>1080997779093245952-S3bftmc6vqUEi1MqpPJBUMBjZM...</td>\n",
       "      <td>ERN4XWHcOxxRcqUYsTEIHcEoOEOx1xV1S9cJGgPPQRnde</td>\n",
       "    </tr>\n",
       "  </tbody>\n",
       "</table>\n",
       "</div>"
      ],
      "text/plain": [
       "                consumer_key  \\\n",
       "0  EiLaKLlGvXdakLsKf7yi86pVo   \n",
       "1  D3FYC1mjWNDWgoHtyoCnEcLJS   \n",
       "2  QdZhej7MeKeUuQiQCS0r5clCv   \n",
       "3  ltmvhNbs9vjlilzF7R4qCVwUL   \n",
       "\n",
       "                                     consumer_secret  \\\n",
       "0  CWK0UzygY5sGD7lXEz9xOklaH7Fq6uaVyJ3ZZlEXXpYke1...   \n",
       "1  usDBtyz12FxBhbauvL9BeHQ8SZ10DS0id2z1oR2oXcN9h7...   \n",
       "2  gF9oH8bW2xsoFi3S6GLikjpKI5tTB47z5RNXkEsCHVAzMT...   \n",
       "3  5vkvaKnT5AEfDvTxmQhazyiMFjyzf4SY5R8CzOOWbIcQT8...   \n",
       "\n",
       "                                        access_token  \\\n",
       "0  1069034330385715200-nq6kISbrjP3AcCBtvIbgepOxAe...   \n",
       "1  1080997779093245952-JXWQNvn4LCuuLiwc8S3EMZJV7o...   \n",
       "2  1080997779093245952-IfCUS8uqO4lIHbqXY57xgnjYEi...   \n",
       "3  1080997779093245952-S3bftmc6vqUEi1MqpPJBUMBjZM...   \n",
       "\n",
       "                                   access_secret  \n",
       "0  ahVZbT8Y8ydpRJGWzIkmSiIV0yiWsg5pB4ToMqOLhUjMk  \n",
       "1  R0y0OouZoBZzwgNQ31TVJ3KaenmI8u1Tb3QuV6EEny4y2  \n",
       "2  ovbhWLeyNgdsVu7xm0HwSRwllwmuqx6CLGLVG1quKQdzA  \n",
       "3  ERN4XWHcOxxRcqUYsTEIHcEoOEOx1xV1S9cJGgPPQRnde  "
      ]
     },
     "execution_count": 115,
     "metadata": {},
     "output_type": "execute_result"
    }
   ],
   "source": [
    "df_keys"
   ]
  },
  {
   "cell_type": "code",
   "execution_count": 119,
   "metadata": {
    "collapsed": true
   },
   "outputs": [],
   "source": [
    "# @param: row_obj @return api\n",
    "def authorization(ob):\n",
    "    consumer_key = ob.consumer_key\n",
    "    consumer_secret = ob.consumer_secret\n",
    "    access_token = ob.access_token\n",
    "    access_secret = ob.access_secret\n",
    "    author = OAuthHandler(consumer_key, consumer_secret)\n",
    "    author.set_access_token(access_token, access_secret)\n",
    "    # change to accomodate rate limit errors\n",
    "    api = tweepy.API(author, wait_on_rate_limit=True, wait_on_rate_limit_notify=True, retry_count=5, retry_delay=5)\n",
    "    return (api)"
   ]
  },
  {
   "cell_type": "code",
   "execution_count": 30,
   "metadata": {
    "collapsed": false
   },
   "outputs": [
    {
     "data": {
      "text/plain": [
       "Index(['﻿consumer_key', 'consumer_secret', 'access_token', 'access_secret'], dtype='object')"
      ]
     },
     "execution_count": 30,
     "metadata": {},
     "output_type": "execute_result"
    }
   ],
   "source": [
    "api_list = list()\n",
    "df_keys = pd.read_csv(\"~/keys.csv\",index_col=None)\n",
    "df_keys.columns"
   ]
  },
  {
   "cell_type": "code",
   "execution_count": 135,
   "metadata": {
    "collapsed": false
   },
   "outputs": [],
   "source": [
    "api_list= list()\n",
    "for index,row in df_keys.iterrows():\n",
    "    api = authorization(row)\n",
    "    api_list.append(api)"
   ]
  },
  {
   "cell_type": "code",
   "execution_count": 200,
   "metadata": {
    "collapsed": false
   },
   "outputs": [],
   "source": [
    "apis = deque(api_list)"
   ]
  },
  {
   "cell_type": "code",
   "execution_count": 231,
   "metadata": {
    "collapsed": false
   },
   "outputs": [
    {
     "name": "stdout",
     "output_type": "stream",
     "text": [
      "375\n",
      "923\n",
      "479\n",
      "61\n",
      "34\n"
     ]
    }
   ],
   "source": [
    "for user in users[:5]:\n",
    "    apis.rotate(-1)\n",
    "    api  = apis[0]\n",
    "    friendList = api.friends_ids(user)\n",
    "    print(len(friendList))"
   ]
  },
  {
   "cell_type": "markdown",
   "metadata": {},
   "source": [
    "## testing"
   ]
  },
  {
   "cell_type": "code",
   "execution_count": 226,
   "metadata": {
    "collapsed": false
   },
   "outputs": [],
   "source": [
    "from collections import deque\n",
    "d = deque([56,33,1121,1,2])"
   ]
  },
  {
   "cell_type": "code",
   "execution_count": 229,
   "metadata": {
    "collapsed": false
   },
   "outputs": [],
   "source": [
    "a = d.rotate(-1)"
   ]
  },
  {
   "cell_type": "code",
   "execution_count": 228,
   "metadata": {
    "collapsed": false
   },
   "outputs": [
    {
     "data": {
      "text/plain": [
       "33"
      ]
     },
     "execution_count": 228,
     "metadata": {},
     "output_type": "execute_result"
    }
   ],
   "source": [
    "d[0]"
   ]
  },
  {
   "cell_type": "code",
   "execution_count": 346,
   "metadata": {
    "collapsed": false
   },
   "outputs": [],
   "source": [
    "df_users = df_user[10:12]"
   ]
  },
  {
   "cell_type": "code",
   "execution_count": 347,
   "metadata": {
    "collapsed": true
   },
   "outputs": [],
   "source": [
    "df_users.to_csv(\"delete_users.csv\")"
   ]
  },
  {
   "cell_type": "code",
   "execution_count": 351,
   "metadata": {
    "collapsed": false
   },
   "outputs": [],
   "source": [
    "temp = df_users.iloc[1:2]"
   ]
  },
  {
   "cell_type": "code",
   "execution_count": 337,
   "metadata": {
    "collapsed": false
   },
   "outputs": [
    {
     "data": {
      "text/html": [
       "<div>\n",
       "<table border=\"1\" class=\"dataframe\">\n",
       "  <thead>\n",
       "    <tr style=\"text-align: right;\">\n",
       "      <th></th>\n",
       "      <th>friendList</th>\n",
       "      <th>userID</th>\n",
       "    </tr>\n",
       "  </thead>\n",
       "  <tbody>\n",
       "    <tr>\n",
       "      <th>0</th>\n",
       "      <td>[12, 121, 22, 2, 2]</td>\n",
       "      <td>12</td>\n",
       "    </tr>\n",
       "  </tbody>\n",
       "</table>\n",
       "</div>"
      ],
      "text/plain": [
       "            friendList  userID\n",
       "0  [12, 121, 22, 2, 2]      12"
      ]
     },
     "execution_count": 337,
     "metadata": {},
     "output_type": "execute_result"
    }
   ],
   "source": [
    "temp = pd.DataFrame({'userID':12,'friendList':[[12,121,22,2,2]]})"
   ]
  },
  {
   "cell_type": "code",
   "execution_count": 354,
   "metadata": {
    "collapsed": false
   },
   "outputs": [],
   "source": [
    "with open('delete_users.csv', 'a') as f:\n",
    "    temp.to_csv(f, header=False,ignore_index=True)"
   ]
  },
  {
   "cell_type": "code",
   "execution_count": null,
   "metadata": {
    "collapsed": true
   },
   "outputs": [],
   "source": []
  }
 ],
 "metadata": {
  "anaconda-cloud": {},
  "kernelspec": {
   "display_name": "Python [default]",
   "language": "python",
   "name": "python3"
  },
  "language_info": {
   "codemirror_mode": {
    "name": "ipython",
    "version": 3
   },
   "file_extension": ".py",
   "mimetype": "text/x-python",
   "name": "python",
   "nbconvert_exporter": "python",
   "pygments_lexer": "ipython3",
   "version": "3.5.2"
  }
 },
 "nbformat": 4,
 "nbformat_minor": 1
}
