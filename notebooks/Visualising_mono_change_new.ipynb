{
 "cells": [
  {
   "cell_type": "code",
   "execution_count": 6,
   "metadata": {},
   "outputs": [],
   "source": [
    "import os\n",
    "import git\n",
    "import pandas as pd\n",
    "import numpy as np\n",
    "from sklearn.preprocessing import LabelEncoder\n",
    "from tqdm import tqdm_notebook as tqdm\n",
    "import ast\n",
    "import re\n",
    "import pickle\n",
    "import matplotlib.pyplot as plt\n",
    "import git\n",
    "import pickle"
   ]
  },
  {
   "cell_type": "code",
   "execution_count": 3,
   "metadata": {},
   "outputs": [],
   "source": [
    "# get the git repo\n",
    "def get_git_root(path):\n",
    "\tgit_repo = git.Repo(path, search_parent_directories=True)\n",
    "\tgit_root = git_repo.git.rev_parse(\"--show-toplevel\")\n",
    "\treturn git_root"
   ]
  },
  {
   "cell_type": "code",
   "execution_count": 18,
   "metadata": {},
   "outputs": [],
   "source": [
    "model_dir = os.path.join(get_git_root(os.getcwd()),\"models\")\n",
    "input_dir = os.path.join(get_git_root(os.getcwd()),\"input\")"
   ]
  },
  {
   "cell_type": "code",
   "execution_count": 19,
   "metadata": {},
   "outputs": [],
   "source": [
    "poly_before = pickle.load(open(os.path.join(model_dir,\"poly_users\",\"poly_before.pkl\"),\"rb\"))"
   ]
  },
  {
   "cell_type": "code",
   "execution_count": 20,
   "metadata": {},
   "outputs": [
    {
     "data": {
      "text/plain": [
       "238"
      ]
     },
     "execution_count": 20,
     "metadata": {},
     "output_type": "execute_result"
    }
   ],
   "source": [
    "len(poly_before)"
   ]
  },
  {
   "cell_type": "code",
   "execution_count": 26,
   "metadata": {},
   "outputs": [],
   "source": [
    "## getting their first juul tweets\n",
    "juul_first = pd.read_csv(os.path.join(input_dir,\"user_first_juul.csv\"),index_col=0)\n",
    "juul_first = juul_first.loc[juul_first.userID.isin(poly_before)]"
   ]
  },
  {
   "cell_type": "code",
   "execution_count": 37,
   "metadata": {},
   "outputs": [],
   "source": [
    "## getting their first weed tweet\n",
    "timeline = pd.read_csv(os.path.join(input_dir,\"labelled_data\",\"tweets_predicted.csv\"),index_col=0,lineterminator=\"\\n\")\n",
    "timeline = timeline.loc[timeline.userID.isin(poly_before)]"
   ]
  },
  {
   "cell_type": "code",
   "execution_count": 48,
   "metadata": {},
   "outputs": [],
   "source": [
    "## getting weed pattern\n",
    "weed_words = pickle.load(open(os.path.join(model_dir,\"weed_words.pkl\"),\"rb\"))"
   ]
  },
  {
   "cell_type": "code",
   "execution_count": 49,
   "metadata": {},
   "outputs": [],
   "source": [
    "weed_words = [(\" \" + word + \" \") for word in weed_words]\n",
    "weed_pattern = \"|\".join(weed_words)"
   ]
  },
  {
   "cell_type": "code",
   "execution_count": 52,
   "metadata": {},
   "outputs": [],
   "source": [
    "## weed_pattern\n",
    "weed_tweets = timeline.loc[timeline.tweetText.str.contains(weed_pattern)]"
   ]
  },
  {
   "cell_type": "code",
   "execution_count": 64,
   "metadata": {},
   "outputs": [],
   "source": [
    "first_weed = list()\n",
    "for user in poly_before:\n",
    "    user_tweets = weed_tweets.loc[weed_tweets.userID == user]\n",
    "    user_tweets = user_tweets.sort_values(by='tweetCreatedAt',ascending=True)\n",
    "    tweet_first = list(user_tweets[\"tweetCreatedAt\"].head(1))\n",
    "    if tweet_first:\n",
    "        first_weed.append(tweet_first[0])"
   ]
  },
  {
   "cell_type": "markdown",
   "metadata": {},
   "source": [
    "## Dump the weed Pattern in . model dir"
   ]
  },
  {
   "cell_type": "code",
   "execution_count": 70,
   "metadata": {},
   "outputs": [],
   "source": [
    "filename = os.path.join(model_dir,\"weed_pattern.pkl\")\n",
    "with open(filename,\"wb\") as f:\n",
    "    pickle.dump((filename),f)"
   ]
  },
  {
   "cell_type": "code",
   "execution_count": null,
   "metadata": {},
   "outputs": [],
   "source": []
  }
 ],
 "metadata": {
  "kernelspec": {
   "display_name": "Python 3",
   "language": "python",
   "name": "python3"
  },
  "language_info": {
   "codemirror_mode": {
    "name": "ipython",
    "version": 3
   },
   "file_extension": ".py",
   "mimetype": "text/x-python",
   "name": "python",
   "nbconvert_exporter": "python",
   "pygments_lexer": "ipython3",
   "version": "3.6.8"
  }
 },
 "nbformat": 4,
 "nbformat_minor": 2
}
