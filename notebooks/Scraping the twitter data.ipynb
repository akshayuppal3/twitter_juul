{
 "cells": [
  {
   "cell_type": "markdown",
   "metadata": {},
   "source": [
    "## Scraping the twitter dataset"
   ]
  },
  {
   "cell_type": "markdown",
   "metadata": {},
   "source": [
    "### testing"
   ]
  },
  {
   "cell_type": "markdown",
   "metadata": {},
   "source": [
    "#### Testing different api requests for twitter\n",
    "#api - user_timeline\n",
    "#api - home_timeline\n",
    "#api - friends"
   ]
  },
  {
   "cell_type": "code",
   "execution_count": null,
   "metadata": {
    "collapsed": true
   },
   "outputs": [],
   "source": [
    "def process_or_store(tweet):\n",
    "    print(json.dumps(tweet))"
   ]
  },
  {
   "cell_type": "code",
   "execution_count": null,
   "metadata": {
    "collapsed": false
   },
   "outputs": [],
   "source": [
    "for status in tweepy.Cursor(api.home_timeline).items(10):\n",
    "    # Process a single status\n",
    "    process_or_store(status._json)"
   ]
  },
  {
   "cell_type": "code",
   "execution_count": null,
   "metadata": {
    "collapsed": true
   },
   "outputs": [],
   "source": [
    "for status in tweepy.Cursor(api.home_timeline).items(10):\n",
    "    # Process a single status\n",
    "    print(status._json)"
   ]
  },
  {
   "cell_type": "code",
   "execution_count": null,
   "metadata": {
    "collapsed": false
   },
   "outputs": [],
   "source": [
    "## getting list of users I am following (api - friends)\n",
    "# GET/request endpoint of twitter\n",
    "for friend in tweepy.Cursor(api.friends).items():\n",
    "    print(friend._json['name'])"
   ]
  },
  {
   "cell_type": "code",
   "execution_count": null,
   "metadata": {
    "ExecuteTime": {
     "end_time": "2019-01-12T16:35:00.838859Z",
     "start_time": "2019-01-12T16:35:00.555150Z"
    },
    "collapsed": false,
    "scrolled": true
   },
   "outputs": [],
   "source": [
    "#printing tweets (api - home_timeline)\n",
    "public_tweets = api.home_timeline()\n",
    "for tweet in public_tweets:\n",
    "    print(tweet.created_at)"
   ]
  },
  {
   "cell_type": "code",
   "execution_count": null,
   "metadata": {
    "collapsed": true
   },
   "outputs": [],
   "source": [
    "## tweets in the user time line (api - user_timeline)\n",
    "for tweet in tweepy.Cursor(api.user_timeline).items():\n",
    "    process_or_store(tweet._json)"
   ]
  },
  {
   "cell_type": "code",
   "execution_count": null,
   "metadata": {
    "collapsed": true
   },
   "outputs": [],
   "source": [
    "#getting all the juulvapor tweets and creating a csv file\n",
    "def generic_info():\n",
    "    columns = ['id','created_at','text','tweet_hashtags','tweet_retweetCount','likes','user','user_friends',]\n",
    "    df = pd.concat([pd.DataFrame(\n",
    "       [(tweet.id,\n",
    "         tweet.created_at,\n",
    "         tweet.text,\n",
    "         [element['text'] for element in tweet.entities['hashtags']],\n",
    "         tweet.retweet_count,\n",
    "         tweet.favorite_count,\n",
    "         tweet.user.screen_name,\n",
    "         tweet.user.friends,\n",
    "        )]\n",
    "        ,columns=columns) \n",
    "            for tweet in tweepy.Cursor(api.search,q=('#juulvapor OR #juulnation OR #doit4juul OR #juul'),lang=\"en\",since_id=\"2018-01-01\").items()],\n",
    "                ignore_index=True)\n",
    "    return df"
   ]
  },
  {
   "cell_type": "code",
   "execution_count": null,
   "metadata": {
    "collapsed": true,
    "scrolled": true
   },
   "outputs": [],
   "source": [
    "#2 sep 2018\n",
    "# getting all the user info in the twitter\n",
    "#getting all the retweet counts\n",
    "# need to change the inception ID\n",
    "\n",
    "def userInfo():\n",
    "    columns = ['tweet_id','user_id','user.name','user_desc','user_followerCount','user_friendsCount',\n",
    "           'userCreatedAt','userFavriteCount','userProfileImageUrl','userFriendslist']\n",
    "    df_test = pd.concat(\n",
    "        [pd.DataFrame(\n",
    "        [(tweet.id,\n",
    "          tweet.user.id,\n",
    "          tweet.user.name,\n",
    "          tweet.user.description,\n",
    "          tweet.user.followers_count,\n",
    "          tweet.user.friends_count,\n",
    "          tweet.user.created_at,\n",
    "          tweet.user.favourites_count,\n",
    "          tweet.user.profile_image_url,\n",
    "          [friend for friend in tweepy.Cursor(api.friends_ids, id= tweet.user.id, lang=\"en\",since_id= \"2018-08-08\").items(6)]\n",
    "         )]\n",
    "         ,columns=columns) \n",
    "            for tweet in tweepy.Cursor(api.search,q=('#juulvapor OR #juulnation OR #doit4juul OR #juul'),lang=\"en\",since_id=\"2018-01-01\").items(1)],\n",
    "                ignore_index=True)\n",
    "    return(df_test)"
   ]
  },
  {
   "cell_type": "markdown",
   "metadata": {},
   "source": [
    "## Creating a different table for friends list and their description"
   ]
  },
  {
   "cell_type": "code",
   "execution_count": null,
   "metadata": {
    "collapsed": true
   },
   "outputs": [],
   "source": [
    "df = generic_info()"
   ]
  },
  {
   "cell_type": "code",
   "execution_count": null,
   "metadata": {
    "collapsed": true
   },
   "outputs": [],
   "source": [
    "dfUser = userInfo()"
   ]
  },
  {
   "cell_type": "code",
   "execution_count": null,
   "metadata": {
    "collapsed": true
   },
   "outputs": [],
   "source": [
    "result = pd.concat([df,dfUser],axis=1)"
   ]
  },
  {
   "cell_type": "markdown",
   "metadata": {},
   "source": [
    "#### API.get_user(id/user_id/screen_name): to get all the user info"
   ]
  },
  {
   "cell_type": "code",
   "execution_count": null,
   "metadata": {
    "collapsed": true
   },
   "outputs": [],
   "source": [
    "#@params passing tweet, friendlist and userinfo(in case of following)\n",
    "#returns data frame\n",
    "def getTweetinfo(tweetObj,friendList,user=None):\n",
    "    if user == None:\n",
    "        data = pd.DataFrame(\n",
    "          {\n",
    "             'tweetId':tweetObj.id_str,\n",
    "             'userID':tweetObj.user.id,\n",
    "             'parentID':'None',\n",
    "             'favourites_count':tweetObj.user.favourites_count,\n",
    "             'userName':tweetObj.user.name,\n",
    "             'userDescription':tweetObj.user.description,\n",
    "             'userCreatedAt':tweetObj.user.created_at,\n",
    "             'imageurl':tweetObj.user.profile_image_url,\n",
    "             'userFollowersCount':tweetObj.user.followers_count,\n",
    "             'friendsCount':tweetObj.user.friends_count,\n",
    "             'friendList':[friendList] \n",
    "          })\n",
    "    else:\n",
    "        data = pd.DataFrame(\n",
    "        {\n",
    "             'tweetId': \"None\",\n",
    "             'userID':user.id,\n",
    "             'parentID': tweetObj.user.id,\n",
    "             'favourites_count':\"None\",\n",
    "             'userName': user.name,\n",
    "             'userDescription':user.description,\n",
    "             'userCreatedAt':user.created_at,\n",
    "             'imageurl':user.profile_image_url,\n",
    "             'userFollowersCount':user.followers_count,\n",
    "             'friendsCount':user.friends_count,\n",
    "             'friendList': \"None\"\n",
    "        },index=[0])\n",
    "    return data"
   ]
  },
  {
   "cell_type": "code",
   "execution_count": null,
   "metadata": {
    "collapsed": true
   },
   "outputs": [],
   "source": [
    "# function to get twitter and user info and return df\n",
    "#@params api: api_handler, hashtags: query parameters, inceptionDate: start date for hashtags, lang: for language restriction \n",
    "def getTweetInfo(api,queryParams,inceptionDate,lang=\"en\"):\n",
    "    df = pd.DataFrame([])\n",
    "#     df.astype('object')       # as some data contains list\n",
    "    for tweet in tweepy.Cursor(api.search,q= (queryParams),since_id=inceptionDate,lang=lang).items(2): # (lang=en) : for language restriction # items value set only for test\n",
    "        friendList = [friend for friend in tweepy.Cursor(api.friends_ids, id= tweet.user.id).items(5)]  # items value set only for test\n",
    "        data = getTweetinfo(tweet,friendList=friendList)\n",
    "        df = df.append(data,ignore_index=True,sort=False)\n",
    "        for userID in friendList:\n",
    "            user = api.get_user(userID)\n",
    "            userData = getTweetinfo(tweet,friendList=friendList,user=user)\n",
    "            if user.id not in df.userID:  #prevent duplication in data\n",
    "                df = df.append(userData,ignore_index=True,sort=False)\n",
    "    return df"
   ]
  },
  {
   "cell_type": "code",
   "execution_count": null,
   "metadata": {
    "collapsed": true
   },
   "outputs": [],
   "source": [
    "hashtags = '#juulvapor OR #juulnation OR #doit4juul OR #juul'\n",
    "lang = \"en\"\n",
    "inceptionDate = \"2018-08-08\"\n",
    "\n",
    "df = getTweetInfo(api,hashtags,inceptionDate)"
   ]
  },
  {
   "cell_type": "code",
   "execution_count": null,
   "metadata": {
    "collapsed": true
   },
   "outputs": [],
   "source": [
    "writer = pd.ExcelWriter('juul.xlsx', engine='xlsxwriter')\n",
    "df.to_excel(writer, sheet_name='Sheet1')"
   ]
  }
 ],
 "metadata": {
  "anaconda-cloud": {},
  "hide_input": false,
  "kernelspec": {
   "display_name": "Python [default]",
   "language": "python",
   "name": "python3"
  },
  "language_info": {
   "codemirror_mode": {
    "name": "ipython",
    "version": 3
   },
   "file_extension": ".py",
   "mimetype": "text/x-python",
   "name": "python",
   "nbconvert_exporter": "python",
   "pygments_lexer": "ipython3",
   "version": "3.5.2"
  }
 },
 "nbformat": 4,
 "nbformat_minor": 2
}
