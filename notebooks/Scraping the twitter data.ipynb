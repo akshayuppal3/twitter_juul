{
 "cells": [
  {
   "cell_type": "markdown",
   "metadata": {},
   "source": [
    "## Scraping the twitter dataset"
   ]
  },
  {
   "cell_type": "code",
   "execution_count": 3,
   "metadata": {},
   "outputs": [],
   "source": [
    "## checking the validity of the connection , using tweepy for python wrapper for it"
   ]
  },
  {
   "cell_type": "code",
   "execution_count": 4,
   "metadata": {},
   "outputs": [],
   "source": [
    "import tweepy\n",
    "import pprint\n",
    "import json\n",
    "import csv\n",
    "import pandas as pd"
   ]
  },
  {
   "cell_type": "code",
   "execution_count": 5,
   "metadata": {},
   "outputs": [],
   "source": [
    "from tweepy import OAuthHandler"
   ]
  },
  {
   "cell_type": "code",
   "execution_count": 6,
   "metadata": {},
   "outputs": [],
   "source": [
    "consumer_key = '+'\n",
    "consumer_secret = '+'\n",
    "access_token = '+'\n",
    "access_secret = '+'"
   ]
  },
  {
   "cell_type": "code",
   "execution_count": 7,
   "metadata": {},
   "outputs": [],
   "source": [
    "auth = OAuthHandler(consumer_key, consumer_secret)\n",
    "auth.set_access_token(access_token, access_secret)"
   ]
  },
  {
   "cell_type": "code",
   "execution_count": 8,
   "metadata": {},
   "outputs": [],
   "source": [
    "#version2 with the rate limit \n",
    "#Thanks to Stack overflow (https://stackoverflow.com/questions/17431807/get-all-follower-ids-in-twitter-by-tweepy)\n",
    "api =  tweepy.API(auth,wait_on_rate_limit= True, wait_on_rate_limit_notify= True, compression= True)"
   ]
  },
  {
   "cell_type": "code",
   "execution_count": 42,
   "metadata": {},
   "outputs": [],
   "source": [
    "def process_or_store(tweet):\n",
    "    print(json.dumps(tweet))"
   ]
  },
  {
   "cell_type": "markdown",
   "metadata": {},
   "source": [
    "#### Testing different api requests for twitter\n",
    "#api - user_timeline\n",
    "#api - home_timeline\n",
    "#api - friends"
   ]
  },
  {
   "cell_type": "code",
   "execution_count": 44,
   "metadata": {},
   "outputs": [
    {
     "name": "stdout",
     "output_type": "stream",
     "text": [
      "{\"created_at\": \"Sat Sep 01 02:14:00 +0000 2018\", \"id\": 1035712345023098885, \"id_str\": \"1035712345023098885\", \"text\": \"RT @astro_ricky: Orion rises over the dancing aurora. https://t.co/ZNFjq1BTfp\", \"truncated\": false, \"entities\": {\"hashtags\": [], \"symbols\": [], \"user_mentions\": [{\"screen_name\": \"astro_ricky\", \"name\": \"Ricky Arnold\", \"id\": 879153462, \"id_str\": \"879153462\", \"indices\": [3, 15]}], \"urls\": [], \"media\": [{\"id\": 1035598074096353280, \"id_str\": \"1035598074096353280\", \"indices\": [54, 77], \"media_url\": \"http://pbs.twimg.com/media/Dl8vlHGXsAAIc-l.jpg\", \"media_url_https\": \"https://pbs.twimg.com/media/Dl8vlHGXsAAIc-l.jpg\", \"url\": \"https://t.co/ZNFjq1BTfp\", \"display_url\": \"pic.twitter.com/ZNFjq1BTfp\", \"expanded_url\": \"https://twitter.com/astro_ricky/status/1035598845533741056/video/1\", \"type\": \"photo\", \"sizes\": {\"thumb\": {\"w\": 150, \"h\": 150, \"resize\": \"crop\"}, \"large\": {\"w\": 640, \"h\": 360, \"resize\": \"fit\"}, \"medium\": {\"w\": 640, \"h\": 360, \"resize\": \"fit\"}, \"small\": {\"w\": 640, \"h\": 360, \"resize\": \"fit\"}}, \"source_status_id\": 1035598845533741056, \"source_status_id_str\": \"1035598845533741056\", \"source_user_id\": 879153462, \"source_user_id_str\": \"879153462\"}]}, \"extended_entities\": {\"media\": [{\"id\": 1035598074096353280, \"id_str\": \"1035598074096353280\", \"indices\": [54, 77], \"media_url\": \"http://pbs.twimg.com/media/Dl8vlHGXsAAIc-l.jpg\", \"media_url_https\": \"https://pbs.twimg.com/media/Dl8vlHGXsAAIc-l.jpg\", \"url\": \"https://t.co/ZNFjq1BTfp\", \"display_url\": \"pic.twitter.com/ZNFjq1BTfp\", \"expanded_url\": \"https://twitter.com/astro_ricky/status/1035598845533741056/video/1\", \"type\": \"video\", \"sizes\": {\"thumb\": {\"w\": 150, \"h\": 150, \"resize\": \"crop\"}, \"large\": {\"w\": 640, \"h\": 360, \"resize\": \"fit\"}, \"medium\": {\"w\": 640, \"h\": 360, \"resize\": \"fit\"}, \"small\": {\"w\": 640, \"h\": 360, \"resize\": \"fit\"}}, \"source_status_id\": 1035598845533741056, \"source_status_id_str\": \"1035598845533741056\", \"source_user_id\": 879153462, \"source_user_id_str\": \"879153462\", \"video_info\": {\"aspect_ratio\": [16, 9], \"duration_millis\": 59500, \"variants\": [{\"bitrate\": 832000, \"content_type\": \"video/mp4\", \"url\": \"https://video.twimg.com/amplify_video/1035598074096353280/vid/640x360/w0yHAKNbJRjpEUaX.mp4?tag=8\"}, {\"bitrate\": 288000, \"content_type\": \"video/mp4\", \"url\": \"https://video.twimg.com/amplify_video/1035598074096353280/vid/320x180/4EYYOtyxyWQBhOEf.mp4?tag=8\"}, {\"bitrate\": 2176000, \"content_type\": \"video/mp4\", \"url\": \"https://video.twimg.com/amplify_video/1035598074096353280/vid/1280x720/EnBY2ZWNYBYynyRc.mp4?tag=8\"}, {\"content_type\": \"application/x-mpegURL\", \"url\": \"https://video.twimg.com/amplify_video/1035598074096353280/pl/3yozBqpKC4id7Jv6.m3u8?tag=8\"}]}, \"additional_media_info\": {\"title\": \"\", \"description\": \"\", \"embeddable\": true, \"monetizable\": false, \"source_user\": {\"id\": 879153462, \"id_str\": \"879153462\", \"name\": \"Ricky Arnold\", \"screen_name\": \"astro_ricky\", \"location\": \"Houston, TX\", \"description\": \"Astronaut (STS-119, Expedition 55/56, NEEMO 13, #CAVES2016) & Educator. Currently onboard @Space_Station for Exp. 55/56. Tweets are my own. IG:@astro_ricky\", \"url\": \"https://t.co/N2SiojXILw\", \"entities\": {\"url\": {\"urls\": [{\"url\": \"https://t.co/N2SiojXILw\", \"expanded_url\": \"https://www.nasa.gov/astronauts/biographies/richard-r-arnold\", \"display_url\": \"nasa.gov/astronauts/bio\\u2026\", \"indices\": [0, 23]}]}, \"description\": {\"urls\": []}}, \"protected\": false, \"followers_count\": 44307, \"friends_count\": 138, \"listed_count\": 567, \"created_at\": \"Sun Oct 14 02:35:14 +0000 2012\", \"favourites_count\": 617, \"utc_offset\": null, \"time_zone\": null, \"geo_enabled\": true, \"verified\": true, \"statuses_count\": 1618, \"lang\": \"en\", \"contributors_enabled\": false, \"is_translator\": false, \"is_translation_enabled\": false, \"profile_background_color\": \"C0DEED\", \"profile_background_image_url\": \"http://abs.twimg.com/images/themes/theme1/bg.png\", \"profile_background_image_url_https\": \"https://abs.twimg.com/images/themes/theme1/bg.png\", \"profile_background_tile\": true, \"profile_image_url\": \"http://pbs.twimg.com/profile_images/378800000209821263/e711f1ee10aac4b1dbac19cb251f579f_normal.jpeg\", \"profile_image_url_https\": \"https://pbs.twimg.com/profile_images/378800000209821263/e711f1ee10aac4b1dbac19cb251f579f_normal.jpeg\", \"profile_banner_url\": \"https://pbs.twimg.com/profile_banners/879153462/1370526674\", \"profile_link_color\": \"0084B4\", \"profile_sidebar_border_color\": \"FFFFFF\", \"profile_sidebar_fill_color\": \"DDEEF6\", \"profile_text_color\": \"333333\", \"profile_use_background_image\": true, \"has_extended_profile\": false, \"default_profile\": false, \"default_profile_image\": false, \"following\": false, \"follow_request_sent\": false, \"notifications\": false, \"translator_type\": \"none\"}}}]}, \"source\": \"<a href=\\\"https://www.sprinklr.com\\\" rel=\\\"nofollow\\\">Sprinklr</a>\", \"in_reply_to_status_id\": null, \"in_reply_to_status_id_str\": null, \"in_reply_to_user_id\": null, \"in_reply_to_user_id_str\": null, \"in_reply_to_screen_name\": null, \"user\": {\"id\": 11348282, \"id_str\": \"11348282\", \"name\": \"NASA\", \"screen_name\": \"NASA\", \"location\": \"\", \"description\": \"Explore the universe and discover our home planet with @NASA. We usually post in EST (UTC-5)\", \"url\": \"https://t.co/TcEE6NS8nD\", \"entities\": {\"url\": {\"urls\": [{\"url\": \"https://t.co/TcEE6NS8nD\", \"expanded_url\": \"http://www.nasa.gov\", \"display_url\": \"nasa.gov\", \"indices\": [0, 23]}]}, \"description\": {\"urls\": []}}, \"protected\": false, \"followers_count\": 29466080, \"friends_count\": 287, \"listed_count\": 91879, \"created_at\": \"Wed Dec 19 20:20:32 +0000 2007\", \"favourites_count\": 3947, \"utc_offset\": null, \"time_zone\": null, \"geo_enabled\": false, \"verified\": true, \"statuses_count\": 53099, \"lang\": \"en\", \"contributors_enabled\": false, \"is_translator\": false, \"is_translation_enabled\": false, \"profile_background_color\": \"000000\", \"profile_background_image_url\": \"http://abs.twimg.com/images/themes/theme1/bg.png\", \"profile_background_image_url_https\": \"https://abs.twimg.com/images/themes/theme1/bg.png\", \"profile_background_tile\": false, \"profile_image_url\": \"http://pbs.twimg.com/profile_images/188302352/nasalogo_twitter_normal.jpg\", \"profile_image_url_https\": \"https://pbs.twimg.com/profile_images/188302352/nasalogo_twitter_normal.jpg\", \"profile_banner_url\": \"https://pbs.twimg.com/profile_banners/11348282/1535145490\", \"profile_link_color\": \"205BA7\", \"profile_sidebar_border_color\": \"000000\", \"profile_sidebar_fill_color\": \"F3F2F2\", \"profile_text_color\": \"000000\", \"profile_use_background_image\": true, \"has_extended_profile\": true, \"default_profile\": false, \"default_profile_image\": false, \"following\": true, \"follow_request_sent\": false, \"notifications\": false, \"translator_type\": \"regular\"}, \"geo\": null, \"coordinates\": null, \"place\": null, \"contributors\": null, \"retweeted_status\": {\"created_at\": \"Fri Aug 31 18:42:59 +0000 2018\", \"id\": 1035598845533741056, \"id_str\": \"1035598845533741056\", \"text\": \"Orion rises over the dancing aurora. https://t.co/ZNFjq1BTfp\", \"truncated\": false, \"entities\": {\"hashtags\": [], \"symbols\": [], \"user_mentions\": [], \"urls\": [], \"media\": [{\"id\": 1035598074096353280, \"id_str\": \"1035598074096353280\", \"indices\": [37, 60], \"media_url\": \"http://pbs.twimg.com/media/Dl8vlHGXsAAIc-l.jpg\", \"media_url_https\": \"https://pbs.twimg.com/media/Dl8vlHGXsAAIc-l.jpg\", \"url\": \"https://t.co/ZNFjq1BTfp\", \"display_url\": \"pic.twitter.com/ZNFjq1BTfp\", \"expanded_url\": \"https://twitter.com/astro_ricky/status/1035598845533741056/video/1\", \"type\": \"photo\", \"sizes\": {\"thumb\": {\"w\": 150, \"h\": 150, \"resize\": \"crop\"}, \"large\": {\"w\": 640, \"h\": 360, \"resize\": \"fit\"}, \"medium\": {\"w\": 640, \"h\": 360, \"resize\": \"fit\"}, \"small\": {\"w\": 640, \"h\": 360, \"resize\": \"fit\"}}}]}, \"extended_entities\": {\"media\": [{\"id\": 1035598074096353280, \"id_str\": \"1035598074096353280\", \"indices\": [37, 60], \"media_url\": \"http://pbs.twimg.com/media/Dl8vlHGXsAAIc-l.jpg\", \"media_url_https\": \"https://pbs.twimg.com/media/Dl8vlHGXsAAIc-l.jpg\", \"url\": \"https://t.co/ZNFjq1BTfp\", \"display_url\": \"pic.twitter.com/ZNFjq1BTfp\", \"expanded_url\": \"https://twitter.com/astro_ricky/status/1035598845533741056/video/1\", \"type\": \"video\", \"sizes\": {\"thumb\": {\"w\": 150, \"h\": 150, \"resize\": \"crop\"}, \"large\": {\"w\": 640, \"h\": 360, \"resize\": \"fit\"}, \"medium\": {\"w\": 640, \"h\": 360, \"resize\": \"fit\"}, \"small\": {\"w\": 640, \"h\": 360, \"resize\": \"fit\"}}, \"video_info\": {\"aspect_ratio\": [16, 9], \"duration_millis\": 59500, \"variants\": [{\"bitrate\": 832000, \"content_type\": \"video/mp4\", \"url\": \"https://video.twimg.com/amplify_video/1035598074096353280/vid/640x360/w0yHAKNbJRjpEUaX.mp4?tag=8\"}, {\"bitrate\": 288000, \"content_type\": \"video/mp4\", \"url\": \"https://video.twimg.com/amplify_video/1035598074096353280/vid/320x180/4EYYOtyxyWQBhOEf.mp4?tag=8\"}, {\"bitrate\": 2176000, \"content_type\": \"video/mp4\", \"url\": \"https://video.twimg.com/amplify_video/1035598074096353280/vid/1280x720/EnBY2ZWNYBYynyRc.mp4?tag=8\"}, {\"content_type\": \"application/x-mpegURL\", \"url\": \"https://video.twimg.com/amplify_video/1035598074096353280/pl/3yozBqpKC4id7Jv6.m3u8?tag=8\"}]}, \"additional_media_info\": {\"title\": \"\", \"description\": \"\", \"embeddable\": true, \"monetizable\": false}}]}, \"source\": \"<a href=\\\"https://studio.twitter.com\\\" rel=\\\"nofollow\\\">Media Studio</a>\", \"in_reply_to_status_id\": null, \"in_reply_to_status_id_str\": null, \"in_reply_to_user_id\": null, \"in_reply_to_user_id_str\": null, \"in_reply_to_screen_name\": null, \"user\": {\"id\": 879153462, \"id_str\": \"879153462\", \"name\": \"Ricky Arnold\", \"screen_name\": \"astro_ricky\", \"location\": \"Houston, TX\", \"description\": \"Astronaut (STS-119, Expedition 55/56, NEEMO 13, #CAVES2016) & Educator. Currently onboard @Space_Station for Exp. 55/56. Tweets are my own. IG:@astro_ricky\", \"url\": \"https://t.co/N2SiojXILw\", \"entities\": {\"url\": {\"urls\": [{\"url\": \"https://t.co/N2SiojXILw\", \"expanded_url\": \"https://www.nasa.gov/astronauts/biographies/richard-r-arnold\", \"display_url\": \"nasa.gov/astronauts/bio\\u2026\", \"indices\": [0, 23]}]}, \"description\": {\"urls\": []}}, \"protected\": false, \"followers_count\": 44307, \"friends_count\": 138, \"listed_count\": 567, \"created_at\": \"Sun Oct 14 02:35:14 +0000 2012\", \"favourites_count\": 617, \"utc_offset\": null, \"time_zone\": null, \"geo_enabled\": true, \"verified\": true, \"statuses_count\": 1618, \"lang\": \"en\", \"contributors_enabled\": false, \"is_translator\": false, \"is_translation_enabled\": false, \"profile_background_color\": \"C0DEED\", \"profile_background_image_url\": \"http://abs.twimg.com/images/themes/theme1/bg.png\", \"profile_background_image_url_https\": \"https://abs.twimg.com/images/themes/theme1/bg.png\", \"profile_background_tile\": true, \"profile_image_url\": \"http://pbs.twimg.com/profile_images/378800000209821263/e711f1ee10aac4b1dbac19cb251f579f_normal.jpeg\", \"profile_image_url_https\": \"https://pbs.twimg.com/profile_images/378800000209821263/e711f1ee10aac4b1dbac19cb251f579f_normal.jpeg\", \"profile_banner_url\": \"https://pbs.twimg.com/profile_banners/879153462/1370526674\", \"profile_link_color\": \"0084B4\", \"profile_sidebar_border_color\": \"FFFFFF\", \"profile_sidebar_fill_color\": \"DDEEF6\", \"profile_text_color\": \"333333\", \"profile_use_background_image\": true, \"has_extended_profile\": false, \"default_profile\": false, \"default_profile_image\": false, \"following\": false, \"follow_request_sent\": false, \"notifications\": false, \"translator_type\": \"none\"}, \"geo\": null, \"coordinates\": null, \"place\": null, \"contributors\": null, \"is_quote_status\": false, \"retweet_count\": 1251, \"favorite_count\": 3508, \"favorited\": false, \"retweeted\": false, \"possibly_sensitive\": false, \"possibly_sensitive_appealable\": false, \"lang\": \"en\"}, \"is_quote_status\": false, \"retweet_count\": 1251, \"favorite_count\": 0, \"favorited\": false, \"retweeted\": false, \"possibly_sensitive\": false, \"possibly_sensitive_appealable\": false, \"lang\": \"en\"}\n",
      "{\"created_at\": \"Sat Sep 01 01:07:52 +0000 2018\", \"id\": 1035695703182516224, \"id_str\": \"1035695703182516224\", \"text\": \"From 100+ million miles away, @NASANewHorizons detects its next flyby target, @JimBridenstine visits our west coast\\u2026 https://t.co/etCgC9fZud\", \"truncated\": true, \"entities\": {\"hashtags\": [], \"symbols\": [], \"user_mentions\": [{\"screen_name\": \"NASANewHorizons\", \"name\": \"NASA New Horizons\", \"id\": 2734713482, \"id_str\": \"2734713482\", \"indices\": [30, 46]}, {\"screen_name\": \"JimBridenstine\", \"name\": \"Jim Bridenstine\", \"id\": 243418245, \"id_str\": \"243418245\", \"indices\": [78, 93]}], \"urls\": [{\"url\": \"https://t.co/etCgC9fZud\", \"expanded_url\": \"https://twitter.com/i/web/status/1035695703182516224\", \"display_url\": \"twitter.com/i/web/status/1\\u2026\", \"indices\": [117, 140]}]}, \"source\": \"<a href=\\\"https://www.sprinklr.com\\\" rel=\\\"nofollow\\\">Sprinklr</a>\", \"in_reply_to_status_id\": null, \"in_reply_to_status_id_str\": null, \"in_reply_to_user_id\": null, \"in_reply_to_user_id_str\": null, \"in_reply_to_screen_name\": null, \"user\": {\"id\": 11348282, \"id_str\": \"11348282\", \"name\": \"NASA\", \"screen_name\": \"NASA\", \"location\": \"\", \"description\": \"Explore the universe and discover our home planet with @NASA. We usually post in EST (UTC-5)\", \"url\": \"https://t.co/TcEE6NS8nD\", \"entities\": {\"url\": {\"urls\": [{\"url\": \"https://t.co/TcEE6NS8nD\", \"expanded_url\": \"http://www.nasa.gov\", \"display_url\": \"nasa.gov\", \"indices\": [0, 23]}]}, \"description\": {\"urls\": []}}, \"protected\": false, \"followers_count\": 29466080, \"friends_count\": 287, \"listed_count\": 91879, \"created_at\": \"Wed Dec 19 20:20:32 +0000 2007\", \"favourites_count\": 3947, \"utc_offset\": null, \"time_zone\": null, \"geo_enabled\": false, \"verified\": true, \"statuses_count\": 53099, \"lang\": \"en\", \"contributors_enabled\": false, \"is_translator\": false, \"is_translation_enabled\": false, \"profile_background_color\": \"000000\", \"profile_background_image_url\": \"http://abs.twimg.com/images/themes/theme1/bg.png\", \"profile_background_image_url_https\": \"https://abs.twimg.com/images/themes/theme1/bg.png\", \"profile_background_tile\": false, \"profile_image_url\": \"http://pbs.twimg.com/profile_images/188302352/nasalogo_twitter_normal.jpg\", \"profile_image_url_https\": \"https://pbs.twimg.com/profile_images/188302352/nasalogo_twitter_normal.jpg\", \"profile_banner_url\": \"https://pbs.twimg.com/profile_banners/11348282/1535145490\", \"profile_link_color\": \"205BA7\", \"profile_sidebar_border_color\": \"000000\", \"profile_sidebar_fill_color\": \"F3F2F2\", \"profile_text_color\": \"000000\", \"profile_use_background_image\": true, \"has_extended_profile\": true, \"default_profile\": false, \"default_profile_image\": false, \"following\": true, \"follow_request_sent\": false, \"notifications\": false, \"translator_type\": \"regular\"}, \"geo\": null, \"coordinates\": null, \"place\": null, \"contributors\": null, \"is_quote_status\": false, \"retweet_count\": 182, \"favorite_count\": 793, \"favorited\": false, \"retweeted\": false, \"possibly_sensitive\": false, \"possibly_sensitive_appealable\": false, \"lang\": \"en\"}\n",
      "{\"created_at\": \"Fri Aug 31 23:01:03 +0000 2018\", \"id\": 1035663787033022464, \"id_str\": \"1035663787033022464\", \"text\": \"We\\u2019re landing a spacecraft on Mars and we want YOU to come behind-the-scenes and help us tell the story! Apply to a\\u2026 https://t.co/trvrTdUSkR\", \"truncated\": true, \"entities\": {\"hashtags\": [], \"symbols\": [], \"user_mentions\": [], \"urls\": [{\"url\": \"https://t.co/trvrTdUSkR\", \"expanded_url\": \"https://twitter.com/i/web/status/1035663787033022464\", \"display_url\": \"twitter.com/i/web/status/1\\u2026\", \"indices\": [117, 140]}]}, \"source\": \"<a href=\\\"https://www.sprinklr.com\\\" rel=\\\"nofollow\\\">Sprinklr</a>\", \"in_reply_to_status_id\": null, \"in_reply_to_status_id_str\": null, \"in_reply_to_user_id\": null, \"in_reply_to_user_id_str\": null, \"in_reply_to_screen_name\": null, \"user\": {\"id\": 11348282, \"id_str\": \"11348282\", \"name\": \"NASA\", \"screen_name\": \"NASA\", \"location\": \"\", \"description\": \"Explore the universe and discover our home planet with @NASA. We usually post in EST (UTC-5)\", \"url\": \"https://t.co/TcEE6NS8nD\", \"entities\": {\"url\": {\"urls\": [{\"url\": \"https://t.co/TcEE6NS8nD\", \"expanded_url\": \"http://www.nasa.gov\", \"display_url\": \"nasa.gov\", \"indices\": [0, 23]}]}, \"description\": {\"urls\": []}}, \"protected\": false, \"followers_count\": 29466080, \"friends_count\": 287, \"listed_count\": 91879, \"created_at\": \"Wed Dec 19 20:20:32 +0000 2007\", \"favourites_count\": 3947, \"utc_offset\": null, \"time_zone\": null, \"geo_enabled\": false, \"verified\": true, \"statuses_count\": 53099, \"lang\": \"en\", \"contributors_enabled\": false, \"is_translator\": false, \"is_translation_enabled\": false, \"profile_background_color\": \"000000\", \"profile_background_image_url\": \"http://abs.twimg.com/images/themes/theme1/bg.png\", \"profile_background_image_url_https\": \"https://abs.twimg.com/images/themes/theme1/bg.png\", \"profile_background_tile\": false, \"profile_image_url\": \"http://pbs.twimg.com/profile_images/188302352/nasalogo_twitter_normal.jpg\", \"profile_image_url_https\": \"https://pbs.twimg.com/profile_images/188302352/nasalogo_twitter_normal.jpg\", \"profile_banner_url\": \"https://pbs.twimg.com/profile_banners/11348282/1535145490\", \"profile_link_color\": \"205BA7\", \"profile_sidebar_border_color\": \"000000\", \"profile_sidebar_fill_color\": \"F3F2F2\", \"profile_text_color\": \"000000\", \"profile_use_background_image\": true, \"has_extended_profile\": true, \"default_profile\": false, \"default_profile_image\": false, \"following\": true, \"follow_request_sent\": false, \"notifications\": false, \"translator_type\": \"regular\"}, \"geo\": null, \"coordinates\": null, \"place\": null, \"contributors\": null, \"is_quote_status\": false, \"retweet_count\": 421, \"favorite_count\": 1650, \"favorited\": false, \"retweeted\": false, \"possibly_sensitive\": false, \"possibly_sensitive_appealable\": false, \"lang\": \"en\"}\n",
      "{\"created_at\": \"Fri Aug 31 22:04:07 +0000 2018\", \"id\": 1035649462201458688, \"id_str\": \"1035649462201458688\", \"text\": \"How do you efficiently move fluids in space where gravity can't guide its motion? @ISS_Research on @Space_Station m\\u2026 https://t.co/RDlaQ4A5vL\", \"truncated\": true, \"entities\": {\"hashtags\": [], \"symbols\": [], \"user_mentions\": [{\"screen_name\": \"ISS_Research\", \"name\": \"ISS Research\", \"id\": 189253902, \"id_str\": \"189253902\", \"indices\": [82, 95]}, {\"screen_name\": \"Space_Station\", \"name\": \"Intl. Space Station\", \"id\": 1451773004, \"id_str\": \"1451773004\", \"indices\": [99, 113]}], \"urls\": [{\"url\": \"https://t.co/RDlaQ4A5vL\", \"expanded_url\": \"https://twitter.com/i/web/status/1035649462201458688\", \"display_url\": \"twitter.com/i/web/status/1\\u2026\", \"indices\": [117, 140]}]}, \"source\": \"<a href=\\\"https://www.sprinklr.com\\\" rel=\\\"nofollow\\\">Sprinklr</a>\", \"in_reply_to_status_id\": null, \"in_reply_to_status_id_str\": null, \"in_reply_to_user_id\": null, \"in_reply_to_user_id_str\": null, \"in_reply_to_screen_name\": null, \"user\": {\"id\": 11348282, \"id_str\": \"11348282\", \"name\": \"NASA\", \"screen_name\": \"NASA\", \"location\": \"\", \"description\": \"Explore the universe and discover our home planet with @NASA. We usually post in EST (UTC-5)\", \"url\": \"https://t.co/TcEE6NS8nD\", \"entities\": {\"url\": {\"urls\": [{\"url\": \"https://t.co/TcEE6NS8nD\", \"expanded_url\": \"http://www.nasa.gov\", \"display_url\": \"nasa.gov\", \"indices\": [0, 23]}]}, \"description\": {\"urls\": []}}, \"protected\": false, \"followers_count\": 29466080, \"friends_count\": 287, \"listed_count\": 91879, \"created_at\": \"Wed Dec 19 20:20:32 +0000 2007\", \"favourites_count\": 3947, \"utc_offset\": null, \"time_zone\": null, \"geo_enabled\": false, \"verified\": true, \"statuses_count\": 53099, \"lang\": \"en\", \"contributors_enabled\": false, \"is_translator\": false, \"is_translation_enabled\": false, \"profile_background_color\": \"000000\", \"profile_background_image_url\": \"http://abs.twimg.com/images/themes/theme1/bg.png\", \"profile_background_image_url_https\": \"https://abs.twimg.com/images/themes/theme1/bg.png\", \"profile_background_tile\": false, \"profile_image_url\": \"http://pbs.twimg.com/profile_images/188302352/nasalogo_twitter_normal.jpg\", \"profile_image_url_https\": \"https://pbs.twimg.com/profile_images/188302352/nasalogo_twitter_normal.jpg\", \"profile_banner_url\": \"https://pbs.twimg.com/profile_banners/11348282/1535145490\", \"profile_link_color\": \"205BA7\", \"profile_sidebar_border_color\": \"000000\", \"profile_sidebar_fill_color\": \"F3F2F2\", \"profile_text_color\": \"000000\", \"profile_use_background_image\": true, \"has_extended_profile\": true, \"default_profile\": false, \"default_profile_image\": false, \"following\": true, \"follow_request_sent\": false, \"notifications\": false, \"translator_type\": \"regular\"}, \"geo\": null, \"coordinates\": null, \"place\": null, \"contributors\": null, \"is_quote_status\": false, \"retweet_count\": 148, \"favorite_count\": 737, \"favorited\": false, \"retweeted\": false, \"possibly_sensitive\": false, \"possibly_sensitive_appealable\": false, \"lang\": \"en\"}\n",
      "{\"created_at\": \"Fri Aug 31 21:08:01 +0000 2018\", \"id\": 1035635341078786048, \"id_str\": \"1035635341078786048\", \"text\": \"The interaction of a high-velocity young star with the cloud of gas and dust may have created this unusually sharp-\\u2026 https://t.co/J6uUf7MYMI\", \"truncated\": true, \"entities\": {\"hashtags\": [], \"symbols\": [], \"user_mentions\": [], \"urls\": [{\"url\": \"https://t.co/J6uUf7MYMI\", \"expanded_url\": \"https://twitter.com/i/web/status/1035635341078786048\", \"display_url\": \"twitter.com/i/web/status/1\\u2026\", \"indices\": [117, 140]}]}, \"source\": \"<a href=\\\"https://www.sprinklr.com\\\" rel=\\\"nofollow\\\">Sprinklr</a>\", \"in_reply_to_status_id\": null, \"in_reply_to_status_id_str\": null, \"in_reply_to_user_id\": null, \"in_reply_to_user_id_str\": null, \"in_reply_to_screen_name\": null, \"user\": {\"id\": 11348282, \"id_str\": \"11348282\", \"name\": \"NASA\", \"screen_name\": \"NASA\", \"location\": \"\", \"description\": \"Explore the universe and discover our home planet with @NASA. We usually post in EST (UTC-5)\", \"url\": \"https://t.co/TcEE6NS8nD\", \"entities\": {\"url\": {\"urls\": [{\"url\": \"https://t.co/TcEE6NS8nD\", \"expanded_url\": \"http://www.nasa.gov\", \"display_url\": \"nasa.gov\", \"indices\": [0, 23]}]}, \"description\": {\"urls\": []}}, \"protected\": false, \"followers_count\": 29466080, \"friends_count\": 287, \"listed_count\": 91879, \"created_at\": \"Wed Dec 19 20:20:32 +0000 2007\", \"favourites_count\": 3947, \"utc_offset\": null, \"time_zone\": null, \"geo_enabled\": false, \"verified\": true, \"statuses_count\": 53099, \"lang\": \"en\", \"contributors_enabled\": false, \"is_translator\": false, \"is_translation_enabled\": false, \"profile_background_color\": \"000000\", \"profile_background_image_url\": \"http://abs.twimg.com/images/themes/theme1/bg.png\", \"profile_background_image_url_https\": \"https://abs.twimg.com/images/themes/theme1/bg.png\", \"profile_background_tile\": false, \"profile_image_url\": \"http://pbs.twimg.com/profile_images/188302352/nasalogo_twitter_normal.jpg\", \"profile_image_url_https\": \"https://pbs.twimg.com/profile_images/188302352/nasalogo_twitter_normal.jpg\", \"profile_banner_url\": \"https://pbs.twimg.com/profile_banners/11348282/1535145490\", \"profile_link_color\": \"205BA7\", \"profile_sidebar_border_color\": \"000000\", \"profile_sidebar_fill_color\": \"F3F2F2\", \"profile_text_color\": \"000000\", \"profile_use_background_image\": true, \"has_extended_profile\": true, \"default_profile\": false, \"default_profile_image\": false, \"following\": true, \"follow_request_sent\": false, \"notifications\": false, \"translator_type\": \"regular\"}, \"geo\": null, \"coordinates\": null, \"place\": null, \"contributors\": null, \"is_quote_status\": false, \"retweet_count\": 793, \"favorite_count\": 2895, \"favorited\": false, \"retweeted\": false, \"possibly_sensitive\": false, \"possibly_sensitive_appealable\": false, \"lang\": \"en\"}\n",
      "{\"created_at\": \"Fri Aug 31 19:16:12 +0000 2018\", \"id\": 1035607203011612672, \"id_str\": \"1035607203011612672\", \"text\": \"This week, @Astro_Ricky became the first person in space to sequence RNA. Also, repairs were made to address a leak\\u2026 https://t.co/bMmuUhfmmW\", \"truncated\": true, \"entities\": {\"hashtags\": [], \"symbols\": [], \"user_mentions\": [{\"screen_name\": \"astro_ricky\", \"name\": \"Ricky Arnold\", \"id\": 879153462, \"id_str\": \"879153462\", \"indices\": [11, 23]}], \"urls\": [{\"url\": \"https://t.co/bMmuUhfmmW\", \"expanded_url\": \"https://twitter.com/i/web/status/1035607203011612672\", \"display_url\": \"twitter.com/i/web/status/1\\u2026\", \"indices\": [117, 140]}]}, \"source\": \"<a href=\\\"https://www.sprinklr.com\\\" rel=\\\"nofollow\\\">Sprinklr</a>\", \"in_reply_to_status_id\": null, \"in_reply_to_status_id_str\": null, \"in_reply_to_user_id\": null, \"in_reply_to_user_id_str\": null, \"in_reply_to_screen_name\": null, \"user\": {\"id\": 11348282, \"id_str\": \"11348282\", \"name\": \"NASA\", \"screen_name\": \"NASA\", \"location\": \"\", \"description\": \"Explore the universe and discover our home planet with @NASA. We usually post in EST (UTC-5)\", \"url\": \"https://t.co/TcEE6NS8nD\", \"entities\": {\"url\": {\"urls\": [{\"url\": \"https://t.co/TcEE6NS8nD\", \"expanded_url\": \"http://www.nasa.gov\", \"display_url\": \"nasa.gov\", \"indices\": [0, 23]}]}, \"description\": {\"urls\": []}}, \"protected\": false, \"followers_count\": 29466080, \"friends_count\": 287, \"listed_count\": 91879, \"created_at\": \"Wed Dec 19 20:20:32 +0000 2007\", \"favourites_count\": 3947, \"utc_offset\": null, \"time_zone\": null, \"geo_enabled\": false, \"verified\": true, \"statuses_count\": 53099, \"lang\": \"en\", \"contributors_enabled\": false, \"is_translator\": false, \"is_translation_enabled\": false, \"profile_background_color\": \"000000\", \"profile_background_image_url\": \"http://abs.twimg.com/images/themes/theme1/bg.png\", \"profile_background_image_url_https\": \"https://abs.twimg.com/images/themes/theme1/bg.png\", \"profile_background_tile\": false, \"profile_image_url\": \"http://pbs.twimg.com/profile_images/188302352/nasalogo_twitter_normal.jpg\", \"profile_image_url_https\": \"https://pbs.twimg.com/profile_images/188302352/nasalogo_twitter_normal.jpg\", \"profile_banner_url\": \"https://pbs.twimg.com/profile_banners/11348282/1535145490\", \"profile_link_color\": \"205BA7\", \"profile_sidebar_border_color\": \"000000\", \"profile_sidebar_fill_color\": \"F3F2F2\", \"profile_text_color\": \"000000\", \"profile_use_background_image\": true, \"has_extended_profile\": true, \"default_profile\": false, \"default_profile_image\": false, \"following\": true, \"follow_request_sent\": false, \"notifications\": false, \"translator_type\": \"regular\"}, \"geo\": null, \"coordinates\": null, \"place\": null, \"contributors\": null, \"is_quote_status\": false, \"retweet_count\": 293, \"favorite_count\": 1321, \"favorited\": false, \"retweeted\": false, \"possibly_sensitive\": false, \"possibly_sensitive_appealable\": false, \"lang\": \"en\"}\n",
      "{\"created_at\": \"Fri Aug 31 17:32:01 +0000 2018\", \"id\": 1035580982781521920, \"id_str\": \"1035580982781521920\", \"text\": \"We're about to launch advanced lasers to space so that @NASA_ICE's #ICESat2 can provide critical observations of ho\\u2026 https://t.co/Kf09YuueIB\", \"truncated\": true, \"entities\": {\"hashtags\": [{\"text\": \"ICESat2\", \"indices\": [67, 75]}], \"symbols\": [], \"user_mentions\": [{\"screen_name\": \"NASA_ICE\", \"name\": \"NASA ICE\", \"id\": 67059584, \"id_str\": \"67059584\", \"indices\": [55, 64]}], \"urls\": [{\"url\": \"https://t.co/Kf09YuueIB\", \"expanded_url\": \"https://twitter.com/i/web/status/1035580982781521920\", \"display_url\": \"twitter.com/i/web/status/1\\u2026\", \"indices\": [117, 140]}]}, \"source\": \"<a href=\\\"https://www.sprinklr.com\\\" rel=\\\"nofollow\\\">Sprinklr</a>\", \"in_reply_to_status_id\": null, \"in_reply_to_status_id_str\": null, \"in_reply_to_user_id\": null, \"in_reply_to_user_id_str\": null, \"in_reply_to_screen_name\": null, \"user\": {\"id\": 11348282, \"id_str\": \"11348282\", \"name\": \"NASA\", \"screen_name\": \"NASA\", \"location\": \"\", \"description\": \"Explore the universe and discover our home planet with @NASA. We usually post in EST (UTC-5)\", \"url\": \"https://t.co/TcEE6NS8nD\", \"entities\": {\"url\": {\"urls\": [{\"url\": \"https://t.co/TcEE6NS8nD\", \"expanded_url\": \"http://www.nasa.gov\", \"display_url\": \"nasa.gov\", \"indices\": [0, 23]}]}, \"description\": {\"urls\": []}}, \"protected\": false, \"followers_count\": 29466080, \"friends_count\": 287, \"listed_count\": 91879, \"created_at\": \"Wed Dec 19 20:20:32 +0000 2007\", \"favourites_count\": 3947, \"utc_offset\": null, \"time_zone\": null, \"geo_enabled\": false, \"verified\": true, \"statuses_count\": 53099, \"lang\": \"en\", \"contributors_enabled\": false, \"is_translator\": false, \"is_translation_enabled\": false, \"profile_background_color\": \"000000\", \"profile_background_image_url\": \"http://abs.twimg.com/images/themes/theme1/bg.png\", \"profile_background_image_url_https\": \"https://abs.twimg.com/images/themes/theme1/bg.png\", \"profile_background_tile\": false, \"profile_image_url\": \"http://pbs.twimg.com/profile_images/188302352/nasalogo_twitter_normal.jpg\", \"profile_image_url_https\": \"https://pbs.twimg.com/profile_images/188302352/nasalogo_twitter_normal.jpg\", \"profile_banner_url\": \"https://pbs.twimg.com/profile_banners/11348282/1535145490\", \"profile_link_color\": \"205BA7\", \"profile_sidebar_border_color\": \"000000\", \"profile_sidebar_fill_color\": \"F3F2F2\", \"profile_text_color\": \"000000\", \"profile_use_background_image\": true, \"has_extended_profile\": true, \"default_profile\": false, \"default_profile_image\": false, \"following\": true, \"follow_request_sent\": false, \"notifications\": false, \"translator_type\": \"regular\"}, \"geo\": null, \"coordinates\": null, \"place\": null, \"contributors\": null, \"is_quote_status\": false, \"retweet_count\": 246, \"favorite_count\": 1148, \"favorited\": false, \"retweeted\": false, \"possibly_sensitive\": false, \"possibly_sensitive_appealable\": false, \"lang\": \"en\"}\n",
      "{\"created_at\": \"Fri Aug 31 16:26:01 +0000 2018\", \"id\": 1035564374012977152, \"id_str\": \"1035564374012977152\", \"text\": \"Earlier this month, we announced the nine @NASA_Astronauts who will launch to space from American soil since the fi\\u2026 https://t.co/kdA0LweEtg\", \"truncated\": true, \"entities\": {\"hashtags\": [], \"symbols\": [], \"user_mentions\": [{\"screen_name\": \"NASA_Astronauts\", \"name\": \"NASA Astronauts\", \"id\": 43166813, \"id_str\": \"43166813\", \"indices\": [42, 58]}], \"urls\": [{\"url\": \"https://t.co/kdA0LweEtg\", \"expanded_url\": \"https://twitter.com/i/web/status/1035564374012977152\", \"display_url\": \"twitter.com/i/web/status/1\\u2026\", \"indices\": [117, 140]}]}, \"source\": \"<a href=\\\"https://www.sprinklr.com\\\" rel=\\\"nofollow\\\">Sprinklr</a>\", \"in_reply_to_status_id\": null, \"in_reply_to_status_id_str\": null, \"in_reply_to_user_id\": null, \"in_reply_to_user_id_str\": null, \"in_reply_to_screen_name\": null, \"user\": {\"id\": 11348282, \"id_str\": \"11348282\", \"name\": \"NASA\", \"screen_name\": \"NASA\", \"location\": \"\", \"description\": \"Explore the universe and discover our home planet with @NASA. We usually post in EST (UTC-5)\", \"url\": \"https://t.co/TcEE6NS8nD\", \"entities\": {\"url\": {\"urls\": [{\"url\": \"https://t.co/TcEE6NS8nD\", \"expanded_url\": \"http://www.nasa.gov\", \"display_url\": \"nasa.gov\", \"indices\": [0, 23]}]}, \"description\": {\"urls\": []}}, \"protected\": false, \"followers_count\": 29466080, \"friends_count\": 287, \"listed_count\": 91879, \"created_at\": \"Wed Dec 19 20:20:32 +0000 2007\", \"favourites_count\": 3947, \"utc_offset\": null, \"time_zone\": null, \"geo_enabled\": false, \"verified\": true, \"statuses_count\": 53099, \"lang\": \"en\", \"contributors_enabled\": false, \"is_translator\": false, \"is_translation_enabled\": false, \"profile_background_color\": \"000000\", \"profile_background_image_url\": \"http://abs.twimg.com/images/themes/theme1/bg.png\", \"profile_background_image_url_https\": \"https://abs.twimg.com/images/themes/theme1/bg.png\", \"profile_background_tile\": false, \"profile_image_url\": \"http://pbs.twimg.com/profile_images/188302352/nasalogo_twitter_normal.jpg\", \"profile_image_url_https\": \"https://pbs.twimg.com/profile_images/188302352/nasalogo_twitter_normal.jpg\", \"profile_banner_url\": \"https://pbs.twimg.com/profile_banners/11348282/1535145490\", \"profile_link_color\": \"205BA7\", \"profile_sidebar_border_color\": \"000000\", \"profile_sidebar_fill_color\": \"F3F2F2\", \"profile_text_color\": \"000000\", \"profile_use_background_image\": true, \"has_extended_profile\": true, \"default_profile\": false, \"default_profile_image\": false, \"following\": true, \"follow_request_sent\": false, \"notifications\": false, \"translator_type\": \"regular\"}, \"geo\": null, \"coordinates\": null, \"place\": null, \"contributors\": null, \"is_quote_status\": false, \"retweet_count\": 542, \"favorite_count\": 2340, \"favorited\": false, \"retweeted\": false, \"possibly_sensitive\": false, \"possibly_sensitive_appealable\": false, \"lang\": \"en\"}\n",
      "{\"created_at\": \"Fri Aug 31 15:30:03 +0000 2018\", \"id\": 1035550290441846784, \"id_str\": \"1035550290441846784\", \"text\": \"[RPT] Close Mars: https://t.co/7XqKomVoI5\", \"truncated\": false, \"entities\": {\"hashtags\": [], \"symbols\": [], \"user_mentions\": [], \"urls\": [{\"url\": \"https://t.co/7XqKomVoI5\", \"expanded_url\": \"https://apod.nasa.gov/apod/ap180831.html\", \"display_url\": \"apod.nasa.gov/apod/ap180831.\\u2026\", \"indices\": [18, 41]}]}, \"source\": \"<a href=\\\"http://apod.nasa.gov/\\\" rel=\\\"nofollow\\\">The Cosmos</a>\", \"in_reply_to_status_id\": null, \"in_reply_to_status_id_str\": null, \"in_reply_to_user_id\": null, \"in_reply_to_user_id_str\": null, \"in_reply_to_screen_name\": null, \"user\": {\"id\": 8295072, \"id_str\": \"8295072\", \"name\": \"Astronomy Picture Of The Day\", \"screen_name\": \"apod\", \"location\": \"Earth\", \"description\": \"Each day a different image of our universe along with a brief explanation. For issues with this account contact @astronomyblog otherwise https://t.co/KQcnIB8dQf\", \"url\": \"http://t.co/VqLpAtVlKg\", \"entities\": {\"url\": {\"urls\": [{\"url\": \"http://t.co/VqLpAtVlKg\", \"expanded_url\": \"http://apod.nasa.gov/apod/astropix.html\", \"display_url\": \"apod.nasa.gov/apod/astropix.\\u2026\", \"indices\": [0, 22]}]}, \"description\": {\"urls\": [{\"url\": \"https://t.co/KQcnIB8dQf\", \"expanded_url\": \"http://apod.nasa.gov/apod/lib/apsubmit2015.html\", \"display_url\": \"apod.nasa.gov/apod/lib/apsub\\u2026\", \"indices\": [137, 160]}]}}, \"protected\": false, \"followers_count\": 1289598, \"friends_count\": 19, \"listed_count\": 11908, \"created_at\": \"Mon Aug 20 01:01:43 +0000 2007\", \"favourites_count\": 0, \"utc_offset\": null, \"time_zone\": null, \"geo_enabled\": false, \"verified\": false, \"statuses_count\": 5685, \"lang\": \"en\", \"contributors_enabled\": false, \"is_translator\": false, \"is_translation_enabled\": false, \"profile_background_color\": \"F5F5FF\", \"profile_background_image_url\": \"http://abs.twimg.com/images/themes/theme1/bg.png\", \"profile_background_image_url_https\": \"https://abs.twimg.com/images/themes/theme1/bg.png\", \"profile_background_tile\": false, \"profile_image_url\": \"http://pbs.twimg.com/profile_images/19829782/apod_normal.png\", \"profile_image_url_https\": \"https://pbs.twimg.com/profile_images/19829782/apod_normal.png\", \"profile_banner_url\": \"https://pbs.twimg.com/profile_banners/8295072/1449972142\", \"profile_link_color\": \"0000FF\", \"profile_sidebar_border_color\": \"BCBCBC\", \"profile_sidebar_fill_color\": \"F5F5FF\", \"profile_text_color\": \"000000\", \"profile_use_background_image\": false, \"has_extended_profile\": false, \"default_profile\": false, \"default_profile_image\": false, \"following\": true, \"follow_request_sent\": false, \"notifications\": false, \"translator_type\": \"none\"}, \"geo\": null, \"coordinates\": null, \"place\": null, \"contributors\": null, \"is_quote_status\": false, \"retweet_count\": 20, \"favorite_count\": 80, \"favorited\": false, \"retweeted\": false, \"possibly_sensitive\": false, \"possibly_sensitive_appealable\": false, \"lang\": \"en\"}\n",
      "{\"created_at\": \"Fri Aug 31 15:29:00 +0000 2018\", \"id\": 1035550026112659456, \"id_str\": \"1035550026112659456\", \"text\": \"RT @NASAGroundSys: Check out the following awesome time-lapse footage of the ML making it's way out to the Pad @NASAKennedy! The footage yo\\u2026\", \"truncated\": false, \"entities\": {\"hashtags\": [], \"symbols\": [], \"user_mentions\": [{\"screen_name\": \"NASAGroundSys\", \"name\": \"NASA's Exploration Ground Systems\", \"id\": 2903872024, \"id_str\": \"2903872024\", \"indices\": [3, 17]}, {\"screen_name\": \"NASAKennedy\", \"name\": \"NASA Kennedy / KSC\", \"id\": 16580226, \"id_str\": \"16580226\", \"indices\": [111, 123]}], \"urls\": []}, \"source\": \"<a href=\\\"https://www.sprinklr.com\\\" rel=\\\"nofollow\\\">Sprinklr</a>\", \"in_reply_to_status_id\": null, \"in_reply_to_status_id_str\": null, \"in_reply_to_user_id\": null, \"in_reply_to_user_id_str\": null, \"in_reply_to_screen_name\": null, \"user\": {\"id\": 11348282, \"id_str\": \"11348282\", \"name\": \"NASA\", \"screen_name\": \"NASA\", \"location\": \"\", \"description\": \"Explore the universe and discover our home planet with @NASA. We usually post in EST (UTC-5)\", \"url\": \"https://t.co/TcEE6NS8nD\", \"entities\": {\"url\": {\"urls\": [{\"url\": \"https://t.co/TcEE6NS8nD\", \"expanded_url\": \"http://www.nasa.gov\", \"display_url\": \"nasa.gov\", \"indices\": [0, 23]}]}, \"description\": {\"urls\": []}}, \"protected\": false, \"followers_count\": 29466080, \"friends_count\": 287, \"listed_count\": 91879, \"created_at\": \"Wed Dec 19 20:20:32 +0000 2007\", \"favourites_count\": 3947, \"utc_offset\": null, \"time_zone\": null, \"geo_enabled\": false, \"verified\": true, \"statuses_count\": 53099, \"lang\": \"en\", \"contributors_enabled\": false, \"is_translator\": false, \"is_translation_enabled\": false, \"profile_background_color\": \"000000\", \"profile_background_image_url\": \"http://abs.twimg.com/images/themes/theme1/bg.png\", \"profile_background_image_url_https\": \"https://abs.twimg.com/images/themes/theme1/bg.png\", \"profile_background_tile\": false, \"profile_image_url\": \"http://pbs.twimg.com/profile_images/188302352/nasalogo_twitter_normal.jpg\", \"profile_image_url_https\": \"https://pbs.twimg.com/profile_images/188302352/nasalogo_twitter_normal.jpg\", \"profile_banner_url\": \"https://pbs.twimg.com/profile_banners/11348282/1535145490\", \"profile_link_color\": \"205BA7\", \"profile_sidebar_border_color\": \"000000\", \"profile_sidebar_fill_color\": \"F3F2F2\", \"profile_text_color\": \"000000\", \"profile_use_background_image\": true, \"has_extended_profile\": true, \"default_profile\": false, \"default_profile_image\": false, \"following\": true, \"follow_request_sent\": false, \"notifications\": false, \"translator_type\": \"regular\"}, \"geo\": null, \"coordinates\": null, \"place\": null, \"contributors\": null, \"retweeted_status\": {\"created_at\": \"Fri Aug 31 15:02:24 +0000 2018\", \"id\": 1035543330103414785, \"id_str\": \"1035543330103414785\", \"text\": \"Check out the following awesome time-lapse footage of the ML making it's way out to the Pad @NASAKennedy! The foota\\u2026 https://t.co/o1j0cswSIO\", \"truncated\": true, \"entities\": {\"hashtags\": [], \"symbols\": [], \"user_mentions\": [{\"screen_name\": \"NASAKennedy\", \"name\": \"NASA Kennedy / KSC\", \"id\": 16580226, \"id_str\": \"16580226\", \"indices\": [92, 104]}], \"urls\": [{\"url\": \"https://t.co/o1j0cswSIO\", \"expanded_url\": \"https://twitter.com/i/web/status/1035543330103414785\", \"display_url\": \"twitter.com/i/web/status/1\\u2026\", \"indices\": [117, 140]}]}, \"source\": \"<a href=\\\"http://twitter.com\\\" rel=\\\"nofollow\\\">Twitter Web Client</a>\", \"in_reply_to_status_id\": null, \"in_reply_to_status_id_str\": null, \"in_reply_to_user_id\": null, \"in_reply_to_user_id_str\": null, \"in_reply_to_screen_name\": null, \"user\": {\"id\": 2903872024, \"id_str\": \"2903872024\", \"name\": \"NASA's Exploration Ground Systems\", \"screen_name\": \"NASAGroundSys\", \"location\": \"Kennedy Space Center\", \"description\": \"Exploration Ground Systems is engineering launch and recovery innovations that unlock mankind\\u2019s destiny to expand human presence into deep space.\", \"url\": \"https://t.co/bEB5oZiOFR\", \"entities\": {\"url\": {\"urls\": [{\"url\": \"https://t.co/bEB5oZiOFR\", \"expanded_url\": \"http://nasa.gov/groundsystems\", \"display_url\": \"nasa.gov/groundsystems\", \"indices\": [0, 23]}]}, \"description\": {\"urls\": []}}, \"protected\": false, \"followers_count\": 8208, \"friends_count\": 146, \"listed_count\": 214, \"created_at\": \"Wed Dec 03 14:57:36 +0000 2014\", \"favourites_count\": 1651, \"utc_offset\": null, \"time_zone\": null, \"geo_enabled\": true, \"verified\": true, \"statuses_count\": 1355, \"lang\": \"en\", \"contributors_enabled\": false, \"is_translator\": false, \"is_translation_enabled\": false, \"profile_background_color\": \"C0DEED\", \"profile_background_image_url\": \"http://abs.twimg.com/images/themes/theme1/bg.png\", \"profile_background_image_url_https\": \"https://abs.twimg.com/images/themes/theme1/bg.png\", \"profile_background_tile\": false, \"profile_image_url\": \"http://pbs.twimg.com/profile_images/986638157415440386/Vv9vSyU6_normal.jpg\", \"profile_image_url_https\": \"https://pbs.twimg.com/profile_images/986638157415440386/Vv9vSyU6_normal.jpg\", \"profile_banner_url\": \"https://pbs.twimg.com/profile_banners/2903872024/1533585475\", \"profile_link_color\": \"0E71D7\", \"profile_sidebar_border_color\": \"C0DEED\", \"profile_sidebar_fill_color\": \"DDEEF6\", \"profile_text_color\": \"333333\", \"profile_use_background_image\": true, \"has_extended_profile\": false, \"default_profile\": false, \"default_profile_image\": false, \"following\": false, \"follow_request_sent\": false, \"notifications\": false, \"translator_type\": \"none\"}, \"geo\": null, \"coordinates\": null, \"place\": null, \"contributors\": null, \"is_quote_status\": false, \"retweet_count\": 331, \"favorite_count\": 1188, \"favorited\": false, \"retweeted\": false, \"possibly_sensitive\": false, \"possibly_sensitive_appealable\": false, \"lang\": \"en\"}, \"is_quote_status\": false, \"retweet_count\": 331, \"favorite_count\": 0, \"favorited\": false, \"retweeted\": false, \"lang\": \"en\"}\n"
     ]
    }
   ],
   "source": [
    "for status in tweepy.Cursor(api.home_timeline).items(10):\n",
    "    # Process a single status\n",
    "    process_or_store(status._json)"
   ]
  },
  {
   "cell_type": "code",
   "execution_count": 38,
   "metadata": {
    "scrolled": true
   },
   "outputs": [
    {
     "name": "stdout",
     "output_type": "stream",
     "text": [
      "{'created_at': 'Sat Sep 01 02:14:00 +0000 2018', 'id': 1035712345023098885, 'id_str': '1035712345023098885', 'text': 'RT @astro_ricky: Orion rises over the dancing aurora. https://t.co/ZNFjq1BTfp', 'truncated': False, 'entities': {'hashtags': [], 'symbols': [], 'user_mentions': [{'screen_name': 'astro_ricky', 'name': 'Ricky Arnold', 'id': 879153462, 'id_str': '879153462', 'indices': [3, 15]}], 'urls': [], 'media': [{'id': 1035598074096353280, 'id_str': '1035598074096353280', 'indices': [54, 77], 'media_url': 'http://pbs.twimg.com/media/Dl8vlHGXsAAIc-l.jpg', 'media_url_https': 'https://pbs.twimg.com/media/Dl8vlHGXsAAIc-l.jpg', 'url': 'https://t.co/ZNFjq1BTfp', 'display_url': 'pic.twitter.com/ZNFjq1BTfp', 'expanded_url': 'https://twitter.com/astro_ricky/status/1035598845533741056/video/1', 'type': 'photo', 'sizes': {'thumb': {'w': 150, 'h': 150, 'resize': 'crop'}, 'large': {'w': 640, 'h': 360, 'resize': 'fit'}, 'medium': {'w': 640, 'h': 360, 'resize': 'fit'}, 'small': {'w': 640, 'h': 360, 'resize': 'fit'}}, 'source_status_id': 1035598845533741056, 'source_status_id_str': '1035598845533741056', 'source_user_id': 879153462, 'source_user_id_str': '879153462'}]}, 'extended_entities': {'media': [{'id': 1035598074096353280, 'id_str': '1035598074096353280', 'indices': [54, 77], 'media_url': 'http://pbs.twimg.com/media/Dl8vlHGXsAAIc-l.jpg', 'media_url_https': 'https://pbs.twimg.com/media/Dl8vlHGXsAAIc-l.jpg', 'url': 'https://t.co/ZNFjq1BTfp', 'display_url': 'pic.twitter.com/ZNFjq1BTfp', 'expanded_url': 'https://twitter.com/astro_ricky/status/1035598845533741056/video/1', 'type': 'video', 'sizes': {'thumb': {'w': 150, 'h': 150, 'resize': 'crop'}, 'large': {'w': 640, 'h': 360, 'resize': 'fit'}, 'medium': {'w': 640, 'h': 360, 'resize': 'fit'}, 'small': {'w': 640, 'h': 360, 'resize': 'fit'}}, 'source_status_id': 1035598845533741056, 'source_status_id_str': '1035598845533741056', 'source_user_id': 879153462, 'source_user_id_str': '879153462', 'video_info': {'aspect_ratio': [16, 9], 'duration_millis': 59500, 'variants': [{'bitrate': 832000, 'content_type': 'video/mp4', 'url': 'https://video.twimg.com/amplify_video/1035598074096353280/vid/640x360/w0yHAKNbJRjpEUaX.mp4?tag=8'}, {'bitrate': 288000, 'content_type': 'video/mp4', 'url': 'https://video.twimg.com/amplify_video/1035598074096353280/vid/320x180/4EYYOtyxyWQBhOEf.mp4?tag=8'}, {'bitrate': 2176000, 'content_type': 'video/mp4', 'url': 'https://video.twimg.com/amplify_video/1035598074096353280/vid/1280x720/EnBY2ZWNYBYynyRc.mp4?tag=8'}, {'content_type': 'application/x-mpegURL', 'url': 'https://video.twimg.com/amplify_video/1035598074096353280/pl/3yozBqpKC4id7Jv6.m3u8?tag=8'}]}, 'additional_media_info': {'title': '', 'description': '', 'embeddable': True, 'monetizable': False, 'source_user': {'id': 879153462, 'id_str': '879153462', 'name': 'Ricky Arnold', 'screen_name': 'astro_ricky', 'location': 'Houston, TX', 'description': 'Astronaut (STS-119, Expedition 55/56, NEEMO 13, #CAVES2016) & Educator. Currently onboard @Space_Station for Exp. 55/56. Tweets are my own. IG:@astro_ricky', 'url': 'https://t.co/N2SiojXILw', 'entities': {'url': {'urls': [{'url': 'https://t.co/N2SiojXILw', 'expanded_url': 'https://www.nasa.gov/astronauts/biographies/richard-r-arnold', 'display_url': 'nasa.gov/astronauts/bio…', 'indices': [0, 23]}]}, 'description': {'urls': []}}, 'protected': False, 'followers_count': 44304, 'friends_count': 138, 'listed_count': 567, 'created_at': 'Sun Oct 14 02:35:14 +0000 2012', 'favourites_count': 617, 'utc_offset': None, 'time_zone': None, 'geo_enabled': True, 'verified': True, 'statuses_count': 1618, 'lang': 'en', 'contributors_enabled': False, 'is_translator': False, 'is_translation_enabled': False, 'profile_background_color': 'C0DEED', 'profile_background_image_url': 'http://abs.twimg.com/images/themes/theme1/bg.png', 'profile_background_image_url_https': 'https://abs.twimg.com/images/themes/theme1/bg.png', 'profile_background_tile': True, 'profile_image_url': 'http://pbs.twimg.com/profile_images/378800000209821263/e711f1ee10aac4b1dbac19cb251f579f_normal.jpeg', 'profile_image_url_https': 'https://pbs.twimg.com/profile_images/378800000209821263/e711f1ee10aac4b1dbac19cb251f579f_normal.jpeg', 'profile_banner_url': 'https://pbs.twimg.com/profile_banners/879153462/1370526674', 'profile_link_color': '0084B4', 'profile_sidebar_border_color': 'FFFFFF', 'profile_sidebar_fill_color': 'DDEEF6', 'profile_text_color': '333333', 'profile_use_background_image': True, 'has_extended_profile': False, 'default_profile': False, 'default_profile_image': False, 'following': False, 'follow_request_sent': False, 'notifications': False, 'translator_type': 'none'}}}]}, 'source': '<a href=\"https://www.sprinklr.com\" rel=\"nofollow\">Sprinklr</a>', 'in_reply_to_status_id': None, 'in_reply_to_status_id_str': None, 'in_reply_to_user_id': None, 'in_reply_to_user_id_str': None, 'in_reply_to_screen_name': None, 'user': {'id': 11348282, 'id_str': '11348282', 'name': 'NASA', 'screen_name': 'NASA', 'location': '', 'description': 'Explore the universe and discover our home planet with @NASA. We usually post in EST (UTC-5)', 'url': 'https://t.co/TcEE6NS8nD', 'entities': {'url': {'urls': [{'url': 'https://t.co/TcEE6NS8nD', 'expanded_url': 'http://www.nasa.gov', 'display_url': 'nasa.gov', 'indices': [0, 23]}]}, 'description': {'urls': []}}, 'protected': False, 'followers_count': 29466077, 'friends_count': 287, 'listed_count': 91879, 'created_at': 'Wed Dec 19 20:20:32 +0000 2007', 'favourites_count': 3947, 'utc_offset': None, 'time_zone': None, 'geo_enabled': False, 'verified': True, 'statuses_count': 53099, 'lang': 'en', 'contributors_enabled': False, 'is_translator': False, 'is_translation_enabled': False, 'profile_background_color': '000000', 'profile_background_image_url': 'http://abs.twimg.com/images/themes/theme1/bg.png', 'profile_background_image_url_https': 'https://abs.twimg.com/images/themes/theme1/bg.png', 'profile_background_tile': False, 'profile_image_url': 'http://pbs.twimg.com/profile_images/188302352/nasalogo_twitter_normal.jpg', 'profile_image_url_https': 'https://pbs.twimg.com/profile_images/188302352/nasalogo_twitter_normal.jpg', 'profile_banner_url': 'https://pbs.twimg.com/profile_banners/11348282/1535145490', 'profile_link_color': '205BA7', 'profile_sidebar_border_color': '000000', 'profile_sidebar_fill_color': 'F3F2F2', 'profile_text_color': '000000', 'profile_use_background_image': True, 'has_extended_profile': True, 'default_profile': False, 'default_profile_image': False, 'following': True, 'follow_request_sent': False, 'notifications': False, 'translator_type': 'regular'}, 'geo': None, 'coordinates': None, 'place': None, 'contributors': None, 'retweeted_status': {'created_at': 'Fri Aug 31 18:42:59 +0000 2018', 'id': 1035598845533741056, 'id_str': '1035598845533741056', 'text': 'Orion rises over the dancing aurora. https://t.co/ZNFjq1BTfp', 'truncated': False, 'entities': {'hashtags': [], 'symbols': [], 'user_mentions': [], 'urls': [], 'media': [{'id': 1035598074096353280, 'id_str': '1035598074096353280', 'indices': [37, 60], 'media_url': 'http://pbs.twimg.com/media/Dl8vlHGXsAAIc-l.jpg', 'media_url_https': 'https://pbs.twimg.com/media/Dl8vlHGXsAAIc-l.jpg', 'url': 'https://t.co/ZNFjq1BTfp', 'display_url': 'pic.twitter.com/ZNFjq1BTfp', 'expanded_url': 'https://twitter.com/astro_ricky/status/1035598845533741056/video/1', 'type': 'photo', 'sizes': {'thumb': {'w': 150, 'h': 150, 'resize': 'crop'}, 'large': {'w': 640, 'h': 360, 'resize': 'fit'}, 'medium': {'w': 640, 'h': 360, 'resize': 'fit'}, 'small': {'w': 640, 'h': 360, 'resize': 'fit'}}}]}, 'extended_entities': {'media': [{'id': 1035598074096353280, 'id_str': '1035598074096353280', 'indices': [37, 60], 'media_url': 'http://pbs.twimg.com/media/Dl8vlHGXsAAIc-l.jpg', 'media_url_https': 'https://pbs.twimg.com/media/Dl8vlHGXsAAIc-l.jpg', 'url': 'https://t.co/ZNFjq1BTfp', 'display_url': 'pic.twitter.com/ZNFjq1BTfp', 'expanded_url': 'https://twitter.com/astro_ricky/status/1035598845533741056/video/1', 'type': 'video', 'sizes': {'thumb': {'w': 150, 'h': 150, 'resize': 'crop'}, 'large': {'w': 640, 'h': 360, 'resize': 'fit'}, 'medium': {'w': 640, 'h': 360, 'resize': 'fit'}, 'small': {'w': 640, 'h': 360, 'resize': 'fit'}}, 'video_info': {'aspect_ratio': [16, 9], 'duration_millis': 59500, 'variants': [{'bitrate': 832000, 'content_type': 'video/mp4', 'url': 'https://video.twimg.com/amplify_video/1035598074096353280/vid/640x360/w0yHAKNbJRjpEUaX.mp4?tag=8'}, {'bitrate': 288000, 'content_type': 'video/mp4', 'url': 'https://video.twimg.com/amplify_video/1035598074096353280/vid/320x180/4EYYOtyxyWQBhOEf.mp4?tag=8'}, {'bitrate': 2176000, 'content_type': 'video/mp4', 'url': 'https://video.twimg.com/amplify_video/1035598074096353280/vid/1280x720/EnBY2ZWNYBYynyRc.mp4?tag=8'}, {'content_type': 'application/x-mpegURL', 'url': 'https://video.twimg.com/amplify_video/1035598074096353280/pl/3yozBqpKC4id7Jv6.m3u8?tag=8'}]}, 'additional_media_info': {'title': '', 'description': '', 'embeddable': True, 'monetizable': False}}]}, 'source': '<a href=\"https://studio.twitter.com\" rel=\"nofollow\">Media Studio</a>', 'in_reply_to_status_id': None, 'in_reply_to_status_id_str': None, 'in_reply_to_user_id': None, 'in_reply_to_user_id_str': None, 'in_reply_to_screen_name': None, 'user': {'id': 879153462, 'id_str': '879153462', 'name': 'Ricky Arnold', 'screen_name': 'astro_ricky', 'location': 'Houston, TX', 'description': 'Astronaut (STS-119, Expedition 55/56, NEEMO 13, #CAVES2016) & Educator. Currently onboard @Space_Station for Exp. 55/56. Tweets are my own. IG:@astro_ricky', 'url': 'https://t.co/N2SiojXILw', 'entities': {'url': {'urls': [{'url': 'https://t.co/N2SiojXILw', 'expanded_url': 'https://www.nasa.gov/astronauts/biographies/richard-r-arnold', 'display_url': 'nasa.gov/astronauts/bio…', 'indices': [0, 23]}]}, 'description': {'urls': []}}, 'protected': False, 'followers_count': 44304, 'friends_count': 138, 'listed_count': 567, 'created_at': 'Sun Oct 14 02:35:14 +0000 2012', 'favourites_count': 617, 'utc_offset': None, 'time_zone': None, 'geo_enabled': True, 'verified': True, 'statuses_count': 1618, 'lang': 'en', 'contributors_enabled': False, 'is_translator': False, 'is_translation_enabled': False, 'profile_background_color': 'C0DEED', 'profile_background_image_url': 'http://abs.twimg.com/images/themes/theme1/bg.png', 'profile_background_image_url_https': 'https://abs.twimg.com/images/themes/theme1/bg.png', 'profile_background_tile': True, 'profile_image_url': 'http://pbs.twimg.com/profile_images/378800000209821263/e711f1ee10aac4b1dbac19cb251f579f_normal.jpeg', 'profile_image_url_https': 'https://pbs.twimg.com/profile_images/378800000209821263/e711f1ee10aac4b1dbac19cb251f579f_normal.jpeg', 'profile_banner_url': 'https://pbs.twimg.com/profile_banners/879153462/1370526674', 'profile_link_color': '0084B4', 'profile_sidebar_border_color': 'FFFFFF', 'profile_sidebar_fill_color': 'DDEEF6', 'profile_text_color': '333333', 'profile_use_background_image': True, 'has_extended_profile': False, 'default_profile': False, 'default_profile_image': False, 'following': False, 'follow_request_sent': False, 'notifications': False, 'translator_type': 'none'}, 'geo': None, 'coordinates': None, 'place': None, 'contributors': None, 'is_quote_status': False, 'retweet_count': 1240, 'favorite_count': 3483, 'favorited': False, 'retweeted': False, 'possibly_sensitive': False, 'possibly_sensitive_appealable': False, 'lang': 'en'}, 'is_quote_status': False, 'retweet_count': 1240, 'favorite_count': 0, 'favorited': False, 'retweeted': False, 'possibly_sensitive': False, 'possibly_sensitive_appealable': False, 'lang': 'en'}\n",
      "{'created_at': 'Sat Sep 01 01:07:52 +0000 2018', 'id': 1035695703182516224, 'id_str': '1035695703182516224', 'text': 'From 100+ million miles away, @NASANewHorizons detects its next flyby target, @JimBridenstine visits our west coast… https://t.co/etCgC9fZud', 'truncated': True, 'entities': {'hashtags': [], 'symbols': [], 'user_mentions': [{'screen_name': 'NASANewHorizons', 'name': 'NASA New Horizons', 'id': 2734713482, 'id_str': '2734713482', 'indices': [30, 46]}, {'screen_name': 'JimBridenstine', 'name': 'Jim Bridenstine', 'id': 243418245, 'id_str': '243418245', 'indices': [78, 93]}], 'urls': [{'url': 'https://t.co/etCgC9fZud', 'expanded_url': 'https://twitter.com/i/web/status/1035695703182516224', 'display_url': 'twitter.com/i/web/status/1…', 'indices': [117, 140]}]}, 'source': '<a href=\"https://www.sprinklr.com\" rel=\"nofollow\">Sprinklr</a>', 'in_reply_to_status_id': None, 'in_reply_to_status_id_str': None, 'in_reply_to_user_id': None, 'in_reply_to_user_id_str': None, 'in_reply_to_screen_name': None, 'user': {'id': 11348282, 'id_str': '11348282', 'name': 'NASA', 'screen_name': 'NASA', 'location': '', 'description': 'Explore the universe and discover our home planet with @NASA. We usually post in EST (UTC-5)', 'url': 'https://t.co/TcEE6NS8nD', 'entities': {'url': {'urls': [{'url': 'https://t.co/TcEE6NS8nD', 'expanded_url': 'http://www.nasa.gov', 'display_url': 'nasa.gov', 'indices': [0, 23]}]}, 'description': {'urls': []}}, 'protected': False, 'followers_count': 29466077, 'friends_count': 287, 'listed_count': 91879, 'created_at': 'Wed Dec 19 20:20:32 +0000 2007', 'favourites_count': 3947, 'utc_offset': None, 'time_zone': None, 'geo_enabled': False, 'verified': True, 'statuses_count': 53099, 'lang': 'en', 'contributors_enabled': False, 'is_translator': False, 'is_translation_enabled': False, 'profile_background_color': '000000', 'profile_background_image_url': 'http://abs.twimg.com/images/themes/theme1/bg.png', 'profile_background_image_url_https': 'https://abs.twimg.com/images/themes/theme1/bg.png', 'profile_background_tile': False, 'profile_image_url': 'http://pbs.twimg.com/profile_images/188302352/nasalogo_twitter_normal.jpg', 'profile_image_url_https': 'https://pbs.twimg.com/profile_images/188302352/nasalogo_twitter_normal.jpg', 'profile_banner_url': 'https://pbs.twimg.com/profile_banners/11348282/1535145490', 'profile_link_color': '205BA7', 'profile_sidebar_border_color': '000000', 'profile_sidebar_fill_color': 'F3F2F2', 'profile_text_color': '000000', 'profile_use_background_image': True, 'has_extended_profile': True, 'default_profile': False, 'default_profile_image': False, 'following': True, 'follow_request_sent': False, 'notifications': False, 'translator_type': 'regular'}, 'geo': None, 'coordinates': None, 'place': None, 'contributors': None, 'is_quote_status': False, 'retweet_count': 181, 'favorite_count': 793, 'favorited': False, 'retweeted': False, 'possibly_sensitive': False, 'possibly_sensitive_appealable': False, 'lang': 'en'}\n",
      "{'created_at': 'Fri Aug 31 23:01:03 +0000 2018', 'id': 1035663787033022464, 'id_str': '1035663787033022464', 'text': 'We’re landing a spacecraft on Mars and we want YOU to come behind-the-scenes and help us tell the story! Apply to a… https://t.co/trvrTdUSkR', 'truncated': True, 'entities': {'hashtags': [], 'symbols': [], 'user_mentions': [], 'urls': [{'url': 'https://t.co/trvrTdUSkR', 'expanded_url': 'https://twitter.com/i/web/status/1035663787033022464', 'display_url': 'twitter.com/i/web/status/1…', 'indices': [117, 140]}]}, 'source': '<a href=\"https://www.sprinklr.com\" rel=\"nofollow\">Sprinklr</a>', 'in_reply_to_status_id': None, 'in_reply_to_status_id_str': None, 'in_reply_to_user_id': None, 'in_reply_to_user_id_str': None, 'in_reply_to_screen_name': None, 'user': {'id': 11348282, 'id_str': '11348282', 'name': 'NASA', 'screen_name': 'NASA', 'location': '', 'description': 'Explore the universe and discover our home planet with @NASA. We usually post in EST (UTC-5)', 'url': 'https://t.co/TcEE6NS8nD', 'entities': {'url': {'urls': [{'url': 'https://t.co/TcEE6NS8nD', 'expanded_url': 'http://www.nasa.gov', 'display_url': 'nasa.gov', 'indices': [0, 23]}]}, 'description': {'urls': []}}, 'protected': False, 'followers_count': 29466077, 'friends_count': 287, 'listed_count': 91879, 'created_at': 'Wed Dec 19 20:20:32 +0000 2007', 'favourites_count': 3947, 'utc_offset': None, 'time_zone': None, 'geo_enabled': False, 'verified': True, 'statuses_count': 53099, 'lang': 'en', 'contributors_enabled': False, 'is_translator': False, 'is_translation_enabled': False, 'profile_background_color': '000000', 'profile_background_image_url': 'http://abs.twimg.com/images/themes/theme1/bg.png', 'profile_background_image_url_https': 'https://abs.twimg.com/images/themes/theme1/bg.png', 'profile_background_tile': False, 'profile_image_url': 'http://pbs.twimg.com/profile_images/188302352/nasalogo_twitter_normal.jpg', 'profile_image_url_https': 'https://pbs.twimg.com/profile_images/188302352/nasalogo_twitter_normal.jpg', 'profile_banner_url': 'https://pbs.twimg.com/profile_banners/11348282/1535145490', 'profile_link_color': '205BA7', 'profile_sidebar_border_color': '000000', 'profile_sidebar_fill_color': 'F3F2F2', 'profile_text_color': '000000', 'profile_use_background_image': True, 'has_extended_profile': True, 'default_profile': False, 'default_profile_image': False, 'following': True, 'follow_request_sent': False, 'notifications': False, 'translator_type': 'regular'}, 'geo': None, 'coordinates': None, 'place': None, 'contributors': None, 'is_quote_status': False, 'retweet_count': 418, 'favorite_count': 1644, 'favorited': False, 'retweeted': False, 'possibly_sensitive': False, 'possibly_sensitive_appealable': False, 'lang': 'en'}\n",
      "{'created_at': 'Fri Aug 31 22:04:07 +0000 2018', 'id': 1035649462201458688, 'id_str': '1035649462201458688', 'text': \"How do you efficiently move fluids in space where gravity can't guide its motion? @ISS_Research on @Space_Station m… https://t.co/RDlaQ4A5vL\", 'truncated': True, 'entities': {'hashtags': [], 'symbols': [], 'user_mentions': [{'screen_name': 'ISS_Research', 'name': 'ISS Research', 'id': 189253902, 'id_str': '189253902', 'indices': [82, 95]}, {'screen_name': 'Space_Station', 'name': 'Intl. Space Station', 'id': 1451773004, 'id_str': '1451773004', 'indices': [99, 113]}], 'urls': [{'url': 'https://t.co/RDlaQ4A5vL', 'expanded_url': 'https://twitter.com/i/web/status/1035649462201458688', 'display_url': 'twitter.com/i/web/status/1…', 'indices': [117, 140]}]}, 'source': '<a href=\"https://www.sprinklr.com\" rel=\"nofollow\">Sprinklr</a>', 'in_reply_to_status_id': None, 'in_reply_to_status_id_str': None, 'in_reply_to_user_id': None, 'in_reply_to_user_id_str': None, 'in_reply_to_screen_name': None, 'user': {'id': 11348282, 'id_str': '11348282', 'name': 'NASA', 'screen_name': 'NASA', 'location': '', 'description': 'Explore the universe and discover our home planet with @NASA. We usually post in EST (UTC-5)', 'url': 'https://t.co/TcEE6NS8nD', 'entities': {'url': {'urls': [{'url': 'https://t.co/TcEE6NS8nD', 'expanded_url': 'http://www.nasa.gov', 'display_url': 'nasa.gov', 'indices': [0, 23]}]}, 'description': {'urls': []}}, 'protected': False, 'followers_count': 29466077, 'friends_count': 287, 'listed_count': 91879, 'created_at': 'Wed Dec 19 20:20:32 +0000 2007', 'favourites_count': 3947, 'utc_offset': None, 'time_zone': None, 'geo_enabled': False, 'verified': True, 'statuses_count': 53099, 'lang': 'en', 'contributors_enabled': False, 'is_translator': False, 'is_translation_enabled': False, 'profile_background_color': '000000', 'profile_background_image_url': 'http://abs.twimg.com/images/themes/theme1/bg.png', 'profile_background_image_url_https': 'https://abs.twimg.com/images/themes/theme1/bg.png', 'profile_background_tile': False, 'profile_image_url': 'http://pbs.twimg.com/profile_images/188302352/nasalogo_twitter_normal.jpg', 'profile_image_url_https': 'https://pbs.twimg.com/profile_images/188302352/nasalogo_twitter_normal.jpg', 'profile_banner_url': 'https://pbs.twimg.com/profile_banners/11348282/1535145490', 'profile_link_color': '205BA7', 'profile_sidebar_border_color': '000000', 'profile_sidebar_fill_color': 'F3F2F2', 'profile_text_color': '000000', 'profile_use_background_image': True, 'has_extended_profile': True, 'default_profile': False, 'default_profile_image': False, 'following': True, 'follow_request_sent': False, 'notifications': False, 'translator_type': 'regular'}, 'geo': None, 'coordinates': None, 'place': None, 'contributors': None, 'is_quote_status': False, 'retweet_count': 148, 'favorite_count': 736, 'favorited': False, 'retweeted': False, 'possibly_sensitive': False, 'possibly_sensitive_appealable': False, 'lang': 'en'}\n",
      "{'created_at': 'Fri Aug 31 21:08:01 +0000 2018', 'id': 1035635341078786048, 'id_str': '1035635341078786048', 'text': 'The interaction of a high-velocity young star with the cloud of gas and dust may have created this unusually sharp-… https://t.co/J6uUf7MYMI', 'truncated': True, 'entities': {'hashtags': [], 'symbols': [], 'user_mentions': [], 'urls': [{'url': 'https://t.co/J6uUf7MYMI', 'expanded_url': 'https://twitter.com/i/web/status/1035635341078786048', 'display_url': 'twitter.com/i/web/status/1…', 'indices': [117, 140]}]}, 'source': '<a href=\"https://www.sprinklr.com\" rel=\"nofollow\">Sprinklr</a>', 'in_reply_to_status_id': None, 'in_reply_to_status_id_str': None, 'in_reply_to_user_id': None, 'in_reply_to_user_id_str': None, 'in_reply_to_screen_name': None, 'user': {'id': 11348282, 'id_str': '11348282', 'name': 'NASA', 'screen_name': 'NASA', 'location': '', 'description': 'Explore the universe and discover our home planet with @NASA. We usually post in EST (UTC-5)', 'url': 'https://t.co/TcEE6NS8nD', 'entities': {'url': {'urls': [{'url': 'https://t.co/TcEE6NS8nD', 'expanded_url': 'http://www.nasa.gov', 'display_url': 'nasa.gov', 'indices': [0, 23]}]}, 'description': {'urls': []}}, 'protected': False, 'followers_count': 29466077, 'friends_count': 287, 'listed_count': 91879, 'created_at': 'Wed Dec 19 20:20:32 +0000 2007', 'favourites_count': 3947, 'utc_offset': None, 'time_zone': None, 'geo_enabled': False, 'verified': True, 'statuses_count': 53099, 'lang': 'en', 'contributors_enabled': False, 'is_translator': False, 'is_translation_enabled': False, 'profile_background_color': '000000', 'profile_background_image_url': 'http://abs.twimg.com/images/themes/theme1/bg.png', 'profile_background_image_url_https': 'https://abs.twimg.com/images/themes/theme1/bg.png', 'profile_background_tile': False, 'profile_image_url': 'http://pbs.twimg.com/profile_images/188302352/nasalogo_twitter_normal.jpg', 'profile_image_url_https': 'https://pbs.twimg.com/profile_images/188302352/nasalogo_twitter_normal.jpg', 'profile_banner_url': 'https://pbs.twimg.com/profile_banners/11348282/1535145490', 'profile_link_color': '205BA7', 'profile_sidebar_border_color': '000000', 'profile_sidebar_fill_color': 'F3F2F2', 'profile_text_color': '000000', 'profile_use_background_image': True, 'has_extended_profile': True, 'default_profile': False, 'default_profile_image': False, 'following': True, 'follow_request_sent': False, 'notifications': False, 'translator_type': 'regular'}, 'geo': None, 'coordinates': None, 'place': None, 'contributors': None, 'is_quote_status': False, 'retweet_count': 793, 'favorite_count': 2892, 'favorited': False, 'retweeted': False, 'possibly_sensitive': False, 'possibly_sensitive_appealable': False, 'lang': 'en'}\n",
      "{'created_at': 'Fri Aug 31 19:16:12 +0000 2018', 'id': 1035607203011612672, 'id_str': '1035607203011612672', 'text': 'This week, @Astro_Ricky became the first person in space to sequence RNA. Also, repairs were made to address a leak… https://t.co/bMmuUhfmmW', 'truncated': True, 'entities': {'hashtags': [], 'symbols': [], 'user_mentions': [{'screen_name': 'astro_ricky', 'name': 'Ricky Arnold', 'id': 879153462, 'id_str': '879153462', 'indices': [11, 23]}], 'urls': [{'url': 'https://t.co/bMmuUhfmmW', 'expanded_url': 'https://twitter.com/i/web/status/1035607203011612672', 'display_url': 'twitter.com/i/web/status/1…', 'indices': [117, 140]}]}, 'source': '<a href=\"https://www.sprinklr.com\" rel=\"nofollow\">Sprinklr</a>', 'in_reply_to_status_id': None, 'in_reply_to_status_id_str': None, 'in_reply_to_user_id': None, 'in_reply_to_user_id_str': None, 'in_reply_to_screen_name': None, 'user': {'id': 11348282, 'id_str': '11348282', 'name': 'NASA', 'screen_name': 'NASA', 'location': '', 'description': 'Explore the universe and discover our home planet with @NASA. We usually post in EST (UTC-5)', 'url': 'https://t.co/TcEE6NS8nD', 'entities': {'url': {'urls': [{'url': 'https://t.co/TcEE6NS8nD', 'expanded_url': 'http://www.nasa.gov', 'display_url': 'nasa.gov', 'indices': [0, 23]}]}, 'description': {'urls': []}}, 'protected': False, 'followers_count': 29466077, 'friends_count': 287, 'listed_count': 91879, 'created_at': 'Wed Dec 19 20:20:32 +0000 2007', 'favourites_count': 3947, 'utc_offset': None, 'time_zone': None, 'geo_enabled': False, 'verified': True, 'statuses_count': 53099, 'lang': 'en', 'contributors_enabled': False, 'is_translator': False, 'is_translation_enabled': False, 'profile_background_color': '000000', 'profile_background_image_url': 'http://abs.twimg.com/images/themes/theme1/bg.png', 'profile_background_image_url_https': 'https://abs.twimg.com/images/themes/theme1/bg.png', 'profile_background_tile': False, 'profile_image_url': 'http://pbs.twimg.com/profile_images/188302352/nasalogo_twitter_normal.jpg', 'profile_image_url_https': 'https://pbs.twimg.com/profile_images/188302352/nasalogo_twitter_normal.jpg', 'profile_banner_url': 'https://pbs.twimg.com/profile_banners/11348282/1535145490', 'profile_link_color': '205BA7', 'profile_sidebar_border_color': '000000', 'profile_sidebar_fill_color': 'F3F2F2', 'profile_text_color': '000000', 'profile_use_background_image': True, 'has_extended_profile': True, 'default_profile': False, 'default_profile_image': False, 'following': True, 'follow_request_sent': False, 'notifications': False, 'translator_type': 'regular'}, 'geo': None, 'coordinates': None, 'place': None, 'contributors': None, 'is_quote_status': False, 'retweet_count': 293, 'favorite_count': 1321, 'favorited': False, 'retweeted': False, 'possibly_sensitive': False, 'possibly_sensitive_appealable': False, 'lang': 'en'}\n",
      "{'created_at': 'Fri Aug 31 17:32:01 +0000 2018', 'id': 1035580982781521920, 'id_str': '1035580982781521920', 'text': \"We're about to launch advanced lasers to space so that @NASA_ICE's #ICESat2 can provide critical observations of ho… https://t.co/Kf09YuueIB\", 'truncated': True, 'entities': {'hashtags': [{'text': 'ICESat2', 'indices': [67, 75]}], 'symbols': [], 'user_mentions': [{'screen_name': 'NASA_ICE', 'name': 'NASA ICE', 'id': 67059584, 'id_str': '67059584', 'indices': [55, 64]}], 'urls': [{'url': 'https://t.co/Kf09YuueIB', 'expanded_url': 'https://twitter.com/i/web/status/1035580982781521920', 'display_url': 'twitter.com/i/web/status/1…', 'indices': [117, 140]}]}, 'source': '<a href=\"https://www.sprinklr.com\" rel=\"nofollow\">Sprinklr</a>', 'in_reply_to_status_id': None, 'in_reply_to_status_id_str': None, 'in_reply_to_user_id': None, 'in_reply_to_user_id_str': None, 'in_reply_to_screen_name': None, 'user': {'id': 11348282, 'id_str': '11348282', 'name': 'NASA', 'screen_name': 'NASA', 'location': '', 'description': 'Explore the universe and discover our home planet with @NASA. We usually post in EST (UTC-5)', 'url': 'https://t.co/TcEE6NS8nD', 'entities': {'url': {'urls': [{'url': 'https://t.co/TcEE6NS8nD', 'expanded_url': 'http://www.nasa.gov', 'display_url': 'nasa.gov', 'indices': [0, 23]}]}, 'description': {'urls': []}}, 'protected': False, 'followers_count': 29466077, 'friends_count': 287, 'listed_count': 91879, 'created_at': 'Wed Dec 19 20:20:32 +0000 2007', 'favourites_count': 3947, 'utc_offset': None, 'time_zone': None, 'geo_enabled': False, 'verified': True, 'statuses_count': 53099, 'lang': 'en', 'contributors_enabled': False, 'is_translator': False, 'is_translation_enabled': False, 'profile_background_color': '000000', 'profile_background_image_url': 'http://abs.twimg.com/images/themes/theme1/bg.png', 'profile_background_image_url_https': 'https://abs.twimg.com/images/themes/theme1/bg.png', 'profile_background_tile': False, 'profile_image_url': 'http://pbs.twimg.com/profile_images/188302352/nasalogo_twitter_normal.jpg', 'profile_image_url_https': 'https://pbs.twimg.com/profile_images/188302352/nasalogo_twitter_normal.jpg', 'profile_banner_url': 'https://pbs.twimg.com/profile_banners/11348282/1535145490', 'profile_link_color': '205BA7', 'profile_sidebar_border_color': '000000', 'profile_sidebar_fill_color': 'F3F2F2', 'profile_text_color': '000000', 'profile_use_background_image': True, 'has_extended_profile': True, 'default_profile': False, 'default_profile_image': False, 'following': True, 'follow_request_sent': False, 'notifications': False, 'translator_type': 'regular'}, 'geo': None, 'coordinates': None, 'place': None, 'contributors': None, 'is_quote_status': False, 'retweet_count': 246, 'favorite_count': 1147, 'favorited': False, 'retweeted': False, 'possibly_sensitive': False, 'possibly_sensitive_appealable': False, 'lang': 'en'}\n",
      "{'created_at': 'Fri Aug 31 16:26:01 +0000 2018', 'id': 1035564374012977152, 'id_str': '1035564374012977152', 'text': 'Earlier this month, we announced the nine @NASA_Astronauts who will launch to space from American soil since the fi… https://t.co/kdA0LweEtg', 'truncated': True, 'entities': {'hashtags': [], 'symbols': [], 'user_mentions': [{'screen_name': 'NASA_Astronauts', 'name': 'NASA Astronauts', 'id': 43166813, 'id_str': '43166813', 'indices': [42, 58]}], 'urls': [{'url': 'https://t.co/kdA0LweEtg', 'expanded_url': 'https://twitter.com/i/web/status/1035564374012977152', 'display_url': 'twitter.com/i/web/status/1…', 'indices': [117, 140]}]}, 'source': '<a href=\"https://www.sprinklr.com\" rel=\"nofollow\">Sprinklr</a>', 'in_reply_to_status_id': None, 'in_reply_to_status_id_str': None, 'in_reply_to_user_id': None, 'in_reply_to_user_id_str': None, 'in_reply_to_screen_name': None, 'user': {'id': 11348282, 'id_str': '11348282', 'name': 'NASA', 'screen_name': 'NASA', 'location': '', 'description': 'Explore the universe and discover our home planet with @NASA. We usually post in EST (UTC-5)', 'url': 'https://t.co/TcEE6NS8nD', 'entities': {'url': {'urls': [{'url': 'https://t.co/TcEE6NS8nD', 'expanded_url': 'http://www.nasa.gov', 'display_url': 'nasa.gov', 'indices': [0, 23]}]}, 'description': {'urls': []}}, 'protected': False, 'followers_count': 29466077, 'friends_count': 287, 'listed_count': 91879, 'created_at': 'Wed Dec 19 20:20:32 +0000 2007', 'favourites_count': 3947, 'utc_offset': None, 'time_zone': None, 'geo_enabled': False, 'verified': True, 'statuses_count': 53099, 'lang': 'en', 'contributors_enabled': False, 'is_translator': False, 'is_translation_enabled': False, 'profile_background_color': '000000', 'profile_background_image_url': 'http://abs.twimg.com/images/themes/theme1/bg.png', 'profile_background_image_url_https': 'https://abs.twimg.com/images/themes/theme1/bg.png', 'profile_background_tile': False, 'profile_image_url': 'http://pbs.twimg.com/profile_images/188302352/nasalogo_twitter_normal.jpg', 'profile_image_url_https': 'https://pbs.twimg.com/profile_images/188302352/nasalogo_twitter_normal.jpg', 'profile_banner_url': 'https://pbs.twimg.com/profile_banners/11348282/1535145490', 'profile_link_color': '205BA7', 'profile_sidebar_border_color': '000000', 'profile_sidebar_fill_color': 'F3F2F2', 'profile_text_color': '000000', 'profile_use_background_image': True, 'has_extended_profile': True, 'default_profile': False, 'default_profile_image': False, 'following': True, 'follow_request_sent': False, 'notifications': False, 'translator_type': 'regular'}, 'geo': None, 'coordinates': None, 'place': None, 'contributors': None, 'is_quote_status': False, 'retweet_count': 542, 'favorite_count': 2340, 'favorited': False, 'retweeted': False, 'possibly_sensitive': False, 'possibly_sensitive_appealable': False, 'lang': 'en'}\n",
      "{'created_at': 'Fri Aug 31 15:30:03 +0000 2018', 'id': 1035550290441846784, 'id_str': '1035550290441846784', 'text': '[RPT] Close Mars: https://t.co/7XqKomVoI5', 'truncated': False, 'entities': {'hashtags': [], 'symbols': [], 'user_mentions': [], 'urls': [{'url': 'https://t.co/7XqKomVoI5', 'expanded_url': 'https://apod.nasa.gov/apod/ap180831.html', 'display_url': 'apod.nasa.gov/apod/ap180831.…', 'indices': [18, 41]}]}, 'source': '<a href=\"http://apod.nasa.gov/\" rel=\"nofollow\">The Cosmos</a>', 'in_reply_to_status_id': None, 'in_reply_to_status_id_str': None, 'in_reply_to_user_id': None, 'in_reply_to_user_id_str': None, 'in_reply_to_screen_name': None, 'user': {'id': 8295072, 'id_str': '8295072', 'name': 'Astronomy Picture Of The Day', 'screen_name': 'apod', 'location': 'Earth', 'description': 'Each day a different image of our universe along with a brief explanation. For issues with this account contact @astronomyblog otherwise https://t.co/KQcnIB8dQf', 'url': 'http://t.co/VqLpAtVlKg', 'entities': {'url': {'urls': [{'url': 'http://t.co/VqLpAtVlKg', 'expanded_url': 'http://apod.nasa.gov/apod/astropix.html', 'display_url': 'apod.nasa.gov/apod/astropix.…', 'indices': [0, 22]}]}, 'description': {'urls': [{'url': 'https://t.co/KQcnIB8dQf', 'expanded_url': 'http://apod.nasa.gov/apod/lib/apsubmit2015.html', 'display_url': 'apod.nasa.gov/apod/lib/apsub…', 'indices': [137, 160]}]}}, 'protected': False, 'followers_count': 1289598, 'friends_count': 19, 'listed_count': 11908, 'created_at': 'Mon Aug 20 01:01:43 +0000 2007', 'favourites_count': 0, 'utc_offset': None, 'time_zone': None, 'geo_enabled': False, 'verified': False, 'statuses_count': 5685, 'lang': 'en', 'contributors_enabled': False, 'is_translator': False, 'is_translation_enabled': False, 'profile_background_color': 'F5F5FF', 'profile_background_image_url': 'http://abs.twimg.com/images/themes/theme1/bg.png', 'profile_background_image_url_https': 'https://abs.twimg.com/images/themes/theme1/bg.png', 'profile_background_tile': False, 'profile_image_url': 'http://pbs.twimg.com/profile_images/19829782/apod_normal.png', 'profile_image_url_https': 'https://pbs.twimg.com/profile_images/19829782/apod_normal.png', 'profile_banner_url': 'https://pbs.twimg.com/profile_banners/8295072/1449972142', 'profile_link_color': '0000FF', 'profile_sidebar_border_color': 'BCBCBC', 'profile_sidebar_fill_color': 'F5F5FF', 'profile_text_color': '000000', 'profile_use_background_image': False, 'has_extended_profile': False, 'default_profile': False, 'default_profile_image': False, 'following': True, 'follow_request_sent': False, 'notifications': False, 'translator_type': 'none'}, 'geo': None, 'coordinates': None, 'place': None, 'contributors': None, 'is_quote_status': False, 'retweet_count': 20, 'favorite_count': 80, 'favorited': False, 'retweeted': False, 'possibly_sensitive': False, 'possibly_sensitive_appealable': False, 'lang': 'en'}\n",
      "{'created_at': 'Fri Aug 31 15:29:00 +0000 2018', 'id': 1035550026112659456, 'id_str': '1035550026112659456', 'text': \"RT @NASAGroundSys: Check out the following awesome time-lapse footage of the ML making it's way out to the Pad @NASAKennedy! The footage yo…\", 'truncated': False, 'entities': {'hashtags': [], 'symbols': [], 'user_mentions': [{'screen_name': 'NASAGroundSys', 'name': \"NASA's Exploration Ground Systems\", 'id': 2903872024, 'id_str': '2903872024', 'indices': [3, 17]}, {'screen_name': 'NASAKennedy', 'name': 'NASA Kennedy / KSC', 'id': 16580226, 'id_str': '16580226', 'indices': [111, 123]}], 'urls': []}, 'source': '<a href=\"https://www.sprinklr.com\" rel=\"nofollow\">Sprinklr</a>', 'in_reply_to_status_id': None, 'in_reply_to_status_id_str': None, 'in_reply_to_user_id': None, 'in_reply_to_user_id_str': None, 'in_reply_to_screen_name': None, 'user': {'id': 11348282, 'id_str': '11348282', 'name': 'NASA', 'screen_name': 'NASA', 'location': '', 'description': 'Explore the universe and discover our home planet with @NASA. We usually post in EST (UTC-5)', 'url': 'https://t.co/TcEE6NS8nD', 'entities': {'url': {'urls': [{'url': 'https://t.co/TcEE6NS8nD', 'expanded_url': 'http://www.nasa.gov', 'display_url': 'nasa.gov', 'indices': [0, 23]}]}, 'description': {'urls': []}}, 'protected': False, 'followers_count': 29466077, 'friends_count': 287, 'listed_count': 91879, 'created_at': 'Wed Dec 19 20:20:32 +0000 2007', 'favourites_count': 3947, 'utc_offset': None, 'time_zone': None, 'geo_enabled': False, 'verified': True, 'statuses_count': 53099, 'lang': 'en', 'contributors_enabled': False, 'is_translator': False, 'is_translation_enabled': False, 'profile_background_color': '000000', 'profile_background_image_url': 'http://abs.twimg.com/images/themes/theme1/bg.png', 'profile_background_image_url_https': 'https://abs.twimg.com/images/themes/theme1/bg.png', 'profile_background_tile': False, 'profile_image_url': 'http://pbs.twimg.com/profile_images/188302352/nasalogo_twitter_normal.jpg', 'profile_image_url_https': 'https://pbs.twimg.com/profile_images/188302352/nasalogo_twitter_normal.jpg', 'profile_banner_url': 'https://pbs.twimg.com/profile_banners/11348282/1535145490', 'profile_link_color': '205BA7', 'profile_sidebar_border_color': '000000', 'profile_sidebar_fill_color': 'F3F2F2', 'profile_text_color': '000000', 'profile_use_background_image': True, 'has_extended_profile': True, 'default_profile': False, 'default_profile_image': False, 'following': True, 'follow_request_sent': False, 'notifications': False, 'translator_type': 'regular'}, 'geo': None, 'coordinates': None, 'place': None, 'contributors': None, 'retweeted_status': {'created_at': 'Fri Aug 31 15:02:24 +0000 2018', 'id': 1035543330103414785, 'id_str': '1035543330103414785', 'text': \"Check out the following awesome time-lapse footage of the ML making it's way out to the Pad @NASAKennedy! The foota… https://t.co/o1j0cswSIO\", 'truncated': True, 'entities': {'hashtags': [], 'symbols': [], 'user_mentions': [{'screen_name': 'NASAKennedy', 'name': 'NASA Kennedy / KSC', 'id': 16580226, 'id_str': '16580226', 'indices': [92, 104]}], 'urls': [{'url': 'https://t.co/o1j0cswSIO', 'expanded_url': 'https://twitter.com/i/web/status/1035543330103414785', 'display_url': 'twitter.com/i/web/status/1…', 'indices': [117, 140]}]}, 'source': '<a href=\"http://twitter.com\" rel=\"nofollow\">Twitter Web Client</a>', 'in_reply_to_status_id': None, 'in_reply_to_status_id_str': None, 'in_reply_to_user_id': None, 'in_reply_to_user_id_str': None, 'in_reply_to_screen_name': None, 'user': {'id': 2903872024, 'id_str': '2903872024', 'name': \"NASA's Exploration Ground Systems\", 'screen_name': 'NASAGroundSys', 'location': 'Kennedy Space Center', 'description': 'Exploration Ground Systems is engineering launch and recovery innovations that unlock mankind’s destiny to expand human presence into deep space.', 'url': 'https://t.co/bEB5oZiOFR', 'entities': {'url': {'urls': [{'url': 'https://t.co/bEB5oZiOFR', 'expanded_url': 'http://nasa.gov/groundsystems', 'display_url': 'nasa.gov/groundsystems', 'indices': [0, 23]}]}, 'description': {'urls': []}}, 'protected': False, 'followers_count': 8208, 'friends_count': 146, 'listed_count': 214, 'created_at': 'Wed Dec 03 14:57:36 +0000 2014', 'favourites_count': 1651, 'utc_offset': None, 'time_zone': None, 'geo_enabled': True, 'verified': True, 'statuses_count': 1355, 'lang': 'en', 'contributors_enabled': False, 'is_translator': False, 'is_translation_enabled': False, 'profile_background_color': 'C0DEED', 'profile_background_image_url': 'http://abs.twimg.com/images/themes/theme1/bg.png', 'profile_background_image_url_https': 'https://abs.twimg.com/images/themes/theme1/bg.png', 'profile_background_tile': False, 'profile_image_url': 'http://pbs.twimg.com/profile_images/986638157415440386/Vv9vSyU6_normal.jpg', 'profile_image_url_https': 'https://pbs.twimg.com/profile_images/986638157415440386/Vv9vSyU6_normal.jpg', 'profile_banner_url': 'https://pbs.twimg.com/profile_banners/2903872024/1533585475', 'profile_link_color': '0E71D7', 'profile_sidebar_border_color': 'C0DEED', 'profile_sidebar_fill_color': 'DDEEF6', 'profile_text_color': '333333', 'profile_use_background_image': True, 'has_extended_profile': False, 'default_profile': False, 'default_profile_image': False, 'following': False, 'follow_request_sent': False, 'notifications': False, 'translator_type': 'none'}, 'geo': None, 'coordinates': None, 'place': None, 'contributors': None, 'is_quote_status': False, 'retweet_count': 331, 'favorite_count': 1188, 'favorited': False, 'retweeted': False, 'possibly_sensitive': False, 'possibly_sensitive_appealable': False, 'lang': 'en'}, 'is_quote_status': False, 'retweet_count': 331, 'favorite_count': 0, 'favorited': False, 'retweeted': False, 'lang': 'en'}\n"
     ]
    }
   ],
   "source": [
    "for status in tweepy.Cursor(api.home_timeline).items(10):\n",
    "    # Process a single status\n",
    "    print(status._json)"
   ]
  },
  {
   "cell_type": "code",
   "execution_count": 64,
   "metadata": {},
   "outputs": [
    {
     "name": "stdout",
     "output_type": "stream",
     "text": [
      "Curiosity Rover\n",
      "White House Live\n",
      "WH Live (Archived)\n",
      "NASA\n",
      "Astronomy Picture Of The Day\n"
     ]
    }
   ],
   "source": [
    "## getting list of users I am following (api - friends)\n",
    "# GET/request endpoint of twitter\n",
    "for friend in tweepy.Cursor(api.friends).items():\n",
    "    print(friend._json['name'])"
   ]
  },
  {
   "cell_type": "code",
   "execution_count": 46,
   "metadata": {
    "scrolled": true
   },
   "outputs": [
    {
     "name": "stdout",
     "output_type": "stream",
     "text": [
      "RT @astro_ricky: Orion rises over the dancing aurora. https://t.co/ZNFjq1BTfp\n",
      "From 100+ million miles away, @NASANewHorizons detects its next flyby target, @JimBridenstine visits our west coast… https://t.co/etCgC9fZud\n",
      "We’re landing a spacecraft on Mars and we want YOU to come behind-the-scenes and help us tell the story! Apply to a… https://t.co/trvrTdUSkR\n",
      "How do you efficiently move fluids in space where gravity can't guide its motion? @ISS_Research on @Space_Station m… https://t.co/RDlaQ4A5vL\n",
      "The interaction of a high-velocity young star with the cloud of gas and dust may have created this unusually sharp-… https://t.co/J6uUf7MYMI\n",
      "This week, @Astro_Ricky became the first person in space to sequence RNA. Also, repairs were made to address a leak… https://t.co/bMmuUhfmmW\n",
      "We're about to launch advanced lasers to space so that @NASA_ICE's #ICESat2 can provide critical observations of ho… https://t.co/Kf09YuueIB\n",
      "Earlier this month, we announced the nine @NASA_Astronauts who will launch to space from American soil since the fi… https://t.co/kdA0LweEtg\n",
      "[RPT] Close Mars: https://t.co/7XqKomVoI5\n",
      "RT @NASAGroundSys: Check out the following awesome time-lapse footage of the ML making it's way out to the Pad @NASAKennedy! The footage yo…\n",
      "RT @Astro_Feustel: #SpaceArt compliments of @GrandCanyonNPS. The river does not cut deeper into the rock, rather the continent lifts around…\n",
      "Close Mars: https://t.co/7XqKomDNjv\n",
      "Join us behind-the-scenes as we land @NASAInSight on Mars! Apply to attend a #NASASocial event at @NASAJPL in CA No… https://t.co/PG2BpY2HKJ\n",
      "Located in the heart of California's Silicon Valley, our @NASAAmes Research Center conducts world-class research &amp;… https://t.co/AXVAbaUHWV\n",
      "We need your help! Want to see panels at @SXSW related to space exploration? There are a number of exciting panels… https://t.co/FRXGXp0p5F\n",
      "Martian skies are clearing over @MarsRovers Opportunity. Engineers believe the nearly 15-year-old, solar-powered ro… https://t.co/TAjloMxMw8\n",
      "LIVE NOW: Hear from the top with Administrator @JimBridenstine, plus hear from scientists searching for life beyond… https://t.co/TIvmlAsaNu\n",
      "RT @JimBridenstine: About to go live on NASA in Silicon Valley at @NASAAmes. Tune in and ask questions at 4pm PT on @Twitch: https://t.co/l…\n",
      "Go behind-the-scenes and hear from the top with Administrator @JimBridenstine, plus hear from scientists searching… https://t.co/nbs0UwFRx6\n",
      "Cabin pressure on @Space_Station is holding steady after the crew conducted repair work on one of two Russian Soyuz… https://t.co/Sx4Yh8gPKc\n"
     ]
    }
   ],
   "source": [
    "#printing tweets (api - home_timeline)\n",
    "public_tweets = api.home_timeline()\n",
    "for tweet in public_tweets:\n",
    "    print(tweet.text)"
   ]
  },
  {
   "cell_type": "code",
   "execution_count": 47,
   "metadata": {},
   "outputs": [],
   "source": [
    "## tweets in the user time line (api - user_timeline)\n",
    "for tweet in tweepy.Cursor(api.user_timeline).items():\n",
    "    process_or_store(tweet._json)"
   ]
  },
  {
   "cell_type": "code",
   "execution_count": 359,
   "metadata": {},
   "outputs": [],
   "source": [
    "#getting all the juulvapor tweets and creating a csv file\n",
    "def generic_info():\n",
    "    columns = ['id','created_at','text','tweet_hashtags','tweet_retweetCount','likes','user','user_friends',]\n",
    "    df = pd.concat([pd.DataFrame(\n",
    "       [(tweet.id,\n",
    "         tweet.created_at,\n",
    "         tweet.text,\n",
    "         [element['text'] for element in tweet.entities['hashtags']],\n",
    "         tweet.retweet_count,\n",
    "         tweet.favorite_count,\n",
    "         tweet.user.screen_name,\n",
    "         tweet.user.friends,\n",
    "        )]\n",
    "        ,columns=columns) \n",
    "            for tweet in tweepy.Cursor(api.search,q=('#juulvapor OR #juulnation OR #doit4juul OR #juul'),lang=\"en\",since_id=\"2018-01-01\").items()],\n",
    "                ignore_index=True)\n",
    "    return df"
   ]
  },
  {
   "cell_type": "code",
   "execution_count": 66,
   "metadata": {
    "scrolled": true
   },
   "outputs": [],
   "source": [
    "#2 sep 2018\n",
    "# getting all the user info in the twitter\n",
    "#getting all the retweet counts\n",
    "# need to change the inception ID\n",
    "\n",
    "def userInfo():\n",
    "    columns = ['tweet_id','user_id','user.name','user_desc','user_followerCount','user_friendsCount',\n",
    "           'userCreatedAt','userFavriteCount','userProfileImageUrl','userFriendslist']\n",
    "    df_test = pd.concat(\n",
    "        [pd.DataFrame(\n",
    "        [(tweet.id,\n",
    "          tweet.user.id,\n",
    "          tweet.user.name,\n",
    "          tweet.user.description,\n",
    "          tweet.user.followers_count,\n",
    "          tweet.user.friends_count,\n",
    "          tweet.user.created_at,\n",
    "          tweet.user.favourites_count,\n",
    "          tweet.user.profile_image_url,\n",
    "          [friend for friend in tweepy.Cursor(api.friends_ids, id= tweet.user.id, lang=\"en\",since_id= \"2018-08-08\").items(6)]\n",
    "         )]\n",
    "         ,columns=columns) \n",
    "            for tweet in tweepy.Cursor(api.search,q=('#juulvapor OR #juulnation OR #doit4juul OR #juul'),lang=\"en\",since_id=\"2018-01-01\").items(1)],\n",
    "                ignore_index=True)\n",
    "    return(df_test)"
   ]
  },
  {
   "cell_type": "markdown",
   "metadata": {},
   "source": [
    "## Creating a different table for friends list and their description"
   ]
  },
  {
   "cell_type": "code",
   "execution_count": 364,
   "metadata": {},
   "outputs": [],
   "source": [
    "df = generic_info()"
   ]
  },
  {
   "cell_type": "code",
   "execution_count": 67,
   "metadata": {},
   "outputs": [],
   "source": [
    "dfUser = userInfo()"
   ]
  },
  {
   "cell_type": "code",
   "execution_count": 324,
   "metadata": {},
   "outputs": [],
   "source": [
    "result = pd.concat([df,dfUser],axis=1)"
   ]
  },
  {
   "cell_type": "markdown",
   "metadata": {},
   "source": [
    "#### API.get_user(id/user_id/screen_name): to get all the user info"
   ]
  },
  {
   "cell_type": "code",
   "execution_count": 16,
   "metadata": {},
   "outputs": [],
   "source": [
    "#@params passing tweet, friendlist and userinfo(in case of following)\n",
    "#returns data frame\n",
    "def getTweetinfo(tweetObj,friendList,user=None):\n",
    "    if user == None:\n",
    "        data = pd.DataFrame(\n",
    "          {\n",
    "             'tweetId':tweetObj.id_str,\n",
    "             'userID':tweetObj.user.id,\n",
    "             'parentID':'None',\n",
    "             'favourites_count':tweetObj.user.favourites_count,\n",
    "             'userName':tweetObj.user.name,\n",
    "             'userDescription':tweetObj.user.description,\n",
    "             'userCreatedAt':tweetObj.user.created_at,\n",
    "             'imageurl':tweetObj.user.profile_image_url,\n",
    "             'userFollowersCount':tweetObj.user.followers_count,\n",
    "             'friendsCount':tweetObj.user.friends_count,\n",
    "             'friendList':[friendList] \n",
    "          })\n",
    "    else:\n",
    "        data = pd.DataFrame(\n",
    "        {\n",
    "             'tweetId': \"None\",\n",
    "             'userID':user.id,\n",
    "             'parentID': tweetObj.user.id,\n",
    "             'favourites_count':\"None\",\n",
    "             'userName': user.name,\n",
    "             'userDescription':user.description,\n",
    "             'userCreatedAt':user.created_at,\n",
    "             'imageurl':user.profile_image_url,\n",
    "             'userFollowersCount':user.followers_count,\n",
    "             'friendsCount':user.friends_count,\n",
    "             'friendList': \"None\"\n",
    "        },index=[0])\n",
    "    return data"
   ]
  },
  {
   "cell_type": "code",
   "execution_count": 17,
   "metadata": {},
   "outputs": [],
   "source": [
    "# function to get twitter and user info and return df\n",
    "#@params api: api_handler, hashtags: query parameters, inceptionDate: start date for hashtags, lang: for language restriction \n",
    "def getTweetInfo(api,queryParams,inceptionDate,lang=\"en\"):\n",
    "    df = pd.DataFrame([])\n",
    "#     df.astype('object')       # as some data contains list\n",
    "    for tweet in tweepy.Cursor(api.search,q= (queryParams),since_id=inceptionDate,lang=lang).items(2): # (lang=en) : for language restriction # items value set only for test\n",
    "        friendList = [friend for friend in tweepy.Cursor(api.friends_ids, id= tweet.user.id).items(5)]  # items value set only for test\n",
    "        data = getTweetinfo(tweet,friendList=friendList)\n",
    "        df = df.append(data,ignore_index=True,sort=False)\n",
    "        for userID in friendList:\n",
    "            user = api.get_user(userID)\n",
    "            userData = getTweetinfo(tweet,friendList=friendList,user=user)\n",
    "            if user.id not in df.userID:  #prevent duplication in data\n",
    "                df = df.append(userData,ignore_index=True,sort=False)\n",
    "    return df"
   ]
  },
  {
   "cell_type": "code",
   "execution_count": 27,
   "metadata": {},
   "outputs": [],
   "source": [
    "hashtags = '#juulvapor OR #juulnation OR #doit4juul OR #juul'\n",
    "lang = \"en\"\n",
    "inceptionDate = \"2018-08-08\"\n",
    "\n",
    "df = getTweetInfo(api,hashtags,inceptionDate)"
   ]
  },
  {
   "cell_type": "code",
   "execution_count": 28,
   "metadata": {},
   "outputs": [
    {
     "data": {
      "text/html": [
       "<div>\n",
       "<style scoped>\n",
       "    .dataframe tbody tr th:only-of-type {\n",
       "        vertical-align: middle;\n",
       "    }\n",
       "\n",
       "    .dataframe tbody tr th {\n",
       "        vertical-align: top;\n",
       "    }\n",
       "\n",
       "    .dataframe thead th {\n",
       "        text-align: right;\n",
       "    }\n",
       "</style>\n",
       "<table border=\"1\" class=\"dataframe\">\n",
       "  <thead>\n",
       "    <tr style=\"text-align: right;\">\n",
       "      <th></th>\n",
       "      <th>tweetId</th>\n",
       "      <th>parentID</th>\n",
       "      <th>favourites_count</th>\n",
       "      <th>userName</th>\n",
       "      <th>userDescription</th>\n",
       "      <th>userCreatedAt</th>\n",
       "      <th>imageurl</th>\n",
       "      <th>userFollowersCount</th>\n",
       "      <th>friendsCount</th>\n",
       "      <th>friendList</th>\n",
       "    </tr>\n",
       "    <tr>\n",
       "      <th>userID</th>\n",
       "      <th></th>\n",
       "      <th></th>\n",
       "      <th></th>\n",
       "      <th></th>\n",
       "      <th></th>\n",
       "      <th></th>\n",
       "      <th></th>\n",
       "      <th></th>\n",
       "      <th></th>\n",
       "      <th></th>\n",
       "    </tr>\n",
       "  </thead>\n",
       "  <tbody>\n",
       "    <tr>\n",
       "      <th>1018940347815223296</th>\n",
       "      <td>1038246360288567298</td>\n",
       "      <td>None</td>\n",
       "      <td>0</td>\n",
       "      <td>kitecharger</td>\n",
       "      <td>#kitecharger pre-sale is here. Click the link ...</td>\n",
       "      <td>2018-07-16 19:28:04</td>\n",
       "      <td>http://pbs.twimg.com/profile_images/1035287714...</td>\n",
       "      <td>31</td>\n",
       "      <td>0</td>\n",
       "      <td>[]</td>\n",
       "    </tr>\n",
       "    <tr>\n",
       "      <th>1018522680671326209</th>\n",
       "      <td>1038245549823193089</td>\n",
       "      <td>None</td>\n",
       "      <td>0</td>\n",
       "      <td>KazPharma</td>\n",
       "      <td>We are a grower and trader of medical cannabis.</td>\n",
       "      <td>2018-07-15 15:48:25</td>\n",
       "      <td>http://pbs.twimg.com/profile_images/1018556587...</td>\n",
       "      <td>915</td>\n",
       "      <td>1274</td>\n",
       "      <td>[961513228105740288, 1025776720446517248, 1032...</td>\n",
       "    </tr>\n",
       "    <tr>\n",
       "      <th>961513228105740288</th>\n",
       "      <td>None</td>\n",
       "      <td>1018522680671326209</td>\n",
       "      <td>None</td>\n",
       "      <td>PinnaclesPro Solutions</td>\n",
       "      <td></td>\n",
       "      <td>2018-02-08 08:13:12</td>\n",
       "      <td>http://pbs.twimg.com/profile_images/1022753073...</td>\n",
       "      <td>121</td>\n",
       "      <td>1460</td>\n",
       "      <td>None</td>\n",
       "    </tr>\n",
       "    <tr>\n",
       "      <th>1025776720446517248</th>\n",
       "      <td>None</td>\n",
       "      <td>1018522680671326209</td>\n",
       "      <td>None</td>\n",
       "      <td>Online Money Making</td>\n",
       "      <td></td>\n",
       "      <td>2018-08-04 16:13:22</td>\n",
       "      <td>http://pbs.twimg.com/profile_images/1034527730...</td>\n",
       "      <td>1735</td>\n",
       "      <td>3046</td>\n",
       "      <td>None</td>\n",
       "    </tr>\n",
       "    <tr>\n",
       "      <th>1032490932073979904</th>\n",
       "      <td>None</td>\n",
       "      <td>1018522680671326209</td>\n",
       "      <td>None</td>\n",
       "      <td>@riserepublic</td>\n",
       "      <td>Marijuana Advocate, Entrepreneur and Cannaisse...</td>\n",
       "      <td>2018-08-23 04:53:15</td>\n",
       "      <td>http://pbs.twimg.com/profile_images/1032632693...</td>\n",
       "      <td>646</td>\n",
       "      <td>3086</td>\n",
       "      <td>None</td>\n",
       "    </tr>\n",
       "    <tr>\n",
       "      <th>1025491672413683712</th>\n",
       "      <td>None</td>\n",
       "      <td>1018522680671326209</td>\n",
       "      <td>None</td>\n",
       "      <td>THC3</td>\n",
       "      <td>Grow Marijuana on the THC3 Blockchain</td>\n",
       "      <td>2018-08-03 21:20:42</td>\n",
       "      <td>http://pbs.twimg.com/profile_images/1033619793...</td>\n",
       "      <td>761</td>\n",
       "      <td>2082</td>\n",
       "      <td>None</td>\n",
       "    </tr>\n",
       "    <tr>\n",
       "      <th>848079397110259712</th>\n",
       "      <td>None</td>\n",
       "      <td>1018522680671326209</td>\n",
       "      <td>None</td>\n",
       "      <td>Follower feels</td>\n",
       "      <td></td>\n",
       "      <td>2017-04-01 07:47:39</td>\n",
       "      <td>http://pbs.twimg.com/profile_images/9458586571...</td>\n",
       "      <td>161436</td>\n",
       "      <td>158740</td>\n",
       "      <td>None</td>\n",
       "    </tr>\n",
       "  </tbody>\n",
       "</table>\n",
       "</div>"
      ],
      "text/plain": [
       "                                 tweetId             parentID  \\\n",
       "userID                                                          \n",
       "1018940347815223296  1038246360288567298                 None   \n",
       "1018522680671326209  1038245549823193089                 None   \n",
       "961513228105740288                  None  1018522680671326209   \n",
       "1025776720446517248                 None  1018522680671326209   \n",
       "1032490932073979904                 None  1018522680671326209   \n",
       "1025491672413683712                 None  1018522680671326209   \n",
       "848079397110259712                  None  1018522680671326209   \n",
       "\n",
       "                    favourites_count                userName  \\\n",
       "userID                                                         \n",
       "1018940347815223296                0             kitecharger   \n",
       "1018522680671326209                0               KazPharma   \n",
       "961513228105740288              None  PinnaclesPro Solutions   \n",
       "1025776720446517248             None     Online Money Making   \n",
       "1032490932073979904             None           @riserepublic   \n",
       "1025491672413683712             None                    THC3   \n",
       "848079397110259712              None          Follower feels   \n",
       "\n",
       "                                                       userDescription  \\\n",
       "userID                                                                   \n",
       "1018940347815223296  #kitecharger pre-sale is here. Click the link ...   \n",
       "1018522680671326209    We are a grower and trader of medical cannabis.   \n",
       "961513228105740288                                                       \n",
       "1025776720446517248                                                      \n",
       "1032490932073979904  Marijuana Advocate, Entrepreneur and Cannaisse...   \n",
       "1025491672413683712              Grow Marijuana on the THC3 Blockchain   \n",
       "848079397110259712                                                       \n",
       "\n",
       "                          userCreatedAt  \\\n",
       "userID                                    \n",
       "1018940347815223296 2018-07-16 19:28:04   \n",
       "1018522680671326209 2018-07-15 15:48:25   \n",
       "961513228105740288  2018-02-08 08:13:12   \n",
       "1025776720446517248 2018-08-04 16:13:22   \n",
       "1032490932073979904 2018-08-23 04:53:15   \n",
       "1025491672413683712 2018-08-03 21:20:42   \n",
       "848079397110259712  2017-04-01 07:47:39   \n",
       "\n",
       "                                                              imageurl  \\\n",
       "userID                                                                   \n",
       "1018940347815223296  http://pbs.twimg.com/profile_images/1035287714...   \n",
       "1018522680671326209  http://pbs.twimg.com/profile_images/1018556587...   \n",
       "961513228105740288   http://pbs.twimg.com/profile_images/1022753073...   \n",
       "1025776720446517248  http://pbs.twimg.com/profile_images/1034527730...   \n",
       "1032490932073979904  http://pbs.twimg.com/profile_images/1032632693...   \n",
       "1025491672413683712  http://pbs.twimg.com/profile_images/1033619793...   \n",
       "848079397110259712   http://pbs.twimg.com/profile_images/9458586571...   \n",
       "\n",
       "                     userFollowersCount  friendsCount  \\\n",
       "userID                                                  \n",
       "1018940347815223296                  31             0   \n",
       "1018522680671326209                 915          1274   \n",
       "961513228105740288                  121          1460   \n",
       "1025776720446517248                1735          3046   \n",
       "1032490932073979904                 646          3086   \n",
       "1025491672413683712                 761          2082   \n",
       "848079397110259712               161436        158740   \n",
       "\n",
       "                                                            friendList  \n",
       "userID                                                                  \n",
       "1018940347815223296                                                 []  \n",
       "1018522680671326209  [961513228105740288, 1025776720446517248, 1032...  \n",
       "961513228105740288                                                None  \n",
       "1025776720446517248                                               None  \n",
       "1032490932073979904                                               None  \n",
       "1025491672413683712                                               None  \n",
       "848079397110259712                                                None  "
      ]
     },
     "execution_count": 28,
     "metadata": {},
     "output_type": "execute_result"
    }
   ],
   "source": [
    "df.set_index('userID')"
   ]
  },
  {
   "cell_type": "code",
   "execution_count": null,
   "metadata": {},
   "outputs": [],
   "source": [
    "df.to_csv()"
   ]
  },
  {
   "cell_type": "code",
   "execution_count": 31,
   "metadata": {},
   "outputs": [],
   "source": [
    "# writing to csv file\n",
    "import os\n",
    "os.chdir('../output')\n",
    "df.to_csv('juul.csv')"
   ]
  },
  {
   "cell_type": "code",
   "execution_count": 131,
   "metadata": {},
   "outputs": [],
   "source": [
    "writer = pd.ExcelWriter('juul.xlsx', engine='xlsxwriter')\n",
    "df.to_excel(writer, sheet_name='Sheet1')"
   ]
  }
 ],
 "metadata": {
  "kernelspec": {
   "display_name": "Python 3",
   "language": "python",
   "name": "python3"
  },
  "language_info": {
   "codemirror_mode": {
    "name": "ipython",
    "version": 3
   },
   "file_extension": ".py",
   "mimetype": "text/x-python",
   "name": "python",
   "nbconvert_exporter": "python",
   "pygments_lexer": "ipython3",
   "version": "3.6.5"
  }
 },
 "nbformat": 4,
 "nbformat_minor": 2
}
