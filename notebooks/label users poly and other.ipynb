{
 "cells": [
  {
   "cell_type": "code",
   "execution_count": 2,
   "metadata": {
    "ExecuteTime": {
     "end_time": "2019-01-12T17:41:48.707586Z",
     "start_time": "2019-01-12T17:41:48.704644Z"
    },
    "collapsed": true
   },
   "outputs": [],
   "source": [
    "# so will label user as poly and mono based on the tweets\n",
    "# will further classify poly into \n",
    "    # talk about drug after their first mention of juul\n",
    "    # talk d before their mention of juul"
   ]
  },
  {
   "cell_type": "code",
   "execution_count": 3,
   "metadata": {
    "ExecuteTime": {
     "end_time": "2019-01-13T23:00:19.282622Z",
     "start_time": "2019-01-13T23:00:19.277932Z"
    },
    "collapsed": false
   },
   "outputs": [],
   "source": [
    "import pandas as pd\n",
    "import numpy as np\n",
    "import tweepy\n",
    "from matplotlib import pyplot as plt\n",
    "from tqdm import tqdm\n",
    "import pickle"
   ]
  },
  {
   "cell_type": "code",
   "execution_count": 10,
   "metadata": {
    "ExecuteTime": {
     "end_time": "2019-01-13T00:45:52.095699Z",
     "start_time": "2019-01-13T00:45:52.092893Z"
    },
    "collapsed": true
   },
   "outputs": [],
   "source": [
    "pd.set_option('display.max_colwidth', -1)"
   ]
  },
  {
   "cell_type": "code",
   "execution_count": 8,
   "metadata": {
    "ExecuteTime": {
     "end_time": "2019-01-13T23:03:18.360175Z",
     "start_time": "2019-01-13T23:03:08.145813Z"
    },
    "collapsed": false
   },
   "outputs": [],
   "source": [
    "# need to change with 3200 limit data\n",
    "df_timeline = pd.read_csv(\"/home/akshayuppal3/userTimelineData.csv\", lineterminator=\"\\n\")"
   ]
  },
  {
   "cell_type": "code",
   "execution_count": 13,
   "metadata": {
    "ExecuteTime": {
     "end_time": "2019-01-13T00:46:10.344103Z",
     "start_time": "2019-01-13T00:46:10.159771Z"
    },
    "collapsed": false
   },
   "outputs": [],
   "source": [
    "a =  df_timeline.groupby(\"userID\")['tweetText'].agg(\"count\")"
   ]
  },
  {
   "cell_type": "code",
   "execution_count": 14,
   "metadata": {
    "ExecuteTime": {
     "end_time": "2019-01-13T00:46:10.348740Z",
     "start_time": "2019-01-13T00:46:10.345899Z"
    },
    "collapsed": false
   },
   "outputs": [],
   "source": [
    "users = list(a.index)"
   ]
  },
  {
   "cell_type": "code",
   "execution_count": 56,
   "metadata": {
    "ExecuteTime": {
     "end_time": "2019-01-12T18:04:54.204130Z",
     "start_time": "2019-01-12T18:04:53.893217Z"
    },
    "collapsed": false
   },
   "outputs": [
    {
     "data": {
      "image/png": "[encoded data removed]",
      "text/plain": [
       "<matplotlib.figure.Figure at 0x7f3d7386fc88>"
      ]
     },
     "metadata": {},
     "output_type": "display_data"
    }
   ],
   "source": [
    "plt.plot(np.arange(0,len(a)),a.values)\n",
    "plt.show()"
   ]
  },
  {
   "cell_type": "code",
   "execution_count": 90,
   "metadata": {
    "ExecuteTime": {
     "end_time": "2019-01-12T18:58:27.747630Z",
     "start_time": "2019-01-12T18:58:27.739776Z"
    },
    "collapsed": false
   },
   "outputs": [],
   "source": [
    "df_user1 = df_timeline[df_timeline.userID == users[0]]\n"
   ]
  },
  {
   "cell_type": "code",
   "execution_count": 111,
   "metadata": {
    "ExecuteTime": {
     "end_time": "2019-01-12T19:07:16.134555Z",
     "start_time": "2019-01-12T19:07:16.131631Z"
    },
    "collapsed": false
   },
   "outputs": [],
   "source": [
    "weed_words.remove('gage')"
   ]
  },
  {
   "cell_type": "code",
   "execution_count": 105,
   "metadata": {
    "ExecuteTime": {
     "end_time": "2019-01-12T19:05:32.737582Z",
     "start_time": "2019-01-12T19:05:32.734602Z"
    },
    "collapsed": false
   },
   "outputs": [],
   "source": [
    "weed_words.remove('skunk')"
   ]
  },
  {
   "cell_type": "markdown",
   "metadata": {
    "ExecuteTime": {
     "end_time": "2019-01-12T19:34:01.655423Z",
     "start_time": "2019-01-12T19:34:01.652721Z"
    }
   },
   "source": [
    "# need watson classifier for categorical classification"
   ]
  },
  {
   "cell_type": "code",
   "execution_count": 187,
   "metadata": {
    "ExecuteTime": {
     "end_time": "2019-01-12T23:50:34.480395Z",
     "start_time": "2019-01-12T23:50:34.461631Z"
    },
    "collapsed": false
   },
   "outputs": [
    {
     "data": {
      "text/html": [
       "<div>\n",
       "<table border=\"1\" class=\"dataframe\">\n",
       "  <thead>\n",
       "    <tr style=\"text-align: right;\">\n",
       "      <th></th>\n",
       "      <th>favourites_count</th>\n",
       "      <th>friendList</th>\n",
       "      <th>friendsCount</th>\n",
       "      <th>hashtags</th>\n",
       "      <th>imageurl</th>\n",
       "      <th>lang</th>\n",
       "      <th>retweetCount</th>\n",
       "      <th>retweeted</th>\n",
       "      <th>tweetCreatedAt</th>\n",
       "      <th>tweetId</th>\n",
       "      <th>tweetText</th>\n",
       "      <th>userCreatedAt</th>\n",
       "      <th>userDescription</th>\n",
       "      <th>userFollowersCount</th>\n",
       "      <th>userID</th>\n",
       "      <th>userLocation</th>\n",
       "      <th>userName</th>\n",
       "    </tr>\n",
       "  </thead>\n",
       "  <tbody>\n",
       "  </tbody>\n",
       "</table>\n",
       "</div>"
      ],
      "text/plain": [
       "Empty DataFrame\n",
       "Columns: [favourites_count, friendList, friendsCount, hashtags, imageurl, lang, retweetCount, retweeted, tweetCreatedAt, tweetId, tweetText, userCreatedAt, userDescription, userFollowersCount, userID, userLocation, userName]\n",
       "Index: []"
      ]
     },
     "execution_count": 187,
     "metadata": {},
     "output_type": "execute_result"
    }
   ],
   "source": [
    "# next user watson to classify text into categories\n",
    "df_user1.loc[df_user1.tweetText.str.contains(pattern)]"
   ]
  },
  {
   "cell_type": "code",
   "execution_count": 168,
   "metadata": {
    "ExecuteTime": {
     "end_time": "2019-01-12T19:32:43.299334Z",
     "start_time": "2019-01-12T19:32:18.915716Z"
    },
    "collapsed": false
   },
   "outputs": [
    {
     "name": "stderr",
     "output_type": "stream",
     "text": [
      "100%|██████████| 7372/7372 [00:24<00:00, 302.43it/s]\n"
     ]
    }
   ],
   "source": [
    "poly_user = list()\n",
    "for user in tqdm(users):\n",
    "    df_temp = df_timeline[df_timeline.userID == user]\n",
    "    if(len(df_temp.loc[df_temp.tweetText.str.contains(pattern)]) > 0):\n",
    "        poly_user.append(user)"
   ]
  },
  {
   "cell_type": "code",
   "execution_count": 183,
   "metadata": {
    "ExecuteTime": {
     "end_time": "2019-01-12T19:49:11.978636Z",
     "start_time": "2019-01-12T19:49:11.952578Z"
    },
    "collapsed": false
   },
   "outputs": [
    {
     "data": {
      "text/html": [
       "<div>\n",
       "<table border=\"1\" class=\"dataframe\">\n",
       "  <thead>\n",
       "    <tr style=\"text-align: right;\">\n",
       "      <th></th>\n",
       "      <th>favourites_count</th>\n",
       "      <th>friendList</th>\n",
       "      <th>friendsCount</th>\n",
       "      <th>hashtags</th>\n",
       "      <th>imageurl</th>\n",
       "      <th>lang</th>\n",
       "      <th>retweetCount</th>\n",
       "      <th>retweeted</th>\n",
       "      <th>tweetCreatedAt</th>\n",
       "      <th>tweetId</th>\n",
       "      <th>tweetText</th>\n",
       "      <th>userCreatedAt</th>\n",
       "      <th>userDescription</th>\n",
       "      <th>userFollowersCount</th>\n",
       "      <th>userID</th>\n",
       "      <th>userLocation</th>\n",
       "      <th>userName</th>\n",
       "    </tr>\n",
       "  </thead>\n",
       "  <tbody>\n",
       "    <tr>\n",
       "      <th>682072</th>\n",
       "      <td>287</td>\n",
       "      <td>None</td>\n",
       "      <td>381</td>\n",
       "      <td>['NNY', 'FireSafety']</td>\n",
       "      <td>http://pbs.twimg.com/profile_images/2927758565/ea75549c1d2bc4d87577f7bf60f6a475_normal.jpeg</td>\n",
       "      <td>en</td>\n",
       "      <td>0</td>\n",
       "      <td>False</td>\n",
       "      <td>2018-10-09 14:00:02</td>\n",
       "      <td>1049660765689602048</td>\n",
       "      <td>Free smoke detectors available through @RedCross program #NNY #FireSafety https://t.co/swfUl2294z https://t.co/KhWFFAGyBf</td>\n",
       "      <td>2009-01-07 16:30:50</td>\n",
       "      <td>The Watertown Daily Times brings you the most comprehensive coverage of N.Y.'s Jefferson, Lewis &amp; St. Lawrence counties - and exclusive giveaways!</td>\n",
       "      <td>7085</td>\n",
       "      <td>18727106</td>\n",
       "      <td>Watertown, NY</td>\n",
       "      <td>Watertown DailyTimes</td>\n",
       "    </tr>\n",
       "  </tbody>\n",
       "</table>\n",
       "</div>"
      ],
      "text/plain": [
       "        favourites_count  \\\n",
       "682072  287                \n",
       "\n",
       "       friendList  \\\n",
       "682072  None        \n",
       "\n",
       "        friendsCount  \\\n",
       "682072  381            \n",
       "\n",
       "                     hashtags  \\\n",
       "682072  ['NNY', 'FireSafety']   \n",
       "\n",
       "                                                                                           imageurl  \\\n",
       "682072  http://pbs.twimg.com/profile_images/2927758565/ea75549c1d2bc4d87577f7bf60f6a475_normal.jpeg   \n",
       "\n",
       "       lang  \\\n",
       "682072  en    \n",
       "\n",
       "        retweetCount  \\\n",
       "682072  0              \n",
       "\n",
       "       retweeted  \\\n",
       "682072  False      \n",
       "\n",
       "             tweetCreatedAt  \\\n",
       "682072  2018-10-09 14:00:02   \n",
       "\n",
       "                    tweetId  \\\n",
       "682072  1049660765689602048   \n",
       "\n",
       "                                                                                                                        tweetText  \\\n",
       "682072  Free smoke detectors available through @RedCross program #NNY #FireSafety https://t.co/swfUl2294z https://t.co/KhWFFAGyBf   \n",
       "\n",
       "              userCreatedAt  \\\n",
       "682072  2009-01-07 16:30:50   \n",
       "\n",
       "                                                                                                                                           userDescription  \\\n",
       "682072  The Watertown Daily Times brings you the most comprehensive coverage of N.Y.'s Jefferson, Lewis & St. Lawrence counties - and exclusive giveaways!   \n",
       "\n",
       "        userFollowersCount  \\\n",
       "682072  7085                 \n",
       "\n",
       "          userID  \\\n",
       "682072  18727106   \n",
       "\n",
       "         userLocation  \\\n",
       "682072  Watertown, NY   \n",
       "\n",
       "                    userName  \n",
       "682072  Watertown DailyTimes  "
      ]
     },
     "execution_count": 183,
     "metadata": {},
     "output_type": "execute_result"
    }
   ],
   "source": [
    "ex = df_timeline.loc[df_timeline.userID == poly_user[1]]\n",
    "ex.loc[ex.tweetText.str.contains(pattern)]"
   ]
  },
  {
   "cell_type": "code",
   "execution_count": 184,
   "metadata": {
    "ExecuteTime": {
     "end_time": "2019-01-12T23:49:02.413611Z",
     "start_time": "2019-01-12T23:49:02.409268Z"
    },
    "collapsed": true
   },
   "outputs": [],
   "source": [
    "# so will create embeddings for our tweets and manually label 500 of the tweet containing weeds and classify them \n",
    "# them as substance abouse or not"
   ]
  },
  {
   "cell_type": "code",
   "execution_count": 73,
   "metadata": {
    "ExecuteTime": {
     "end_time": "2019-01-13T01:08:22.045319Z",
     "start_time": "2019-01-13T01:08:22.040583Z"
    },
    "collapsed": false
   },
   "outputs": [
    {
     "data": {
      "text/plain": [
       "1344182"
      ]
     },
     "execution_count": 73,
     "metadata": {},
     "output_type": "execute_result"
    }
   ],
   "source": [
    "len(df_timeline.tweetText)"
   ]
  },
  {
   "cell_type": "code",
   "execution_count": 74,
   "metadata": {
    "ExecuteTime": {
     "end_time": "2019-01-13T01:08:22.616018Z",
     "start_time": "2019-01-13T01:08:22.593943Z"
    },
    "collapsed": false
   },
   "outputs": [],
   "source": [
    "## loading the weed words or other form of drugs (top 30 mentioned at https://www.powerthesaurus.org/weed/synonyms)\n",
    "weed_words = pd.read_excel(\"/home/akshayuppal3/Weed_words.xlsx\",header=None)\n",
    "weed_words.columns = ['weedID']\n",
    "weed_words = list(weed_words.weedID)\n",
    "weed_words.remove('gage')\n",
    "weed_words.remove('skunk')\n",
    "# weed_words.remove('grass')\n",
    "# weed_words.remove('pot')\n",
    "weed_words.remove(\"dope\")\n",
    "# weed_words.remove(\"joint\")\n",
    "# weed_words.remove(\"herb\")\n",
    "# weed_words.remove(\"bud\")\n",
    "weed_words = [(\" \" + word+\" \") for word in weed_words]\n",
    "pattern = \"|\".join(weed_words)"
   ]
  },
  {
   "cell_type": "code",
   "execution_count": 108,
   "metadata": {
    "ExecuteTime": {
     "end_time": "2019-01-13T01:18:56.389801Z",
     "start_time": "2019-01-13T01:18:56.386078Z"
    },
    "collapsed": false
   },
   "outputs": [
    {
     "data": {
      "text/plain": [
       "' weed | ganja | marijuana | grass | cannabis | pot | smoke | mary jane | hemp | marihuana | hash | reefer | hashish | herb | bhang | green goddess | locoweed | maryjane | bud | spliff | wacky baccy | joint | sinsemilla | doobie | tobacco | acapulco gold '"
      ]
     },
     "execution_count": 108,
     "metadata": {},
     "output_type": "execute_result"
    }
   ],
   "source": [
    "pattern"
   ]
  },
  {
   "cell_type": "code",
   "execution_count": 80,
   "metadata": {
    "ExecuteTime": {
     "end_time": "2019-01-13T01:08:40.374500Z",
     "start_time": "2019-01-13T01:08:40.370170Z"
    },
    "collapsed": false
   },
   "outputs": [],
   "source": [
    "import gensim\n",
    "import nltk\n",
    "import pandas as pd\n",
    "import numpy as np\n",
    "import tweepy\n",
    "from matplotlib import pyplot as plt\n",
    "from tqdm import tqdm"
   ]
  },
  {
   "cell_type": "code",
   "execution_count": 93,
   "metadata": {
    "ExecuteTime": {
     "end_time": "2019-01-13T01:14:23.283623Z",
     "start_time": "2019-01-13T01:14:23.277473Z"
    },
    "collapsed": false
   },
   "outputs": [
    {
     "name": "stdout",
     "output_type": "stream",
     "text": [
      "[nltk_data] Downloading package punkt to\n",
      "[nltk_data]     /home/akshayuppal3/nltk_data...\n",
      "[nltk_data]   Package punkt is already up-to-date!\n",
      "[nltk_data] Downloading package stopwords to\n",
      "[nltk_data]     /home/akshayuppal3/nltk_data...\n",
      "[nltk_data]   Package stopwords is already up-to-date!\n"
     ]
    }
   ],
   "source": [
    "nltk.download('punkt')\n",
    "nltk.download('stopwords')\n",
    "stopwords = nltk.corpus.stopwords.words('english')"
   ]
  },
  {
   "cell_type": "markdown",
   "metadata": {
    "ExecuteTime": {
     "end_time": "2019-01-13T01:03:31.577446Z",
     "start_time": "2019-01-13T01:03:31.574038Z"
    }
   },
   "source": [
    "### tokenize the sentences for the gensim.. we are going to classify the  sentences as weeds or not.. manual label(500 sent)"
   ]
  },
  {
   "cell_type": "code",
   "execution_count": 81,
   "metadata": {
    "ExecuteTime": {
     "end_time": "2019-01-13T01:08:42.731898Z",
     "start_time": "2019-01-13T01:08:42.728777Z"
    },
    "collapsed": false
   },
   "outputs": [],
   "source": [
    "tkz = nltk.tokenize"
   ]
  },
  {
   "cell_type": "code",
   "execution_count": 135,
   "metadata": {
    "ExecuteTime": {
     "end_time": "2019-01-13T01:39:01.568226Z",
     "start_time": "2019-01-13T01:39:01.405052Z"
    },
    "collapsed": true
   },
   "outputs": [],
   "source": [
    "from gensim.models import Word2Vec\n",
    "from sklearn.decomposition import PCA\n",
    "from matplotlib import pyplot"
   ]
  },
  {
   "cell_type": "code",
   "execution_count": 332,
   "metadata": {
    "ExecuteTime": {
     "end_time": "2019-01-13T02:49:56.508209Z",
     "start_time": "2019-01-13T02:49:56.143445Z"
    },
    "collapsed": false
   },
   "outputs": [],
   "source": [
    "# keeping only english tweets\n",
    "df_timeline = (df_timeline[df_timeline.lang == 'en'])"
   ]
  },
  {
   "cell_type": "code",
   "execution_count": 333,
   "metadata": {
    "ExecuteTime": {
     "end_time": "2019-01-13T02:50:11.778603Z",
     "start_time": "2019-01-13T02:49:56.539692Z"
    },
    "collapsed": false
   },
   "outputs": [],
   "source": [
    "# filter those that contain the occurance of weed or similar words\n",
    "df_tweet_weeds = df_timeline[df_timeline['tweetText'].str.contains(pattern, case = False)]"
   ]
  },
  {
   "cell_type": "code",
   "execution_count": 334,
   "metadata": {
    "ExecuteTime": {
     "end_time": "2019-01-13T02:50:12.159355Z",
     "start_time": "2019-01-13T02:50:11.780295Z"
    },
    "collapsed": false
   },
   "outputs": [],
   "source": [
    "df_nonweed = (df_timeline.loc[~df_timeline.index.isin(df_tweet_weeds.index)])"
   ]
  },
  {
   "cell_type": "code",
   "execution_count": 363,
   "metadata": {
    "ExecuteTime": {
     "end_time": "2019-01-13T02:53:18.737701Z",
     "start_time": "2019-01-13T02:53:17.050921Z"
    },
    "collapsed": true
   },
   "outputs": [],
   "source": [
    "# taking sample of 1000 and 1000\n",
    "df_nonweed =(df_nonweed.sample(frac=1))\n",
    "nonweed_sample = df_nonweed[:len(df_tweet_weeds)]"
   ]
  },
  {
   "cell_type": "code",
   "execution_count": 364,
   "metadata": {
    "ExecuteTime": {
     "end_time": "2019-01-13T02:53:22.260209Z",
     "start_time": "2019-01-13T02:53:22.243839Z"
    },
    "collapsed": false
   },
   "outputs": [],
   "source": [
    "# randomize the data before creating embedding \n",
    "df_tweet_weeds =(df_tweet_weeds.sample(frac=1))"
   ]
  },
  {
   "cell_type": "code",
   "execution_count": 365,
   "metadata": {
    "ExecuteTime": {
     "end_time": "2019-01-13T02:53:27.056864Z",
     "start_time": "2019-01-13T02:53:27.053469Z"
    },
    "collapsed": false
   },
   "outputs": [],
   "source": [
    "weed_sample = (df_tweet_weeds)"
   ]
  },
  {
   "cell_type": "code",
   "execution_count": 439,
   "metadata": {
    "ExecuteTime": {
     "end_time": "2019-01-13T03:13:13.506357Z",
     "start_time": "2019-01-13T03:13:13.390152Z"
    },
    "collapsed": true
   },
   "outputs": [],
   "source": [
    "mix_sample = weed_sample.append(nonweed_sample)"
   ]
  },
  {
   "cell_type": "code",
   "execution_count": 440,
   "metadata": {
    "ExecuteTime": {
     "end_time": "2019-01-13T03:13:15.065736Z",
     "start_time": "2019-01-13T03:13:15.061581Z"
    },
    "collapsed": false
   },
   "outputs": [
    {
     "data": {
      "text/plain": [
       "48622"
      ]
     },
     "execution_count": 440,
     "metadata": {},
     "output_type": "execute_result"
    }
   ],
   "source": [
    "len(mix_sample)"
   ]
  },
  {
   "cell_type": "code",
   "execution_count": 441,
   "metadata": {
    "ExecuteTime": {
     "end_time": "2019-01-13T03:13:15.820108Z",
     "start_time": "2019-01-13T03:13:15.789268Z"
    },
    "collapsed": true
   },
   "outputs": [],
   "source": [
    "mix_sample = mix_sample[['tweetText']]"
   ]
  },
  {
   "cell_type": "code",
   "execution_count": 442,
   "metadata": {
    "ExecuteTime": {
     "end_time": "2019-01-13T03:13:16.633478Z",
     "start_time": "2019-01-13T03:13:16.197347Z"
    },
    "collapsed": false
   },
   "outputs": [],
   "source": [
    "mix_sample = pd.DataFrame(mix_sample['tweetText'].str.replace(r'(https?://\\S+)',\"\"))\n",
    "mix_sample = pd.DataFrame(mix_sample['tweetText'].str.replace(r'(\\@\\w+)',\"author\")) \n",
    "mix_sample = pd.DataFrame(mix_sample['tweetText'].str.replace(r'(\\#\\w+)',\"\"))"
   ]
  },
  {
   "cell_type": "code",
   "execution_count": 443,
   "metadata": {
    "ExecuteTime": {
     "end_time": "2019-01-13T03:13:16.777175Z",
     "start_time": "2019-01-13T03:13:16.758706Z"
    },
    "collapsed": false
   },
   "outputs": [
    {
     "data": {
      "text/html": [
       "<div>\n",
       "<table border=\"1\" class=\"dataframe\">\n",
       "  <thead>\n",
       "    <tr style=\"text-align: right;\">\n",
       "      <th></th>\n",
       "      <th>tweetText</th>\n",
       "    </tr>\n",
       "  </thead>\n",
       "  <tbody>\n",
       "    <tr>\n",
       "      <th>1128629</th>\n",
       "      <td>Miami we open till Midnight tonight, don't forget to pull up and check out all our smoke essentials!!</td>\n",
       "    </tr>\n",
       "    <tr>\n",
       "      <th>1296394</th>\n",
       "      <td>According to  \"deeming\" regulations the images below depict  manufacturing from 3 \"other tobacco products\"  ENDS the</td>\n",
       "    </tr>\n",
       "    <tr>\n",
       "      <th>322304</th>\n",
       "      <td>New episode dropping shortly...New  coming this week! in the meantime listen to: ‘Baked Mistake 01: Men Driving High with 20lb of Weed Call Police on Themselves’ on</td>\n",
       "    </tr>\n",
       "    <tr>\n",
       "      <th>709212</th>\n",
       "      <td>Said colt 45 and two zigzags baby that’s all we need we can go to the park after dark smoke that tumbleweed as the marijuana burn we can take our turn singing them dirty rap songs stop and hit the bong like cheech and chong and sell tapes from here to hong kong</td>\n",
       "    </tr>\n",
       "    <tr>\n",
       "      <th>1327854</th>\n",
       "      <td>Check out this photo of Whelans Smoke Shop on</td>\n",
       "    </tr>\n",
       "    <tr>\n",
       "      <th>1280008</th>\n",
       "      <td>\"..the conversation about the effects of marijuana on teens has gotten a lot more complicated.\" Learn More:</td>\n",
       "    </tr>\n",
       "    <tr>\n",
       "      <th>1026294</th>\n",
       "      <td>Who do you think tobacco companies are targeting?</td>\n",
       "    </tr>\n",
       "    <tr>\n",
       "      <th>1313753</th>\n",
       "      <td>sorry i can't hang tonight i need to smoke the rest of my crack but i'll hit you up at 4:30am</td>\n",
       "    </tr>\n",
       "    <tr>\n",
       "      <th>553464</th>\n",
       "      <td>Irregularities found by a Reuters investigation into Philip Morris International’s clinical trial program for its new iQOS smoking device come at a crucial time for the tobacco giant. More:  via author</td>\n",
       "    </tr>\n",
       "    <tr>\n",
       "      <th>145501</th>\n",
       "      <td>“Increasing the age of sale of tobacco from 18 to 21 will take it out of the high school social setting” author    author author author</td>\n",
       "    </tr>\n",
       "    <tr>\n",
       "      <th>162096</th>\n",
       "      <td>Ontario dispensaries will be feeling a little tight this weekend. RCMP seize nearly half-tonne of marijuana, cannabis products after inspecting semi</td>\n",
       "    </tr>\n",
       "    <tr>\n",
       "      <th>399807</th>\n",
       "      <td>Essex County is the latest county in New York to raise the tobacco age to 21. Momentum is building for a statewide law.</td>\n",
       "    </tr>\n",
       "    <tr>\n",
       "      <th>785525</th>\n",
       "      <td>- remember when you could smoke in restaurants, bars and cabs - definitely not the good old days.</td>\n",
       "    </tr>\n",
       "    <tr>\n",
       "      <th>211059</th>\n",
       "      <td>Am I reading this right?  \"potential (public health) benefits of flavored tobacco products\"?!   C'mon now.</td>\n",
       "    </tr>\n",
       "    <tr>\n",
       "      <th>417453</th>\n",
       "      <td>Thanks for the hand check, Jay Kara! Turkish Tobacco is one of our favorites! Want your hand check featured? Tag us in your pic!</td>\n",
       "    </tr>\n",
       "    <tr>\n",
       "      <th>339409</th>\n",
       "      <td>Black kids are still being arrested for smoking weed in many of America’s cities, but Elon Musk and Joe Rogan are sitting here smoking blunts on camera in California. Marijuana should be legal in all 50 states.</td>\n",
       "    </tr>\n",
       "    <tr>\n",
       "      <th>378026</th>\n",
       "      <td>For decades, Big Tobacco has lied about dangers of cigarettes – and designed them to sustain a deadly . Now a court is forcing them to run ads telling the truth.</td>\n",
       "    </tr>\n",
       "    <tr>\n",
       "      <th>1096086</th>\n",
       "      <td>Free new report online re worldwide exodus of smokers to safer nicotine products    Global State of Tobacco Harm Reduction  NZ survey of  by Dr Truman, Trish Fraser &amp;amp; I highlighted🤓 Easy  - this is what  looks like</td>\n",
       "    </tr>\n",
       "    <tr>\n",
       "      <th>1043825</th>\n",
       "      <td>Cherokee man arrested in Illinois after police seize teddy bear filled with marijuana</td>\n",
       "    </tr>\n",
       "    <tr>\n",
       "      <th>325666</th>\n",
       "      <td>Even after banning the cigarette completely, Singapore is planning to introduce vaping to b completely smoke free.  author</td>\n",
       "    </tr>\n",
       "    <tr>\n",
       "      <th>774548</th>\n",
       "      <td>‘We should see if it works’: Lawmakers want Veterans Affairs to study whether pot is safer than painkillers</td>\n",
       "    </tr>\n",
       "    <tr>\n",
       "      <th>904214</th>\n",
       "      <td>ADPH is seeking proposals to affect social norm change around  use, address marketing of emerging products to youth, promote policies that protect youth from  initiation &amp;amp; exposure to , &amp;amp; promote tobacco cessation. Details:</td>\n",
       "    </tr>\n",
       "    <tr>\n",
       "      <th>1175612</th>\n",
       "      <td>organs- water??  me- pedialyte :)  organs- omg thank you  me- I’m jus pedialyin here’s another bud light :)</td>\n",
       "    </tr>\n",
       "    <tr>\n",
       "      <th>1109386</th>\n",
       "      <td>REMINDER:  will hold a public meeting about the tobacco product review process.  📅 Oct. 22-23, 2018 📍 Rockville, MD 👥 Register to attend or view the live webcast by Oct. 5 ✉️ Submit comments by Dec. 7</td>\n",
       "    </tr>\n",
       "    <tr>\n",
       "      <th>186503</th>\n",
       "      <td>Live in area of 42nd &amp;amp; Post &amp;amp; need a smoke alarm? We're knocking on doors today to install author author</td>\n",
       "    </tr>\n",
       "    <tr>\n",
       "      <th>418790</th>\n",
       "      <td>Thanks author  We greatly appreciate your support for Tobacco Free Portfolios  author Duverne author Chairman and Prabhat Jha author  author author  author author</td>\n",
       "    </tr>\n",
       "    <tr>\n",
       "      <th>461899</th>\n",
       "      <td>got a serious 'spidey sense' that $RMHB will do something completely nutty once people look to park their $PURA gains ( $RMHB is hemp / CBD beverage play as well 😉 )</td>\n",
       "    </tr>\n",
       "    <tr>\n",
       "      <th>1203138</th>\n",
       "      <td>IJOY WAND MOD  IJOY WAND MOD, built-in battery tube mod, are of features like whole compact structure, medium size, rich colors and built-in 2600 mAh 30A lithium battery.  main smoke shop kc</td>\n",
       "    </tr>\n",
       "    <tr>\n",
       "      <th>1105495</th>\n",
       "      <td>E-cigarette ban to support tobacco lobby: Vapers  via author</td>\n",
       "    </tr>\n",
       "    <tr>\n",
       "      <th>992145</th>\n",
       "      <td>Don't smoke hookah out of a cheap, crappy hookah!   Try it out of a customized Don Julio 1942 Bottle or Ace of...</td>\n",
       "    </tr>\n",
       "    <tr>\n",
       "      <th>...</th>\n",
       "      <td>...</td>\n",
       "    </tr>\n",
       "    <tr>\n",
       "      <th>1275062</th>\n",
       "      <td>EightVape: Smok Coils</td>\n",
       "    </tr>\n",
       "    <tr>\n",
       "      <th>887630</th>\n",
       "      <td>An opportunity to spread the truth      Thanks to author</td>\n",
       "    </tr>\n",
       "    <tr>\n",
       "      <th>819483</th>\n",
       "      <td>Good Guy of the Day - Michigan: Passerby saves man in sinking car: 'Anybody would do it'  (via author)</td>\n",
       "    </tr>\n",
       "    <tr>\n",
       "      <th>964022</th>\n",
       "      <td>author love you brotha. Thanks😉</td>\n",
       "    </tr>\n",
       "    <tr>\n",
       "      <th>1142974</th>\n",
       "      <td>Everyone wish good luck to Christell as she represents Knoxville in Miss Tennessee Teen USA Today! She truly is</td>\n",
       "    </tr>\n",
       "    <tr>\n",
       "      <th>1336605</th>\n",
       "      <td>Lol I had to get up at 6 this morning set all my alarms, got up a 6 feeling refreshed, got dressed. And that’s all I remember until 7:20. Is this a joke</td>\n",
       "    </tr>\n",
       "    <tr>\n",
       "      <th>745710</th>\n",
       "      <td>author Second times the charm;)</td>\n",
       "    </tr>\n",
       "    <tr>\n",
       "      <th>768129</th>\n",
       "      <td>At the first author in 1984,  entrusted young people with the task of carrying the Holy Cross into the world as a sign of Christ's love for humanity. Join us this Saturday as young adults carry out this mission in DC.</td>\n",
       "    </tr>\n",
       "    <tr>\n",
       "      <th>240943</th>\n",
       "      <td>author author Does that sound like a viable option?</td>\n",
       "    </tr>\n",
       "    <tr>\n",
       "      <th>465814</th>\n",
       "      <td>author on the edge of my seat. give us more!</td>\n",
       "    </tr>\n",
       "    <tr>\n",
       "      <th>497313</th>\n",
       "      <td>Great to welcome Praveen Kumar from author to ⁦author⁩ yesterday ( photo with author) The ⁦author⁩ team is growing &amp;amp; new research starting in the seven countries in  &amp;amp;  in the consortium. Plus it was sunny 😎</td>\n",
       "    </tr>\n",
       "    <tr>\n",
       "      <th>733552</th>\n",
       "      <td>It’s great to see the productivity commission looking at mental health - I hope longer term prevention approaches are also explored. We need to start early to start to see a change to these alarming suicide rates. author</td>\n",
       "    </tr>\n",
       "    <tr>\n",
       "      <th>454775</th>\n",
       "      <td>someone from high school posted this video on facebook and I’M LOSING MY MIND OVER IT</td>\n",
       "    </tr>\n",
       "    <tr>\n",
       "      <th>1227884</th>\n",
       "      <td>Sense of modern and classic.</td>\n",
       "    </tr>\n",
       "    <tr>\n",
       "      <th>678616</th>\n",
       "      <td>everything is finally starting to fall in to place, and i’m so thankful for my friends and family that have stuck by my side</td>\n",
       "    </tr>\n",
       "    <tr>\n",
       "      <th>812323</th>\n",
       "      <td>author author author Kanter was traded to create cap space for 3 allstars on OKC, y'all got Melo out of the trade &amp;amp; u think Kanter's a traitor? 🤔 Oh &amp;amp; he's a Turk alright, prob my favorite player on the knicks rn cuz of his attitude &amp;amp; ambition, I'm greek &amp;amp; Cypriot &amp;amp; wouldn't call him a traitor 😂</td>\n",
       "    </tr>\n",
       "    <tr>\n",
       "      <th>1072178</th>\n",
       "      <td>check it out!!!</td>\n",
       "    </tr>\n",
       "    <tr>\n",
       "      <th>1082692</th>\n",
       "      <td>\"After it seemed the Chapter 11 sale of diabetes patient monitoring company ActiveCare Inc. to stalking horse bidder Telcare Inc. was ready to be finalized Thursday, a Delaware judge delayed signing\" off on the sale, amid Potential Claim Issues</td>\n",
       "    </tr>\n",
       "    <tr>\n",
       "      <th>656301</th>\n",
       "      <td>Future legend author did his damn thang tonight author</td>\n",
       "    </tr>\n",
       "    <tr>\n",
       "      <th>468829</th>\n",
       "      <td>salaries drop as recruiters and employers drive a harder bargain</td>\n",
       "    </tr>\n",
       "    <tr>\n",
       "      <th>1339056</th>\n",
       "      <td>My mom is officially over my dad's Nobel prize. \"It's nice but I would rather have grandkids...Soon.\"</td>\n",
       "    </tr>\n",
       "    <tr>\n",
       "      <th>594477</th>\n",
       "      <td>Sri Lanka v England: Jos Buttler says tourists relish favourites tag</td>\n",
       "    </tr>\n",
       "    <tr>\n",
       "      <th>628892</th>\n",
       "      <td>Bringing this back on the tl bc it's hilarious</td>\n",
       "    </tr>\n",
       "    <tr>\n",
       "      <th>381646</th>\n",
       "      <td>lumberjack snakes be like “slither me timbers”</td>\n",
       "    </tr>\n",
       "    <tr>\n",
       "      <th>431435</th>\n",
       "      <td>I came with the 38 I’m leaving with a body  If he try me do him sloppy shootin out the big body !</td>\n",
       "    </tr>\n",
       "    <tr>\n",
       "      <th>344561</th>\n",
       "      <td>5 sets of Hugo Vapor mods   来自 author</td>\n",
       "    </tr>\n",
       "    <tr>\n",
       "      <th>225540</th>\n",
       "      <td>author Wow. Love seeing your enthusiasm for my birthday! Can’t wait to see what you get me!</td>\n",
       "    </tr>\n",
       "    <tr>\n",
       "      <th>1329575</th>\n",
       "      <td>Trix cereal is bringing back its classic fruit shapes from the '90s</td>\n",
       "    </tr>\n",
       "    <tr>\n",
       "      <th>1136624</th>\n",
       "      <td>Call your mommas phone let her know that she raised a bitch</td>\n",
       "    </tr>\n",
       "    <tr>\n",
       "      <th>1166905</th>\n",
       "      <td>Pics of The Day. The Beauty  author  New Song From author Releasing Tomorrow at 6pm.</td>\n",
       "    </tr>\n",
       "  </tbody>\n",
       "</table>\n",
       "<p>48622 rows × 1 columns</p>\n",
       "</div>"
      ],
      "text/plain": [
       "                                                                                                                                                                                                                                                                                                                            tweetText\n",
       "1128629  Miami we open till Midnight tonight, don't forget to pull up and check out all our smoke essentials!!                                                                                                                                                                                                                       \n",
       "1296394  According to  \"deeming\" regulations the images below depict  manufacturing from 3 \"other tobacco products\"  ENDS the                                                                                                                                                                                                        \n",
       "322304   New episode dropping shortly...New  coming this week! in the meantime listen to: ‘Baked Mistake 01: Men Driving High with 20lb of Weed Call Police on Themselves’ on                                                                                                                                                        \n",
       "709212   Said colt 45 and two zigzags baby that’s all we need we can go to the park after dark smoke that tumbleweed as the marijuana burn we can take our turn singing them dirty rap songs stop and hit the bong like cheech and chong and sell tapes from here to hong kong                                                       \n",
       "1327854  Check out this photo of Whelans Smoke Shop on                                                                                                                                                                                                                                                                               \n",
       "1280008  \"..the conversation about the effects of marijuana on teens has gotten a lot more complicated.\" Learn More:                                                                                                                                                                                                                 \n",
       "1026294  Who do you think tobacco companies are targeting?                                                                                                                                                                                                                                                                           \n",
       "1313753  sorry i can't hang tonight i need to smoke the rest of my crack but i'll hit you up at 4:30am                                                                                                                                                                                                                               \n",
       "553464   Irregularities found by a Reuters investigation into Philip Morris International’s clinical trial program for its new iQOS smoking device come at a crucial time for the tobacco giant. More:  via author                                                                                                                   \n",
       "145501   “Increasing the age of sale of tobacco from 18 to 21 will take it out of the high school social setting” author    author author author                                                                                                                                                                                     \n",
       "162096   Ontario dispensaries will be feeling a little tight this weekend. RCMP seize nearly half-tonne of marijuana, cannabis products after inspecting semi                                                                                                                                                                        \n",
       "399807   Essex County is the latest county in New York to raise the tobacco age to 21. Momentum is building for a statewide law.                                                                                                                                                                                                     \n",
       "785525    - remember when you could smoke in restaurants, bars and cabs - definitely not the good old days.                                                                                                                                                                                                                          \n",
       "211059   Am I reading this right?  \"potential (public health) benefits of flavored tobacco products\"?!   C'mon now.                                                                                                                                                                                                                  \n",
       "417453   Thanks for the hand check, Jay Kara! Turkish Tobacco is one of our favorites! Want your hand check featured? Tag us in your pic!                                                                                                                                                                                            \n",
       "339409   Black kids are still being arrested for smoking weed in many of America’s cities, but Elon Musk and Joe Rogan are sitting here smoking blunts on camera in California. Marijuana should be legal in all 50 states.                                                                                                          \n",
       "378026   For decades, Big Tobacco has lied about dangers of cigarettes – and designed them to sustain a deadly . Now a court is forcing them to run ads telling the truth.                                                                                                                                                           \n",
       "1096086  Free new report online re worldwide exodus of smokers to safer nicotine products    Global State of Tobacco Harm Reduction  NZ survey of  by Dr Truman, Trish Fraser &amp; I highlighted🤓 Easy  - this is what  looks like                                                                                                  \n",
       "1043825  Cherokee man arrested in Illinois after police seize teddy bear filled with marijuana                                                                                                                                                                                                                                       \n",
       "325666   Even after banning the cigarette completely, Singapore is planning to introduce vaping to b completely smoke free.  author                                                                                                                                                                                                  \n",
       "774548   ‘We should see if it works’: Lawmakers want Veterans Affairs to study whether pot is safer than painkillers                                                                                                                                                                                                                 \n",
       "904214   ADPH is seeking proposals to affect social norm change around  use, address marketing of emerging products to youth, promote policies that protect youth from  initiation &amp; exposure to , &amp; promote tobacco cessation. Details:                                                                                     \n",
       "1175612  organs- water??  me- pedialyte :)  organs- omg thank you  me- I’m jus pedialyin here’s another bud light :)                                                                                                                                                                                                                 \n",
       "1109386  REMINDER:  will hold a public meeting about the tobacco product review process.  📅 Oct. 22-23, 2018 📍 Rockville, MD 👥 Register to attend or view the live webcast by Oct. 5 ✉️ Submit comments by Dec. 7                                                                                                                    \n",
       "186503   Live in area of 42nd &amp; Post &amp; need a smoke alarm? We're knocking on doors today to install author author                                                                                                                                                                                                            \n",
       "418790   Thanks author  We greatly appreciate your support for Tobacco Free Portfolios  author Duverne author Chairman and Prabhat Jha author  author author  author author                                                                                                                                                          \n",
       "461899   got a serious 'spidey sense' that $RMHB will do something completely nutty once people look to park their $PURA gains ( $RMHB is hemp / CBD beverage play as well 😉 )                                                                                                                                                       \n",
       "1203138  IJOY WAND MOD  IJOY WAND MOD, built-in battery tube mod, are of features like whole compact structure, medium size, rich colors and built-in 2600 mAh 30A lithium battery.  main smoke shop kc                                                                                                                              \n",
       "1105495  E-cigarette ban to support tobacco lobby: Vapers  via author                                                                                                                                                                                                                                                                \n",
       "992145   Don't smoke hookah out of a cheap, crappy hookah!   Try it out of a customized Don Julio 1942 Bottle or Ace of...                                                                                                                                                                                                           \n",
       "...                                                                                                                     ...                                                                                                                                                                                                          \n",
       "1275062  EightVape: Smok Coils                                                                                                                                                                                                                                                                                                       \n",
       "887630   An opportunity to spread the truth      Thanks to author                                                                                                                                                                                                                                                                    \n",
       "819483   Good Guy of the Day - Michigan: Passerby saves man in sinking car: 'Anybody would do it'  (via author)                                                                                                                                                                                                                      \n",
       "964022   author love you brotha. Thanks😉                                                                                                                                                                                                                                                                                             \n",
       "1142974  Everyone wish good luck to Christell as she represents Knoxville in Miss Tennessee Teen USA Today! She truly is                                                                                                                                                                                                             \n",
       "1336605  Lol I had to get up at 6 this morning set all my alarms, got up a 6 feeling refreshed, got dressed. And that’s all I remember until 7:20. Is this a joke                                                                                                                                                                    \n",
       "745710   author Second times the charm;)                                                                                                                                                                                                                                                                                             \n",
       "768129   At the first author in 1984,  entrusted young people with the task of carrying the Holy Cross into the world as a sign of Christ's love for humanity. Join us this Saturday as young adults carry out this mission in DC.                                                                                                   \n",
       "240943   author author Does that sound like a viable option?                                                                                                                                                                                                                                                                         \n",
       "465814   author on the edge of my seat. give us more!                                                                                                                                                                                                                                                                                \n",
       "497313   Great to welcome Praveen Kumar from author to ⁦author⁩ yesterday ( photo with author) The ⁦author⁩ team is growing &amp; new research starting in the seven countries in  &amp;  in the consortium. Plus it was sunny 😎                                                                                                     \n",
       "733552   It’s great to see the productivity commission looking at mental health - I hope longer term prevention approaches are also explored. We need to start early to start to see a change to these alarming suicide rates. author                                                                                                \n",
       "454775   someone from high school posted this video on facebook and I’M LOSING MY MIND OVER IT                                                                                                                                                                                                                                       \n",
       "1227884    Sense of modern and classic.                                                                                                                                                                                                                                                                                              \n",
       "678616   everything is finally starting to fall in to place, and i’m so thankful for my friends and family that have stuck by my side                                                                                                                                                                                                \n",
       "812323   author author author Kanter was traded to create cap space for 3 allstars on OKC, y'all got Melo out of the trade &amp; u think Kanter's a traitor? 🤔 Oh &amp; he's a Turk alright, prob my favorite player on the knicks rn cuz of his attitude &amp; ambition, I'm greek &amp; Cypriot &amp; wouldn't call him a traitor 😂\n",
       "1072178      check it out!!!                                                                                                                                                                                                                                                                                                         \n",
       "1082692  \"After it seemed the Chapter 11 sale of diabetes patient monitoring company ActiveCare Inc. to stalking horse bidder Telcare Inc. was ready to be finalized Thursday, a Delaware judge delayed signing\" off on the sale, amid Potential Claim Issues                                                                        \n",
       "656301   Future legend author did his damn thang tonight author                                                                                                                                                                                                                                                                      \n",
       "468829    salaries drop as recruiters and employers drive a harder bargain                                                                                                                                                                                                                                                           \n",
       "1339056  My mom is officially over my dad's Nobel prize. \"It's nice but I would rather have grandkids...Soon.\"                                                                                                                                                                                                                       \n",
       "594477   Sri Lanka v England: Jos Buttler says tourists relish favourites tag                                                                                                                                                                                                                                                        \n",
       "628892   Bringing this back on the tl bc it's hilarious                                                                                                                                                                                                                                                                              \n",
       "381646   lumberjack snakes be like “slither me timbers”                                                                                                                                                                                                                                                                              \n",
       "431435   I came with the 38 I’m leaving with a body  If he try me do him sloppy shootin out the big body !                                                                                                                                                                                                                           \n",
       "344561   5 sets of Hugo Vapor mods   来自 author                                                                                                                                                                                                                                                                                       \n",
       "225540   author Wow. Love seeing your enthusiasm for my birthday! Can’t wait to see what you get me!                                                                                                                                                                                                                                 \n",
       "1329575  Trix cereal is bringing back its classic fruit shapes from the '90s                                                                                                                                                                                                                                                         \n",
       "1136624  Call your mommas phone let her know that she raised a bitch                                                                                                                                                                                                                                                                 \n",
       "1166905  Pics of The Day. The Beauty  author  New Song From author Releasing Tomorrow at 6pm.                                                                                                                                                                                                                                        \n",
       "\n",
       "[48622 rows x 1 columns]"
      ]
     },
     "execution_count": 443,
     "metadata": {},
     "output_type": "execute_result"
    }
   ],
   "source": [
    "mix_sample"
   ]
  },
  {
   "cell_type": "code",
   "execution_count": 524,
   "metadata": {
    "ExecuteTime": {
     "end_time": "2019-01-13T22:01:12.092605Z",
     "start_time": "2019-01-13T22:01:12.085259Z"
    },
    "collapsed": false,
    "scrolled": true
   },
   "outputs": [],
   "source": [
    "def get_words_lists(df):\n",
    "    final_words = list()\n",
    "    for index,tweet in tqdm(df.iterrows(), total=len(mix_sample)):\n",
    "        tweet_text = tweet['tweetText']\n",
    "        words = tkz.word_tokenize(tweet_text)\n",
    "        words = [ele for ele in words if ((ele not in stopwords) and len(ele)>2 and (ele.isalpha()))]\n",
    "        words = [word.lower() for word in words]\n",
    "        final_words.append(words)\n",
    "    return final_words"
   ]
  },
  {
   "cell_type": "code",
   "execution_count": 504,
   "metadata": {
    "ExecuteTime": {
     "end_time": "2019-01-13T21:53:04.884910Z",
     "start_time": "2019-01-13T21:53:00.254776Z"
    },
    "collapsed": false
   },
   "outputs": [
    {
     "name": "stderr",
     "output_type": "stream",
     "text": [
      "/home/akshayuppal3/anaconda3/lib/python3.5/site-packages/ipykernel/__main__.py:2: DeprecationWarning: Call to deprecated `syn0` (Attribute will be removed in 4.0.0, use self.wv.vectors instead).\n",
      "  from ipykernel import kernelapp as app\n"
     ]
    }
   ],
   "source": [
    "model = Word2Vec(sentences, size=100,min_count=2)\n",
    "w2v = dict(zip(model.wv.index2word, model.wv.syn0))"
   ]
  },
  {
   "cell_type": "code",
   "execution_count": null,
   "metadata": {
    "collapsed": true
   },
   "outputs": [],
   "source": [
    "## might as well user glove for word vectors and then take average of the vectors.."
   ]
  },
  {
   "cell_type": "code",
   "execution_count": 484,
   "metadata": {
    "ExecuteTime": {
     "end_time": "2019-01-13T17:38:06.208044Z",
     "start_time": "2019-01-13T17:38:06.029715Z"
    },
    "collapsed": false
   },
   "outputs": [],
   "source": [
    "# pickle the w2v word vectors \n",
    "with open(\"/home/akshayuppal3/twitter_juul/models/w2v.pkl\",\"wb\") as f:\n",
    "    pickle.dump(w2v,f)"
   ]
  },
  {
   "cell_type": "code",
   "execution_count": 485,
   "metadata": {
    "ExecuteTime": {
     "end_time": "2019-01-13T17:38:07.894034Z",
     "start_time": "2019-01-13T17:38:07.891595Z"
    },
    "collapsed": false
   },
   "outputs": [],
   "source": [
    "# model.train(sentences, total_examples=len(sentences), epochs=10)"
   ]
  },
  {
   "cell_type": "code",
   "execution_count": 486,
   "metadata": {
    "ExecuteTime": {
     "end_time": "2019-01-13T17:38:08.363968Z",
     "start_time": "2019-01-13T17:38:08.297881Z"
    },
    "collapsed": false
   },
   "outputs": [],
   "source": [
    "#open the w2v model\n",
    "w2v = pickle.load(open(\"/home/akshayuppal3/twitter_juul/models/w2v.pkl\",\"rb\"))"
   ]
  },
  {
   "cell_type": "code",
   "execution_count": 488,
   "metadata": {
    "ExecuteTime": {
     "end_time": "2019-01-13T17:38:17.214565Z",
     "start_time": "2019-01-13T17:38:17.202957Z"
    },
    "collapsed": false
   },
   "outputs": [
    {
     "name": "stderr",
     "output_type": "stream",
     "text": [
      "/home/akshayuppal3/anaconda3/lib/python3.5/site-packages/gensim/matutils.py:737: FutureWarning: Conversion of the second argument of issubdtype from `int` to `np.signedinteger` is deprecated. In future, it will be treated as `np.int64 == np.dtype(int).type`.\n",
      "  if np.issubdtype(vec.dtype, np.int):\n"
     ]
    },
    {
     "data": {
      "text/plain": [
       "[('aww', 0.928421676158905),\n",
       " ('neighbor', 0.9098877906799316),\n",
       " ('ween', 0.9070401191711426),\n",
       " ('poppyseeds', 0.903370201587677),\n",
       " ('rewind', 0.9028664231300354),\n",
       " ('bagel', 0.9005237817764282),\n",
       " ('boss', 0.8994361162185669),\n",
       " ('sooo', 0.8988165855407715),\n",
       " ('amphetamines', 0.8923727869987488),\n",
       " ('ass', 0.8917268514633179)]"
      ]
     },
     "execution_count": 488,
     "metadata": {},
     "output_type": "execute_result"
    }
   ],
   "source": [
    "w = 'weed'\n",
    "model.wv.most_similar(positive=w)"
   ]
  },
  {
   "cell_type": "code",
   "execution_count": 489,
   "metadata": {
    "ExecuteTime": {
     "end_time": "2019-01-13T17:38:39.435417Z",
     "start_time": "2019-01-13T17:38:39.428082Z"
    },
    "collapsed": false
   },
   "outputs": [
    {
     "name": "stderr",
     "output_type": "stream",
     "text": [
      "/home/akshayuppal3/anaconda3/lib/python3.5/site-packages/gensim/matutils.py:737: FutureWarning: Conversion of the second argument of issubdtype from `int` to `np.signedinteger` is deprecated. In future, it will be treated as `np.int64 == np.dtype(int).type`.\n",
      "  if np.issubdtype(vec.dtype, np.int):\n"
     ]
    },
    {
     "data": {
      "text/plain": [
       "0.8512572"
      ]
     },
     "execution_count": 489,
     "metadata": {},
     "output_type": "execute_result"
    }
   ],
   "source": [
    "model.wv.similarity(w1='pot',w2='cannabis')"
   ]
  },
  {
   "cell_type": "code",
   "execution_count": 503,
   "metadata": {
    "ExecuteTime": {
     "end_time": "2019-01-13T21:52:44.334918Z",
     "start_time": "2019-01-13T21:52:44.320051Z"
    },
    "collapsed": false
   },
   "outputs": [
    {
     "name": "stderr",
     "output_type": "stream",
     "text": [
      "/home/akshayuppal3/anaconda3/lib/python3.5/site-packages/ipykernel/__main__.py:1: DeprecationWarning: Call to deprecated `syn0` (Attribute will be removed in 4.0.0, use self.wv.vectors instead).\n",
      "  if __name__ == '__main__':\n"
     ]
    }
   ],
   "source": [
    "w2v = dict(zip(model.wv.index2word, model.wv.syn0))"
   ]
  },
  {
   "cell_type": "code",
   "execution_count": 492,
   "metadata": {
    "ExecuteTime": {
     "end_time": "2019-01-13T17:38:58.825762Z",
     "start_time": "2019-01-13T17:38:58.820218Z"
    },
    "collapsed": false
   },
   "outputs": [
    {
     "name": "stderr",
     "output_type": "stream",
     "text": [
      "/home/akshayuppal3/anaconda3/lib/python3.5/site-packages/gensim/matutils.py:737: FutureWarning: Conversion of the second argument of issubdtype from `int` to `np.signedinteger` is deprecated. In future, it will be treated as `np.int64 == np.dtype(int).type`.\n",
      "  if np.issubdtype(vec.dtype, np.int):\n"
     ]
    },
    {
     "data": {
      "text/plain": [
       "0.5576079"
      ]
     },
     "execution_count": 492,
     "metadata": {},
     "output_type": "execute_result"
    }
   ],
   "source": [
    "model.wv.similarity(w1='weed',w2='high')"
   ]
  },
  {
   "cell_type": "code",
   "execution_count": 461,
   "metadata": {
    "ExecuteTime": {
     "end_time": "2019-01-13T05:35:50.632198Z",
     "start_time": "2019-01-13T05:35:50.628001Z"
    },
    "collapsed": false
   },
   "outputs": [],
   "source": [
    "# so now to classify the text as substance abuse or not based on the tags..annotated\n",
    "# so now will annotate the 500 sentences containing of weed words.. \n",
    "# going to label promotions and news as non weed\n",
    "# labels (drug: 1, non_drug:-1)\n",
    "to_annotate = mix_sample[:500]"
   ]
  },
  {
   "cell_type": "code",
   "execution_count": 4,
   "metadata": {
    "ExecuteTime": {
     "end_time": "2019-01-13T23:01:32.057100Z",
     "start_time": "2019-01-13T23:01:32.049058Z"
    },
    "collapsed": true
   },
   "outputs": [],
   "source": [
    "df_weed_ann = pd.read_csv(\"/home/akshayuppal3/weed_dataset1.csv\")\n",
    "df_weed_ann.columns = ['userID',\"tweetText\",\"label\"]"
   ]
  },
  {
   "cell_type": "code",
   "execution_count": 520,
   "metadata": {
    "ExecuteTime": {
     "end_time": "2019-01-13T21:59:44.295696Z",
     "start_time": "2019-01-13T21:59:44.287577Z"
    },
    "collapsed": true
   },
   "outputs": [],
   "source": [
    "# class that returns word2vec\n",
    "class MeanEmbeddingVectorizer(object):\n",
    "    def __init__(self, word2vec):\n",
    "        self.word2vec = word2vec\n",
    "        # if a text is empty we should return a vector of zeros\n",
    "        # with the same dimensionality as all the other vectors\n",
    "        self.dim = len(next(iter(word2vec.values())))\n",
    "\n",
    "    def fit(self, X, y):\n",
    "        return self\n",
    "\n",
    "    def transform(self, X):\n",
    "        return np.array([\n",
    "            np.mean([self.word2vec[w] for w in words if w in self.word2vec]\n",
    "                    or [np.zeros(self.dim)], axis=0)\n",
    "            for words in X\n",
    "        ])"
   ]
  },
  {
   "cell_type": "code",
   "execution_count": 522,
   "metadata": {
    "ExecuteTime": {
     "end_time": "2019-01-13T22:00:08.564766Z",
     "start_time": "2019-01-13T22:00:08.561489Z"
    },
    "collapsed": false
   },
   "outputs": [],
   "source": [
    "ob = MeanEmbeddingVectorizer(w2v)"
   ]
  },
  {
   "cell_type": "code",
   "execution_count": 551,
   "metadata": {
    "ExecuteTime": {
     "end_time": "2019-01-13T22:18:55.526275Z",
     "start_time": "2019-01-13T22:18:55.257387Z"
    },
    "collapsed": false
   },
   "outputs": [
    {
     "name": "stderr",
     "output_type": "stream",
     "text": [
      "\n",
      "\n",
      "  0%|          | 0/48622 [00:00<?, ?it/s]\u001b[A\u001b[A\n",
      "\n",
      "  0%|          | 211/48622 [00:00<00:23, 2102.86it/s]\u001b[A\u001b[A\n",
      "\n",
      "  1%|          | 419/48622 [00:00<00:23, 2095.30it/s]\u001b[A\u001b[A\n",
      "\n",
      "  1%|          | 500/48622 [00:00<00:23, 2053.28it/s]\u001b[A\u001b[A"
     ]
    }
   ],
   "source": [
    "# so the function would return teh average of the word vector from w2v 100*500\n",
    "X = ob.transform(get_words_lists(df_weed_ann))\n",
    "y = list(df_weed_ann.label)"
   ]
  },
  {
   "cell_type": "code",
   "execution_count": 552,
   "metadata": {
    "ExecuteTime": {
     "end_time": "2019-01-13T22:18:58.861466Z",
     "start_time": "2019-01-13T22:18:58.856998Z"
    },
    "collapsed": false
   },
   "outputs": [
    {
     "data": {
      "text/plain": [
       "Index(['userID', 'tweetText', 'label'], dtype='object')"
      ]
     },
     "execution_count": 552,
     "metadata": {},
     "output_type": "execute_result"
    }
   ],
   "source": [
    "df_weed_ann.columns"
   ]
  },
  {
   "cell_type": "code",
   "execution_count": 553,
   "metadata": {
    "ExecuteTime": {
     "end_time": "2019-01-13T22:19:00.877836Z",
     "start_time": "2019-01-13T22:19:00.874047Z"
    },
    "collapsed": false
   },
   "outputs": [],
   "source": [
    "# lets get the accuracy for using the feature matrix as one returned by word2vec\n",
    "from sklearn.pipeline import Pipeline\n",
    "from sklearn.ensemble import ExtraTreesClassifier\n",
    "from sklearn.naive_bayes import GaussianNB"
   ]
  },
  {
   "cell_type": "code",
   "execution_count": 569,
   "metadata": {
    "ExecuteTime": {
     "end_time": "2019-01-13T22:28:44.800379Z",
     "start_time": "2019-01-13T22:28:44.797692Z"
    },
    "collapsed": false
   },
   "outputs": [],
   "source": [
    "import sklearn"
   ]
  },
  {
   "cell_type": "code",
   "execution_count": 554,
   "metadata": {
    "ExecuteTime": {
     "end_time": "2019-01-13T22:19:01.311373Z",
     "start_time": "2019-01-13T22:19:01.298705Z"
    },
    "collapsed": false
   },
   "outputs": [
    {
     "ename": "TypeError",
     "evalue": "'module' object is not callable",
     "output_type": "error",
     "traceback": [
      "\u001b[0;31m---------------------------------------------------------------------------\u001b[0m",
      "\u001b[0;31mTypeError\u001b[0m                                 Traceback (most recent call last)",
      "\u001b[0;32m<ipython-input-554-f476e92941af>\u001b[0m in \u001b[0;36m<module>\u001b[0;34m()\u001b[0m\n\u001b[0;32m----> 1\u001b[0;31m \u001b[0mcross_validation\u001b[0m\u001b[0;34m(\u001b[0m\u001b[0mGaussianNB\u001b[0m\u001b[0;34m,\u001b[0m\u001b[0mX\u001b[0m\u001b[0;34m,\u001b[0m\u001b[0;34m)\u001b[0m\u001b[0;34m\u001b[0m\u001b[0m\n\u001b[0m",
      "\u001b[0;31mTypeError\u001b[0m: 'module' object is not callable"
     ]
    }
   ],
   "source": [
    "cross_validation(GaussianNB,X,)"
   ]
  },
  {
   "cell_type": "code",
   "execution_count": 558,
   "metadata": {
    "ExecuteTime": {
     "end_time": "2019-01-13T22:19:59.875841Z",
     "start_time": "2019-01-13T22:19:59.858688Z"
    },
    "collapsed": false
   },
   "outputs": [
    {
     "ename": "TypeError",
     "evalue": "'module' object is not callable",
     "output_type": "error",
     "traceback": [
      "\u001b[0;31m---------------------------------------------------------------------------\u001b[0m",
      "\u001b[0;31mTypeError\u001b[0m                                 Traceback (most recent call last)",
      "\u001b[0;32m<ipython-input-558-9fde4829ab01>\u001b[0m in \u001b[0;36m<module>\u001b[0;34m()\u001b[0m\n\u001b[0;32m----> 1\u001b[0;31m \u001b[0mcross_validation\u001b[0m\u001b[0;34m(\u001b[0m\u001b[0;34m)\u001b[0m\u001b[0;34m\u001b[0m\u001b[0m\n\u001b[0m",
      "\u001b[0;31mTypeError\u001b[0m: 'module' object is not callable"
     ]
    }
   ],
   "source": [
    "cross_validation."
   ]
  },
  {
   "cell_type": "code",
   "execution_count": 1,
   "metadata": {
    "ExecuteTime": {
     "end_time": "2019-01-13T22:56:25.544894Z",
     "start_time": "2019-01-13T22:56:25.532403Z"
    },
    "collapsed": false
   },
   "outputs": [
    {
     "data": {
      "text/plain": [
       "0"
      ]
     },
     "execution_count": 1,
     "metadata": {},
     "output_type": "execute_result"
    }
   ],
   "source": [
    "0 % 2"
   ]
  },
  {
   "cell_type": "code",
   "execution_count": 20,
   "metadata": {
    "ExecuteTime": {
     "end_time": "2019-01-13T23:14:36.585563Z",
     "start_time": "2019-01-13T23:14:33.935570Z"
    },
    "collapsed": false
   },
   "outputs": [],
   "source": [
    "with open(\"dataframe.csv\",\"wb\") as f:\n",
    "    pickle.dump(df_timeline,f)"
   ]
  },
  {
   "cell_type": "code",
   "execution_count": 21,
   "metadata": {
    "ExecuteTime": {
     "end_time": "2019-01-13T23:15:16.664676Z",
     "start_time": "2019-01-13T23:14:36.587451Z"
    },
    "collapsed": true
   },
   "outputs": [],
   "source": [
    "df_timeline.to_csv(\"dataframe_test.csv\")"
   ]
  },
  {
   "cell_type": "code",
   "execution_count": 23,
   "metadata": {
    "ExecuteTime": {
     "end_time": "2019-01-13T23:16:52.424309Z",
     "start_time": "2019-01-13T23:16:35.433873Z"
    },
    "collapsed": false
   },
   "outputs": [
    {
     "name": "stdout",
     "output_type": "stream",
     "text": [
      "dataframe_test.csv\r\n"
     ]
    }
   ],
   "source": [
    "# zip squash.zip \"dataframe.csv\"\n",
    "! tar -zcvf dataframe.csv.zip \"dataframe_test.csv\""
   ]
  },
  {
   "cell_type": "code",
   "execution_count": null,
   "metadata": {
    "collapsed": true
   },
   "outputs": [],
   "source": []
  }
 ],
 "metadata": {
  "anaconda-cloud": {},
  "hide_input": false,
  "kernelspec": {
   "display_name": "Python [conda env:anaconda3]",
   "language": "python",
   "name": "conda-env-anaconda3-py"
  },
  "language_info": {
   "codemirror_mode": {
    "name": "ipython",
    "version": 3
   },
   "file_extension": ".py",
   "mimetype": "text/x-python",
   "name": "python",
   "nbconvert_exporter": "python",
   "pygments_lexer": "ipython3",
   "version": "3.5.2"
  }
 },
 "nbformat": 4,
 "nbformat_minor": 1
}
