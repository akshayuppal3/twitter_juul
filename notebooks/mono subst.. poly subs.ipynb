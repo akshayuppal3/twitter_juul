{
 "cells": [
  {
   "cell_type": "code",
   "execution_count": 1,
   "metadata": {
    "collapsed": true
   },
   "outputs": [],
   "source": [
    "# check for poly and mono substance..\n",
    "# most of the tweet Ids seems to be wrong so need to check code for user timeline ..maybe getting retweetid or somethin..notr sure"
   ]
  },
  {
   "cell_type": "code",
   "execution_count": 2,
   "metadata": {
    "ExecuteTime": {
     "end_time": "2019-01-11T17:48:02.238642Z",
     "start_time": "2019-01-11T17:47:33.812179Z"
    },
    "collapsed": true
   },
   "outputs": [],
   "source": [
    "import networkx as nx\n",
    "import numpy as np\n",
    "import pandas as pd\n",
    "from tqdm import tqdm\n",
    "import matplotlib.pyplot as plt\n",
    "import ast\n",
    "import pandas as pd\n",
    "import tweepy\n",
    "import networkx as nx\n",
    "import pickle"
   ]
  },
  {
   "cell_type": "code",
   "execution_count": 3,
   "metadata": {
    "ExecuteTime": {
     "end_time": "2019-01-11T17:48:02.251868Z",
     "start_time": "2019-01-11T17:48:02.240614Z"
    },
    "collapsed": false
   },
   "outputs": [],
   "source": [
    "# now will check the relationship of all node with the source node, does it have folower or following rel.\n",
    "def create_retweet_edges(apis,source_node,user_list):\n",
    "    G = nx.DiGraph() # will add edges directly\n",
    "    # users type(int)\n",
    "    first_nodes = list()\n",
    "    for user in tqdm(user_list):\n",
    "        apis.rotate(-1)\n",
    "        api = apis[0]\n",
    "        if (user != source_node):\n",
    "            try:\n",
    "                relation_obj = api.show_friendship(source_id = (source_node), target_id = (user))[0]\n",
    "                if ((relation_obj.following == True) or (relation_obj.followed_by == True)):\n",
    "                    if user not in first_nodes:\n",
    "                        first_nodes.append(user)\n",
    "                    if (relation_obj.following == True):\n",
    "                        G.add_edge(source_node,user)\n",
    "                    if (relation_obj.followed_by == True):\n",
    "                        G.add_edge(user,source_node)\n",
    "            except tweepy.TweepError as e:\n",
    "                continue\n",
    "    return(G,first_nodes)"
   ]
  },
  {
   "cell_type": "code",
   "execution_count": 4,
   "metadata": {
    "ExecuteTime": {
     "end_time": "2019-01-11T17:48:02.372338Z",
     "start_time": "2019-01-11T17:48:02.254034Z"
    },
    "collapsed": true
   },
   "outputs": [],
   "source": [
    "# return the dataframe @type= <following,follower>\n",
    "def find_connections(apis,user_list,typef='following'):\n",
    "    df = pd.DataFrame()\n",
    "    print(\"finding connection for \"+ typef + \" network might take some time\\n\")\n",
    "    for user in tqdm(user_list):\n",
    "        apis.rotate(1)\n",
    "        api = apis[0]\n",
    "        try:\n",
    "            if typef == 'following':\n",
    "                following = (api.followers_ids(user))  # return list of followers\n",
    "                data = {\n",
    "                        'userID':user,\n",
    "                        'following_list':following\n",
    "                }\n",
    "            elif typef == 'followers':\n",
    "                friends = (api.friends_ids(user))  # return list of following\n",
    "                data = {\n",
    "                        'userID':user,\n",
    "                        'followers_list':friends\n",
    "                }\n",
    "            else:\n",
    "                print(\"wrong type specified\")\n",
    "            df = df.append(data,ignore_index=True)\n",
    "        except tweepy.TweepError as e:\n",
    "            continue\n",
    "    return df"
   ]
  },
  {
   "cell_type": "code",
   "execution_count": 5,
   "metadata": {
    "ExecuteTime": {
     "end_time": "2019-01-11T17:48:02.473332Z",
     "start_time": "2019-01-11T17:48:02.374593Z"
    },
    "collapsed": true
   },
   "outputs": [],
   "source": [
    "pd.set_option('display.max_colwidth', -1)"
   ]
  },
  {
   "cell_type": "code",
   "execution_count": 6,
   "metadata": {
    "ExecuteTime": {
     "end_time": "2019-01-11T17:48:03.222651Z",
     "start_time": "2019-01-11T17:48:02.475624Z"
    },
    "collapsed": true
   },
   "outputs": [],
   "source": [
    "# getting the remaining users for level 2\n",
    "df_user= pd.read_csv(\"/home/akshayuppal3/hexagonData.csv\",lineterminator=\"\\n\")"
   ]
  },
  {
   "cell_type": "code",
   "execution_count": 7,
   "metadata": {
    "ExecuteTime": {
     "end_time": "2019-01-11T17:48:21.686675Z",
     "start_time": "2019-01-11T17:48:03.224773Z"
    },
    "collapsed": false
   },
   "outputs": [],
   "source": [
    "# lets check the cascades for other substances like weed, marijuana etc\n",
    "df_timeline = pd.read_csv(\"/home/akshayuppal3/userTimelineData.csv\",lineterminator=\"\\n\")"
   ]
  },
  {
   "cell_type": "code",
   "execution_count": 8,
   "metadata": {
    "ExecuteTime": {
     "end_time": "2019-01-11T17:48:22.194024Z",
     "start_time": "2019-01-11T17:48:21.688635Z"
    },
    "collapsed": false
   },
   "outputs": [],
   "source": [
    "weed_words = pd.read_excel(\"/home/akshayuppal3/weed_words.xlsx\",header=None)\n",
    "weed_words.columns = ['weedID']"
   ]
  },
  {
   "cell_type": "code",
   "execution_count": 9,
   "metadata": {
    "ExecuteTime": {
     "end_time": "2019-01-11T17:48:22.199743Z",
     "start_time": "2019-01-11T17:48:22.196333Z"
    },
    "collapsed": true
   },
   "outputs": [],
   "source": [
    "weed_list = list(weed_words.weedID)"
   ]
  },
  {
   "cell_type": "code",
   "execution_count": 10,
   "metadata": {
    "ExecuteTime": {
     "end_time": "2019-01-11T17:48:22.310028Z",
     "start_time": "2019-01-11T17:48:22.201521Z"
    },
    "collapsed": false
   },
   "outputs": [],
   "source": [
    "# weed word not present in the list\n",
    "weed_list[3] = 'weed'\n",
    "weed_list.remove(weed_list[4])"
   ]
  },
  {
   "cell_type": "code",
   "execution_count": 11,
   "metadata": {
    "ExecuteTime": {
     "end_time": "2019-01-11T17:48:22.367629Z",
     "start_time": "2019-01-11T17:48:22.312139Z"
    },
    "collapsed": false
   },
   "outputs": [],
   "source": [
    "# introduce padding\n",
    "weed_list = [(' '+ word + ' ' ) for word in weed_list]"
   ]
  },
  {
   "cell_type": "code",
   "execution_count": 12,
   "metadata": {
    "ExecuteTime": {
     "end_time": "2019-01-11T17:48:22.413439Z",
     "start_time": "2019-01-11T17:48:22.369867Z"
    },
    "collapsed": true
   },
   "outputs": [],
   "source": [
    "pattern_mari = '|'.join(weed_list[:20])"
   ]
  },
  {
   "cell_type": "code",
   "execution_count": 105,
   "metadata": {
    "ExecuteTime": {
     "end_time": "2019-01-11T18:36:38.937471Z",
     "start_time": "2019-01-11T18:36:38.863746Z"
    },
    "collapsed": false
   },
   "outputs": [],
   "source": [
    "### finding all of the tweets that have retweet in the similar range(100-1000)\n",
    "df_temp = df_timeline[df_timeline['retweetCount'].between(100,1000)]"
   ]
  },
  {
   "cell_type": "code",
   "execution_count": 106,
   "metadata": {
    "ExecuteTime": {
     "end_time": "2019-01-11T18:36:48.786946Z",
     "start_time": "2019-01-11T18:36:47.838519Z"
    },
    "collapsed": false
   },
   "outputs": [],
   "source": [
    "## get all the tweets that have any occurance of the weed words\n",
    "df_weeds = df_temp[df_temp['tweetText'].str.contains(pattern_mari,case= False)]"
   ]
  },
  {
   "cell_type": "code",
   "execution_count": 107,
   "metadata": {
    "ExecuteTime": {
     "end_time": "2019-01-11T18:36:48.793490Z",
     "start_time": "2019-01-11T18:36:48.788735Z"
    },
    "collapsed": false
   },
   "outputs": [
    {
     "data": {
      "text/plain": [
       "311"
      ]
     },
     "execution_count": 107,
     "metadata": {},
     "output_type": "execute_result"
    }
   ],
   "source": [
    "len(df_weeds.userID.unique())"
   ]
  },
  {
   "cell_type": "code",
   "execution_count": 108,
   "metadata": {
    "ExecuteTime": {
     "end_time": "2019-01-11T18:36:49.347723Z",
     "start_time": "2019-01-11T18:36:49.342019Z"
    },
    "collapsed": false
   },
   "outputs": [],
   "source": [
    "df_retweets = pd.DataFrame({'retweets':list(df_weeds['retweetCount']),\n",
    "                            'tweetId':list(df_weeds['tweetId']),\n",
    "                            'userID': list(df_weeds['userID'])}\n",
    "                          )"
   ]
  },
  {
   "cell_type": "code",
   "execution_count": 109,
   "metadata": {
    "ExecuteTime": {
     "end_time": "2019-01-11T18:36:49.719929Z",
     "start_time": "2019-01-11T18:36:49.714667Z"
    },
    "collapsed": true
   },
   "outputs": [],
   "source": [
    "df_ret = df_retweets.groupby('userID')['retweets'].max()"
   ]
  },
  {
   "cell_type": "code",
   "execution_count": 110,
   "metadata": {
    "ExecuteTime": {
     "end_time": "2019-01-11T18:36:49.952286Z",
     "start_time": "2019-01-11T18:36:49.947039Z"
    },
    "collapsed": true
   },
   "outputs": [],
   "source": [
    "df_ret = df_ret.reset_index()\n",
    "df_ret = pd.DataFrame(df_ret)"
   ]
  },
  {
   "cell_type": "code",
   "execution_count": 111,
   "metadata": {
    "ExecuteTime": {
     "end_time": "2019-01-11T18:36:50.148742Z",
     "start_time": "2019-01-11T18:36:50.141028Z"
    },
    "collapsed": true
   },
   "outputs": [],
   "source": [
    "df_retf = df_ret.groupby('retweets')['userID'].agg({'count':'count'})\n",
    "df_retf = df_retf.reset_index()"
   ]
  },
  {
   "cell_type": "code",
   "execution_count": 112,
   "metadata": {
    "ExecuteTime": {
     "end_time": "2019-01-11T18:36:50.312437Z",
     "start_time": "2019-01-11T18:36:50.307663Z"
    },
    "collapsed": false
   },
   "outputs": [
    {
     "name": "stderr",
     "output_type": "stream",
     "text": [
      "/home/akshayuppal3/anaconda3/lib/python3.5/site-packages/ipykernel/__main__.py:1: FutureWarning: sort(columns=....) is deprecated, use sort_values(by=.....)\n",
      "  if __name__ == '__main__':\n"
     ]
    }
   ],
   "source": [
    "df_retf = df_retf.sort('count')"
   ]
  },
  {
   "cell_type": "code",
   "execution_count": 113,
   "metadata": {
    "ExecuteTime": {
     "end_time": "2019-01-11T18:37:00.408448Z",
     "start_time": "2019-01-11T18:37:00.039681Z"
    },
    "collapsed": false
   },
   "outputs": [
    {
     "data": {
      "image/png": "[encoded data removed]",
      "text/plain": [
       "<matplotlib.figure.Figure at 0x7fb803608208>"
      ]
     },
     "metadata": {},
     "output_type": "display_data"
    }
   ],
   "source": [
    "fig = plt.figure(figsize=(10,8))\n",
    "ax = fig.add_subplot(111)\n",
    "plt.scatter(list(df_retf['count'][0:]),list(df_retf.retweets[0:]))\n",
    "plt.title(\"number of users vs retweet_count  \")\n",
    "plt.xlabel(\"number of users\")\n",
    "plt.ylabel(\"number of retweets\")\n",
    "plt.show()"
   ]
  },
  {
   "cell_type": "code",
   "execution_count": 104,
   "metadata": {
    "ExecuteTime": {
     "end_time": "2019-01-11T18:36:24.043707Z",
     "start_time": "2019-01-11T18:36:23.655835Z"
    },
    "collapsed": false
   },
   "outputs": [
    {
     "data": {
      "image/png": "[encoded data removed]",
      "text/plain": [
       "<matplotlib.figure.Figure at 0x7fb80282abe0>"
      ]
     },
     "metadata": {},
     "output_type": "display_data"
    }
   ],
   "source": []
  },
  {
   "cell_type": "code",
   "execution_count": null,
   "metadata": {
    "ExecuteTime": {
     "end_time": "2019-01-11T17:55:37.586231Z",
     "start_time": "2019-01-11T17:55:28.837902Z"
    },
    "code_folding": [],
    "collapsed": false
   },
   "outputs": [],
   "source": [
    "valid_tweets = list()--#Dont run\n",
    "for idx,row in tqdm(df_weeds.iterrows(),total=len(df_weeds)):\n",
    "    tweetID = row[\"tweetId\"]\n",
    "    apis.rotate(1)\n",
    "    api = apis[0]\n",
    "    try:\n",
    "        if( len (valid_tweets) > 10):\n",
    "            break\n",
    "        if (len(api.retweeters(tweetID)) > 0):\n",
    "            valid_tweets.append(tweetID)\n",
    "    except tweepy.TweepError as e:\n",
    "        continue"
   ]
  },
  {
   "cell_type": "code",
   "execution_count": null,
   "metadata": {
    "ExecuteTime": {
     "end_time": "2019-01-11T17:48:24.366637Z",
     "start_time": "2019-01-11T17:48:23.735Z"
    },
    "collapsed": false
   },
   "outputs": [],
   "source": [
    "# so we got some valid ids..that might have non zero retweets\n",
    "valid_tweets"
   ]
  },
  {
   "cell_type": "code",
   "execution_count": 21,
   "metadata": {
    "ExecuteTime": {
     "end_time": "2019-01-11T17:49:42.254492Z",
     "start_time": "2019-01-11T17:49:42.249767Z"
    },
    "collapsed": false
   },
   "outputs": [
    {
     "data": {
      "text/plain": [
       "1049385934872043525"
      ]
     },
     "execution_count": 21,
     "metadata": {},
     "output_type": "execute_result"
    }
   ],
   "source": [
    "# some of the tweet ids found based on url\n",
    "1048722476287623168 # 1049481130288787457# selling weed  ..using first one\n",
    "1049385934872043525 # 1049507556853510144 #talk about drug.."
   ]
  },
  {
   "cell_type": "code",
   "execution_count": 58,
   "metadata": {
    "ExecuteTime": {
     "end_time": "2019-01-11T18:02:20.748386Z",
     "start_time": "2019-01-11T18:02:20.743942Z"
    },
    "collapsed": false
   },
   "outputs": [],
   "source": [
    "# actual source # 1048722476287623168\n",
    "df_source = df_weeds.loc[df_weeds.tweetId == 1049481130288787457]"
   ]
  },
  {
   "cell_type": "code",
   "execution_count": 62,
   "metadata": {
    "ExecuteTime": {
     "end_time": "2019-01-11T18:02:43.053091Z",
     "start_time": "2019-01-11T18:02:43.033108Z"
    },
    "collapsed": false
   },
   "outputs": [
    {
     "data": {
      "text/html": [
       "<div>\n",
       "<table border=\"1\" class=\"dataframe\">\n",
       "  <thead>\n",
       "    <tr style=\"text-align: right;\">\n",
       "      <th></th>\n",
       "      <th>favourites_count</th>\n",
       "      <th>friendList</th>\n",
       "      <th>friendsCount</th>\n",
       "      <th>hashtags</th>\n",
       "      <th>imageurl</th>\n",
       "      <th>lang</th>\n",
       "      <th>retweetCount</th>\n",
       "      <th>retweeted</th>\n",
       "      <th>tweetCreatedAt</th>\n",
       "      <th>tweetId</th>\n",
       "      <th>tweetText</th>\n",
       "      <th>userCreatedAt</th>\n",
       "      <th>userDescription</th>\n",
       "      <th>userFollowersCount</th>\n",
       "      <th>userID</th>\n",
       "      <th>userLocation</th>\n",
       "      <th>userName</th>\n",
       "    </tr>\n",
       "  </thead>\n",
       "  <tbody>\n",
       "    <tr>\n",
       "      <th>77582</th>\n",
       "      <td>294</td>\n",
       "      <td>None</td>\n",
       "      <td>404</td>\n",
       "      <td>NaN</td>\n",
       "      <td>http://pbs.twimg.com/profile_images/1028331179207012358/4IptB6S2_normal.jpg</td>\n",
       "      <td>en</td>\n",
       "      <td>667</td>\n",
       "      <td>False</td>\n",
       "      <td>2018-10-09 02:06:14</td>\n",
       "      <td>1049481130288787457</td>\n",
       "      <td>I ain't selling weed no more .. This nigga done gave me a Twen😑 https://t.co/hXpyr7wRPF</td>\n",
       "      <td>2014-03-03 02:59:03</td>\n",
       "      <td>FIU || MAF</td>\n",
       "      <td>502</td>\n",
       "      <td>2377877379</td>\n",
       "      <td>Miramar, FL</td>\n",
       "      <td>Notthefather</td>\n",
       "    </tr>\n",
       "  </tbody>\n",
       "</table>\n",
       "</div>"
      ],
      "text/plain": [
       "       favourites_count friendList  friendsCount hashtags  \\\n",
       "77582  294               None       404           NaN       \n",
       "\n",
       "                                                                          imageurl  \\\n",
       "77582  http://pbs.twimg.com/profile_images/1028331179207012358/4IptB6S2_normal.jpg   \n",
       "\n",
       "      lang  retweetCount retweeted       tweetCreatedAt              tweetId  \\\n",
       "77582  en   667           False     2018-10-09 02:06:14  1049481130288787457   \n",
       "\n",
       "                                                                                     tweetText  \\\n",
       "77582  I ain't selling weed no more .. This nigga done gave me a Twen😑 https://t.co/hXpyr7wRPF   \n",
       "\n",
       "             userCreatedAt userDescription  userFollowersCount      userID  \\\n",
       "77582  2014-03-03 02:59:03  FIU || MAF      502                 2377877379   \n",
       "\n",
       "      userLocation      userName  \n",
       "77582  Miramar, FL  Notthefather  "
      ]
     },
     "execution_count": 62,
     "metadata": {},
     "output_type": "execute_result"
    }
   ],
   "source": [
    "df_source"
   ]
  },
  {
   "cell_type": "code",
   "execution_count": 61,
   "metadata": {
    "ExecuteTime": {
     "end_time": "2019-01-11T18:02:33.027577Z",
     "start_time": "2019-01-11T18:02:33.023246Z"
    },
    "collapsed": false
   },
   "outputs": [
    {
     "data": {
      "text/plain": [
       "\"I ain't selling weed no more .. This nigga done gave me a Twen😑 https://t.co/hXpyr7wRPF\""
      ]
     },
     "execution_count": 61,
     "metadata": {},
     "output_type": "execute_result"
    }
   ],
   "source": [
    "df_source.tweetText.values[0]"
   ]
  },
  {
   "cell_type": "code",
   "execution_count": 26,
   "metadata": {
    "ExecuteTime": {
     "end_time": "2019-01-11T17:50:24.328217Z",
     "start_time": "2019-01-11T17:50:24.323837Z"
    },
    "collapsed": false
   },
   "outputs": [
    {
     "data": {
      "text/plain": [
       "1049481130288787457"
      ]
     },
     "execution_count": 26,
     "metadata": {},
     "output_type": "execute_result"
    }
   ],
   "source": [
    "df_source.tweetId.values[0]"
   ]
  },
  {
   "cell_type": "code",
   "execution_count": 28,
   "metadata": {
    "ExecuteTime": {
     "end_time": "2019-01-11T17:51:53.262542Z",
     "start_time": "2019-01-11T17:51:53.041458Z"
    },
    "collapsed": false
   },
   "outputs": [
    {
     "data": {
      "text/plain": [
       "0"
      ]
     },
     "execution_count": 28,
     "metadata": {},
     "output_type": "execute_result"
    }
   ],
   "source": [
    "# so our user is not the main source ... but he is part of a chain .. so we will look aty cascade from source\n",
    "# found the source based on url..label our user as green and source as yellow\n",
    "api = apis[0]\n",
    "len(api.retweeters(\"1049481130288787457\"))"
   ]
  },
  {
   "cell_type": "code",
   "execution_count": 29,
   "metadata": {
    "ExecuteTime": {
     "end_time": "2019-01-11T17:52:23.990317Z",
     "start_time": "2019-01-11T17:52:23.272556Z"
    },
    "collapsed": false
   },
   "outputs": [
    {
     "data": {
      "text/plain": [
       "90"
      ]
     },
     "execution_count": 29,
     "metadata": {},
     "output_type": "execute_result"
    }
   ],
   "source": [
    "len(api.retweeters(\"1048722476287623168\"))"
   ]
  },
  {
   "cell_type": "code",
   "execution_count": 123,
   "metadata": {
    "ExecuteTime": {
     "end_time": "2019-01-11T18:56:47.067776Z",
     "start_time": "2019-01-11T18:56:47.056979Z"
    },
    "collapsed": false
   },
   "outputs": [
    {
     "data": {
      "text/plain": [
       "77582    667\n",
       "Name: retweetCount, dtype: int64"
      ]
     },
     "execution_count": 123,
     "metadata": {},
     "output_type": "execute_result"
    }
   ],
   "source": [
    "df_source.retweetCount"
   ]
  },
  {
   "cell_type": "code",
   "execution_count": 30,
   "metadata": {
    "ExecuteTime": {
     "end_time": "2019-01-11T17:52:29.525956Z",
     "start_time": "2019-01-11T17:52:29.487158Z"
    },
    "collapsed": false
   },
   "outputs": [],
   "source": [
    "# retweets based on https://twren.ch/\n",
    "df_weed_retweet = pd.read_csv(\"/home/akshayuppal3/weed_retweets.csv\",index_col=0,header=None)"
   ]
  },
  {
   "cell_type": "code",
   "execution_count": 122,
   "metadata": {
    "ExecuteTime": {
     "end_time": "2019-01-11T18:56:12.958058Z",
     "start_time": "2019-01-11T18:56:12.951737Z"
    },
    "collapsed": false
   },
   "outputs": [
    {
     "data": {
      "text/plain": [
       "594"
      ]
     },
     "execution_count": 122,
     "metadata": {},
     "output_type": "execute_result"
    }
   ],
   "source": [
    "len(df_weed_retweet)"
   ]
  },
  {
   "cell_type": "code",
   "execution_count": 31,
   "metadata": {
    "ExecuteTime": {
     "end_time": "2019-01-11T17:52:30.543261Z",
     "start_time": "2019-01-11T17:52:30.539969Z"
    },
    "collapsed": false
   },
   "outputs": [],
   "source": [
    "df_weed_retweet.columns = [\"userID\",\"twitter_name\",\"followers\",\"following\",\"verified\"]"
   ]
  },
  {
   "cell_type": "code",
   "execution_count": 32,
   "metadata": {
    "ExecuteTime": {
     "end_time": "2019-01-11T17:52:32.145171Z",
     "start_time": "2019-01-11T17:52:32.142186Z"
    },
    "collapsed": false
   },
   "outputs": [],
   "source": [
    "df_weed_retweet.reset_index(drop=True,inplace=True)"
   ]
  },
  {
   "cell_type": "code",
   "execution_count": 33,
   "metadata": {
    "ExecuteTime": {
     "end_time": "2019-01-11T17:52:35.112789Z",
     "start_time": "2019-01-11T17:52:35.109779Z"
    },
    "collapsed": false
   },
   "outputs": [],
   "source": [
    "source_node = 220896945 # user_id of the orginal tweet source"
   ]
  },
  {
   "cell_type": "code",
   "execution_count": 34,
   "metadata": {
    "ExecuteTime": {
     "end_time": "2019-01-11T17:52:43.687380Z",
     "start_time": "2019-01-11T17:52:43.684020Z"
    },
    "collapsed": false
   },
   "outputs": [],
   "source": [
    "user_list = list(df_weed_retweet.userID)"
   ]
  },
  {
   "cell_type": "code",
   "execution_count": null,
   "metadata": {
    "ExecuteTime": {
     "start_time": "2019-01-11T17:56:30.043Z"
    },
    "collapsed": false
   },
   "outputs": [
    {
     "name": "stderr",
     "output_type": "stream",
     "text": [
      " 89%|████████▉ | 531/594 [01:44<00:12,  5.07it/s]"
     ]
    }
   ],
   "source": [
    "# now will check the relationship of all node with the source node, does it have folower or following rel.\n",
    "# def create_retweet_edges(source_node,user_list,filename):\n",
    "G = nx.DiGraph() # will add edges directly\n",
    "# users type(int)\n",
    "for user in tqdm(user_list):\n",
    "    apis.rotate(-1)\n",
    "    api = apis[0]\n",
    "    if (user != source_node):\n",
    "        try:\n",
    "            relation_obj = api.show_friendship(source_id = (source_node), target_id = (user))[0]\n",
    "            if (relation_obj.following == True):\n",
    "                G.add_edge(source_node,user)\n",
    "            if (relation_obj.followed_by == True):\n",
    "                G.add_edge(user,source_node)\n",
    "        except tweepy.TweepError as e:\n",
    "            print(e.response.text)\n",
    "            continue\n",
    "# return(G)\n",
    "import pickle\n",
    "pickle.dump(G, open('graph_temp.pkl', 'wb'))"
   ]
  },
  {
   "cell_type": "code",
   "execution_count": 35,
   "metadata": {
    "ExecuteTime": {
     "end_time": "2019-01-11T17:52:48.259313Z",
     "start_time": "2019-01-11T17:52:48.231429Z"
    },
    "collapsed": false
   },
   "outputs": [],
   "source": [
    "G = pickle.load(open(\"graph_temp.pkl\",\"rb\"))"
   ]
  },
  {
   "cell_type": "code",
   "execution_count": 319,
   "metadata": {
    "collapsed": false
   },
   "outputs": [],
   "source": [
    "color_map = list()\n",
    "for node in G.nodes():\n",
    "    if node == source_node:\n",
    "        color_map.append(\"yellow\")\n",
    "    else:\n",
    "        color_map.append(\"green\")"
   ]
  },
  {
   "cell_type": "code",
   "execution_count": 320,
   "metadata": {
    "collapsed": false
   },
   "outputs": [
    {
     "data": {
      "image/png": "[encoded data removed]",
      "text/plain": [
       "<matplotlib.figure.Figure at 0x7f708eb97f98>"
      ]
     },
     "metadata": {},
     "output_type": "display_data"
    }
   ],
   "source": [
    "## 1st level graph based on 594 users\n",
    "# yellow specify the source\n",
    "nx.draw(G,node_color=color_map)\n",
    "plt.show()"
   ]
  },
  {
   "cell_type": "code",
   "execution_count": 36,
   "metadata": {
    "ExecuteTime": {
     "end_time": "2019-01-11T17:52:55.316049Z",
     "start_time": "2019-01-11T17:52:55.310894Z"
    },
    "collapsed": false
   },
   "outputs": [
    {
     "data": {
      "text/plain": [
       "False"
      ]
     },
     "execution_count": 36,
     "metadata": {},
     "output_type": "execute_result"
    }
   ],
   "source": [
    "# even the user in the data is not part of the 1st level cascade\n",
    "df_source.userID.values[0] in G.nodes()"
   ]
  },
  {
   "cell_type": "code",
   "execution_count": 47,
   "metadata": {
    "ExecuteTime": {
     "end_time": "2019-01-11T17:59:27.602526Z",
     "start_time": "2019-01-11T17:59:27.598149Z"
    },
    "collapsed": false
   },
   "outputs": [
    {
     "name": "stdout",
     "output_type": "stream",
     "text": [
      "we require 2nd level\n"
     ]
    }
   ],
   "source": [
    "if(len(G.edges()) < len(user_list)):\n",
    "    print(\"we require 2nd level\")\n",
    "first_nodes = list(set(G.nodes()) - set([source_node]))"
   ]
  },
  {
   "cell_type": "code",
   "execution_count": 49,
   "metadata": {
    "ExecuteTime": {
     "end_time": "2019-01-11T17:59:45.513278Z",
     "start_time": "2019-01-11T17:59:43.192404Z"
    },
    "collapsed": false
   },
   "outputs": [
    {
     "name": "stderr",
     "output_type": "stream",
     "text": [
      "\r",
      "  0%|          | 0/3 [00:00<?, ?it/s]"
     ]
    },
    {
     "name": "stdout",
     "output_type": "stream",
     "text": [
      "finding connection for following network might take some time\n",
      "\n"
     ]
    },
    {
     "name": "stderr",
     "output_type": "stream",
     "text": [
      "100%|██████████| 3/3 [00:00<00:00,  5.17it/s]\n",
      " 33%|███▎      | 1/3 [00:00<00:00,  5.71it/s]"
     ]
    },
    {
     "name": "stdout",
     "output_type": "stream",
     "text": [
      "finding connection for followers network might take some time\n",
      "\n"
     ]
    },
    {
     "name": "stderr",
     "output_type": "stream",
     "text": [
      "100%|██████████| 3/3 [00:00<00:00,  5.66it/s]\n",
      "100%|██████████| 3/3 [00:01<00:00,  2.48it/s]\n"
     ]
    }
   ],
   "source": [
    "# G,first_nodes = create_retweet_edges(apis,source_node,user_list)\n",
    "if (len(first_nodes) < len(user_list)):\n",
    "    rem_users = list(set(user_list) - set(first_nodes))\n",
    "    second_user = list()\n",
    "    # find both the following and follower relationship\n",
    "    df_following = find_connections(apis,first_nodes,'following')\n",
    "    df_followers = find_connections(apis,first_nodes,'followers')\n",
    "    for node in tqdm(first_nodes):\n",
    "        for user in rem_users:\n",
    "            followers = (df_following.following_list[df_following.userID == node].values[0])\n",
    "            following = (df_followers.followers_list[df_followers.userID == node].values[0])        \n",
    "            if ((user in set(followers)) or (user in set(following))):\n",
    "                if (user not in second_user):\n",
    "                    second_user.append(user)\n",
    "                if (user in set(followers)):\n",
    "                    G.add_edge(user,node)\n",
    "                if user in set(following):\n",
    "                    G.add_edge(node,user)\n",
    "with open('graph_temp.pkl', 'wb') as handle:\n",
    "    pickle.dump(G, handle, protocol=pickle.HIGHEST_PROTOCOL)\n",
    "\n",
    "# and then we get the final 2nd level graph"
   ]
  },
  {
   "cell_type": "code",
   "execution_count": 50,
   "metadata": {
    "ExecuteTime": {
     "end_time": "2019-01-11T17:59:52.335182Z",
     "start_time": "2019-01-11T17:59:52.331333Z"
    },
    "collapsed": true
   },
   "outputs": [],
   "source": [
    "G = pickle.load(open(\"graph_temp.pkl\",\"rb\"))"
   ]
  },
  {
   "cell_type": "code",
   "execution_count": 51,
   "metadata": {
    "ExecuteTime": {
     "end_time": "2019-01-11T17:59:58.813524Z",
     "start_time": "2019-01-11T17:59:58.809194Z"
    },
    "collapsed": false
   },
   "outputs": [],
   "source": [
    "shells =  [[source_node]] + [first_nodes] + [second_user]\n",
    "pos = nx.shell_layout(G,shells)"
   ]
  },
  {
   "cell_type": "code",
   "execution_count": 52,
   "metadata": {
    "ExecuteTime": {
     "end_time": "2019-01-11T17:59:59.429596Z",
     "start_time": "2019-01-11T17:59:59.423741Z"
    },
    "collapsed": false
   },
   "outputs": [],
   "source": [
    "color_map = list()\n",
    "for node in pos.keys():\n",
    "    if node == source_node:\n",
    "        color_map.append(\"yellow\")\n",
    "    else:\n",
    "        if node in set(first_nodes):\n",
    "            color_map.append(\"green\")\n",
    "        elif node in set(second_user):\n",
    "            color_map.append(\"pink\")"
   ]
  },
  {
   "cell_type": "code",
   "execution_count": 397,
   "metadata": {
    "collapsed": false
   },
   "outputs": [
    {
     "data": {
      "image/png": "[encoded data removed]",
      "text/plain": [
       "<matplotlib.figure.Figure at 0x7f708e7b2ef0>"
      ]
     },
     "metadata": {},
     "output_type": "display_data"
    }
   ],
   "source": [
    "# weed propagation for 2lvl cascades\n",
    "nx.draw(G,nodelist=pos.keys(),pos=pos,node_color=color_map,with_labels=False,)\n",
    "ax = plt.gca()\n",
    "ax.set_aspect('equal')\n",
    "ax.set_axis_off()\n",
    "plt.title(\"2 level cascade\")\n",
    "plt.show()"
   ]
  },
  {
   "cell_type": "code",
   "execution_count": 56,
   "metadata": {
    "ExecuteTime": {
     "end_time": "2019-01-11T18:01:11.284975Z",
     "start_time": "2019-01-11T18:01:11.280413Z"
    },
    "collapsed": false
   },
   "outputs": [
    {
     "data": {
      "text/plain": [
       "[220896945, 547662904, 2975052792, 603834332, 457977052, 91691742]"
      ]
     },
     "execution_count": 56,
     "metadata": {},
     "output_type": "execute_result"
    }
   ],
   "source": [
    "G.nodes()"
   ]
  },
  {
   "cell_type": "code",
   "execution_count": 57,
   "metadata": {
    "ExecuteTime": {
     "end_time": "2019-01-11T18:01:25.533638Z",
     "start_time": "2019-01-11T18:01:25.529080Z"
    },
    "collapsed": false
   },
   "outputs": [
    {
     "data": {
      "text/plain": [
       "1049481130288787457"
      ]
     },
     "execution_count": 57,
     "metadata": {},
     "output_type": "execute_result"
    }
   ],
   "source": [
    "df_source.tweetId.values[0]"
   ]
  },
  {
   "cell_type": "code",
   "execution_count": 55,
   "metadata": {
    "ExecuteTime": {
     "end_time": "2019-01-11T18:01:04.781991Z",
     "start_time": "2019-01-11T18:01:04.777309Z"
    },
    "collapsed": false
   },
   "outputs": [
    {
     "data": {
      "text/plain": [
       "False"
      ]
     },
     "execution_count": 55,
     "metadata": {},
     "output_type": "execute_result"
    }
   ],
   "source": [
    "df_source.tweetId.values[0] in G.nodes()"
   ]
  },
  {
   "cell_type": "code",
   "execution_count": 199,
   "metadata": {
    "collapsed": false
   },
   "outputs": [
    {
     "data": {
      "text/plain": [
       "19"
      ]
     },
     "execution_count": 199,
     "metadata": {},
     "output_type": "execute_result"
    }
   ],
   "source": [
    "len(api.retweets(\"1048722476287623168\"))"
   ]
  },
  {
   "cell_type": "markdown",
   "metadata": {},
   "source": [
    "### testing"
   ]
  },
  {
   "cell_type": "code",
   "execution_count": 42,
   "metadata": {
    "ExecuteTime": {
     "end_time": "2019-01-11T17:55:13.316090Z",
     "start_time": "2019-01-11T17:55:13.274568Z"
    },
    "collapsed": false
   },
   "outputs": [],
   "source": [
    "from authentication import Authenticate\n",
    "from collections import deque\n",
    "ob = Authenticate()\n",
    "apis = ob.api\n",
    "apis = deque(apis)"
   ]
  },
  {
   "cell_type": "code",
   "execution_count": 43,
   "metadata": {
    "ExecuteTime": {
     "end_time": "2019-01-11T17:55:14.951648Z",
     "start_time": "2019-01-11T17:55:14.946683Z"
    },
    "collapsed": false
   },
   "outputs": [
    {
     "data": {
      "text/plain": [
       "9"
      ]
     },
     "execution_count": 43,
     "metadata": {},
     "output_type": "execute_result"
    }
   ],
   "source": [
    "len(apis)"
   ]
  },
  {
   "cell_type": "code",
   "execution_count": null,
   "metadata": {
    "collapsed": true
   },
   "outputs": [],
   "source": []
  }
 ],
 "metadata": {
  "anaconda-cloud": {},
  "hide_input": false,
  "kernelspec": {
   "display_name": "Python [conda env:anaconda3]",
   "language": "python",
   "name": "conda-env-anaconda3-py"
  },
  "language_info": {
   "codemirror_mode": {
    "name": "ipython",
    "version": 3
   },
   "file_extension": ".py",
   "mimetype": "text/x-python",
   "name": "python",
   "nbconvert_exporter": "python",
   "pygments_lexer": "ipython3",
   "version": "3.5.2"
  }
 },
 "nbformat": 4,
 "nbformat_minor": 1
}
