{
 "cells": [
  {
   "cell_type": "code",
   "execution_count": 1,
   "metadata": {},
   "outputs": [],
   "source": [
    "import pandas as pd\n",
    "import numpy as np\n",
    "import nltk\n",
    "import spacy\n",
    "import re"
   ]
  },
  {
   "cell_type": "code",
   "execution_count": 49,
   "metadata": {},
   "outputs": [],
   "source": [
    "import warnings\n",
    "warnings.filterwarnings('once')"
   ]
  },
  {
   "cell_type": "code",
   "execution_count": 59,
   "metadata": {},
   "outputs": [],
   "source": [
    "from tqdm import tqdm"
   ]
  },
  {
   "cell_type": "code",
   "execution_count": 24,
   "metadata": {},
   "outputs": [],
   "source": [
    "pd.set_option('display.max_colwidth', -1)"
   ]
  },
  {
   "cell_type": "code",
   "execution_count": 3,
   "metadata": {},
   "outputs": [],
   "source": [
    "df = pd.read_csv('~/twitter_juul/input/userTimelineData.csv',lineterminator='\\n', index_col=None)"
   ]
  },
  {
   "cell_type": "code",
   "execution_count": 9,
   "metadata": {},
   "outputs": [],
   "source": [
    "df_mari = df[df['tweetText'].str.contains(\"marijuana\")] "
   ]
  },
  {
   "cell_type": "code",
   "execution_count": 10,
   "metadata": {},
   "outputs": [
    {
     "data": {
      "text/plain": [
       "3074"
      ]
     },
     "execution_count": 10,
     "metadata": {},
     "output_type": "execute_result"
    }
   ],
   "source": [
    "len(df_mari)"
   ]
  },
  {
   "cell_type": "code",
   "execution_count": 12,
   "metadata": {},
   "outputs": [],
   "source": [
    "df_cann = df[df['tweetText'].str.contains(\"cannabis\")]"
   ]
  },
  {
   "cell_type": "code",
   "execution_count": 13,
   "metadata": {},
   "outputs": [
    {
     "data": {
      "text/plain": [
       "4412"
      ]
     },
     "execution_count": 13,
     "metadata": {},
     "output_type": "execute_result"
    }
   ],
   "source": [
    "len(df_cann)"
   ]
  },
  {
   "cell_type": "code",
   "execution_count": 14,
   "metadata": {},
   "outputs": [
    {
     "data": {
      "text/plain": [
       "1344182"
      ]
     },
     "execution_count": 14,
     "metadata": {},
     "output_type": "execute_result"
    }
   ],
   "source": [
    "len(df)"
   ]
  },
  {
   "cell_type": "code",
   "execution_count": 15,
   "metadata": {},
   "outputs": [],
   "source": [
    "# we have 3074 with cannabis\n",
    "# and 4412 tweets with cannabis"
   ]
  },
  {
   "cell_type": "code",
   "execution_count": 29,
   "metadata": {},
   "outputs": [
    {
     "data": {
      "text/plain": [
       "271        I bet this is Juuls fault too!   2 million US teens are vaping marijuana, survey finds https://t.co/WodJWowy6C #FoxNews #vape # vapefam                                                                                                                                                                       \n",
       "592        Teens who vape or use hookah are more likely to use marijuana later, study finds | Get Smart About Drugs: https://t.co/vZIOtIwtMo #Vape #JUUL #GNCY #talkearly #talkoften #prevention                                                                                                                         \n",
       "598        Marijuana caused more damage to teens' brains than alcohol, study finds #marijuana #prevention https://t.co/2Q9W0kMDFj via @usatoday                                                                                                                                                                          \n",
       "601        Happening soon: SAM’s congressional briefing on marijuana legalization’s impact on the opioid epidemic. Stay tuned!                                                                                                                                                                                           \n",
       "605        Colorado’s failed experiment in marijuana legalization has led to youth use in Colorado 85% higher than the national average, marijuana-related traffic fatalities up 151%, 70% of dispensaries recommending potent pot to pregnant mothers, and a booming black market.                                      \n",
       "613        Research is indicating that marijuana potentially has more negative longterm effects on developing brains than alcohol use. Of course, pot is still illegal for those under 21,but so is beer. It hasn’t worked out so well. Increased access/normalization = increased use.                                  \n",
       "615        According to data out of Colorado, since marijuana has been legalized drugged driving went from killing roughly one person every 6.5 days to now killing someone every 2.5 days. #HighMeansDUI                                                                                                                \n",
       "623        Almost 1 in 11 students has vaped #cannabis, report says | Get Smart About Drugs: #vaping #marijuana https://t.co/aIhMI5Fz3T                                                                                                                                                                                  \n",
       "639        Brain Development, Teen Behavior and Preventing #Drug Use #prevention #marijuana #teen https://t.co/hdod54RznP                                                                                                                                                                                                \n",
       "647        To Begin Addressing Your Child's Drug Use, Start Talking #talkearly #talkoften #drugs #marijuana #alcohol https://t.co/ATJDPIzMyN                                                                                                                                                                             \n",
       "650        Teens who vape or use hookah are more likely to use marijuana later, study finds @CNN https://t.co/mqwaXaUO7m #vaping #marijuana #pot #prevention                                                                                                                                                             \n",
       "665        How to Know if Your Kid is Vaping Marijuana - and What to Do About It - Where Families Find Answers on Substance Use | Partnership for Drug-Free Kids #JUUL #vape #marijuana https://t.co/QYTAQ4Padu                                                                                                          \n",
       "668        We're exposing a new generation of #children to #marijuana through legal ads. The more ads they see, the more likely they are to use it: https://t.co/WrWhW9YwcN                                                                                                                                              \n",
       "672        Brain Development, Teen Behavior and Preventing Drug Use #marijuana #talkearly #talkoften https://t.co/Pye8BQLIeo                                                                                                                                                                                             \n",
       "675        Drugged Driving via @NIDAnews  After alcohol, marijuana is the drug most often found in the blood of drivers involved in crashes. #druggeddriving https://t.co/wTfkp4qjUo                                                                                                                                     \n",
       "681        Whatever the people selling them tell you, though, #marijuana #edibles are not candy. Not even close. https://t.co/LvtoUXOKG2                                                                                                                                                                                 \n",
       "682        No matter what the packaging or advertising says, marijuana edibles are not candy. https://t.co/eFnBkfIxdo #NIDAteens https://t.co/i3NBWQYJIl                                                                                                                                                                 \n",
       "684        #MarijuanaAddiction - Yes, You Can Become Addicted to Marijuana. And the Problem is Growing. #addiction #marijuana #talkearly #talkoften https://t.co/ASe51FumV3 via @pewtrusts                                                                                                                               \n",
       "685        Marijuana use among teens is thought to be more widespread than alcohol use. Yet, many parents still don't believe their teen would ever smoke marijuana. https://t.co/MidgK9ZoOY                                                                                                                             \n",
       "687        Marijuana is addictive. About 1 in 6 people who start using as a teen, and 25-50 percent of those who use it every day, become addicted to marijuana. #marijuana https://t.co/ZjoiiCnQ74                                                                                                                      \n",
       "688        Drugged Driving via @NIDAnews Drinking and driving &amp; using marijuana and driving - both driving under the influence and both the most common drugs linked to drugged driving crashes. #prevention #druggeddriving https://t.co/O8LkeBAoyc                                                                 \n",
       "689        Nineteen percent of #teendrivers reports they have driven under the influence of marijuana. -verywellmind #drugs #driving #marijuana https://t.co/YhJx3dCCeK                                                                                                                                                  \n",
       "690        Among persons aged 18 or older who reported lifetime #marijuana use, almost 53 percent report first using marijuana between ages 12 and 17. About 2 percent report that they first used marijuana before age 12. - verywellmind #prevention  #marijuananews https://t.co/lI9fnAahcC                           \n",
       "695        The way to prevent your kids from using marijuana, is to talk to them about the risks early, and often. To make those conversations more impactful, we can educate ourselves.   Here is an article with information about vaping marijuana, and what that... https://t.co/BfgnMJY8Uk                          \n",
       "720        Why do kids some pot? #prevention #marijuana #talkearly #talkoften https://t.co/P4J25uIWVr                                                                                                                                                                                                                    \n",
       "739        How Much Should We Tell Our #Teens About Our Bad Choices In High School? #talkearly #talkoften #alcohol #marijuana https://t.co/RNIBxnkPFK                                                                                                                                                                    \n",
       "742        Inside a raid on a Cuban drug den in Colorado #marijuana #weed https:https://t.co/tqzw93JDoz via @todayshow                                                                                                                                                                                                   \n",
       "754        It's #NationalPreventionWeek. Today’s theme is prevention of illicit drug use &amp; youth #marijuana use. https://t.co/6ZYOihKnMQ                                                                                                                                                                             \n",
       "756        Illegal grow ops brazenly hiding amongst legal grows and pot being smuggled across the country. The marijuana black market is thriving in legalized states!  https://t.co/u0U7DbQ2eq                                                                                                                          \n",
       "772        Marijuana and the effects on the brain. #marijuana #teensafety #talkearly https://t.co/agKrMroX5p                                                                                                                                                                                                             \n",
       "                                                         ...                                                                                                                                                                                                                                                             \n",
       "1303036    Free every single person locked up on nonviolent marijuana charges &amp; expunge their records. Right now. https://t.co/GkfVWWSiIy                                                                                                                                                                            \n",
       "1304615    Read our resource about what local and state governments working on #marijuanalegalization can learn from #tobaccocontrol: https://t.co/NDzgoSdGwE #publichealth https://t.co/ufD4CbzlWv                                                                                                                      \n",
       "1304626    Via @themotleyfool, #BigTobacco makes its first investment in the #marijuana industry: https://t.co/5YeQaprJfz                                                                                                                                                                                                \n",
       "1304643    Read our newest Tobacco Control Legal Consortium Bulletin, and learn about how #tobaccocontrol can inform #marijuanalegalization, our new Amicus Brief database, and more...https://t.co/j1rjCWkcS9 #publichealth https://t.co/sHN6Dtv8Pa                                                                     \n",
       "1304648    We updated our resource about #marijuanalegalization and the #publichealth lessons to be learned from #tobaccocontrol. https://t.co/NDzgoSdGwE https://t.co/C3lTRbymZt                                                                                                                                        \n",
       "1305923    mom told me to look outside and let her know when her “weed guy” shows up. after gluing my eyes to the driveway for 20 minutes thinking my mother was ab to buy marijuana in front of me, our landscaper pulls up. our landscaper. her weed guy. seeya                                                        \n",
       "1306357    Should Utah legalize marijuana?  RT for yes Like for no  Trying to prove a point.                                                                                                                                                                                                                             \n",
       "1307955    Since 1989, the #WarOnDrugs has killed ⬆️14X as many people/year as the drugs themselves. - Source: https://t.co/4eWf4Ks2lN - #libertarianism #marijuana https://t.co/ivPILP5sJb                                                                                                                              \n",
       "1308308    @motormouthmedia I enjoy marijuana                                                                                                                                                                                                                                                                            \n",
       "1311954    #ConstellationBrands Pours $4bil into new partnership with #marijuana grower Canopy Growth will include “a full suite of products” https://t.co/v5c7H6rW5L                                                                                                                                                    \n",
       "1313039    @superbmarijuana Check dm                                                                                                                                                                                                                                                                                     \n",
       "1313040    @superbmarijuana Me                                                                                                                                                                                                                                                                                           \n",
       "1313243    Back in the “Reefer Madness” days, the gateway fallacy was used; marijuana as a gateway to heroin. It’s been debunked in that case. Repeat a lie often and loudly is propaganda in action. #vaping is a successful path *out of* smoking. https://t.co/OzTS9cHUUA                                             \n",
       "1315667    FDA Commissioner @SGottliebFDA terms teen e-cigarette use “ubiquitous,” but, according to federal surveys, that descriptor is more accurate for teen marijuana and alcohol use. #VaporMadness https://t.co/uLWz1kCv75                                                                                         \n",
       "1315765    @FDATobacco That scary red circle would have to be three times larger for illegal teen alcohol use, and twice as large for illegal teen marijuana use.  And the numbers represent 30-day ever use, which is primarily occasional.  Daily ecigs use was found to be very rare.                                 \n",
       "1318158    An article sure to stir controversy but one that raises important questions about marijuana. #cannabis  https://t.co/QrgQtWtmWe                                                                                                                                                                               \n",
       "1322972    You can't sell marijuana products without a license #grotonMA  https://t.co/HVXjygK7PR via @boston25                                                                                                                                                                                                          \n",
       "1322983    @KamalaHarris @DrugPolicyOrg Actually too many lives have been ruined by early onset initiation to marijuana use. Unfortunately Decriminalization removed early intervention opportunities previously applied in the court system.                                                                            \n",
       "1323012    Thanks for covering @rgoulston this is troubling trend we are seeing with youth unfortunately. Not only vaping or juuling addictive nicotine products but also highly concentrated marijuana/THC oils. Parents &amp; kids need more awareness of this harmful trend. https://t.co/CIS427deE3                  \n",
       "1327265    Just in: Canada just legalized marijuana nationwide.   Canadians will be able to buy and smoke recreational marijuana as soon as September 🍃💨 https://t.co/WmZiWl5y9c                                                                                                                                         \n",
       "1327388    Coke and Aurora Cannabis are reportedly in talks to make marijuana-infused drinks https://t.co/Cl7VPxWBEp                                                                                                                                                                                                     \n",
       "1329268    A Girl Scout in San Diego sold more than 300 boxes of cookies in a few hours by setting up shop in front of a marijuana dispensary; Genius.  Young entrepreneurs ftw                                                                                                                                          \n",
       "1332124    Use of tobacco and #marijuanaproducts regularly featured in hip-hop #music videos @JAMAInternalMed https://t.co/Mh5QVEESBT                                                                                                                                                                                    \n",
       "1332209    #Medicalmarijuana might help MS patients, but uncertainty remains @jamanetworkopen https://t.co/XMHV3O9WiC                                                                                                                                                                                                    \n",
       "1332216    #Missouri voters must decide on 3 medical #marijuana plans https://t.co/602pOWx7KF                                                                                                                                                                                                                            \n",
       "1332858    “We’re still debating if it’s okay to give veterans medical marijuana for PTSD. You know, because marijuana is dangerous...unlike the war they were just in.” #Sharpe4Gov #SharpeHollister2018 #Libertarian #aNewNY #marijuana #cannabis #PTSD #Veterans #LegalizeIt https://t.co/4z0VepmvfP                  \n",
       "1333043    This from @sampath_uday on $KO looking at #cannabis infused drink market. #cbd #marijuana https://t.co/HeS7wXqWFM                                                                                                                                                                                             \n",
       "1333093    I mean #marijuana https://t.co/jR3QMFG4Vt                                                                                                                                                                                                                                                                     \n",
       "1336341    70% of people with schizophrenia smoke.  61% with bipolar disorder.  One explanation is they are self-medicating w/nicotine.  Like medical marijuana for cancer patients and people suffering chronic pain?  People w/mental illness are people.  Tobacco #HarmReduction reduces harm. https://t.co/bARkDJz8R4\n",
       "1343799    STUDY: Nearly $60 million of the marijuana tax revenue collected by the state of Washington since legalization came from purchases intended for out-of-state consumption. https://t.co/HRqc6kYyEg #CatoDrugWar https://t.co/BOCBGD8VKr                                                                        \n",
       "Name: tweetText, Length: 3074, dtype: object"
      ]
     },
     "execution_count": 29,
     "metadata": {},
     "output_type": "execute_result"
    }
   ],
   "source": [
    "# lets see the text in them\n",
    "df_mari['tweetText']\n",
    "# some prevention andd studies , promtion campaigns :\n",
    "\n",
    "# Marijuana and the effects on the brain. #marijuana #teensafety #talkearly https://t.co/agKrMroX5p        \n",
    "\n",
    "# Free every single person locked up on nonviolent marijuana charges &amp; \n",
    "# expunge their records. Right now. https://t.co/GkfVWWSiIy \n",
    "\n",
    "# Coke and Aurora Cannabis are reportedly in talks to make marijuana-infused drinks https://t.co/Cl7VPxWBEp            \n",
    "\n",
    "# 1307955    Since 1989, the #WarOnDrugs has killed ⬆️14X as many people/year as the drugs themselves. - Source: https://t.co/4eWf4Ks2lN - #libertarianism #marijuana https://t.co/ivPILP5sJb     \n",
    "\n",
    "\n",
    "# some users\n",
    "# 1313039    @superbmarijuana Check dm  \n",
    "# 1333093    I mean #marijuana https://t.co/jR3QMFG4Vt  \n",
    "# 1327265    Just in: Canada just legalized marijuana nationwide.   Canadians will be able to buy and smoke recreational marijuana as soon as September 🍃💨 https://t.co/WmZiWl5y9c                                                                                                                       \n",
    "# So need a way to separate the studies and people actually consuming and reporting on twitetr..?\n"
   ]
  },
  {
   "cell_type": "code",
   "execution_count": 31,
   "metadata": {},
   "outputs": [
    {
     "data": {
      "text/plain": [
       "623        Almost 1 in 11 students has vaped #cannabis, report says | Get Smart About Drugs: #vaping #marijuana https://t.co/aIhMI5Fz3T                                                                                                                                                                                                                   \n",
       "10030      Teens aren't just smoking cannabis, study says -- they're eating and vaping it, too - CNN https://t.co/MtD1zIOof1                                                                                                                                                                                                                              \n",
       "14478      Synthetic cannabinoids, also known as K2 or spice, are a psychoactive substance produced to mimic the effects of cannabis. https://t.co/bqtTKJ3wNb https://t.co/IsWf0Tkhp1                                                                                                                                                                     \n",
       "16506      I'm prepping for a media interview on comms strategies of #cannabisindustry companies. Has anyone heard anecdotally about PR firms refusing or being hesitant to deal with such companies? Please DM me if so. I get the impression most PR firms are keen to win new biz in this sector                                                       \n",
       "19107      Cannabis Vaping Gains Foothold Among Schoolkids &gt;&gt;&gt; #cannabis #BackToSchool2018 #marijuananews #parenting #vaping #juul https://t.co/DrMxhmLFIS                                                                                                                                                                                       \n",
       "20342      @JoanneSpetz @AnnieLowrey Great article! Just the use of the very stigmatizing term \"addict\" prominently in the title is rather unlucky. I understand that titles need to be catchy but language matters. Thus, person-first language (people with a cannabis use disorder) would be much appreciated. Thanks!                                 \n",
       "20390      Towards more humane drug policies: The Constitutional Court of #Georgia admits that the punishment for consumption of #cannabis is disproportionate. #SupportDontPunish #Legalize https://t.co/AYJR2tCzzg                                                                                                                                      \n",
       "20393      Yarrow Kurbin @NCIAorg: The Office of #Cannabis (OOC) in SF provides great resources - advantage of local initiatives with equity applicants (SF, LA, OAK, SAC)  is that businesses can adjust to support equity in the cannabis space. #CannaBizSummit #inclusion #policy                                                                     \n",
       "20395      John Hudak @BrookingsInst: Morality is the way to govern the society! Increase federal funding for cannabis research, let science prove that you are right/wrong @jeffsessions #CannaBizSummit #EndTheStigma #NCIA @DrugPolicyOrg @MarijuanaPolicy https://t.co/wmYwRSPHk5                                                                     \n",
       "20396      James Cole @NCIAorg: We are not serving the public good if we keep #cannabis as Schedule I drug making it hard to create more scientific evidence for medical use! #EndProhibition #Legalize                                                                                                                                                   \n",
       "20397      James Cole @SidleyLaw talks with @FAaronSmith @NCIAorg: Stability in the cannabis industry is important for public safety - not every violation to the law should be prosecuted! https://t.co/HXuLJiXxK8                                                                                                                                       \n",
       "20409      More energy behind a “wait” #cannabis #prevention curriculum in schools: https://t.co/xtvpK624qR @ashleyabrmsn @BeingAdept  @UCSFPsychiatry @SPRORG @CPDDBlog @NIDAnews @UCSF @LauraSchmidtPhD @Dr_Mark_R @erinvogelPhD @maier_larissa @dr_meacham                                                                                             \n",
       "22240      Vaping CBD for #arthritis? The CAPRI study gaining worldwide attention. https://t.co/a5ByCRSvus #vaping #eliquid #ejuice #vapes #vape #marijuana #hemp #CBD #cannabis #getstoned #stonedaf #blunts #bongs #joints #blazed #nug #roll #weedporn #weedpics #hightime #sohigh #thc #weed https://t.co/BoYhO3ox6d                                  \n",
       "22274      As #Canada legalizes #marijuana, Canadian colleges forced to rethink smoking policies https://t.co/b2G8ThcMHT #vaping #eliquid #ejuice #vapes #vape #hemp #CBD #cannabis #ganja #smokeit #high #highaf #gethigh #stoned #getstoned #stonedaf #blunts #bongs #joints #blazed #nug #roll https://t.co/uxDoZWeY0q                                 \n",
       "22313      @CocaCola is  fast-tracking new #CBD-enhanced products.  Yes, Cannabis Coke MIGHT be at your grocers very soon! https://t.co/Q7fc7gGO8y #vaping #eliquid #ejuice #vapes #vape #marijuana #hemp #cannabis #CBD #smokeit #high #highaf #gethigh #stoned #getstoned #stonedaf #blunts https://t.co/6RSECAi1Is                                     \n",
       "22361      CDC confirms teens are #vaping weed.  BULLSHIT ALERT:  GENERATIONS OF TEENS HAVE ALWAYS USED #MARIJUANA.  IT'S NOT THE VAPING INDUSTRY'S FAULT! https://t.co/yUSOLhUQpr  #vapesale #eliquid #ejuice #vapes #vape #marijuana #hemp #CBD #cannabis #ganja #smokeit #high #highaf #gethigh https://t.co/jIIvXnuSgt                                \n",
       "22389      WSJ: Trump Administration &amp; AG Jeff Sessions have not approved a single application for #marijuana research EVER!  https://t.co/1FtZo6WNnO #CBD #cannabidiol #cannabis #ganja #smokeit #high #weedporn #weedpics #hightime #sohigh #thc #weedlife #weedlove #weedporn @RealDonad_Trump https://t.co/egvZeSGRY6                             \n",
       "22407      Want another reason to vote in the midterms? Pending #Marijuana legislation in on the ballot in 4 states. https://t.co/r9kTL53KU1 #vaping #vapes #vape #eliquid #ejuice #CBD #cannabidiol #cannabis #ganja #smokeit #high #highaf #gethigh #stoned #getstoned #stonedaf #blunts https://t.co/wt1lV2ZXhB                                        \n",
       "23025      The latest The Kula Fields Daily! https://t.co/BLmQmRuqva Thanks to @tomroelens @BiRiteSF @djkajibee #jbfa #cannabisnews                                                                                                                                                                                                                       \n",
       "23117      The latest The Kula Fields Daily! https://t.co/He0p23F588 Thanks to @gravyontherice @lemonbirdjams @swianecki #hawaii #cannabis                                                                                                                                                                                                                \n",
       "23126      The latest The Kula Fields Daily! https://t.co/FCp57WDKyj Thanks to @foodfirstorg #cannabis #islandnews                                                                                                                                                                                                                                        \n",
       "24172      If cannabis is ever legalised in Ireland, I’m going to move to Clare and open a cannabis café called Spliffs of Moher                                                                                                                                                                                                                          \n",
       "30791      @bakerbee1 @SimonChapman6 Can't you just imagine what he says to t@healthgovau @CancerCouncilOz @quitvic.    He calls harm reduced cannabis delivery methods #ecigs just to demonise #vaping for  cigarette smokers.  For F***s Sake, not sucking in burning matter because you are now sucking in aerosol is good                             \n",
       "30794      @goldensplace @AlexWodak @ScottMorrisonMP My best friends brother was always a little odd, shy &amp; hermit like as a child/ teen, basically depressed. He used cannabis well after the family knew he was like this. They assumed drugs were making it worse. The poor darling was just trying to self medicate. He killed himself.           \n",
       "31507      When does the American public realise that billions of their tax dollars are used for federal &amp; supranational 'health' bodies whose only goal is protecting the #pharma industry revenues from competition? #juul #vaping #Nicorette #fda #cannabis #opioids https://t.co/l7rFCwGGRz                                                       \n",
       "36030      @Tip @Vevo 🚫serious contacts only🚫 High quality marijuana and cannabisoil DM for order/inquiry  📩kik: dabbudskingz  📩//wickr: dabbudskingz 📩hangout/WhatsApp +1 724-739-3867 #weed #weeds #weedfeed #thc #weedporn #kief #cbd #IAmCannabis  #bowlpack #pothead #stoned #kush #high #cannabis https://t.co/VQU0I8BBS6                           \n",
       "36032      @FrencHMonTanA @Drake @ghettokids_tfug 🚫Only serious contacts only🚫 High quality plug DM for order/inquiry  📩kik: dabbudskingz  📩//wickr: dabbudskingz 📩hangout/WhatsApp +1 724-739-3867 #weed #weeds #weedfeed #thc #weedporn #kief #cbd #bong #IAmCannabis  #bowlpack #pothead #stoned #kush #high #cannabis #shatter https://t.co/BGXaRKgNLj\n",
       "36033      @Tip @Vevo 🚫serious contacts only🚫 High quality marijuana DM for order/inquiry  📩kik: dabbudskingz  📩//wickr: dabbudskingz 📩hangout/WhatsApp +1 724-739-3867 #weed #weeds #weedfeed #thc #weedporn #kief #cbd #bong #IAmCannabis  #bowlpack #pothead #stoned #kush #high #cannabis #shatter https://t.co/3GwYLv67zW                            \n",
       "36036      @SnoopDogg @TamarBraxtonHer @ebenet 🚫Only serious contacts only🚫 High quality plug DM for order/inquiry  📩kik: dabbudskingz  📩//wickr: dabbudskingz 📩hangout/WhatsApp +1 724-739-3867 #weed #weeds #weedfeed #thc #weedporn #kief #cbd #bong #IAmCannabis  #bowlpack #pothead #stoned #kush #high #cannabis #shatter https://t.co/hProFTKAow   \n",
       "36039      Big bags It happens the most hated plant is the best and most important Best numbers #gethigh #420 #thc #indica #sativa #hybrid #stoned #highculture #stoner #dab #CBD #kushgang #pothead #cannabis #highculture #cannabiscommunity #kief #weedporn #loudpack #stonernation #stonergirl https://t.co/KOd0FdcEf5                                \n",
       "                                                                                                                                                                ...                                                                                                                                                                                       \n",
       "1327741    Serving Berkeley &amp; Supporting Local Artists for the last 💯 Years! 🌟🌟  @efnorris X @pyrologyglass Recycler  Now available online https://t.co/tPyA2O1Nbf  #efnorris #efnorrisglass #glassgallery #pyrologyglass #pyrology #recycler #recyclerforsale #dabs #dabrig #terps #cannabis https://t.co/MlwwY8PWWC                                 \n",
       "1327779    @cha_glass X @cruxglass Elephant recycler 🐘   Now available online https://t.co/tPyA2O1Nbf   #elephant #dabrig #dabs #elephantdabs #glassporn #chaglass #glasscollab #collabglass #glassart #artglass #glasscollector #glassforsale #headyglass #elephantglass #cannabis #thc https://t.co/1B0y3CVLTk                                          \n",
       "1327781    Cobra by @nikocray Available online at https://t.co/tPyA2O1Nbf  #whelanssmokeshop #nikocray #cray #cobra #snake #snakeart #cobrakai #artglass #glassart #glassforsale  #glasscollector #glasslife #dabs #dabrig #terps #cannabiscup #hightimes #berkeley #sfbay #bayarea #bayareadabbers https://t.co/i92DWme5rJ                               \n",
       "1327782    Cobra by @nikocray   Available online at https://t.co/tPyA2O1Nbf  #whelanssmokeshop #nikocray #cray #cobra #snake #snakeart #cobrakai #artglass #glassart #bongbeauties #glassforsale #glass4sale #glasscollector #glasslife #dabs #dabrig #terps #cannabiscup #hightimes #berkeley https://t.co/AEUXn1j6er                                    \n",
       "1327783    Dripping Lemon by @lyonsglass X @purdyglass Glass  Available online at https://t.co/tPyA2O1Nbf  #lyonsglass #purdyglass #collab #artglass #bongbeauties #glassforsale #glass4sale #glasscollector #glasslife #dabs #dabrig #terps #cannabiscup #hightimes #berkeley #sfbay #bayarea https://t.co/RAn6ng8qKn                                    \n",
       "1327784    Dripping Lemon by @lyonsglass X @purdyglass Glass  Available online at https://t.co/tPyA2O1Nbf  #lyonsglass #purdyglass #glasscollab #collab #artglass #glassforsale #glasscollector #dabs #dabrig #terps #cannabiscup #hightimes #berkeley #sfbay #bayarea #bayareadabbers #thc https://t.co/cp7BIOckXM                                       \n",
       "1327872    Let’s go Bears!!🐻💛💙   Supporting #Berkeley &amp; local artists for the past 💯 years!  New website is underway! Lay away options available 🤔🎁 https://t.co/tPyA2O1Nbf   #glassforsale #weed #cannabis #calbears #bears #dispensary #sfbayarea #glassporn #glasscollector #dabrig #bong https://t.co/Mk3ewmSLgl                                  \n",
       "1327877    New website is LIVE!   Shipping &amp; layaway options 🎁  https://t.co/tPyA2O1Nbf   #Berkeley #bayarea #sfbay #smokeshop #vapeshop #glassart #artglass #cannabis #weedmaps #dabs                                                                                                                                                                \n",
       "1332133    Canada doctors wary of #cannabis legalization @CMAJ https://t.co/9dbi9eEEaR                                                                                                                                                                                                                                                                    \n",
       "1332163    #YoungCanadians face heightened crash risk after consuming #cannabis, new study finds @mcgillu @CMAJ https://t.co/5Mg2eTw7pN                                                                                                                                                                                                                   \n",
       "1332194    If cannabis use increases after legalization, #government must alter the act @CMAJ @CMAJ https://t.co/s3TspN35qC                                                                                                                                                                                                                               \n",
       "1332202    As legalization looms, Canada #cannabis crackdown worries tokers https://t.co/IdqutE48zi                                                                                                                                                                                                                                                       \n",
       "1332270    #Canada makes final preparations before #cannabis becomes legal https://t.co/JqFHJfODQf                                                                                                                                                                                                                                                        \n",
       "1332463    If we're going to treat cannabis like alcohol, there should at least be bars where we can smoke it                                                                                                                                                                                                                                             \n",
       "1332858    “We’re still debating if it’s okay to give veterans medical marijuana for PTSD. You know, because marijuana is dangerous...unlike the war they were just in.” #Sharpe4Gov #SharpeHollister2018 #Libertarian #aNewNY #marijuana #cannabis #PTSD #Veterans #LegalizeIt https://t.co/4z0VepmvfP                                                   \n",
       "1332985    While every tom, dick and harry is going the cannabis way $PEP folks say \"No plans to do anything\" with it at this point. The stock that was down 0.8 percent now falls further to 1.5 pct.                                                                                                                                                    \n",
       "1333043    This from @sampath_uday on $KO looking at #cannabis infused drink market. #cbd #marijuana https://t.co/HeS7wXqWFM                                                                                                                                                                                                                              \n",
       "1339386    A personal message from our founder: https://t.co/XUrqAqEIG6   To life, liberty, and freedom!  #smokenetwork #smoke #blockchain #cannabis #socialnetwork                                                                                                                                                                                       \n",
       "1339459    What are your plans this 4/20?    Our ICO starts today at 12 UTC!!!    #420 #crypto #cannabis #weed #ico #coinsale https://t.co/CGqA2FWZ7L                                                                                                                                                                                                     \n",
       "1339832    🔊Hoy en @upvehu por el día de @unisaludables mostramos el nudo tabaco-cannabis para impulsar su control  @evictproject @CNPT_E @PNSDgob   ➕ℹwww.evictproject@gmail.com https://t.co/mFH03XQJ6r                                                                                                                                                 \n",
       "1339833    🔊Hoy en @upvehu por el día de @unisaludables mostramos el nudo tabaco-cannabis para impulsar su control  @evictproject @CNPT_E @PNSDgob   ➕ℹwww.evictproject@gmail.com https://t.co/mFH03XQJ6r                                                                                                                                                 \n",
       "1339862    #jornadas2018sedet ⚠Consumo de tabaco, cannabis y alcohol en jóvenes? Qué hacer? @IsornaManuel @SEDEToficial https://t.co/CkVtGclTAJ                                                                                                                                                                                                           \n",
       "1339863    ¿Qué hacemos con el consumo de tabaco, cannabis y alcohol en los jóvenes?  ¿Cómo actuamos?  #sedet2018Valencia https://t.co/lvANe028cW                                                                                                                                                                                                         \n",
       "1339864    #jornadas2018sedet  🆘En el consumo de cannabis en los adolescentes las variables como la hora de llegada a casa y la disponibilidad percibida son significativos  @CanSaludable @JAGarciaPastor  @CNPT_E @SEDEToficial @DiegoVillalon_ @aecc_es @fep_pacientes @davdiaper @AVallejoD79 https://t.co/SB63JNQt5A                                 \n",
       "1339894    #sedet2018Valencia @reginadalmau @CNPT_E: Felicita al grupo de trabajo multidisciplinar @evictproject por abordar tabaco y cannabis @PNSDgob                                                                                                                                                                                                   \n",
       "1339918    2/2 Puntos claves en #UnRetodeTodos  @FundacionMQI @Adelaidalpolo @faecap @CNPT_E: ✔Prevenir nuevos tipos de consumo #ecig , cachimbas, IQOS, Jull, cannabis (www.evictproject .org) ✔Abordaje comunitario (salir de la consulta) ✔Formación Profesionales ✔Existen recursos útiles                                                            \n",
       "1339972    El mayor estudio sobre cannabis y esquizofrenia confirma su vínculo https://t.co/pFuVu0FIgq @CNPT_E                                                                                                                                                                                                                                            \n",
       "1339999    Ya \"on line\" el Curso @evictproject sobre El \"nudo\" #cannabis - #tabaco impulsado por el @CNPT_E y financiado por el @PNSDgob. Con @AdelaidaLPolo, @eleduenolanado, @aupazabala y muchos otros conocidos... Todo un placer y un lujo el material aportado.                                                                                     \n",
       "1343789    We’re reducing tobacco consumption with regulation, taxation and education. Cannabis use has remained stagnant despite its illegality. If the intention is to draw parallels between the two substances, logically then the proposal is to regulate, tax and educate about cannabis? https://t.co/aUmumy60Z6                                   \n",
       "1343961    Justin Trudeau's nanny state strikes again, this time with plain packaging for cannabis, cigars, and cigarettes. Have your voice heard, and tell the government to leave consumers alone, by going to https://t.co/9XJIYpgBRr #Cdnpoli https://t.co/mNVGGibUQk                                                                                 \n",
       "Name: tweetText, Length: 4412, dtype: object"
      ]
     },
     "execution_count": 31,
     "metadata": {},
     "output_type": "execute_result"
    }
   ],
   "source": [
    "df_cann['tweetText']\n",
    "\n",
    "## Promotions\n",
    "#36036: @SnoopDogg @TamarBraxtonHer @ebenet 🚫Only serious contacts only🚫 High quality plug DM for order/inquiry  📩kik: dabbudskingz  📩//wickr: dabbudskingz 📩hangout/WhatsApp +1 724-739-3867 #weed #weeds #weedfeed #thc #weedporn #kief #cbd #bong #IAmCannabis  #bowlpack #pothead #stoned #kush #high #cannabis #shatter https://t.co/hProFTKAow   \n",
    "# 1327782 : Cobra by @nikocray   Available online at https://t.co/tPyA2O1Nbf  #whelanssmokeshop #nikocray #cray #cobra #snake #snakeart #cobrakai #artglass #glassart #bongbeauties #glassforsale #glass4sale #glasscollector #glasslife #dabs #dabrig #terps #cannabiscup #hightimes #berkeley https://t.co/AEUXn1j6er\n",
    "##USEr\n",
    "\n",
    "## Studies:\n",
    "# 1332163    #YoungCanadians face heightened crash risk after consuming #cannabis, new study finds @mcgillu @CMAJ https://t.co/5Mg2eTw7pN   \n",
    "\n",
    "## Politics:\n",
    "#  Justin Trudeau's nanny state strikes again, this time with plain packaging for cannabis, cigars, and cigarettes. Have your voice heard, and tell the government to leave consumers alone, by going to https://t.co/9XJIYpgBRr #Cdnpoli https://t.co/mNVGGibUQk \n",
    "\n",
    "## User\n",
    "#24172: If cannabis is ever legalised in Ireland, I’m going to move to Clare and open a cannabis café called Spliffs of Moher   "
   ]
  },
  {
   "cell_type": "code",
   "execution_count": 33,
   "metadata": {},
   "outputs": [
    {
     "data": {
      "text/plain": [
       "0          Cake cake cake cake                                                                                                                                                       \n",
       "1          @SSEEEGE hahahahhahahaha                                                                                                                                                  \n",
       "2          Talk back to your ideas your to back talk                                                                                                                                 \n",
       "3          YOU WILL ALWAYS REMEMBER THIS AS THE DAY U ALMOST CAUGHT CAPTAIN JACK SPARROW                                                                                             \n",
       "4          @Anubis754 crown #juul                                                                                                                                                    \n",
       "5          @levelsbeats this is fresh as anything. Well done                                                                                                                         \n",
       "6          Loyalty is the name                                                                                                                                                       \n",
       "7          Alright.  If you're jumping outta planes I could catch ya everyone said to do it betcha So I came to prove it betcha                                                      \n",
       "8          Wiz told me go and get it, Extra sauce and cheese breaded Pizza delivery man preps it Straight out the bottle sip it                                                      \n",
       "9          Now if you need a new hype I'll spread it. If you think I'd die for it, beddit. Man, I'm nomadic, sporadic, statue when she grabs addit 🏀                                 \n",
       "10         Rapping in a beat that ain't mine. Pony tail up like check a land mine. If you stay on your grind I guarantee they'll notice only hope young                              \n",
       "11         - man that you do not blow this. You have one shot you know this. Please promise you will not throw this. Away and up the only way to go so                               \n",
       "12         Donut blow your shot. 🍩🏀                                                                                                                                                  \n",
       "13         Learn from the past, don't live in the past.                                                                                                                              \n",
       "14         moral of the story is.. get paid!                                                                                                                                         \n",
       "15         @itaylorswift4u @studenthumours once in your life, train (live) with the will to die                                                                                      \n",
       "16         Im the conquered of the Mayans the Cherokee who won't be dyin the all American who ain't no canadain't you ain't me and you never will be. 7                              \n",
       "17         Im the hand of God. The dark messiah. The vengeful One.                                                                                                                   \n",
       "18         #ballyhoo cures my depression every time 😁🙏🏼                                                                                                                              \n",
       "19         Like the clique can't hold us                                                                                                                                             \n",
       "20         So I put my hands up like the city can't hold me like grandma Gwen told me go gold all day homie. Go brass and get ya ass passed like joint                               \n",
       "21         will never understand people who have a new best friend every other month 🙄                                                                                               \n",
       "22         As I look around they don't do it like my  But oh my I stay so fly. I play the game like high fly wifi  Call me a gamer bad bish tamer                                    \n",
       "23         And yet, no matter what we do, people like you and me are never really satisfied inside the box. Not for long.                                                            \n",
       "24         And we find them repulsive, which is why we surround ourselves with large, comfortable boxes to keep them away.                                                           \n",
       "25         The 12 Greatest Power Moves Ever Pulled By America: https://t.co/gJUmFNlgSp https://t.co/J0hrIS7tN4                                                                       \n",
       "26         I do not work on vacation guys                                                                                                                                            \n",
       "27         She gets up at the crack of dawn Her center is unbeatable  Her disease untreatable but you  Love her all the same                                                         \n",
       "28         I wanna tell u my intentions                                                                                                                                              \n",
       "29         I had to do it on my own Because once your grown  The light you got going on is  Only shown  If You let it shine                                                          \n",
       "                                                                 ...                                                                                                                 \n",
       "1344152    The latest in #Programmer #Coder &amp; #Developer Daily! https://t.co/kGORL0ReDf Thanks to @alberto_bairati @Brainhubeu @tsholo_ramokoka #books #technology               \n",
       "1344153    Top 6 books for Unix and Shell Script Beginners | LambdaTest https://t.co/JEiWUCQTa5 #html5                                                                               \n",
       "1344154    The latest in #Programmer #Coder &amp; #Developer Daily! https://t.co/98n8L2MZBu Thanks to @Bloggs74 @bardtech_info #html5 #css3                                          \n",
       "1344155    Abstraction Games calls for better programmer pay https://t.co/N5hS535aRO                                                                                                 \n",
       "1344156    The latest in #Programmer #Coder &amp; #Developer Daily! https://t.co/OlLjKvJGpt Thanks to @Infosilicon @milapuestasdep @ArbitrosCeuta #ios #weekend                      \n",
       "1344157    Game Content https://t.co/ezf3WaeNCl                                                                                                                                      \n",
       "1344158    The latest in #Programmer #Coder &amp; #Developer Daily! https://t.co/PRpGOoPfnq Thanks to @SmartCityCork @mogster @neirajones #tech #technology                          \n",
       "1344159    Finding time for learning in a time hungry world - Saffron Interactive https://t.co/xOqKTlXkOy                                                                            \n",
       "1344160    The latest in #Programmer #Coder &amp; #Developer Daily! https://t.co/UXbZ17UzbI Thanks to @wapikazi @MagHelmutWimmer @techfeatured #chatbots #automation                 \n",
       "1344161    How much does it cost to make a video game? https://t.co/rnTk3NYrpg                                                                                                       \n",
       "1344162    The latest in #Programmer #Coder &amp; #Developer Daily! https://t.co/Dk39uM5Nw4 Thanks to @SWITCHEDON_NYC @Domoviye2 @jeffthemaximum #javascript #technology             \n",
       "1344163    The Coming Revolution In Software Development https://t.co/InNvCM6j1X #ai                                                                                                 \n",
       "1344164    The latest in #Programmer #Coder &amp; #Developer Daily! https://t.co/6kmKpd3oCU Thanks to @EllenTamatey @spaceforearth @codefellows #development #softwaredevelopment    \n",
       "1344165    Interview with Mosh Hamedani – Diogo Ferreira – Medium https://t.co/BoqJfnCimg #interview                                                                                 \n",
       "1344166    The latest in #Programmer #Coder &amp; #Developer Daily! https://t.co/AmSnknasid Thanks to @Soya_Cincau @iotportal1 @rcamargo #programming #development                   \n",
       "1344167    What is Coding: The Complete Coding 101 Guide For Beginners https://t.co/RL5t9hgZUD #programmer                                                                           \n",
       "1344168    The latest in #Programmer #Coder &amp; #Developer Daily! https://t.co/101zLoJqMf Thanks to @Rubicon_Agency @3gHR @codemintbox #development #socialcare                    \n",
       "1344169    Python vs R – Who Is Really Ahead in Data Science, Machine Learning? - https://t.co/YgT5IYURwp #datascience                                                               \n",
       "1344170    The latest in #Programmer #Coder &amp; #Developer Daily! https://t.co/CRGMYJa1vR Thanks to @MrAnele_ZA @Recro_io @Fattymustrun #developer #programmer                     \n",
       "1344171    The network is now open for developers https://t.co/NoOKT2kERR                                                                                                            \n",
       "1344172    The latest in #Programmer #Coder &amp; #Developer Daily! https://t.co/LY7MLx2wyg Thanks to @EducationGov @Tech901 @mbajobs_health #leadership #glaxosmithkline            \n",
       "1344173    #5MinCPDPlan by @LeadingLearner and @TeacherToolkit https://t.co/6dI73ewOlo #5mincpdplan                                                                                  \n",
       "1344174    The latest in #Programmer #Coder &amp; #Developer Daily! https://t.co/JYvERxWh09 Thanks to @MichaelPageNL @WASHResultsMVE @Hanumanum #agile #wordcamp                     \n",
       "1344175    7 Ranks of Coderhood: Coder, Programmer, Computer Scientist, Developer, Engineer, Architect | CoderHood https://t.co/ZcKt2FGTG3 #coderhood                                \n",
       "1344176    The latest in #Programmer #Coder &amp; #Developer Daily! https://t.co/CZ3AQNFxo4 Thanks to @dailynewstz @aistechnolabs @_t_emitayo #greatermanchester #softwaredevelopment\n",
       "1344177    Droogans/unmaintainable-code https://t.co/VK0jFod0t4                                                                                                                      \n",
       "1344178    The latest in #Programmer #Coder &amp; #Developer Daily! https://t.co/JBVT1mnXGU Thanks to @pchiwan @infifanews @ilDug #tech #investors                                   \n",
       "1344179    My week on Twitter 🎉: 1 Like, 1 Retweet, 4.09K Retweet Reach, 3 New Followers. See yours with https://t.co/TNjZXKXc2q https://t.co/fkGE3YY0Ka                             \n",
       "1344180    Producer Maran Coates talks to us on teamwork, building trust and… https://t.co/aDIwwxfIJv                                                                                \n",
       "1344181    The latest in #Programmer #Coder &amp; #Developer Daily! https://t.co/7aZ5yPODgi Thanks to @Ubiqum @MaracheFCathie @EvidenceInEdu #ios #technology                        \n",
       "Name: tweetText, Length: 1344182, dtype: object"
      ]
     },
     "execution_count": 33,
     "metadata": {},
     "output_type": "execute_result"
    }
   ],
   "source": [
    "df['tweetText']"
   ]
  },
  {
   "cell_type": "code",
   "execution_count": 34,
   "metadata": {},
   "outputs": [],
   "source": [
    "# preprocess the text : stop words,\n",
    "# get the vocalb for cannabis\n",
    "# check all teh tweets that have those occurences\n",
    "# finally plot the timestamp of those versus juul..."
   ]
  },
  {
   "cell_type": "code",
   "execution_count": 50,
   "metadata": {},
   "outputs": [
    {
     "name": "stderr",
     "output_type": "stream",
     "text": [
      "/home/auppal8/.local/lib/python3.6/site-packages/msgpack_numpy.py:184: PendingDeprecationWarning: encoding is deprecated, Use raw=False instead.\n",
      "  return _unpackb(packed, **kwargs)\n"
     ]
    }
   ],
   "source": [
    "spacy.load('en')\n",
    "from spacy.lang.en import English\n",
    "parser = English()\n",
    "def tokenize(text):\n",
    "    lda_tokens = []\n",
    "    tokens = parser(text)\n",
    "    for token in tokens:\n",
    "        if token.orth_.isspace():\n",
    "            continue\n",
    "        elif token.like_url:\n",
    "            lda_tokens.append('URL')\n",
    "#         elif token.orth_.startswith('@'):\n",
    "#             lda_tokens.append('SCREEN_NAME')\n",
    "        else:\n",
    "            lda_tokens.append(token.lower_)\n",
    "    return lda_tokens"
   ]
  },
  {
   "cell_type": "code",
   "execution_count": 51,
   "metadata": {},
   "outputs": [
    {
     "name": "stderr",
     "output_type": "stream",
     "text": [
      "[nltk_data] Downloading package wordnet to /home/auppal8/nltk_data...\n",
      "[nltk_data]   Package wordnet is already up-to-date!\n"
     ]
    }
   ],
   "source": [
    "import nltk\n",
    "nltk.download('wordnet')\n",
    "from nltk.corpus import wordnet as wn\n",
    "def get_lemma(word):\n",
    "    lemma = wn.morphy(word)\n",
    "    if lemma is None:\n",
    "        return word\n",
    "    else:\n",
    "        return lemma\n",
    "    \n",
    "from nltk.stem.wordnet import WordNetLemmatizer\n",
    "def get_lemma2(word):\n",
    "    return WordNetLemmatizer().lemmatize(word)"
   ]
  },
  {
   "cell_type": "code",
   "execution_count": 35,
   "metadata": {},
   "outputs": [
    {
     "name": "stderr",
     "output_type": "stream",
     "text": [
      "[nltk_data] Downloading package stopwords to\n",
      "[nltk_data]     /home/auppal8/nltk_data...\n",
      "[nltk_data]   Package stopwords is already up-to-date!\n"
     ]
    }
   ],
   "source": [
    "# getting stpwords from nltk\n",
    "nltk.download('stopwords')\n",
    "stopword_set = set(nltk.corpus.stopwords.words('english'))"
   ]
  },
  {
   "cell_type": "code",
   "execution_count": null,
   "metadata": {},
   "outputs": [],
   "source": [
    "def prepare_text_for_lda(text):\n",
    "    tokens = tokenize(text)\n",
    "    tokens = [token for token in tokens if len(token) > 2]\n",
    "#     tokens = [token for token in tokens if token not in stopword_set]\n",
    "    tokens = [get_lemma(token) for token in tokens]\n",
    "    return tokens"
   ]
  },
  {
   "cell_type": "code",
   "execution_count": 41,
   "metadata": {},
   "outputs": [],
   "source": [
    "df_tweet = (df['tweetText'].str.lower().str.split())"
   ]
  },
  {
   "cell_type": "code",
   "execution_count": 44,
   "metadata": {},
   "outputs": [],
   "source": [
    "# removing the stop words\n",
    "df_tweet = df_tweet.apply(lambda x: [item for item in x if item not in stopword_set])"
   ]
  },
  {
   "cell_type": "code",
   "execution_count": 45,
   "metadata": {},
   "outputs": [],
   "source": [
    "df_tweet = df_tweet.str.join(\" \")"
   ]
  },
  {
   "cell_type": "code",
   "execution_count": 46,
   "metadata": {},
   "outputs": [],
   "source": [
    "# pattern = re.compile('[\\W_]+')--\n",
    "pattern = re.compile(r'^[a-zA-Z0-9_.-]*$', flags=re.IGNORECASE)\n",
    "# pattern = re.compile('([^\\s\\w]|_)+')\n",
    "df_tweet_p = df_tweet.str.replace(pattern,\"\")"
   ]
  },
  {
   "cell_type": "code",
   "execution_count": 47,
   "metadata": {},
   "outputs": [],
   "source": [
    "df_tweet_p = df_tweet_p.str.lstrip().str.rstrip()"
   ]
  },
  {
   "cell_type": "code",
   "execution_count": 55,
   "metadata": {},
   "outputs": [],
   "source": [
    "df_tweet_p = pd.DataFrame(df_tweet_p)"
   ]
  },
  {
   "cell_type": "code",
   "execution_count": 60,
   "metadata": {},
   "outputs": [],
   "source": [
    "tqdm.pandas()"
   ]
  },
  {
   "cell_type": "code",
   "execution_count": 61,
   "metadata": {},
   "outputs": [
    {
     "name": "stderr",
     "output_type": "stream",
     "text": [
      "100%|██████████| 1344182/1344182 [13:19<00:00, 1682.19it/s]\n"
     ]
    }
   ],
   "source": [
    "# vectorised manner\n",
    "df_tweet_p['tweetText'] = df_tweet_p['tweetText'].progress_apply(prepare_text_for_lda)"
   ]
  },
  {
   "cell_type": "code",
   "execution_count": 62,
   "metadata": {},
   "outputs": [
    {
     "data": {
      "text/plain": [
       "0          []                                                                                                                                      \n",
       "1          [@sseeege, hahahahhahahaha]                                                                                                             \n",
       "2          [idea]                                                                                                                                  \n",
       "3          [always, remember, almost, catch, captain, sparrow]                                                                                     \n",
       "4          [@anubis754, crown]                                                                                                                     \n",
       "5          [@levelsbeats, fresh, anything]                                                                                                         \n",
       "6          [loyalty]                                                                                                                               \n",
       "7          [alright, jumping, outta, plane, could, catch, everyone, betcha, prove, betcha]                                                         \n",
       "8          [extra, sauce, cheese, bread, pizza, delivery, prep, straight, bottle]                                                                  \n",
       "9          [spread, think, beddit, nomadic, sporadic, statue, grab, addit]                                                                         \n",
       "10         [rap, check, grind, guarantee, notice, young]                                                                                           \n",
       "11         [please, promise, throw]                                                                                                                \n",
       "12         [donut]                                                                                                                                 \n",
       "13         [learn]                                                                                                                                 \n",
       "14         [moral, story]                                                                                                                          \n",
       "15         [@itaylorswift4u, @studenthumours, train]                                                                                               \n",
       "16         [conquer, mayan, cherokee, american, canadain't, never]                                                                                 \n",
       "17         [messiah, vengeful]                                                                                                                     \n",
       "18         [ballyhoo, cure, depression, every]                                                                                                     \n",
       "19         [clique]                                                                                                                                \n",
       "20         [hands, grandma, homie, brass, pass, joint]                                                                                             \n",
       "21         [never, understand, people, friend, every, month]                                                                                       \n",
       "22         [around, game, tamer]                                                                                                                   \n",
       "23         [matter, people, never, really, satisfy, inside]                                                                                        \n",
       "24         [repulsive, surround, large, comfortable, box]                                                                                          \n",
       "25         [greatest, power, move, pull, america]                                                                                                  \n",
       "26         [vacation]                                                                                                                              \n",
       "27         [crack, center, unbeatable, disease, untreatable]                                                                                       \n",
       "28         [wanna, intention]                                                                                                                      \n",
       "29         [grow, light, going, show, shine]                                                                                                       \n",
       "                         ...                                                                                                                       \n",
       "1344152    [latest, programmer, coder, developer, daily, thanks, @alberto_bairati, @brainhubeu, @tsholo_ramokoka, book, technology]                \n",
       "1344153    [book, shell, script, beginner, lambdatest, html5]                                                                                      \n",
       "1344154    [latest, programmer, coder, developer, daily, thanks, @bloggs74, @bardtech_info, html5]                                                 \n",
       "1344155    [abstraction, game, call, better, programmer]                                                                                           \n",
       "1344156    [latest, programmer, coder, developer, daily, thanks, @infosilicon, @milapuestasdep, @arbitrosceuta, weekend]                           \n",
       "1344157    [content]                                                                                                                               \n",
       "1344158    [latest, programmer, coder, developer, daily, thanks, @smartcitycork, @mogster, @neirajones, technology]                                \n",
       "1344159    [finding, learning, hungry, world, saffron, interactive]                                                                                \n",
       "1344160    [latest, programmer, coder, developer, daily, thanks, @wapikazi, @maghelmutwimmer, @techfeatured, chatbots, automation]                 \n",
       "1344161    [video]                                                                                                                                 \n",
       "1344162    [latest, programmer, coder, developer, daily, thanks, @switchedon_nyc, @domoviye2, @jeffthemaximum, javascript, technology]             \n",
       "1344163    [coming, revolution, software, development]                                                                                             \n",
       "1344164    [latest, programmer, coder, developer, daily, thanks, @ellentamatey, @spaceforearth, @codefellows, development, softwaredevelopment]    \n",
       "1344165    [interview, hamedani, diogo, ferreira, medium, interview]                                                                               \n",
       "1344166    [latest, programmer, coder, developer, daily, thanks, @soya_cincau, @iotportal1, @rcamargo, programming, development]                   \n",
       "1344167    [coding, complete, coding, guide, beginner, programmer]                                                                                 \n",
       "1344168    [latest, programmer, coder, developer, daily, thanks, @rubicon_agency, @3ghr, @codemintbox, development, socialcare]                    \n",
       "1344169    [python, really, ahead, science, machine, learning, datascience]                                                                        \n",
       "1344170    [latest, programmer, coder, developer, daily, thanks, @mranele_za, @recro_io, @fattymustrun, developer, programmer]                     \n",
       "1344171    [network, developer]                                                                                                                    \n",
       "1344172    [latest, programmer, coder, developer, daily, thanks, @educationgov, @tech901, @mbajobs_health, leadership, glaxosmithkline]            \n",
       "1344173    [5mincpdplan, @leadinglearner, @teachertoolkit, 5mincpdplan]                                                                            \n",
       "1344174    [latest, programmer, coder, developer, daily, thanks, @michaelpagenl, @washresultsmve, @hanumanum, agile, wordcamp]                     \n",
       "1344175    [rank, coderhood, coder, programmer, computer, scientist, developer, engineer, architect, coderhood, coderhood]                         \n",
       "1344176    [latest, programmer, coder, developer, daily, thanks, @dailynewstz, @aistechnolabs, @_t_emitayo, greatermanchester, softwaredevelopment]\n",
       "1344177    [droogans, unmaintainable]                                                                                                              \n",
       "1344178    [latest, programmer, coder, developer, daily, thanks, @pchiwan, @infifanews, @ildug, investor]                                          \n",
       "1344179    [twitter, retweet, 4.09k, retweet, reach, followers]                                                                                    \n",
       "1344180    [producer, maran, coat, talks, teamwork, building, trust]                                                                               \n",
       "1344181    [latest, programmer, coder, developer, daily, thanks, @ubiqum, @marachefcathie, @evidenceinedu, technology]                             \n",
       "Name: tweetText, Length: 1344182, dtype: object"
      ]
     },
     "execution_count": 62,
     "metadata": {},
     "output_type": "execute_result"
    }
   ],
   "source": [
    "df_tweet_p['tweetText']"
   ]
  },
  {
   "cell_type": "code",
   "execution_count": 63,
   "metadata": {},
   "outputs": [
    {
     "data": {
      "text/plain": [
       "1344182"
      ]
     },
     "execution_count": 63,
     "metadata": {},
     "output_type": "execute_result"
    }
   ],
   "source": [
    "len(df_tweet_p)"
   ]
  },
  {
   "cell_type": "code",
   "execution_count": 64,
   "metadata": {},
   "outputs": [],
   "source": [
    "# applying topic modelling on teh whoel dataset fo the tweets\n",
    "text_dic = df_tweet_p['tweetText'].values"
   ]
  },
  {
   "cell_type": "code",
   "execution_count": 66,
   "metadata": {},
   "outputs": [
    {
     "name": "stderr",
     "output_type": "stream",
     "text": [
      "/home/auppal8/anaconda3/envs/juul/lib/python3.6/site-packages/ipykernel_launcher.py:5: ResourceWarning: unclosed file <_io.BufferedWriter name='corpus.pkl'>\n",
      "  \"\"\"\n"
     ]
    }
   ],
   "source": [
    "from gensim import corpora\n",
    "dictionary = corpora.Dictionary(text_dic)\n",
    "corpus = [dictionary.doc2bow(text) for text in text_dic]\n",
    "import pickle\n",
    "pickle.dump(corpus, open('corpus.pkl', 'wb'))\n",
    "dictionary.save('dictionary.gensim')"
   ]
  },
  {
   "cell_type": "code",
   "execution_count": 67,
   "metadata": {},
   "outputs": [
    {
     "name": "stderr",
     "output_type": "stream",
     "text": [
      "/home/auppal8/anaconda3/envs/juul/lib/python3.6/site-packages/gensim/models/ldamodel.py:1077: DeprecationWarning: Calling np.sum(generator) is deprecated, and in the future will give a different result. Use np.sum(np.from_iter(generator)) or the python sum builtin instead.\n",
      "  score += np.sum(cnt * logsumexp(Elogthetad + Elogbeta[:, int(id)]) for id, cnt in doc)\n"
     ]
    }
   ],
   "source": [
    "# LDA for 5 topics\n",
    "import gensim\n",
    "NUM_TOPICS = 5\n",
    "ldamodel = gensim.models.ldamodel.LdaModel(corpus, num_topics = NUM_TOPICS, id2word=dictionary, passes=8)\n",
    "ldamodel.save('model5.gensim')\n",
    "topics = ldamodel.print_topics(num_words=4)"
   ]
  },
  {
   "cell_type": "code",
   "execution_count": 69,
   "metadata": {},
   "outputs": [],
   "source": [
    "## allocate more memory to the instance"
   ]
  },
  {
   "cell_type": "code",
   "execution_count": 68,
   "metadata": {},
   "outputs": [
    {
     "name": "stderr",
     "output_type": "stream",
     "text": [
      "/home/auppal8/anaconda3/envs/juul/lib/python3.6/site-packages/ipykernel_launcher.py:3: ResourceWarning: unclosed file <_io.BufferedReader name='corpus.pkl'>\n",
      "  This is separate from the ipykernel package so we can avoid doing imports until\n",
      "/home/auppal8/.local/lib/python3.6/site-packages/numpy/matrixlib/defmatrix.py:68: PendingDeprecationWarning: the matrix subclass is not the recommended way to represent matrices or deal with linear algebra (see https://docs.scipy.org/doc/numpy/user/numpy-for-matlab-users.html). Please adjust your code to use regular ndarray.\n",
      "  return matrix(data, dtype=dtype, copy=False)\n"
     ]
    },
    {
     "ename": "OSError",
     "evalue": "[Errno 12] Cannot allocate memory",
     "output_type": "error",
     "traceback": [
      "\u001b[0;31m---------------------------------------------------------------------------\u001b[0m",
      "\u001b[0;31mOSError\u001b[0m                                   Traceback (most recent call last)",
      "\u001b[0;32m<ipython-input-68-94376f0ca86a>\u001b[0m in \u001b[0;36m<module>\u001b[0;34m\u001b[0m\n\u001b[1;32m      4\u001b[0m \u001b[0mlda\u001b[0m \u001b[0;34m=\u001b[0m \u001b[0mgensim\u001b[0m\u001b[0;34m.\u001b[0m\u001b[0mmodels\u001b[0m\u001b[0;34m.\u001b[0m\u001b[0mldamodel\u001b[0m\u001b[0;34m.\u001b[0m\u001b[0mLdaModel\u001b[0m\u001b[0;34m.\u001b[0m\u001b[0mload\u001b[0m\u001b[0;34m(\u001b[0m\u001b[0;34m'model5.gensim'\u001b[0m\u001b[0;34m)\u001b[0m\u001b[0;34m\u001b[0m\u001b[0;34m\u001b[0m\u001b[0m\n\u001b[1;32m      5\u001b[0m \u001b[0;32mimport\u001b[0m \u001b[0mpyLDAvis\u001b[0m\u001b[0;34m.\u001b[0m\u001b[0mgensim\u001b[0m\u001b[0;34m\u001b[0m\u001b[0;34m\u001b[0m\u001b[0m\n\u001b[0;32m----> 6\u001b[0;31m \u001b[0mlda_display\u001b[0m \u001b[0;34m=\u001b[0m \u001b[0mpyLDAvis\u001b[0m\u001b[0;34m.\u001b[0m\u001b[0mgensim\u001b[0m\u001b[0;34m.\u001b[0m\u001b[0mprepare\u001b[0m\u001b[0;34m(\u001b[0m\u001b[0mlda\u001b[0m\u001b[0;34m,\u001b[0m \u001b[0mcorpus\u001b[0m\u001b[0;34m,\u001b[0m \u001b[0mdictionary\u001b[0m\u001b[0;34m,\u001b[0m \u001b[0msort_topics\u001b[0m\u001b[0;34m=\u001b[0m\u001b[0;32mFalse\u001b[0m\u001b[0;34m)\u001b[0m\u001b[0;34m\u001b[0m\u001b[0;34m\u001b[0m\u001b[0m\n\u001b[0m",
      "\u001b[0;32m~/.local/lib/python3.6/site-packages/pyLDAvis/gensim.py\u001b[0m in \u001b[0;36mprepare\u001b[0;34m(topic_model, corpus, dictionary, doc_topic_dist, **kwargs)\u001b[0m\n\u001b[1;32m    117\u001b[0m     \"\"\"\n\u001b[1;32m    118\u001b[0m     \u001b[0mopts\u001b[0m \u001b[0;34m=\u001b[0m \u001b[0mfp\u001b[0m\u001b[0;34m.\u001b[0m\u001b[0mmerge\u001b[0m\u001b[0;34m(\u001b[0m\u001b[0m_extract_data\u001b[0m\u001b[0;34m(\u001b[0m\u001b[0mtopic_model\u001b[0m\u001b[0;34m,\u001b[0m \u001b[0mcorpus\u001b[0m\u001b[0;34m,\u001b[0m \u001b[0mdictionary\u001b[0m\u001b[0;34m,\u001b[0m \u001b[0mdoc_topic_dist\u001b[0m\u001b[0;34m)\u001b[0m\u001b[0;34m,\u001b[0m \u001b[0mkwargs\u001b[0m\u001b[0;34m)\u001b[0m\u001b[0;34m\u001b[0m\u001b[0;34m\u001b[0m\u001b[0m\n\u001b[0;32m--> 119\u001b[0;31m     \u001b[0;32mreturn\u001b[0m \u001b[0mvis_prepare\u001b[0m\u001b[0;34m(\u001b[0m\u001b[0;34m**\u001b[0m\u001b[0mopts\u001b[0m\u001b[0;34m)\u001b[0m\u001b[0;34m\u001b[0m\u001b[0;34m\u001b[0m\u001b[0m\n\u001b[0m",
      "\u001b[0;32m~/.local/lib/python3.6/site-packages/pyLDAvis/_prepare.py\u001b[0m in \u001b[0;36mprepare\u001b[0;34m(topic_term_dists, doc_topic_dists, doc_lengths, vocab, term_frequency, R, lambda_step, mds, n_jobs, plot_opts, sort_topics)\u001b[0m\n\u001b[1;32m    396\u001b[0m    \u001b[0mterm_frequency\u001b[0m \u001b[0;34m=\u001b[0m \u001b[0mnp\u001b[0m\u001b[0;34m.\u001b[0m\u001b[0msum\u001b[0m\u001b[0;34m(\u001b[0m\u001b[0mterm_topic_freq\u001b[0m\u001b[0;34m,\u001b[0m \u001b[0maxis\u001b[0m\u001b[0;34m=\u001b[0m\u001b[0;36m0\u001b[0m\u001b[0;34m)\u001b[0m\u001b[0;34m\u001b[0m\u001b[0;34m\u001b[0m\u001b[0m\n\u001b[1;32m    397\u001b[0m \u001b[0;34m\u001b[0m\u001b[0m\n\u001b[0;32m--> 398\u001b[0;31m    \u001b[0mtopic_info\u001b[0m         \u001b[0;34m=\u001b[0m \u001b[0m_topic_info\u001b[0m\u001b[0;34m(\u001b[0m\u001b[0mtopic_term_dists\u001b[0m\u001b[0;34m,\u001b[0m \u001b[0mtopic_proportion\u001b[0m\u001b[0;34m,\u001b[0m \u001b[0mterm_frequency\u001b[0m\u001b[0;34m,\u001b[0m \u001b[0mterm_topic_freq\u001b[0m\u001b[0;34m,\u001b[0m \u001b[0mvocab\u001b[0m\u001b[0;34m,\u001b[0m \u001b[0mlambda_step\u001b[0m\u001b[0;34m,\u001b[0m \u001b[0mR\u001b[0m\u001b[0;34m,\u001b[0m \u001b[0mn_jobs\u001b[0m\u001b[0;34m)\u001b[0m\u001b[0;34m\u001b[0m\u001b[0;34m\u001b[0m\u001b[0m\n\u001b[0m\u001b[1;32m    399\u001b[0m    \u001b[0mtoken_table\u001b[0m        \u001b[0;34m=\u001b[0m \u001b[0m_token_table\u001b[0m\u001b[0;34m(\u001b[0m\u001b[0mtopic_info\u001b[0m\u001b[0;34m,\u001b[0m \u001b[0mterm_topic_freq\u001b[0m\u001b[0;34m,\u001b[0m \u001b[0mvocab\u001b[0m\u001b[0;34m,\u001b[0m \u001b[0mterm_frequency\u001b[0m\u001b[0;34m)\u001b[0m\u001b[0;34m\u001b[0m\u001b[0;34m\u001b[0m\u001b[0m\n\u001b[1;32m    400\u001b[0m    \u001b[0mtopic_coordinates\u001b[0m \u001b[0;34m=\u001b[0m \u001b[0m_topic_coordinates\u001b[0m\u001b[0;34m(\u001b[0m\u001b[0mmds\u001b[0m\u001b[0;34m,\u001b[0m \u001b[0mtopic_term_dists\u001b[0m\u001b[0;34m,\u001b[0m \u001b[0mtopic_proportion\u001b[0m\u001b[0;34m)\u001b[0m\u001b[0;34m\u001b[0m\u001b[0;34m\u001b[0m\u001b[0m\n",
      "\u001b[0;32m~/.local/lib/python3.6/site-packages/pyLDAvis/_prepare.py\u001b[0m in \u001b[0;36m_topic_info\u001b[0;34m(topic_term_dists, topic_proportion, term_frequency, term_topic_freq, vocab, lambda_step, R, n_jobs)\u001b[0m\n\u001b[1;32m    253\u001b[0m \u001b[0;34m\u001b[0m\u001b[0m\n\u001b[1;32m    254\u001b[0m    top_terms = pd.concat(Parallel(n_jobs=n_jobs)(delayed(_find_relevance_chunks)(log_ttd, log_lift, R, ls) \\\n\u001b[0;32m--> 255\u001b[0;31m                                                  for ls in _job_chunks(lambda_seq, n_jobs)))\n\u001b[0m\u001b[1;32m    256\u001b[0m    \u001b[0mtopic_dfs\u001b[0m \u001b[0;34m=\u001b[0m \u001b[0mmap\u001b[0m\u001b[0;34m(\u001b[0m\u001b[0mtopic_top_term_df\u001b[0m\u001b[0;34m,\u001b[0m \u001b[0menumerate\u001b[0m\u001b[0;34m(\u001b[0m\u001b[0mtop_terms\u001b[0m\u001b[0;34m.\u001b[0m\u001b[0mT\u001b[0m\u001b[0;34m.\u001b[0m\u001b[0miterrows\u001b[0m\u001b[0;34m(\u001b[0m\u001b[0;34m)\u001b[0m\u001b[0;34m,\u001b[0m \u001b[0;36m1\u001b[0m\u001b[0;34m)\u001b[0m\u001b[0;34m)\u001b[0m\u001b[0;34m\u001b[0m\u001b[0;34m\u001b[0m\u001b[0m\n\u001b[1;32m    257\u001b[0m    \u001b[0;32mreturn\u001b[0m \u001b[0mpd\u001b[0m\u001b[0;34m.\u001b[0m\u001b[0mconcat\u001b[0m\u001b[0;34m(\u001b[0m\u001b[0;34m[\u001b[0m\u001b[0mdefault_term_info\u001b[0m\u001b[0;34m]\u001b[0m \u001b[0;34m+\u001b[0m \u001b[0mlist\u001b[0m\u001b[0;34m(\u001b[0m\u001b[0mtopic_dfs\u001b[0m\u001b[0;34m)\u001b[0m\u001b[0;34m)\u001b[0m\u001b[0;34m\u001b[0m\u001b[0;34m\u001b[0m\u001b[0m\n",
      "\u001b[0;32m~/.local/lib/python3.6/site-packages/joblib/parallel.py\u001b[0m in \u001b[0;36m__call__\u001b[0;34m(self, iterable)\u001b[0m\n\u001b[1;32m    872\u001b[0m \u001b[0;34m\u001b[0m\u001b[0m\n\u001b[1;32m    873\u001b[0m         \u001b[0;32mif\u001b[0m \u001b[0;32mnot\u001b[0m \u001b[0mself\u001b[0m\u001b[0;34m.\u001b[0m\u001b[0m_managed_backend\u001b[0m\u001b[0;34m:\u001b[0m\u001b[0;34m\u001b[0m\u001b[0;34m\u001b[0m\u001b[0m\n\u001b[0;32m--> 874\u001b[0;31m             \u001b[0mn_jobs\u001b[0m \u001b[0;34m=\u001b[0m \u001b[0mself\u001b[0m\u001b[0;34m.\u001b[0m\u001b[0m_initialize_backend\u001b[0m\u001b[0;34m(\u001b[0m\u001b[0;34m)\u001b[0m\u001b[0;34m\u001b[0m\u001b[0;34m\u001b[0m\u001b[0m\n\u001b[0m\u001b[1;32m    875\u001b[0m         \u001b[0;32melse\u001b[0m\u001b[0;34m:\u001b[0m\u001b[0;34m\u001b[0m\u001b[0;34m\u001b[0m\u001b[0m\n\u001b[1;32m    876\u001b[0m             \u001b[0mn_jobs\u001b[0m \u001b[0;34m=\u001b[0m \u001b[0mself\u001b[0m\u001b[0;34m.\u001b[0m\u001b[0m_effective_n_jobs\u001b[0m\u001b[0;34m(\u001b[0m\u001b[0;34m)\u001b[0m\u001b[0;34m\u001b[0m\u001b[0;34m\u001b[0m\u001b[0m\n",
      "\u001b[0;32m~/.local/lib/python3.6/site-packages/joblib/parallel.py\u001b[0m in \u001b[0;36m_initialize_backend\u001b[0;34m(self)\u001b[0m\n\u001b[1;32m    671\u001b[0m         \u001b[0;32mtry\u001b[0m\u001b[0;34m:\u001b[0m\u001b[0;34m\u001b[0m\u001b[0;34m\u001b[0m\u001b[0m\n\u001b[1;32m    672\u001b[0m             n_jobs = self._backend.configure(n_jobs=self.n_jobs, parallel=self,\n\u001b[0;32m--> 673\u001b[0;31m                                              **self._backend_args)\n\u001b[0m\u001b[1;32m    674\u001b[0m             \u001b[0;32mif\u001b[0m \u001b[0mself\u001b[0m\u001b[0;34m.\u001b[0m\u001b[0mtimeout\u001b[0m \u001b[0;32mis\u001b[0m \u001b[0;32mnot\u001b[0m \u001b[0;32mNone\u001b[0m \u001b[0;32mand\u001b[0m \u001b[0;32mnot\u001b[0m \u001b[0mself\u001b[0m\u001b[0;34m.\u001b[0m\u001b[0m_backend\u001b[0m\u001b[0;34m.\u001b[0m\u001b[0msupports_timeout\u001b[0m\u001b[0;34m:\u001b[0m\u001b[0;34m\u001b[0m\u001b[0;34m\u001b[0m\u001b[0m\n\u001b[1;32m    675\u001b[0m                 warnings.warn(\n",
      "\u001b[0;32m~/.local/lib/python3.6/site-packages/joblib/_parallel_backends.py\u001b[0m in \u001b[0;36mconfigure\u001b[0;34m(self, n_jobs, parallel, prefer, require, idle_worker_timeout, **memmappingexecutor_args)\u001b[0m\n\u001b[1;32m    474\u001b[0m             \u001b[0mn_jobs\u001b[0m\u001b[0;34m,\u001b[0m \u001b[0mtimeout\u001b[0m\u001b[0;34m=\u001b[0m\u001b[0midle_worker_timeout\u001b[0m\u001b[0;34m,\u001b[0m\u001b[0;34m\u001b[0m\u001b[0;34m\u001b[0m\u001b[0m\n\u001b[1;32m    475\u001b[0m             \u001b[0minitializer\u001b[0m\u001b[0;34m=\u001b[0m\u001b[0mself\u001b[0m\u001b[0;34m.\u001b[0m\u001b[0mlimit_clib_threads\u001b[0m\u001b[0;34m,\u001b[0m\u001b[0;34m\u001b[0m\u001b[0;34m\u001b[0m\u001b[0m\n\u001b[0;32m--> 476\u001b[0;31m             **memmappingexecutor_args)\n\u001b[0m\u001b[1;32m    477\u001b[0m         \u001b[0mself\u001b[0m\u001b[0;34m.\u001b[0m\u001b[0mparallel\u001b[0m \u001b[0;34m=\u001b[0m \u001b[0mparallel\u001b[0m\u001b[0;34m\u001b[0m\u001b[0;34m\u001b[0m\u001b[0m\n\u001b[1;32m    478\u001b[0m         \u001b[0;32mreturn\u001b[0m \u001b[0mn_jobs\u001b[0m\u001b[0;34m\u001b[0m\u001b[0;34m\u001b[0m\u001b[0m\n",
      "\u001b[0;32m~/.local/lib/python3.6/site-packages/joblib/executor.py\u001b[0m in \u001b[0;36mget_memmapping_executor\u001b[0;34m(n_jobs, timeout, initializer, initargs, **backend_args)\u001b[0m\n\u001b[1;32m     34\u001b[0m                                       \u001b[0mreuse\u001b[0m\u001b[0;34m=\u001b[0m\u001b[0mreuse\u001b[0m\u001b[0;34m,\u001b[0m \u001b[0mtimeout\u001b[0m\u001b[0;34m=\u001b[0m\u001b[0mtimeout\u001b[0m\u001b[0;34m,\u001b[0m\u001b[0;34m\u001b[0m\u001b[0;34m\u001b[0m\u001b[0m\n\u001b[1;32m     35\u001b[0m                                       \u001b[0minitializer\u001b[0m\u001b[0;34m=\u001b[0m\u001b[0minitializer\u001b[0m\u001b[0;34m,\u001b[0m\u001b[0;34m\u001b[0m\u001b[0;34m\u001b[0m\u001b[0m\n\u001b[0;32m---> 36\u001b[0;31m                                       initargs=initargs)\n\u001b[0m\u001b[1;32m     37\u001b[0m     \u001b[0;31m# If executor doesn't have a _temp_folder, it means it is a new executor\u001b[0m\u001b[0;34m\u001b[0m\u001b[0;34m\u001b[0m\u001b[0;34m\u001b[0m\u001b[0m\n\u001b[1;32m     38\u001b[0m     \u001b[0;31m# and the reducers have been used. Else, the previous reducers are used\u001b[0m\u001b[0;34m\u001b[0m\u001b[0;34m\u001b[0m\u001b[0;34m\u001b[0m\u001b[0m\n",
      "\u001b[0;32m~/.local/lib/python3.6/site-packages/joblib/externals/loky/reusable_executor.py\u001b[0m in \u001b[0;36mget_reusable_executor\u001b[0;34m(max_workers, context, timeout, kill_workers, reuse, job_reducers, result_reducers, initializer, initargs)\u001b[0m\n\u001b[1;32m    106\u001b[0m             _executor = executor = _ReusablePoolExecutor(\n\u001b[1;32m    107\u001b[0m                 \u001b[0m_executor_lock\u001b[0m\u001b[0;34m,\u001b[0m \u001b[0mmax_workers\u001b[0m\u001b[0;34m=\u001b[0m\u001b[0mmax_workers\u001b[0m\u001b[0;34m,\u001b[0m\u001b[0;34m\u001b[0m\u001b[0;34m\u001b[0m\u001b[0m\n\u001b[0;32m--> 108\u001b[0;31m                 executor_id=executor_id, **kwargs)\n\u001b[0m\u001b[1;32m    109\u001b[0m         \u001b[0;32melse\u001b[0m\u001b[0;34m:\u001b[0m\u001b[0;34m\u001b[0m\u001b[0;34m\u001b[0m\u001b[0m\n\u001b[1;32m    110\u001b[0m             \u001b[0;32mif\u001b[0m \u001b[0mreuse\u001b[0m \u001b[0;34m==\u001b[0m \u001b[0;34m'auto'\u001b[0m\u001b[0;34m:\u001b[0m\u001b[0;34m\u001b[0m\u001b[0;34m\u001b[0m\u001b[0m\n",
      "\u001b[0;32m~/.local/lib/python3.6/site-packages/joblib/externals/loky/reusable_executor.py\u001b[0m in \u001b[0;36m__init__\u001b[0;34m(self, submit_resize_lock, max_workers, context, timeout, executor_id, job_reducers, result_reducers, initializer, initargs)\u001b[0m\n\u001b[1;32m    142\u001b[0m             \u001b[0mmax_workers\u001b[0m\u001b[0;34m=\u001b[0m\u001b[0mmax_workers\u001b[0m\u001b[0;34m,\u001b[0m \u001b[0mcontext\u001b[0m\u001b[0;34m=\u001b[0m\u001b[0mcontext\u001b[0m\u001b[0;34m,\u001b[0m \u001b[0mtimeout\u001b[0m\u001b[0;34m=\u001b[0m\u001b[0mtimeout\u001b[0m\u001b[0;34m,\u001b[0m\u001b[0;34m\u001b[0m\u001b[0;34m\u001b[0m\u001b[0m\n\u001b[1;32m    143\u001b[0m             \u001b[0mjob_reducers\u001b[0m\u001b[0;34m=\u001b[0m\u001b[0mjob_reducers\u001b[0m\u001b[0;34m,\u001b[0m \u001b[0mresult_reducers\u001b[0m\u001b[0;34m=\u001b[0m\u001b[0mresult_reducers\u001b[0m\u001b[0;34m,\u001b[0m\u001b[0;34m\u001b[0m\u001b[0;34m\u001b[0m\u001b[0m\n\u001b[0;32m--> 144\u001b[0;31m             initializer=initializer, initargs=initargs)\n\u001b[0m\u001b[1;32m    145\u001b[0m         \u001b[0mself\u001b[0m\u001b[0;34m.\u001b[0m\u001b[0mexecutor_id\u001b[0m \u001b[0;34m=\u001b[0m \u001b[0mexecutor_id\u001b[0m\u001b[0;34m\u001b[0m\u001b[0;34m\u001b[0m\u001b[0m\n\u001b[1;32m    146\u001b[0m         \u001b[0mself\u001b[0m\u001b[0;34m.\u001b[0m\u001b[0m_submit_resize_lock\u001b[0m \u001b[0;34m=\u001b[0m \u001b[0msubmit_resize_lock\u001b[0m\u001b[0;34m\u001b[0m\u001b[0;34m\u001b[0m\u001b[0m\n",
      "\u001b[0;32m~/.local/lib/python3.6/site-packages/joblib/externals/loky/process_executor.py\u001b[0m in \u001b[0;36m__init__\u001b[0;34m(self, max_workers, job_reducers, result_reducers, timeout, context, initializer, initargs)\u001b[0m\n\u001b[1;32m    908\u001b[0m         \u001b[0mself\u001b[0m\u001b[0;34m.\u001b[0m\u001b[0m_running_work_items\u001b[0m \u001b[0;34m=\u001b[0m \u001b[0;34m[\u001b[0m\u001b[0;34m]\u001b[0m\u001b[0;34m\u001b[0m\u001b[0;34m\u001b[0m\u001b[0m\n\u001b[1;32m    909\u001b[0m         \u001b[0mself\u001b[0m\u001b[0;34m.\u001b[0m\u001b[0m_work_ids\u001b[0m \u001b[0;34m=\u001b[0m \u001b[0mqueue\u001b[0m\u001b[0;34m.\u001b[0m\u001b[0mQueue\u001b[0m\u001b[0;34m(\u001b[0m\u001b[0;34m)\u001b[0m\u001b[0;34m\u001b[0m\u001b[0;34m\u001b[0m\u001b[0m\n\u001b[0;32m--> 910\u001b[0;31m         \u001b[0mself\u001b[0m\u001b[0;34m.\u001b[0m\u001b[0m_processes_management_lock\u001b[0m \u001b[0;34m=\u001b[0m \u001b[0mself\u001b[0m\u001b[0;34m.\u001b[0m\u001b[0m_context\u001b[0m\u001b[0;34m.\u001b[0m\u001b[0mLock\u001b[0m\u001b[0;34m(\u001b[0m\u001b[0;34m)\u001b[0m\u001b[0;34m\u001b[0m\u001b[0;34m\u001b[0m\u001b[0m\n\u001b[0m\u001b[1;32m    911\u001b[0m         \u001b[0mself\u001b[0m\u001b[0;34m.\u001b[0m\u001b[0m_queue_management_thread\u001b[0m \u001b[0;34m=\u001b[0m \u001b[0;32mNone\u001b[0m\u001b[0;34m\u001b[0m\u001b[0;34m\u001b[0m\u001b[0m\n\u001b[1;32m    912\u001b[0m \u001b[0;34m\u001b[0m\u001b[0m\n",
      "\u001b[0;32m~/.local/lib/python3.6/site-packages/joblib/externals/loky/backend/context.py\u001b[0m in \u001b[0;36mLock\u001b[0;34m(self)\u001b[0m\n\u001b[1;32m    223\u001b[0m             \u001b[0;34m\"\"\"Returns a lock object\"\"\"\u001b[0m\u001b[0;34m\u001b[0m\u001b[0;34m\u001b[0m\u001b[0m\n\u001b[1;32m    224\u001b[0m             \u001b[0;32mfrom\u001b[0m \u001b[0;34m.\u001b[0m\u001b[0msynchronize\u001b[0m \u001b[0;32mimport\u001b[0m \u001b[0mLock\u001b[0m\u001b[0;34m\u001b[0m\u001b[0;34m\u001b[0m\u001b[0m\n\u001b[0;32m--> 225\u001b[0;31m             \u001b[0;32mreturn\u001b[0m \u001b[0mLock\u001b[0m\u001b[0;34m(\u001b[0m\u001b[0;34m)\u001b[0m\u001b[0;34m\u001b[0m\u001b[0;34m\u001b[0m\u001b[0m\n\u001b[0m\u001b[1;32m    226\u001b[0m \u001b[0;34m\u001b[0m\u001b[0m\n\u001b[1;32m    227\u001b[0m         \u001b[0;32mdef\u001b[0m \u001b[0mRLock\u001b[0m\u001b[0;34m(\u001b[0m\u001b[0mself\u001b[0m\u001b[0;34m)\u001b[0m\u001b[0;34m:\u001b[0m\u001b[0;34m\u001b[0m\u001b[0;34m\u001b[0m\u001b[0m\n",
      "\u001b[0;32m~/.local/lib/python3.6/site-packages/joblib/externals/loky/backend/synchronize.py\u001b[0m in \u001b[0;36m__init__\u001b[0;34m(self)\u001b[0m\n\u001b[1;32m    172\u001b[0m \u001b[0;34m\u001b[0m\u001b[0m\n\u001b[1;32m    173\u001b[0m     \u001b[0;32mdef\u001b[0m \u001b[0m__init__\u001b[0m\u001b[0;34m(\u001b[0m\u001b[0mself\u001b[0m\u001b[0;34m)\u001b[0m\u001b[0;34m:\u001b[0m\u001b[0;34m\u001b[0m\u001b[0;34m\u001b[0m\u001b[0m\n\u001b[0;32m--> 174\u001b[0;31m         \u001b[0msuper\u001b[0m\u001b[0;34m(\u001b[0m\u001b[0mLock\u001b[0m\u001b[0;34m,\u001b[0m \u001b[0mself\u001b[0m\u001b[0;34m)\u001b[0m\u001b[0;34m.\u001b[0m\u001b[0m__init__\u001b[0m\u001b[0;34m(\u001b[0m\u001b[0mSEMAPHORE\u001b[0m\u001b[0;34m,\u001b[0m \u001b[0;36m1\u001b[0m\u001b[0;34m,\u001b[0m \u001b[0;36m1\u001b[0m\u001b[0;34m)\u001b[0m\u001b[0;34m\u001b[0m\u001b[0;34m\u001b[0m\u001b[0m\n\u001b[0m\u001b[1;32m    175\u001b[0m \u001b[0;34m\u001b[0m\u001b[0m\n\u001b[1;32m    176\u001b[0m     \u001b[0;32mdef\u001b[0m \u001b[0m__repr__\u001b[0m\u001b[0;34m(\u001b[0m\u001b[0mself\u001b[0m\u001b[0;34m)\u001b[0m\u001b[0;34m:\u001b[0m\u001b[0;34m\u001b[0m\u001b[0;34m\u001b[0m\u001b[0m\n",
      "\u001b[0;32m~/.local/lib/python3.6/site-packages/joblib/externals/loky/backend/synchronize.py\u001b[0m in \u001b[0;36m__init__\u001b[0;34m(self, kind, value, maxvalue)\u001b[0m\n\u001b[1;32m     88\u001b[0m         \u001b[0;31m# When the object is garbage collected or the\u001b[0m\u001b[0;34m\u001b[0m\u001b[0;34m\u001b[0m\u001b[0;34m\u001b[0m\u001b[0m\n\u001b[1;32m     89\u001b[0m         \u001b[0;31m# process shuts down we unlink the semaphore name\u001b[0m\u001b[0;34m\u001b[0m\u001b[0;34m\u001b[0m\u001b[0;34m\u001b[0m\u001b[0m\n\u001b[0;32m---> 90\u001b[0;31m         \u001b[0msemaphore_tracker\u001b[0m\u001b[0;34m.\u001b[0m\u001b[0mregister\u001b[0m\u001b[0;34m(\u001b[0m\u001b[0mself\u001b[0m\u001b[0;34m.\u001b[0m\u001b[0m_semlock\u001b[0m\u001b[0;34m.\u001b[0m\u001b[0mname\u001b[0m\u001b[0;34m)\u001b[0m\u001b[0;34m\u001b[0m\u001b[0;34m\u001b[0m\u001b[0m\n\u001b[0m\u001b[1;32m     91\u001b[0m         util.Finalize(self, SemLock._cleanup, (self._semlock.name,),\n\u001b[1;32m     92\u001b[0m                       exitpriority=0)\n",
      "\u001b[0;32m~/.local/lib/python3.6/site-packages/joblib/externals/loky/backend/semaphore_tracker.py\u001b[0m in \u001b[0;36mregister\u001b[0;34m(self, name)\u001b[0m\n\u001b[1;32m    118\u001b[0m     \u001b[0;32mdef\u001b[0m \u001b[0mregister\u001b[0m\u001b[0;34m(\u001b[0m\u001b[0mself\u001b[0m\u001b[0;34m,\u001b[0m \u001b[0mname\u001b[0m\u001b[0;34m)\u001b[0m\u001b[0;34m:\u001b[0m\u001b[0;34m\u001b[0m\u001b[0;34m\u001b[0m\u001b[0m\n\u001b[1;32m    119\u001b[0m         \u001b[0;34m'''Register name of semaphore with semaphore tracker.'''\u001b[0m\u001b[0;34m\u001b[0m\u001b[0;34m\u001b[0m\u001b[0m\n\u001b[0;32m--> 120\u001b[0;31m         \u001b[0mself\u001b[0m\u001b[0;34m.\u001b[0m\u001b[0mensure_running\u001b[0m\u001b[0;34m(\u001b[0m\u001b[0;34m)\u001b[0m\u001b[0;34m\u001b[0m\u001b[0;34m\u001b[0m\u001b[0m\n\u001b[0m\u001b[1;32m    121\u001b[0m         \u001b[0mself\u001b[0m\u001b[0;34m.\u001b[0m\u001b[0m_send\u001b[0m\u001b[0;34m(\u001b[0m\u001b[0;34m'REGISTER'\u001b[0m\u001b[0;34m,\u001b[0m \u001b[0mname\u001b[0m\u001b[0;34m)\u001b[0m\u001b[0;34m\u001b[0m\u001b[0;34m\u001b[0m\u001b[0m\n\u001b[1;32m    122\u001b[0m \u001b[0;34m\u001b[0m\u001b[0m\n",
      "\u001b[0;32m~/.local/lib/python3.6/site-packages/joblib/externals/loky/backend/semaphore_tracker.py\u001b[0m in \u001b[0;36mensure_running\u001b[0;34m(self)\u001b[0m\n\u001b[1;32m     97\u001b[0m                 \u001b[0margs\u001b[0m \u001b[0;34m+=\u001b[0m \u001b[0;34m[\u001b[0m\u001b[0;34m'-c'\u001b[0m\u001b[0;34m,\u001b[0m \u001b[0mcmd\u001b[0m \u001b[0;34m%\u001b[0m \u001b[0mr\u001b[0m\u001b[0;34m]\u001b[0m\u001b[0;34m\u001b[0m\u001b[0;34m\u001b[0m\u001b[0m\n\u001b[1;32m     98\u001b[0m                 \u001b[0mutil\u001b[0m\u001b[0;34m.\u001b[0m\u001b[0mdebug\u001b[0m\u001b[0;34m(\u001b[0m\u001b[0;34m\"launching Semaphore tracker: {}\"\u001b[0m\u001b[0;34m.\u001b[0m\u001b[0mformat\u001b[0m\u001b[0;34m(\u001b[0m\u001b[0margs\u001b[0m\u001b[0;34m)\u001b[0m\u001b[0;34m)\u001b[0m\u001b[0;34m\u001b[0m\u001b[0;34m\u001b[0m\u001b[0m\n\u001b[0;32m---> 99\u001b[0;31m                 \u001b[0mpid\u001b[0m \u001b[0;34m=\u001b[0m \u001b[0mspawnv_passfds\u001b[0m\u001b[0;34m(\u001b[0m\u001b[0mexe\u001b[0m\u001b[0;34m,\u001b[0m \u001b[0margs\u001b[0m\u001b[0;34m,\u001b[0m \u001b[0mfds_to_pass\u001b[0m\u001b[0;34m)\u001b[0m\u001b[0;34m\u001b[0m\u001b[0;34m\u001b[0m\u001b[0m\n\u001b[0m\u001b[1;32m    100\u001b[0m             \u001b[0;32mexcept\u001b[0m \u001b[0mBaseException\u001b[0m\u001b[0;34m:\u001b[0m\u001b[0;34m\u001b[0m\u001b[0;34m\u001b[0m\u001b[0m\n\u001b[1;32m    101\u001b[0m                 \u001b[0mos\u001b[0m\u001b[0;34m.\u001b[0m\u001b[0mclose\u001b[0m\u001b[0;34m(\u001b[0m\u001b[0mw\u001b[0m\u001b[0;34m)\u001b[0m\u001b[0;34m\u001b[0m\u001b[0;34m\u001b[0m\u001b[0m\n",
      "\u001b[0;32m~/.local/lib/python3.6/site-packages/joblib/externals/loky/backend/semaphore_tracker.py\u001b[0m in \u001b[0;36mspawnv_passfds\u001b[0;34m(path, args, passfds)\u001b[0m\n\u001b[1;32m    233\u001b[0m             \u001b[0m_pass\u001b[0m \u001b[0;34m+=\u001b[0m \u001b[0;34m[\u001b[0m\u001b[0m_mk_inheritable\u001b[0m\u001b[0;34m(\u001b[0m\u001b[0mfd\u001b[0m\u001b[0;34m)\u001b[0m\u001b[0;34m]\u001b[0m\u001b[0;34m\u001b[0m\u001b[0;34m\u001b[0m\u001b[0m\n\u001b[1;32m    234\u001b[0m         \u001b[0;32mfrom\u001b[0m \u001b[0;34m.\u001b[0m\u001b[0mfork_exec\u001b[0m \u001b[0;32mimport\u001b[0m \u001b[0mfork_exec\u001b[0m\u001b[0;34m\u001b[0m\u001b[0;34m\u001b[0m\u001b[0m\n\u001b[0;32m--> 235\u001b[0;31m         \u001b[0;32mreturn\u001b[0m \u001b[0mfork_exec\u001b[0m\u001b[0;34m(\u001b[0m\u001b[0margs\u001b[0m\u001b[0;34m,\u001b[0m \u001b[0m_pass\u001b[0m\u001b[0;34m)\u001b[0m\u001b[0;34m\u001b[0m\u001b[0;34m\u001b[0m\u001b[0m\n\u001b[0m\u001b[1;32m    236\u001b[0m     \u001b[0;32mfinally\u001b[0m\u001b[0;34m:\u001b[0m\u001b[0;34m\u001b[0m\u001b[0;34m\u001b[0m\u001b[0m\n\u001b[1;32m    237\u001b[0m         \u001b[0mos\u001b[0m\u001b[0;34m.\u001b[0m\u001b[0mclose\u001b[0m\u001b[0;34m(\u001b[0m\u001b[0merrpipe_read\u001b[0m\u001b[0;34m)\u001b[0m\u001b[0;34m\u001b[0m\u001b[0;34m\u001b[0m\u001b[0m\n",
      "\u001b[0;32m~/.local/lib/python3.6/site-packages/joblib/externals/loky/backend/fork_exec.py\u001b[0m in \u001b[0;36mfork_exec\u001b[0;34m(cmd, keep_fds)\u001b[0m\n\u001b[1;32m     36\u001b[0m \u001b[0;32mdef\u001b[0m \u001b[0mfork_exec\u001b[0m\u001b[0;34m(\u001b[0m\u001b[0mcmd\u001b[0m\u001b[0;34m,\u001b[0m \u001b[0mkeep_fds\u001b[0m\u001b[0;34m)\u001b[0m\u001b[0;34m:\u001b[0m\u001b[0;34m\u001b[0m\u001b[0;34m\u001b[0m\u001b[0m\n\u001b[1;32m     37\u001b[0m \u001b[0;34m\u001b[0m\u001b[0m\n\u001b[0;32m---> 38\u001b[0;31m     \u001b[0mpid\u001b[0m \u001b[0;34m=\u001b[0m \u001b[0mos\u001b[0m\u001b[0;34m.\u001b[0m\u001b[0mfork\u001b[0m\u001b[0;34m(\u001b[0m\u001b[0;34m)\u001b[0m\u001b[0;34m\u001b[0m\u001b[0;34m\u001b[0m\u001b[0m\n\u001b[0m\u001b[1;32m     39\u001b[0m     \u001b[0;32mif\u001b[0m \u001b[0mpid\u001b[0m \u001b[0;34m==\u001b[0m \u001b[0;36m0\u001b[0m\u001b[0;34m:\u001b[0m  \u001b[0;31m# pragma: no cover\u001b[0m\u001b[0;34m\u001b[0m\u001b[0;34m\u001b[0m\u001b[0m\n\u001b[1;32m     40\u001b[0m         \u001b[0mclose_fds\u001b[0m\u001b[0;34m(\u001b[0m\u001b[0mkeep_fds\u001b[0m\u001b[0;34m)\u001b[0m\u001b[0;34m\u001b[0m\u001b[0;34m\u001b[0m\u001b[0m\n",
      "\u001b[0;31mOSError\u001b[0m: [Errno 12] Cannot allocate memory"
     ]
    }
   ],
   "source": [
    "# with 5 topics --Dont run the cell\n",
    "dictionary = gensim.corpora.Dictionary.load('dictionary.gensim')\n",
    "corpus = pickle.load(open('corpus.pkl', 'rb'))\n",
    "lda = gensim.models.ldamodel.LdaModel.load('model5.gensim')\n",
    "import pyLDAvis.gensim\n",
    "lda_display = pyLDAvis.gensim.prepare(lda, corpus, dictionary, sort_topics=False)"
   ]
  },
  {
   "cell_type": "code",
   "execution_count": null,
   "metadata": {},
   "outputs": [],
   "source": [
    "pyLDAvis.display(lda_display)"
   ]
  }
 ],
 "metadata": {
  "kernelspec": {
   "display_name": "Python 3",
   "language": "python",
   "name": "python3"
  },
  "language_info": {
   "codemirror_mode": {
    "name": "ipython",
    "version": 3
   },
   "file_extension": ".py",
   "mimetype": "text/x-python",
   "name": "python",
   "nbconvert_exporter": "python",
   "pygments_lexer": "ipython3",
   "version": "3.6.7"
  }
 },
 "nbformat": 4,
 "nbformat_minor": 2
}
