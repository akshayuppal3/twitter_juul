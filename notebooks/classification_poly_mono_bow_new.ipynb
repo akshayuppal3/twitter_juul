{
 "cells": [
  {
   "cell_type": "code",
   "execution_count": 6,
   "metadata": {},
   "outputs": [
    {
     "name": "stderr",
     "output_type": "stream",
     "text": [
      "/Users/akshayuppal/anaconda3/envs/juul/lib/python3.6/site-packages/sklearn/ensemble/weight_boosting.py:29: DeprecationWarning: numpy.core.umath_tests is an internal NumPy module and should not be imported. It will be removed in a future NumPy release.\n",
      "  from numpy.core.umath_tests import inner1d\n"
     ]
    }
   ],
   "source": [
    "import pandas as pd\n",
    "import numpy \n",
    "import os\n",
    "import git\n",
    "import pickle\n",
    "import matplotlib.pyplot as plt\n",
    "pd.set_option('display.max_colwidth', -1)\n",
    "from sklearn.ensemble import RandomForestClassifier\n",
    "from sklearn.ensemble import ExtraTreesClassifier\n",
    "import warnings\n",
    "warnings.filterwarnings('ignore')\n",
    "from matplotlib import pyplot\n",
    "import numpy as np"
   ]
  },
  {
   "cell_type": "code",
   "execution_count": 7,
   "metadata": {},
   "outputs": [],
   "source": [
    "from sklearn.feature_extraction.text import TfidfVectorizer\n",
    "from sklearn.feature_extraction.text import CountVectorizer\n",
    "from sklearn.preprocessing import LabelEncoder \n",
    "from sklearn.model_selection import train_test_split\n",
    "from sklearn.model_selection import GridSearchCV\n",
    "from sklearn.svm import SVC\n",
    "from sklearn.utils import shuffle"
   ]
  },
  {
   "cell_type": "code",
   "execution_count": 8,
   "metadata": {},
   "outputs": [
    {
     "name": "stderr",
     "output_type": "stream",
     "text": [
      "Using TensorFlow backend.\n"
     ]
    }
   ],
   "source": [
    "from keras.preprocessing.sequence import pad_sequences\n",
    "from keras.optimizers import SGD\n",
    "from keras.models import Model, Input\n",
    "from keras.models import Sequential\n",
    "from keras.layers import Dense\n",
    "from keras.layers import Flatten\n",
    "from keras.layers import Embedding\n",
    "from keras.layers import Bidirectional\n",
    "from keras.layers import LSTM\n",
    "from keras.layers import TimeDistributed\n",
    "from keras.layers import Reshape\n",
    "from keras.layers import Average\n",
    "from keras.layers import Dropout\n",
    "from sklearn.model_selection import train_test_split"
   ]
  },
  {
   "cell_type": "code",
   "execution_count": 9,
   "metadata": {},
   "outputs": [],
   "source": [
    "## Read the labelled files and the poly_user\n",
    "def get_git_root(path):\n",
    "\tgit_repo = git.Repo(path, search_parent_directories=True)\n",
    "\tgit_root = git_repo.git.rev_parse(\"--show-toplevel\")\n",
    "\treturn git_root"
   ]
  },
  {
   "cell_type": "code",
   "execution_count": 19,
   "metadata": {},
   "outputs": [],
   "source": [
    "top_dir = os.path.join(get_git_root(os.getcwd()))\n",
    "df_tweets = pd.read_csv(os.path.join(get_git_root(os.getcwd()),\"input\",\"labelled_data\",\"tweets_predicted.csv\"), lineterminator=\"\\n\", index_col=0)\n",
    "\n"
   ]
  },
  {
   "cell_type": "code",
   "execution_count": 14,
   "metadata": {},
   "outputs": [],
   "source": [
    "# poly_dir = os.path.join(top_dir,\"models\",\"poly_users\")\n",
    "## switching to include rewteet data\n",
    "poly_dir = os.path.join(top_dir,\"models\",\"poly_wrt\")\n",
    "poly_users = pickle.load(open(os.path.join(poly_dir,\"poly_users.pkl\"),\"rb\"))\n",
    "normal_users = pickle.load(open(os.path.join(poly_dir,\"normal_users.pkl\"),\"rb\"))"
   ]
  },
  {
   "cell_type": "code",
   "execution_count": 15,
   "metadata": {},
   "outputs": [
    {
     "name": "stdout",
     "output_type": "stream",
     "text": [
      "total users 2157\n"
     ]
    }
   ],
   "source": [
    "print(\"total users\", len(normal_users))\n",
    "# 3177 with rt\n",
    "# 2157 without rt"
   ]
  },
  {
   "cell_type": "code",
   "execution_count": 16,
   "metadata": {},
   "outputs": [],
   "source": [
    "mono_users = list(set(normal_users) - set(poly_users))"
   ]
  },
  {
   "cell_type": "code",
   "execution_count": 20,
   "metadata": {},
   "outputs": [
    {
     "name": "stdout",
     "output_type": "stream",
     "text": [
      "total tweets:  111274\n",
      "total users:  4857\n"
     ]
    }
   ],
   "source": [
    "print(\"total tweets: \",len(df_tweets))\n",
    "print(\"total users: \",len(df_tweets.userID.unique()))"
   ]
  },
  {
   "cell_type": "code",
   "execution_count": 21,
   "metadata": {},
   "outputs": [],
   "source": [
    "poly_tweets = df_tweets.loc[df_tweets.userID.isin(poly_users)]"
   ]
  },
  {
   "cell_type": "code",
   "execution_count": 22,
   "metadata": {},
   "outputs": [],
   "source": [
    "mono_tweets = df_tweets.loc[df_tweets.userID.isin(mono_users)]"
   ]
  },
  {
   "cell_type": "code",
   "execution_count": 27,
   "metadata": {},
   "outputs": [
    {
     "data": {
      "text/plain": [
       "76585"
      ]
     },
     "execution_count": 27,
     "metadata": {},
     "output_type": "execute_result"
    }
   ],
   "source": [
    "df_tweets_normal = df_tweets.loc[df_tweets.userID.isin(normal_users)]\n",
    "len(df_tweets_normal)"
   ]
  },
  {
   "cell_type": "code",
   "execution_count": 24,
   "metadata": {},
   "outputs": [
    {
     "name": "stdout",
     "output_type": "stream",
     "text": [
      "all tweets by poly users:  61605\n",
      "poly users (based with retweets): 565\n"
     ]
    }
   ],
   "source": [
    "## without rt\n",
    "print(\"all tweets by poly users: \", len(poly_tweets))\n",
    "print(\"poly users (based with retweets):\", len(poly_tweets.userID.unique()))"
   ]
  },
  {
   "cell_type": "code",
   "execution_count": 12,
   "metadata": {},
   "outputs": [
    {
     "name": "stdout",
     "output_type": "stream",
     "text": [
      "all tweets by poly users:  97565\n",
      "poly users (based with retweets): 979\n"
     ]
    }
   ],
   "source": [
    "## with rt\n",
    "print(\"all tweets by poly users: \", len(poly_tweets))\n",
    "print(\"poly users (based with retweets):\", len(poly_tweets.userID.unique()))"
   ]
  },
  {
   "cell_type": "code",
   "execution_count": 13,
   "metadata": {
    "scrolled": true
   },
   "outputs": [
    {
     "name": "stdout",
     "output_type": "stream",
     "text": [
      "all tweets by mono users:  8244\n",
      "mono users (based with retweets): 2198\n"
     ]
    }
   ],
   "source": [
    "print(\"all tweets by mono users: \", len(mono_tweets))\n",
    "print(\"mono users (based with retweets):\", len(mono_tweets.userID.unique()))"
   ]
  },
  {
   "cell_type": "code",
   "execution_count": 25,
   "metadata": {},
   "outputs": [
    {
     "name": "stdout",
     "output_type": "stream",
     "text": [
      "all tweets by mono users:  14980\n",
      "mono users (based with retweets): 1592\n"
     ]
    }
   ],
   "source": [
    "## without rt\n",
    "print(\"all tweets by mono users: \", len(mono_tweets))\n",
    "print(\"mono users (based with retweets):\", len(mono_tweets.userID.unique()))"
   ]
  },
  {
   "cell_type": "markdown",
   "metadata": {},
   "source": [
    "## Preparing the data"
   ]
  },
  {
   "cell_type": "code",
   "execution_count": 28,
   "metadata": {},
   "outputs": [],
   "source": [
    "no_tweets = list()\n",
    "for user in mono_users:\n",
    "    tweets =(mono_tweets.loc[mono_tweets.userID == user])\n",
    "    no_tweets.append((user,len(tweets)))\n",
    "df_user = pd.DataFrame(no_tweets, columns=[\"userID\",\"len_tweets\"])\n",
    "df_user = df_user.sort_values(by=\"len_tweets\",ascending=True)"
   ]
  },
  {
   "cell_type": "code",
   "execution_count": 29,
   "metadata": {},
   "outputs": [],
   "source": [
    "users = df_user.userID.unique()\n",
    "i = 0\n",
    "users_no = dict()\n",
    "users_no[0] = 0\n",
    "## sorted non-decreasing list  \n",
    "for idx,element in df_user.iterrows():\n",
    "    if (element[\"len_tweets\"] < (i + 50)):\n",
    "        users_no[i] += 1 \n",
    "    else:\n",
    "        i = i + 50\n",
    "        users_no[i] = 1"
   ]
  },
  {
   "cell_type": "code",
   "execution_count": 30,
   "metadata": {},
   "outputs": [
    {
     "data": {
      "image/png": "[encoded data removed]",
      "text/plain": [
       "<Figure size 1440x576 with 1 Axes>"
      ]
     },
     "metadata": {
      "needs_background": "light"
     },
     "output_type": "display_data"
    }
   ],
   "source": [
    "## poly users\n",
    "plt.figure(figsize= (20,8))\n",
    "plt.bar(users_no.keys(), users_no.values(), width = 40, color= \"green\")\n",
    "plt.xlabel(\"no of tweets (i - (i + 50))\")\n",
    "plt.ylabel(\"no of unique users\")\n",
    "plt.title(\"users vs number of tweets\")\n",
    "plt.show()"
   ]
  },
  {
   "cell_type": "code",
   "execution_count": 31,
   "metadata": {},
   "outputs": [
    {
     "data": {
      "image/png": "[encoded data removed]",
      "text/plain": [
       "<Figure size 1080x576 with 1 Axes>"
      ]
     },
     "metadata": {
      "needs_background": "light"
     },
     "output_type": "display_data"
    }
   ],
   "source": [
    "## mono users\n",
    "plt.figure(figsize= (15,8))\n",
    "plt.bar(users_no.keys(), users_no.values(), width = 20, color= \"blue\")\n",
    "plt.xlabel(\"no of tweets (i - (i + 50))\")\n",
    "plt.ylabel(\"no of unique users\")\n",
    "plt.title(\"users vs number of tweets\")\n",
    "plt.show()"
   ]
  },
  {
   "cell_type": "code",
   "execution_count": 32,
   "metadata": {},
   "outputs": [
    {
     "data": {
      "image/png": "[encoded data removed]",
      "text/plain": [
       "<Figure size 1080x576 with 1 Axes>"
      ]
     },
     "metadata": {
      "needs_background": "light"
     },
     "output_type": "display_data"
    }
   ],
   "source": [
    "## mono users\n",
    "plt.figure(figsize=(15,8))\n",
    "plt.bar([str(user) for user in df_user[\"userID\"]],df_user[\"len_tweets\"],width=5)\n",
    "plt.tick_params(\n",
    "    axis='x',          # changes apply to the x-axis\n",
    "    which='both',      # both major and minor ticks are affected\n",
    "    bottom=False,      # ticks along the bottom edge are off\n",
    "    labelbottom=False)\n",
    "plt.xlabel(\"unique users\", fontsize=10)\n",
    "plt.ylabel(\"no of tweets\",fontsize=10)\n",
    "plt.title(\"distribution of number tweets by user\")\n",
    "plt.show()"
   ]
  },
  {
   "cell_type": "code",
   "execution_count": 33,
   "metadata": {},
   "outputs": [
    {
     "ename": "NameError",
     "evalue": "name 'df_polyt_user' is not defined",
     "output_type": "error",
     "traceback": [
      "\u001b[0;31m---------------------------------------------------------------------------\u001b[0m",
      "\u001b[0;31mNameError\u001b[0m                                 Traceback (most recent call last)",
      "\u001b[0;32m<ipython-input-33-430408028588>\u001b[0m in \u001b[0;36m<module>\u001b[0;34m()\u001b[0m\n\u001b[1;32m      1\u001b[0m \u001b[0;31m## poly user\u001b[0m\u001b[0;34m\u001b[0m\u001b[0;34m\u001b[0m\u001b[0;34m\u001b[0m\u001b[0m\n\u001b[1;32m      2\u001b[0m \u001b[0mplt\u001b[0m\u001b[0;34m.\u001b[0m\u001b[0mfigure\u001b[0m\u001b[0;34m(\u001b[0m\u001b[0mfigsize\u001b[0m\u001b[0;34m=\u001b[0m\u001b[0;34m(\u001b[0m\u001b[0;36m15\u001b[0m\u001b[0;34m,\u001b[0m\u001b[0;36m8\u001b[0m\u001b[0;34m)\u001b[0m\u001b[0;34m)\u001b[0m\u001b[0;34m\u001b[0m\u001b[0;34m\u001b[0m\u001b[0m\n\u001b[0;32m----> 3\u001b[0;31m \u001b[0mplt\u001b[0m\u001b[0;34m.\u001b[0m\u001b[0mbar\u001b[0m\u001b[0;34m(\u001b[0m\u001b[0;34m[\u001b[0m\u001b[0mstr\u001b[0m\u001b[0;34m(\u001b[0m\u001b[0muser\u001b[0m\u001b[0;34m)\u001b[0m \u001b[0;32mfor\u001b[0m \u001b[0muser\u001b[0m \u001b[0;32min\u001b[0m \u001b[0mdf_polyt_user\u001b[0m\u001b[0;34m[\u001b[0m\u001b[0;34m\"userID\"\u001b[0m\u001b[0;34m]\u001b[0m\u001b[0;34m]\u001b[0m\u001b[0;34m,\u001b[0m\u001b[0mdf_polyt_user\u001b[0m\u001b[0;34m[\u001b[0m\u001b[0;34m\"len_tweets\"\u001b[0m\u001b[0;34m]\u001b[0m\u001b[0;34m,\u001b[0m\u001b[0mwidth\u001b[0m\u001b[0;34m=\u001b[0m\u001b[0;36m5\u001b[0m\u001b[0;34m)\u001b[0m\u001b[0;34m\u001b[0m\u001b[0;34m\u001b[0m\u001b[0m\n\u001b[0m\u001b[1;32m      4\u001b[0m plt.tick_params(\n\u001b[1;32m      5\u001b[0m     \u001b[0maxis\u001b[0m\u001b[0;34m=\u001b[0m\u001b[0;34m'x'\u001b[0m\u001b[0;34m,\u001b[0m          \u001b[0;31m# changes apply to the x-axis\u001b[0m\u001b[0;34m\u001b[0m\u001b[0;34m\u001b[0m\u001b[0m\n",
      "\u001b[0;31mNameError\u001b[0m: name 'df_polyt_user' is not defined"
     ]
    },
    {
     "data": {
      "text/plain": [
       "<Figure size 1080x576 with 0 Axes>"
      ]
     },
     "metadata": {},
     "output_type": "display_data"
    }
   ],
   "source": [
    "## poly user\n",
    "plt.figure(figsize=(15,8))\n",
    "plt.bar([str(user) for user in df_polyt_user[\"userID\"]],df_polyt_user[\"len_tweets\"],width=5)\n",
    "plt.tick_params(\n",
    "    axis='x',          # changes apply to the x-axis\n",
    "    which='both',      # both major and minor ticks are affected\n",
    "    bottom=False,      # ticks along the bottom edge are off\n",
    "    labelbottom=False)\n",
    "plt.xlabel(\"unique users\", fontsize=10)\n",
    "plt.ylabel(\"no of tweets\",fontsize=10)\n",
    "plt.title(\"distribution of number tweets by user\")\n",
    "plt.show()"
   ]
  },
  {
   "cell_type": "markdown",
   "metadata": {},
   "source": [
    "## preprocessing the tweets"
   ]
  },
  {
   "cell_type": "code",
   "execution_count": 35,
   "metadata": {},
   "outputs": [],
   "source": [
    "## cleaning the tweets\n",
    "import re\n",
    "def clean_text(text):\n",
    "    text = re.sub(r'(#)', \"\",text) ## removing the hashtags signal \n",
    "    text = re.sub(r'(RT \\w+:)', \"\",text) ## remove the retweet info as they dont convey any information\n",
    "    text = re.sub(r'(author)',\"\",text)\n",
    "#     text = re.sub(r'')\n",
    "    text.rstrip\n",
    "    text.lstrip\n",
    "    return(text)"
   ]
  },
  {
   "cell_type": "code",
   "execution_count": 36,
   "metadata": {},
   "outputs": [
    {
     "name": "stdout",
     "output_type": "stream",
     "text": [
      "[nltk_data] Downloading package wordnet to\n",
      "[nltk_data]     /Users/akshayuppal/nltk_data...\n",
      "[nltk_data]   Package wordnet is already up-to-date!\n",
      "[nltk_data] Downloading package stopwords to\n",
      "[nltk_data]     /Users/akshayuppal/nltk_data...\n",
      "[nltk_data]   Package stopwords is already up-to-date!\n"
     ]
    },
    {
     "data": {
      "text/plain": [
       "True"
      ]
     },
     "execution_count": 36,
     "metadata": {},
     "output_type": "execute_result"
    }
   ],
   "source": [
    "import nltk\n",
    "from nltk.corpus import stopwords\n",
    "stopwords = set(stopwords.words('english'))\n",
    "nltk.download('wordnet')\n",
    "nltk.download('stopwords')"
   ]
  },
  {
   "cell_type": "code",
   "execution_count": 37,
   "metadata": {},
   "outputs": [],
   "source": [
    "from nltk.corpus import wordnet as wn\n",
    "def get_lemma(word):\n",
    "    lemma = wn.morphy(word)\n",
    "    if lemma is None:\n",
    "        return word\n",
    "    else:\n",
    "        return lemma"
   ]
  },
  {
   "cell_type": "code",
   "execution_count": 38,
   "metadata": {},
   "outputs": [],
   "source": [
    "from keras.preprocessing.text import Tokenizer\n",
    "from keras.layers import Embedding\n",
    "from nltk.tokenize import TweetTokenizer\n",
    "tknzr = TweetTokenizer()\n",
    "def get_tokens(sentence):\n",
    "#     tokens = nltk.word_tokenize(sentence)  # now using tweet tokenizer\n",
    "    tokens = tknzr.tokenize(sentence)\n",
    "    tokens = [token.lower() for token in tokens if (token not in stopwords and token.isalpha())] # stopwords removal\n",
    "    tokens = [get_lemma(token) for token in tokens]  # lemmatization\n",
    "    return (\" \".join(tokens))"
   ]
  },
  {
   "cell_type": "code",
   "execution_count": 39,
   "metadata": {},
   "outputs": [],
   "source": [
    "## return the tokenized words\n",
    "def get_token(sentence):\n",
    "    tokens = tknzr.tokenize(sentence)\n",
    "    tokens = [token.lower() for token in tokens if (token not in stopwords and token.isalpha())] # stopwords removal\n",
    "    tokens = [get_lemma(token) for token in tokens]  # lemmatization\n",
    "    return (tokens)"
   ]
  },
  {
   "cell_type": "code",
   "execution_count": 40,
   "metadata": {},
   "outputs": [],
   "source": [
    "## cleaning the text\n",
    "poly_tweets[\"tweetText\"] = poly_tweets[\"tweetText\"].apply(clean_text)\n",
    "mono_tweets[\"tweetText\"] = mono_tweets[\"tweetText\"].apply(clean_text)"
   ]
  },
  {
   "cell_type": "code",
   "execution_count": 41,
   "metadata": {},
   "outputs": [],
   "source": [
    "## tokenizing and lemmatizing\n",
    "poly_tweets[\"tweetText\"] = (poly_tweets[\"tweetText\"].apply(get_tokens))\n",
    "mono_tweets[\"tweetText\"] = mono_tweets[\"tweetText\"].apply(get_tokens)"
   ]
  },
  {
   "cell_type": "code",
   "execution_count": 42,
   "metadata": {},
   "outputs": [],
   "source": [
    "## join al the of the tweets for each user\n",
    "def get_tweets_user(df):\n",
    "    df_tweets_comb = list()\n",
    "    users = df.userID.unique()\n",
    "    for user in users:\n",
    "        tweets =(df.loc[df.userID == user])\n",
    "        tweets_f = (\" . \".join(tweets[\"tweetText\"]))\n",
    "        df_tweets_comb.append((user,tweets_f))\n",
    "    df_user = pd.DataFrame(df_tweets_comb, columns=[\"userID\",\"tweetText\"])\n",
    "    return (df_user)"
   ]
  },
  {
   "cell_type": "code",
   "execution_count": 43,
   "metadata": {},
   "outputs": [],
   "source": [
    "poly_tweets_user = get_tweets_user(poly_tweets)\n",
    "mono_tweets_user = get_tweets_user(mono_tweets)"
   ]
  },
  {
   "cell_type": "code",
   "execution_count": 44,
   "metadata": {},
   "outputs": [],
   "source": [
    "poly_tweets_user['label'] = \"poly\"\n",
    "mono_tweets_user['label'] = \"mono\""
   ]
  },
  {
   "cell_type": "code",
   "execution_count": 45,
   "metadata": {},
   "outputs": [],
   "source": [
    "frames = [poly_tweets_user, mono_tweets_user]\n",
    "final_tweets = pd.concat(frames)"
   ]
  },
  {
   "cell_type": "code",
   "execution_count": 46,
   "metadata": {},
   "outputs": [
    {
     "data": {
      "text/plain": [
       "2157"
      ]
     },
     "execution_count": 46,
     "metadata": {},
     "output_type": "execute_result"
    }
   ],
   "source": [
    "len(final_tweets)"
   ]
  },
  {
   "cell_type": "code",
   "execution_count": 64,
   "metadata": {},
   "outputs": [],
   "source": [
    "## encode and pad the data\n",
    "from keras.preprocessing.text import Tokenizer\n",
    "def prepare_data(df_user, mode):\n",
    "    # evaluate a neural network model\n",
    "    tokenizer = Tokenizer()\n",
    "    tokenizer.fit_on_texts(list(df_user[\"tweetText\"]))\n",
    "    X = tokenizer.texts_to_matrix(list(df_user[\"tweetText\"]),mode=mode)\n",
    "    le = LabelEncoder()\n",
    "    le.fit(list(df_user[\"label\"]))\n",
    "    y = le.transform(list(df_user[\"label\"]))\n",
    "    X, y = shuffle(X, y, random_state=4)\n",
    "    return (X,y)"
   ]
  },
  {
   "cell_type": "code",
   "execution_count": 65,
   "metadata": {},
   "outputs": [],
   "source": [
    "## train test split\n",
    "X, y = prepare_data(final_tweets,'binary')\n",
    "X_train,X_test,Y_train,Y_test  = train_test_split(X, y,test_size =0.20,random_state= 4 )"
   ]
  },
  {
   "cell_type": "code",
   "execution_count": 66,
   "metadata": {},
   "outputs": [
    {
     "data": {
      "text/plain": [
       "(1725, 40140)"
      ]
     },
     "execution_count": 66,
     "metadata": {},
     "output_type": "execute_result"
    }
   ],
   "source": [
    "X_train.shape"
   ]
  },
  {
   "cell_type": "code",
   "execution_count": 67,
   "metadata": {},
   "outputs": [
    {
     "data": {
      "text/plain": [
       "(432, 40140)"
      ]
     },
     "execution_count": 67,
     "metadata": {},
     "output_type": "execute_result"
    }
   ],
   "source": [
    "X_test.shape"
   ]
  },
  {
   "cell_type": "code",
   "execution_count": 53,
   "metadata": {},
   "outputs": [],
   "source": [
    "## Classification\n",
    "def svm_wrapper(X_train,Y_train):\n",
    "    param_grid = [\n",
    "    {'C': [1, 10], 'kernel': ['linear']},\n",
    "    {'C': [1, 10], 'gamma': [0.1,0.01], 'kernel': ['rbf']},]\n",
    "    svm1 = GridSearchCV(SVC(),param_grid,verbose=4)\n",
    "    svm1.fit(X_train, Y_train)\n",
    "    return(svm1)"
   ]
  },
  {
   "cell_type": "code",
   "execution_count": 54,
   "metadata": {},
   "outputs": [],
   "source": [
    "def mlp_wrapper(X_train,Y_train,epochs):\n",
    "    n_words = X_test.shape[1]\n",
    "    # define network\n",
    "    model = Sequential()\n",
    "    model.add(Dropout(0.2, input_shape=(n_words,)))\n",
    "    model.add(Dense(50, input_shape=(n_words,), activation='relu'))\n",
    "    model.add(Dropout(0.2))\n",
    "    model.add(Dense(1, activation='sigmoid'))\n",
    "    # compile network\n",
    "#     model.compile(loss='binary_crossentropy', optimizer='adam', metrics=['accuracy'])\n",
    "    sgd = SGD(lr=0.1, momentum=0.9, decay=0.0, nesterov=False)\n",
    "    model.compile(loss='binary_crossentropy', optimizer=sgd, metrics=['accuracy'])  \n",
    "    # fit network\n",
    "    model.fit(X_train, Y_train, epochs=epochs, verbose=2)\n",
    "    return model"
   ]
  },
  {
   "cell_type": "code",
   "execution_count": 57,
   "metadata": {},
   "outputs": [
    {
     "data": {
      "text/plain": [
       "(432, 40140)"
      ]
     },
     "execution_count": 57,
     "metadata": {},
     "output_type": "execute_result"
    }
   ],
   "source": [
    "X_test.shape"
   ]
  },
  {
   "cell_type": "code",
   "execution_count": 55,
   "metadata": {},
   "outputs": [
    {
     "data": {
      "text/plain": [
       "(1725, 40140)"
      ]
     },
     "execution_count": 55,
     "metadata": {},
     "output_type": "execute_result"
    }
   ],
   "source": [
    "X_train.shape"
   ]
  },
  {
   "cell_type": "code",
   "execution_count": 58,
   "metadata": {},
   "outputs": [
    {
     "name": "stdout",
     "output_type": "stream",
     "text": [
      "[LibSVM]  Classification Report SVM:\n",
      "              precision    recall  f1-score   support\n",
      "\n",
      "          0       0.88      0.93      0.90       317\n",
      "          1       0.76      0.64      0.70       115\n",
      "\n",
      "avg / total       0.85      0.85      0.85       432\n",
      " \n",
      "\n"
     ]
    },
    {
     "data": {
      "text/plain": [
       "0.8518518518518519"
      ]
     },
     "execution_count": 58,
     "metadata": {},
     "output_type": "execute_result"
    }
   ],
   "source": [
    "## SVM without PCA\n",
    "svm = SVC(C=1,kernel='linear',verbose=2)\n",
    "svm.fit(X_train,Y_train)\n",
    "## svm\n",
    "Y_pred = svm.predict(X_test)\n",
    "from sklearn.metrics import classification_report,confusion_matrix\n",
    "print('  Classification Report SVM:\\n',classification_report(Y_test,Y_pred),'\\n')\n",
    "## accuarcy score\n",
    "(Y_test == Y_pred).mean()"
   ]
  },
  {
   "cell_type": "code",
   "execution_count": 59,
   "metadata": {},
   "outputs": [
    {
     "data": {
      "text/plain": [
       "RandomForestClassifier(bootstrap=True, class_weight=None, criterion='gini',\n",
       "            max_depth=2, max_features='auto', max_leaf_nodes=None,\n",
       "            min_impurity_decrease=0.0, min_impurity_split=None,\n",
       "            min_samples_leaf=1, min_samples_split=2,\n",
       "            min_weight_fraction_leaf=0.0, n_estimators=100, n_jobs=1,\n",
       "            oob_score=False, random_state=0, verbose=0, warm_start=False)"
      ]
     },
     "execution_count": 59,
     "metadata": {},
     "output_type": "execute_result"
    }
   ],
   "source": [
    "rf = RandomForestClassifier(n_estimators=100, max_depth=2,\n",
    "                             random_state=0)\n",
    "rf.fit(X_train,Y_train)"
   ]
  },
  {
   "cell_type": "code",
   "execution_count": 60,
   "metadata": {},
   "outputs": [
    {
     "data": {
      "text/plain": [
       "ExtraTreesClassifier(bootstrap=False, class_weight=None, criterion='gini',\n",
       "           max_depth=None, max_features='auto', max_leaf_nodes=None,\n",
       "           min_impurity_decrease=0.0, min_impurity_split=None,\n",
       "           min_samples_leaf=1, min_samples_split=2,\n",
       "           min_weight_fraction_leaf=0.0, n_estimators=200, n_jobs=1,\n",
       "           oob_score=False, random_state=None, verbose=0, warm_start=False)"
      ]
     },
     "execution_count": 60,
     "metadata": {},
     "output_type": "execute_result"
    }
   ],
   "source": [
    "## etree without PCA\n",
    "etree = ExtraTreesClassifier(n_estimators=200)\n",
    "etree.fit(X_train,Y_train)"
   ]
  },
  {
   "cell_type": "code",
   "execution_count": 61,
   "metadata": {},
   "outputs": [
    {
     "name": "stdout",
     "output_type": "stream",
     "text": [
      "  Classification Report Random forest (without PCA):\n",
      "              precision    recall  f1-score   support\n",
      "\n",
      "          0       0.78      0.98      0.87       317\n",
      "          1       0.85      0.25      0.39       115\n",
      "\n",
      "avg / total       0.80      0.79      0.74       432\n",
      " \n",
      "\n"
     ]
    },
    {
     "data": {
      "text/plain": [
       "0.7893518518518519"
      ]
     },
     "execution_count": 61,
     "metadata": {},
     "output_type": "execute_result"
    }
   ],
   "source": [
    "## random forest without PCA\n",
    "Y_pred = rf.predict(X_test)\n",
    "from sklearn.metrics import classification_report,confusion_matrix\n",
    "print('  Classification Report Random forest (without PCA):\\n',classification_report(Y_test,Y_pred),'\\n')\n",
    "## accuarcy score\n",
    "(Y_test == Y_pred).mean()"
   ]
  },
  {
   "cell_type": "code",
   "execution_count": 62,
   "metadata": {},
   "outputs": [
    {
     "name": "stdout",
     "output_type": "stream",
     "text": [
      "  Classification Report Etree (without PCA):\n",
      "              precision    recall  f1-score   support\n",
      "\n",
      "          0       0.87      0.94      0.90       317\n",
      "          1       0.79      0.60      0.68       115\n",
      "\n",
      "avg / total       0.85      0.85      0.84       432\n",
      " \n",
      "\n"
     ]
    },
    {
     "data": {
      "text/plain": [
       "0.8518518518518519"
      ]
     },
     "execution_count": 62,
     "metadata": {},
     "output_type": "execute_result"
    }
   ],
   "source": [
    "## etree without PCA\n",
    "Y_pred = etree.predict(X_test)\n",
    "from sklearn.metrics import classification_report,confusion_matrix\n",
    "print('  Classification Report Etree (without PCA):\\n',classification_report(Y_test,Y_pred),'\\n')\n",
    "## accuarcy score\n",
    "(Y_test == Y_pred).mean()"
   ]
  },
  {
   "cell_type": "code",
   "execution_count": 63,
   "metadata": {},
   "outputs": [
    {
     "name": "stdout",
     "output_type": "stream",
     "text": [
      "WARNING:tensorflow:From /Users/akshayuppal/anaconda3/envs/juul/lib/python3.6/site-packages/tensorflow/python/ops/control_flow_ops.py:423: colocate_with (from tensorflow.python.framework.ops) is deprecated and will be removed in a future version.\n",
      "Instructions for updating:\n",
      "Colocations handled automatically by placer.\n",
      "WARNING:tensorflow:From /Users/akshayuppal/anaconda3/envs/juul/lib/python3.6/site-packages/keras/backend/tensorflow_backend.py:3445: calling dropout (from tensorflow.python.ops.nn_ops) with keep_prob is deprecated and will be removed in a future version.\n",
      "Instructions for updating:\n",
      "Please use `rate` instead of `keep_prob`. Rate should be set to `rate = 1 - keep_prob`.\n",
      "WARNING:tensorflow:From /Users/akshayuppal/anaconda3/envs/juul/lib/python3.6/site-packages/tensorflow/python/ops/math_ops.py:3066: to_int32 (from tensorflow.python.ops.math_ops) is deprecated and will be removed in a future version.\n",
      "Instructions for updating:\n",
      "Use tf.cast instead.\n",
      "Epoch 1/10\n",
      " - 2s - loss: 0.4052 - acc: 0.8226\n",
      "Epoch 2/10\n",
      " - 1s - loss: 0.2601 - acc: 0.8899\n",
      "Epoch 3/10\n",
      " - 1s - loss: 0.1922 - acc: 0.9217\n",
      "Epoch 4/10\n",
      " - 1s - loss: 0.1366 - acc: 0.9501\n",
      "Epoch 5/10\n",
      " - 1s - loss: 0.1021 - acc: 0.9652\n",
      "Epoch 6/10\n",
      " - 1s - loss: 0.0540 - acc: 0.9826\n",
      "Epoch 7/10\n",
      " - 1s - loss: 0.0490 - acc: 0.9809\n",
      "Epoch 8/10\n",
      " - 1s - loss: 0.0388 - acc: 0.9855\n",
      "Epoch 9/10\n",
      " - 1s - loss: 0.0375 - acc: 0.9867\n",
      "Epoch 10/10\n",
      " - 1s - loss: 0.0347 - acc: 0.9896\n",
      "  Classification Report MLP :\n",
      "              precision    recall  f1-score   support\n",
      "\n",
      "          0       0.89      0.91      0.90       317\n",
      "          1       0.74      0.68      0.71       115\n",
      "\n",
      "avg / total       0.85      0.85      0.85       432\n",
      " \n",
      "\n"
     ]
    },
    {
     "data": {
      "text/plain": [
       "0.8518518518518519"
      ]
     },
     "execution_count": 63,
     "metadata": {},
     "output_type": "execute_result"
    }
   ],
   "source": [
    "mlp = mlp_wrapper(X_train,Y_train,epochs=10)\n",
    "## mlp\n",
    "temp = mlp.predict(X_test)\n",
    "Y_pred = [0 if val<0.5 else 1 for val in temp]\n",
    "from sklearn.metrics import classification_report,confusion_matrix\n",
    "print('  Classification Report MLP :\\n',classification_report(Y_test,Y_pred),'\\n')\n",
    "## accuarcy score\n",
    "(Y_test == Y_pred).mean()"
   ]
  },
  {
   "cell_type": "markdown",
   "metadata": {},
   "source": [
    "### with pca"
   ]
  },
  {
   "cell_type": "code",
   "execution_count": 68,
   "metadata": {},
   "outputs": [],
   "source": [
    "# tokenize and and get the vocalb\n",
    "# vectorizer = TfidfVectorizer()"
   ]
  },
  {
   "cell_type": "code",
   "execution_count": 69,
   "metadata": {},
   "outputs": [],
   "source": [
    "##reduce to lower dimesion  !! deprecated\n",
    "from sklearn.decomposition import PCA\n",
    "pca = PCA(n_components=100)\n",
    "X_new = pca.fit_transform(X)"
   ]
  },
  {
   "cell_type": "code",
   "execution_count": 73,
   "metadata": {},
   "outputs": [
    {
     "name": "stdout",
     "output_type": "stream",
     "text": [
      "[LibSVM]  Classification Report:\n",
      "              precision    recall  f1-score   support\n",
      "\n",
      "          0       0.88      0.93      0.90       317\n",
      "          1       0.76      0.64      0.70       115\n",
      "\n",
      "avg / total       0.85      0.85      0.85       432\n",
      " \n",
      "\n"
     ]
    },
    {
     "data": {
      "text/plain": [
       "0.8518518518518519"
      ]
     },
     "execution_count": 73,
     "metadata": {},
     "output_type": "execute_result"
    }
   ],
   "source": [
    "## svm \n",
    "svm = SVC(C=1,kernel='linear',verbose=2)\n",
    "svm.fit(X_train,Y_train)\n",
    "## svm\n",
    "Y_pred = svm.predict(X_test)\n",
    "from sklearn.metrics import classification_report,confusion_matrix\n",
    "print('  Classification Report:\\n',classification_report(Y_test,Y_pred),'\\n')\n",
    "## accuarcy score\n",
    "(Y_test == Y_pred).mean()"
   ]
  },
  {
   "cell_type": "code",
   "execution_count": 71,
   "metadata": {},
   "outputs": [
    {
     "name": "stdout",
     "output_type": "stream",
     "text": [
      "  Classification Report:\n",
      "              precision    recall  f1-score   support\n",
      "\n",
      "          0       0.78      0.98      0.87       317\n",
      "          1       0.85      0.25      0.39       115\n",
      "\n",
      "avg / total       0.80      0.79      0.74       432\n",
      " \n",
      "\n"
     ]
    },
    {
     "data": {
      "text/plain": [
       "0.7893518518518519"
      ]
     },
     "execution_count": 71,
     "metadata": {},
     "output_type": "execute_result"
    }
   ],
   "source": [
    "## random forest\n",
    "Y_pred = rf.predict(X_test)\n",
    "from sklearn.metrics import classification_report,confusion_matrix\n",
    "print('  Classification Report:\\n',classification_report(Y_test,Y_pred),'\\n')\n",
    "## accuarcy score\n",
    "(Y_test == Y_pred).mean()"
   ]
  },
  {
   "cell_type": "code",
   "execution_count": 72,
   "metadata": {},
   "outputs": [
    {
     "name": "stdout",
     "output_type": "stream",
     "text": [
      "  Classification Report:\n",
      "              precision    recall  f1-score   support\n",
      "\n",
      "          0       0.87      0.94      0.90       317\n",
      "          1       0.79      0.60      0.68       115\n",
      "\n",
      "avg / total       0.85      0.85      0.84       432\n",
      " \n",
      "\n"
     ]
    },
    {
     "data": {
      "text/plain": [
       "0.8518518518518519"
      ]
     },
     "execution_count": 72,
     "metadata": {},
     "output_type": "execute_result"
    }
   ],
   "source": [
    "## etree\n",
    "Y_pred = etree.predict(X_test)\n",
    "from sklearn.metrics import classification_report,confusion_matrix\n",
    "print('  Classification Report:\\n',classification_report(Y_test,Y_pred),'\\n')\n",
    "## accuarcy score\n",
    "(Y_test == Y_pred).mean()"
   ]
  },
  {
   "cell_type": "markdown",
   "metadata": {},
   "source": [
    "## sentence level .."
   ]
  },
  {
   "cell_type": "code",
   "execution_count": 74,
   "metadata": {},
   "outputs": [],
   "source": [
    "poly_tweets[\"poly_mono\"] = \"poly\"\n",
    "mono_tweets[\"poly_mono\"] = \"mono\""
   ]
  },
  {
   "cell_type": "code",
   "execution_count": 75,
   "metadata": {},
   "outputs": [],
   "source": [
    "frames = [poly_tweets, mono_tweets]\n",
    "df_final_tweets = pd.concat(frames)"
   ]
  },
  {
   "cell_type": "code",
   "execution_count": 76,
   "metadata": {},
   "outputs": [],
   "source": [
    "df_final_sentences = df_final_tweets[['tweetText','poly_mono']]"
   ]
  },
  {
   "cell_type": "code",
   "execution_count": 77,
   "metadata": {},
   "outputs": [
    {
     "data": {
      "text/plain": [
       "76585"
      ]
     },
     "execution_count": 77,
     "metadata": {},
     "output_type": "execute_result"
    }
   ],
   "source": [
    "len(df_final_sentences)"
   ]
  },
  {
   "cell_type": "code",
   "execution_count": 78,
   "metadata": {},
   "outputs": [],
   "source": [
    "def get_data(df_user, mode):\n",
    "    # evaluate a neural network model\n",
    "    tokenizer = Tokenizer()\n",
    "    tokenizer.fit_on_texts(list(df_user[\"tweetText\"]))\n",
    "    X = tokenizer.texts_to_matrix(list(df_user[\"tweetText\"]),mode=mode)\n",
    "    le = LabelEncoder()\n",
    "    le.fit(list(df_user[\"label\"]))\n",
    "    y = le.transform(list(df_user[\"label\"]))\n",
    "    X, y = shuffle(X, y, random_state=4)\n",
    "    return (X, y)"
   ]
  },
  {
   "cell_type": "code",
   "execution_count": null,
   "metadata": {},
   "outputs": [],
   "source": [
    "# X,y  = get_data(df_final_tweets,'binary')\n",
    "# X.shape"
   ]
  },
  {
   "cell_type": "markdown",
   "metadata": {
    "collapsed": true
   },
   "source": [
    "#### due to large vocabulary and memory errors using hashing vectorizer"
   ]
  },
  {
   "cell_type": "code",
   "execution_count": 81,
   "metadata": {},
   "outputs": [],
   "source": [
    "from sklearn.feature_extraction.text import HashingVectorizer\n",
    "hashing = HashingVectorizer(n_features=100)\n",
    "vector = hashing.transform(df_final_sentences[\"tweetText\"])\n",
    "X = vector.toarray()"
   ]
  },
  {
   "cell_type": "code",
   "execution_count": 82,
   "metadata": {},
   "outputs": [
    {
     "data": {
      "text/plain": [
       "(76585, 100)"
      ]
     },
     "execution_count": 82,
     "metadata": {},
     "output_type": "execute_result"
    }
   ],
   "source": [
    "X.shape"
   ]
  },
  {
   "cell_type": "code",
   "execution_count": 83,
   "metadata": {},
   "outputs": [],
   "source": [
    "le = LabelEncoder()\n",
    "le.fit(list(df_final_sentences[\"poly_mono\"]))\n",
    "y = le.transform(list(df_final_sentences[\"poly_mono\"]))"
   ]
  },
  {
   "cell_type": "code",
   "execution_count": 84,
   "metadata": {},
   "outputs": [
    {
     "data": {
      "text/plain": [
       "array(['mono', 'poly'], dtype='<U4')"
      ]
     },
     "execution_count": 84,
     "metadata": {},
     "output_type": "execute_result"
    }
   ],
   "source": [
    "le.classes_"
   ]
  },
  {
   "cell_type": "code",
   "execution_count": 85,
   "metadata": {},
   "outputs": [],
   "source": [
    "X,y = shuffle(X,y, random_state=5)"
   ]
  },
  {
   "cell_type": "code",
   "execution_count": 86,
   "metadata": {},
   "outputs": [],
   "source": [
    "X_train,X_test,Y_train,Y_test = train_test_split(X,y,test_size =0.20,random_state= 4)"
   ]
  },
  {
   "cell_type": "code",
   "execution_count": 87,
   "metadata": {},
   "outputs": [
    {
     "data": {
      "text/plain": [
       "(61268, 100)"
      ]
     },
     "execution_count": 87,
     "metadata": {},
     "output_type": "execute_result"
    }
   ],
   "source": [
    "X_train.shape"
   ]
  },
  {
   "cell_type": "code",
   "execution_count": null,
   "metadata": {
    "scrolled": false
   },
   "outputs": [
    {
     "name": "stderr",
     "output_type": "stream",
     "text": [
      "/home/samarthgoal/.local/lib/python3.5/site-packages/sklearn/model_selection/_split.py:2053: FutureWarning: You should specify a value for 'cv' instead of relying on the default value. The default value will change from 3 to 5 in version 0.22.\n",
      "  warnings.warn(CV_WARNING, FutureWarning)\n",
      "[Parallel(n_jobs=1)]: Using backend SequentialBackend with 1 concurrent workers.\n"
     ]
    },
    {
     "name": "stdout",
     "output_type": "stream",
     "text": [
      "Fitting 3 folds for each of 6 candidates, totalling 18 fits\n",
      "[CV] C=1, kernel=linear ..............................................\n",
      "[CV] ..... C=1, kernel=linear, score=0.9221009356393536, total= 2.1min\n",
      "[CV] C=1, kernel=linear ..............................................\n"
     ]
    },
    {
     "name": "stderr",
     "output_type": "stream",
     "text": [
      "[Parallel(n_jobs=1)]: Done   1 out of   1 | elapsed:  3.2min remaining:    0.0s\n"
     ]
    },
    {
     "name": "stdout",
     "output_type": "stream",
     "text": [
      "[CV] ..... C=1, kernel=linear, score=0.9221009356393536, total= 2.2min\n",
      "[CV] C=1, kernel=linear ..............................................\n"
     ]
    },
    {
     "name": "stderr",
     "output_type": "stream",
     "text": [
      "[Parallel(n_jobs=1)]: Done   2 out of   2 | elapsed:  6.4min remaining:    0.0s\n"
     ]
    },
    {
     "name": "stdout",
     "output_type": "stream",
     "text": [
      "[CV] ..... C=1, kernel=linear, score=0.9220981747297536, total= 2.2min\n",
      "[CV] C=10, kernel=linear .............................................\n"
     ]
    },
    {
     "name": "stderr",
     "output_type": "stream",
     "text": [
      "[Parallel(n_jobs=1)]: Done   3 out of   3 | elapsed:  9.7min remaining:    0.0s\n"
     ]
    },
    {
     "name": "stdout",
     "output_type": "stream",
     "text": [
      "[CV] .... C=10, kernel=linear, score=0.9221009356393536, total= 5.3min\n",
      "[CV] C=10, kernel=linear .............................................\n",
      "[CV] .... C=10, kernel=linear, score=0.9221009356393536, total= 5.3min\n",
      "[CV] C=10, kernel=linear .............................................\n",
      "[CV] .... C=10, kernel=linear, score=0.9220981747297536, total= 5.2min\n",
      "[CV] C=1, gamma=0.1, kernel=rbf ......................................\n",
      "[CV]  C=1, gamma=0.1, kernel=rbf, score=0.9221009356393536, total=61.4min\n",
      "[CV] C=1, gamma=0.1, kernel=rbf ......................................\n"
     ]
    }
   ],
   "source": [
    "svm = svm_wrapper(X_train, Y_train)\n",
    "## svm\n",
    "Y_pred = svm.predict(X_test)\n",
    "from sklearn.metrics import classification_report,confusion_matrix\n",
    "print('  Classification Report:\\n',classification_report(Y_test,Y_pred),'\\n')\n",
    "## accuarcy score\n",
    "(Y_test == Y_pred).mean()"
   ]
  },
  {
   "cell_type": "code",
   "execution_count": 114,
   "metadata": {},
   "outputs": [
    {
     "name": "stdout",
     "output_type": "stream",
     "text": [
      "  Classification Report:\n",
      "              precision    recall  f1-score   support\n",
      "\n",
      "          0       0.81      0.97      0.88       317\n",
      "          1       0.80      0.37      0.51       115\n",
      "\n",
      "avg / total       0.81      0.81      0.78       432\n",
      " \n",
      "\n"
     ]
    },
    {
     "data": {
      "text/plain": [
       "0.8078703703703703"
      ]
     },
     "execution_count": 114,
     "metadata": {},
     "output_type": "execute_result"
    }
   ],
   "source": [
    "svm = SVC(C=10,kernel='rbf')\n",
    "svm.fit(X_train,Y_train)\n",
    "## svm\n",
    "Y_pred = svm.predict(X_test)\n",
    "from sklearn.metrics import classification_report,confusion_matrix\n",
    "print('  Classification Report:\\n',classification_report(Y_test,Y_pred),'\\n')\n",
    "## accuarcy score\n",
    "(Y_test == Y_pred).mean()"
   ]
  },
  {
   "cell_type": "code",
   "execution_count": 113,
   "metadata": {},
   "outputs": [
    {
     "name": "stdout",
     "output_type": "stream",
     "text": [
      "building tree 1 of 100\n",
      "building tree 2 of 100\n",
      "building tree 3 of 100\n"
     ]
    },
    {
     "name": "stderr",
     "output_type": "stream",
     "text": [
      "[Parallel(n_jobs=1)]: Done   1 out of   1 | elapsed:    0.1s remaining:    0.0s\n",
      "[Parallel(n_jobs=1)]: Done   2 out of   2 | elapsed:    0.2s remaining:    0.0s\n"
     ]
    },
    {
     "name": "stdout",
     "output_type": "stream",
     "text": [
      "building tree 4 of 100\n",
      "building tree 5 of 100\n",
      "building tree 6 of 100\n",
      "building tree 7 of 100\n",
      "building tree 8 of 100\n",
      "building tree 9 of 100\n",
      "building tree 10 of 100\n",
      "building tree 11 of 100\n",
      "building tree 12 of 100\n",
      "building tree 13 of 100\n",
      "building tree 14 of 100\n",
      "building tree 15 of 100\n",
      "building tree 16 of 100\n",
      "building tree 17 of 100\n",
      "building tree 18 of 100\n",
      "building tree 19 of 100\n",
      "building tree 20 of 100\n",
      "building tree 21 of 100\n",
      "building tree 22 of 100\n",
      "building tree 23 of 100\n",
      "building tree 24 of 100\n",
      "building tree 25 of 100\n",
      "building tree 26 of 100\n",
      "building tree 27 of 100\n",
      "building tree 28 of 100\n",
      "building tree 29 of 100\n",
      "building tree 30 of 100\n",
      "building tree 31 of 100\n",
      "building tree 32 of 100\n",
      "building tree 33 of 100\n",
      "building tree 34 of 100\n",
      "building tree 35 of 100\n",
      "building tree 36 of 100\n",
      "building tree 37 of 100\n",
      "building tree 38 of 100\n",
      "building tree 39 of 100\n",
      "building tree 40 of 100\n",
      "building tree 41 of 100\n",
      "building tree 42 of 100\n",
      "building tree 43 of 100\n",
      "building tree 44 of 100\n",
      "building tree 45 of 100\n",
      "building tree 46 of 100\n",
      "building tree 47 of 100\n",
      "building tree 48 of 100\n",
      "building tree 49 of 100\n",
      "building tree 50 of 100\n",
      "building tree 51 of 100\n",
      "building tree 52 of 100\n",
      "building tree 53 of 100\n",
      "building tree 54 of 100\n",
      "building tree 55 of 100\n",
      "building tree 56 of 100\n",
      "building tree 57 of 100\n",
      "building tree 58 of 100\n",
      "building tree 59 of 100\n",
      "building tree 60 of 100\n",
      "building tree 61 of 100\n",
      "building tree 62 of 100\n",
      "building tree 63 of 100\n",
      "building tree 64 of 100\n",
      "building tree 65 of 100\n",
      "building tree 66 of 100\n",
      "building tree 67 of 100\n",
      "building tree 68 of 100\n",
      "building tree 69 of 100\n",
      "building tree 70 of 100\n",
      "building tree 71 of 100\n",
      "building tree 72 of 100\n",
      "building tree 73 of 100\n",
      "building tree 74 of 100\n",
      "building tree 75 of 100\n",
      "building tree 76 of 100\n",
      "building tree 77 of 100\n",
      "building tree 78 of 100\n",
      "building tree 79 of 100\n",
      "building tree 80 of 100\n",
      "building tree 81 of 100\n",
      "building tree 82 of 100\n",
      "building tree 83 of 100\n",
      "building tree 84 of 100\n",
      "building tree 85 of 100\n",
      "building tree 86 of 100\n",
      "building tree 87 of 100\n",
      "building tree 88 of 100\n",
      "building tree 89 of 100\n",
      "building tree 90 of 100\n",
      "building tree 91 of 100\n",
      "building tree 92 of 100\n",
      "building tree 93 of 100\n",
      "building tree 94 of 100\n",
      "building tree 95 of 100\n",
      "building tree 96 of 100\n",
      "building tree 97 of 100\n",
      "building tree 98 of 100\n",
      "building tree 99 of 100\n",
      "building tree 100 of 100\n",
      "  Classification Report:\n",
      "              precision    recall  f1-score   support\n",
      "\n",
      "          0       0.85      0.95      0.90       317\n",
      "          1       0.80      0.53      0.64       115\n",
      "\n",
      "avg / total       0.84      0.84      0.83       432\n",
      " \n",
      "\n"
     ]
    },
    {
     "name": "stderr",
     "output_type": "stream",
     "text": [
      "[Parallel(n_jobs=1)]: Done 100 out of 100 | elapsed:    7.4s finished\n",
      "[Parallel(n_jobs=1)]: Done   1 out of   1 | elapsed:    0.0s remaining:    0.0s\n",
      "[Parallel(n_jobs=1)]: Done   2 out of   2 | elapsed:    0.0s remaining:    0.0s\n",
      "[Parallel(n_jobs=1)]: Done 100 out of 100 | elapsed:    0.0s finished\n"
     ]
    },
    {
     "data": {
      "text/plain": [
       "0.8402777777777778"
      ]
     },
     "execution_count": 113,
     "metadata": {},
     "output_type": "execute_result"
    }
   ],
   "source": [
    "rf = RandomForestClassifier(n_estimators=100, max_depth=20,\n",
    "                             random_state=0,verbose=3)\n",
    "rf.fit(X_train,Y_train)\n",
    "Y_pred = rf.predict(X_test)\n",
    "from sklearn.metrics import classification_report,confusion_matrix\n",
    "print('  Classification Report:\\n',classification_report(Y_test,Y_pred),'\\n')\n",
    "## accuarcy score\n",
    "(Y_test == Y_pred).mean()"
   ]
  },
  {
   "cell_type": "code",
   "execution_count": 90,
   "metadata": {},
   "outputs": [
    {
     "name": "stdout",
     "output_type": "stream",
     "text": [
      "building tree 1 of 200\n"
     ]
    },
    {
     "name": "stderr",
     "output_type": "stream",
     "text": [
      "[Parallel(n_jobs=1)]: Done   1 out of   1 | elapsed:    0.3s remaining:    0.0s\n"
     ]
    },
    {
     "name": "stdout",
     "output_type": "stream",
     "text": [
      "building tree 2 of 200\n"
     ]
    },
    {
     "name": "stderr",
     "output_type": "stream",
     "text": [
      "[Parallel(n_jobs=1)]: Done   2 out of   2 | elapsed:    0.7s remaining:    0.0s\n"
     ]
    },
    {
     "name": "stdout",
     "output_type": "stream",
     "text": [
      "building tree 3 of 200\n",
      "building tree 4 of 200\n",
      "building tree 5 of 200\n",
      "building tree 6 of 200\n",
      "building tree 7 of 200\n",
      "building tree 8 of 200\n",
      "building tree 9 of 200\n",
      "building tree 10 of 200\n",
      "building tree 11 of 200\n",
      "building tree 12 of 200\n",
      "building tree 13 of 200\n",
      "building tree 14 of 200\n",
      "building tree 15 of 200\n",
      "building tree 16 of 200\n",
      "building tree 17 of 200\n",
      "building tree 18 of 200\n",
      "building tree 19 of 200\n",
      "building tree 20 of 200\n",
      "building tree 21 of 200\n",
      "building tree 22 of 200\n",
      "building tree 23 of 200\n",
      "building tree 24 of 200\n",
      "building tree 25 of 200\n",
      "building tree 26 of 200\n",
      "building tree 27 of 200\n",
      "building tree 28 of 200\n",
      "building tree 29 of 200\n",
      "building tree 30 of 200\n",
      "building tree 31 of 200\n",
      "building tree 32 of 200\n",
      "building tree 33 of 200\n",
      "building tree 34 of 200\n",
      "building tree 35 of 200\n",
      "building tree 36 of 200\n",
      "building tree 37 of 200\n",
      "building tree 38 of 200\n",
      "building tree 39 of 200\n",
      "building tree 40 of 200\n",
      "building tree 41 of 200\n",
      "building tree 42 of 200\n",
      "building tree 43 of 200\n",
      "building tree 44 of 200\n",
      "building tree 45 of 200\n",
      "building tree 46 of 200\n",
      "building tree 47 of 200\n",
      "building tree 48 of 200\n",
      "building tree 49 of 200\n",
      "building tree 50 of 200\n",
      "building tree 51 of 200\n",
      "building tree 52 of 200\n",
      "building tree 53 of 200\n",
      "building tree 54 of 200\n",
      "building tree 55 of 200\n",
      "building tree 56 of 200\n",
      "building tree 57 of 200\n",
      "building tree 58 of 200\n",
      "building tree 59 of 200\n",
      "building tree 60 of 200\n",
      "building tree 61 of 200\n",
      "building tree 62 of 200\n",
      "building tree 63 of 200\n",
      "building tree 64 of 200\n",
      "building tree 65 of 200\n",
      "building tree 66 of 200\n",
      "building tree 67 of 200\n",
      "building tree 68 of 200\n",
      "building tree 69 of 200\n",
      "building tree 70 of 200\n",
      "building tree 71 of 200\n",
      "building tree 72 of 200\n",
      "building tree 73 of 200\n",
      "building tree 74 of 200\n",
      "building tree 75 of 200\n",
      "building tree 76 of 200\n",
      "building tree 77 of 200\n",
      "building tree 78 of 200\n",
      "building tree 79 of 200\n",
      "building tree 80 of 200\n",
      "building tree 81 of 200\n",
      "building tree 82 of 200\n",
      "building tree 83 of 200\n",
      "building tree 84 of 200\n",
      "building tree 85 of 200\n",
      "building tree 86 of 200\n",
      "building tree 87 of 200\n",
      "building tree 88 of 200\n",
      "building tree 89 of 200\n",
      "building tree 90 of 200\n",
      "building tree 91 of 200\n",
      "building tree 92 of 200\n",
      "building tree 93 of 200\n",
      "building tree 94 of 200\n",
      "building tree 95 of 200\n",
      "building tree 96 of 200\n",
      "building tree 97 of 200\n",
      "building tree 98 of 200\n",
      "building tree 99 of 200\n",
      "building tree 100 of 200\n",
      "building tree 101 of 200\n",
      "building tree 102 of 200\n",
      "building tree 103 of 200\n",
      "building tree 104 of 200\n",
      "building tree 105 of 200\n",
      "building tree 106 of 200\n",
      "building tree 107 of 200\n",
      "building tree 108 of 200\n",
      "building tree 109 of 200\n",
      "building tree 110 of 200\n",
      "building tree 111 of 200\n",
      "building tree 112 of 200\n",
      "building tree 113 of 200\n",
      "building tree 114 of 200\n",
      "building tree 115 of 200\n",
      "building tree 116 of 200\n",
      "building tree 117 of 200\n",
      "building tree 118 of 200\n",
      "building tree 119 of 200\n",
      "building tree 120 of 200\n",
      "building tree 121 of 200\n",
      "building tree 122 of 200\n",
      "building tree 123 of 200\n",
      "building tree 124 of 200\n",
      "building tree 125 of 200\n",
      "building tree 126 of 200\n",
      "building tree 127 of 200\n",
      "building tree 128 of 200\n",
      "building tree 129 of 200\n",
      "building tree 130 of 200\n",
      "building tree 131 of 200\n",
      "building tree 132 of 200\n",
      "building tree 133 of 200\n",
      "building tree 134 of 200\n",
      "building tree 135 of 200\n",
      "building tree 136 of 200\n",
      "building tree 137 of 200\n",
      "building tree 138 of 200\n",
      "building tree 139 of 200\n",
      "building tree 140 of 200\n",
      "building tree 141 of 200\n",
      "building tree 142 of 200\n",
      "building tree 143 of 200\n",
      "building tree 144 of 200\n",
      "building tree 145 of 200\n",
      "building tree 146 of 200\n",
      "building tree 147 of 200\n",
      "building tree 148 of 200\n",
      "building tree 149 of 200\n",
      "building tree 150 of 200\n",
      "building tree 151 of 200\n",
      "building tree 152 of 200\n",
      "building tree 153 of 200\n",
      "building tree 154 of 200\n",
      "building tree 155 of 200\n",
      "building tree 156 of 200\n",
      "building tree 157 of 200\n",
      "building tree 158 of 200\n",
      "building tree 159 of 200\n",
      "building tree 160 of 200\n",
      "building tree 161 of 200\n",
      "building tree 162 of 200\n",
      "building tree 163 of 200\n",
      "building tree 164 of 200\n",
      "building tree 165 of 200\n",
      "building tree 166 of 200\n",
      "building tree 167 of 200\n",
      "building tree 168 of 200\n",
      "building tree 169 of 200\n",
      "building tree 170 of 200\n",
      "building tree 171 of 200\n",
      "building tree 172 of 200\n",
      "building tree 173 of 200\n",
      "building tree 174 of 200\n",
      "building tree 175 of 200\n",
      "building tree 176 of 200\n",
      "building tree 177 of 200\n",
      "building tree 178 of 200\n",
      "building tree 179 of 200\n",
      "building tree 180 of 200\n",
      "building tree 181 of 200\n",
      "building tree 182 of 200\n",
      "building tree 183 of 200\n",
      "building tree 184 of 200\n",
      "building tree 185 of 200\n",
      "building tree 186 of 200\n",
      "building tree 187 of 200\n",
      "building tree 188 of 200\n",
      "building tree 189 of 200\n",
      "building tree 190 of 200\n",
      "building tree 191 of 200\n",
      "building tree 192 of 200\n",
      "building tree 193 of 200\n",
      "building tree 194 of 200\n",
      "building tree 195 of 200\n",
      "building tree 196 of 200\n",
      "building tree 197 of 200\n",
      "building tree 198 of 200\n",
      "building tree 199 of 200\n",
      "building tree 200 of 200\n"
     ]
    },
    {
     "name": "stderr",
     "output_type": "stream",
     "text": [
      "[Parallel(n_jobs=1)]: Done 200 out of 200 | elapsed:  1.2min finished\n",
      "[Parallel(n_jobs=1)]: Done   1 out of   1 | elapsed:    0.0s remaining:    0.0s\n",
      "[Parallel(n_jobs=1)]: Done   2 out of   2 | elapsed:    0.0s remaining:    0.0s\n"
     ]
    },
    {
     "name": "stdout",
     "output_type": "stream",
     "text": [
      "  Classification Report:\n",
      "              precision    recall  f1-score   support\n",
      "\n",
      "          0       0.71      0.41      0.52      2990\n",
      "          1       0.87      0.96      0.91     12327\n",
      "\n",
      "avg / total       0.84      0.85      0.84     15317\n",
      " \n",
      "\n"
     ]
    },
    {
     "name": "stderr",
     "output_type": "stream",
     "text": [
      "[Parallel(n_jobs=1)]: Done 200 out of 200 | elapsed:    1.7s finished\n"
     ]
    },
    {
     "data": {
      "text/plain": [
       "0.851994515897369"
      ]
     },
     "execution_count": 90,
     "metadata": {},
     "output_type": "execute_result"
    }
   ],
   "source": [
    "etree = ExtraTreesClassifier(n_estimators=200,verbose=3)\n",
    "etree.fit(X_train,Y_train)\n",
    "Y_pred = etree.predict(X_test)\n",
    "from sklearn.metrics import classification_report,confusion_matrix\n",
    "print('  Classification Report:\\n',classification_report(Y_test,Y_pred),'\\n')\n",
    "## accuarcy score\n",
    "(Y_test == Y_pred).mean()"
   ]
  },
  {
   "cell_type": "markdown",
   "metadata": {},
   "source": [
    "## get the most common words in the poly and mono tweets"
   ]
  },
  {
   "cell_type": "code",
   "execution_count": 91,
   "metadata": {},
   "outputs": [],
   "source": [
    "tokens_p = list(poly_tweets_user[\"tweetText\"].apply(get_token))\n",
    "tokens_j = list(mono_tweets_user[\"tweetText\"].apply(get_token))"
   ]
  },
  {
   "cell_type": "code",
   "execution_count": 92,
   "metadata": {},
   "outputs": [],
   "source": [
    "## get the list of tokens\n",
    "## return the most common tokens\n",
    "from collections import Counter\n",
    "def build_vocab(tokens_list):\n",
    "    vocab = Counter()\n",
    "    for tokens in tokens_list:\n",
    "        vocab.update(tokens)\n",
    "    return vocab"
   ]
  },
  {
   "cell_type": "code",
   "execution_count": 93,
   "metadata": {},
   "outputs": [
    {
     "data": {
      "text/plain": [
       "[('cannabis', 21853),\n",
       " ('tobacco', 19006),\n",
       " ('marijuana', 17350),\n",
       " ('weed', 10082),\n",
       " ('via', 6704),\n",
       " ('cbd', 5785),\n",
       " ('smoke', 4997),\n",
       " ('vape', 4683),\n",
       " ('pot', 4611),\n",
       " ('hemp', 4143),\n",
       " ('stone', 4005),\n",
       " ('smoking', 3951),\n",
       " ('use', 3677),\n",
       " ('new', 3602),\n",
       " ('vaping', 3511),\n",
       " ('get', 3242),\n",
       " ('product', 2879),\n",
       " ('medical', 2702),\n",
       " ('high', 2624),\n",
       " ('health', 2369),\n",
       " ('cigarette', 2344),\n",
       " ('tax', 2172),\n",
       " ('juul', 2025),\n",
       " ('stoner', 2012),\n",
       " ('us', 1998),\n",
       " ('legalizeit', 1589),\n",
       " ('find', 1578),\n",
       " ('stonerfam', 1560),\n",
       " ('big', 1546),\n",
       " ('industry', 1541)]"
      ]
     },
     "execution_count": 93,
     "metadata": {},
     "output_type": "execute_result"
    }
   ],
   "source": [
    "## most common words for poly_users tweets\n",
    "vocab = build_vocab(tokens_p)\n",
    "vocab.most_common()[:30]"
   ]
  },
  {
   "cell_type": "code",
   "execution_count": 94,
   "metadata": {},
   "outputs": [
    {
     "data": {
      "text/plain": [
       "[('tobacco', 5232),\n",
       " ('juul', 2734),\n",
       " ('cannabis', 1954),\n",
       " ('marijuana', 1870),\n",
       " ('smoke', 1713),\n",
       " ('vape', 1641),\n",
       " ('vaping', 1569),\n",
       " ('latest', 1471),\n",
       " ('smoking', 1450),\n",
       " ('thanks', 1290),\n",
       " ('daily', 1065),\n",
       " ('tax', 958),\n",
       " ('weed', 797),\n",
       " ('new', 748),\n",
       " ('ecig', 735),\n",
       " ('product', 720),\n",
       " ('via', 702),\n",
       " ('use', 665),\n",
       " ('health', 606),\n",
       " ('get', 595),\n",
       " ('cbd', 551),\n",
       " ('ecigs', 534),\n",
       " ('like', 514),\n",
       " ('cigarette', 481),\n",
       " ('fetish', 458),\n",
       " ('big', 446),\n",
       " ('http', 423),\n",
       " ('nicotine', 403),\n",
       " ('follow', 401),\n",
       " ('hemp', 381)]"
      ]
     },
     "execution_count": 94,
     "metadata": {},
     "output_type": "execute_result"
    }
   ],
   "source": [
    "## most common words for juul user tweets\n",
    "vocab1 = build_vocab(tokens_j)\n",
    "vocab1.most_common()[:30]"
   ]
  },
  {
   "cell_type": "code",
   "execution_count": 95,
   "metadata": {},
   "outputs": [],
   "source": [
    "## topic modelling\n",
    "from gensim import corpora\n",
    "import pickle\n",
    "import pyLDAvis.gensim\n",
    "dictionary = corpora.Dictionary(tokens_p)\n",
    "corpus = [dictionary.doc2bow(text) for text in tokens_p]\n",
    "pickle.dump(corpus, open(os.path.join(poly_dir,'corpus.pkl'), 'wb'))\n",
    "dictionary.save(os.path.join(poly_dir,'dictionary.gensim'))"
   ]
  },
  {
   "cell_type": "code",
   "execution_count": 96,
   "metadata": {},
   "outputs": [],
   "source": [
    "NUM_TOPICS = 5\n",
    "ldamodel = gensim.models.ldamodel.LdaModel(corpus, num_topics = NUM_TOPICS, id2word=dictionary, passes=8)\n",
    "ldamodel.save(os.path.join(poly_dir,'model5.gensim'))\n",
    "topics = ldamodel.print_topics(num_words=4)"
   ]
  },
  {
   "cell_type": "code",
   "execution_count": 97,
   "metadata": {},
   "outputs": [
    {
     "name": "stdout",
     "output_type": "stream",
     "text": [
      "(0, '0.044*\"cannabis\" + 0.038*\"marijuana\" + 0.014*\"tobacco\" + 0.008*\"use\"')\n",
      "(1, '0.043*\"cbd\" + 0.031*\"hemp\" + 0.018*\"cannabis\" + 0.013*\"vape\"')\n",
      "(2, '0.043*\"cannabis\" + 0.034*\"weed\" + 0.027*\"marijuana\" + 0.026*\"stone\"')\n",
      "(3, '0.065*\"marijuana\" + 0.062*\"cannabis\" + 0.043*\"via\" + 0.038*\"weed\"')\n",
      "(4, '0.081*\"tobacco\" + 0.013*\"smoking\" + 0.010*\"cigarette\" + 0.010*\"vaping\"')\n"
     ]
    }
   ],
   "source": [
    "for topic in topics:\n",
    "    print(topic)"
   ]
  },
  {
   "cell_type": "code",
   "execution_count": 98,
   "metadata": {},
   "outputs": [],
   "source": [
    "## encode and pad the data\n",
    "from keras.preprocessing.text import Tokenizer\n",
    "from sklearn.utils import shuffle\n",
    "def prepare_data(df_user, mode):\n",
    "    # evaluate a neural network model\n",
    "    tokenizer = Tokenizer()\n",
    "    tokenizer.fit_on_texts(list(df_user[\"tweetText\"]))\n",
    "    X = tokenizer.texts_to_matrix(list(df_user[\"tweetText\"]),mode=mode)\n",
    "    le = LabelEncoder()\n",
    "    le.fit(list(df_user[\"label\"]))\n",
    "    y = le.transform(list(df_user[\"label\"]))\n",
    "    X, y = shuffle(X, y, random_state=4)\n",
    "    ## train test split\n",
    "    X_train,X_test,Y_train,Y_test  = train_test_split(X, y,test_size =0.20,random_state= 4 )\n",
    "    return (X_train,X_test,Y_train,Y_test)"
   ]
  },
  {
   "cell_type": "code",
   "execution_count": 99,
   "metadata": {},
   "outputs": [
    {
     "data": {
      "text/html": [
       "\n",
       "<link rel=\"stylesheet\" type=\"text/css\" href=\"https://cdn.rawgit.com/bmabey/pyLDAvis/files/ldavis.v1.0.0.css\">\n",
       "\n",
       "\n",
       "<div id=\"ldavis_el268852886229847117581968\"></div>\n",
       "<script type=\"text/javascript\">\n",
       "\n",
       "var ldavis_el268852886229847117581968_data = {\"mdsDat\": {\"x\": [0.10721430824606325, -0.10954331708010472, -0.17953913781259992, 0.14356182365900638, 0.03830632298763521], \"y\": [-0.10515512759492122, -0.015992883974951362, 0.06006114645359596, 0.17068498894212922, -0.10959812382585257], \"topics\": [1, 2, 3, 4, 5], \"cluster\": [1, 1, 1, 1, 1], \"Freq\": [16.335399627685547, 21.402185440063477, 42.375370025634766, 4.372869968414307, 15.514183044433594]}, \"tinfo\": {\"Category\": [\"Default\", \"Default\", \"Default\", \"Default\", \"Default\", \"Default\", \"Default\", \"Default\", \"Default\", \"Default\", \"Default\", \"Default\", \"Default\", \"Default\", \"Default\", \"Default\", \"Default\", \"Default\", \"Default\", \"Default\", \"Default\", \"Default\", \"Default\", \"Default\", \"Default\", \"Default\", \"Default\", \"Default\", \"Default\", \"Default\", \"Topic1\", \"Topic1\", \"Topic1\", \"Topic1\", \"Topic1\", \"Topic1\", \"Topic1\", \"Topic1\", \"Topic1\", \"Topic1\", \"Topic1\", \"Topic1\", \"Topic1\", \"Topic1\", \"Topic1\", \"Topic1\", \"Topic1\", \"Topic1\", \"Topic1\", \"Topic1\", \"Topic1\", \"Topic1\", \"Topic1\", \"Topic1\", \"Topic1\", \"Topic1\", \"Topic1\", \"Topic1\", \"Topic1\", \"Topic1\", \"Topic1\", \"Topic1\", \"Topic1\", \"Topic1\", \"Topic1\", \"Topic1\", \"Topic1\", \"Topic1\", \"Topic1\", \"Topic1\", \"Topic1\", \"Topic1\", \"Topic1\", \"Topic1\", \"Topic1\", \"Topic1\", \"Topic1\", \"Topic1\", \"Topic1\", \"Topic1\", \"Topic1\", \"Topic1\", \"Topic1\", \"Topic1\", \"Topic1\", \"Topic1\", \"Topic1\", \"Topic1\", \"Topic1\", \"Topic1\", \"Topic1\", \"Topic1\", \"Topic1\", \"Topic1\", \"Topic1\", \"Topic1\", \"Topic1\", \"Topic1\", \"Topic1\", \"Topic1\", \"Topic1\", \"Topic1\", \"Topic1\", \"Topic2\", \"Topic2\", \"Topic2\", \"Topic2\", \"Topic2\", \"Topic2\", \"Topic2\", \"Topic2\", \"Topic2\", \"Topic2\", \"Topic2\", \"Topic2\", \"Topic2\", \"Topic2\", \"Topic2\", \"Topic2\", \"Topic2\", \"Topic2\", \"Topic2\", \"Topic2\", \"Topic2\", \"Topic2\", \"Topic2\", \"Topic2\", \"Topic2\", \"Topic2\", \"Topic2\", \"Topic2\", \"Topic2\", \"Topic2\", \"Topic2\", \"Topic2\", \"Topic2\", \"Topic2\", \"Topic2\", \"Topic2\", \"Topic2\", \"Topic2\", \"Topic2\", \"Topic2\", \"Topic2\", \"Topic2\", \"Topic2\", \"Topic2\", \"Topic2\", \"Topic2\", \"Topic2\", \"Topic2\", \"Topic2\", \"Topic2\", \"Topic2\", \"Topic2\", \"Topic2\", \"Topic2\", \"Topic2\", \"Topic2\", \"Topic2\", \"Topic2\", \"Topic2\", \"Topic2\", \"Topic2\", \"Topic2\", \"Topic2\", \"Topic2\", \"Topic2\", \"Topic2\", \"Topic2\", \"Topic2\", \"Topic2\", \"Topic2\", \"Topic2\", \"Topic2\", \"Topic2\", \"Topic2\", \"Topic2\", \"Topic2\", \"Topic2\", \"Topic2\", \"Topic2\", \"Topic2\", \"Topic2\", \"Topic3\", \"Topic3\", \"Topic3\", \"Topic3\", \"Topic3\", \"Topic3\", \"Topic3\", \"Topic3\", \"Topic3\", \"Topic3\", \"Topic3\", \"Topic3\", \"Topic3\", \"Topic3\", \"Topic3\", \"Topic3\", \"Topic3\", \"Topic3\", \"Topic3\", \"Topic3\", \"Topic3\", \"Topic3\", \"Topic3\", \"Topic3\", \"Topic3\", \"Topic3\", \"Topic3\", \"Topic3\", \"Topic3\", \"Topic3\", \"Topic3\", \"Topic3\", \"Topic3\", \"Topic3\", \"Topic3\", \"Topic3\", \"Topic3\", \"Topic3\", \"Topic3\", \"Topic3\", \"Topic3\", \"Topic3\", \"Topic3\", \"Topic3\", \"Topic3\", \"Topic3\", \"Topic3\", \"Topic3\", \"Topic3\", \"Topic3\", \"Topic3\", \"Topic3\", \"Topic3\", \"Topic3\", \"Topic3\", \"Topic3\", \"Topic3\", \"Topic3\", \"Topic3\", \"Topic3\", \"Topic3\", \"Topic3\", \"Topic3\", \"Topic3\", \"Topic3\", \"Topic3\", \"Topic3\", \"Topic3\", \"Topic3\", \"Topic3\", \"Topic3\", \"Topic3\", \"Topic3\", \"Topic3\", \"Topic3\", \"Topic3\", \"Topic3\", \"Topic3\", \"Topic3\", \"Topic3\", \"Topic3\", \"Topic4\", \"Topic4\", \"Topic4\", \"Topic4\", \"Topic4\", \"Topic4\", \"Topic4\", \"Topic4\", \"Topic4\", \"Topic4\", \"Topic4\", \"Topic4\", \"Topic4\", \"Topic4\", \"Topic4\", \"Topic4\", \"Topic4\", \"Topic4\", \"Topic4\", \"Topic4\", \"Topic4\", \"Topic4\", \"Topic4\", \"Topic4\", \"Topic4\", \"Topic4\", \"Topic4\", \"Topic4\", \"Topic4\", \"Topic4\", \"Topic4\", \"Topic4\", \"Topic4\", \"Topic4\", \"Topic4\", \"Topic4\", \"Topic4\", \"Topic4\", \"Topic4\", \"Topic4\", \"Topic4\", \"Topic4\", \"Topic4\", \"Topic4\", \"Topic4\", \"Topic4\", \"Topic4\", \"Topic4\", \"Topic4\", \"Topic4\", \"Topic4\", \"Topic4\", \"Topic4\", \"Topic4\", \"Topic4\", \"Topic4\", \"Topic4\", \"Topic4\", \"Topic4\", \"Topic4\", \"Topic4\", \"Topic4\", \"Topic4\", \"Topic4\", \"Topic4\", \"Topic4\", \"Topic4\", \"Topic4\", \"Topic4\", \"Topic4\", \"Topic4\", \"Topic5\", \"Topic5\", \"Topic5\", \"Topic5\", \"Topic5\", \"Topic5\", \"Topic5\", \"Topic5\", \"Topic5\", \"Topic5\", \"Topic5\", \"Topic5\", \"Topic5\", \"Topic5\", \"Topic5\", \"Topic5\", \"Topic5\", \"Topic5\", \"Topic5\", \"Topic5\", \"Topic5\", \"Topic5\", \"Topic5\", \"Topic5\", \"Topic5\", \"Topic5\", \"Topic5\", \"Topic5\", \"Topic5\", \"Topic5\", \"Topic5\", \"Topic5\", \"Topic5\", \"Topic5\", \"Topic5\", \"Topic5\", \"Topic5\", \"Topic5\", \"Topic5\", \"Topic5\", \"Topic5\", \"Topic5\", \"Topic5\", \"Topic5\", \"Topic5\", \"Topic5\", \"Topic5\", \"Topic5\", \"Topic5\", \"Topic5\", \"Topic5\", \"Topic5\", \"Topic5\", \"Topic5\", \"Topic5\", \"Topic5\", \"Topic5\", \"Topic5\", \"Topic5\", \"Topic5\", \"Topic5\", \"Topic5\", \"Topic5\", \"Topic5\", \"Topic5\", \"Topic5\", \"Topic5\", \"Topic5\", \"Topic5\", \"Topic5\", \"Topic5\", \"Topic5\", \"Topic5\", \"Topic5\", \"Topic5\", \"Topic5\", \"Topic5\", \"Topic5\", \"Topic5\", \"Topic5\", \"Topic5\", \"Topic5\", \"Topic5\", \"Topic5\", \"Topic5\", \"Topic5\", \"Topic5\"], \"Freq\": [36952.0, 25114.0, 19966.0, 10669.0, 6084.0, 7457.0, 3638.0, 1791.0, 4588.0, 8103.0, 1938.0, 4985.0, 7175.0, 5676.0, 1891.0, 3276.0, 788.0, 1402.0, 1674.0, 4099.0, 1492.0, 1175.0, 589.0, 1173.0, 911.0, 908.0, 1600.0, 2955.0, 1383.0, 1768.0, 903.7481079101562, 301.68963623046875, 373.7047424316406, 322.67474365234375, 535.4479370117188, 899.2454833984375, 293.8579406738281, 170.70193481445312, 157.50315856933594, 159.12057495117188, 158.98178100585938, 148.322998046875, 132.50665283203125, 235.12838745117188, 84.20480346679688, 124.34249877929688, 58.54730987548828, 223.5938720703125, 124.89325714111328, 123.97644805908203, 51.50558853149414, 83.69842529296875, 319.7363586425781, 91.4393310546875, 103.45892333984375, 119.15605926513672, 94.86014556884766, 1370.042724609375, 42.58254623413086, 54.760902404785156, 231.88287353515625, 244.50999450683594, 316.6950988769531, 197.95542907714844, 3430.031982421875, 269.78192138671875, 175.92189025878906, 893.0532836914062, 1712.8992919921875, 347.3247985839844, 705.907958984375, 403.3106994628906, 421.14654541015625, 1054.118408203125, 463.80218505859375, 628.36474609375, 1274.9552001953125, 7034.498046875, 396.57196044921875, 1046.806396484375, 767.1925659179688, 834.332275390625, 790.2235717773438, 746.91015625, 740.99755859375, 692.13037109375, 8225.650390625, 6749.1552734375, 606.6942138671875, 1010.4981079101562, 1897.635009765625, 1321.3045654296875, 2114.8583984375, 885.2271728515625, 1775.9031982421875, 587.076416015625, 642.7579345703125, 645.67724609375, 707.9044189453125, 920.1282958984375, 789.696044921875, 824.8387451171875, 705.8343505859375, 121.4695053100586, 104.9791259765625, 102.94988250732422, 99.80239868164062, 99.74962615966797, 106.78853607177734, 518.2918701171875, 41.504337310791016, 127.07145690917969, 95.31758117675781, 33.114341735839844, 34.09122085571289, 33.09022903442383, 26.969499588012695, 22.960012435913086, 26.93389320373535, 21.82431411743164, 66.19116973876953, 18.67148780822754, 43.23550796508789, 16.655506134033203, 28.430465698242188, 15.675902366638184, 201.05686950683594, 16.645797729492188, 17.622760772705078, 16.624483108520508, 18.571327209472656, 14.656217575073242, 438.2533874511719, 438.1180725097656, 150.68023681640625, 95.13851165771484, 62.23854064941406, 458.0874938964844, 142.73422241210938, 34.676292419433594, 1351.901611328125, 179.6675262451172, 2557.514892578125, 598.625732421875, 66.09127044677734, 333.4592590332031, 278.63922119140625, 5435.806640625, 173.352783203125, 1161.2003173828125, 116.93191528320312, 198.96853637695312, 10893.7333984375, 221.54031372070312, 1146.9464111328125, 1221.8009033203125, 2798.6796875, 861.401123046875, 10457.373046875, 581.888427734375, 538.5733032226562, 325.53436279296875, 310.1167907714844, 452.92303466796875, 273.9427490234375, 628.8668823242188, 547.3223876953125, 902.0442504882812, 961.9109497070312, 1753.8006591796875, 890.1521606445312, 342.6782531738281, 570.7965698242188, 542.9661865234375, 1225.430908203125, 917.7146606445312, 1081.0274658203125, 1087.2447509765625, 726.3782348632812, 1199.8515625, 627.8134765625, 789.261962890625, 724.9844970703125, 592.6326293945312, 225.99208068847656, 318.74774169921875, 141.34690856933594, 481.2401123046875, 214.31846618652344, 77.213134765625, 89.73663330078125, 98.42571258544922, 118.68022918701172, 78.10331726074219, 225.7479705810547, 68.43318939208984, 72.27748107910156, 130.1140594482422, 116.566650390625, 86.66344451904297, 243.70510864257812, 80.82574462890625, 79.8232650756836, 65.36516571044922, 57.66905212402344, 69.14800262451172, 85.50288391113281, 55.67113494873047, 51.815242767333984, 156.56137084960938, 73.86137390136719, 88.23561096191406, 51.769527435302734, 78.6101303100586, 35282.5078125, 6831.33642578125, 319.3035888671875, 428.4142761230469, 367.9357604980469, 183.90127563476562, 643.2893676757812, 301.57427978515625, 172.6593780517578, 1283.5745849609375, 829.7045288085938, 189.11550903320312, 2271.563720703125, 1822.906982421875, 1814.489990234375, 1680.5238037109375, 393.2406921386719, 3432.044189453125, 268.8482971191406, 1292.223388671875, 1623.1536865234375, 284.3374938964844, 1234.8729248046875, 5749.2890625, 426.8793029785156, 3643.464599609375, 377.3609924316406, 1417.517333984375, 734.8314819335938, 1252.779052734375, 4461.9814453125, 2802.2294921875, 813.6162719726562, 831.112060546875, 1793.5985107421875, 3398.4189453125, 1707.6617431640625, 1051.2794189453125, 4140.9541015625, 1051.019287109375, 1400.89208984375, 1219.252685546875, 2490.954345703125, 1407.193115234375, 1477.98486328125, 983.4547119140625, 1102.2265625, 1126.174560546875, 1517.30712890625, 1143.9771728515625, 1162.1627197265625, 76.7361831665039, 70.47514343261719, 72.02819061279297, 56.97581481933594, 93.629638671875, 46.01335906982422, 105.05952453613281, 35.794166564941406, 136.9691925048828, 36.39739990234375, 30.14453125, 30.9075984954834, 28.535865783691406, 28.53206443786621, 55.44968795776367, 28.520233154296875, 28.517183303833008, 23.88578224182129, 28.474214553833008, 21.522241592407227, 23.82000160217285, 23.809978485107422, 21.43895149230957, 19.8984375, 21.422176361083984, 19.127641677856445, 19.12693977355957, 746.8987426757812, 19.111351013183594, 19.100875854492188, 316.9450378417969, 548.3665771484375, 108.33006286621094, 84.85173034667969, 204.69696044921875, 219.0251922607422, 1559.8870849609375, 48.30134963989258, 220.92469787597656, 57.01664352416992, 54.8095817565918, 64.7670669555664, 91.62789916992188, 88.98564147949219, 149.63580322265625, 33.34370040893555, 55.33760070800781, 1024.6053466796875, 109.99187469482422, 227.09075927734375, 264.5733337402344, 178.30419921875, 127.40869140625, 103.36347961425781, 342.9049072265625, 148.81863403320312, 356.2157287597656, 85.07373046875, 506.69000244140625, 143.70318603515625, 128.9165802001953, 161.00108337402344, 143.1783905029297, 325.3016052246094, 230.1975860595703, 138.6768341064453, 233.14772033691406, 167.3863525390625, 127.359375, 130.84498596191406, 138.9600830078125, 211.87948608398438, 179.70147705078125, 67.67742919921875, 216.0321502685547, 62.021202087402344, 62.015785217285156, 89.87142181396484, 61.96018600463867, 61.935935974121094, 57.43195343017578, 51.05277633666992, 118.1269302368164, 69.72799682617188, 377.90277099609375, 49.994239807128906, 39.25414276123047, 47.28085708618164, 39.24517822265625, 44.59109878540039, 38.33378219604492, 38.32619857788086, 38.319637298583984, 45.430789947509766, 35.58676528930664, 39.15040969848633, 81.7940902709961, 33.73198699951172, 38.144325256347656, 37.257816314697266, 34.58259201049805, 305.9271545410156, 210.6956329345703, 203.2171173095703, 62.863338470458984, 55.85311508178711, 267.75872802734375, 263.32171630859375, 74.1986312866211, 69.8623046875, 414.54827880859375, 290.98638916015625, 516.2030639648438, 131.58543395996094, 716.1198120117188, 77.20795440673828, 320.1936340332031, 4656.23046875, 3388.3173828125, 157.90431213378906, 645.2705688476562, 94.57444763183594, 427.33575439453125, 337.1519470214844, 187.3204803466797, 294.8997497558594, 513.9989624023438, 584.4385375976562, 301.4098205566406, 157.52285766601562, 4007.076416015625, 726.948486328125, 388.45831298828125, 324.917724609375, 420.0123291015625, 371.4988708496094, 457.9156188964844, 1606.2547607421875, 5199.59228515625, 676.5764770507812, 635.8657836914062, 2060.1083984375, 606.6483764648438, 1487.790771484375, 706.2537841796875, 1159.1513671875, 570.8536987304688, 430.2952880859375, 882.8353271484375, 674.7963256835938, 1290.852294921875, 500.9624328613281, 721.064697265625, 565.7059326171875, 533.3329467773438, 490.94866943359375, 522.162353515625, 481.6729736328125], \"Term\": [\"tobacco\", \"cannabis\", \"marijuana\", \"weed\", \"cbd\", \"vape\", \"stone\", \"music\", \"hemp\", \"via\", \"dope\", \"pot\", \"cigarette\", \"new\", \"stoner\", \"medical\", \"hiphop\", \"stonerfam\", \"check\", \"get\", \"legalizeit\", \"love\", \"rap\", \"bong\", \"stonercircle\", \"staylifted\", \"legalization\", \"high\", \"online\", \"pipe\", \"stonercircle\", \"detoxify\", \"staystoney\", \"bestinhouston\", \"worldreefers\", \"staylifted\", \"rawpapers\", \"westheimerhouston\", \"nofilterneeded\", \"ppp\", \"muchlove\", \"smokesesh\", \"cannaculture\", \"firefly\", \"westheimer\", \"sourbros\", \"boycottyoutube\", \"highhempwraps\", \"ans\", \"shmopli\", \"nofilterneede\", \"readwhenstoned\", \"leafbuyer\", \"stayhigh\", \"stoney\", \"cbdisola\", \"blazeit\", \"stonerfam\", \"flowering\", \"cbdisolat\", \"iamcannabis\", \"nofilter\", \"gravlabs\", \"gpen\", \"stone\", \"naked\", \"cbdhemp\", \"ganja\", \"stoner\", \"pax\", \"maryjane\", \"weedstagram\", \"tattoo\", \"bong\", \"highlife\", \"pouch\", \"legalizeit\", \"weed\", \"pad\", \"online\", \"things\", \"code\", \"coupon\", \"cannabiscommunity\", \"relate\", \"bud\", \"cannabis\", \"marijuana\", \"dank\", \"pipe\", \"pot\", \"high\", \"vape\", \"find\", \"smoke\", \"joint\", \"dab\", \"mmj\", \"dope\", \"via\", \"get\", \"cbd\", \"us\", \"foodgrade\", \"cannabisruderalis\", \"cannabissatival\", \"kanehbos\", \"kanehbosm\", \"cannabisindica\", \"drugpolicy\", \"marcquiblvck\", \"cannabissativa\", \"onlyillness\", \"ozonated\", \"alkaline\", \"herbalpaste\", \"ancd\", \"syntheticcannabinoids\", \"kanabos\", \"kilmer\", \"wdrp\", \"anion\", \"hempbeer\", \"loveones\", \"mjotcs\", \"kingblvck\", \"synthetic\", \"pesticidefree\", \"ccic\", \"nonmedicinal\", \"roadside\", \"atdctas\", \"norcal\", \"advocacy\", \"therapeutic\", \"twin\", \"sipc\", \"medicinal\", \"wildfire\", \"juicing\", \"legalization\", \"cannabinoid\", \"medical\", \"recreational\", \"impair\", \"mme\", \"arrest\", \"via\", \"acmpr\", \"legalize\", \"prescribe\", \"epilepsy\", \"marijuana\", \"cannabisact\", \"drug\", \"legal\", \"pot\", \"canada\", \"cannabis\", \"colorado\", \"story\", \"canadian\", \"police\", \"patient\", \"prohibition\", \"california\", \"bill\", \"state\", \"say\", \"use\", \"study\", \"federal\", \"could\", \"research\", \"new\", \"health\", \"vaping\", \"weed\", \"hemp\", \"tobacco\", \"industry\", \"smoke\", \"smoking\", \"juul\", \"cstore\", \"ncds\", \"wctoh\", \"tobaccocontrol\", \"tobaccofree\", \"sgr\", \"nonspecialised\", \"cuban\", \"predispose\", \"gcph\", \"fctc\", \"predominate\", \"bechamp\", \"keepsmokingweneedthemoney\", \"kenya\", \"downplay\", \"notobacco\", \"pictorial\", \"ftfy\", \"pmi\", \"cohiba\", \"matchbook\", \"abolishtc\", \"corrective\", \"churchill\", \"plainpacks\", \"quack\", \"thr\", \"pipesandcigars\", \"tobaccoharmreduction\", \"tobacco\", \"cigarette\", \"parasite\", \"snus\", \"cessation\", \"racket\", \"smokeless\", \"smokefree\", \"consensus\", \"cigar\", \"harmless\", \"iqos\", \"ecigs\", \"control\", \"nicotine\", \"quit\", \"bigtobacco\", \"tax\", \"morris\", \"youth\", \"smoker\", \"vintage\", \"publichealth\", \"smoking\", \"con\", \"product\", \"poor\", \"fda\", \"harm\", \"ban\", \"vaping\", \"health\", \"protect\", \"cause\", \"big\", \"use\", \"industry\", \"risk\", \"smoke\", \"kid\", \"people\", \"company\", \"new\", \"http\", \"juul\", \"cancer\", \"study\", \"like\", \"via\", \"us\", \"vape\", \"soundcloudrapper\", \"djlos\", \"checkitout\", \"rapmusic\", \"goodmusic\", \"skillit\", \"hiphopmusic\", \"beatmaker\", \"newmusic\", \"trapmusic\", \"newsong\", \"instrumentals\", \"olgaroderick\", \"lovelife\", \"wshh\", \"onewithspirit\", \"homervillehound\", \"newartist\", \"behealthy\", \"toptier\", \"allblackeverything\", \"turnup\", \"mangostrain\", \"femalerapper\", \"poquitomas\", \"femaleproducer\", \"flstudio\", \"hiphop\", \"intellectmusic\", \"saywhatsaywhat\", \"soundcloud\", \"rap\", \"mixtape\", \"rnb\", \"beats\", \"rapper\", \"music\", \"freestyle\", \"trap\", \"nite\", \"streamer\", \"nowplaying\", \"dj\", \"np\", \"song\", \"mymixtapez\", \"spotify\", \"dope\", \"twitch\", \"producer\", \"listen\", \"artist\", \"papers\", \"beat\", \"love\", \"rolling\", \"check\", \"prod\", \"new\", \"hear\", \"art\", \"video\", \"follow\", \"cannabis\", \"weed\", \"buy\", \"marijuana\", \"get\", \"thc\", \"like\", \"smoke\", \"spoonie\", \"contactst\", \"mellowmonkey\", \"promocode\", \"onlinepharmacy\", \"mastercard\", \"vapesomeweed\", \"amex\", \"onlinegaming\", \"vaoe\", \"lungfunctions\", \"holistic\", \"cannabisdelivery\", \"weeddelivery\", \"salve\", \"petsupplies\", \"nasadol\", \"veterinarymedicine\", \"hempzilla\", \"familyoffice\", \"investee\", \"greenstardistro\", \"glasscollector\", \"cybermonday\", \"sfbay\", \"newproduct\", \"cannatech\", \"nugrun\", \"glassgallery\", \"telegraphave\", \"\\u05d3\\u05e8\\u05da\", \"waxerz\", \"gummies\", \"creditcard\", \"glassforsale\", \"berkeley\", \"greenrush\", \"glassporn\", \"goody\", \"email\", \"vegan\", \"hempoil\", \"cbdflowers\", \"smokeshop\", \"legged\", \"delicious\", \"cbd\", \"hemp\", \"bulk\", \"natural\", \"caramel\", \"deliver\", \"vapeshop\", \"vapepen\", \"finance\", \"quality\", \"vaporizer\", \"pen\", \"custom\", \"vape\", \"cbdoil\", \"favorite\", \"medicalcannabis\", \"vapelife\", \"dog\", \"ejuice\", \"get\", \"cannabis\", \"ecig\", \"dab\", \"weed\", \"try\", \"smoke\", \"help\", \"vaping\", \"flavor\", \"edible\", \"new\", \"high\", \"marijuana\", \"business\", \"product\", \"need\", \"one\", \"thc\", \"juul\", \"want\"], \"Total\": [36952.0, 25114.0, 19966.0, 10669.0, 6084.0, 7457.0, 3638.0, 1791.0, 4588.0, 8103.0, 1938.0, 4985.0, 7175.0, 5676.0, 1891.0, 3276.0, 788.0, 1402.0, 1674.0, 4099.0, 1492.0, 1175.0, 589.0, 1173.0, 911.0, 908.0, 1600.0, 2955.0, 1383.0, 1768.0, 911.4649047851562, 304.2796630859375, 377.0914306640625, 325.6335754394531, 540.6210327148438, 908.921630859375, 297.1062316894531, 172.62387084960938, 159.28082275390625, 160.98611450195312, 160.96998596191406, 150.30203247070312, 134.29579162597656, 238.474365234375, 85.43658447265625, 126.41263580322266, 59.61237716674805, 227.83758544921875, 127.32765197753906, 126.41680145263672, 52.52421569824219, 85.4752197265625, 326.8023681640625, 93.46835327148438, 105.78617095947266, 121.88663482666016, 97.06852722167969, 1402.3790283203125, 43.61197280883789, 56.10403060913086, 237.61782836914062, 251.30880737304688, 327.650634765625, 203.87646484375, 3638.8486328125, 280.8901062011719, 181.6313934326172, 964.01708984375, 1891.7674560546875, 366.46820068359375, 763.5020751953125, 428.7713623046875, 449.130859375, 1173.810302734375, 501.7893981933594, 697.5847778320312, 1492.090576171875, 10669.2294921875, 448.6600646972656, 1383.0142822265625, 981.8510131835938, 1094.3310546875, 1032.179931640625, 968.3555908203125, 1006.481201171875, 940.0460815429688, 25114.9921875, 19966.876953125, 821.4973754882812, 1768.821533203125, 4985.8935546875, 2955.912353515625, 7457.650390625, 2013.863525390625, 8332.8701171875, 1053.0576171875, 1353.9215087890625, 1379.57421875, 1938.3900146484375, 8103.39208984375, 4099.5712890625, 6084.35888671875, 2700.623046875, 123.93064880371094, 107.23957824707031, 105.1725082397461, 102.01668548583984, 102.00855255126953, 109.29583740234375, 531.6754150390625, 42.64830017089844, 131.00196838378906, 98.55155181884766, 34.28622817993164, 35.317665100097656, 34.28502655029297, 28.05764389038086, 23.887441635131836, 28.02752113342285, 22.83846092224121, 69.51754760742188, 19.681873321533203, 45.61888122558594, 17.605518341064453, 30.053499221801758, 16.571229934692383, 212.59088134765625, 17.603727340698242, 18.643360137939453, 17.598920822143555, 19.6789493560791, 15.536706924438477, 466.2080383300781, 481.11724853515625, 163.7033233642578, 103.43414306640625, 67.1972427368164, 516.4287109375, 157.15792846679688, 37.18350601196289, 1600.385986328125, 201.5370635986328, 3276.466796875, 723.2601318359375, 72.50788879394531, 403.5961608886719, 335.7054138183594, 8103.39208984375, 203.4127655029297, 1592.0172119140625, 133.83023071289062, 240.3024444580078, 19966.876953125, 271.6640930175781, 1738.41845703125, 1915.5003662109375, 4985.8935546875, 1311.7352294921875, 25114.9921875, 863.7465209960938, 808.712646484375, 457.4642333984375, 432.03851318359375, 708.412841796875, 371.7593688964844, 1133.20654296875, 943.6995239257812, 1880.6661376953125, 2154.118408203125, 5641.17578125, 2125.875244140625, 519.5255737304688, 1285.5244140625, 1192.472900390625, 5676.6982421875, 4058.828369140625, 6852.76123046875, 10669.2294921875, 4588.244140625, 36952.578125, 2565.61669921875, 8332.8701171875, 7330.33447265625, 2828.7275390625, 227.98875427246094, 321.9655456542969, 142.83250427246094, 486.3027038574219, 217.14706420898438, 78.25032806396484, 90.94503784179688, 99.77085876464844, 120.30278015136719, 79.21500396728516, 228.96839904785156, 69.42979431152344, 73.3505859375, 132.05555725097656, 118.36600494384766, 88.00760650634766, 247.4988250732422, 82.16983795166016, 81.16500854492188, 66.50125122070312, 58.671485900878906, 70.4018325805664, 87.06123352050781, 56.70085906982422, 52.79221725463867, 159.58523559570312, 75.29275512695312, 89.9588851928711, 52.797813415527344, 80.20783996582031, 36952.578125, 7175.9375, 326.0016784667969, 439.1548156738281, 376.9397277832031, 187.94253540039062, 666.3084716796875, 310.20428466796875, 177.21560668945312, 1361.96484375, 876.838623046875, 195.69459533691406, 2490.95068359375, 1987.9169921875, 1986.55810546875, 1841.67626953125, 414.7693176269531, 3885.181640625, 283.31280517578125, 1463.5177001953125, 1866.8056640625, 300.5828857421875, 1412.1668701171875, 7330.33447265625, 462.08843994140625, 4722.91015625, 412.1175842285156, 1778.267578125, 862.2019653320312, 1603.5299072265625, 6852.76123046875, 4058.828369140625, 986.8259887695312, 1026.156005859375, 2531.3896484375, 5641.17578125, 2565.61669921875, 1416.4371337890625, 8332.8701171875, 1441.9295654296875, 2138.681884765625, 1826.1705322265625, 5676.6982421875, 2539.806396484375, 2828.7275390625, 1403.0189208984375, 2125.875244140625, 2303.12548828125, 8103.39208984375, 2700.623046875, 7457.650390625, 78.78046417236328, 72.35665893554688, 73.96765899658203, 58.72682189941406, 96.53221130371094, 47.46991729736328, 108.58807373046875, 37.01979446411133, 142.39312744140625, 37.85958480834961, 31.427583694458008, 32.246070861816406, 29.822389602661133, 29.828149795532227, 57.995140075683594, 29.8317813873291, 29.8303165435791, 24.995887756347656, 29.83892250061035, 22.588459014892578, 25.006423950195312, 25.014982223510742, 22.594654083251953, 20.991188049316406, 22.600618362426758, 20.18459701538086, 20.18509292602539, 788.5670776367188, 20.188901901245117, 20.190637588500977, 335.4671630859375, 589.2213134765625, 115.50862884521484, 90.46460723876953, 220.21315002441406, 239.96054077148438, 1791.0897216796875, 51.7022590637207, 252.3346405029297, 61.57291030883789, 59.82870101928711, 71.42725372314453, 105.89427185058594, 106.51287078857422, 191.3587188720703, 35.51982116699219, 63.547264099121094, 1938.3900146484375, 143.6143798828125, 340.5691833496094, 428.3366394042969, 312.9329528808594, 233.51470947265625, 170.40037536621094, 1175.100341796875, 320.9021911621094, 1674.1446533203125, 127.03564453125, 5676.6982421875, 441.50604248046875, 425.45025634765625, 1095.5628662109375, 745.7791137695312, 25114.9921875, 10669.2294921875, 1054.1943359375, 19966.876953125, 4099.5712890625, 1541.916015625, 2303.12548828125, 8332.8701171875, 214.0518035888672, 182.0263214111328, 68.6284408569336, 219.59527587890625, 63.120033264160156, 63.118896484375, 91.47669219970703, 63.11808395385742, 63.11777877807617, 58.54591369628906, 52.15092086791992, 120.80794525146484, 71.38265991210938, 386.91241455078125, 51.236019134521484, 40.25330352783203, 48.48681640625, 40.2540283203125, 45.74679946899414, 39.33842849731445, 39.338905334472656, 39.347869873046875, 46.67253875732422, 36.595542907714844, 40.2618522644043, 84.22230529785156, 34.775150299072266, 39.3498420715332, 38.440425872802734, 35.69542694091797, 316.077880859375, 218.81356811523438, 211.52642822265625, 64.92357635498047, 57.65555953979492, 282.7951965332031, 278.3221740722656, 76.84627532958984, 72.32766723632812, 449.1620178222656, 312.6850280761719, 568.4182739257812, 139.21144104003906, 807.5266723632812, 80.62710571289062, 357.79913330078125, 6084.35888671875, 4588.244140625, 173.64620971679688, 800.7255249023438, 100.51753234863281, 519.857666015625, 401.5142822265625, 212.22154235839844, 350.1867370605469, 658.1355590820312, 777.84912109375, 369.93988037109375, 179.81089782714844, 7457.650390625, 1065.4144287109375, 514.127197265625, 422.3238830566406, 587.0670776367188, 504.34649658203125, 658.977294921875, 4099.5712890625, 25114.9921875, 1359.32421875, 1353.9215087890625, 10669.2294921875, 1356.9571533203125, 8332.8701171875, 2280.220947265625, 6852.76123046875, 1621.00537109375, 837.899658203125, 5676.6982421875, 2955.912353515625, 19966.876953125, 1339.76416015625, 4722.91015625, 2290.082763671875, 2054.330322265625, 1541.916015625, 2828.7275390625, 1687.3603515625], \"loglift\": [30.0, 29.0, 28.0, 27.0, 26.0, 25.0, 24.0, 23.0, 22.0, 21.0, 20.0, 19.0, 18.0, 17.0, 16.0, 15.0, 14.0, 13.0, 12.0, 11.0, 10.0, 9.0, 8.0, 7.0, 6.0, 5.0, 4.0, 3.0, 2.0, 1.0, 1.8033000230789185, 1.8033000230789185, 1.8028000593185425, 1.8027000427246094, 1.8021999597549438, 1.8011000156402588, 1.8007999658584595, 1.8006000518798828, 1.8006000518798828, 1.8001999855041504, 1.799399971961975, 1.7985999584197998, 1.7984000444412231, 1.797700047492981, 1.7972999811172485, 1.795300006866455, 1.7937999963760376, 1.7929999828338623, 1.7925000190734863, 1.7922999858856201, 1.7922999858856201, 1.7907999753952026, 1.7899999618530273, 1.7898999452590942, 1.7896000146865845, 1.789199948310852, 1.7888000011444092, 1.7884999513626099, 1.7878999710083008, 1.787600040435791, 1.7874000072479248, 1.7843999862670898, 1.7777999639511108, 1.7824000120162964, 1.7526999711990356, 1.7714999914169312, 1.7798999547958374, 1.7353999614715576, 1.712499976158142, 1.7582000494003296, 1.7333999872207642, 1.750599980354309, 1.747499942779541, 1.704300045967102, 1.7331000566482544, 1.7072999477386475, 1.6546000242233276, 1.395300030708313, 1.6884000301361084, 1.5333000421524048, 1.5650999546051025, 1.5405999422073364, 1.544700026512146, 1.5521999597549438, 1.5055999755859375, 1.5056999921798706, 0.6955999732017517, 0.7271999716758728, 1.5087000131607056, 1.2519999742507935, 0.84579998254776, 1.006600022315979, 0.5515999794006348, 0.9898999929428101, 0.26589998602867126, 1.2274999618530273, 1.0667999982833862, 1.0526000261306763, 0.8044999837875366, -0.3637000024318695, 0.1648000031709671, -0.18649999797344208, 0.4699999988079071, 1.5216000080108643, 1.520400047302246, 1.520300030708313, 1.519700050354004, 1.5192999839782715, 1.5184999704360962, 1.5161999464035034, 1.5145000219345093, 1.511199951171875, 1.5082999467849731, 1.5068999528884888, 1.5062999725341797, 1.5061999559402466, 1.5020999908447266, 1.5020999908447266, 1.5018999576568604, 1.4962999820709229, 1.4925999641418457, 1.4889999628067017, 1.4880000352859497, 1.486199975013733, 1.486199975013733, 1.4860999584197998, 1.4859000444412231, 1.485700011253357, 1.4853999614715576, 1.4846999645233154, 1.4837000370025635, 1.483299970626831, 1.4797999858856201, 1.448099970817566, 1.458799958229065, 1.4580999612808228, 1.465000033378601, 1.4218000173568726, 1.4453999996185303, 1.4718999862670898, 1.3729000091552734, 1.426800012588501, 1.2939000129699707, 1.3524999618530273, 1.4490000009536743, 1.3508000373840332, 1.3553999662399292, 1.1424000263214111, 1.3818000555038452, 1.226099967956543, 1.4067000150680542, 1.3529000282287598, 0.9358000159263611, 1.3377000093460083, 1.1258000135421753, 1.0920000076293945, 0.9642000198364258, 1.1210999488830566, 0.6654999852180481, 1.1467000246047974, 1.135200023651123, 1.2014000415802002, 1.2101000547409058, 1.0944000482559204, 1.236299991607666, 0.9527999758720398, 0.9969000220298767, 0.8069999814033508, 0.7354999780654907, 0.3734000027179718, 0.6711000204086304, 1.125599980354309, 0.7297999858856201, 0.7548999786376953, 0.00860000029206276, 0.05490000173449516, -0.3050999939441681, -0.7419999837875366, -0.30149999260902405, -1.8858000040054321, 0.1340000033378601, -0.8151999711990356, -0.7718999981880188, -0.021299999207258224, 0.8497999906539917, 0.8485999703407288, 0.8481000065803528, 0.8481000065803528, 0.8454999923706055, 0.845300018787384, 0.8452000021934509, 0.8450000286102295, 0.8450000286102295, 0.8445000052452087, 0.8443999886512756, 0.8440999984741211, 0.8439000248908997, 0.8438000082969666, 0.8432999849319458, 0.8432000279426575, 0.8432000279426575, 0.8421000242233276, 0.8418999910354614, 0.8414000272750854, 0.8414000272750854, 0.8406000137329102, 0.840499997138977, 0.8403000235557556, 0.839900016784668, 0.8395000100135803, 0.8393999934196472, 0.8392999768257141, 0.8389000296592712, 0.8385000228881836, 0.8123999834060669, 0.8094000220298767, 0.8378000259399414, 0.8338000178337097, 0.8343999981880188, 0.836899995803833, 0.8234000205993652, 0.8303999900817871, 0.8325999975204468, 0.7993000149726868, 0.8033000230789185, 0.824400007724762, 0.7663999795913696, 0.7718999981880188, 0.7680000066757202, 0.7670000195503235, 0.8052999973297119, 0.7346000075340271, 0.8062000274658203, 0.7340999841690063, 0.7186999917030334, 0.8029999732971191, 0.724399983882904, 0.6157000064849854, 0.7792999744415283, 0.5990999937057495, 0.7705000042915344, 0.6319000124931335, 0.6988000273704529, 0.6118000149726868, 0.429500013589859, 0.48809999227523804, 0.6656000018119812, 0.6478000283241272, 0.5141000151634216, 0.35179999470710754, 0.4514999985694885, 0.5605000257492065, 0.15929999947547913, 0.5424000024795532, 0.43549999594688416, 0.4546000063419342, 0.0348999984562397, 0.26809999346733093, 0.2094999998807907, 0.5033000111579895, 0.20180000364780426, 0.14319999516010284, -0.8166999816894531, -0.00039999998989515007, -1.0003999471664429, 3.1034998893737793, 3.1033999919891357, 3.1031999588012695, 3.0994999408721924, 3.0992000102996826, 3.098599910736084, 3.0966999530792236, 3.096100091934204, 3.09089994430542, 3.090399980545044, 3.088099956512451, 3.087399959564209, 3.085700035095215, 3.0852999687194824, 3.08489990234375, 3.0848000049591064, 3.084700107574463, 3.0843000411987305, 3.082900047302246, 3.081399917602539, 3.0810999870300293, 3.080399990081787, 3.077199935913086, 3.0762999057769775, 3.076200008392334, 3.0759999752044678, 3.075900077819824, 3.075500011444092, 3.074899911880493, 3.0743000507354736, 3.072999954223633, 3.0578999519348145, 3.0655999183654785, 3.065700054168701, 3.0566999912261963, 3.0385000705718994, 2.991499900817871, 3.0617001056671143, 2.996799945831299, 3.0529000759124756, 3.042099952697754, 3.031899929046631, 2.984999895095825, 2.950000047683716, 2.8838000297546387, 3.066499948501587, 2.9914000034332275, 2.4921998977661133, 2.86299991607666, 2.7244999408721924, 2.6480000019073486, 2.5673000812530518, 2.523900032043457, 2.6298999786376953, 1.8981000185012817, 2.361299991607666, 1.582200050354004, 2.728800058364868, 0.7135000228881836, 2.0072999000549316, 1.9357999563217163, 1.2121000289916992, 1.4794000387191772, -1.2166999578475952, -0.7063999772071838, 1.1014000177383423, -1.3203999996185303, -0.06859999895095825, 0.6359999775886536, 0.26170000433921814, -0.9639999866485596, 1.8531999588012695, 1.850600004196167, 1.8494999408721924, 1.847100019454956, 1.845900058746338, 1.8458000421524048, 1.8457000255584717, 1.8449000120162964, 1.844499945640564, 1.8442000150680542, 1.8421000242233276, 1.840999960899353, 1.840000033378601, 1.839900016784668, 1.8388999700546265, 1.8382999897003174, 1.8381999731063843, 1.8380000591278076, 1.8378000259399414, 1.837499976158142, 1.8372999429702759, 1.836899995803833, 1.836400032043457, 1.8355000019073486, 1.8353999853134155, 1.8342000246047974, 1.8329999446868896, 1.8322999477386475, 1.832200050354004, 1.8316999673843384, 1.8308000564575195, 1.825600028038025, 1.8233000040054321, 1.8312000036239624, 1.8316999673843384, 1.8087999820709229, 1.8079999685287476, 1.8284000158309937, 1.8286999464035034, 1.7832000255584717, 1.7914999723434448, 1.7670999765396118, 1.8071000576019287, 1.743299961090088, 1.820099949836731, 1.7524000406265259, 1.595900058746338, 1.5602999925613403, 1.768399953842163, 1.6476000547409058, 1.8025000095367432, 1.6674000024795532, 1.6886999607086182, 1.7386000156402588, 1.69159996509552, 1.6161999702453613, 1.5774999856948853, 1.6584999561309814, 1.7310999631881714, 1.2422000169754028, 1.4811999797821045, 1.5830999612808228, 1.601199984550476, 1.5285999774932861, 1.5577000379562378, 1.499400019645691, 0.9264000058174133, 0.28850001096725464, 1.1656999588012695, 1.1075999736785889, 0.21879999339580536, 1.05840003490448, 0.1404999941587448, 0.6913999915122986, 0.08649999648332596, 0.8197000026702881, 1.1970000267028809, 0.002400000113993883, 0.3862999975681305, -0.8754000067710876, 0.8797000050544739, -0.01600000075995922, 0.4650999903678894, 0.5149000287055969, 0.718999981880188, 0.1738000065088272, 0.6097999811172485], \"logprob\": [30.0, 29.0, 28.0, 27.0, 26.0, 25.0, 24.0, 23.0, 22.0, 21.0, 20.0, 19.0, 18.0, 17.0, 16.0, 15.0, 14.0, 13.0, 12.0, 11.0, 10.0, 9.0, 8.0, 7.0, 6.0, 5.0, 4.0, 3.0, 2.0, 1.0, -5.2322001457214355, -6.3292999267578125, -6.115300178527832, -6.2621002197265625, -5.7555999755859375, -5.237199783325195, -6.355599880218506, -6.898799896240234, -6.979300022125244, -6.969099998474121, -6.969900131225586, -7.039299964904785, -7.152100086212158, -6.57859992980957, -7.605500221252441, -7.215700149536133, -7.968900203704834, -6.628900051116943, -7.211299896240234, -7.218599796295166, -8.097000122070312, -7.611499786376953, -6.271200180053711, -7.523099899291992, -7.399600028991699, -7.258299827575684, -7.486299991607666, -4.816100120544434, -8.287300109863281, -8.035799980163574, -6.59250020980835, -6.5395002365112305, -6.280799865722656, -6.750699996948242, -3.898400068283081, -6.441100120544434, -6.86870002746582, -5.244100093841553, -4.592800140380859, -6.188499927520752, -5.479300022125244, -6.039000034332275, -5.995800018310547, -5.0782999992370605, -5.8993000984191895, -5.595600128173828, -4.8881001472473145, -3.1802000999450684, -6.0559000968933105, -5.08519983291626, -5.395999908447266, -5.312099933624268, -5.366399765014648, -5.422800064086914, -5.430699825286865, -5.499000072479248, -3.023699998855591, -3.22160005569458, -5.63070011138916, -5.120500087738037, -4.4903998374938965, -4.852399826049805, -4.381999969482422, -5.252900123596191, -4.556700229644775, -5.663599967956543, -5.572999954223633, -5.568399906158447, -5.476399898529053, -5.214200019836426, -5.367099761962891, -5.323500156402588, -5.479400157928467, -7.509200096130371, -7.655099868774414, -7.674699783325195, -7.705699920654297, -7.706200122833252, -7.638000011444092, -6.0584001541137695, -8.583100318908691, -7.464099884033203, -7.751699924468994, -8.808899879455566, -8.779899597167969, -8.809700012207031, -9.014200210571289, -9.175100326538086, -9.01550006866455, -9.225899696350098, -8.116299629211426, -9.3818998336792, -8.542200088500977, -9.496199607849121, -8.961400032043457, -9.55679988861084, -7.005300045013428, -9.496700286865234, -9.43970012664795, -9.498000144958496, -9.387299537658691, -9.62399959564209, -6.226099967956543, -6.226399898529053, -7.293700218200684, -7.753600120544434, -8.177900314331055, -6.18179988861084, -7.347899913787842, -8.762800216674805, -5.099599838256836, -7.117800235748291, -4.462100028991699, -5.914299964904785, -8.117899894714355, -6.4994001388549805, -6.678999900817871, -3.7081000804901123, -7.153600215911865, -5.251699924468994, -7.547299861907959, -7.015699863433838, -3.013000011444092, -6.908299922943115, -5.263999938964844, -5.200799942016602, -4.372000217437744, -5.550300121307373, -3.053800106048584, -5.942599773406982, -6.019999980926514, -6.523399829864502, -6.571899890899658, -6.19320011138916, -6.696000099182129, -5.864999771118164, -6.003900051116943, -5.504199981689453, -5.440000057220459, -4.839399814605713, -5.517499923706055, -6.472099781036377, -5.961900234222412, -6.0117998123168945, -5.197800159454346, -5.486999988555908, -5.323200225830078, -5.317500114440918, -5.720799922943115, -5.218900203704834, -5.866700172424316, -5.637800216674805, -5.722700119018555, -5.924300193786621, -7.571499824523926, -7.22760009765625, -8.040800094604492, -6.8155999183654785, -7.624499797821045, -8.645400047302246, -8.495100021362305, -8.402700424194336, -8.215499877929688, -8.633899688720703, -7.5725998878479, -8.76609992980957, -8.71150016784668, -8.123600006103516, -8.233499526977539, -8.529899597167969, -7.495999813079834, -8.599699974060059, -8.612199783325195, -8.812000274658203, -8.937199592590332, -8.75570011138916, -8.543399810791016, -8.97249984741211, -9.044300079345703, -7.938499927520752, -8.689800262451172, -8.51200008392334, -9.04520034790039, -8.6274995803833, -2.5208001136779785, -4.162700176239014, -7.225800037384033, -6.9319000244140625, -7.084099769592285, -7.777599811553955, -6.525400161743164, -7.2829999923706055, -7.84060001373291, -5.83459997177124, -6.270899772644043, -7.749599933624268, -5.263700008392334, -5.483799934387207, -5.488399982452393, -5.565100193023682, -7.017499923706055, -4.851099967956543, -7.397799968719482, -5.8277997970581055, -5.599800109863281, -7.341800212860107, -5.873199939727783, -4.335100173950195, -6.935500144958496, -4.791299819946289, -7.058800220489502, -5.735300064086914, -6.392300128936768, -5.858799934387207, -4.588600158691406, -5.053800106048584, -6.290500164031982, -6.269199848175049, -5.5, -4.860899925231934, -5.549099922180176, -6.034200191497803, -4.663300037384033, -6.0345001220703125, -5.747099876403809, -5.886000156402588, -5.171500205993652, -5.742599964141846, -5.69350004196167, -6.100900173187256, -5.9868998527526855, -5.965400218963623, -5.667300224304199, -5.949699878692627, -5.933899879455566, -6.38040018081665, -6.46560001373291, -6.44379997253418, -6.678199768066406, -6.18149995803833, -6.891900062561035, -6.066299915313721, -7.14300012588501, -5.80109977722168, -7.126299858093262, -7.314799785614014, -7.28980016708374, -7.369699954986572, -7.369800090789795, -6.7052998542785645, -7.370200157165527, -7.370299816131592, -7.547500133514404, -7.371799945831299, -7.651700019836426, -7.550300121307373, -7.5507001876831055, -7.655600070953369, -7.730199813842773, -7.656400203704834, -7.769700050354004, -7.769700050354004, -4.104899883270264, -7.770500183105469, -7.771100044250488, -4.962100028991699, -4.413899898529053, -6.035600185394287, -6.279900074005127, -5.3993000984191895, -5.331600189208984, -3.368499994277954, -6.843400001525879, -5.322999954223633, -6.677499771118164, -6.7170000076293945, -6.550000190734863, -6.203100204467773, -6.2322998046875, -5.712600231170654, -7.214000225067139, -6.707399845123291, -3.788800001144409, -6.020400047302246, -5.295499801635742, -5.1427001953125, -5.537300109863281, -5.8734002113342285, -6.082600116729736, -4.883399963378906, -5.718100070953369, -4.845300197601318, -6.277299880981445, -4.4928998947143555, -5.7530999183654785, -5.861700057983398, -5.639400005340576, -5.756700038909912, -4.936100006103516, -5.281899929046631, -5.788700103759766, -5.269100189208984, -5.600500106811523, -5.873799800872803, -5.846799850463867, -5.786600112915039, -6.631100177764893, -6.795899868011475, -7.77239990234375, -6.611700057983398, -7.8597002029418945, -7.859799861907959, -7.488800048828125, -7.8607001304626465, -7.861100196838379, -7.936600208282471, -8.054300308227539, -7.215400218963623, -7.742599964141846, -6.052499771118164, -8.075200080871582, -8.317099571228027, -8.131099700927734, -8.317299842834473, -8.189599990844727, -8.340800285339355, -8.340999603271484, -8.34119987487793, -8.170999526977539, -8.415200233459473, -8.319700241088867, -7.583000183105469, -8.468700408935547, -8.345800399780273, -8.36929988861084, -8.44379997253418, -6.263800144195557, -6.63670015335083, -6.672900199890137, -7.846199989318848, -7.964399814605713, -6.39709997177124, -6.41379976272583, -7.6803998947143555, -7.740600109100342, -5.960000038146973, -6.313899993896484, -5.740699768066406, -7.107500076293945, -5.413300037384033, -7.640699863433838, -6.218200206756592, -3.5411999225616455, -3.859100103378296, -6.92519998550415, -5.517499923706055, -7.43779993057251, -5.929599761962891, -6.166600227355957, -6.754300117492676, -6.30049991607666, -5.744900226593018, -5.616499900817871, -6.27869987487793, -6.927599906921387, -3.6912999153137207, -5.3983001708984375, -6.025000095367432, -6.20359992980957, -5.946899890899658, -6.0696001052856445, -5.860499858856201, -4.605500221252441, -3.430799961090088, -5.470099925994873, -5.532199859619141, -4.356599807739258, -5.57919979095459, -4.68209981918335, -5.427199840545654, -4.931700229644775, -5.639999866485596, -5.922699928283691, -5.203999996185303, -5.472700119018555, -4.824100017547607, -5.770599842071533, -5.406400203704834, -5.649099826812744, -5.708000183105469, -5.790800094604492, -5.7291998863220215, -5.809899806976318]}, \"token.table\": {\"Topic\": [2, 3, 1, 2, 3, 4, 5, 1, 2, 3, 5, 2, 4, 1, 5, 2, 2, 1, 2, 3, 1, 2, 3, 4, 5, 1, 2, 3, 4, 5, 1, 2, 3, 4, 5, 2, 1, 2, 3, 4, 5, 1, 2, 3, 4, 5, 4, 1, 2, 3, 4, 5, 3, 4, 1, 2, 3, 4, 5, 1, 3, 5, 1, 2, 3, 4, 5, 1, 2, 3, 4, 5, 1, 2, 3, 4, 5, 1, 3, 5, 1, 2, 3, 4, 5, 1, 1, 2, 3, 4, 5, 1, 2, 3, 5, 1, 2, 3, 4, 5, 1, 2, 3, 4, 5, 1, 2, 3, 4, 5, 1, 2, 3, 4, 5, 1, 2, 3, 4, 5, 1, 2, 3, 4, 5, 1, 2, 3, 4, 5, 1, 2, 3, 4, 5, 1, 2, 3, 5, 1, 2, 3, 4, 5, 3, 5, 1, 2, 3, 4, 1, 2, 4, 1, 2, 3, 4, 5, 1, 2, 3, 4, 1, 4, 5, 5, 1, 3, 5, 1, 2, 3, 4, 5, 1, 2, 3, 4, 5, 1, 3, 4, 5, 1, 2, 3, 4, 5, 1, 3, 4, 1, 1, 2, 3, 4, 5, 2, 1, 2, 3, 4, 5, 1, 2, 3, 4, 5, 3, 4, 3, 1, 2, 3, 4, 5, 1, 2, 3, 4, 5, 1, 2, 3, 4, 5, 3, 1, 2, 3, 4, 5, 1, 2, 3, 4, 5, 1, 2, 3, 4, 5, 2, 3, 1, 5, 1, 2, 3, 4, 5, 3, 1, 2, 3, 4, 5, 1, 2, 3, 4, 5, 1, 5, 2, 3, 5, 3, 1, 2, 3, 4, 5, 5, 1, 2, 3, 4, 5, 1, 2, 3, 4, 5, 1, 2, 3, 4, 5, 1, 2, 3, 4, 5, 1, 3, 5, 1, 2, 3, 4, 5, 3, 4, 1, 2, 3, 4, 5, 1, 2, 3, 4, 5, 3, 1, 2, 3, 4, 5, 1, 2, 3, 4, 5, 1, 2, 3, 4, 5, 1, 2, 3, 4, 5, 1, 2, 3, 4, 5, 1, 2, 3, 4, 5, 1, 2, 3, 4, 5, 1, 2, 3, 4, 5, 5, 1, 2, 3, 4, 5, 2, 3, 5, 1, 2, 3, 4, 5, 1, 2, 3, 4, 5, 4, 4, 1, 2, 3, 5, 1, 2, 3, 4, 5, 1, 3, 4, 5, 1, 2, 3, 4, 5, 1, 4, 1, 2, 3, 4, 5, 1, 2, 3, 4, 5, 1, 3, 4, 5, 3, 1, 2, 3, 4, 5, 3, 1, 2, 3, 4, 5, 5, 1, 5, 5, 1, 5, 2, 3, 4, 5, 1, 3, 5, 1, 3, 5, 1, 3, 5, 1, 2, 3, 5, 5, 1, 2, 3, 4, 5, 1, 2, 3, 4, 5, 1, 2, 3, 4, 5, 1, 2, 3, 4, 5, 1, 2, 3, 4, 5, 1, 2, 3, 4, 5, 1, 2, 3, 4, 5, 2, 5, 1, 2, 3, 4, 5, 5, 2, 1, 2, 3, 4, 5, 1, 3, 5, 1, 2, 3, 4, 5, 1, 2, 3, 4, 5, 1, 2, 3, 4, 5, 1, 3, 5, 4, 1, 2, 3, 4, 5, 1, 2, 4, 5, 1, 2, 3, 5, 1, 2, 3, 4, 5, 4, 4, 5, 1, 2, 3, 5, 1, 2, 3, 4, 5, 1, 2, 1, 2, 3, 4, 5, 2, 1, 2, 3, 4, 1, 2, 4, 2, 3, 5, 2, 3, 1, 2, 3, 4, 5, 2, 2, 1, 2, 3, 4, 5, 1, 2, 3, 4, 5, 1, 2, 3, 4, 5, 1, 2, 3, 4, 5, 1, 2, 3, 4, 5, 1, 3, 5, 1, 2, 3, 4, 5, 1, 2, 3, 4, 5, 1, 2, 3, 4, 5, 4, 2, 5, 4, 2, 1, 2, 3, 4, 5, 1, 2, 3, 4, 5, 1, 5, 3, 1, 2, 3, 4, 5, 1, 2, 3, 4, 5, 1, 2, 3, 4, 5, 5, 1, 2, 3, 4, 5, 2, 5, 1, 2, 3, 4, 5, 1, 2, 3, 4, 5, 1, 2, 3, 4, 5, 1, 4, 5, 1, 2, 3, 4, 5, 1, 4, 1, 3, 5, 5, 1, 2, 3, 4, 5, 2, 3, 5, 1, 2, 3, 4, 5, 1, 2, 3, 4, 5, 4, 1, 2, 3, 4, 1, 3, 5, 4, 1, 2, 3, 4, 5, 1, 2, 3, 4, 5, 1, 2, 3, 5, 1, 1, 3, 2, 1, 3, 1, 2, 3, 4, 5, 2, 3, 5, 1, 3, 4, 1, 2, 3, 4, 5, 5, 4, 1, 2, 3, 4, 5, 4, 1, 2, 3, 4, 5, 1, 5, 1, 5, 2, 4, 5, 2, 1, 2, 3, 4, 5, 1, 2, 3, 4, 5, 1, 2, 3, 4, 5, 1, 2, 3, 4, 5, 1, 2, 3, 4, 5, 1, 2, 3, 4, 5, 1, 2, 3, 4, 5, 2, 5, 2, 3, 1, 2, 3, 4, 5, 3, 2, 3, 3, 1, 2, 3, 4, 5, 1, 2, 3, 4, 5, 4, 1, 2, 3, 4, 5, 1, 2, 3, 4, 5, 1, 4, 2, 3, 3, 1, 2, 3, 4, 5, 1, 2, 3, 4, 5, 1, 2, 3, 4, 5, 1, 2, 3, 4, 5, 1, 2, 3, 4, 5, 1, 2, 3, 5, 1, 2, 3, 4, 5, 1, 2, 3, 4, 5, 3, 5, 1, 2, 3, 4, 5, 1, 2, 3, 4, 5, 2, 3, 5, 1, 2, 3, 4, 5, 3, 4, 1, 2, 3, 4, 5, 1, 3, 4, 5, 1, 3, 1, 2, 3, 4, 5, 1, 2, 3, 4, 5, 1, 2, 3, 4, 5, 1, 2, 3, 4, 5, 1, 2, 3, 4, 5, 2, 1, 2, 3, 4, 5, 5, 1, 2, 3, 4, 5, 4, 5, 3, 1, 2, 3, 5, 1, 2, 5, 3, 4, 1, 2, 3, 4, 5, 1, 2, 3, 4, 5, 1, 2, 3, 4, 5, 1, 2, 3, 4, 5, 1, 4, 5, 1, 2, 3, 4, 5, 1, 2, 3, 4, 5, 1, 2, 3, 4, 5, 1, 2, 3, 4, 5, 1, 2, 3, 4, 5, 3, 4, 1, 2, 3, 5, 1, 5, 1, 2, 3, 4, 1, 2, 3, 4, 5, 1, 5, 1, 2, 3, 4, 5, 1, 4, 5, 1, 2, 3, 4, 5, 1, 2, 3, 4, 5, 1, 2, 3, 4, 5, 1, 2, 3, 4, 5, 1, 4, 1, 2, 3, 4, 5, 1, 4, 5, 1, 2, 3, 4, 5, 1, 2, 3, 4, 5, 2, 1, 2, 3, 4, 5, 1, 2, 3, 4, 5, 5, 1, 2, 3, 4, 5, 1, 2, 3, 4, 5, 1, 2, 3, 4, 5, 2, 3, 5, 1, 2, 3, 4, 5, 1, 2, 3, 4, 5, 2, 3, 5, 2, 3, 4, 1, 2, 3, 4, 5, 3, 4, 1, 2, 3, 4, 5, 4, 1, 2, 3, 4, 1, 3, 4, 5, 1, 2, 3, 4, 5, 1, 2, 3, 4, 5, 1, 5, 1, 2, 3, 4, 5, 1, 2, 3, 4, 5, 1, 2, 3, 4, 5, 1, 2, 3, 4, 5, 1, 5, 1, 2, 3, 4, 5, 1, 2, 3, 4, 5, 1, 2, 3, 4, 5, 5, 1, 2, 3, 4, 5, 1, 2, 3, 4, 5, 1, 2, 3, 4, 5, 1, 2, 3, 4, 5, 1, 2, 3, 5, 2, 3, 1, 2, 5, 1, 2, 3, 4, 5, 1, 2, 3, 4, 5, 1, 2, 3, 4, 5, 1, 1, 3, 5, 1, 2, 3, 4, 5, 1, 3, 4, 5, 1, 3, 4, 1, 2, 3, 4, 5, 1, 2, 3, 4, 5], \"Freq\": [0.011486168950796127, 0.987810492515564, 0.08357390761375427, 0.8504874110221863, 0.03932889923453331, 0.009832224808633327, 0.014748336747288704, 0.00623548636212945, 0.910381019115448, 0.06859035044908524, 0.0124709727242589, 0.962691068649292, 0.9597533941268921, 0.01584332063794136, 0.9822858572006226, 0.9623045921325684, 0.9653552770614624, 0.9817191958427429, 0.007853753864765167, 0.007853753864765167, 0.06255484372377396, 0.8310858011245728, 0.08340645581483841, 0.005957604385912418, 0.01787281222641468, 0.15983067452907562, 0.06816308200359344, 0.1104711964726448, 0.3032081723213196, 0.3572685718536377, 0.11184504628181458, 0.006391145288944244, 0.07669374346733093, 0.5688119530677795, 0.23647238314151764, 0.9654555320739746, 0.010601610876619816, 0.19394712150096893, 0.7814010977745056, 0.0024944967590272427, 0.01184885948896408, 0.052816785871982574, 0.07042238116264343, 0.25234687328338623, 0.604458749294281, 0.017605595290660858, 0.972452700138092, 0.018164219334721565, 0.009082109667360783, 0.031787384301424026, 0.9309162497520447, 0.009082109667360783, 0.9815872311592102, 0.9383716583251953, 0.007072255946695805, 0.024752896279096603, 0.017680639401078224, 0.0035361279733479023, 0.9476823210716248, 0.9919124841690063, 0.003070936305448413, 0.003070936305448413, 0.09322942793369293, 0.13431358337402344, 0.7087016701698303, 0.013431358151137829, 0.05056511238217354, 0.002410978777334094, 0.04339761659502983, 0.9475146532058716, 0.002410978777334094, 0.004821957554668188, 0.04556535184383392, 0.5796336531639099, 0.3274347186088562, 0.005298296455293894, 0.04238637164235115, 0.9786900281906128, 0.010302000679075718, 0.010302000679075718, 0.8979304432868958, 0.010223116725683212, 0.04004054144024849, 0.005111558362841606, 0.046004027128219604, 0.9897273778915405, 0.7361341118812561, 0.05744399130344391, 0.03935977444052696, 0.03935977444052696, 0.12658953666687012, 0.01727650687098503, 0.005758835934102535, 0.06910602748394012, 0.9098960757255554, 0.05896560102701187, 0.280646413564682, 0.26124000549316406, 0.025377601385116577, 0.3739463984966278, 0.2712972164154053, 0.07778451591730118, 0.3405444324016571, 0.13185425102710724, 0.17833523452281952, 0.10854155570268631, 0.5550621151924133, 0.21620066463947296, 0.026473550125956535, 0.09353987872600555, 0.12273818254470825, 0.6563824415206909, 0.13722281157970428, 0.011435234919190407, 0.07166080176830292, 0.05027715489268303, 0.7126240134239197, 0.18799284100532532, 0.010929816402494907, 0.04153330251574516, 0.029935447499155998, 0.22594135999679565, 0.7006320357322693, 0.007840236648917198, 0.03635018691420555, 0.014885599724948406, 0.8931359648704529, 0.009923732839524746, 0.004961866419762373, 0.0744279995560646, 0.32753345370292664, 0.416364848613739, 0.036113888025283813, 0.012940477579832077, 0.20704764127731323, 0.15828371047973633, 0.817185640335083, 0.007362032774835825, 0.01472406554967165, 0.7714108228683472, 0.018588213250041008, 0.010326785035431385, 0.008261428214609623, 0.19207820296287537, 0.014009004458785057, 0.9806303381919861, 0.009149479679763317, 0.9789943099021912, 0.009149479679763317, 0.009149479679763317, 0.009324915707111359, 0.9791161417961121, 0.009324915707111359, 0.015266946516931057, 0.9694510698318481, 0.0076334732584655285, 0.0076334732584655285, 0.0076334732584655285, 0.009508187882602215, 0.9793433547019958, 0.009508187882602215, 0.009508187882602215, 0.9903512001037598, 0.007446249481290579, 0.007446249481290579, 0.9777096509933472, 0.04974256455898285, 0.009948513470590115, 0.9451087713241577, 0.033133365213871, 0.12960992753505707, 0.8098183870315552, 0.01169412862509489, 0.015592170879244804, 0.13559357821941376, 0.07691854238510132, 0.015449450351297855, 0.006902945693582296, 0.7652408480644226, 0.021549953147768974, 0.02873327024281025, 0.007183317560702562, 0.9481979012489319, 0.9689955115318298, 0.005505656357854605, 0.005505656357854605, 0.005505656357854605, 0.016516968607902527, 0.9763170480728149, 0.008204344660043716, 0.008204344660043716, 0.9803217053413391, 0.3022298216819763, 0.005631611216813326, 0.006570213474333286, 0.0037544076330959797, 0.6823635697364807, 0.9654911756515503, 0.002652944065630436, 0.015917664393782616, 0.9762834310531616, 0.002652944065630436, 0.002652944065630436, 0.21204857528209686, 0.045993637293577194, 0.2777537703514099, 0.21264590322971344, 0.25147169828414917, 0.01351942215114832, 0.9733983874320984, 0.9849936962127686, 0.009545033797621727, 0.009545033797621727, 0.9427556395530701, 0.002202700125053525, 0.036711666733026505, 0.00654966663569212, 0.028010277077555656, 0.951931357383728, 0.001672255340963602, 0.01184514258056879, 0.7621093988418579, 0.004569001495838165, 0.04112101346254349, 0.003655201056972146, 0.18732905387878418, 0.9885551333427429, 0.20955221354961395, 0.6738088130950928, 0.057887353003025055, 0.015050712041556835, 0.04399438947439194, 0.020260976627469063, 0.1867295503616333, 0.6675170660018921, 0.004928345791995525, 0.12047068029642105, 0.008656351827085018, 0.06059446185827255, 0.9240655303001404, 0.0021640879567712545, 0.00649226363748312, 0.016928531229496002, 0.9762119650840759, 0.005493710748851299, 0.988867998123169, 0.0045273518189787865, 0.06287989020347595, 0.9170402884483337, 0.00402431283146143, 0.011569899506866932, 0.9876393675804138, 0.06767666339874268, 0.44417670369148254, 0.36405375599861145, 0.006223141215741634, 0.11823968589305878, 0.7653704285621643, 0.0029064700938761234, 0.055222928524017334, 0.0029064700938761234, 0.17341937124729156, 0.015402724966406822, 0.970371663570404, 0.004386181477457285, 0.9912769794464111, 0.004386181477457285, 0.9822507500648499, 0.04449118673801422, 0.005561398342251778, 0.07229817658662796, 0.005561398342251778, 0.8787009119987488, 0.9837263822555542, 0.4749167561531067, 0.02585083432495594, 0.017726285383105278, 0.011817524209618568, 0.46974658966064453, 0.7388946413993835, 0.003651868086308241, 0.01947662979364395, 0.07547193765640259, 0.16189947724342346, 0.039128098636865616, 0.005589728243649006, 0.05589728429913521, 0.002794864121824503, 0.8943565487861633, 0.02885405160486698, 0.040395673364400864, 0.10772179067134857, 0.0019236034713685513, 0.8213786482810974, 0.9925079941749573, 0.0032864504028111696, 0.0032864504028111696, 0.07554705440998077, 0.018886763602495193, 0.009443381801247597, 0.8687911033630371, 0.02833014354109764, 0.013820428401231766, 0.9674299359321594, 0.08327607810497284, 0.12094859778881073, 0.05155185982584953, 0.005948291625827551, 0.7356053590774536, 0.3652515709400177, 0.03559655323624611, 0.019088005647063255, 0.5287893414497375, 0.051589205861091614, 0.9885509014129639, 0.06097496300935745, 0.6597951054573059, 0.24159890413284302, 0.0103542385622859, 0.027611304074525833, 0.0018808468012139201, 0.9742786288261414, 0.01880846731364727, 0.0018808468012139201, 0.0037616936024278402, 0.058852773159742355, 0.044875238090753555, 0.3957849144935608, 0.002206979086622596, 0.4980415999889374, 0.004415984731167555, 0.03613078221678734, 0.9121015667915344, 0.0020072658080607653, 0.04536420479416847, 0.224370539188385, 0.24823974072933197, 0.00716076185926795, 0.00716076185926795, 0.5131879448890686, 0.04097257927060127, 0.0015175029402598739, 0.25949299335479736, 0.0030350058805197477, 0.6950163841247559, 0.03116915374994278, 0.01335820835083723, 0.02671641670167446, 0.0044527361169457436, 0.9239427447319031, 0.06242133677005768, 0.8281230926513672, 0.012484267354011536, 0.004161422606557608, 0.09571271389722824, 0.9659765362739563, 0.1283729076385498, 0.01361530739814043, 0.0797468051314354, 0.023340526968240738, 0.7546770572662354, 0.004367414861917496, 0.9870357513427734, 0.004367414861917496, 0.011809246614575386, 0.16083069145679474, 0.7974053025245667, 0.003374070394784212, 0.026992563158273697, 0.03657182678580284, 0.6602177619934082, 0.25022828578948975, 0.005774499382823706, 0.04812082648277283, 0.9413118362426758, 0.9527807831764221, 0.01427809614688158, 0.0228449534624815, 0.1199360117316246, 0.8424077033996582, 0.4394538104534149, 0.14847083389759064, 0.35553550720214844, 0.005958695895969868, 0.05064891278743744, 0.9854308366775513, 0.004193322733044624, 0.004193322733044624, 0.004193322733044624, 0.027143647894263268, 0.04071547091007233, 0.5743349194526672, 0.00555210979655385, 0.35225051641464233, 0.985967755317688, 0.9412887096405029, 0.4009230136871338, 0.06436222046613693, 0.2145407348871231, 0.191745787858963, 0.12872444093227386, 0.008069029077887535, 0.9763525128364563, 0.008069029077887535, 0.008069029077887535, 0.008069029077887535, 0.019341515377163887, 0.019341515377163887, 0.9283927083015442, 0.019341515377163887, 0.9856464266777039, 0.9263321161270142, 0.01452256366610527, 0.011410586535930634, 0.013485237956047058, 0.0342317596077919, 0.9846619367599487, 0.19270308315753937, 0.10269366204738617, 0.2719796597957611, 0.040735967457294464, 0.3917482793331146, 0.9641643762588501, 0.017344381660223007, 0.971285343170166, 0.9625283479690552, 0.013012992218136787, 0.9629614353179932, 0.010359236039221287, 0.010359236039221287, 0.9737682342529297, 0.010359236039221287, 0.013825967907905579, 0.013825967907905579, 0.9678177237510681, 0.9711763262748718, 0.00490493094548583, 0.01961972378194332, 0.9674939513206482, 0.0030520313885062933, 0.027468282729387283, 0.010778875090181828, 0.03592958301305771, 0.003592958441004157, 0.9449480772018433, 0.9657447934150696, 0.01891016587615013, 0.009455082938075066, 0.009455082938075066, 0.004727541469037533, 0.9596909284591675, 0.003479463281109929, 0.12989996373653412, 0.8524684906005859, 0.002319642109796405, 0.011598210781812668, 0.0034213820472359657, 0.04447796940803528, 0.9465823769569397, 0.0011404607212170959, 0.004561842884868383, 0.013797084800899029, 0.22617363929748535, 0.6903470158576965, 0.003449271200224757, 0.06627528369426727, 0.05662436783313751, 0.16987310349941254, 0.33748123049736023, 0.326156347990036, 0.11098375916481018, 0.06797587126493454, 0.17103604972362518, 0.44118532538414, 0.0105252955108881, 0.30961912870407104, 0.07301267981529236, 0.1582304686307907, 0.018961502239108086, 0.011333311907947063, 0.7384088039398193, 0.9425921440124512, 0.04384149610996246, 0.04222242906689644, 0.03870389237999916, 0.00879633892327547, 0.0017592678777873516, 0.9077821969985962, 0.9836753606796265, 0.9625192880630493, 0.4469009339809418, 0.12652607262134552, 0.18437623977661133, 0.01387050561606884, 0.22835588455200195, 0.9831565022468567, 0.004389091394841671, 0.013167274184525013, 0.9246907234191895, 0.0039857360534369946, 0.0039857360534369946, 0.005978603847324848, 0.06177890673279762, 0.022826213389635086, 0.0038043688982725143, 0.013949352316558361, 0.9472878575325012, 0.011413106694817543, 0.009209114126861095, 0.009209114126861095, 0.009209114126861095, 0.9669570326805115, 0.009209114126861095, 0.008277601562440395, 0.008277601562440395, 0.9767569303512573, 0.9721653461456299, 0.10355120152235031, 0.19607794284820557, 0.553979218006134, 0.03543577343225479, 0.11063835769891739, 0.9763576984405518, 0.004208438564091921, 0.004208438564091921, 0.016833754256367683, 0.013791603036224842, 0.9102457761764526, 0.06895801424980164, 0.013791603036224842, 0.024945270270109177, 0.2447754591703415, 0.665726900100708, 0.005846547428518534, 0.058855246752500534, 0.9613574147224426, 0.9411110877990723, 0.9659648537635803, 0.005110003054141998, 0.015330009162425995, 0.9657905697822571, 0.010220006108283997, 0.5574243664741516, 0.10065925866365433, 0.13959349691867828, 0.027538854628801346, 0.1737796664237976, 0.053787291049957275, 0.9412775635719299, 0.0689355880022049, 0.2096349000930786, 0.5224964022636414, 0.01414063386619091, 0.18453526496887207, 0.9633388519287109, 0.009802318178117275, 0.9802318215370178, 0.009802318178117275, 0.009802318178117275, 0.009803099557757378, 0.9803099632263184, 0.009803099557757378, 0.007572570350021124, 0.9844341278076172, 0.007572570350021124, 0.008448371663689613, 0.9884594678878784, 0.013870302587747574, 0.20666751265525818, 0.7288843989372253, 0.009015697054564953, 0.04161090776324272, 0.963287353515625, 0.9655287861824036, 0.9791850447654724, 0.006119906902313232, 0.003059953451156616, 0.003059953451156616, 0.012239813804626465, 0.07987469434738159, 0.6379534006118774, 0.20151393115520477, 0.004698511213064194, 0.07569823414087296, 0.10372497886419296, 0.8447961807250977, 0.021244874224066734, 0.004373944830149412, 0.0262436680495739, 0.14321453869342804, 0.7292634844779968, 0.04836631193757057, 0.021356552839279175, 0.05778831988573074, 0.8545057773590088, 0.11259370297193527, 0.00536160496994853, 0.002680802484974265, 0.02412722073495388, 0.012402776628732681, 0.024805553257465363, 0.9550138115882874, 0.15153321623802185, 0.13503389060497284, 0.4889008402824402, 0.056879229843616486, 0.16759833693504333, 0.10739216953516006, 0.08171143382787704, 0.17042669653892517, 0.618672251701355, 0.021011510863900185, 0.29444295167922974, 0.030635681003332138, 0.16679427027702332, 0.2918899655342102, 0.21615175902843475, 0.9722359776496887, 0.9656063318252563, 0.9779309630393982, 0.9294233918190002, 0.9847989082336426, 0.3380098044872284, 0.5456035733222961, 0.04006635770201683, 0.011669326573610306, 0.06465708464384079, 0.9246864318847656, 0.009168279357254505, 0.02226581983268261, 0.013097541406750679, 0.03143410012125969, 0.015843115746974945, 0.9822732210159302, 0.9800881147384644, 0.08393187820911407, 0.7807190418243408, 0.051579952239990234, 0.004578102380037308, 0.07935377210378647, 0.1231282502412796, 0.08524263650178909, 0.021310659125447273, 0.002367850858718157, 0.7695515751838684, 0.03291838616132736, 0.8868600726127625, 0.03291838616132736, 0.007745502516627312, 0.04066389054059982, 0.990842878818512, 0.02597208507359028, 0.008657362312078476, 0.017314724624156952, 0.9349950551986694, 0.008657362312078476, 0.9316718578338623, 0.03327399492263794, 0.0247772429138422, 0.8250821828842163, 0.0123886214569211, 0.004955448675900698, 0.13131938874721527, 0.46826040744781494, 0.30806607007980347, 0.01812153309583664, 0.01159778144210577, 0.19426283240318298, 0.0035296673886477947, 0.042356010526418686, 0.9494805335998535, 0.0035296673886477947, 0.0035296673886477947, 0.9877617955207825, 0.006212338339537382, 0.006212338339537382, 0.08430621773004532, 0.011724705807864666, 0.019541176036000252, 0.8709781169891357, 0.013957982882857323, 0.028153294697403908, 0.9290587306022644, 0.9612300395965576, 0.02492077834904194, 0.014240444637835026, 0.969335675239563, 0.03247055411338806, 0.05245243012905121, 0.10365599393844604, 0.004995469469577074, 0.8055194616317749, 0.006211844738572836, 0.9907892346382141, 0.003105922369286418, 0.06200649216771126, 0.19649945199489594, 0.47596532106399536, 0.01833994872868061, 0.247152641415596, 0.10058663785457611, 0.21579445898532867, 0.43881142139434814, 0.08931247889995575, 0.15554817020893097, 0.9601579308509827, 0.021068433299660683, 0.007022810634225607, 0.007022810634225607, 0.9621250629425049, 0.011873339302837849, 0.011873339302837849, 0.9736137986183167, 0.9545754790306091, 0.003523682476952672, 0.04983493685722351, 0.9131371378898621, 0.0020135329104959965, 0.031209759414196014, 0.016240907832980156, 0.016240907832980156, 0.016240907832980156, 0.9257317781448364, 0.016240907832980156, 0.9748961925506592, 0.003979168366640806, 0.01989584043622017, 0.003979168366640806, 0.9900195598602295, 0.991958737373352, 0.006278219632804394, 0.9659683108329773, 0.01099565252661705, 0.9896087050437927, 0.006434895563870668, 0.9394947290420532, 0.006434895563870668, 0.002144965110346675, 0.045044269412755966, 0.0040404233150184155, 0.9858632683753967, 0.008080846630036831, 0.042000774294137955, 0.042000774294137955, 0.9100167751312256, 0.03755414858460426, 0.09388536959886551, 0.01877707429230213, 0.8355797529220581, 0.01877707429230213, 0.965696394443512, 0.9724237322807312, 0.14749331772327423, 0.16112306714057922, 0.4054849445819855, 0.026772715151309967, 0.2594519555568695, 0.9721176028251648, 0.7570420503616333, 0.0383220911026001, 0.12147379666566849, 0.007953641936182976, 0.07592112571001053, 0.01584339700639248, 0.9822905659675598, 0.015842830762267113, 0.9822555184364319, 0.9639624953269958, 0.0202939473092556, 0.0101469736546278, 0.9624855518341064, 0.8848569989204407, 0.002228858880698681, 0.024517448619008064, 0.002228858880698681, 0.08469664305448532, 0.1627306491136551, 0.01712954230606556, 0.1670130342245102, 0.5438629388809204, 0.10277725011110306, 0.003067468758672476, 0.012269875034689903, 0.9785225987434387, 0.003067468758672476, 0.003067468758672476, 0.14116062223911285, 0.639457643032074, 0.16515792906284332, 0.00564642483368516, 0.04940621927380562, 0.9468761682510376, 0.008186249062418938, 0.008186249062418938, 0.0027287497650831938, 0.035473745316267014, 0.10271939635276794, 0.027031419798731804, 0.05135969817638397, 0.002703141886740923, 0.8136457204818726, 0.04395230486989021, 0.246413454413414, 0.6550763845443726, 0.009819132275879383, 0.04488746076822281, 0.9657045602798462, 0.9688645601272583, 0.01216991525143385, 0.9857631921768188, 0.5710016489028931, 0.00508813327178359, 0.26458293199539185, 0.0022613925393670797, 0.1566014438867569, 0.9848892688751221, 0.012532487511634827, 0.9838002920150757, 0.977425217628479, 0.08564051240682602, 0.7175286412239075, 0.1735956370830536, 0.002314608544111252, 0.020831476897001266, 0.012132459320127964, 0.06551527976989746, 0.9147874712944031, 0.0024264920502901077, 0.0048529841005802155, 0.9291781187057495, 0.38067400455474854, 0.561383843421936, 0.025070732459425926, 0.0036101853474974632, 0.02948318049311638, 0.9002490043640137, 0.0028670351020991802, 0.04157200828194618, 0.0014335175510495901, 0.053040146827697754, 0.9876627922058105, 0.006211715750396252, 0.00831235945224762, 0.9891708493232727, 0.9794065952301025, 0.029888613149523735, 0.8742419481277466, 0.06724938005208969, 0.007472153287380934, 0.022416459396481514, 0.02361541986465454, 0.015743613243103027, 0.21253877878189087, 0.6691035628318787, 0.07084625959396362, 0.026426348835229874, 0.19672948122024536, 0.07927904278039932, 0.6665312647819519, 0.032298870384693146, 0.01270403154194355, 0.05886201187968254, 0.7713464498519897, 0.00423467718064785, 0.15266011655330658, 0.05648815259337425, 0.737035870552063, 0.15870481729507446, 0.008069735951721668, 0.03765876963734627, 0.004553832113742828, 0.004553832113742828, 0.004553832113742828, 0.9836277365684509, 0.03648059442639351, 0.10842844098806381, 0.8248668313026428, 0.006080099381506443, 0.024320397526025772, 0.0014162631705403328, 0.11825797706842422, 0.8745425343513489, 0.002124394755810499, 0.004248789511620998, 0.982830286026001, 0.01328149065375328, 0.07293330132961273, 0.05925830826163292, 0.08356940746307373, 0.003038887633010745, 0.7809941172599792, 0.007058786693960428, 0.0445246547460556, 0.9127554297447205, 0.0032579016406089067, 0.032036032527685165, 0.015962325036525726, 0.9790226817131042, 0.0053207753226161, 0.035640258342027664, 0.00848577544093132, 0.015274396166205406, 0.9300410151481628, 0.010182931087911129, 0.017027994617819786, 0.97059565782547, 0.04167351871728897, 0.020836759358644485, 0.012502055615186691, 0.9126500487327576, 0.012502055615186691, 0.9895450472831726, 0.0033657995518296957, 0.0033657995518296957, 0.0033657995518296957, 0.9827409386634827, 0.011699297465384007, 0.07466193288564682, 0.8281944394111633, 0.03180045261979103, 0.008295770734548569, 0.05668776482343674, 0.736228346824646, 0.05365226790308952, 0.15996325016021729, 0.003974242135882378, 0.04570378363132477, 0.025157803669571877, 0.45535627007484436, 0.467935174703598, 0.002515780506655574, 0.04947701469063759, 0.0035299838054925203, 0.23792089521884918, 0.742002546787262, 0.0035299838054925203, 0.012707941234111786, 0.02210809290409088, 0.01105404645204544, 0.01105404645204544, 0.9395939707756042, 0.02210809290409088, 0.965498685836792, 0.1464620679616928, 0.04362700134515762, 0.2461809366941452, 0.46431592106819153, 0.10283507406711578, 0.975875973701477, 0.06267064809799194, 0.44658640027046204, 0.4461221694946289, 0.011605676263570786, 0.03296012058854103, 0.9410302042961121, 0.9686588644981384, 0.9840214252471924, 0.9808822870254517, 0.007910341024398804, 0.007910341024398804, 0.007910341024398804, 0.014881563372910023, 0.9226568937301636, 0.05952625349164009, 0.02106597274541855, 0.9690347909927368, 0.213131844997406, 0.09468526393175125, 0.49694761633872986, 0.016680927947163582, 0.17856992781162262, 0.0032236820552498102, 0.016118410974740982, 0.9735519886016846, 0.0032236820552498102, 0.0064473641104996204, 0.0015008064219728112, 0.027014514431357384, 0.9650185108184814, 0.0015008064219728112, 0.004502418916672468, 0.020355626940727234, 0.06963767111301422, 0.8693995475769043, 0.0037497207522392273, 0.03696153312921524, 0.9846839308738708, 0.006653269752860069, 0.006653269752860069, 0.05448736250400543, 0.00495339697226882, 0.0520106665790081, 0.00247669848613441, 0.8866580128669739, 0.05661405995488167, 0.0989040806889534, 0.784275233745575, 0.004911099094897509, 0.05524986609816551, 0.0022771013900637627, 0.013662607409060001, 0.9745993614196777, 0.004554202780127525, 0.004554202780127525, 0.12541890144348145, 0.010451574809849262, 0.07316102832555771, 0.783868134021759, 0.005225787404924631, 0.029809176921844482, 0.0059618353843688965, 0.011923670768737793, 0.9449508786201477, 0.008942753076553345, 0.012693502008914948, 0.9773996472358704, 0.9809145927429199, 0.007910601794719696, 0.007910601794719696, 0.007910601794719696, 0.004671766422688961, 0.9904144406318665, 0.0786815956234932, 0.01573631912469864, 0.04720895737409592, 0.8654975295066833, 0.06008509173989296, 0.47961729764938354, 0.40623903274536133, 0.007975897751748562, 0.046260204166173935, 0.9735915660858154, 0.01069880835711956, 0.9890841841697693, 0.001100204885005951, 0.001100204885005951, 0.003300614655017853, 0.005501024425029755, 0.991801917552948, 0.0026518767699599266, 0.0026518767699599266, 0.9426058530807495, 0.012091737240552902, 0.0096184266731143, 0.0030229343101382256, 0.032702650874853134, 0.905502438545227, 0.015329579822719097, 0.008457698859274387, 0.012686548754572868, 0.058146681636571884, 0.9918099641799927, 0.0010971348965540528, 0.0010971348965540528, 0.004388539586216211, 0.0032914048060774803, 0.9769113659858704, 0.0035653698723763227, 0.0014261479955166578, 0.004991517867892981, 0.012122257612645626, 0.973662257194519, 0.009453031234443188, 0.04204212874174118, 0.6664913892745972, 0.251016229391098, 0.006182665936648846, 0.03338639438152313, 0.050143156200647354, 0.9192911982536316, 0.016714386641979218, 0.028223669156432152, 0.41865110397338867, 0.5183747410774231, 0.004703945014625788, 0.03010524809360504, 0.023519353941082954, 0.9454780220985413, 0.018815482035279274, 0.0047038705088198185, 0.009407741017639637, 0.9628490209579468, 0.9373660087585449, 0.002226522658020258, 0.011132612824440002, 0.004453045316040516, 0.04453045129776001, 0.009008588269352913, 0.09652058035135269, 0.8833563923835754, 0.006177317351102829, 0.00489037623628974, 0.9805177450180054, 0.4202563464641571, 0.16019031405448914, 0.01880776882171631, 0.08236505836248398, 0.3184349834918976, 0.006108611356467009, 0.9224003553390503, 0.04886889085173607, 0.006108611356467009, 0.01832583360373974, 0.7811775803565979, 0.06314603984355927, 0.09166359901428223, 0.010184844955801964, 0.053979676216840744, 0.011116188950836658, 0.9782246351242065, 0.011116188950836658, 0.0024626157246530056, 0.03247405216097832, 0.9548183679580688, 0.0010012832935899496, 0.009282167069613934, 0.002056332305073738, 0.004112664610147476, 0.9890958666801453, 0.002056332305073738, 0.004112664610147476, 0.0046051740646362305, 0.9855072498321533, 0.0046051740646362305, 0.012467608787119389, 0.9849411249160767, 0.9739486575126648, 0.035666923969984055, 0.01585196517407894, 0.05944487079977989, 0.8758211135864258, 0.011888974346220493, 0.026413390412926674, 0.950882077217102, 0.07148346304893494, 0.095065638422966, 0.3640498220920563, 0.02210828848183155, 0.44732436537742615, 0.9594250321388245, 0.029003962874412537, 0.9184588193893433, 0.03867195174098015, 0.009667987935245037, 0.20192964375019073, 0.006963090971112251, 0.7659400105476379, 0.020889272913336754, 0.2614211440086365, 0.1647767871618271, 0.42360594868659973, 0.01258968748152256, 0.13774599134922028, 0.0313764363527298, 0.310928076505661, 0.6023566722869873, 0.006027112249284983, 0.04928050562739372, 0.017080610617995262, 0.9735948443412781, 0.2836013734340668, 0.021722659468650818, 0.15581315755844116, 0.0016090859426185489, 0.5373005867004395, 0.09198267757892609, 0.017033828422427177, 0.1737450510263443, 0.0017033828189596534, 0.7154207825660706, 0.08010496944189072, 0.0047120568342506886, 0.028272341936826706, 0.0047120568342506886, 0.8811546564102173, 0.03984914347529411, 0.004981142934411764, 0.11456628888845444, 0.002490571467205882, 0.839322566986084, 0.01093174610286951, 0.9838571548461914, 0.020575648173689842, 0.15774662792682648, 0.6511244177818298, 0.0013133392203599215, 0.1691289097070694, 0.08613495528697968, 0.014141559600830078, 0.1452723890542984, 0.002571192802861333, 0.7507882714271545, 0.051169704645872116, 0.0063962130807340145, 0.0063962130807340145, 0.0031981065403670073, 0.9306489825248718, 0.9688471555709839, 0.11353269964456558, 0.6708301901817322, 0.18720555305480957, 0.009131978265941143, 0.019251197576522827, 0.4353926181793213, 0.1615607887506485, 0.2108505219221115, 0.1469564288854599, 0.045638639479875565, 0.013307477347552776, 0.009980607777833939, 0.9448308944702148, 0.02328808605670929, 0.009980607777833939, 0.1185283288359642, 0.1819409877061844, 0.3935140371322632, 0.02074245736002922, 0.2856532633304596, 0.013710301369428635, 0.0045701004564762115, 0.018280401825904846, 0.9642912149429321, 0.007001207675784826, 0.9871702790260315, 0.014384857378900051, 0.9494006037712097, 0.028769714757800102, 0.6592791080474854, 0.10188177227973938, 0.02408796176314354, 0.021557319909334183, 0.19307860732078552, 0.01550738513469696, 0.0025845642667263746, 0.005169128533452749, 0.0025845642667263746, 0.9769653081893921, 0.9398948550224304, 0.004664490465074778, 0.02099020779132843, 0.009328980930149555, 0.02332245372235775, 0.983185350894928, 0.9905930161476135, 0.005792941432446241, 0.005792941432446241, 0.019089078530669212, 0.9099127054214478, 0.050904206931591034, 0.006363025866448879, 0.012726051732897758, 0.9896026253700256, 0.001849724561907351, 0.005549173802137375, 0.003699449123814702, 0.017242824658751488, 0.017242824658751488, 0.9483553171157837, 0.0027331409510225058, 0.10044292360544205, 0.8828045129776001, 0.006832852028310299, 0.007516137324273586, 0.0031637772917747498, 0.0031637772917747498, 0.025310218334197998, 0.0031637772917747498, 0.9681158065795898], \"Term\": [\"abolishtc\", \"abolishtc\", \"acmpr\", \"acmpr\", \"acmpr\", \"acmpr\", \"acmpr\", \"advocacy\", \"advocacy\", \"advocacy\", \"advocacy\", \"alkaline\", \"allblackeverything\", \"amex\", \"amex\", \"ancd\", \"anion\", \"ans\", \"ans\", \"ans\", \"arrest\", \"arrest\", \"arrest\", \"arrest\", \"arrest\", \"art\", \"art\", \"art\", \"art\", \"art\", \"artist\", \"artist\", \"artist\", \"artist\", \"artist\", \"atdctas\", \"ban\", \"ban\", \"ban\", \"ban\", \"ban\", \"beat\", \"beat\", \"beat\", \"beat\", \"beat\", \"beatmaker\", \"beats\", \"beats\", \"beats\", \"beats\", \"beats\", \"bechamp\", \"behealthy\", \"berkeley\", \"berkeley\", \"berkeley\", \"berkeley\", \"berkeley\", \"bestinhouston\", \"bestinhouston\", \"bestinhouston\", \"big\", \"big\", \"big\", \"big\", \"big\", \"bigtobacco\", \"bigtobacco\", \"bigtobacco\", \"bigtobacco\", \"bigtobacco\", \"bill\", \"bill\", \"bill\", \"bill\", \"bill\", \"blazeit\", \"blazeit\", \"blazeit\", \"bong\", \"bong\", \"bong\", \"bong\", \"bong\", \"boycottyoutube\", \"bud\", \"bud\", \"bud\", \"bud\", \"bud\", \"bulk\", \"bulk\", \"bulk\", \"bulk\", \"business\", \"business\", \"business\", \"business\", \"business\", \"buy\", \"buy\", \"buy\", \"buy\", \"buy\", \"california\", \"california\", \"california\", \"california\", \"california\", \"canada\", \"canada\", \"canada\", \"canada\", \"canada\", \"canadian\", \"canadian\", \"canadian\", \"canadian\", \"canadian\", \"cancer\", \"cancer\", \"cancer\", \"cancer\", \"cancer\", \"cannabinoid\", \"cannabinoid\", \"cannabinoid\", \"cannabinoid\", \"cannabinoid\", \"cannabis\", \"cannabis\", \"cannabis\", \"cannabis\", \"cannabis\", \"cannabisact\", \"cannabisact\", \"cannabisact\", \"cannabisact\", \"cannabiscommunity\", \"cannabiscommunity\", \"cannabiscommunity\", \"cannabiscommunity\", \"cannabiscommunity\", \"cannabisdelivery\", \"cannabisdelivery\", \"cannabisindica\", \"cannabisindica\", \"cannabisindica\", \"cannabisindica\", \"cannabisruderalis\", \"cannabisruderalis\", \"cannabisruderalis\", \"cannabissativa\", \"cannabissativa\", \"cannabissativa\", \"cannabissativa\", \"cannabissativa\", \"cannabissatival\", \"cannabissatival\", \"cannabissatival\", \"cannabissatival\", \"cannaculture\", \"cannaculture\", \"cannaculture\", \"cannatech\", \"caramel\", \"caramel\", \"caramel\", \"cause\", \"cause\", \"cause\", \"cause\", \"cause\", \"cbd\", \"cbd\", \"cbd\", \"cbd\", \"cbd\", \"cbdflowers\", \"cbdflowers\", \"cbdflowers\", \"cbdflowers\", \"cbdhemp\", \"cbdhemp\", \"cbdhemp\", \"cbdhemp\", \"cbdhemp\", \"cbdisola\", \"cbdisola\", \"cbdisola\", \"cbdisolat\", \"cbdoil\", \"cbdoil\", \"cbdoil\", \"cbdoil\", \"cbdoil\", \"ccic\", \"cessation\", \"cessation\", \"cessation\", \"cessation\", \"cessation\", \"check\", \"check\", \"check\", \"check\", \"check\", \"checkitout\", \"checkitout\", \"churchill\", \"cigar\", \"cigar\", \"cigar\", \"cigar\", \"cigar\", \"cigarette\", \"cigarette\", \"cigarette\", \"cigarette\", \"cigarette\", \"code\", \"code\", \"code\", \"code\", \"code\", \"cohiba\", \"colorado\", \"colorado\", \"colorado\", \"colorado\", \"colorado\", \"company\", \"company\", \"company\", \"company\", \"company\", \"con\", \"con\", \"con\", \"con\", \"con\", \"consensus\", \"consensus\", \"contactst\", \"contactst\", \"control\", \"control\", \"control\", \"control\", \"control\", \"corrective\", \"could\", \"could\", \"could\", \"could\", \"could\", \"coupon\", \"coupon\", \"coupon\", \"coupon\", \"coupon\", \"creditcard\", \"creditcard\", \"cstore\", \"cstore\", \"cstore\", \"cuban\", \"custom\", \"custom\", \"custom\", \"custom\", \"custom\", \"cybermonday\", \"dab\", \"dab\", \"dab\", \"dab\", \"dab\", \"dank\", \"dank\", \"dank\", \"dank\", \"dank\", \"delicious\", \"delicious\", \"delicious\", \"delicious\", \"delicious\", \"deliver\", \"deliver\", \"deliver\", \"deliver\", \"deliver\", \"detoxify\", \"detoxify\", \"detoxify\", \"dj\", \"dj\", \"dj\", \"dj\", \"dj\", \"djlos\", \"djlos\", \"dog\", \"dog\", \"dog\", \"dog\", \"dog\", \"dope\", \"dope\", \"dope\", \"dope\", \"dope\", \"downplay\", \"drug\", \"drug\", \"drug\", \"drug\", \"drug\", \"drugpolicy\", \"drugpolicy\", \"drugpolicy\", \"drugpolicy\", \"drugpolicy\", \"ecig\", \"ecig\", \"ecig\", \"ecig\", \"ecig\", \"ecigs\", \"ecigs\", \"ecigs\", \"ecigs\", \"ecigs\", \"edible\", \"edible\", \"edible\", \"edible\", \"edible\", \"ejuice\", \"ejuice\", \"ejuice\", \"ejuice\", \"ejuice\", \"email\", \"email\", \"email\", \"email\", \"email\", \"epilepsy\", \"epilepsy\", \"epilepsy\", \"epilepsy\", \"epilepsy\", \"familyoffice\", \"favorite\", \"favorite\", \"favorite\", \"favorite\", \"favorite\", \"fctc\", \"fctc\", \"fctc\", \"fda\", \"fda\", \"fda\", \"fda\", \"fda\", \"federal\", \"federal\", \"federal\", \"federal\", \"federal\", \"femaleproducer\", \"femalerapper\", \"finance\", \"finance\", \"finance\", \"finance\", \"find\", \"find\", \"find\", \"find\", \"find\", \"firefly\", \"firefly\", \"firefly\", \"firefly\", \"flavor\", \"flavor\", \"flavor\", \"flavor\", \"flavor\", \"flowering\", \"flstudio\", \"follow\", \"follow\", \"follow\", \"follow\", \"follow\", \"foodgrade\", \"foodgrade\", \"foodgrade\", \"foodgrade\", \"foodgrade\", \"freestyle\", \"freestyle\", \"freestyle\", \"freestyle\", \"ftfy\", \"ganja\", \"ganja\", \"ganja\", \"ganja\", \"ganja\", \"gcph\", \"get\", \"get\", \"get\", \"get\", \"get\", \"glasscollector\", \"glassforsale\", \"glassforsale\", \"glassgallery\", \"glassporn\", \"glassporn\", \"goodmusic\", \"goodmusic\", \"goodmusic\", \"goodmusic\", \"goody\", \"goody\", \"goody\", \"gpen\", \"gpen\", \"gpen\", \"gravlabs\", \"gravlabs\", \"gravlabs\", \"greenrush\", \"greenrush\", \"greenrush\", \"greenrush\", \"greenstardistro\", \"gummies\", \"gummies\", \"gummies\", \"gummies\", \"gummies\", \"harm\", \"harm\", \"harm\", \"harm\", \"harm\", \"harmless\", \"harmless\", \"harmless\", \"harmless\", \"harmless\", \"health\", \"health\", \"health\", \"health\", \"health\", \"hear\", \"hear\", \"hear\", \"hear\", \"hear\", \"help\", \"help\", \"help\", \"help\", \"help\", \"hemp\", \"hemp\", \"hemp\", \"hemp\", \"hemp\", \"hempbeer\", \"hempbeer\", \"hempoil\", \"hempoil\", \"hempoil\", \"hempoil\", \"hempoil\", \"hempzilla\", \"herbalpaste\", \"high\", \"high\", \"high\", \"high\", \"high\", \"highhempwraps\", \"highhempwraps\", \"highhempwraps\", \"highlife\", \"highlife\", \"highlife\", \"highlife\", \"highlife\", \"hiphop\", \"hiphop\", \"hiphop\", \"hiphop\", \"hiphop\", \"hiphopmusic\", \"hiphopmusic\", \"hiphopmusic\", \"hiphopmusic\", \"hiphopmusic\", \"holistic\", \"holistic\", \"holistic\", \"homervillehound\", \"http\", \"http\", \"http\", \"http\", \"http\", \"iamcannabis\", \"iamcannabis\", \"iamcannabis\", \"iamcannabis\", \"impair\", \"impair\", \"impair\", \"impair\", \"industry\", \"industry\", \"industry\", \"industry\", \"industry\", \"instrumentals\", \"intellectmusic\", \"investee\", \"iqos\", \"iqos\", \"iqos\", \"iqos\", \"joint\", \"joint\", \"joint\", \"joint\", \"joint\", \"juicing\", \"juicing\", \"juul\", \"juul\", \"juul\", \"juul\", \"juul\", \"kanabos\", \"kanehbos\", \"kanehbos\", \"kanehbos\", \"kanehbos\", \"kanehbosm\", \"kanehbosm\", \"kanehbosm\", \"keepsmokingweneedthemoney\", \"keepsmokingweneedthemoney\", \"keepsmokingweneedthemoney\", \"kenya\", \"kenya\", \"kid\", \"kid\", \"kid\", \"kid\", \"kid\", \"kilmer\", \"kingblvck\", \"leafbuyer\", \"leafbuyer\", \"leafbuyer\", \"leafbuyer\", \"leafbuyer\", \"legal\", \"legal\", \"legal\", \"legal\", \"legal\", \"legalization\", \"legalization\", \"legalization\", \"legalization\", \"legalization\", \"legalize\", \"legalize\", \"legalize\", \"legalize\", \"legalize\", \"legalizeit\", \"legalizeit\", \"legalizeit\", \"legalizeit\", \"legalizeit\", \"legged\", \"legged\", \"legged\", \"like\", \"like\", \"like\", \"like\", \"like\", \"listen\", \"listen\", \"listen\", \"listen\", \"listen\", \"love\", \"love\", \"love\", \"love\", \"love\", \"lovelife\", \"loveones\", \"lungfunctions\", \"mangostrain\", \"marcquiblvck\", \"marijuana\", \"marijuana\", \"marijuana\", \"marijuana\", \"marijuana\", \"maryjane\", \"maryjane\", \"maryjane\", \"maryjane\", \"maryjane\", \"mastercard\", \"mastercard\", \"matchbook\", \"medical\", \"medical\", \"medical\", \"medical\", \"medical\", \"medicalcannabis\", \"medicalcannabis\", \"medicalcannabis\", \"medicalcannabis\", \"medicalcannabis\", \"medicinal\", \"medicinal\", \"medicinal\", \"medicinal\", \"medicinal\", \"mellowmonkey\", \"mixtape\", \"mixtape\", \"mixtape\", \"mixtape\", \"mixtape\", \"mjotcs\", \"mjotcs\", \"mme\", \"mme\", \"mme\", \"mme\", \"mme\", \"mmj\", \"mmj\", \"mmj\", \"mmj\", \"mmj\", \"morris\", \"morris\", \"morris\", \"morris\", \"morris\", \"muchlove\", \"muchlove\", \"muchlove\", \"music\", \"music\", \"music\", \"music\", \"music\", \"mymixtapez\", \"mymixtapez\", \"naked\", \"naked\", \"naked\", \"nasadol\", \"natural\", \"natural\", \"natural\", \"natural\", \"natural\", \"ncds\", \"ncds\", \"ncds\", \"need\", \"need\", \"need\", \"need\", \"need\", \"new\", \"new\", \"new\", \"new\", \"new\", \"newartist\", \"newmusic\", \"newmusic\", \"newmusic\", \"newmusic\", \"newproduct\", \"newproduct\", \"newproduct\", \"newsong\", \"nicotine\", \"nicotine\", \"nicotine\", \"nicotine\", \"nicotine\", \"nite\", \"nite\", \"nite\", \"nite\", \"nite\", \"nofilter\", \"nofilter\", \"nofilter\", \"nofilter\", \"nofilterneede\", \"nofilterneeded\", \"nofilterneeded\", \"nonmedicinal\", \"nonspecialised\", \"nonspecialised\", \"norcal\", \"norcal\", \"norcal\", \"norcal\", \"norcal\", \"notobacco\", \"notobacco\", \"notobacco\", \"nowplaying\", \"nowplaying\", \"nowplaying\", \"np\", \"np\", \"np\", \"np\", \"np\", \"nugrun\", \"olgaroderick\", \"one\", \"one\", \"one\", \"one\", \"one\", \"onewithspirit\", \"online\", \"online\", \"online\", \"online\", \"online\", \"onlinegaming\", \"onlinegaming\", \"onlinepharmacy\", \"onlinepharmacy\", \"onlyillness\", \"onlyillness\", \"onlyillness\", \"ozonated\", \"pad\", \"pad\", \"pad\", \"pad\", \"pad\", \"papers\", \"papers\", \"papers\", \"papers\", \"papers\", \"parasite\", \"parasite\", \"parasite\", \"parasite\", \"parasite\", \"patient\", \"patient\", \"patient\", \"patient\", \"patient\", \"pax\", \"pax\", \"pax\", \"pax\", \"pax\", \"pen\", \"pen\", \"pen\", \"pen\", \"pen\", \"people\", \"people\", \"people\", \"people\", \"people\", \"pesticidefree\", \"petsupplies\", \"pictorial\", \"pictorial\", \"pipe\", \"pipe\", \"pipe\", \"pipe\", \"pipe\", \"pipesandcigars\", \"plainpacks\", \"plainpacks\", \"pmi\", \"police\", \"police\", \"police\", \"police\", \"police\", \"poor\", \"poor\", \"poor\", \"poor\", \"poor\", \"poquitomas\", \"pot\", \"pot\", \"pot\", \"pot\", \"pot\", \"pouch\", \"pouch\", \"pouch\", \"pouch\", \"pouch\", \"ppp\", \"ppp\", \"predispose\", \"predispose\", \"predominate\", \"prescribe\", \"prescribe\", \"prescribe\", \"prescribe\", \"prescribe\", \"prod\", \"prod\", \"prod\", \"prod\", \"prod\", \"producer\", \"producer\", \"producer\", \"producer\", \"producer\", \"product\", \"product\", \"product\", \"product\", \"product\", \"prohibition\", \"prohibition\", \"prohibition\", \"prohibition\", \"prohibition\", \"promocode\", \"promocode\", \"promocode\", \"promocode\", \"protect\", \"protect\", \"protect\", \"protect\", \"protect\", \"publichealth\", \"publichealth\", \"publichealth\", \"publichealth\", \"publichealth\", \"quack\", \"quack\", \"quality\", \"quality\", \"quality\", \"quality\", \"quality\", \"quit\", \"quit\", \"quit\", \"quit\", \"quit\", \"racket\", \"racket\", \"racket\", \"rap\", \"rap\", \"rap\", \"rap\", \"rap\", \"rapmusic\", \"rapmusic\", \"rapper\", \"rapper\", \"rapper\", \"rapper\", \"rapper\", \"rawpapers\", \"rawpapers\", \"rawpapers\", \"rawpapers\", \"readwhenstoned\", \"readwhenstoned\", \"recreational\", \"recreational\", \"recreational\", \"recreational\", \"recreational\", \"relate\", \"relate\", \"relate\", \"relate\", \"relate\", \"research\", \"research\", \"research\", \"research\", \"research\", \"risk\", \"risk\", \"risk\", \"risk\", \"risk\", \"rnb\", \"rnb\", \"rnb\", \"rnb\", \"rnb\", \"roadside\", \"rolling\", \"rolling\", \"rolling\", \"rolling\", \"rolling\", \"salve\", \"say\", \"say\", \"say\", \"say\", \"say\", \"saywhatsaywhat\", \"sfbay\", \"sgr\", \"shmopli\", \"shmopli\", \"shmopli\", \"shmopli\", \"sipc\", \"sipc\", \"sipc\", \"skillit\", \"skillit\", \"smoke\", \"smoke\", \"smoke\", \"smoke\", \"smoke\", \"smokefree\", \"smokefree\", \"smokefree\", \"smokefree\", \"smokefree\", \"smokeless\", \"smokeless\", \"smokeless\", \"smokeless\", \"smokeless\", \"smoker\", \"smoker\", \"smoker\", \"smoker\", \"smoker\", \"smokesesh\", \"smokesesh\", \"smokesesh\", \"smokeshop\", \"smokeshop\", \"smokeshop\", \"smokeshop\", \"smokeshop\", \"smoking\", \"smoking\", \"smoking\", \"smoking\", \"smoking\", \"snus\", \"snus\", \"snus\", \"snus\", \"snus\", \"song\", \"song\", \"song\", \"song\", \"song\", \"soundcloud\", \"soundcloud\", \"soundcloud\", \"soundcloud\", \"soundcloud\", \"soundcloudrapper\", \"soundcloudrapper\", \"sourbros\", \"sourbros\", \"sourbros\", \"sourbros\", \"spoonie\", \"spoonie\", \"spotify\", \"spotify\", \"spotify\", \"spotify\", \"state\", \"state\", \"state\", \"state\", \"state\", \"stayhigh\", \"stayhigh\", \"staylifted\", \"staylifted\", \"staylifted\", \"staylifted\", \"staylifted\", \"staystoney\", \"staystoney\", \"staystoney\", \"stone\", \"stone\", \"stone\", \"stone\", \"stone\", \"stoner\", \"stoner\", \"stoner\", \"stoner\", \"stoner\", \"stonercircle\", \"stonercircle\", \"stonercircle\", \"stonercircle\", \"stonercircle\", \"stonerfam\", \"stonerfam\", \"stonerfam\", \"stonerfam\", \"stonerfam\", \"stoney\", \"stoney\", \"story\", \"story\", \"story\", \"story\", \"story\", \"streamer\", \"streamer\", \"streamer\", \"study\", \"study\", \"study\", \"study\", \"study\", \"synthetic\", \"synthetic\", \"synthetic\", \"synthetic\", \"synthetic\", \"syntheticcannabinoids\", \"tattoo\", \"tattoo\", \"tattoo\", \"tattoo\", \"tattoo\", \"tax\", \"tax\", \"tax\", \"tax\", \"tax\", \"telegraphave\", \"thc\", \"thc\", \"thc\", \"thc\", \"thc\", \"therapeutic\", \"therapeutic\", \"therapeutic\", \"therapeutic\", \"therapeutic\", \"things\", \"things\", \"things\", \"things\", \"things\", \"thr\", \"thr\", \"thr\", \"tobacco\", \"tobacco\", \"tobacco\", \"tobacco\", \"tobacco\", \"tobaccocontrol\", \"tobaccocontrol\", \"tobaccocontrol\", \"tobaccocontrol\", \"tobaccocontrol\", \"tobaccofree\", \"tobaccofree\", \"tobaccofree\", \"tobaccoharmreduction\", \"tobaccoharmreduction\", \"toptier\", \"trap\", \"trap\", \"trap\", \"trap\", \"trap\", \"trapmusic\", \"trapmusic\", \"try\", \"try\", \"try\", \"try\", \"try\", \"turnup\", \"twin\", \"twin\", \"twin\", \"twin\", \"twitch\", \"twitch\", \"twitch\", \"twitch\", \"us\", \"us\", \"us\", \"us\", \"us\", \"use\", \"use\", \"use\", \"use\", \"use\", \"vaoe\", \"vaoe\", \"vape\", \"vape\", \"vape\", \"vape\", \"vape\", \"vapelife\", \"vapelife\", \"vapelife\", \"vapelife\", \"vapelife\", \"vapepen\", \"vapepen\", \"vapepen\", \"vapepen\", \"vapepen\", \"vapeshop\", \"vapeshop\", \"vapeshop\", \"vapeshop\", \"vapeshop\", \"vapesomeweed\", \"vapesomeweed\", \"vaping\", \"vaping\", \"vaping\", \"vaping\", \"vaping\", \"vaporizer\", \"vaporizer\", \"vaporizer\", \"vaporizer\", \"vaporizer\", \"vegan\", \"vegan\", \"vegan\", \"vegan\", \"vegan\", \"veterinarymedicine\", \"via\", \"via\", \"via\", \"via\", \"via\", \"video\", \"video\", \"video\", \"video\", \"video\", \"vintage\", \"vintage\", \"vintage\", \"vintage\", \"vintage\", \"want\", \"want\", \"want\", \"want\", \"want\", \"waxerz\", \"waxerz\", \"waxerz\", \"waxerz\", \"wctoh\", \"wctoh\", \"wdrp\", \"wdrp\", \"wdrp\", \"weed\", \"weed\", \"weed\", \"weed\", \"weed\", \"weeddelivery\", \"weeddelivery\", \"weeddelivery\", \"weeddelivery\", \"weeddelivery\", \"weedstagram\", \"weedstagram\", \"weedstagram\", \"weedstagram\", \"weedstagram\", \"westheimer\", \"westheimerhouston\", \"westheimerhouston\", \"westheimerhouston\", \"wildfire\", \"wildfire\", \"wildfire\", \"wildfire\", \"wildfire\", \"worldreefers\", \"worldreefers\", \"worldreefers\", \"worldreefers\", \"wshh\", \"wshh\", \"wshh\", \"youth\", \"youth\", \"youth\", \"youth\", \"youth\", \"\\u05d3\\u05e8\\u05da\", \"\\u05d3\\u05e8\\u05da\", \"\\u05d3\\u05e8\\u05da\", \"\\u05d3\\u05e8\\u05da\", \"\\u05d3\\u05e8\\u05da\"]}, \"R\": 30, \"lambda.step\": 0.01, \"plot.opts\": {\"xlab\": \"PC1\", \"ylab\": \"PC2\"}, \"topic.order\": [1, 2, 3, 4, 5]};\n",
       "\n",
       "function LDAvis_load_lib(url, callback){\n",
       "  var s = document.createElement('script');\n",
       "  s.src = url;\n",
       "  s.async = true;\n",
       "  s.onreadystatechange = s.onload = callback;\n",
       "  s.onerror = function(){console.warn(\"failed to load library \" + url);};\n",
       "  document.getElementsByTagName(\"head\")[0].appendChild(s);\n",
       "}\n",
       "\n",
       "if(typeof(LDAvis) !== \"undefined\"){\n",
       "   // already loaded: just create the visualization\n",
       "   !function(LDAvis){\n",
       "       new LDAvis(\"#\" + \"ldavis_el268852886229847117581968\", ldavis_el268852886229847117581968_data);\n",
       "   }(LDAvis);\n",
       "}else if(typeof define === \"function\" && define.amd){\n",
       "   // require.js is available: use it to load d3/LDAvis\n",
       "   require.config({paths: {d3: \"https://cdnjs.cloudflare.com/ajax/libs/d3/3.5.5/d3.min\"}});\n",
       "   require([\"d3\"], function(d3){\n",
       "      window.d3 = d3;\n",
       "      LDAvis_load_lib(\"https://cdn.rawgit.com/bmabey/pyLDAvis/files/ldavis.v1.0.0.js\", function(){\n",
       "        new LDAvis(\"#\" + \"ldavis_el268852886229847117581968\", ldavis_el268852886229847117581968_data);\n",
       "      });\n",
       "    });\n",
       "}else{\n",
       "    // require.js not available: dynamically load d3 & LDAvis\n",
       "    LDAvis_load_lib(\"https://cdnjs.cloudflare.com/ajax/libs/d3/3.5.5/d3.min.js\", function(){\n",
       "         LDAvis_load_lib(\"https://cdn.rawgit.com/bmabey/pyLDAvis/files/ldavis.v1.0.0.js\", function(){\n",
       "                 new LDAvis(\"#\" + \"ldavis_el268852886229847117581968\", ldavis_el268852886229847117581968_data);\n",
       "            })\n",
       "         });\n",
       "}\n",
       "</script>"
      ],
      "text/plain": [
       "<IPython.core.display.HTML object>"
      ]
     },
     "execution_count": 99,
     "metadata": {},
     "output_type": "execute_result"
    }
   ],
   "source": [
    "## dont run again\n",
    "import gensim\n",
    "import os\n",
    "import pyLDAvis.gensim\n",
    "top_dir = os.path.join(get_git_root(os.getcwd()))\n",
    "poly_dir = os.path.join(top_dir,\"models\",\"poly_users\")\n",
    "dictionary = gensim.corpora.Dictionary.load(os.path.join(poly_dir,'dictionary.gensim'))\n",
    "corpus = pickle.load(open(os.path.join(poly_dir,'corpus.pkl'), 'rb'))\n",
    "lda = gensim.models.ldamodel.LdaModel.load(os.path.join(poly_dir,'model5.gensim'))\n",
    "lda_display = pyLDAvis.gensim.prepare(lda, corpus, dictionary, sort_topics=False)\n",
    "pyLDAvis.display(lda_display)"
   ]
  },
  {
   "cell_type": "code",
   "execution_count": 100,
   "metadata": {},
   "outputs": [],
   "source": [
    "dictionary = corpora.Dictionary(tokens_p)\n",
    "corpus = [dictionary.doc2bow(text) for text in tokens_j]\n",
    "pickle.dump(corpus, open(os.path.join(poly_dir,'corpus_m.pkl'), 'wb'))\n",
    "dictionary.save(os.path.join(poly_dir,'dictionary_m.gensim'))\n",
    "## LDA\n",
    "NUM_TOPICS = 5\n",
    "ldamodel = gensim.models.ldamodel.LdaModel(corpus, num_topics = NUM_TOPICS, id2word=dictionary, passes=8)\n",
    "ldamodel.save(os.path.join(poly_dir,'model_m.gensim'))\n",
    "topics = ldamodel.print_topics(num_words=4)"
   ]
  },
  {
   "cell_type": "code",
   "execution_count": 101,
   "metadata": {},
   "outputs": [
    {
     "name": "stdout",
     "output_type": "stream",
     "text": [
      "(0, '0.013*\"via\" + 0.011*\"cannabis\" + 0.010*\"smoke\" + 0.010*\"juul\"')\n",
      "(1, '0.025*\"follow\" + 0.024*\"dank\" + 0.020*\"turnup\" + 0.019*\"cali\"')\n",
      "(2, '0.038*\"marijuana\" + 0.027*\"cannabis\" + 0.022*\"latest\" + 0.020*\"smoke\"')\n",
      "(3, '0.035*\"juul\" + 0.032*\"vape\" + 0.019*\"cannabis\" + 0.019*\"latest\"')\n",
      "(4, '0.068*\"tobacco\" + 0.014*\"vaping\" + 0.013*\"tax\" + 0.010*\"smoking\"')\n"
     ]
    }
   ],
   "source": [
    "for topic in topics:\n",
    "    print(topic)"
   ]
  },
  {
   "cell_type": "code",
   "execution_count": 102,
   "metadata": {
    "scrolled": false
   },
   "outputs": [
    {
     "data": {
      "text/html": [
       "\n",
       "<link rel=\"stylesheet\" type=\"text/css\" href=\"https://cdn.rawgit.com/bmabey/pyLDAvis/files/ldavis.v1.0.0.css\">\n",
       "\n",
       "\n",
       "<div id=\"ldavis_el26884682816872274510031\"></div>\n",
       "<script type=\"text/javascript\">\n",
       "\n",
       "var ldavis_el26884682816872274510031_data = {\"mdsDat\": {\"x\": [0.04117852323210199, 0.18420868732316945, -0.04095042447757268, -0.03585580898515743, -0.14858097709254112], \"y\": [0.021089765905526324, 0.043221487484382475, 0.006628522234474103, -0.16943047934596872, 0.09849070372158582], \"topics\": [1, 2, 3, 4, 5], \"cluster\": [1, 1, 1, 1, 1], \"Freq\": [7.297305107116699, 3.821934700012207, 17.14638900756836, 22.497591018676758, 49.236785888671875]}, \"tinfo\": {\"Category\": [\"Default\", \"Default\", \"Default\", \"Default\", \"Default\", \"Default\", \"Default\", \"Default\", \"Default\", \"Default\", \"Default\", \"Default\", \"Default\", \"Default\", \"Default\", \"Default\", \"Default\", \"Default\", \"Default\", \"Default\", \"Default\", \"Default\", \"Default\", \"Default\", \"Default\", \"Default\", \"Default\", \"Default\", \"Default\", \"Default\", \"Topic1\", \"Topic1\", \"Topic1\", \"Topic1\", \"Topic1\", \"Topic1\", \"Topic1\", \"Topic1\", \"Topic1\", \"Topic1\", \"Topic1\", \"Topic1\", \"Topic1\", \"Topic1\", \"Topic1\", \"Topic1\", \"Topic1\", \"Topic1\", \"Topic1\", \"Topic1\", \"Topic1\", \"Topic1\", \"Topic1\", \"Topic1\", \"Topic1\", \"Topic1\", \"Topic1\", \"Topic1\", \"Topic1\", \"Topic1\", \"Topic1\", \"Topic1\", \"Topic1\", \"Topic1\", \"Topic1\", \"Topic1\", \"Topic1\", \"Topic1\", \"Topic1\", \"Topic1\", \"Topic1\", \"Topic1\", \"Topic1\", \"Topic1\", \"Topic1\", \"Topic1\", \"Topic1\", \"Topic1\", \"Topic1\", \"Topic1\", \"Topic1\", \"Topic1\", \"Topic1\", \"Topic1\", \"Topic1\", \"Topic1\", \"Topic1\", \"Topic1\", \"Topic1\", \"Topic1\", \"Topic1\", \"Topic1\", \"Topic1\", \"Topic1\", \"Topic1\", \"Topic1\", \"Topic1\", \"Topic2\", \"Topic2\", \"Topic2\", \"Topic2\", \"Topic2\", \"Topic2\", \"Topic2\", \"Topic2\", \"Topic2\", \"Topic2\", \"Topic2\", \"Topic2\", \"Topic2\", \"Topic2\", \"Topic2\", \"Topic2\", \"Topic2\", \"Topic2\", \"Topic2\", \"Topic2\", \"Topic2\", \"Topic2\", \"Topic2\", \"Topic2\", \"Topic2\", \"Topic2\", \"Topic2\", \"Topic2\", \"Topic2\", \"Topic2\", \"Topic2\", \"Topic2\", \"Topic2\", \"Topic2\", \"Topic2\", \"Topic2\", \"Topic2\", \"Topic2\", \"Topic2\", \"Topic2\", \"Topic2\", \"Topic2\", \"Topic2\", \"Topic2\", \"Topic2\", \"Topic2\", \"Topic2\", \"Topic2\", \"Topic2\", \"Topic2\", \"Topic2\", \"Topic3\", \"Topic3\", \"Topic3\", \"Topic3\", \"Topic3\", \"Topic3\", \"Topic3\", \"Topic3\", \"Topic3\", \"Topic3\", \"Topic3\", \"Topic3\", \"Topic3\", \"Topic3\", \"Topic3\", \"Topic3\", \"Topic3\", \"Topic3\", \"Topic3\", \"Topic3\", \"Topic3\", \"Topic3\", \"Topic3\", \"Topic3\", \"Topic3\", \"Topic3\", \"Topic3\", \"Topic3\", \"Topic3\", \"Topic3\", \"Topic3\", \"Topic3\", \"Topic3\", \"Topic3\", \"Topic3\", \"Topic3\", \"Topic3\", \"Topic3\", \"Topic3\", \"Topic3\", \"Topic3\", \"Topic3\", \"Topic3\", \"Topic3\", \"Topic3\", \"Topic3\", \"Topic3\", \"Topic3\", \"Topic3\", \"Topic3\", \"Topic3\", \"Topic3\", \"Topic3\", \"Topic3\", \"Topic3\", \"Topic3\", \"Topic3\", \"Topic3\", \"Topic3\", \"Topic3\", \"Topic3\", \"Topic3\", \"Topic3\", \"Topic3\", \"Topic3\", \"Topic4\", \"Topic4\", \"Topic4\", \"Topic4\", \"Topic4\", \"Topic4\", \"Topic4\", \"Topic4\", \"Topic4\", \"Topic4\", \"Topic4\", \"Topic4\", \"Topic4\", \"Topic4\", \"Topic4\", \"Topic4\", \"Topic4\", \"Topic4\", \"Topic4\", \"Topic4\", \"Topic4\", \"Topic4\", \"Topic4\", \"Topic4\", \"Topic4\", \"Topic4\", \"Topic4\", \"Topic4\", \"Topic4\", \"Topic4\", \"Topic4\", \"Topic4\", \"Topic4\", \"Topic4\", \"Topic4\", \"Topic4\", \"Topic4\", \"Topic4\", \"Topic4\", \"Topic4\", \"Topic4\", \"Topic4\", \"Topic4\", \"Topic4\", \"Topic4\", \"Topic4\", \"Topic4\", \"Topic4\", \"Topic4\", \"Topic4\", \"Topic4\", \"Topic4\", \"Topic4\", \"Topic4\", \"Topic4\", \"Topic4\", \"Topic4\", \"Topic4\", \"Topic4\", \"Topic4\", \"Topic4\", \"Topic4\", \"Topic4\", \"Topic4\", \"Topic4\", \"Topic4\", \"Topic4\", \"Topic4\", \"Topic4\", \"Topic4\", \"Topic4\", \"Topic4\", \"Topic5\", \"Topic5\", \"Topic5\", \"Topic5\", \"Topic5\", \"Topic5\", \"Topic5\", \"Topic5\", \"Topic5\", \"Topic5\", \"Topic5\", \"Topic5\", \"Topic5\", \"Topic5\", \"Topic5\", \"Topic5\", \"Topic5\", \"Topic5\", \"Topic5\", \"Topic5\", \"Topic5\", \"Topic5\", \"Topic5\", \"Topic5\", \"Topic5\", \"Topic5\", \"Topic5\", \"Topic5\", \"Topic5\", \"Topic5\", \"Topic5\", \"Topic5\", \"Topic5\", \"Topic5\", \"Topic5\", \"Topic5\", \"Topic5\", \"Topic5\", \"Topic5\", \"Topic5\", \"Topic5\", \"Topic5\", \"Topic5\", \"Topic5\", \"Topic5\", \"Topic5\", \"Topic5\", \"Topic5\", \"Topic5\", \"Topic5\", \"Topic5\", \"Topic5\", \"Topic5\", \"Topic5\", \"Topic5\", \"Topic5\", \"Topic5\", \"Topic5\", \"Topic5\", \"Topic5\", \"Topic5\", \"Topic5\", \"Topic5\", \"Topic5\", \"Topic5\", \"Topic5\", \"Topic5\", \"Topic5\"], \"Freq\": [4775.0, 1445.0, 1367.0, 1522.0, 1167.0, 2188.0, 1027.0, 542.0, 359.0, 612.0, 831.0, 351.0, 202.0, 527.0, 1227.0, 184.0, 1377.0, 210.0, 878.0, 258.0, 110.0, 111.0, 234.0, 225.0, 444.0, 253.0, 126.0, 135.0, 124.0, 175.0, 51.41753005981445, 14.546805381774902, 24.63483428955078, 8.465008735656738, 7.838192462921143, 6.763932228088379, 6.757242202758789, 6.237664222717285, 6.198136329650879, 7.481551647186279, 4.570562362670898, 4.020727634429932, 4.020496845245361, 4.00900411605835, 3.9658522605895996, 15.062467575073242, 3.4535365104675293, 3.4524970054626465, 3.944821834564209, 3.949903726577759, 3.431220054626465, 3.425647020339966, 3.4291021823883057, 4.897024154663086, 2.896852731704712, 2.8815078735351562, 2.8794784545898438, 102.54328155517578, 6.762232780456543, 2.874337911605835, 101.7966079711914, 13.960064888000488, 30.952180862426758, 13.299274444580078, 18.683448791503906, 98.11072540283203, 34.048118591308594, 13.858566284179688, 5.255720615386963, 62.76555252075195, 43.40810012817383, 8.418081283569336, 19.533231735229492, 100.62484741210938, 12.313262939453125, 26.56048583984375, 73.39757537841797, 133.2579803466797, 65.03563690185547, 9.506860733032227, 37.86602020263672, 112.60884857177734, 103.90827941894531, 76.20077514648438, 38.136199951171875, 103.8965835571289, 49.47444152832031, 78.9552230834961, 43.51272201538086, 23.46404457092285, 57.54306411743164, 23.06864356994629, 32.3791618347168, 19.96174430847168, 30.313846588134766, 25.747692108154297, 23.82187271118164, 107.14832305908203, 60.08393478393555, 19.844511032104492, 63.705745697021484, 60.06193161010742, 8.277969360351562, 101.54396057128906, 5.060231685638428, 29.611541748046875, 5.4100213050842285, 20.1739559173584, 3.807579278945923, 4.575572490692139, 74.282470703125, 22.459495544433594, 2.937666416168213, 3.570952892303467, 2.129382371902466, 4.203685283660889, 11.218904495239258, 1.734216570854187, 1.7282108068466187, 1.718174695968628, 1.707671880722046, 1.3304470777511597, 1.3257502317428589, 1.3209059238433838, 1.3177006244659424, 1.319532036781311, 123.92350006103516, 132.4486083984375, 26.258195877075195, 11.269164085388184, 22.747636795043945, 4.2363080978393555, 18.147911071777344, 4.606598377227783, 36.558963775634766, 61.26455307006836, 84.55986785888672, 21.562929153442383, 98.0630111694336, 48.09794998168945, 38.78959655761719, 15.754715919494629, 54.482112884521484, 16.39801788330078, 9.512198448181152, 11.530145645141602, 11.654715538024902, 12.043490409851074, 348.1878662109375, 54.640384674072266, 53.105133056640625, 54.6236572265625, 43.91156005859375, 62.35464096069336, 56.20549011230469, 30.709218978881836, 55.463890075683594, 95.06595611572266, 10.846940994262695, 10.099011421203613, 10.09090805053711, 14.403711318969727, 9.283397674560547, 30.67817497253418, 8.538488388061523, 8.51428508758545, 7.801373481750488, 7.689048767089844, 6.270015239715576, 6.24522066116333, 9.7549467086792, 46.41461944580078, 6.215880870819092, 9.765768051147461, 5.503805160522461, 6.213554859161377, 5.503054141998291, 5.4844069480896, 13.138606071472168, 67.83168029785156, 12.920705795288086, 91.55447387695312, 885.2388916015625, 26.944854736328125, 30.521011352539062, 68.75921630859375, 22.033817291259766, 133.92359924316406, 36.8040885925293, 31.58875846862793, 523.4749145507812, 639.0154418945312, 441.6658935546875, 457.64794921875, 459.2462158203125, 32.95993423461914, 132.81561279296875, 64.50762176513672, 62.5204963684082, 158.5548858642578, 69.31396484375, 85.64854431152344, 336.7055358886719, 121.9011459350586, 74.9285659790039, 126.17979431152344, 98.43453216552734, 71.11742401123047, 90.80027770996094, 82.03871154785156, 62.46824264526367, 68.60038757324219, 56.68933868408203, 255.35748291015625, 40.84020233154297, 33.404239654541016, 60.40817642211914, 54.732669830322266, 28.421911239624023, 52.2889518737793, 59.00827407836914, 56.707305908203125, 18.88926124572754, 18.097177505493164, 19.646129608154297, 39.22432327270508, 25.120939254760742, 20.412931442260742, 19.619657516479492, 21.15040397644043, 17.966541290283203, 19.555757522583008, 17.19462776184082, 17.156726837158203, 26.50289535522461, 15.590806007385254, 18.670297622680664, 64.76089477539062, 13.98746109008789, 16.282201766967773, 13.981779098510742, 30.917314529418945, 16.305452346801758, 118.08647918701172, 128.25640869140625, 90.02751922607422, 50.442543029785156, 234.76773071289062, 118.41178131103516, 108.4231185913086, 48.609596252441406, 120.50912475585938, 192.2652587890625, 54.17481231689453, 28.65932846069336, 64.73528289794922, 502.9629821777344, 61.30125045776367, 27.156875610351562, 93.5183334350586, 972.0587158203125, 581.137451171875, 78.83433532714844, 324.8868103027344, 63.57859802246094, 120.19369506835938, 81.16085052490234, 67.84869384765625, 1069.0406494140625, 193.07762145996094, 588.9243774414062, 499.4335021972656, 120.01212310791016, 102.93289184570312, 596.2010498046875, 145.1048126220703, 201.02232360839844, 370.70281982421875, 363.1663513183594, 130.79257202148438, 318.8031311035156, 131.52957153320312, 171.86949157714844, 175.5635223388672, 114.18742370605469, 85.24689483642578, 75.26863861083984, 112.42048645019531, 189.06210327148438, 49.560142517089844, 110.95352172851562, 75.75337219238281, 58.53961181640625, 67.2851791381836, 80.79521179199219, 127.35027313232422, 102.4219970703125, 93.23076629638672, 51.04512405395508, 39.34846115112305, 35.691429138183594, 41.14674758911133, 54.83939743041992, 856.3439331054688, 44.49143600463867, 24.919214248657227, 31.09600067138672, 36.5259895324707, 42.7613639831543, 29.33882713317871, 24.857633590698242, 23.945533752441406, 243.3178253173828, 20.35304832458496, 36.156715393066406, 4566.73193359375, 119.63453674316406, 146.89149475097656, 59.22371292114258, 45.808372497558594, 276.25115966796875, 435.3387756347656, 172.89556884765625, 147.3979949951172, 565.505126953125, 355.26385498046875, 316.07757568359375, 183.0467987060547, 187.047119140625, 275.3569641113281, 160.37173461914062, 214.81033325195312, 147.93650817871094, 232.0504608154297, 184.66329956054688, 334.9620361328125, 442.33154296875, 930.4971313476562, 255.82032775878906, 294.7895812988281, 361.0885925292969, 691.1781005859375, 193.85133361816406, 213.02267456054688, 337.6155090332031, 185.36990356445312, 491.1044921875, 624.6818237304688, 191.32350158691406, 336.5089416503906, 193.55014038085938, 215.48593139648438, 199.6786346435547], \"Term\": [\"tobacco\", \"marijuana\", \"vape\", \"cannabis\", \"latest\", \"juul\", \"thanks\", \"weed\", \"like\", \"ecig\", \"daily\", \"fetish\", \"follow\", \"via\", \"smoking\", \"dank\", \"smoke\", \"life\", \"tax\", \"toker\", \"turnup\", \"cali\", \"story\", \"high\", \"cbd\", \"pod\", \"view\", \"vaper\", \"ready\", \"dope\", \"topstories\", \"cigarlife\", \"cigarillo\", \"swishers\", \"toffee\", \"epic\", \"kanyewest\", \"filteredcigars\", \"kardashians\", \"spots\", \"fronto\", \"toroglass\", \"toro\", \"clipper\", \"ico\", \"privilege\", \"swishersweets\", \"palma\", \"western\", \"studio\", \"hurricane\", \"beats\", \"santaclarita\", \"compilation\", \"russiancream\", \"wawx\", \"beatlife\", \"ready\", \"kimkardashian\", \"scripture\", \"view\", \"backwoods\", \"nutrition\", \"korea\", \"white\", \"vaper\", \"wildfire\", \"filter\", \"rollup\", \"joint\", \"cigar\", \"tom\", \"card\", \"story\", \"meme\", \"grass\", \"pot\", \"via\", \"news\", \"sticker\", \"dope\", \"cannabis\", \"smoke\", \"daily\", \"us\", \"juul\", \"get\", \"marijuana\", \"weed\", \"buy\", \"tobacco\", \"available\", \"new\", \"video\", \"vaping\", \"health\", \"vape\", \"turnup\", \"bake\", \"instapic\", \"swag\", \"followme\", \"kingdom\", \"cali\", \"seo\", \"birthday\", \"hotel\", \"nofilter\", \"scandal\", \"sesh\", \"music\", \"highsociety\", \"smokesesh\", \"fuck\", \"cousin\", \"anime\", \"bro\", \"handle\", \"disneyland\", \"loveit\", \"tat\", \"mwm\", \"plaza\", \"wacky\", \"rhubarb\", \"cookiessf\", \"dank\", \"follow\", \"rap\", \"london\", \"hiphop\", \"injunction\", \"fun\", \"dat\", \"happy\", \"life\", \"like\", \"kush\", \"weed\", \"high\", \"dope\", \"love\", \"juul\", \"find\", \"leading\", \"join\", \"one\", \"tobacco\", \"fetish\", \"lamp\", \"sans\", \"void\", \"undertale\", \"dankmemes\", \"donaldtrump\", \"console\", \"minecraft\", \"fortnite\", \"smg\", \"detector\", \"gotvape\", \"ptsd\", \"testing\", \"xbox\", \"grind\", \"sharpe\", \"meddevice\", \"impair\", \"gadget\", \"rva\", \"nypd\", \"mme\", \"inflammation\", \"delaware\", \"cbdfx\", \"latino\", \"sweepstakes\", \"anewny\", \"contest\", \"legalization\", \"possession\", \"canada\", \"marijuana\", \"ninja\", \"streaming\", \"regulatory\", \"arrest\", \"medical\", \"colorado\", \"recreational\", \"latest\", \"cannabis\", \"thanks\", \"smoking\", \"smoke\", \"brain\", \"hemp\", \"legalize\", \"drug\", \"via\", \"legal\", \"pot\", \"juul\", \"weed\", \"story\", \"daily\", \"health\", \"news\", \"use\", \"new\", \"state\", \"cbd\", \"study\", \"toker\", \"woodstock\", \"vitacig\", \"eonsmoke\", \"budlight\", \"weeddelivery\", \"vapedaily\", \"suorin\", \"cbdvape\", \"wkd\", \"pk\", \"yoga\", \"saltnic\", \"saltnicotine\", \"eonpods\", \"yocan\", \"ceramic\", \"cannabisdelivery\", \"authentic\", \"nebraska\", \"cbdcartridge\", \"nicsalts\", \"subohm\", \"vegan\", \"starter\", \"richmondhill\", \"clay\", \"greezythecorner\", \"salt\", \"thcoil\", \"juulpods\", \"kit\", \"vapepen\", \"coil\", \"pod\", \"eliquid\", \"juulvapor\", \"cartridge\", \"vapenation\", \"ejuice\", \"juulgang\", \"phix\", \"pen\", \"ecig\", \"wax\", \"cheer\", \"stock\", \"vape\", \"daily\", \"cbdoil\", \"cbd\", \"juulnation\", \"vapefam\", \"bud\", \"juice\", \"juul\", \"vapelife\", \"latest\", \"thanks\", \"vaporizer\", \"herb\", \"cannabis\", \"vapor\", \"get\", \"vaping\", \"marijuana\", \"vapeshop\", \"smoke\", \"flavor\", \"weed\", \"new\", \"hemp\", \"ncds\", \"racket\", \"parasite\", \"harmless\", \"fctc\", \"poor\", \"profits\", \"lie\", \"govt\", \"smokeless\", \"tobaccocontrol\", \"con\", \"notblowingsmoke\", \"nz\", \"ppl\", \"illicit\", \"eliminate\", \"streamer\", \"tax\", \"robbery\", \"income\", \"webinar\", \"rob\", \"india\", \"fakenews\", \"abolishtc\", \"bond\", \"publichealth\", \"aafp\", \"profit\", \"tobacco\", \"cause\", \"protect\", \"global\", \"bigtobacco\", \"control\", \"ecigs\", \"youth\", \"harm\", \"product\", \"big\", \"nicotine\", \"quit\", \"ban\", \"industry\", \"public\", \"kid\", \"risk\", \"people\", \"stop\", \"cigarette\", \"use\", \"vaping\", \"fda\", \"http\", \"health\", \"smoking\", \"smoker\", \"make\", \"new\", \"vapeporn\", \"smoke\", \"juul\", \"say\", \"vape\", \"know\", \"via\", \"like\"], \"Total\": [4775.0, 1445.0, 1367.0, 1522.0, 1167.0, 2188.0, 1027.0, 542.0, 359.0, 612.0, 831.0, 351.0, 202.0, 527.0, 1227.0, 184.0, 1377.0, 210.0, 878.0, 258.0, 110.0, 111.0, 234.0, 225.0, 444.0, 253.0, 126.0, 135.0, 124.0, 175.0, 52.84013366699219, 15.263588905334473, 26.21782684326172, 9.08584976196289, 8.538805961608887, 7.413469314575195, 7.41555118560791, 6.848998069763184, 6.858038902282715, 8.419401168823242, 5.170104026794434, 4.607907295227051, 4.608057498931885, 4.612532138824463, 4.618772029876709, 17.663333892822266, 4.052746772766113, 4.053471565246582, 4.633116722106934, 4.640289306640625, 4.052103519439697, 4.051118850708008, 4.0576605796813965, 5.883558750152588, 3.4934401512145996, 3.493454933166504, 3.4951729774475098, 124.59228515625, 8.229975700378418, 3.4986870288848877, 126.90765380859375, 17.167831420898438, 39.05224609375, 16.805999755859375, 23.86180305480957, 135.25091552734375, 47.17148971557617, 18.954465866088867, 6.465209007263184, 106.80154418945312, 75.87605285644531, 11.265280723571777, 30.857290267944336, 234.6380615234375, 19.359210968017578, 52.557796478271484, 216.7832794189453, 527.4874267578125, 225.1260223388672, 14.317524909973145, 175.72865295410156, 1522.8505859375, 1377.5574951171875, 831.8416137695312, 234.1415557861328, 2188.806640625, 478.0674133300781, 1445.4969482421875, 542.8287353515625, 113.08130645751953, 4775.33642578125, 136.23110961914062, 629.89453125, 82.18807983398438, 1375.0316162109375, 518.9056396484375, 1367.2088623046875, 110.03861236572266, 62.852420806884766, 20.889005661010742, 68.50811004638672, 66.01656341552734, 9.10307502746582, 111.8404312133789, 5.711435794830322, 33.78083038330078, 6.199391841888428, 23.23320960998535, 4.454095363616943, 5.356318950653076, 88.36817169189453, 27.369279861450195, 3.6579031944274902, 4.700527191162109, 2.81998348236084, 5.72890567779541, 15.364022254943848, 2.3773887157440186, 2.3823115825653076, 2.373915672302246, 2.404174327850342, 1.948743224143982, 1.954386830329895, 1.9590935707092285, 1.9551055431365967, 1.958335518836975, 184.80406188964844, 202.89540100097656, 39.75188446044922, 18.08742332458496, 38.24871826171875, 6.703171730041504, 36.352935791015625, 7.640443801879883, 92.74395751953125, 210.48977661132812, 359.08331298828125, 63.68584060668945, 542.8287353515625, 225.58505249023438, 175.72865295410156, 110.11634063720703, 2188.806640625, 198.6056365966797, 49.86428451538086, 104.8711929321289, 223.07208251953125, 4775.33642578125, 351.5152893066406, 55.236270904541016, 53.69956588745117, 55.23754119873047, 44.4807243347168, 63.48469924926758, 57.333282470703125, 31.41127586364746, 57.12758255004883, 99.35009002685547, 11.447012901306152, 10.672340393066406, 10.6689453125, 15.304758071899414, 9.90782642364502, 32.7848014831543, 9.141633987426758, 9.117491722106934, 8.379652976989746, 8.370870590209961, 6.834171772003174, 6.840379238128662, 10.701836585998535, 50.94609832763672, 6.8315582275390625, 10.748085021972656, 6.065391540527344, 6.8538923263549805, 6.070738315582275, 6.059696674346924, 14.667630195617676, 79.61189270019531, 14.648080825805664, 114.44929504394531, 1445.4969482421875, 33.6667594909668, 38.69858932495117, 95.4442367553711, 27.59197425842285, 229.4755401611328, 51.0107421875, 42.6318244934082, 1167.7728271484375, 1522.8505859375, 1027.0166015625, 1227.5321044921875, 1377.5574951171875, 48.3526611328125, 296.3747863769531, 118.5496826171875, 119.06063079833984, 527.4874267578125, 149.57318115234375, 216.7832794189453, 2188.806640625, 542.8287353515625, 234.6380615234375, 831.8416137695312, 518.9056396484375, 225.1260223388672, 583.5303344726562, 629.89453125, 165.36282348632812, 444.5971374511719, 223.349609375, 258.95794677734375, 41.57672882080078, 34.19810485839844, 61.8758430480957, 56.091026306152344, 29.292503356933594, 53.90365219116211, 60.884159088134766, 58.57478713989258, 19.51963996887207, 18.702468872070312, 20.316898345947266, 40.6052131652832, 26.015361785888672, 21.141033172607422, 20.331859588623047, 21.93421173095703, 18.651443481445312, 20.305269241333008, 17.88681983947754, 17.852436065673828, 27.588422775268555, 16.239572525024414, 19.470048904418945, 67.5426254272461, 14.589139938354492, 16.98604393005371, 14.59033203125, 32.302852630615234, 17.036285400390625, 124.0107192993164, 135.57479858398438, 95.31526947021484, 53.189083099365234, 253.4310760498047, 126.15641784667969, 116.41717529296875, 51.36724853515625, 130.86415100097656, 212.83169555664062, 57.8031120300293, 30.096370697021484, 70.51615142822266, 612.736083984375, 67.22651672363281, 28.537574768066406, 107.63825988769531, 1367.2088623046875, 831.8416137695312, 91.43302154541016, 444.5971374511719, 72.60743713378906, 150.74749755859375, 96.43517303466797, 78.3561019897461, 2188.806640625, 281.1037902832031, 1167.7728271484375, 1027.0166015625, 165.1744384765625, 135.43728637695312, 1522.8505859375, 240.68994140625, 478.0674133300781, 1375.0316162109375, 1445.4969482421875, 241.64483642578125, 1377.5574951171875, 257.9463806152344, 542.8287353515625, 629.89453125, 296.3747863769531, 86.46366119384766, 76.40616607666016, 114.13539123535156, 192.45660400390625, 50.50996398925781, 113.1109390258789, 77.24496459960938, 59.70124435424805, 68.80684661865234, 82.69273376464844, 130.34474182128906, 104.83865356445312, 95.46416473388672, 52.277584075927734, 40.316078186035156, 36.57637023925781, 42.168453216552734, 56.23152542114258, 878.92626953125, 45.72288131713867, 25.620548248291016, 31.97157096862793, 37.55936050415039, 44.00572204589844, 30.214298248291016, 25.610576629638672, 24.68669319152832, 250.92396545410156, 20.993892669677734, 37.31068801879883, 4775.33642578125, 123.75978088378906, 152.79629516601562, 61.73650360107422, 47.559043884277344, 298.4344787597656, 485.113525390625, 187.83726501464844, 159.7909393310547, 649.076171875, 402.69744873046875, 364.8321838378906, 205.55499267578125, 210.61093139648438, 320.00091552734375, 179.856201171875, 250.26803588867188, 167.1755828857422, 276.4165954589844, 214.60174560546875, 423.47979736328125, 583.5303344726562, 1375.0316162109375, 318.1603698730469, 376.187255859375, 518.9056396484375, 1227.5321044921875, 236.70068359375, 289.6180114746094, 629.89453125, 248.10906982421875, 1377.5574951171875, 2188.806640625, 274.53570556640625, 1367.2088623046875, 294.42095947265625, 527.4874267578125, 359.08331298828125], \"loglift\": [30.0, 29.0, 28.0, 27.0, 26.0, 25.0, 24.0, 23.0, 22.0, 21.0, 20.0, 19.0, 18.0, 17.0, 16.0, 15.0, 14.0, 13.0, 12.0, 11.0, 10.0, 9.0, 8.0, 7.0, 6.0, 5.0, 4.0, 3.0, 2.0, 1.0, 2.590399980545044, 2.5696001052856445, 2.5553998947143555, 2.5469000339508057, 2.532099962234497, 2.5260000228881836, 2.5246999263763428, 2.524199962615967, 2.5164999961853027, 2.4995999336242676, 2.4944000244140625, 2.4814000129699707, 2.481300115585327, 2.477400064468384, 2.4653000831604004, 2.458400011062622, 2.45770001411438, 2.457200050354004, 2.4567999839782715, 2.4565999507904053, 2.4512999057769775, 2.450000047683716, 2.449399948120117, 2.4340999126434326, 2.4303998947143555, 2.425100088119507, 2.4238998889923096, 2.4228999614715576, 2.4212000370025635, 2.421099901199341, 2.397200107574463, 2.410799980163574, 2.385200023651123, 2.3835999965667725, 2.372999906539917, 2.296600103378296, 2.2916998863220215, 2.304500102996826, 2.4105000495910645, 2.0861001014709473, 2.0592000484466553, 2.3262999057769775, 2.160399913787842, 1.7710000276565552, 2.1651999950408936, 1.9351999759674072, 1.5347000360488892, 1.2417999505996704, 1.3759000301361084, 2.208199977874756, 1.082800030708313, 0.013199999928474426, 0.03310000151395798, 0.227400004863739, 0.8029000163078308, -0.4300999939441681, 0.34940001368522644, -0.2897000014781952, 0.09390000253915787, 1.0449999570846558, -1.8009999990463257, 0.8417999744415283, -0.35040000081062317, 1.2024999856948853, -1.1970000267028809, -0.385699987411499, -1.4322999715805054, 3.237799882888794, 3.219399929046631, 3.213099956512451, 3.191699981689453, 3.1698999404907227, 3.1693999767303467, 3.167799949645996, 3.143399953842163, 3.132699966430664, 3.128200054168701, 3.123199939727783, 3.107599973678589, 3.1068999767303467, 3.0908000469207764, 3.066699981689453, 3.045099973678589, 2.9895999431610107, 2.9835000038146973, 2.954900026321411, 2.950000047683716, 2.9489998817443848, 2.9433999061584473, 2.9410998821258545, 2.922300100326538, 2.882699966430664, 2.876300096511841, 2.8701999187469482, 2.8698999881744385, 2.8696000576019287, 2.864799976348877, 2.837899923324585, 2.8496999740600586, 2.791300058364868, 2.744800090789795, 2.805500030517578, 2.569700002670288, 2.7583999633789062, 2.3334999084472656, 2.0302000045776367, 1.8183000087738037, 2.1814000606536865, 1.5532000064849854, 1.718999981880188, 1.753600001335144, 1.3200000524520874, -0.42879998683929443, 0.7702999711036682, 1.607699990272522, 1.0565999746322632, 0.3125999867916107, -2.7183001041412354, 1.7539000511169434, 1.752500057220459, 1.7523000240325928, 1.7522000074386597, 1.750499963760376, 1.7453999519348145, 1.743499994277954, 1.7408000230789185, 1.7338000535964966, 1.7193000316619873, 1.7094999551773071, 1.7081999778747559, 1.7077000141143799, 1.7027000188827515, 1.6983000040054321, 1.6970000267028809, 1.695099949836731, 1.6949000358581543, 1.6919000148773193, 1.6784000396728516, 1.6771999597549438, 1.6723999977111816, 1.670699954032898, 1.670199990272522, 1.6689000129699707, 1.6675000190734863, 1.666200041770935, 1.6653000116348267, 1.6651999950408936, 1.663599967956543, 1.6533000469207764, 1.6031999588012695, 1.6378999948501587, 1.5401999950408936, 1.2730000019073486, 1.5406999588012695, 1.5260000228881836, 1.4355000257492065, 1.5384000539779663, 1.2249000072479248, 1.437000036239624, 1.4636000394821167, 0.9610000252723694, 0.8949999809265137, 0.9194999933242798, 0.7767000198364258, 0.664900004863739, 1.3802000284194946, 0.9606999754905701, 1.1548000574111938, 1.1191999912261963, 0.5613999962806702, 0.9941999912261963, 0.8346999883651733, -0.10849999636411667, 0.26980000734329224, 0.6219000220298767, -0.1225999966263771, 0.10109999775886536, 0.6111000180244446, -0.09709999710321426, -0.2750000059604645, 0.789900004863739, -0.1054999977350235, 0.3921999931335449, 1.4778000116348267, 1.4738999605178833, 1.4682999849319458, 1.4678000211715698, 1.4672000408172607, 1.4615999460220337, 1.461300015449524, 1.4605000019073486, 1.4594000577926636, 1.458899974822998, 1.458899974822998, 1.4581999778747559, 1.457200050354004, 1.4567999839782715, 1.4566999673843384, 1.4560999870300293, 1.455399990081787, 1.454300045967102, 1.454200029373169, 1.452299952507019, 1.4520000219345093, 1.4515999555587769, 1.4509999752044678, 1.4498000144958496, 1.4496999979019165, 1.4495999813079834, 1.4493999481201172, 1.4492000341415405, 1.4479000568389893, 1.4479000568389893, 1.4428000450134277, 1.4363000392913818, 1.4347000122070312, 1.4386999607086182, 1.4153000116348267, 1.4284000396728516, 1.4206000566482544, 1.4365999698638916, 1.4092999696731567, 1.3901000022888184, 1.426900029182434, 1.4428000450134277, 1.4062000513076782, 1.2942999601364136, 1.3995000123977661, 1.442199945449829, 1.351099967956543, 1.1506999731063843, 1.1331000328063965, 1.343500018119812, 1.1780999898910522, 1.3589999675750732, 1.2653000354766846, 1.3193000555038452, 1.3478000164031982, 0.7752000093460083, 1.1160999536514282, 0.807200014591217, 0.770799994468689, 1.1723999977111816, 1.2173000574111938, 0.5540000200271606, 0.9857000112533569, 0.6254000067710876, 0.1808999925851822, 0.1103999987244606, 0.8779000043869019, 0.028300000354647636, 0.8181999921798706, 0.3416999876499176, 0.2142000049352646, 0.5379999876022339, 0.6944000124931335, 0.6934999823570251, 0.6934000253677368, 0.6906999945640564, 0.6894999742507935, 0.689300000667572, 0.6890000104904175, 0.6888999938964844, 0.6862000226974487, 0.6852999925613403, 0.6852999925613403, 0.6851999759674072, 0.6848999857902527, 0.6847000122070312, 0.6841999888420105, 0.6840000152587891, 0.6840000152587891, 0.6834999918937683, 0.6825000047683716, 0.6812000274658203, 0.6808000206947327, 0.6808000206947327, 0.6805999875068665, 0.6797999739646912, 0.679099977016449, 0.6786999702453613, 0.6779999732971191, 0.6776999831199646, 0.6775000095367432, 0.6771000027656555, 0.6639000177383423, 0.6746000051498413, 0.6690999865531921, 0.6669999957084656, 0.6710000038146973, 0.6312999725341797, 0.6003000140190125, 0.6255999803543091, 0.6277999877929688, 0.5706999897956848, 0.5831999778747559, 0.5651000142097473, 0.5925999879837036, 0.589900016784668, 0.5583000183105469, 0.5939000248908997, 0.5558000206947327, 0.5863000154495239, 0.5335999727249146, 0.5583000183105469, 0.4740000069141388, 0.43149998784065247, 0.3179999887943268, 0.4903999865055084, 0.46470001339912415, 0.3458999991416931, 0.13420000672340393, 0.5088000297546387, 0.40139999985694885, 0.08489999920129776, 0.4169999957084656, -0.3228999972343445, -0.5453000068664551, 0.3474000096321106, -0.6934000253677368, 0.2890999913215637, -0.1867000013589859, 0.1216999962925911], \"logprob\": [30.0, 29.0, 28.0, 27.0, 26.0, 25.0, 24.0, 23.0, 22.0, 21.0, 20.0, 19.0, 18.0, 17.0, 16.0, 15.0, 14.0, 13.0, 12.0, 11.0, 10.0, 9.0, 8.0, 7.0, 6.0, 5.0, 4.0, 3.0, 2.0, 1.0, -5.270199775695801, -6.532800197601318, -6.00600004196167, -7.07420015335083, -7.151199817657471, -7.298600196838379, -7.299499988555908, -7.3796000480651855, -7.385900020599365, -7.197700023651123, -7.690499782562256, -7.818699836730957, -7.81879997253418, -7.821599960327148, -7.832399845123291, -6.498000144958496, -7.970799922943115, -7.971099853515625, -7.837800025939941, -7.83650016784668, -7.977200031280518, -7.978899955749512, -7.97790002822876, -7.621500015258789, -8.146499633789062, -8.151800155639648, -8.15250015258789, -4.579899787902832, -7.298799991607666, -8.15429973602295, -4.587200164794922, -6.573999881744385, -5.777699947357178, -6.622399806976318, -6.28249979019165, -4.624100208282471, -5.682400226593018, -6.581299781799316, -7.55079984664917, -5.070799827575684, -5.439499855041504, -7.079800128936768, -6.23799991607666, -4.598800182342529, -6.69950008392334, -5.930699825286865, -4.914299964904785, -4.31790018081665, -5.035200119018555, -6.958099842071533, -5.576099872589111, -4.486199855804443, -4.5665998458862305, -4.876800060272217, -5.568999767303467, -4.566800117492676, -5.308700084686279, -4.841300010681152, -5.437099933624268, -6.054699897766113, -5.157599925994873, -6.071700096130371, -5.732600212097168, -6.216300010681152, -5.798600196838379, -5.9618000984191895, -6.039599895477295, -3.88919997215271, -4.467700004577637, -5.575500011444092, -4.40910005569458, -4.4679999351501465, -6.44980001449585, -3.9428999423980713, -6.941999912261963, -5.17519998550415, -6.875199794769287, -5.559000015258789, -7.226399898529053, -7.042699813842773, -4.255499839782715, -5.451700210571289, -7.485799789428711, -7.290599822998047, -7.807600021362305, -7.127399921417236, -6.1458001136779785, -8.012900352478027, -8.016300201416016, -8.022100448608398, -8.028300285339355, -8.277899742126465, -8.281399726867676, -8.285099983215332, -8.287500381469727, -8.286100387573242, -3.7437000274658203, -3.6772000789642334, -5.295400142669678, -6.141300201416016, -5.438899993896484, -7.119699954986572, -5.664899826049805, -7.035900115966797, -4.9644999504089355, -4.448200225830078, -4.125999927520752, -5.492400169372559, -3.977799892425537, -4.690199851989746, -4.905300140380859, -5.806300163269043, -4.565499782562256, -5.766200065612793, -6.310800075531006, -6.1184000968933105, -6.107699871063232, -6.074900150299072, -4.211699962615967, -6.063700199127197, -6.092199802398682, -6.064000129699707, -6.282299995422363, -5.931600093841553, -6.035399913787842, -6.639900207519531, -6.048699855804443, -5.509900093078613, -7.680600166320801, -7.751999855041504, -7.752799987792969, -7.396999835968018, -7.83620023727417, -6.640900135040283, -7.919899940490723, -7.922699928283691, -8.010100364685059, -8.0246000289917, -8.228699684143066, -8.232600212097168, -7.7866997718811035, -6.226799964904785, -8.237299919128418, -7.785600185394287, -8.359000205993652, -8.237700462341309, -8.359100341796875, -8.362500190734863, -7.488900184631348, -5.847400188446045, -7.5055999755859375, -5.547500133514404, -3.278599977493286, -6.770599842071533, -6.645999908447266, -5.833799839019775, -6.97189998626709, -5.167200088500977, -6.458799839019775, -6.611599922180176, -3.803999900817871, -3.6045000553131104, -3.973900079727173, -3.9382998943328857, -3.9349000453948975, -6.5690999031066895, -5.17549991607666, -5.89769983291626, -5.928899765014648, -4.998300075531006, -5.825799942016602, -5.614200115203857, -4.245200157165527, -5.261199951171875, -5.747900009155273, -5.2266998291015625, -5.474999904632568, -5.800099849700928, -5.555799961090088, -5.657199859619141, -5.929800033569336, -5.836100101470947, -6.026899814605713, -4.793399810791016, -6.626399993896484, -6.827400207519531, -6.234899997711182, -6.333600044250488, -6.988900184631348, -6.379300117492676, -6.258399963378906, -6.2982001304626465, -7.397500038146973, -7.440299987792969, -7.3582000732421875, -6.666800022125244, -7.112400054931641, -7.319900035858154, -7.359499931335449, -7.28439998626709, -7.4475998878479, -7.362800121307373, -7.491499900817871, -7.49370002746582, -7.058800220489502, -7.589399814605713, -7.40910005569458, -6.16540002822876, -7.69789981842041, -7.546000003814697, -7.698299884796143, -6.904699802398682, -7.544600009918213, -5.564599990844727, -5.48199987411499, -5.835899829864502, -6.415200233459473, -4.877500057220459, -5.5619001388549805, -5.650000095367432, -6.452199935913086, -5.544300079345703, -5.077199935913086, -6.343800067901611, -6.980599880218506, -6.165800094604492, -4.115499973297119, -6.220300197601318, -7.03439998626709, -5.797900199890137, -3.4565999507904053, -3.971100091934204, -5.968699932098389, -4.552599906921387, -6.183800220489502, -5.546999931335449, -5.939599990844727, -6.118800163269043, -3.3615000247955322, -5.072999954223633, -3.9577999114990234, -4.122600078582764, -5.548500061035156, -5.702000141143799, -3.945499897003174, -5.35860013961792, -5.032599925994873, -4.4207000732421875, -4.441199779510498, -5.462399959564209, -4.571499824523926, -5.4567999839782715, -5.189300060272217, -5.168099880218506, -5.598199844360352, -6.673699855804443, -6.7982001304626465, -6.396999835968018, -5.877200126647949, -7.216100215911865, -6.410200119018555, -6.791800022125244, -7.049600124359131, -6.910399913787842, -6.727399826049805, -6.27239990234375, -6.490200042724609, -6.584199905395508, -7.186600208282471, -7.446800231933594, -7.544400215148926, -7.402100086212158, -7.1149001121521, -4.366600036621094, -7.323999881744385, -7.90369987487793, -7.682199954986572, -7.521299839019775, -7.363699913024902, -7.7403998374938965, -7.906099796295166, -7.94350004196167, -5.624899864196777, -8.106100082397461, -7.531400203704834, -2.692699909210205, -6.33489990234375, -6.1296000480651855, -7.038000106811523, -7.2947998046875, -5.498000144958496, -5.0432000160217285, -5.966599941253662, -6.126200199127197, -4.781599998474121, -5.246399879455566, -5.36329984664917, -5.909599781036377, -5.887899875640869, -5.501200199127197, -6.041800022125244, -5.749499797821045, -6.122499942779541, -5.672299861907959, -5.9008002281188965, -5.305300235748291, -5.027200222015381, -4.283599853515625, -5.57480001449585, -5.433000087738037, -5.230199813842773, -4.580900192260742, -5.852200031280518, -5.757900238037109, -5.297399997711182, -5.896900177001953, -4.922599792480469, -4.68209981918335, -5.865300178527832, -5.3007001876831055, -5.853799819946289, -5.746399879455566, -5.8225998878479]}, \"token.table\": {\"Topic\": [5, 5, 3, 2, 3, 5, 1, 2, 3, 5, 4, 1, 2, 3, 4, 5, 1, 4, 1, 2, 5, 1, 2, 3, 4, 5, 1, 1, 1, 2, 3, 4, 5, 3, 5, 2, 4, 5, 5, 3, 4, 5, 2, 4, 5, 1, 2, 3, 4, 5, 1, 4, 1, 3, 4, 5, 1, 2, 3, 4, 5, 1, 3, 4, 5, 1, 2, 3, 4, 5, 4, 1, 3, 4, 5, 3, 4, 5, 3, 4, 5, 1, 2, 3, 4, 5, 4, 3, 1, 3, 4, 5, 3, 4, 4, 4, 5, 1, 3, 4, 5, 1, 2, 3, 4, 5, 1, 5, 1, 4, 1, 4, 5, 1, 3, 4, 5, 1, 5, 3, 5, 3, 3, 5, 1, 3, 4, 5, 2, 2, 1, 2, 3, 4, 5, 1, 2, 3, 4, 5, 1, 3, 2, 3, 3, 5, 3, 2, 1, 3, 1, 2, 3, 4, 5, 1, 3, 4, 5, 1, 2, 3, 4, 5, 1, 2, 3, 4, 5, 1, 3, 4, 5, 5, 1, 3, 4, 5, 4, 4, 5, 1, 5, 5, 1, 3, 4, 5, 1, 2, 3, 5, 1, 4, 5, 1, 1, 2, 3, 4, 5, 1, 3, 4, 5, 1, 2, 3, 4, 5, 2, 5, 3, 4, 5, 1, 2, 4, 1, 2, 3, 4, 5, 3, 1, 2, 3, 4, 5, 1, 3, 5, 3, 1, 3, 5, 1, 2, 3, 4, 5, 4, 3, 2, 1, 2, 3, 4, 5, 1, 3, 4, 5, 1, 3, 4, 5, 1, 2, 3, 4, 5, 1, 2, 3, 4, 5, 1, 2, 3, 4, 5, 1, 2, 3, 4, 5, 2, 3, 4, 5, 1, 2, 3, 4, 5, 2, 1, 2, 3, 4, 5, 1, 1, 5, 3, 5, 4, 5, 1, 2, 3, 4, 5, 3, 2, 5, 2, 1, 2, 3, 4, 5, 1, 2, 3, 4, 5, 1, 2, 3, 4, 5, 1, 2, 3, 4, 5, 1, 3, 4, 5, 2, 3, 4, 5, 1, 3, 4, 5, 1, 3, 4, 5, 1, 1, 1, 2, 3, 4, 5, 1, 4, 2, 1, 3, 4, 5, 1, 2, 3, 4, 5, 1, 3, 5, 1, 2, 3, 4, 5, 3, 1, 2, 3, 4, 5, 3, 2, 3, 5, 1, 2, 3, 4, 5, 1, 3, 4, 5, 1, 3, 4, 5, 5, 1, 2, 3, 4, 5, 1, 2, 3, 4, 5, 1, 2, 4, 5, 1, 2, 3, 4, 5, 2, 1, 2, 3, 4, 5, 1, 2, 3, 4, 5, 3, 1, 2, 3, 4, 5, 1, 3, 4, 1, 3, 1, 3, 5, 1, 2, 3, 4, 5, 2, 5, 4, 1, 2, 3, 4, 5, 1, 2, 3, 4, 5, 1, 2, 3, 4, 5, 4, 1, 3, 5, 2, 5, 1, 4, 5, 1, 3, 5, 3, 4, 5, 1, 2, 3, 4, 5, 1, 1, 3, 5, 1, 3, 4, 5, 1, 2, 3, 4, 5, 3, 4, 5, 4, 2, 1, 2, 3, 4, 5, 1, 3, 5, 3, 5, 1, 2, 3, 4, 5, 5, 1, 5, 1, 2, 3, 4, 5, 5, 3, 5, 1, 3, 4, 5, 3, 1, 2, 3, 4, 5, 1, 3, 4, 5, 1, 2, 3, 4, 5, 5, 1, 2, 3, 4, 5, 1, 2, 3, 4, 5, 1, 3, 4, 5, 3, 5, 2, 4, 1, 3, 4, 5, 5, 1, 5, 1, 3, 1, 3, 1, 4, 1, 4, 5, 4, 3, 1, 1, 2, 3, 4, 5, 2, 1, 2, 2, 3, 3, 1, 2, 3, 4, 5, 4, 5, 1, 3, 4, 5, 2, 1, 2, 3, 4, 5, 1, 1, 4, 5, 1, 2, 3, 4, 5, 1, 4, 1, 3, 4, 5, 1, 2, 3, 4, 5, 1, 3, 4, 5, 2, 5, 3, 4, 5, 1, 1, 3, 4, 5, 4, 1, 4, 5, 2, 3, 4, 5, 3, 1, 1, 2, 1, 2, 3, 4, 5, 3, 1, 2, 3, 4, 5, 4, 1, 2, 3, 4, 5, 1, 3, 4, 5, 1, 2, 3, 4, 5, 1, 2, 3, 5, 1, 4, 1, 1, 1, 2, 3, 5, 3, 1, 2, 3, 4, 5, 1, 2, 3, 4, 5, 1, 2, 3, 4, 5, 4, 5, 1, 3, 4, 5, 1, 3, 4, 5, 1, 3, 4, 5, 1, 3, 4, 5, 1, 3, 4, 5, 1, 3, 4, 5, 1, 3, 4, 5, 1, 2, 3, 4, 5, 1, 3, 4, 5, 1, 3, 4, 5, 4, 1, 2, 3, 4, 5, 1, 3, 4, 5, 1, 3, 4, 5, 4, 3, 2, 1, 3, 4, 5, 5, 1, 2, 3, 4, 5, 4, 1, 1, 3, 4, 5, 1, 3, 5, 4, 4, 1, 3, 4, 4, 4, 1, 2, 3, 4, 5], \"Freq\": [0.9526579976081848, 0.9761592149734497, 0.8251237869262695, 0.6982136368751526, 0.17455340921878815, 0.17455340921878815, 0.10872726887464523, 0.036242421716451645, 0.797333300113678, 0.036242421716451645, 0.984965980052948, 0.1688307523727417, 0.007340467069298029, 0.014680934138596058, 0.6165992617607117, 0.19085215032100677, 0.8154786229133606, 0.17474542558193207, 0.015910286456346512, 0.9546171426773071, 0.015910286456346512, 0.01424427516758442, 0.004748091567307711, 0.0617251917719841, 0.03323664143681526, 0.8878931403160095, 0.8583266139030457, 0.7405361533164978, 0.009933015331625938, 0.004966507665812969, 0.03724880889058113, 0.06456460058689117, 0.8815551400184631, 0.021026495844125748, 0.9672187566757202, 0.8880776166915894, 0.05920517444610596, 0.05920517444610596, 0.9721836447715759, 0.6824856996536255, 0.020681384950876236, 0.2895393967628479, 0.7159583568572998, 0.13017424941062927, 0.13017424941062927, 0.08295728266239166, 0.010369660332798958, 0.04147864133119583, 0.8399425148963928, 0.020739320665597916, 0.017828164622187614, 0.9805489778518677, 0.20339347422122955, 0.1061183363199234, 0.3360413908958435, 0.353727787733078, 0.01788262091577053, 0.9120136499404907, 0.01788262091577053, 0.02682393044233322, 0.03576524183154106, 0.05242496356368065, 0.8038493990898132, 0.04368747025728226, 0.1048499271273613, 0.07420294731855392, 0.0019699896220117807, 0.41960781812667847, 0.3913712799549103, 0.11294607818126678, 0.965072751045227, 0.6481450796127319, 0.0648145079612732, 0.2592580318450928, 0.0324072539806366, 0.019467657431960106, 0.9539152383804321, 0.019467657431960106, 0.01616033911705017, 0.01616033911705017, 0.9696203470230103, 0.02923995442688465, 0.0022492273710668087, 0.1551966816186905, 0.7309988737106323, 0.08322140574455261, 0.9522510170936584, 0.9892188906669617, 0.01093696802854538, 0.0546848401427269, 0.8640204668045044, 0.06562180817127228, 0.017072191461920738, 0.9731149077415466, 0.9574084877967834, 0.9461210370063782, 0.03504151850938797, 0.5667136907577515, 0.03953816741704941, 0.13179388642311096, 0.2504083812236786, 0.037782203406095505, 0.002361387712880969, 0.07084163278341293, 0.09917828440666199, 0.7910649180412292, 0.9535496830940247, 0.03814198821783066, 0.9827308654785156, 0.9419497847557068, 0.867202639579773, 0.9400424957275391, 0.03760170191526413, 0.03920742869377136, 0.7253374457359314, 0.07841485738754272, 0.15682971477508545, 0.8498257994651794, 0.16996516287326813, 0.009538467042148113, 0.9729235768318176, 0.9869067668914795, 0.8863053917884827, 0.06817734241485596, 0.0067016384564340115, 0.03685901314020157, 0.026806553825736046, 0.9248261451721191, 0.5106377005577087, 0.7092239856719971, 0.09136354923248291, 0.0036064558662474155, 0.15147113800048828, 0.6984502673149109, 0.05529898777604103, 0.016233408823609352, 0.6709809303283691, 0.01082227285951376, 0.032466817647218704, 0.2651456892490387, 0.015751827508211136, 0.9766132831573486, 0.6544122695922852, 0.26176491379737854, 0.9303982853889465, 0.09303983300924301, 0.9370015859603882, 0.8395207524299622, 0.017441876232624054, 0.976745069026947, 0.2162424772977829, 0.22193306684494019, 0.22193306684494019, 0.10243064910173416, 0.24469543993473053, 0.025197245180606842, 0.5291421413421631, 0.008399082347750664, 0.4367522597312927, 0.0032640479039400816, 0.0016320239519700408, 0.008160119876265526, 0.8209080696105957, 0.16809847950935364, 0.01030686590820551, 0.0020613730885088444, 0.014429612085223198, 0.07627080380916595, 0.8966973423957825, 0.004698548465967178, 0.03758838772773743, 0.9021212458610535, 0.05168402940034866, 0.9722908139228821, 0.007926668040454388, 0.007926668040454388, 0.935346782207489, 0.04756000638008118, 0.9460275769233704, 0.9696837663650513, 0.016161395236849785, 0.9442272782325745, 0.9598104953765869, 0.9899036884307861, 0.00942920707166195, 0.0722905844449997, 0.11315048485994339, 0.8046256899833679, 0.002844826551154256, 0.002844826551154256, 0.9899995923042297, 0.002844826551154256, 0.7386122345924377, 0.21103206276893616, 0.05275801569223404, 0.876040518283844, 0.02014041505753994, 0.08056166023015976, 0.18629884719848633, 0.1107722818851471, 0.6042124629020691, 0.011630323715507984, 0.03489097207784653, 0.5117342472076416, 0.43807554244995117, 0.009857296012341976, 0.6505815386772156, 0.049286480993032455, 0.13800214231014252, 0.14785943925380707, 0.908862829208374, 0.0757385715842247, 0.9562145471572876, 0.020130831748247147, 0.020130831748247147, 0.9670985341072083, 0.8509683609008789, 0.21274209022521973, 0.08252428472042084, 0.495145708322525, 0.08252428472042084, 0.11003237962722778, 0.19255666434764862, 0.8779410719871521, 0.10249600559473038, 0.010458775795996189, 0.08576196432113647, 0.4204427897930145, 0.37860769033432007, 0.016197871416807175, 0.016197871416807175, 0.9556744694709778, 0.9372997879981995, 0.01453343778848648, 0.01453343778848648, 0.97374027967453, 0.5137201547622681, 0.01902667246758938, 0.323453426361084, 0.07610668987035751, 0.07610668987035751, 0.959539532661438, 0.9845067262649536, 0.8412591218948364, 0.010782374069094658, 0.3989478349685669, 0.10782373696565628, 0.20486509799957275, 0.2803417146205902, 0.006258177105337381, 0.04380723834037781, 0.025032708421349525, 0.9199520349502563, 0.005195976700633764, 0.005195976700633764, 0.005195976700633764, 0.9820395708084106, 0.05010544881224632, 0.0038542652036994696, 0.1888590008020401, 0.06166824325919151, 0.6956948637962341, 0.06410801410675049, 0.00674821250140667, 0.4487561285495758, 0.3846481144428253, 0.09447497129440308, 0.022150473669171333, 0.014766981825232506, 0.16243679821491241, 0.7604995965957642, 0.04430094733834267, 0.06649376451969147, 0.21278005838394165, 0.16845087707042694, 0.26597505807876587, 0.28370675444602966, 0.8038209080696106, 0.03653731569647789, 0.07307463139295578, 0.03653731569647789, 0.23530200123786926, 0.6013273596763611, 0.1045786663889885, 0.026144666597247124, 0.026144666597247124, 0.8065307140350342, 0.007974752224981785, 0.0026582505088299513, 0.10367177426815033, 0.10101352632045746, 0.784183919429779, 0.7403562068939209, 0.8660310506820679, 0.9842420220375061, 0.9556950926780701, 0.9757792949676514, 0.022724317386746407, 0.9771456718444824, 0.015624955296516418, 0.0031249909661710262, 0.08124976605176926, 0.037499893456697464, 0.8593725562095642, 0.8782769441604614, 0.5967324376106262, 0.2983662188053131, 0.9574414491653442, 0.05721304193139076, 0.11442608386278152, 0.11442608386278152, 0.06674855202436447, 0.6579499840736389, 0.5898790955543518, 0.009363160468637943, 0.24344217777252197, 0.03745264187455177, 0.12172108888626099, 0.012762247584760189, 0.012762247584760189, 0.03828674554824829, 0.8678328394889832, 0.08933573216199875, 0.047514475882053375, 0.024670977145433426, 0.15396517515182495, 0.48839399218559265, 0.2855437099933624, 0.017300106585025787, 0.017300106585025787, 0.9342057704925537, 0.034600213170051575, 0.0275453869253397, 0.01377269346266985, 0.8814523816108704, 0.06886346638202667, 0.02419145777821541, 0.008063819259405136, 0.9515306353569031, 0.016127638518810272, 0.025769393891096115, 0.017179595306515694, 0.9276981949806213, 0.025769393891096115, 0.9439622163772583, 0.8748856782913208, 0.019978580996394157, 0.003995716106146574, 0.09989289939403534, 0.019978580996394157, 0.8590789437294006, 0.8505492806434631, 0.12150704115629196, 0.8788239359855652, 0.01475200429558754, 0.02212800644338131, 0.9441282749176025, 0.01475200429558754, 0.02037898451089859, 0.006792994681745768, 0.1562388837337494, 0.16303187608718872, 0.6589204668998718, 0.773533284664154, 0.05950256064534187, 0.11900512129068375, 0.0628083124756813, 0.3454456925392151, 0.1256166249513626, 0.4553602337837219, 0.015702078118920326, 0.9957225322723389, 0.004281654488295317, 0.005137985572218895, 0.44786107540130615, 0.5043789148330688, 0.037678562104701996, 0.8754149675369263, 0.2005443423986435, 0.04010886698961258, 0.762068510055542, 0.10697104781866074, 0.006685690488666296, 0.4613126516342163, 0.03342845290899277, 0.38777005672454834, 0.05024375021457672, 0.8541437387466431, 0.05024375021457672, 0.03768281266093254, 0.07591753453016281, 0.5482933521270752, 0.06748225539922714, 0.3121054470539093, 0.9882541298866272, 0.033255770802497864, 0.2898002862930298, 0.08076401799917221, 0.08076401799917221, 0.5178398489952087, 0.016709214076399803, 0.23671387135982513, 0.05291251093149185, 0.1392434537410736, 0.5569738149642944, 0.11057406663894653, 0.6081573963165283, 0.1658610999584198, 0.11057406663894653, 0.0454065203666687, 0.14530086517333984, 0.26335781812667847, 0.39049607515335083, 0.15438216924667358, 0.8424898982048035, 0.03452824056148529, 0.013811295852065086, 0.12775447964668274, 0.08632060140371323, 0.7354515194892883, 0.054652485996484756, 0.0034590179566293955, 0.6122462153434753, 0.25112470984458923, 0.07886561006307602, 0.9546934962272644, 0.06100868061184883, 0.004357763100415468, 0.5839402079582214, 0.13073289394378662, 0.2266036719083786, 0.6198599934577942, 0.15496499836444855, 0.206619992852211, 0.017504679039120674, 0.9627573490142822, 0.01962858811020851, 0.9029150605201721, 0.058885764330625534, 0.05658145621418953, 0.8374055624008179, 0.011316291987895966, 0.02263258397579193, 0.05658145621418953, 0.513151228427887, 0.9830719232559204, 0.9504204988479614, 0.05080215632915497, 0.0031751347705721855, 0.13018052279949188, 0.27941185235977173, 0.5365977883338928, 0.28872716426849365, 0.004441956523805857, 0.31537890434265137, 0.10216499865055084, 0.29316914081573486, 0.008222959004342556, 0.002740986179560423, 0.032891836017370224, 0.09045254439115524, 0.8661516308784485, 0.9786713719367981, 0.029702888801693916, 0.8019779920578003, 0.1782173365354538, 0.8608367443084717, 0.08608367294073105, 0.01047513447701931, 0.01047513447701931, 0.9741875529289246, 0.7938084006309509, 0.07682016491889954, 0.1280336081981659, 0.9344190359115601, 0.093441903591156, 0.9755615592002869, 0.07620854675769806, 0.05379427224397659, 0.08517426252365112, 0.26897135376930237, 0.5155284404754639, 0.7401063442230225, 0.008761524222791195, 0.008761524222791195, 0.9812906980514526, 0.028362296521663666, 0.014181148260831833, 0.9217746257781982, 0.0425434447824955, 0.02532409504055977, 0.0036177278961986303, 0.10853183269500732, 0.02532409504055977, 0.8393128514289856, 0.03322659805417061, 0.963571310043335, 0.03322659805417061, 0.962439775466919, 0.5116694569587708, 0.015783384442329407, 0.003945846110582352, 0.003945846110582352, 0.9272738099098206, 0.05129599943757057, 0.008840877562761307, 0.008840877562761307, 0.9813374280929565, 0.8874883055686951, 0.06826832890510559, 0.3367418348789215, 0.013838705606758595, 0.3967095613479614, 0.05074192211031914, 0.1983547806739807, 0.9673560261726379, 0.8492168188095093, 0.11322890967130661, 0.006162604782730341, 0.007703256327658892, 0.027731722220778465, 0.08935777097940445, 0.8720086216926575, 0.9648709893226624, 0.012945828028023243, 0.9838829040527344, 0.006544661242514849, 0.019633984193205833, 0.006544661242514849, 0.9620652198791504, 0.9147481918334961, 0.011119994334876537, 0.011119994334876537, 0.061159972101449966, 0.02779998630285263, 0.8895995616912842, 0.003985270857810974, 0.015941083431243896, 0.007970541715621948, 0.9684208631515503, 0.00972975604236126, 0.00486487802118063, 0.00486487802118063, 0.09243268519639969, 0.8902727365493774, 0.9815961718559265, 0.25156038999557495, 0.6540570259094238, 0.025156039744615555, 0.025156039744615555, 0.05031207948923111, 0.8266964554786682, 0.008026178926229477, 0.06420943140983582, 0.07223561406135559, 0.03210471570491791, 0.07036996632814407, 0.7506129741668701, 0.07036996632814407, 0.11728327721357346, 0.7229351997375488, 0.2724103629589081, 0.5114813446998596, 0.9596179127693176, 0.02392693981528282, 0.08374428749084473, 0.005981734953820705, 0.8852967619895935, 0.9851073026657104, 0.021870886906981468, 0.9623190760612488, 0.7733702063560486, 0.15467403829097748, 0.8587523698806763, 0.8771443367004395, 0.030957018956542015, 0.9596675634384155, 0.024627380073070526, 0.9604678153991699, 0.024627380073070526, 0.9609706997871399, 0.9869725704193115, 0.7393422722816467, 0.05463770031929016, 0.0036425134167075157, 0.2003382444381714, 0.04371016100049019, 0.6957200765609741, 0.8980499505996704, 0.8574644923210144, 0.8754366040229797, 0.9334769248962402, 0.9871135950088501, 0.9609493613243103, 0.07549594342708588, 0.0029036900959908962, 0.3331984281539917, 0.23156927525997162, 0.35642796754837036, 0.012092960998415947, 0.979529857635498, 0.025348469614982605, 0.04224744811654091, 0.11406811326742172, 0.819600522518158, 0.8201419711112976, 0.014663567766547203, 0.002443928038701415, 0.37310633063316345, 0.04724927246570587, 0.5629180669784546, 0.8314130306243896, 0.014805465005338192, 0.9623552560806274, 0.014805465005338192, 0.03628385066986084, 0.012094616889953613, 0.374933123588562, 0.03628385066986084, 0.5382104516029358, 0.6984447240829468, 0.27937790751457214, 0.037161506712436676, 0.046451885253190994, 0.8732954263687134, 0.037161506712436676, 0.013979382812976837, 0.004659794270992279, 0.04193814843893051, 0.07455670833587646, 0.8620619773864746, 0.4304502010345459, 0.31964123249053955, 0.03409506380558014, 0.21309415996074677, 0.017783619463443756, 0.9780990481376648, 0.8010627627372742, 0.02584073506295681, 0.18088515102863312, 0.8620152473449707, 0.03581828624010086, 0.25520527362823486, 0.026863714680075645, 0.6805474162101746, 0.9852476119995117, 0.01642463356256485, 0.9690533876419067, 0.01642463356256485, 0.9341959357261658, 0.01459681149572134, 0.043790437281131744, 0.01459681149572134, 0.9883476495742798, 0.8804900050163269, 0.7402387261390686, 0.8318864107131958, 0.010239766910672188, 0.001137751853093505, 0.010239766910672188, 0.0034132555592805147, 0.9739155769348145, 0.9083728194236755, 0.004868470598012209, 0.006815858650952578, 0.43037280440330505, 0.48587334156036377, 0.07205336540937424, 0.9391718506813049, 0.012145740911364555, 0.002512912033125758, 0.010889285244047642, 0.018218612298369408, 0.9563723802566528, 0.00767196249216795, 0.00767196249216795, 0.00767196249216795, 0.9743392467498779, 0.9368991255760193, 0.0038616308011114597, 0.0077232616022229195, 0.9847158789634705, 0.0038616308011114597, 0.7101465463638306, 0.08876831829547882, 0.08876831829547882, 0.08876831829547882, 0.965175449848175, 0.018925009295344353, 0.8680447340011597, 0.868073046207428, 0.009087719023227692, 0.9723859429359436, 0.009087719023227692, 0.009087719023227692, 0.989192545413971, 0.16229498386383057, 0.004270920529961586, 0.1323985457420349, 0.11531485617160797, 0.5851161479949951, 0.022278189659118652, 0.0017137069953605533, 0.15594732761383057, 0.061693452298641205, 0.757458508014679, 0.017554011195898056, 0.002194251399487257, 0.023405348882079124, 0.7109374403953552, 0.2464875727891922, 0.9646841883659363, 0.018551617860794067, 0.026534436270594597, 0.006633609067648649, 0.7960331439971924, 0.1658402383327484, 0.01778702437877655, 0.0035574049688875675, 0.686579167842865, 0.29170718789100647, 0.015283023938536644, 0.007641511969268322, 0.9246229529380798, 0.05349058657884598, 0.010491498745977879, 0.020982997491955757, 0.9442348480224609, 0.020982997491955757, 0.008060971274971962, 0.004030485637485981, 0.24182912707328796, 0.7456398010253906, 0.7245792150497437, 0.01478733029216528, 0.18484163284301758, 0.07393665611743927, 0.004138304851949215, 0.004138304851949215, 0.5421179533004761, 0.4469369351863861, 0.021817680448293686, 0.0014545120066031814, 0.029817495495080948, 0.2698119878768921, 0.676348090171814, 0.004154722671955824, 0.012464168481528759, 0.6024348139762878, 0.38223451375961304, 0.006054205354303122, 0.024216821417212486, 0.7265046834945679, 0.24216821789741516, 0.9758578538894653, 0.2521387040615082, 0.0018957797437906265, 0.30142897367477417, 0.03601981699466705, 0.40759265422821045, 0.2433442920446396, 0.10950493067502975, 0.0608360730111599, 0.5840262770652771, 0.8037340044975281, 0.07091771066188812, 0.015759490430355072, 0.10243669152259827, 0.9649657607078552, 0.9956996440887451, 0.5104401707649231, 0.858748733997345, 0.014875082299113274, 0.9073800444602966, 0.059500329196453094, 0.969611406326294, 0.0810568705201149, 0.18053576350212097, 0.22474859654903412, 0.3168586790561676, 0.19711558520793915, 0.9558759927749634, 0.8633497357368469, 0.796251654624939, 0.1257239431142807, 0.04190798103809357, 0.04190798103809357, 0.7207743525505066, 0.21199245750904083, 0.04239849001169205, 0.973378598690033, 0.986128568649292, 0.030501939356327057, 0.945560097694397, 0.030501939356327057, 0.983677864074707, 0.9844022393226624, 0.005323757417500019, 0.005323757417500019, 0.031942542642354965, 0.031942542642354965, 0.9210100173950195], \"Term\": [\"aafp\", \"abolishtc\", \"anewny\", \"anime\", \"anime\", \"anime\", \"arrest\", \"arrest\", \"arrest\", \"arrest\", \"authentic\", \"available\", \"available\", \"available\", \"available\", \"available\", \"backwoods\", \"backwoods\", \"bake\", \"bake\", \"bake\", \"ban\", \"ban\", \"ban\", \"ban\", \"ban\", \"beatlife\", \"beats\", \"big\", \"big\", \"big\", \"big\", \"big\", \"bigtobacco\", \"bigtobacco\", \"birthday\", \"birthday\", \"birthday\", \"bond\", \"brain\", \"brain\", \"brain\", \"bro\", \"bro\", \"bro\", \"bud\", \"bud\", \"bud\", \"bud\", \"bud\", \"budlight\", \"budlight\", \"buy\", \"buy\", \"buy\", \"buy\", \"cali\", \"cali\", \"cali\", \"cali\", \"cali\", \"canada\", \"canada\", \"canada\", \"canada\", \"cannabis\", \"cannabis\", \"cannabis\", \"cannabis\", \"cannabis\", \"cannabisdelivery\", \"card\", \"card\", \"card\", \"card\", \"cartridge\", \"cartridge\", \"cartridge\", \"cause\", \"cause\", \"cause\", \"cbd\", \"cbd\", \"cbd\", \"cbd\", \"cbd\", \"cbdcartridge\", \"cbdfx\", \"cbdoil\", \"cbdoil\", \"cbdoil\", \"cbdoil\", \"cbdvape\", \"cbdvape\", \"ceramic\", \"cheer\", \"cheer\", \"cigar\", \"cigar\", \"cigar\", \"cigar\", \"cigarette\", \"cigarette\", \"cigarette\", \"cigarette\", \"cigarette\", \"cigarillo\", \"cigarillo\", \"cigarlife\", \"clay\", \"clipper\", \"coil\", \"coil\", \"colorado\", \"colorado\", \"colorado\", \"colorado\", \"compilation\", \"compilation\", \"con\", \"con\", \"console\", \"contest\", \"contest\", \"control\", \"control\", \"control\", \"control\", \"cookiessf\", \"cousin\", \"daily\", \"daily\", \"daily\", \"daily\", \"daily\", \"dank\", \"dank\", \"dank\", \"dank\", \"dank\", \"dankmemes\", \"dankmemes\", \"dat\", \"dat\", \"delaware\", \"delaware\", \"detector\", \"disneyland\", \"donaldtrump\", \"donaldtrump\", \"dope\", \"dope\", \"dope\", \"dope\", \"dope\", \"drug\", \"drug\", \"drug\", \"drug\", \"ecig\", \"ecig\", \"ecig\", \"ecig\", \"ecig\", \"ecigs\", \"ecigs\", \"ecigs\", \"ecigs\", \"ecigs\", \"ejuice\", \"ejuice\", \"ejuice\", \"ejuice\", \"eliminate\", \"eliquid\", \"eliquid\", \"eliquid\", \"eliquid\", \"eonpods\", \"eonsmoke\", \"eonsmoke\", \"epic\", \"fakenews\", \"fctc\", \"fda\", \"fda\", \"fda\", \"fda\", \"fetish\", \"fetish\", \"fetish\", \"fetish\", \"filter\", \"filter\", \"filter\", \"filteredcigars\", \"find\", \"find\", \"find\", \"find\", \"find\", \"flavor\", \"flavor\", \"flavor\", \"flavor\", \"follow\", \"follow\", \"follow\", \"follow\", \"follow\", \"followme\", \"followme\", \"fortnite\", \"fortnite\", \"fortnite\", \"fronto\", \"fuck\", \"fuck\", \"fun\", \"fun\", \"fun\", \"fun\", \"fun\", \"gadget\", \"get\", \"get\", \"get\", \"get\", \"get\", \"global\", \"global\", \"global\", \"gotvape\", \"govt\", \"govt\", \"govt\", \"grass\", \"grass\", \"grass\", \"grass\", \"grass\", \"greezythecorner\", \"grind\", \"handle\", \"happy\", \"happy\", \"happy\", \"happy\", \"happy\", \"harm\", \"harm\", \"harm\", \"harm\", \"harmless\", \"harmless\", \"harmless\", \"harmless\", \"health\", \"health\", \"health\", \"health\", \"health\", \"hemp\", \"hemp\", \"hemp\", \"hemp\", \"hemp\", \"herb\", \"herb\", \"herb\", \"herb\", \"herb\", \"high\", \"high\", \"high\", \"high\", \"high\", \"highsociety\", \"highsociety\", \"highsociety\", \"highsociety\", \"hiphop\", \"hiphop\", \"hiphop\", \"hiphop\", \"hiphop\", \"hotel\", \"http\", \"http\", \"http\", \"http\", \"http\", \"hurricane\", \"ico\", \"illicit\", \"impair\", \"income\", \"india\", \"india\", \"industry\", \"industry\", \"industry\", \"industry\", \"industry\", \"inflammation\", \"injunction\", \"injunction\", \"instapic\", \"join\", \"join\", \"join\", \"join\", \"join\", \"joint\", \"joint\", \"joint\", \"joint\", \"joint\", \"juice\", \"juice\", \"juice\", \"juice\", \"juice\", \"juul\", \"juul\", \"juul\", \"juul\", \"juul\", \"juulgang\", \"juulgang\", \"juulgang\", \"juulgang\", \"juulnation\", \"juulnation\", \"juulnation\", \"juulnation\", \"juulpods\", \"juulpods\", \"juulpods\", \"juulpods\", \"juulvapor\", \"juulvapor\", \"juulvapor\", \"juulvapor\", \"kanyewest\", \"kardashians\", \"kid\", \"kid\", \"kid\", \"kid\", \"kid\", \"kimkardashian\", \"kimkardashian\", \"kingdom\", \"kit\", \"kit\", \"kit\", \"kit\", \"know\", \"know\", \"know\", \"know\", \"know\", \"korea\", \"korea\", \"korea\", \"kush\", \"kush\", \"kush\", \"kush\", \"kush\", \"lamp\", \"latest\", \"latest\", \"latest\", \"latest\", \"latest\", \"latino\", \"leading\", \"leading\", \"leading\", \"legal\", \"legal\", \"legal\", \"legal\", \"legal\", \"legalization\", \"legalization\", \"legalization\", \"legalization\", \"legalize\", \"legalize\", \"legalize\", \"legalize\", \"lie\", \"life\", \"life\", \"life\", \"life\", \"life\", \"like\", \"like\", \"like\", \"like\", \"like\", \"london\", \"london\", \"london\", \"london\", \"love\", \"love\", \"love\", \"love\", \"love\", \"loveit\", \"make\", \"make\", \"make\", \"make\", \"make\", \"marijuana\", \"marijuana\", \"marijuana\", \"marijuana\", \"marijuana\", \"meddevice\", \"medical\", \"medical\", \"medical\", \"medical\", \"medical\", \"meme\", \"meme\", \"meme\", \"minecraft\", \"minecraft\", \"mme\", \"mme\", \"mme\", \"music\", \"music\", \"music\", \"music\", \"music\", \"mwm\", \"ncds\", \"nebraska\", \"new\", \"new\", \"new\", \"new\", \"new\", \"news\", \"news\", \"news\", \"news\", \"news\", \"nicotine\", \"nicotine\", \"nicotine\", \"nicotine\", \"nicotine\", \"nicsalts\", \"ninja\", \"ninja\", \"ninja\", \"nofilter\", \"nofilter\", \"notblowingsmoke\", \"notblowingsmoke\", \"notblowingsmoke\", \"nutrition\", \"nutrition\", \"nutrition\", \"nypd\", \"nypd\", \"nz\", \"one\", \"one\", \"one\", \"one\", \"one\", \"palma\", \"parasite\", \"parasite\", \"parasite\", \"pen\", \"pen\", \"pen\", \"pen\", \"people\", \"people\", \"people\", \"people\", \"people\", \"phix\", \"phix\", \"phix\", \"pk\", \"plaza\", \"pod\", \"pod\", \"pod\", \"pod\", \"pod\", \"poor\", \"poor\", \"poor\", \"possession\", \"possession\", \"pot\", \"pot\", \"pot\", \"pot\", \"pot\", \"ppl\", \"privilege\", \"privilege\", \"product\", \"product\", \"product\", \"product\", \"product\", \"profit\", \"profits\", \"profits\", \"protect\", \"protect\", \"protect\", \"protect\", \"ptsd\", \"public\", \"public\", \"public\", \"public\", \"public\", \"publichealth\", \"publichealth\", \"publichealth\", \"publichealth\", \"quit\", \"quit\", \"quit\", \"quit\", \"quit\", \"racket\", \"rap\", \"rap\", \"rap\", \"rap\", \"rap\", \"ready\", \"ready\", \"ready\", \"ready\", \"ready\", \"recreational\", \"recreational\", \"recreational\", \"recreational\", \"regulatory\", \"regulatory\", \"rhubarb\", \"richmondhill\", \"risk\", \"risk\", \"risk\", \"risk\", \"rob\", \"robbery\", \"robbery\", \"rollup\", \"rollup\", \"russiancream\", \"rva\", \"salt\", \"salt\", \"saltnic\", \"saltnic\", \"saltnic\", \"saltnicotine\", \"sans\", \"santaclarita\", \"say\", \"say\", \"say\", \"say\", \"say\", \"scandal\", \"scripture\", \"seo\", \"sesh\", \"sharpe\", \"smg\", \"smoke\", \"smoke\", \"smoke\", \"smoke\", \"smoke\", \"smokeless\", \"smokeless\", \"smoker\", \"smoker\", \"smoker\", \"smoker\", \"smokesesh\", \"smoking\", \"smoking\", \"smoking\", \"smoking\", \"smoking\", \"spots\", \"starter\", \"starter\", \"starter\", \"state\", \"state\", \"state\", \"state\", \"state\", \"sticker\", \"sticker\", \"stock\", \"stock\", \"stock\", \"stock\", \"stop\", \"stop\", \"stop\", \"stop\", \"stop\", \"story\", \"story\", \"story\", \"story\", \"streamer\", \"streamer\", \"streaming\", \"streaming\", \"streaming\", \"studio\", \"study\", \"study\", \"study\", \"study\", \"subohm\", \"suorin\", \"suorin\", \"suorin\", \"swag\", \"swag\", \"swag\", \"swag\", \"sweepstakes\", \"swishers\", \"swishersweets\", \"tat\", \"tax\", \"tax\", \"tax\", \"tax\", \"tax\", \"testing\", \"thanks\", \"thanks\", \"thanks\", \"thanks\", \"thanks\", \"thcoil\", \"tobacco\", \"tobacco\", \"tobacco\", \"tobacco\", \"tobacco\", \"tobaccocontrol\", \"tobaccocontrol\", \"tobaccocontrol\", \"tobaccocontrol\", \"toffee\", \"toker\", \"toker\", \"toker\", \"toker\", \"tom\", \"tom\", \"tom\", \"tom\", \"topstories\", \"topstories\", \"toro\", \"toroglass\", \"turnup\", \"turnup\", \"turnup\", \"turnup\", \"undertale\", \"us\", \"us\", \"us\", \"us\", \"us\", \"use\", \"use\", \"use\", \"use\", \"use\", \"vape\", \"vape\", \"vape\", \"vape\", \"vape\", \"vapedaily\", \"vapedaily\", \"vapefam\", \"vapefam\", \"vapefam\", \"vapefam\", \"vapelife\", \"vapelife\", \"vapelife\", \"vapelife\", \"vapenation\", \"vapenation\", \"vapenation\", \"vapenation\", \"vapepen\", \"vapepen\", \"vapepen\", \"vapepen\", \"vapeporn\", \"vapeporn\", \"vapeporn\", \"vapeporn\", \"vaper\", \"vaper\", \"vaper\", \"vaper\", \"vapeshop\", \"vapeshop\", \"vapeshop\", \"vapeshop\", \"vaping\", \"vaping\", \"vaping\", \"vaping\", \"vaping\", \"vapor\", \"vapor\", \"vapor\", \"vapor\", \"vaporizer\", \"vaporizer\", \"vaporizer\", \"vaporizer\", \"vegan\", \"via\", \"via\", \"via\", \"via\", \"via\", \"video\", \"video\", \"video\", \"video\", \"view\", \"view\", \"view\", \"view\", \"vitacig\", \"void\", \"wacky\", \"wawx\", \"wax\", \"wax\", \"wax\", \"webinar\", \"weed\", \"weed\", \"weed\", \"weed\", \"weed\", \"weeddelivery\", \"western\", \"white\", \"white\", \"white\", \"white\", \"wildfire\", \"wildfire\", \"wildfire\", \"wkd\", \"woodstock\", \"xbox\", \"xbox\", \"xbox\", \"yocan\", \"yoga\", \"youth\", \"youth\", \"youth\", \"youth\", \"youth\"]}, \"R\": 30, \"lambda.step\": 0.01, \"plot.opts\": {\"xlab\": \"PC1\", \"ylab\": \"PC2\"}, \"topic.order\": [1, 2, 3, 4, 5]};\n",
       "\n",
       "function LDAvis_load_lib(url, callback){\n",
       "  var s = document.createElement('script');\n",
       "  s.src = url;\n",
       "  s.async = true;\n",
       "  s.onreadystatechange = s.onload = callback;\n",
       "  s.onerror = function(){console.warn(\"failed to load library \" + url);};\n",
       "  document.getElementsByTagName(\"head\")[0].appendChild(s);\n",
       "}\n",
       "\n",
       "if(typeof(LDAvis) !== \"undefined\"){\n",
       "   // already loaded: just create the visualization\n",
       "   !function(LDAvis){\n",
       "       new LDAvis(\"#\" + \"ldavis_el26884682816872274510031\", ldavis_el26884682816872274510031_data);\n",
       "   }(LDAvis);\n",
       "}else if(typeof define === \"function\" && define.amd){\n",
       "   // require.js is available: use it to load d3/LDAvis\n",
       "   require.config({paths: {d3: \"https://cdnjs.cloudflare.com/ajax/libs/d3/3.5.5/d3.min\"}});\n",
       "   require([\"d3\"], function(d3){\n",
       "      window.d3 = d3;\n",
       "      LDAvis_load_lib(\"https://cdn.rawgit.com/bmabey/pyLDAvis/files/ldavis.v1.0.0.js\", function(){\n",
       "        new LDAvis(\"#\" + \"ldavis_el26884682816872274510031\", ldavis_el26884682816872274510031_data);\n",
       "      });\n",
       "    });\n",
       "}else{\n",
       "    // require.js not available: dynamically load d3 & LDAvis\n",
       "    LDAvis_load_lib(\"https://cdnjs.cloudflare.com/ajax/libs/d3/3.5.5/d3.min.js\", function(){\n",
       "         LDAvis_load_lib(\"https://cdn.rawgit.com/bmabey/pyLDAvis/files/ldavis.v1.0.0.js\", function(){\n",
       "                 new LDAvis(\"#\" + \"ldavis_el26884682816872274510031\", ldavis_el26884682816872274510031_data);\n",
       "            })\n",
       "         });\n",
       "}\n",
       "</script>"
      ],
      "text/plain": [
       "<IPython.core.display.HTML object>"
      ]
     },
     "execution_count": 102,
     "metadata": {},
     "output_type": "execute_result"
    }
   ],
   "source": [
    "## visualizing the mono tweets\n",
    "## dont run again\n",
    "import gensim\n",
    "import os\n",
    "import pyLDAvis.gensim\n",
    "dictionary = gensim.corpora.Dictionary.load(os.path.join(poly_dir,'dictionary_m.gensim'))\n",
    "corpus = pickle.load(open(os.path.join(poly_dir,'corpus_m.pkl'), 'rb'))\n",
    "lda = gensim.models.ldamodel.LdaModel.load(os.path.join(poly_dir,'model_m.gensim'))\n",
    "lda_display = pyLDAvis.gensim.prepare(lda, corpus, dictionary, sort_topics=False)\n",
    "pyLDAvis.display(lda_display)"
   ]
  },
  {
   "cell_type": "code",
   "execution_count": 103,
   "metadata": {},
   "outputs": [],
   "source": [
    "## mlp at tweet level and user level"
   ]
  },
  {
   "cell_type": "code",
   "execution_count": 104,
   "metadata": {},
   "outputs": [],
   "source": [
    "## user level\n",
    "frames = ( poly_tweets_user, mono_tweets_user)\n",
    "df_user = pd.concat(frames)"
   ]
  },
  {
   "cell_type": "code",
   "execution_count": 105,
   "metadata": {},
   "outputs": [],
   "source": [
    "def mlp_wrapper(X_train,X_test,Y_train,Y_test,epochs):\n",
    "    n_words = X_test.shape[1]\n",
    "    # define network\n",
    "    model = Sequential()\n",
    "    model.add(Dropout(0.2, input_shape=(n_words,)))\n",
    "    model.add(Dense(50, input_shape=(n_words,), activation='relu'))\n",
    "    model.add(Dropout(0.2))\n",
    "    model.add(Dense(1, activation='sigmoid'))\n",
    "    # compile network\n",
    "#     model.compile(loss='binary_crossentropy', optimizer='adam', metrics=['accuracy'])\n",
    "    sgd = SGD(lr=0.1, momentum=0.9, decay=0.0, nesterov=False)\n",
    "    model.compile(loss='binary_crossentropy', optimizer=sgd, metrics=['accuracy'])  \n",
    "    # fit network\n",
    "    model.fit(X_train, Y_train, epochs=epochs, verbose=2)\n",
    "    return model"
   ]
  },
  {
   "cell_type": "code",
   "execution_count": 106,
   "metadata": {},
   "outputs": [],
   "source": [
    "def mlp_model():\n",
    "    # define network\n",
    "    model = Sequential()\n",
    "    model.add(Dropout(0.2, input_shape=(50829,)))\n",
    "    model.add(Dense(50, input_shape=(50829,), activation='relu'))\n",
    "    model.add(Dropout(0.2))\n",
    "    model.add(Dense(1, activation='sigmoid'))\n",
    "    sgd = SGD(lr=0.1, momentum=0.9, decay=0.0, nesterov=False)\n",
    "    model.compile(loss='binary_crossentropy', optimizer=sgd, metrics=['accuracy'])  \n",
    "    return model"
   ]
  },
  {
   "cell_type": "code",
   "execution_count": 107,
   "metadata": {},
   "outputs": [
    {
     "data": {
      "text/plain": [
       "2157"
      ]
     },
     "execution_count": 107,
     "metadata": {},
     "output_type": "execute_result"
    }
   ],
   "source": [
    "len(df_user)"
   ]
  },
  {
   "cell_type": "code",
   "execution_count": 108,
   "metadata": {},
   "outputs": [
    {
     "data": {
      "text/plain": [
       "(76585, 100)"
      ]
     },
     "execution_count": 108,
     "metadata": {},
     "output_type": "execute_result"
    }
   ],
   "source": [
    "X.shape"
   ]
  },
  {
   "cell_type": "code",
   "execution_count": 109,
   "metadata": {},
   "outputs": [
    {
     "data": {
      "text/plain": [
       "(76585,)"
      ]
     },
     "execution_count": 109,
     "metadata": {},
     "output_type": "execute_result"
    }
   ],
   "source": [
    "y.shape"
   ]
  },
  {
   "cell_type": "code",
   "execution_count": 110,
   "metadata": {},
   "outputs": [
    {
     "data": {
      "text/plain": [
       "(61268,)"
      ]
     },
     "execution_count": 110,
     "metadata": {},
     "output_type": "execute_result"
    }
   ],
   "source": [
    "Y_train.shape"
   ]
  },
  {
   "cell_type": "code",
   "execution_count": 111,
   "metadata": {},
   "outputs": [
    {
     "data": {
      "text/plain": [
       "(15317, 100)"
      ]
     },
     "execution_count": 111,
     "metadata": {},
     "output_type": "execute_result"
    }
   ],
   "source": [
    "X_test.shape"
   ]
  },
  {
   "cell_type": "code",
   "execution_count": 112,
   "metadata": {},
   "outputs": [
    {
     "ename": "NameError",
     "evalue": "name 'evaluate_model' is not defined",
     "output_type": "error",
     "traceback": [
      "\u001b[0;31m---------------------------------------------------------------------------\u001b[0m",
      "\u001b[0;31mNameError\u001b[0m                                 Traceback (most recent call last)",
      "\u001b[0;32m<ipython-input-112-1d546feab4a6>\u001b[0m in \u001b[0;36m<module>\u001b[0;34m()\u001b[0m\n\u001b[1;32m      3\u001b[0m \u001b[0;32mfor\u001b[0m \u001b[0mmode\u001b[0m \u001b[0;32min\u001b[0m \u001b[0mmodes\u001b[0m\u001b[0;34m:\u001b[0m\u001b[0;34m\u001b[0m\u001b[0;34m\u001b[0m\u001b[0m\n\u001b[1;32m      4\u001b[0m     \u001b[0mX_train\u001b[0m\u001b[0;34m,\u001b[0m\u001b[0mX_test\u001b[0m\u001b[0;34m,\u001b[0m\u001b[0mY_train\u001b[0m\u001b[0;34m,\u001b[0m\u001b[0mY_test\u001b[0m \u001b[0;34m=\u001b[0m \u001b[0mprepare_data\u001b[0m\u001b[0;34m(\u001b[0m\u001b[0mdf_user\u001b[0m\u001b[0;34m,\u001b[0m\u001b[0mmode\u001b[0m\u001b[0;34m=\u001b[0m \u001b[0mmode\u001b[0m\u001b[0;34m)\u001b[0m\u001b[0;34m\u001b[0m\u001b[0;34m\u001b[0m\u001b[0m\n\u001b[0;32m----> 5\u001b[0;31m     \u001b[0mresults\u001b[0m\u001b[0;34m[\u001b[0m\u001b[0mmode\u001b[0m\u001b[0;34m]\u001b[0m \u001b[0;34m=\u001b[0m \u001b[0mevaluate_model\u001b[0m\u001b[0;34m(\u001b[0m\u001b[0mX_train\u001b[0m\u001b[0;34m,\u001b[0m\u001b[0mX_test\u001b[0m\u001b[0;34m,\u001b[0m\u001b[0mY_train\u001b[0m\u001b[0;34m,\u001b[0m\u001b[0mY_test\u001b[0m\u001b[0;34m)\u001b[0m\u001b[0;34m\u001b[0m\u001b[0;34m\u001b[0m\u001b[0m\n\u001b[0m",
      "\u001b[0;31mNameError\u001b[0m: name 'evaluate_model' is not defined"
     ]
    }
   ],
   "source": [
    "modes = ['binary', 'count', 'tfidf', 'freq']\n",
    "results = pd.DataFrame()\n",
    "for mode in modes:\n",
    "    X_train,X_test,Y_train,Y_test = prepare_data(df_user,mode= mode)\n",
    "    results[mode] = evaluate_model(X_train,X_test,Y_train,Y_test)"
   ]
  },
  {
   "cell_type": "code",
   "execution_count": null,
   "metadata": {},
   "outputs": [],
   "source": [
    "# summarize results f1\n",
    "print(results.describe())\n",
    "# plot results\n",
    "results.boxplot()\n",
    "pyplot.show()"
   ]
  },
  {
   "cell_type": "code",
   "execution_count": null,
   "metadata": {},
   "outputs": [],
   "source": [
    "# summarize results accuarcy\n",
    "print(results.describe())\n",
    "# plot results\n",
    "results.boxplot()\n",
    "pyplot.show()"
   ]
  },
  {
   "cell_type": "code",
   "execution_count": null,
   "metadata": {},
   "outputs": [],
   "source": [
    "## mlp (50 * 1) binary classification {mono,poly} \n",
    "## @Returns : runs cumulative scores <n_repeat times> on test set\n",
    "from tqdm import tqdm_notebook as tqdm\n",
    "from sklearn.metrics import precision_recall_fscore_support\n",
    "def evaluate_model(X_train,X_test,Y_train,Y_test):\n",
    "    scores = list()\n",
    "    n_repeats = 10\n",
    "    n_words = X_test.shape[1]\n",
    "    for i in tqdm(range(n_repeats)):\n",
    "        # define network\n",
    "        model = Sequential()\n",
    "        model.add(Dropout(0.2, input_shape=(n_words,)))\n",
    "        model.add(Dense(50, input_shape=(n_words,), activation='relu'))\n",
    "        model.add(Dense(1, activation='sigmoid'))\n",
    "        # compile network\n",
    "        # Compile model\n",
    "        sgd = SGD(lr=0.1, momentum=0.9, decay=0.0, nesterov=False)\n",
    "        model.compile(loss='binary_crossentropy', optimizer=sgd, metrics=['accuracy'])\n",
    "        # fit network\n",
    "        model.fit(X_train, Y_train, epochs=, verbose=2)\n",
    "        # evaluate\n",
    "        temp = model.predict(X_test)\n",
    "        Y_pred = [0 if val[0]<0.5 else 1 for val in temp]\n",
    "        prec,recall,f1,_ = precision_recall_fscore_support(Y_test, Y_pred, average='macro')\n",
    "        scores.append(f1)\n",
    "        print('%d f1_score: %s' % ((i+1), f1))\n",
    "    return scores"
   ]
  },
  {
   "cell_type": "code",
   "execution_count": null,
   "metadata": {
    "scrolled": true
   },
   "outputs": [],
   "source": [
    "## using the binary vectorizer mode\n",
    "## using k-fold\n",
    "from sklearn.preprocessing import StandardScaler\n",
    "from keras.wrappers.scikit_learn import KerasClassifier\n",
    "from sklearn.pipeline import Pipeline\n",
    "from sklearn.model_selection import StratifiedKFold\n",
    "from sklearn.model_selection import cross_val_score\n",
    "seed =4\n",
    "numpy.random.seed(seed)\n",
    "estimators = []\n",
    "estimators.append(('standardize', StandardScaler()))\n",
    "estimators.append(('mlp', KerasClassifier(build_fn=mlp_model, epochs=5, batch_size=16, verbose=3)))\n",
    "pipeline = Pipeline(estimators)\n",
    "kfold = StratifiedKFold(n_splits=10, shuffle=True, random_state=seed)\n",
    "results = cross_val_score(pipeline, X, y, cv=kfold)\n",
    "print(\"Hidden: %.2f%% (%.2f%%)\" % (results.mean()*100, results.std()*100))"
   ]
  },
  {
   "cell_type": "code",
   "execution_count": 181,
   "metadata": {},
   "outputs": [
    {
     "data": {
      "text/plain": [
       "array([0.65408805, 0.7672956 , 0.72012579, 0.66981132, 0.71698113,\n",
       "       0.3081761 , 0.70125786, 0.63836478, 0.72870663, 0.6835443 ])"
      ]
     },
     "execution_count": 181,
     "metadata": {},
     "output_type": "execute_result"
    }
   ],
   "source": [
    "results"
   ]
  },
  {
   "cell_type": "code",
   "execution_count": null,
   "metadata": {},
   "outputs": [],
   "source": [
    "## 0 f1 on ply is not good at all\n",
    "from sklearn.metrics import classification_report,confusion_matrix\n",
    "Y_pred = mlp.predict(X_test)\n",
    "y_pred = np.array([np.argmax(pred) for pred in Y_pred])\n",
    "print('  Classification Report:\\n',classification_report(Y_test,y_pred),'\\n')"
   ]
  },
  {
   "cell_type": "markdown",
   "metadata": {},
   "source": [
    "# filtered retweet data"
   ]
  },
  {
   "cell_type": "code",
   "execution_count": 47,
   "metadata": {},
   "outputs": [],
   "source": [
    "## similarly all stats for filtered retweet data\n",
    "## run samenotebook from start with different data"
   ]
  },
  {
   "cell_type": "markdown",
   "metadata": {},
   "source": [
    "### dump the data"
   ]
  },
  {
   "cell_type": "code",
   "execution_count": 357,
   "metadata": {},
   "outputs": [],
   "source": [
    "## poly_mono_tweet dataset\n",
    "path= os.path.join(poly_dir,\"poly_mono_tweets.csv\")\n",
    "final_tweets.to_csv(path)"
   ]
  },
  {
   "cell_type": "markdown",
   "metadata": {},
   "source": [
    "### dump the models"
   ]
  },
  {
   "cell_type": "code",
   "execution_count": null,
   "metadata": {},
   "outputs": [],
   "source": [
    "## dump the models for sentence and user level\n"
   ]
  }
 ],
 "metadata": {
  "kernelspec": {
   "display_name": "Python 3",
   "language": "python",
   "name": "python3"
  },
  "language_info": {
   "codemirror_mode": {
    "name": "ipython",
    "version": 3
   },
   "file_extension": ".py",
   "mimetype": "text/x-python",
   "name": "python",
   "nbconvert_exporter": "python",
   "pygments_lexer": "ipython3",
   "version": "3.6.8"
  }
 },
 "nbformat": 4,
 "nbformat_minor": 1
}
