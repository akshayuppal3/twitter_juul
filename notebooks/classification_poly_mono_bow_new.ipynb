{
 "cells": [
  {
   "cell_type": "code",
   "execution_count": 376,
   "metadata": {
    "collapsed": false
   },
   "outputs": [],
   "source": [
    "import pandas as pd\n",
    "import numpy \n",
    "import os\n",
    "import git\n",
    "import pickle\n",
    "import matplotlib.pyplot as plt\n",
    "pd.set_option('display.max_colwidth', -1)\n",
    "from sklearn.ensemble import RandomForestClassifier\n",
    "from sklearn.ensemble import ExtraTreesClassifier"
   ]
  },
  {
   "cell_type": "code",
   "execution_count": 416,
   "metadata": {
    "collapsed": true
   },
   "outputs": [],
   "source": [
    "from sklearn.feature_extraction.text import TfidfVectorizer\n",
    "from sklearn.feature_extraction.text import CountVectorizer\n",
    "from sklearn.preprocessing import LabelEncoder as le\n",
    "from sklearn.model_selection import train_test_split\n",
    "from sklearn.model_selection import GridSearchCV\n",
    "from sklearn.svm import SVC"
   ]
  },
  {
   "cell_type": "code",
   "execution_count": 2,
   "metadata": {
    "collapsed": true
   },
   "outputs": [],
   "source": [
    "## Read the labelled files and the poly_user\n",
    "def get_git_root(path):\n",
    "\tgit_repo = git.Repo(path, search_parent_directories=True)\n",
    "\tgit_root = git_repo.git.rev_parse(\"--show-toplevel\")\n",
    "\treturn git_root"
   ]
  },
  {
   "cell_type": "code",
   "execution_count": 182,
   "metadata": {
    "collapsed": false
   },
   "outputs": [],
   "source": [
    "top_dir = os.path.join(get_git_root(os.getcwd()))\n",
    "df_tweets = pd.read_csv(os.path.join(get_git_root(os.getcwd()),\"input\",\"labelled_data\",\"tweets_predicted.csv\"), lineterminator=\"\\n\", index_col=0)"
   ]
  },
  {
   "cell_type": "code",
   "execution_count": 185,
   "metadata": {
    "collapsed": false
   },
   "outputs": [],
   "source": [
    "poly_dir = os.path.join(top_dir,\"models\",\"poly_users\")\n",
    "poly_users = pickle.load(open(os.path.join(poly_dir,\"poly_users.pkl\"),\"rb\"))\n",
    "normal_users = pickle.load(open(os.path.join(poly_dir,\"normal_users.pkl\"),\"rb\"))"
   ]
  },
  {
   "cell_type": "code",
   "execution_count": 291,
   "metadata": {
    "collapsed": false
   },
   "outputs": [
    {
     "name": "stdout",
     "output_type": "stream",
     "text": [
      "total users 3177\n"
     ]
    }
   ],
   "source": [
    "print(\"total users\", len(normal_users))"
   ]
  },
  {
   "cell_type": "code",
   "execution_count": 186,
   "metadata": {
    "collapsed": true
   },
   "outputs": [],
   "source": [
    "mono_users = list(set(normal_users) - set(poly_users))"
   ]
  },
  {
   "cell_type": "code",
   "execution_count": 32,
   "metadata": {
    "collapsed": false
   },
   "outputs": [
    {
     "name": "stdout",
     "output_type": "stream",
     "text": [
      "total tweets:  111274\n",
      "total users:  4857\n"
     ]
    }
   ],
   "source": [
    "print(\"total tweets: \",len(df_tweets))\n",
    "print(\"total users: \",len(df_tweets.userID.unique()))"
   ]
  },
  {
   "cell_type": "code",
   "execution_count": 259,
   "metadata": {
    "collapsed": false
   },
   "outputs": [],
   "source": [
    "poly_tweets = df_tweets.loc[df_tweets.userID.isin(poly_users)]"
   ]
  },
  {
   "cell_type": "code",
   "execution_count": 273,
   "metadata": {
    "collapsed": true
   },
   "outputs": [],
   "source": [
    "mono_tweets = df_tweets.loc[df_tweets.userID.isin(mono_users)]"
   ]
  },
  {
   "cell_type": "code",
   "execution_count": 33,
   "metadata": {
    "collapsed": false
   },
   "outputs": [
    {
     "name": "stdout",
     "output_type": "stream",
     "text": [
      "all tweets by poly users:  97565\n",
      "poly users (based with retweets): 979\n"
     ]
    }
   ],
   "source": [
    "print(\"all tweets by poly users: \", len(poly_tweets))\n",
    "print(\"poly users (based with retweets):\", len(poly_tweets.userID.unique()))"
   ]
  },
  {
   "cell_type": "code",
   "execution_count": 191,
   "metadata": {
    "collapsed": false
   },
   "outputs": [
    {
     "name": "stdout",
     "output_type": "stream",
     "text": [
      "all tweets by mono users:  8244\n",
      "mono users (based with retweets): 2198\n"
     ]
    }
   ],
   "source": [
    "print(\"all tweets by mono users: \", len(mono_tweets))\n",
    "print(\"mono users (based with retweets):\", len(mono_tweets.userID.unique()))"
   ]
  },
  {
   "cell_type": "markdown",
   "metadata": {},
   "source": [
    "## Preparing the data"
   ]
  },
  {
   "cell_type": "code",
   "execution_count": 243,
   "metadata": {
    "collapsed": false
   },
   "outputs": [],
   "source": [
    "no_tweets = list()\n",
    "for user in mono_users:\n",
    "    tweets =(mono_tweets.loc[mono_tweets.userID == user])\n",
    "    no_tweets.append((user,len(tweets)))\n",
    "df_user = pd.DataFrame(no_tweets, columns=[\"userID\",\"len_tweets\"])\n",
    "df_user = df_user.sort_values(by=\"len_tweets\",ascending=True)"
   ]
  },
  {
   "cell_type": "code",
   "execution_count": 245,
   "metadata": {
    "collapsed": false
   },
   "outputs": [],
   "source": [
    "users = df_user.userID.unique()\n",
    "i = 0\n",
    "users_no = dict()\n",
    "users_no[0] = 0\n",
    "## sorted non-decreasing list  \n",
    "for idx,element in df_user.iterrows():\n",
    "    if (element[\"len_tweets\"] < (i + 50)):\n",
    "        users_no[i] += 1 \n",
    "    else:\n",
    "        i = i + 50\n",
    "        users_no[i] = 1"
   ]
  },
  {
   "cell_type": "code",
   "execution_count": 242,
   "metadata": {
    "collapsed": false
   },
   "outputs": [
    {
     "data": {
      "image/png": "[encoded data removed]",
      "text/plain": [
       "<Figure size 1440x576 with 1 Axes>"
      ]
     },
     "metadata": {
      "needs_background": "light"
     },
     "output_type": "display_data"
    }
   ],
   "source": [
    "## poly users\n",
    "plt.figure(figsize= (20,8))\n",
    "plt.bar(users_no.keys(), users_no.values(), width = 40, color= \"green\")\n",
    "plt.xlabel(\"no of tweets (i - (i + 50))\")\n",
    "plt.ylabel(\"no of unique users\")\n",
    "plt.title(\"users vs number of tweets\")\n",
    "plt.show()"
   ]
  },
  {
   "cell_type": "code",
   "execution_count": 249,
   "metadata": {
    "collapsed": false
   },
   "outputs": [
    {
     "data": {
      "image/png": "[encoded data removed]",
      "text/plain": [
       "<Figure size 1080x576 with 1 Axes>"
      ]
     },
     "metadata": {
      "needs_background": "light"
     },
     "output_type": "display_data"
    }
   ],
   "source": [
    "## mono users\n",
    "plt.figure(figsize= (15,8))\n",
    "plt.bar(users_no.keys(), users_no.values(), width = 20, color= \"blue\")\n",
    "plt.xlabel(\"no of tweets (i - (i + 50))\")\n",
    "plt.ylabel(\"no of unique users\")\n",
    "plt.title(\"users vs number of tweets\")\n",
    "plt.show()"
   ]
  },
  {
   "cell_type": "code",
   "execution_count": 194,
   "metadata": {
    "collapsed": false
   },
   "outputs": [
    {
     "data": {
      "image/png": "[encoded data removed]",
      "text/plain": [
       "<Figure size 1080x576 with 1 Axes>"
      ]
     },
     "metadata": {
      "needs_background": "light"
     },
     "output_type": "display_data"
    }
   ],
   "source": [
    "## mono users\n",
    "plt.figure(figsize=(15,8))\n",
    "plt.bar([str(user) for user in df_user[\"userID\"]],df_user[\"len_tweets\"],width=5)\n",
    "plt.tick_params(\n",
    "    axis='x',          # changes apply to the x-axis\n",
    "    which='both',      # both major and minor ticks are affected\n",
    "    bottom=False,      # ticks along the bottom edge are off\n",
    "    labelbottom=False)\n",
    "plt.xlabel(\"unique users\", fontsize=10)\n",
    "plt.ylabel(\"no of tweets\",fontsize=10)\n",
    "plt.title(\"distribution of number tweets by user\")\n",
    "plt.show()"
   ]
  },
  {
   "cell_type": "code",
   "execution_count": 59,
   "metadata": {
    "collapsed": false
   },
   "outputs": [
    {
     "data": {
      "image/png": "[encoded data removed]",
      "text/plain": [
       "<Figure size 1080x576 with 1 Axes>"
      ]
     },
     "metadata": {
      "needs_background": "light"
     },
     "output_type": "display_data"
    }
   ],
   "source": [
    "## poly user\n",
    "plt.figure(figsize=(15,8))\n",
    "plt.bar([str(user) for user in df_polyt_user[\"userID\"]],df_polyt_user[\"len_tweets\"],width=5)\n",
    "plt.tick_params(\n",
    "    axis='x',          # changes apply to the x-axis\n",
    "    which='both',      # both major and minor ticks are affected\n",
    "    bottom=False,      # ticks along the bottom edge are off\n",
    "    labelbottom=False)\n",
    "plt.xlabel(\"unique users\", fontsize=10)\n",
    "plt.ylabel(\"no of tweets\",fontsize=10)\n",
    "plt.title(\"distribution of number tweets by user\")\n",
    "plt.show()"
   ]
  },
  {
   "cell_type": "code",
   "execution_count": 271,
   "metadata": {
    "collapsed": false
   },
   "outputs": [],
   "source": [
    "## cleaning the tweets\n",
    "import re\n",
    "def clean_text(text):\n",
    "    text = re.sub(r'(#)', \"\",text) ## removing the hashtags signal \n",
    "    text = re.sub(r'(RT \\w+:)', \"\",text) ## remove the retweet info as they dont convey any information\n",
    "    text = re.sub(r'(author)',\"\",text)\n",
    "#     text = re.sub(r'')\n",
    "    text.rstrip\n",
    "    text.lstrip\n",
    "    return(text)"
   ]
  },
  {
   "cell_type": "markdown",
   "metadata": {},
   "source": [
    "## tf-idf vectorizer"
   ]
  },
  {
   "cell_type": "code",
   "execution_count": 127,
   "metadata": {
    "collapsed": false
   },
   "outputs": [
    {
     "name": "stderr",
     "output_type": "stream",
     "text": [
      "[nltk_data] Downloading package wordnet to\n",
      "[nltk_data]     /home/samarthgoal/nltk_data...\n",
      "[nltk_data]   Package wordnet is already up-to-date!\n",
      "[nltk_data] Downloading package stopwords to\n",
      "[nltk_data]     /home/samarthgoal/nltk_data...\n",
      "[nltk_data]   Package stopwords is already up-to-date!\n"
     ]
    },
    {
     "data": {
      "text/plain": [
       "True"
      ]
     },
     "execution_count": 127,
     "metadata": {},
     "output_type": "execute_result"
    }
   ],
   "source": [
    "import nltk\n",
    "from nltk.corpus import stopwords\n",
    "stopwords = set(stopwords.words('english'))\n",
    "nltk.download('wordnet')\n",
    "nltk.download('stopwords')"
   ]
  },
  {
   "cell_type": "code",
   "execution_count": 129,
   "metadata": {
    "collapsed": true
   },
   "outputs": [],
   "source": [
    "from nltk.corpus import wordnet as wn\n",
    "def get_lemma(word):\n",
    "    lemma = wn.morphy(word)\n",
    "    if lemma is None:\n",
    "        return word\n",
    "    else:\n",
    "        return lemma"
   ]
  },
  {
   "cell_type": "code",
   "execution_count": 280,
   "metadata": {
    "collapsed": false
   },
   "outputs": [],
   "source": [
    "from keras.preprocessing.text import Tokenizer\n",
    "from keras.layers import Embedding\n",
    "from nltk.tokenize import TweetTokenizer\n",
    "tknzr = TweetTokenizer()\n",
    "def get_tokens(sentence):\n",
    "#     tokens = nltk.word_tokenize(sentence)  # now using tweet tokenizer\n",
    "    tokens = tknzr.tokenize(sentence)\n",
    "    tokens = [token.lower() for token in tokens if (token not in stopwords and token.isalpha())] # stopwords removal\n",
    "    tokens = [get_lemma(token) for token in tokens]  # lemmatization\n",
    "    return (\" \".join(tokens))"
   ]
  },
  {
   "cell_type": "code",
   "execution_count": null,
   "metadata": {
    "collapsed": true
   },
   "outputs": [],
   "source": [
    "## cleaning the text\n",
    "poly_tweets[\"tweetText\"] = poly_tweets[\"tweetText\"].apply(clean_text)\n",
    "mono_tweets[\"tweetText\"] = mono_tweets[\"tweetText\"].apply(clean_text)"
   ]
  },
  {
   "cell_type": "code",
   "execution_count": 281,
   "metadata": {
    "collapsed": false
   },
   "outputs": [
    {
     "name": "stderr",
     "output_type": "stream",
     "text": [
      "/home/samarthgoal/.local/lib/python3.5/site-packages/ipykernel_launcher.py:2: SettingWithCopyWarning: \n",
      "A value is trying to be set on a copy of a slice from a DataFrame.\n",
      "Try using .loc[row_indexer,col_indexer] = value instead\n",
      "\n",
      "See the caveats in the documentation: http://pandas.pydata.org/pandas-docs/stable/indexing.html#indexing-view-versus-copy\n",
      "  \n",
      "/home/samarthgoal/.local/lib/python3.5/site-packages/ipykernel_launcher.py:3: SettingWithCopyWarning: \n",
      "A value is trying to be set on a copy of a slice from a DataFrame.\n",
      "Try using .loc[row_indexer,col_indexer] = value instead\n",
      "\n",
      "See the caveats in the documentation: http://pandas.pydata.org/pandas-docs/stable/indexing.html#indexing-view-versus-copy\n",
      "  This is separate from the ipykernel package so we can avoid doing imports until\n"
     ]
    }
   ],
   "source": [
    "## tokenizing and lemmatizing\n",
    "poly_tweets[\"tweetText\"] = (poly_tweets[\"tweetText\"].apply(get_tokens))\n",
    "mono_tweets[\"tweetText\"] = mono_tweets[\"tweetText\"].apply(get_tokens)"
   ]
  },
  {
   "cell_type": "code",
   "execution_count": 276,
   "metadata": {
    "collapsed": false
   },
   "outputs": [],
   "source": [
    "def get_tweets_user(df):\n",
    "    df_tweets_comb = list()\n",
    "    users = df.userID.unique()\n",
    "    for user in users:\n",
    "        tweets =(df.loc[df.userID == user])\n",
    "        tweets_f = (\" . \".join(tweets[\"tweetText\"]))\n",
    "        df_tweets_comb.append((user,tweets_f))\n",
    "    df_user = pd.DataFrame(df_tweets_comb, columns=[\"userID\",\"tweetText\"])\n",
    "    return (df_user)"
   ]
  },
  {
   "cell_type": "code",
   "execution_count": 282,
   "metadata": {
    "collapsed": false
   },
   "outputs": [],
   "source": [
    "poly_tweets_user = get_tweets_user(poly_tweets)\n",
    "mono_tweets_user = get_tweets_user(mono_tweets)"
   ]
  },
  {
   "cell_type": "code",
   "execution_count": 284,
   "metadata": {
    "collapsed": true
   },
   "outputs": [],
   "source": [
    "poly_tweets_user['label'] = \"poly\"\n",
    "mono_tweets_user['label'] = \"mono\""
   ]
  },
  {
   "cell_type": "code",
   "execution_count": 286,
   "metadata": {
    "collapsed": false
   },
   "outputs": [],
   "source": [
    "frames = [poly_tweets_user, mono_tweets_user]\n",
    "final_tweets = pd.concat(frames)"
   ]
  },
  {
   "cell_type": "code",
   "execution_count": 290,
   "metadata": {
    "collapsed": false
   },
   "outputs": [
    {
     "data": {
      "text/plain": [
       "3177"
      ]
     },
     "execution_count": 290,
     "metadata": {},
     "output_type": "execute_result"
    }
   ],
   "source": [
    "len(final_tweets)"
   ]
  },
  {
   "cell_type": "code",
   "execution_count": 292,
   "metadata": {
    "collapsed": false
   },
   "outputs": [],
   "source": [
    "## tokenize and and get the vocalb\n",
    "vectorizer = TfidfVectorizer()"
   ]
  },
  {
   "cell_type": "code",
   "execution_count": 296,
   "metadata": {
    "collapsed": false
   },
   "outputs": [],
   "source": [
    "vect = vectorizer.fit_transform(final_tweets[\"tweetText\"])"
   ]
  },
  {
   "cell_type": "code",
   "execution_count": 294,
   "metadata": {
    "collapsed": false
   },
   "outputs": [],
   "source": [
    "X = (vect.toarray())"
   ]
  },
  {
   "cell_type": "code",
   "execution_count": 363,
   "metadata": {
    "collapsed": false
   },
   "outputs": [],
   "source": [
    "le = LabelEncoder()\n",
    "le.fit(list(final_tweets[\"label\"]))\n",
    "y = le.transform(list(final_tweets[\"label\"]))"
   ]
  },
  {
   "cell_type": "code",
   "execution_count": 366,
   "metadata": {
    "collapsed": false
   },
   "outputs": [
    {
     "data": {
      "text/plain": [
       "array(['mono', 'poly'], dtype='<U4')"
      ]
     },
     "execution_count": 366,
     "metadata": {},
     "output_type": "execute_result"
    }
   ],
   "source": [
    "le.classes_"
   ]
  },
  {
   "cell_type": "code",
   "execution_count": 367,
   "metadata": {
    "collapsed": true
   },
   "outputs": [],
   "source": [
    "##reduce to lower dimesion\n",
    "from sklearn.decomposition import PCA\n",
    "pca = PCA(n_components=100)"
   ]
  },
  {
   "cell_type": "code",
   "execution_count": null,
   "metadata": {
    "collapsed": false
   },
   "outputs": [],
   "source": [
    "X_new = pca.fit_transform(X)"
   ]
  },
  {
   "cell_type": "code",
   "execution_count": 298,
   "metadata": {
    "collapsed": false
   },
   "outputs": [
    {
     "data": {
      "text/plain": [
       "(3177, 50779)"
      ]
     },
     "execution_count": 298,
     "metadata": {},
     "output_type": "execute_result"
    }
   ],
   "source": [
    "X.shape"
   ]
  },
  {
   "cell_type": "code",
   "execution_count": 325,
   "metadata": {
    "collapsed": false
   },
   "outputs": [
    {
     "data": {
      "text/plain": [
       "(3177, 100)"
      ]
     },
     "execution_count": 325,
     "metadata": {},
     "output_type": "execute_result"
    }
   ],
   "source": [
    "X_new.shape"
   ]
  },
  {
   "cell_type": "code",
   "execution_count": 340,
   "metadata": {
    "collapsed": false
   },
   "outputs": [],
   "source": [
    "from sklearn.utils import shuffle\n",
    "X_new, y = shuffle(X_new, y, random_state=4)"
   ]
  },
  {
   "cell_type": "code",
   "execution_count": 342,
   "metadata": {
    "collapsed": true
   },
   "outputs": [],
   "source": [
    "## train test split\n",
    "X_train,X_test,Y_train,Y_test  = train_test_split(X_new, y,test_size =0.20,random_state= 4 )"
   ]
  },
  {
   "cell_type": "code",
   "execution_count": 472,
   "metadata": {
    "collapsed": true
   },
   "outputs": [],
   "source": [
    "## Classification\n",
    "def svm_wrapper(X_train,Y_train):\n",
    "    param_grid = [\n",
    "    {'C': [1, 10], 'kernel': ['linear']},\n",
    "    {'C': [1, 10], 'gamma': [0.1,0.01], 'kernel': ['rbf']},]\n",
    "    svm1 = GridSearchCV(SVC(),param_grid,verbose=4)\n",
    "    svm1.fit(X_train, Y_train)\n",
    "    return(svm1)"
   ]
  },
  {
   "cell_type": "code",
   "execution_count": 463,
   "metadata": {
    "collapsed": false
   },
   "outputs": [
    {
     "data": {
      "text/plain": [
       "(84647, 100)"
      ]
     },
     "execution_count": 463,
     "metadata": {},
     "output_type": "execute_result"
    }
   ],
   "source": [
    "X_train.shape"
   ]
  },
  {
   "cell_type": "code",
   "execution_count": 345,
   "metadata": {
    "collapsed": false
   },
   "outputs": [
    {
     "name": "stderr",
     "output_type": "stream",
     "text": [
      "/home/samarthgoal/.local/lib/python3.5/site-packages/sklearn/model_selection/_split.py:2053: FutureWarning: You should specify a value for 'cv' instead of relying on the default value. The default value will change from 3 to 5 in version 0.22.\n",
      "  warnings.warn(CV_WARNING, FutureWarning)\n"
     ]
    }
   ],
   "source": [
    "svm = svm_wrapper(X_train, Y_train)"
   ]
  },
  {
   "cell_type": "code",
   "execution_count": 370,
   "metadata": {
    "collapsed": false
   },
   "outputs": [
    {
     "data": {
      "text/plain": [
       "RandomForestClassifier(bootstrap=True, class_weight=None, criterion='gini',\n",
       "            max_depth=2, max_features='auto', max_leaf_nodes=None,\n",
       "            min_impurity_decrease=0.0, min_impurity_split=None,\n",
       "            min_samples_leaf=1, min_samples_split=2,\n",
       "            min_weight_fraction_leaf=0.0, n_estimators=100, n_jobs=None,\n",
       "            oob_score=False, random_state=0, verbose=0, warm_start=False)"
      ]
     },
     "execution_count": 370,
     "metadata": {},
     "output_type": "execute_result"
    }
   ],
   "source": [
    "rf = RandomForestClassifier(n_estimators=100, max_depth=2,\n",
    "                             random_state=0)\n",
    "rf.fit(X_train,Y_train)"
   ]
  },
  {
   "cell_type": "code",
   "execution_count": 377,
   "metadata": {
    "collapsed": false
   },
   "outputs": [
    {
     "data": {
      "text/plain": [
       "ExtraTreesClassifier(bootstrap=False, class_weight=None, criterion='gini',\n",
       "           max_depth=None, max_features='auto', max_leaf_nodes=None,\n",
       "           min_impurity_decrease=0.0, min_impurity_split=None,\n",
       "           min_samples_leaf=1, min_samples_split=2,\n",
       "           min_weight_fraction_leaf=0.0, n_estimators=200, n_jobs=None,\n",
       "           oob_score=False, random_state=None, verbose=0, warm_start=False)"
      ]
     },
     "execution_count": 377,
     "metadata": {},
     "output_type": "execute_result"
    }
   ],
   "source": [
    "etree = ExtraTreesClassifier(n_estimators=200)\n",
    "etree.fit(X_train,Y_train)"
   ]
  },
  {
   "cell_type": "code",
   "execution_count": 380,
   "metadata": {
    "collapsed": false
   },
   "outputs": [
    {
     "name": "stdout",
     "output_type": "stream",
     "text": [
      "  Classification Report:\n",
      "               precision    recall  f1-score   support\n",
      "\n",
      "           0       0.94      0.98      0.96       440\n",
      "           1       0.95      0.86      0.90       196\n",
      "\n",
      "   micro avg       0.94      0.94      0.94       636\n",
      "   macro avg       0.94      0.92      0.93       636\n",
      "weighted avg       0.94      0.94      0.94       636\n",
      " \n",
      "\n"
     ]
    },
    {
     "data": {
      "text/plain": [
       "0.9418238993710691"
      ]
     },
     "execution_count": 380,
     "metadata": {},
     "output_type": "execute_result"
    }
   ],
   "source": [
    "## svm\n",
    "Y_pred = svm.predict(X_test)\n",
    "from sklearn.metrics import classification_report,confusion_matrix\n",
    "print('  Classification Report:\\n',classification_report(Y_test,Y_pred),'\\n')\n",
    "## accuarcy score\n",
    "(Y_test == Y_pred).mean()"
   ]
  },
  {
   "cell_type": "code",
   "execution_count": 383,
   "metadata": {
    "collapsed": false
   },
   "outputs": [
    {
     "name": "stdout",
     "output_type": "stream",
     "text": [
      "  Classification Report:\n",
      "               precision    recall  f1-score   support\n",
      "\n",
      "           0       0.83      0.99      0.90       440\n",
      "           1       0.96      0.53      0.68       196\n",
      "\n",
      "   micro avg       0.85      0.85      0.85       636\n",
      "   macro avg       0.89      0.76      0.79       636\n",
      "weighted avg       0.87      0.85      0.83       636\n",
      " \n",
      "\n"
     ]
    },
    {
     "data": {
      "text/plain": [
       "0.8490566037735849"
      ]
     },
     "execution_count": 383,
     "metadata": {},
     "output_type": "execute_result"
    }
   ],
   "source": [
    "## random forest\n",
    "Y_pred = rf.predict(X_test)\n",
    "from sklearn.metrics import classification_report,confusion_matrix\n",
    "print('  Classification Report:\\n',classification_report(Y_test,Y_pred),'\\n')\n",
    "## accuarcy score\n",
    "(Y_test == Y_pred).mean()"
   ]
  },
  {
   "cell_type": "code",
   "execution_count": 384,
   "metadata": {
    "collapsed": false
   },
   "outputs": [
    {
     "name": "stdout",
     "output_type": "stream",
     "text": [
      "  Classification Report:\n",
      "               precision    recall  f1-score   support\n",
      "\n",
      "           0       0.91      0.97      0.94       440\n",
      "           1       0.92      0.80      0.85       196\n",
      "\n",
      "   micro avg       0.92      0.92      0.92       636\n",
      "   macro avg       0.92      0.88      0.90       636\n",
      "weighted avg       0.92      0.92      0.91       636\n",
      " \n",
      "\n"
     ]
    },
    {
     "data": {
      "text/plain": [
       "0.9166666666666666"
      ]
     },
     "execution_count": 384,
     "metadata": {},
     "output_type": "execute_result"
    }
   ],
   "source": [
    "Y_pred = etree.predict(X_test)\n",
    "from sklearn.metrics import classification_report,confusion_matrix\n",
    "print('  Classification Report:\\n',classification_report(Y_test,Y_pred),'\\n')\n",
    "## accuarcy score\n",
    "(Y_test == Y_pred).mean()"
   ]
  },
  {
   "cell_type": "code",
   "execution_count": 397,
   "metadata": {
    "collapsed": false
   },
   "outputs": [
    {
     "name": "stderr",
     "output_type": "stream",
     "text": [
      "/home/samarthgoal/.local/lib/python3.5/site-packages/ipykernel_launcher.py:2: SettingWithCopyWarning: \n",
      "A value is trying to be set on a copy of a slice from a DataFrame.\n",
      "Try using .loc[row_indexer,col_indexer] = value instead\n",
      "\n",
      "See the caveats in the documentation: http://pandas.pydata.org/pandas-docs/stable/indexing.html#indexing-view-versus-copy\n",
      "  \n",
      "/home/samarthgoal/.local/lib/python3.5/site-packages/ipykernel_launcher.py:3: SettingWithCopyWarning: \n",
      "A value is trying to be set on a copy of a slice from a DataFrame.\n",
      "Try using .loc[row_indexer,col_indexer] = value instead\n",
      "\n",
      "See the caveats in the documentation: http://pandas.pydata.org/pandas-docs/stable/indexing.html#indexing-view-versus-copy\n",
      "  This is separate from the ipykernel package so we can avoid doing imports until\n"
     ]
    }
   ],
   "source": [
    "### sentence level ..\n",
    "poly_tweets[\"poly_mono\"] = \"poly\"\n",
    "mono_tweets[\"poly_mono\"] = \"mono\""
   ]
  },
  {
   "cell_type": "code",
   "execution_count": 400,
   "metadata": {
    "collapsed": true
   },
   "outputs": [],
   "source": [
    "frames = [poly_tweets, mono_tweets]\n",
    "df_final_tweets = pd.concat(frames)"
   ]
  },
  {
   "cell_type": "code",
   "execution_count": 403,
   "metadata": {
    "collapsed": false
   },
   "outputs": [],
   "source": [
    "df_final_sentences = df_final_tweets[['tweetText','poly_mono']]"
   ]
  },
  {
   "cell_type": "code",
   "execution_count": 405,
   "metadata": {
    "collapsed": false
   },
   "outputs": [
    {
     "data": {
      "text/plain": [
       "105809"
      ]
     },
     "execution_count": 405,
     "metadata": {},
     "output_type": "execute_result"
    }
   ],
   "source": [
    "len(df_final_sentences)"
   ]
  },
  {
   "cell_type": "code",
   "execution_count": 407,
   "metadata": {
    "collapsed": true
   },
   "outputs": [],
   "source": [
    "## tokenize and and get the vocalb\n",
    "vect_sentence = TfidfVectorizer()"
   ]
  },
  {
   "cell_type": "code",
   "execution_count": 412,
   "metadata": {
    "collapsed": true
   },
   "outputs": [],
   "source": [
    "vect2 = vect_sentence.fit_transform(df_final_sentences[\"tweetText\"])"
   ]
  },
  {
   "cell_type": "code",
   "execution_count": 415,
   "metadata": {
    "collapsed": false
   },
   "outputs": [
    {
     "data": {
      "text/plain": [
       "<105809x50779 sparse matrix of type '<class 'numpy.float64'>'\n",
       "\twith 1157356 stored elements in Compressed Sparse Row format>"
      ]
     },
     "execution_count": 415,
     "metadata": {},
     "output_type": "execute_result"
    }
   ],
   "source": [
    "vect2"
   ]
  },
  {
   "cell_type": "code",
   "execution_count": 418,
   "metadata": {
    "collapsed": true
   },
   "outputs": [],
   "source": [
    "## sentences\n",
    "count_vect = CountVectorizer()"
   ]
  },
  {
   "cell_type": "code",
   "execution_count": 424,
   "metadata": {
    "collapsed": false
   },
   "outputs": [
    {
     "data": {
      "text/plain": [
       "CountVectorizer(analyzer='word', binary=False, decode_error='strict',\n",
       "        dtype=<class 'numpy.int64'>, encoding='utf-8', input='content',\n",
       "        lowercase=True, max_df=1.0, max_features=None, min_df=1,\n",
       "        ngram_range=(1, 1), preprocessor=None, stop_words=None,\n",
       "        strip_accents=None, token_pattern='(?u)\\\\b\\\\w\\\\w+\\\\b',\n",
       "        tokenizer=None, vocabulary=None)"
      ]
     },
     "execution_count": 424,
     "metadata": {},
     "output_type": "execute_result"
    }
   ],
   "source": [
    "count_vect.fit(df_final_sentences[\"tweetText\"])"
   ]
  },
  {
   "cell_type": "code",
   "execution_count": 426,
   "metadata": {
    "collapsed": false
   },
   "outputs": [
    {
     "name": "stdout",
     "output_type": "stream",
     "text": [
      "50779\n"
     ]
    }
   ],
   "source": [
    "print(len(count_vect.vocabulary_))"
   ]
  },
  {
   "cell_type": "code",
   "execution_count": 431,
   "metadata": {
    "collapsed": true
   },
   "outputs": [],
   "source": [
    "matrix = count_vect.transform(df_final_sentences[\"tweetText\"])"
   ]
  },
  {
   "cell_type": "code",
   "execution_count": 432,
   "metadata": {
    "collapsed": false
   },
   "outputs": [
    {
     "data": {
      "text/plain": [
       "(105809, 50779)"
      ]
     },
     "execution_count": 432,
     "metadata": {},
     "output_type": "execute_result"
    }
   ],
   "source": [
    "matrix.shape"
   ]
  },
  {
   "cell_type": "code",
   "execution_count": 434,
   "metadata": {
    "collapsed": false
   },
   "outputs": [
    {
     "data": {
      "text/plain": [
       "<1x50779 sparse matrix of type '<class 'numpy.int64'>'\n",
       "\twith 9 stored elements in Compressed Sparse Row format>"
      ]
     },
     "execution_count": 434,
     "metadata": {},
     "output_type": "execute_result"
    }
   ],
   "source": [
    "matrix[0]"
   ]
  },
  {
   "cell_type": "code",
   "execution_count": 437,
   "metadata": {
    "collapsed": true
   },
   "outputs": [],
   "source": [
    "## due to large vocabulary and memory errors using hashing vectorizer\n",
    "from sklearn.feature_extraction.text import HashingVectorizer\n",
    "hashing = HashingVectorizer(n_features=100)"
   ]
  },
  {
   "cell_type": "code",
   "execution_count": 439,
   "metadata": {
    "collapsed": false
   },
   "outputs": [],
   "source": [
    "vector = hashing.transform(df_final_sentences[\"tweetText\"])"
   ]
  },
  {
   "cell_type": "code",
   "execution_count": 441,
   "metadata": {
    "collapsed": false
   },
   "outputs": [],
   "source": [
    "X = vector.toarray()"
   ]
  },
  {
   "cell_type": "code",
   "execution_count": 442,
   "metadata": {
    "collapsed": false
   },
   "outputs": [
    {
     "data": {
      "text/plain": [
       "(105809, 100)"
      ]
     },
     "execution_count": 442,
     "metadata": {},
     "output_type": "execute_result"
    }
   ],
   "source": [
    "X.shape"
   ]
  },
  {
   "cell_type": "code",
   "execution_count": 449,
   "metadata": {
    "collapsed": false
   },
   "outputs": [],
   "source": [
    "le = LabelEncoder()\n",
    "le.fit(list(df_final_sentences[\"poly_mono\"]))\n",
    "y = le.transform(list(df_final_sentences[\"poly_mono\"]))"
   ]
  },
  {
   "cell_type": "code",
   "execution_count": 451,
   "metadata": {
    "collapsed": false
   },
   "outputs": [
    {
     "data": {
      "text/plain": [
       "array(['mono', 'poly'], dtype='<U4')"
      ]
     },
     "execution_count": 451,
     "metadata": {},
     "output_type": "execute_result"
    }
   ],
   "source": [
    "le.classes_"
   ]
  },
  {
   "cell_type": "code",
   "execution_count": 456,
   "metadata": {
    "collapsed": true
   },
   "outputs": [],
   "source": [
    "X,y = shuffle(X,y, random_state=5)"
   ]
  },
  {
   "cell_type": "code",
   "execution_count": 460,
   "metadata": {
    "collapsed": true
   },
   "outputs": [],
   "source": [
    "X_train,X_test,Y_train,Y_test = train_test_split(X,y,test_size =0.20,random_state= 4)"
   ]
  },
  {
   "cell_type": "code",
   "execution_count": 470,
   "metadata": {
    "collapsed": false
   },
   "outputs": [
    {
     "data": {
      "text/plain": [
       "(84647, 100)"
      ]
     },
     "execution_count": 470,
     "metadata": {},
     "output_type": "execute_result"
    }
   ],
   "source": [
    "X_train.shape"
   ]
  },
  {
   "cell_type": "code",
   "execution_count": null,
   "metadata": {
    "collapsed": false
   },
   "outputs": [
    {
     "name": "stderr",
     "output_type": "stream",
     "text": [
      "/home/samarthgoal/.local/lib/python3.5/site-packages/sklearn/model_selection/_split.py:2053: FutureWarning: You should specify a value for 'cv' instead of relying on the default value. The default value will change from 3 to 5 in version 0.22.\n",
      "  warnings.warn(CV_WARNING, FutureWarning)\n",
      "[Parallel(n_jobs=1)]: Using backend SequentialBackend with 1 concurrent workers.\n"
     ]
    },
    {
     "name": "stdout",
     "output_type": "stream",
     "text": [
      "Fitting 3 folds for each of 6 candidates, totalling 18 fits\n",
      "[CV] C=1, kernel=linear ..............................................\n",
      "[CV] ..... C=1, kernel=linear, score=0.9221009356393536, total= 2.1min\n",
      "[CV] C=1, kernel=linear ..............................................\n"
     ]
    },
    {
     "name": "stderr",
     "output_type": "stream",
     "text": [
      "[Parallel(n_jobs=1)]: Done   1 out of   1 | elapsed:  3.2min remaining:    0.0s\n"
     ]
    },
    {
     "name": "stdout",
     "output_type": "stream",
     "text": [
      "[CV] ..... C=1, kernel=linear, score=0.9221009356393536, total= 2.2min\n",
      "[CV] C=1, kernel=linear ..............................................\n"
     ]
    },
    {
     "name": "stderr",
     "output_type": "stream",
     "text": [
      "[Parallel(n_jobs=1)]: Done   2 out of   2 | elapsed:  6.4min remaining:    0.0s\n"
     ]
    },
    {
     "name": "stdout",
     "output_type": "stream",
     "text": [
      "[CV] ..... C=1, kernel=linear, score=0.9220981747297536, total= 2.2min\n",
      "[CV] C=10, kernel=linear .............................................\n"
     ]
    },
    {
     "name": "stderr",
     "output_type": "stream",
     "text": [
      "[Parallel(n_jobs=1)]: Done   3 out of   3 | elapsed:  9.7min remaining:    0.0s\n"
     ]
    },
    {
     "name": "stdout",
     "output_type": "stream",
     "text": [
      "[CV] .... C=10, kernel=linear, score=0.9221009356393536, total= 5.3min\n",
      "[CV] C=10, kernel=linear .............................................\n",
      "[CV] .... C=10, kernel=linear, score=0.9221009356393536, total= 5.3min\n",
      "[CV] C=10, kernel=linear .............................................\n",
      "[CV] .... C=10, kernel=linear, score=0.9220981747297536, total= 5.2min\n",
      "[CV] C=1, gamma=0.1, kernel=rbf ......................................\n",
      "[CV]  C=1, gamma=0.1, kernel=rbf, score=0.9221009356393536, total=61.4min\n",
      "[CV] C=1, gamma=0.1, kernel=rbf ......................................\n"
     ]
    }
   ],
   "source": [
    "svm = svm_wrapper(X_train, Y_train)\n",
    "## svm\n",
    "Y_pred = svm.predict(X_test)\n",
    "from sklearn.metrics import classification_report,confusion_matrix\n",
    "print('  Classification Report:\\n',classification_report(Y_test,Y_pred),'\\n')\n",
    "## accuarcy score\n",
    "(Y_test == Y_pred).mean()"
   ]
  },
  {
   "cell_type": "code",
   "execution_count": null,
   "metadata": {
    "collapsed": true
   },
   "outputs": [],
   "source": [
    "rf = RandomForestClassifier(n_estimators=100, max_depth=2,\n",
    "                             random_state=0,verbose=4)\n",
    "rf.fit(X_train,Y_train,verbose=1)\n",
    "Y_pred = rf.predict(X_test)\n",
    "from sklearn.metrics import classification_report,confusion_matrix\n",
    "print('  Classification Report:\\n',classification_report(Y_test,Y_pred),'\\n')\n",
    "## accuarcy score\n",
    "(Y_test == Y_pred).mean()"
   ]
  },
  {
   "cell_type": "code",
   "execution_count": null,
   "metadata": {
    "collapsed": true
   },
   "outputs": [],
   "source": [
    "etree = ExtraTreesClassifier(n_estimators=200,verbose=4)\n",
    "etree.fit(X_train,Y_train,verbose=1)\n",
    "Y_pred = etree.predict(X_test)\n",
    "from sklearn.metrics import classification_report,confusion_matrix\n",
    "print('  Classification Report:\\n',classification_report(Y_test,Y_pred),'\\n')\n",
    "## accuarcy score\n",
    "(Y_test == Y_pred).mean()"
   ]
  },
  {
   "cell_type": "markdown",
   "metadata": {},
   "source": [
    "### dump the data"
   ]
  },
  {
   "cell_type": "code",
   "execution_count": 357,
   "metadata": {
    "collapsed": false
   },
   "outputs": [],
   "source": [
    "## poly_mono_tweet dataset\n",
    "path= os.path.join(poly_dir,\"poly_mono_tweets.csv\")\n",
    "final_tweets.to_csv(path)"
   ]
  }
 ],
 "metadata": {
  "kernelspec": {
   "display_name": "Python 3",
   "language": "python",
   "name": "python3"
  },
  "language_info": {
   "codemirror_mode": {
    "name": "ipython",
    "version": 3
   },
   "file_extension": ".py",
   "mimetype": "text/x-python",
   "name": "python",
   "nbconvert_exporter": "python",
   "pygments_lexer": "ipython3",
   "version": "3.5.4"
  }
 },
 "nbformat": 4,
 "nbformat_minor": 0
}
