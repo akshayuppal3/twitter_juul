{
 "cells": [
  {
   "cell_type": "code",
   "execution_count": 5,
   "metadata": {
    "ExecuteTime": {
     "end_time": "2019-01-12T18:19:24.086672Z",
     "start_time": "2019-01-12T18:19:24.082239Z"
    }
   },
   "outputs": [],
   "source": [
    "import pandas as pd\n",
    "import numpy as np\n",
    "import nltk\n",
    "# import spacy\n",
    "import re"
   ]
  },
  {
   "cell_type": "code",
   "execution_count": 6,
   "metadata": {
    "ExecuteTime": {
     "end_time": "2019-01-12T18:19:24.824083Z",
     "start_time": "2019-01-12T18:19:24.820673Z"
    },
    "collapsed": true
   },
   "outputs": [],
   "source": [
    "import warnings\n",
    "warnings.filterwarnings('once')"
   ]
  },
  {
   "cell_type": "code",
   "execution_count": 10,
   "metadata": {
    "ExecuteTime": {
     "end_time": "2019-01-12T18:20:10.319410Z",
     "start_time": "2019-01-12T18:19:58.840981Z"
    }
   },
   "outputs": [],
   "source": [
    "df = pd.read_csv('/home/akshayuppal3/userTimelineData.csv',lineterminator='\\n', index_col=None)"
   ]
  },
  {
   "cell_type": "code",
   "execution_count": 11,
   "metadata": {
    "ExecuteTime": {
     "end_time": "2019-01-12T18:20:10.356525Z",
     "start_time": "2019-01-12T18:20:10.321494Z"
    },
    "scrolled": true
   },
   "outputs": [],
   "source": [
    "# getting the column with tweets text\n",
    "tweets = pd.DataFrame(df.tweetText)"
   ]
  },
  {
   "cell_type": "markdown",
   "metadata": {},
   "source": [
    "#### Preprocessing"
   ]
  },
  {
   "cell_type": "code",
   "execution_count": 15,
   "metadata": {
    "ExecuteTime": {
     "end_time": "2019-01-12T18:20:18.169573Z",
     "start_time": "2019-01-12T18:20:18.166241Z"
    }
   },
   "outputs": [],
   "source": [
    "# spacy.load('en')\n",
    "# from spacy.lang.en import English\n",
    "# parser = English()"
   ]
  },
  {
   "cell_type": "code",
   "execution_count": 16,
   "metadata": {
    "ExecuteTime": {
     "end_time": "2019-01-12T18:20:18.562018Z",
     "start_time": "2019-01-12T18:20:18.546725Z"
    }
   },
   "outputs": [
    {
     "data": {
      "text/plain": [
       "tweetText    Donut blow your shot. 🍩🏀\n",
       "Name: 12, dtype: object"
      ]
     },
     "execution_count": 16,
     "metadata": {},
     "output_type": "execute_result"
    }
   ],
   "source": [
    "text = tweets.iloc[12]\n",
    "text"
   ]
  },
  {
   "cell_type": "code",
   "execution_count": 17,
   "metadata": {
    "ExecuteTime": {
     "end_time": "2019-01-12T18:20:18.995657Z",
     "start_time": "2019-01-12T18:20:18.827722Z"
    }
   },
   "outputs": [
    {
     "name": "stdout",
     "output_type": "stream",
     "text": [
      "[nltk_data] Downloading package stopwords to\n",
      "[nltk_data]     /home/akshayuppal3/nltk_data...\n",
      "[nltk_data]   Package stopwords is already up-to-date!\n"
     ]
    },
    {
     "name": "stderr",
     "output_type": "stream",
     "text": [
      "/home/akshayuppal3/anaconda3/lib/python3.5/site-packages/nltk/corpus/reader/wordlist.py:25: ResourceWarning: unclosed file <_io.BufferedReader name='/home/akshayuppal3/nltk_data/corpora/stopwords/english'>\n",
      "  return concat([self.open(f).read() for f in fileids])\n"
     ]
    }
   ],
   "source": [
    "# getting stpwords from nltk\n",
    "nltk.download('stopwords')\n",
    "stopword_set = set(nltk.corpus.stopwords.words('english'))"
   ]
  },
  {
   "cell_type": "code",
   "execution_count": 18,
   "metadata": {
    "ExecuteTime": {
     "end_time": "2019-01-12T18:20:28.376043Z",
     "start_time": "2019-01-12T18:20:18.998742Z"
    }
   },
   "outputs": [],
   "source": [
    "df_tweet = (df['tweetText'].str.lower().str.split())"
   ]
  },
  {
   "cell_type": "code",
   "execution_count": 19,
   "metadata": {
    "ExecuteTime": {
     "end_time": "2019-01-12T18:20:28.443429Z",
     "start_time": "2019-01-12T18:20:28.378211Z"
    }
   },
   "outputs": [
    {
     "data": {
      "text/plain": [
       "['i',\n",
       " 'didn’t',\n",
       " 'know',\n",
       " 'i',\n",
       " 'needed',\n",
       " 'this,',\n",
       " 'but',\n",
       " 'i',\n",
       " 'did',\n",
       " 'https://t.co/wmgwiz4ixz']"
      ]
     },
     "execution_count": 19,
     "metadata": {},
     "output_type": "execute_result"
    }
   ],
   "source": [
    "df_tweet[444]"
   ]
  },
  {
   "cell_type": "code",
   "execution_count": 20,
   "metadata": {
    "ExecuteTime": {
     "end_time": "2019-01-12T18:20:37.145825Z",
     "start_time": "2019-01-12T18:20:28.445412Z"
    },
    "collapsed": true
   },
   "outputs": [],
   "source": [
    "# removing the stop words\n",
    "df_tweet = df_tweet.apply(lambda x: [item for item in x if item not in stopword_set])"
   ]
  },
  {
   "cell_type": "code",
   "execution_count": 21,
   "metadata": {
    "ExecuteTime": {
     "end_time": "2019-01-12T18:20:37.159035Z",
     "start_time": "2019-01-12T18:20:37.153753Z"
    }
   },
   "outputs": [
    {
     "data": {
      "text/plain": [
       "['didn’t', 'know', 'needed', 'this,', 'https://t.co/wmgwiz4ixz']"
      ]
     },
     "execution_count": 21,
     "metadata": {},
     "output_type": "execute_result"
    }
   ],
   "source": [
    "df_tweet[444]"
   ]
  },
  {
   "cell_type": "code",
   "execution_count": 22,
   "metadata": {
    "ExecuteTime": {
     "end_time": "2019-01-12T18:20:38.667857Z",
     "start_time": "2019-01-12T18:20:37.160956Z"
    },
    "scrolled": true
   },
   "outputs": [],
   "source": [
    "df_tweet = df_tweet.str.join(\" \")"
   ]
  },
  {
   "cell_type": "code",
   "execution_count": 23,
   "metadata": {
    "ExecuteTime": {
     "end_time": "2019-01-12T18:20:38.706739Z",
     "start_time": "2019-01-12T18:20:38.674925Z"
    },
    "scrolled": true
   },
   "outputs": [
    {
     "ename": "TypeError",
     "evalue": "object of type '_sre.SRE_Pattern' has no len()",
     "output_type": "error",
     "traceback": [
      "\u001b[0;31m---------------------------------------------------------------------------\u001b[0m",
      "\u001b[0;31mTypeError\u001b[0m                                 Traceback (most recent call last)",
      "\u001b[0;32m<ipython-input-23-6116f168b676>\u001b[0m in \u001b[0;36m<module>\u001b[0;34m()\u001b[0m\n\u001b[1;32m      2\u001b[0m \u001b[0mpattern\u001b[0m \u001b[0;34m=\u001b[0m \u001b[0mre\u001b[0m\u001b[0;34m.\u001b[0m\u001b[0mcompile\u001b[0m\u001b[0;34m(\u001b[0m\u001b[0;34mr'^[a-zA-Z0-9_.-]*$'\u001b[0m\u001b[0;34m,\u001b[0m \u001b[0mflags\u001b[0m\u001b[0;34m=\u001b[0m\u001b[0mre\u001b[0m\u001b[0;34m.\u001b[0m\u001b[0mIGNORECASE\u001b[0m\u001b[0;34m)\u001b[0m\u001b[0;34m\u001b[0m\u001b[0m\n\u001b[1;32m      3\u001b[0m \u001b[0;31m# pattern = re.compile('([^\\s\\w]|_)+')\u001b[0m\u001b[0;34m\u001b[0m\u001b[0;34m\u001b[0m\u001b[0m\n\u001b[0;32m----> 4\u001b[0;31m \u001b[0mdf_tweet_p\u001b[0m \u001b[0;34m=\u001b[0m \u001b[0mdf_tweet\u001b[0m\u001b[0;34m.\u001b[0m\u001b[0mstr\u001b[0m\u001b[0;34m.\u001b[0m\u001b[0mreplace\u001b[0m\u001b[0;34m(\u001b[0m\u001b[0mpattern\u001b[0m\u001b[0;34m,\u001b[0m\u001b[0;34m\"\"\u001b[0m\u001b[0;34m)\u001b[0m\u001b[0;34m\u001b[0m\u001b[0m\n\u001b[0m",
      "\u001b[0;32m/home/akshayuppal3/anaconda3/lib/python3.5/site-packages/pandas/core/strings.py\u001b[0m in \u001b[0;36mreplace\u001b[0;34m(self, pat, repl, n, case, flags)\u001b[0m\n\u001b[1;32m   1481\u001b[0m     \u001b[0;32mdef\u001b[0m \u001b[0mreplace\u001b[0m\u001b[0;34m(\u001b[0m\u001b[0mself\u001b[0m\u001b[0;34m,\u001b[0m \u001b[0mpat\u001b[0m\u001b[0;34m,\u001b[0m \u001b[0mrepl\u001b[0m\u001b[0;34m,\u001b[0m \u001b[0mn\u001b[0m\u001b[0;34m=\u001b[0m\u001b[0;34m-\u001b[0m\u001b[0;36m1\u001b[0m\u001b[0;34m,\u001b[0m \u001b[0mcase\u001b[0m\u001b[0;34m=\u001b[0m\u001b[0;32mTrue\u001b[0m\u001b[0;34m,\u001b[0m \u001b[0mflags\u001b[0m\u001b[0;34m=\u001b[0m\u001b[0;36m0\u001b[0m\u001b[0;34m)\u001b[0m\u001b[0;34m:\u001b[0m\u001b[0;34m\u001b[0m\u001b[0m\n\u001b[1;32m   1482\u001b[0m         result = str_replace(self._data, pat, repl, n=n, case=case,\n\u001b[0;32m-> 1483\u001b[0;31m                              flags=flags)\n\u001b[0m\u001b[1;32m   1484\u001b[0m         \u001b[0;32mreturn\u001b[0m \u001b[0mself\u001b[0m\u001b[0;34m.\u001b[0m\u001b[0m_wrap_result\u001b[0m\u001b[0;34m(\u001b[0m\u001b[0mresult\u001b[0m\u001b[0;34m)\u001b[0m\u001b[0;34m\u001b[0m\u001b[0m\n\u001b[1;32m   1485\u001b[0m \u001b[0;34m\u001b[0m\u001b[0m\n",
      "\u001b[0;32m/home/akshayuppal3/anaconda3/lib/python3.5/site-packages/pandas/core/strings.py\u001b[0m in \u001b[0;36mstr_replace\u001b[0;34m(arr, pat, repl, n, case, flags)\u001b[0m\n\u001b[1;32m    311\u001b[0m     \u001b[0mreplaced\u001b[0m \u001b[0;34m:\u001b[0m \u001b[0mSeries\u001b[0m\u001b[0;34m/\u001b[0m\u001b[0mIndex\u001b[0m \u001b[0mof\u001b[0m \u001b[0mobjects\u001b[0m\u001b[0;34m\u001b[0m\u001b[0m\n\u001b[1;32m    312\u001b[0m     \"\"\"\n\u001b[0;32m--> 313\u001b[0;31m     \u001b[0muse_re\u001b[0m \u001b[0;34m=\u001b[0m \u001b[0;32mnot\u001b[0m \u001b[0mcase\u001b[0m \u001b[0;32mor\u001b[0m \u001b[0mlen\u001b[0m\u001b[0;34m(\u001b[0m\u001b[0mpat\u001b[0m\u001b[0;34m)\u001b[0m \u001b[0;34m>\u001b[0m \u001b[0;36m1\u001b[0m \u001b[0;32mor\u001b[0m \u001b[0mflags\u001b[0m\u001b[0;34m\u001b[0m\u001b[0m\n\u001b[0m\u001b[1;32m    314\u001b[0m \u001b[0;34m\u001b[0m\u001b[0m\n\u001b[1;32m    315\u001b[0m     \u001b[0;32mif\u001b[0m \u001b[0muse_re\u001b[0m\u001b[0;34m:\u001b[0m\u001b[0;34m\u001b[0m\u001b[0m\n",
      "\u001b[0;31mTypeError\u001b[0m: object of type '_sre.SRE_Pattern' has no len()"
     ]
    }
   ],
   "source": [
    "# pattern = re.compile('[\\W_]+')--\n",
    "pattern = re.compile(r'^[a-zA-Z0-9_.-]*$', flags=re.IGNORECASE)\n",
    "# pattern = re.compile('([^\\s\\w]|_)+')\n",
    "df_tweet_p = df_tweet.str.replace(pattern,\"\")"
   ]
  },
  {
   "cell_type": "code",
   "execution_count": null,
   "metadata": {
    "ExecuteTime": {
     "end_time": "2019-01-12T18:20:38.707271Z",
     "start_time": "2019-01-12T18:20:38.211Z"
    },
    "collapsed": true
   },
   "outputs": [],
   "source": [
    "df_tweet_p = df_tweet_p.str.lstrip().str.rstrip()"
   ]
  },
  {
   "cell_type": "code",
   "execution_count": null,
   "metadata": {
    "ExecuteTime": {
     "end_time": "2019-01-12T18:20:38.707517Z",
     "start_time": "2019-01-12T18:20:38.618Z"
    },
    "collapsed": true
   },
   "outputs": [],
   "source": [
    "df_tweet_ = df_tweet_p"
   ]
  },
  {
   "cell_type": "code",
   "execution_count": null,
   "metadata": {
    "ExecuteTime": {
     "end_time": "2019-01-12T18:20:38.707740Z",
     "start_time": "2019-01-12T18:20:39.138Z"
    }
   },
   "outputs": [],
   "source": [
    "df_tweet_[1344155]"
   ]
  },
  {
   "cell_type": "code",
   "execution_count": null,
   "metadata": {
    "ExecuteTime": {
     "end_time": "2019-01-12T18:20:38.708010Z",
     "start_time": "2019-01-12T18:20:40.625Z"
    },
    "collapsed": true
   },
   "outputs": [],
   "source": [
    "spacy.load('en')\n",
    "from spacy.lang.en import English\n",
    "parser = English()\n",
    "def tokenize(text):\n",
    "    lda_tokens = []\n",
    "    tokens = parser(text)\n",
    "    for token in tokens:\n",
    "        if token.orth_.isspace():\n",
    "            continue\n",
    "        elif token.like_url:\n",
    "            lda_tokens.append('URL')\n",
    "#         elif token.orth_.startswith('@'):\n",
    "#             lda_tokens.append('SCREEN_NAME')\n",
    "        else:\n",
    "            lda_tokens.append(token.lower_)\n",
    "    return lda_tokens"
   ]
  },
  {
   "cell_type": "code",
   "execution_count": 18,
   "metadata": {},
   "outputs": [
    {
     "name": "stderr",
     "output_type": "stream",
     "text": [
      "[nltk_data] Downloading package wordnet to /home/auppal8/nltk_data...\n",
      "[nltk_data]   Package wordnet is already up-to-date!\n"
     ]
    }
   ],
   "source": [
    "import nltk\n",
    "nltk.download('wordnet')\n",
    "from nltk.corpus import wordnet as wn\n",
    "def get_lemma(word):\n",
    "    lemma = wn.morphy(word)\n",
    "    if lemma is None:\n",
    "        return word\n",
    "    else:\n",
    "        return lemma\n",
    "    \n",
    "from nltk.stem.wordnet import WordNetLemmatizer\n",
    "def get_lemma2(word):\n",
    "    return WordNetLemmatizer().lemmatize(word)"
   ]
  },
  {
   "cell_type": "code",
   "execution_count": 66,
   "metadata": {
    "collapsed": true
   },
   "outputs": [],
   "source": [
    "def prepare_text_for_lda(text):\n",
    "    tokens = tokenize(text)\n",
    "    tokens = [token for token in tokens if len(token) > 4]\n",
    "#     tokens = [token for token in tokens if token not in stopword_set]\n",
    "    tokens = [get_lemma(token) for token in tokens]\n",
    "    return tokens"
   ]
  },
  {
   "cell_type": "code",
   "execution_count": 68,
   "metadata": {
    "collapsed": true
   },
   "outputs": [],
   "source": [
    "df_tweet_ = pd.DataFrame(df_tweet_)"
   ]
  },
  {
   "cell_type": "code",
   "execution_count": 69,
   "metadata": {},
   "outputs": [
    {
     "data": {
      "text/plain": [
       "1344182"
      ]
     },
     "execution_count": 69,
     "metadata": {},
     "output_type": "execute_result"
    }
   ],
   "source": [
    "len(df_tweet_)"
   ]
  },
  {
   "cell_type": "code",
   "execution_count": 70,
   "metadata": {
    "collapsed": true
   },
   "outputs": [],
   "source": [
    "# taking 100,000 tweets randomly...\n",
    "df_tweet_1 = df_tweet_.sample(100000)"
   ]
  },
  {
   "cell_type": "code",
   "execution_count": 71,
   "metadata": {
    "collapsed": true,
    "scrolled": true
   },
   "outputs": [],
   "source": [
    "# vectorised manner\n",
    "df_tweet_1['tweetText'] = df_tweet_1['tweetText'].apply(prepare_text_for_lda)"
   ]
  },
  {
   "cell_type": "code",
   "execution_count": 72,
   "metadata": {
    "collapsed": true
   },
   "outputs": [],
   "source": [
    "text_dic_2 = df_tweet_1['tweetText'].values"
   ]
  },
  {
   "cell_type": "code",
   "execution_count": 73,
   "metadata": {
    "collapsed": true,
    "scrolled": true
   },
   "outputs": [],
   "source": [
    "# add hashtags to the existing text model\n",
    "## finding the data related to just hashtags:::\n",
    "hashtags = df['hashtags']\n",
    "hashtags = hashtags.str.replace('None','NaN',regex=True)\n",
    "hashtags = hashtags.str.replace('NaN','',regex=True)\n",
    "hashtags.replace('', np.nan, inplace=True)\n",
    "hashtags.dropna(inplace=True)\n",
    "\n",
    "# vectorised manner\n",
    "hashtags_ = hashtags.apply(prepare_text_for_lda)"
   ]
  },
  {
   "cell_type": "code",
   "execution_count": 74,
   "metadata": {
    "collapsed": true
   },
   "outputs": [],
   "source": [
    "hastags_dict = hashtags_.values"
   ]
  },
  {
   "cell_type": "code",
   "execution_count": 75,
   "metadata": {
    "collapsed": true
   },
   "outputs": [],
   "source": [
    "final_dict = np.append(text_dic_2,hastags_dict)"
   ]
  },
  {
   "cell_type": "code",
   "execution_count": 76,
   "metadata": {
    "collapsed": true
   },
   "outputs": [],
   "source": [
    "import string\n",
    "ascii_chars = set(string.printable)  # speeds things up\n",
    "def remove_non_ascii_prinatble_from_list(list_of_words):\n",
    "    return [word for word in list_of_words \n",
    "            if all(char in ascii_chars for char in word)]"
   ]
  },
  {
   "cell_type": "code",
   "execution_count": 77,
   "metadata": {
    "collapsed": true
   },
   "outputs": [],
   "source": [
    "# not using this -- not work on flatten for word2vec\n",
    "text_dic = (list(set([a for b in df_tweet_1.tweetText.tolist() for a in b])))\n",
    "text_dic_ = remove_non_ascii_prinatble_from_list(text_dic)\n",
    "text_dic_ = remove_non_ascii_prinatble_from_list(text_dic)\n",
    "text_dic__ = [text_dic_]"
   ]
  },
  {
   "cell_type": "code",
   "execution_count": 78,
   "metadata": {
    "collapsed": true,
    "scrolled": true
   },
   "outputs": [],
   "source": [
    "# might take some time -- using above option , vetorized manner\n",
    "# import random\n",
    "# text_data = []\n",
    "# for tweet in df_tweet_:\n",
    "#     tokens = prepare_text_for_lda(tweet)\n",
    "#     if random.random() > .99:\n",
    "#         text_data.append(tokens)"
   ]
  },
  {
   "cell_type": "code",
   "execution_count": 85,
   "metadata": {
    "scrolled": false
   },
   "outputs": [
    {
     "name": "stderr",
     "output_type": "stream",
     "text": [
      "/home/auppal8/anaconda3/envs/juul/lib/python3.6/site-packages/ipykernel_launcher.py:5: ResourceWarning: unclosed file <_io.BufferedWriter name='corpus.pkl'>\n",
      "  \"\"\"\n"
     ]
    }
   ],
   "source": [
    "from gensim import corpora\n",
    "dictionary = corpora.Dictionary(text_dic_2)\n",
    "corpus = [dictionary.doc2bow(text) for text in text_dic_2]\n",
    "import pickle\n",
    "pickle.dump(corpus, open('corpus.pkl', 'wb'))\n",
    "dictionary.save('dictionary.gensim')"
   ]
  },
  {
   "cell_type": "code",
   "execution_count": 86,
   "metadata": {
    "collapsed": true
   },
   "outputs": [],
   "source": [
    "# LDA for 5 topics\n",
    "import gensim\n",
    "NUM_TOPICS = 5\n",
    "ldamodel = gensim.models.ldamodel.LdaModel(corpus, num_topics = NUM_TOPICS, id2word=dictionary, passes=8)\n",
    "ldamodel.save('model5.gensim')\n",
    "topics = ldamodel.print_topics(num_words=4)"
   ]
  },
  {
   "cell_type": "code",
   "execution_count": 84,
   "metadata": {},
   "outputs": [
    {
     "name": "stdout",
     "output_type": "stream",
     "text": [
      "(0, '0.009*\"people\" + 0.009*\"think\" + 0.008*\"going\" + 0.008*\"never\"')\n",
      "(1, '0.018*\"thanks\" + 0.012*\"latest\" + 0.012*\"video\" + 0.008*\"check\"')\n",
      "(2, '0.009*\"vaping\" + 0.005*\"vapelife\" + 0.005*\"vapefam\" + 0.004*\"vapor\"')\n",
      "(3, '0.010*\"thank\" + 0.006*\"today\" + 0.006*\"great\" + 0.005*\"start\"')\n",
      "(4, '0.010*\"health\" + 0.008*\"happy\" + 0.008*\"tobacco\" + 0.007*\"trump\"')\n"
     ]
    }
   ],
   "source": [
    "for topic in topics:\n",
    "    print(topic)"
   ]
  },
  {
   "cell_type": "code",
   "execution_count": 82,
   "metadata": {},
   "outputs": [
    {
     "name": "stderr",
     "output_type": "stream",
     "text": [
      "/home/auppal8/anaconda3/envs/juul/lib/python3.6/site-packages/ipykernel_launcher.py:3: ResourceWarning: unclosed file <_io.BufferedReader name='corpus.pkl'>\n",
      "  This is separate from the ipykernel package so we can avoid doing imports until\n"
     ]
    }
   ],
   "source": [
    "# with 5 topics --Dont run the cell\n",
    "dictionary = gensim.corpora.Dictionary.load('dictionary.gensim')\n",
    "corpus = pickle.load(open('corpus.pkl', 'rb'))\n",
    "lda = gensim.models.ldamodel.LdaModel.load('model5.gensim')\n",
    "import pyLDAvis.gensim\n",
    "lda_display = pyLDAvis.gensim.prepare(lda, corpus, dictionary, sort_topics=False)\n",
    "\n",
    "## obs of topic modelling\n",
    "## assumptions: “(1) There are a fixed number of patterns of word use, groups of terms that tend to occur together in documents: topics. \n",
    "##(2) Each document in the corpus exhibits the topics to varying degree\n",
    "\n",
    "##obs 1\n",
    "# In the graph that represents the topic modelling of all the tweets, on the topic 1 we can see 'cannabis' as the 14th relevant term \n",
    "# in the top 30 most relevant topics,... Topic 1 seem to have words related to 'vaping', 'vapefam' ,'vaper' that seem to highlight \n",
    "# the topic related to e-cigg and its habits\n",
    "\n",
    "##obs 2\n",
    "# smoke seems to be common word among topic 1 and 2(words related to smokeing, tobacco and eciggs), there placement seems to highlight common \n",
    "# similarity among the topics as well. Also topic 2 seems to mention about youth(13th relevant topic)\n"
   ]
  },
  {
   "cell_type": "code",
   "execution_count": 83,
   "metadata": {},
   "outputs": [
    {
     "data": {
      "text/html": [
       "\n",
       "<link rel=\"stylesheet\" type=\"text/css\" href=\"https://cdn.rawgit.com/bmabey/pyLDAvis/files/ldavis.v1.0.0.css\">\n",
       "\n",
       "\n",
       "<div id=\"ldavis_el310721398339853514963004312013\"></div>\n",
       "<script type=\"text/javascript\">\n",
       "\n",
       "var ldavis_el310721398339853514963004312013_data = {\"mdsDat\": {\"x\": [0.16876807940230998, -0.18368070209190002, -0.21206536916568938, 0.018573212415485308, 0.20840477943979419], \"y\": [0.26004677526523906, 0.05321462890935433, -0.029295507100307403, -0.09932064249885506, -0.18464525457543102], \"topics\": [1, 2, 3, 4, 5], \"cluster\": [1, 1, 1, 1, 1], \"Freq\": [24.092214584350586, 15.405797958374023, 13.840140342712402, 18.23142433166504, 28.430423736572266]}, \"tinfo\": {\"Category\": [\"Default\", \"Default\", \"Default\", \"Default\", \"Default\", \"Default\", \"Default\", \"Default\", \"Default\", \"Default\", \"Default\", \"Default\", \"Default\", \"Default\", \"Default\", \"Default\", \"Default\", \"Default\", \"Default\", \"Default\", \"Default\", \"Default\", \"Default\", \"Default\", \"Default\", \"Default\", \"Default\", \"Default\", \"Default\", \"Default\", \"Topic1\", \"Topic1\", \"Topic1\", \"Topic1\", \"Topic1\", \"Topic1\", \"Topic1\", \"Topic1\", \"Topic1\", \"Topic1\", \"Topic1\", \"Topic1\", \"Topic1\", \"Topic1\", \"Topic1\", \"Topic1\", \"Topic1\", \"Topic1\", \"Topic1\", \"Topic1\", \"Topic1\", \"Topic1\", \"Topic1\", \"Topic1\", \"Topic1\", \"Topic1\", \"Topic1\", \"Topic1\", \"Topic1\", \"Topic1\", \"Topic1\", \"Topic1\", \"Topic1\", \"Topic1\", \"Topic1\", \"Topic1\", \"Topic1\", \"Topic1\", \"Topic1\", \"Topic1\", \"Topic1\", \"Topic1\", \"Topic1\", \"Topic1\", \"Topic1\", \"Topic1\", \"Topic1\", \"Topic2\", \"Topic2\", \"Topic2\", \"Topic2\", \"Topic2\", \"Topic2\", \"Topic2\", \"Topic2\", \"Topic2\", \"Topic2\", \"Topic2\", \"Topic2\", \"Topic2\", \"Topic2\", \"Topic2\", \"Topic2\", \"Topic2\", \"Topic2\", \"Topic2\", \"Topic2\", \"Topic2\", \"Topic2\", \"Topic2\", \"Topic2\", \"Topic2\", \"Topic2\", \"Topic2\", \"Topic2\", \"Topic2\", \"Topic2\", \"Topic2\", \"Topic2\", \"Topic2\", \"Topic2\", \"Topic2\", \"Topic2\", \"Topic2\", \"Topic2\", \"Topic2\", \"Topic2\", \"Topic2\", \"Topic2\", \"Topic3\", \"Topic3\", \"Topic3\", \"Topic3\", \"Topic3\", \"Topic3\", \"Topic3\", \"Topic3\", \"Topic3\", \"Topic3\", \"Topic3\", \"Topic3\", \"Topic3\", \"Topic3\", \"Topic3\", \"Topic3\", \"Topic3\", \"Topic3\", \"Topic3\", \"Topic3\", \"Topic3\", \"Topic3\", \"Topic3\", \"Topic3\", \"Topic3\", \"Topic3\", \"Topic3\", \"Topic3\", \"Topic3\", \"Topic3\", \"Topic3\", \"Topic3\", \"Topic3\", \"Topic3\", \"Topic3\", \"Topic3\", \"Topic3\", \"Topic4\", \"Topic4\", \"Topic4\", \"Topic4\", \"Topic4\", \"Topic4\", \"Topic4\", \"Topic4\", \"Topic4\", \"Topic4\", \"Topic4\", \"Topic4\", \"Topic4\", \"Topic4\", \"Topic4\", \"Topic4\", \"Topic4\", \"Topic4\", \"Topic4\", \"Topic4\", \"Topic4\", \"Topic4\", \"Topic4\", \"Topic4\", \"Topic4\", \"Topic4\", \"Topic4\", \"Topic4\", \"Topic4\", \"Topic4\", \"Topic4\", \"Topic4\", \"Topic4\", \"Topic4\", \"Topic4\", \"Topic4\", \"Topic4\", \"Topic4\", \"Topic4\", \"Topic4\", \"Topic4\", \"Topic4\", \"Topic4\", \"Topic4\", \"Topic4\", \"Topic4\", \"Topic4\", \"Topic5\", \"Topic5\", \"Topic5\", \"Topic5\", \"Topic5\", \"Topic5\", \"Topic5\", \"Topic5\", \"Topic5\", \"Topic5\", \"Topic5\", \"Topic5\", \"Topic5\", \"Topic5\", \"Topic5\", \"Topic5\", \"Topic5\", \"Topic5\", \"Topic5\", \"Topic5\", \"Topic5\", \"Topic5\", \"Topic5\", \"Topic5\", \"Topic5\", \"Topic5\", \"Topic5\", \"Topic5\", \"Topic5\", \"Topic5\", \"Topic5\", \"Topic5\", \"Topic5\", \"Topic5\", \"Topic5\", \"Topic5\", \"Topic5\", \"Topic5\", \"Topic5\", \"Topic5\", \"Topic5\", \"Topic5\"], \"Freq\": [1855.0, 2011.0, 1256.0, 1240.0, 1216.0, 1442.0, 1562.0, 1802.0, 1516.0, 1253.0, 1243.0, 1483.0, 1168.0, 1286.0, 840.0, 1066.0, 1026.0, 1104.0, 1032.0, 1441.0, 971.0, 2700.0, 1351.0, 1210.0, 815.0, 923.0, 660.0, 746.0, 1004.0, 724.0, 1442.115234375, 1252.753662109375, 1242.7052001953125, 1168.030029296875, 1065.94384765625, 1025.7923583984375, 814.7133178710938, 746.2504272460938, 723.7301635742188, 690.54150390625, 681.4332275390625, 665.1297607421875, 608.82373046875, 567.033447265625, 561.6315307617188, 542.10986328125, 508.04193115234375, 473.61376953125, 465.97662353515625, 453.0995178222656, 443.2488098144531, 439.8750305175781, 432.7323913574219, 430.0780334472656, 427.0164794921875, 421.81146240234375, 416.4978332519531, 405.72247314453125, 401.4893798828125, 383.58258056640625, 496.613525390625, 769.8036499023438, 996.728759765625, 1105.16162109375, 1023.73095703125, 705.0089111328125, 815.2815551757812, 623.8095703125, 1483.441162109375, 656.4597778320312, 532.0284423828125, 727.2298583984375, 623.8275756835938, 700.6834106445312, 698.7723999023438, 638.9930419921875, 778.837890625, 1854.896240234375, 1256.077880859375, 1239.371826171875, 840.115478515625, 487.51873779296875, 413.0845642089844, 411.18951416015625, 396.1482238769531, 400.9814758300781, 305.6872863769531, 300.0415344238281, 281.05328369140625, 275.6941223144531, 264.918212890625, 262.9938659667969, 256.3564758300781, 246.08877563476562, 243.38111877441406, 229.7757110595703, 227.28668212890625, 204.979248046875, 202.85235595703125, 188.32716369628906, 186.9102783203125, 184.6101531982422, 181.4105987548828, 172.59217834472656, 170.70477294921875, 168.60748291015625, 163.30589294433594, 164.25518798828125, 847.4940795898438, 307.76019287109375, 361.13897705078125, 375.0621032714844, 335.5179443359375, 259.355224609375, 231.59136962890625, 236.7129364013672, 314.65863037109375, 242.89553833007812, 240.04751586914062, 506.9915771484375, 450.38482666015625, 403.814697265625, 388.8968505859375, 323.7257995605469, 305.42816162109375, 251.8644256591797, 254.9508514404297, 243.97567749023438, 234.6881561279297, 220.79344177246094, 213.4278106689453, 209.95216369628906, 174.3800048828125, 169.95957946777344, 168.8857879638672, 159.55355834960938, 160.3373260498047, 160.1147003173828, 153.1613311767578, 154.59605407714844, 151.06700134277344, 153.63087463378906, 157.32394409179688, 152.5487518310547, 153.72775268554688, 156.12368774414062, 139.5527801513672, 137.8798370361328, 136.3893585205078, 323.2237548828125, 230.07601928710938, 833.5123291015625, 219.1825408935547, 284.92755126953125, 162.73794555664062, 157.00271606445312, 1216.2333984375, 659.5476684570312, 586.440185546875, 457.48748779296875, 454.606201171875, 416.0301513671875, 387.4143371582031, 357.0000915527344, 343.0744934082031, 324.1146545410156, 290.5935974121094, 275.14129638671875, 272.15631103515625, 263.6059875488281, 258.2648010253906, 251.54934692382812, 248.81394958496094, 240.0378875732422, 238.6809844970703, 234.5067596435547, 221.7225341796875, 218.83535766601562, 214.89703369140625, 214.03831481933594, 212.59243774414062, 213.0028533935547, 209.96896362304688, 209.18687438964844, 207.621337890625, 202.07077026367188, 581.2811279296875, 665.7517700195312, 613.6864624023438, 329.83209228515625, 278.6391906738281, 712.3035888671875, 471.2775573730469, 635.1038208007812, 320.04315185546875, 722.3919677734375, 310.74822998046875, 429.8886413574219, 291.4637145996094, 415.4066467285156, 294.4949951171875, 295.91650390625, 286.0603942871094, 2011.154541015625, 1561.7904052734375, 1515.5594482421875, 1286.1016845703125, 1104.210693359375, 1032.2740478515625, 970.7197265625, 922.6881103515625, 789.134033203125, 759.7291870117188, 642.333251953125, 642.174560546875, 638.7096557617188, 609.8989868164062, 586.4107055664062, 556.40771484375, 544.5607299804688, 521.1791381835938, 512.71044921875, 504.0614929199219, 472.1541442871094, 465.12518310546875, 465.4842224121094, 462.3911437988281, 443.26605224609375, 437.4038391113281, 425.87066650390625, 414.5696716308594, 410.59375, 377.3640441894531, 477.39801025390625, 533.58447265625, 800.4552001953125, 1034.0867919921875, 639.9806518554688, 530.24755859375, 968.3424072265625, 618.9586181640625, 801.1284790039062, 545.3803100585938, 599.0502319335938, 507.7259216308594], \"Term\": [\"thanks\", \"health\", \"latest\", \"video\", \"thank\", \"think\", \"happy\", \"vaping\", \"tobacco\", \"going\", \"never\", \"check\", \"friend\", \"trump\", \"daily\", \"really\", \"someone\", \"smoking\", \"cigarette\", \"would\", \"child\", \"people\", \"right\", \"still\", \"always\", \"state\", \"person\", \"fucking\", \"start\", \"getting\", \"think\", \"going\", \"never\", \"friend\", \"really\", \"someone\", \"always\", \"fucking\", \"getting\", \"things\", \"something\", \"tweet\", \"thing\", \"little\", \"bitch\", \"morning\", \"thought\", \"anyone\", \"actually\", \"everything\", \"remember\", \"believe\", \"water\", \"break\", \"look\", \"wanna\", \"nothing\", \"phone\", \"whole\", \"beautiful\", \"happen\", \"better\", \"still\", \"would\", \"right\", \"night\", \"every\", \"try\", \"people\", \"there\", \"white\", \"could\", \"everyone\", \"woman\", \"first\", \"world\", \"today\", \"thanks\", \"latest\", \"video\", \"daily\", \"@youtube\", \"photo\", \"juice\", \"like\", \"listen\", \"movie\", \"minutes\", \"awesome\", \"giveaway\", \"marijuana\", \"post\", \"conference\", \"enter\", \"apple\", \"glass\", \"fortnite\", \"halloween\", \"sweet\", \"twitch\", \"coffee\", \"stream\", \"add\", \"miami\", \"episode\", \"style\", \"edition\", \"leaders\", \"check\", \"order\", \"available\", \"smoke\", \"coming\", \"music\", \"playing\", \"ready\", \"today\", \"follow\", \"watch\", \"vapelife\", \"vapefam\", \"vapor\", \"store\", \"vapenation\", \"eliquid\", \"ejuice\", \"choose\", \"vapeon\", \"drinking\", \"internet\", \"vapecommunity\", \"vapeporn\", \"tire\", \"mother\", \"worst\", \"cloud\", \"billion\", \"donald\", \"vaporizer\", \"dance\", \"vapelyfe\", \"followers\", \"brett\", \"cop8fctc\", \"officer\", \"nearly\", \"vaper\", \"nobody\", \"brown\", \"vapers\", \"vapeshop\", \"vaping\", \"stock\", \"flavor\", \"perfect\", \"available\", \"thank\", \"person\", \"twitter\", \"include\", \"event\", \"nigga\", \"interest\", \"forget\", \"proud\", \"excite\", \"science\", \"facebook\", \"article\", \"michael\", \"street\", \"medical\", \"center\", \"truth\", \"celebrate\", \"medicine\", \"laugh\", \"maybe\", \"brother\", \"hurricane\", \"award\", \"front\", \"ticket\", \"help\", \"congratulations\", \"final\", \"follow\", \"start\", \"please\", \"retweet\", \"welcome\", \"great\", \"support\", \"check\", \"season\", \"today\", \"october\", \"first\", \"tomorrow\", \"people\", \"share\", \"learn\", \"family\", \"health\", \"happy\", \"tobacco\", \"trump\", \"smoking\", \"cigarette\", \"child\", \"state\", \"birthday\", \"public\", \"parent\", \"american\", \"report\", \"million\", \"study\", \"control\", \"president\", \"important\", \"kavanaugh\", \"company\", \"medium\", \"nicotine\", \"point\", \"social\", \"heart\", \"youth\", \"using\", \"issue\", \"group\", \"move\", \"research\", \"country\", \"product\", \"school\", \"story\", \"business\", \"vaping\", \"student\", \"people\", \"years\", \"today\", \"change\"], \"Total\": [1855.0, 2011.0, 1256.0, 1240.0, 1216.0, 1442.0, 1562.0, 1802.0, 1516.0, 1253.0, 1243.0, 1483.0, 1168.0, 1286.0, 840.0, 1066.0, 1026.0, 1104.0, 1032.0, 1441.0, 971.0, 2700.0, 1351.0, 1210.0, 815.0, 923.0, 660.0, 746.0, 1004.0, 724.0, 1442.8095703125, 1253.44921875, 1243.3978271484375, 1168.72607421875, 1066.6356201171875, 1026.484130859375, 815.4083862304688, 746.9412231445312, 724.4235229492188, 691.236328125, 682.1256713867188, 665.8257446289062, 609.5157470703125, 567.7288208007812, 562.3206787109375, 542.806396484375, 508.7352600097656, 474.3078918457031, 466.6734619140625, 453.7928466796875, 443.9418029785156, 440.569091796875, 433.4283752441406, 430.77191162109375, 427.7110900878906, 422.5028381347656, 417.1918640136719, 406.4195251464844, 402.1850280761719, 384.2808532714844, 502.4127502441406, 863.4487915039062, 1210.69580078125, 1441.204833984375, 1351.751953125, 843.7406005859375, 1054.195556640625, 729.968505859375, 2700.319091796875, 816.673828125, 609.7957763671875, 1118.0428466796875, 857.0697631835938, 1181.505615234375, 1404.3082275390625, 1080.309326171875, 2427.425048828125, 1855.5869140625, 1256.7664794921875, 1240.0643310546875, 840.804443359375, 488.20538330078125, 413.7764587402344, 411.88134765625, 396.8390808105469, 401.6807556152344, 306.38250732421875, 300.74212646484375, 281.7466735839844, 276.38250732421875, 265.6163635253906, 263.68817138671875, 257.06719970703125, 246.77957153320312, 244.07669067382812, 230.46453857421875, 227.97503662109375, 205.67050170898438, 203.54574584960938, 189.01573181152344, 187.6035919189453, 185.3009033203125, 182.1076202392578, 173.28076171875, 171.3990936279297, 169.30555725097656, 163.99945068359375, 164.9752960205078, 1483.1217041015625, 406.308837890625, 518.6689453125, 717.0206298828125, 610.1035766601562, 459.4025573730469, 343.0491638183594, 423.86431884765625, 2427.425048828125, 824.6982421875, 913.9932250976562, 507.6769714355469, 451.0707702636719, 404.50299072265625, 389.59259033203125, 324.410888671875, 306.1152648925781, 252.5503387451172, 255.65774536132812, 244.66041564941406, 235.38894653320312, 221.49269104003906, 214.11318969726562, 210.63661193847656, 175.07980346679688, 170.6633758544922, 169.58648681640625, 160.24734497070312, 161.03773498535156, 160.82608032226562, 153.8506622314453, 155.29554748535156, 151.75064086914062, 154.32984924316406, 158.0469970703125, 153.2512664794922, 154.44090270996094, 156.86012268066406, 140.2405548095703, 138.57867431640625, 137.08456420898438, 373.57257080078125, 258.3197326660156, 1802.369140625, 342.1132507324219, 614.5239868164062, 287.9716491699219, 518.6689453125, 1216.9244384765625, 660.2421264648438, 587.1326293945312, 458.1866455078125, 455.301513671875, 416.7209777832031, 388.1071472167969, 357.6959533691406, 343.7672119140625, 324.8096008300781, 291.2884826660156, 275.8330383300781, 272.8502197265625, 264.3011169433594, 258.96185302734375, 252.24362182617188, 249.50619506835938, 240.73561096191406, 239.3757781982422, 235.19895935058594, 222.41494750976562, 219.52938842773438, 215.59091186523438, 214.7295684814453, 213.28358459472656, 213.70010375976562, 210.66236877441406, 209.88433837890625, 208.31427001953125, 202.76309204101562, 824.6982421875, 1004.633544921875, 1093.16943359375, 432.8490905761719, 330.42828369140625, 1670.267333984375, 832.8446655273438, 1483.1217041015625, 441.93524169921875, 2427.425048828125, 452.56085205078125, 1404.3082275390625, 479.0429992675781, 2700.319091796875, 606.562744140625, 723.707763671875, 813.2481079101562, 2011.841064453125, 1562.4818115234375, 1516.24365234375, 1286.7869873046875, 1104.895751953125, 1032.956298828125, 971.4054565429688, 923.389404296875, 789.8187866210938, 760.4150390625, 643.0196533203125, 642.8616943359375, 639.3954467773438, 610.5853271484375, 587.0952758789062, 557.0972290039062, 545.2463989257812, 521.8683471679688, 513.3958740234375, 504.7501525878906, 472.8417663574219, 465.8117370605469, 466.1759033203125, 463.07843017578125, 443.9548034667969, 438.0871887207031, 426.56304931640625, 415.2576599121094, 411.2809143066406, 378.0558166503906, 478.7060241699219, 551.9827270507812, 905.12548828125, 1460.65869140625, 787.140869140625, 605.910888671875, 1802.369140625, 838.7578125, 2700.319091796875, 1081.361572265625, 2427.425048828125, 919.7862548828125], \"loglift\": [30.0, 29.0, 28.0, 27.0, 26.0, 25.0, 24.0, 23.0, 22.0, 21.0, 20.0, 19.0, 18.0, 17.0, 16.0, 15.0, 14.0, 13.0, 12.0, 11.0, 10.0, 9.0, 8.0, 7.0, 6.0, 5.0, 4.0, 3.0, 2.0, 1.0, 1.4227999448776245, 1.422700047492981, 1.422700047492981, 1.422700047492981, 1.4226000308990479, 1.4226000308990479, 1.4223999977111816, 1.4223999977111816, 1.4222999811172485, 1.4222999811172485, 1.4222999811172485, 1.4221999645233154, 1.4220999479293823, 1.4220999479293823, 1.4220999479293823, 1.4220000505447388, 1.4219000339508057, 1.4218000173568726, 1.4218000173568726, 1.4218000173568726, 1.4217000007629395, 1.4217000007629395, 1.4217000007629395, 1.4217000007629395, 1.4217000007629395, 1.4215999841690063, 1.4215999841690063, 1.4215999841690063, 1.4215999841690063, 1.4214999675750732, 1.4117000102996826, 1.308500051498413, 1.2288000583648682, 1.1577999591827393, 1.145300030708313, 1.2436000108718872, 1.1663000583648682, 1.2661000490188599, 0.8242999911308289, 1.2049000263214111, 1.2869000434875488, 0.9932000041007996, 1.1055999994277954, 0.9007999897003174, 0.7253000140190125, 0.8981999754905701, 0.2865000069141388, 1.8701000213623047, 1.8698999881744385, 1.8698999881744385, 1.8696000576019287, 1.86899995803833, 1.8688000440597534, 1.8687000274658203, 1.8687000274658203, 1.8687000274658203, 1.8681999444961548, 1.8681000471115112, 1.8680000305175781, 1.867900013923645, 1.867799997329712, 1.867799997329712, 1.8676999807357788, 1.8675999641418457, 1.8675999641418457, 1.867400050163269, 1.867400050163269, 1.8671000003814697, 1.8669999837875366, 1.8667999505996704, 1.8667000532150269, 1.8667000532150269, 1.8666000366210938, 1.8664000034332275, 1.8664000034332275, 1.8662999868392944, 1.8661999702453613, 1.8660999536514282, 1.3107999563217163, 1.5925999879837036, 1.5083999633789062, 1.2223999500274658, 1.2725000381469727, 1.298699975013733, 1.4774999618530273, 1.2878999710083008, -0.17270000278949738, 0.6480000019073486, 0.5333999991416931, 1.976199984550476, 1.976099967956543, 1.9759000539779663, 1.9758000373840332, 1.9754999876022339, 1.9753999710083008, 1.9749000072479248, 1.9747999906539917, 1.9747999906539917, 1.9745999574661255, 1.9744000434875488, 1.9744000434875488, 1.9743000268936157, 1.9736000299453735, 1.9735000133514404, 1.9735000133514404, 1.9732999801635742, 1.9731999635696411, 1.9731999635696411, 1.973099946975708, 1.973099946975708, 1.973099946975708, 1.973099946975708, 1.9730000495910645, 1.9730000495910645, 1.9730000495910645, 1.9729000329971313, 1.9726999998092651, 1.972499966621399, 1.972499966621399, 1.832800030708313, 1.861799955368042, 1.2064000368118286, 1.5324000120162964, 1.2089999914169312, 1.4069000482559204, 0.7825999855995178, 1.7015000581741333, 1.7009999752044678, 1.7007999420166016, 1.7005000114440918, 1.7005000114440918, 1.7003999948501587, 1.7001999616622925, 1.7000999450683594, 1.7000000476837158, 1.6999000310897827, 1.6995999813079834, 1.6994999647140503, 1.6994999647140503, 1.6993999481201172, 1.6993000507354736, 1.6993000507354736, 1.6992000341415405, 1.6991000175476074, 1.6991000175476074, 1.6991000175476074, 1.6988999843597412, 1.6988999843597412, 1.698799967765808, 1.698799967765808, 1.698799967765808, 1.698799967765808, 1.698699951171875, 1.698699951171875, 1.698699951171875, 1.6986000537872314, 1.3522000312805176, 1.2905999422073364, 1.1246999502182007, 1.4301999807357788, 1.531599998474121, 0.8497999906539917, 1.132599949836731, 0.8539000153541565, 1.3792999982833862, 0.49000000953674316, 1.3260999917984009, 0.5181999802589417, 1.2051000595092773, -0.16979999840259552, 0.9794999957084656, 0.807699978351593, 0.6571999788284302, 1.2574000358581543, 1.2573000192642212, 1.2573000192642212, 1.257200002670288, 1.257099986076355, 1.2569999694824219, 1.2569999694824219, 1.2569999694824219, 1.2568000555038452, 1.2568000555038452, 1.256600022315979, 1.256600022315979, 1.256600022315979, 1.256600022315979, 1.256500005722046, 1.256500005722046, 1.256500005722046, 1.2563999891281128, 1.2563999891281128, 1.2562999725341797, 1.2562999725341797, 1.2561999559402466, 1.2561999559402466, 1.2561999559402466, 1.2561999559402466, 1.256100058555603, 1.256100058555603, 1.256100058555603, 1.25600004196167, 1.2559000253677368, 1.2549999952316284, 1.2237999439239502, 1.1347999572753906, 0.9122999906539917, 1.0506999492645264, 1.1243000030517578, 0.6363999843597412, 0.9538000226020813, 0.04259999841451645, 0.573199987411499, -0.14149999618530273, 0.6635000109672546], \"logprob\": [30.0, 29.0, 28.0, 27.0, 26.0, 25.0, 24.0, 23.0, 22.0, 21.0, 20.0, 19.0, 18.0, 17.0, 16.0, 15.0, 14.0, 13.0, 12.0, 11.0, 10.0, 9.0, 8.0, 7.0, 6.0, 5.0, 4.0, 3.0, 2.0, 1.0, -4.734000205993652, -4.874800205230713, -4.882800102233887, -4.944799900054932, -5.036200046539307, -5.0746002197265625, -5.304999828338623, -5.3927998542785645, -5.423399925231934, -5.470399856567383, -5.483699798583984, -5.507900238037109, -5.59630012512207, -5.667399883270264, -5.677000045776367, -5.712399959564209, -5.777299880981445, -5.847499847412109, -5.863699913024902, -5.8917999267578125, -5.913700103759766, -5.92140007019043, -5.937699794769287, -5.943900108337402, -5.951000213623047, -5.9633002281188965, -5.97599983215332, -6.002200126647949, -6.012700080871582, -6.058300018310547, -5.800099849700928, -5.361700057983398, -5.103400230407715, -5.000100135803223, -5.076700210571289, -5.449699878692627, -5.304299831390381, -5.572000026702881, -4.705699920654297, -5.520999908447266, -5.731200218200684, -5.418600082397461, -5.572000026702881, -5.4558000564575195, -5.458499908447266, -5.547999858856201, -5.350100040435791, -4.035099983215332, -4.425000190734863, -4.438399791717529, -4.827199935913086, -5.371399879455566, -5.537099838256836, -5.5416998863220215, -5.57889986038208, -5.566800117492676, -5.838200092315674, -5.856800079345703, -5.9222002029418945, -5.941400051116943, -5.981299877166748, -5.98859977722168, -6.014100074768066, -6.054999828338623, -6.066100120544434, -6.123600006103516, -6.134500026702881, -6.237800121307373, -6.248199939727783, -6.322500228881836, -6.330100059509277, -6.34250020980835, -6.360000133514404, -6.409800052642822, -6.42080020904541, -6.43310022354126, -6.465099811553955, -6.4593000411987305, -4.818399906158447, -5.831399917602539, -5.671500205993652, -5.633600234985352, -5.744999885559082, -6.002500057220459, -6.115699768066406, -6.093900203704834, -5.809199810028076, -6.0680999755859375, -6.079899787902832, -5.225100040435791, -5.343400001525879, -5.452600002288818, -5.490200042724609, -5.673699855804443, -5.731800079345703, -5.924699783325195, -5.912499904632568, -5.956500053405762, -5.995299816131592, -6.056300163269043, -6.090199947357178, -6.1066999435424805, -6.292300224304199, -6.317999839782715, -6.3242998123168945, -6.381199836730957, -6.376299858093262, -6.377699851989746, -6.422100067138672, -6.412700176239014, -6.435800075531006, -6.419000148773193, -6.395199775695801, -6.42609977722168, -6.418399810791016, -6.402900218963623, -6.515100002288818, -6.527200222015381, -6.538000106811523, -5.67519998550415, -6.015100002288818, -4.72790002822876, -6.063600063323975, -5.801300048828125, -6.361400127410889, -6.397299766540527, -4.6255998611450195, -5.237599849700928, -5.355000019073486, -5.603400230407715, -5.6097002029418945, -5.698400020599365, -5.769599914550781, -5.851399898529053, -5.891200065612793, -5.947999954223633, -6.057199954986572, -6.111800193786621, -6.122700214385986, -6.154699802398682, -6.175099849700928, -6.201499938964844, -6.212399959564209, -6.248300075531006, -6.254000186920166, -6.271599769592285, -6.327700138092041, -6.340799808502197, -6.359000205993652, -6.36299991607666, -6.369699954986572, -6.367800235748291, -6.382199764251709, -6.385900020599365, -6.393400192260742, -6.420499801635742, -5.363900184631348, -5.2281999588012695, -5.309599876403809, -5.930500030517578, -6.0991997718811035, -5.160600185394287, -5.573699951171875, -5.275300025939941, -5.960700035095215, -5.146599769592285, -5.990099906921387, -5.665599822998047, -6.054200172424316, -5.699900150299072, -6.043900012969971, -6.039000034332275, -6.07289981842041, -4.566999912261963, -4.819799900054932, -4.849899768829346, -5.014100074768066, -5.166500091552734, -5.23390007019043, -5.295400142669678, -5.346099853515625, -5.502500057220459, -5.540500164031982, -5.7083001136779785, -5.708600044250488, -5.714000225067139, -5.7600998878479, -5.7993998527526855, -5.851900100708008, -5.873499870300293, -5.917300224304199, -5.933700084686279, -5.950699806213379, -6.01609992980957, -6.031099796295166, -6.030399799346924, -6.0370001792907715, -6.0792999267578125, -6.092599868774414, -6.11929988861084, -6.146200180053711, -6.155799865722656, -6.240200042724609, -6.005099773406982, -5.893799781799316, -5.48829984664917, -5.2322001457214355, -5.711999893188477, -5.900100231170654, -5.297800064086914, -5.7453999519348145, -5.487400054931641, -5.872000217437744, -5.77810001373291, -5.94350004196167]}, \"token.table\": {\"Topic\": [2, 1, 2, 1, 5, 1, 2, 4, 2, 3, 4, 2, 1, 1, 1, 5, 3, 5, 1, 1, 3, 4, 3, 2, 5, 4, 4, 1, 5, 2, 4, 5, 3, 5, 3, 2, 1, 2, 5, 2, 4, 5, 3, 1, 5, 4, 5, 2, 3, 3, 3, 2, 3, 3, 2, 2, 4, 1, 4, 5, 1, 4, 1, 4, 4, 1, 4, 5, 4, 1, 4, 5, 2, 3, 5, 2, 4, 3, 4, 2, 1, 4, 1, 1, 2, 2, 1, 1, 2, 4, 5, 5, 2, 1, 5, 5, 5, 5, 4, 4, 5, 4, 4, 3, 5, 2, 5, 2, 4, 2, 1, 4, 5, 2, 2, 1, 1, 2, 4, 4, 4, 5, 2, 4, 5, 2, 1, 3, 5, 2, 1, 2, 3, 1, 5, 4, 1, 4, 3, 1, 1, 4, 3, 2, 3, 5, 1, 4, 5, 2, 3, 4, 1, 2, 2, 4, 1, 4, 5, 5, 2, 5, 2, 5, 4, 5, 1, 2, 1, 1, 5, 4, 5, 2, 4, 1, 5, 1, 4, 5, 4, 2, 4, 4, 5, 2, 5, 5, 5, 1, 1, 4, 5, 5, 1, 5, 2, 3, 3, 2, 4, 5, 2, 4, 4, 5, 5, 2, 4, 5, 2, 4, 2, 1, 4, 5, 1, 1, 1, 1, 4, 3, 5, 1, 2, 3, 4, 5, 1, 4, 5, 4, 1, 5, 1, 2, 4, 5, 3, 3, 3, 3, 3, 3, 3, 3, 3, 5, 2, 3, 3, 5, 3, 3, 2, 1, 1, 2, 4, 5, 1, 2, 3, 4, 1, 5, 1, 1, 5, 1, 5, 3, 1, 5, 1, 4, 5, 5], \"Freq\": [0.9995793104171753, 0.998556911945343, 0.9939177632331848, 0.9994991421699524, 0.998659610748291, 0.9993508458137512, 0.9955887198448181, 0.9968839287757874, 0.6960123777389526, 0.30269789695739746, 0.9986703991889954, 0.9973498582839966, 0.9992691278457642, 0.9987083077430725, 0.8917726278305054, 0.10770760476589203, 0.9935559630393982, 0.9989632964134216, 0.9994297027587891, 0.9982080459594727, 0.9933754205703735, 0.9972590804100037, 0.9920883774757385, 0.12378057837486267, 0.8747161030769348, 0.9984301924705505, 0.99797123670578, 0.44793015718460083, 0.5523022413253784, 0.5710927248001099, 0.4281509816646576, 0.9995825886726379, 0.997427225112915, 0.9990742206573486, 0.9984564781188965, 0.9967826008796692, 0.44910407066345215, 0.5507261753082275, 0.9985138177871704, 0.995848536491394, 0.9984913468360901, 0.998030424118042, 0.9983604550361633, 0.6502434015274048, 0.3488238453865051, 0.032609716057777405, 0.9674215912818909, 0.9990432262420654, 0.9980968832969666, 0.9948635101318359, 0.9983476400375366, 0.993905782699585, 0.9978208541870117, 0.996356725692749, 0.9968410134315491, 0.9976715445518494, 0.9993377923965454, 0.7731013298034668, 0.01707463152706623, 0.20963852107524872, 0.728062093257904, 0.27185651659965515, 0.9982528686523438, 0.9975074529647827, 0.9969798922538757, 0.3221648931503296, 0.35167619585990906, 0.3258538246154785, 0.9962365627288818, 0.49775397777557373, 0.3062005937099457, 0.1958259493112564, 0.2603641152381897, 0.46377360820770264, 0.2750096023082733, 0.2946532368659973, 0.7045000791549683, 0.997862696647644, 0.9980543255805969, 0.9957230687141418, 0.9993787407875061, 0.9967238903045654, 0.9987398982048035, 0.9994153380393982, 0.9986160397529602, 0.9979843497276306, 0.9996415972709656, 0.21733048558235168, 0.09339822083711624, 0.42627906799316406, 0.2628321647644043, 0.9993169903755188, 0.99673992395401, 0.9892264604568481, 0.00995197705924511, 0.9996916651725769, 0.9995819330215454, 0.9978493452072144, 0.9957865476608276, 0.9966023564338684, 0.9983360767364502, 0.9974101185798645, 0.9971473217010498, 0.9977756142616272, 0.9993795156478882, 0.9978601932525635, 0.9992288947105408, 0.9993901252746582, 0.9981343746185303, 0.9940882325172424, 0.006908866111189127, 0.4090048670768738, 0.5831083059310913, 0.9978855848312378, 0.9983052611351013, 0.9987162351608276, 0.99833744764328, 0.9976794719696045, 0.9975885152816772, 0.9990341663360596, 0.9991540908813477, 0.9982197880744934, 0.9983797073364258, 0.9988607168197632, 0.9990413784980774, 0.9975323677062988, 0.9985144138336182, 0.9961129426956177, 0.9972072243690491, 0.9987515211105347, 0.4353480339050293, 0.5637757182121277, 0.9945166110992432, 0.9996800422668457, 0.9982573986053467, 0.9982698559761047, 0.8355648517608643, 0.16355738043785095, 0.9958242177963257, 0.9971431493759155, 0.3115603029727936, 0.6872004270553589, 0.9971451759338379, 0.7580440640449524, 0.24119584262371063, 0.9984142780303955, 0.5491943359375, 0.1536855399608612, 0.2966316044330597, 0.43407049775123596, 0.5660279393196106, 0.999633252620697, 0.9989677667617798, 0.9981234669685364, 0.6762878894805908, 0.32356879115104675, 0.28266432881355286, 0.5616695880889893, 0.15642589330673218, 0.9974775314331055, 0.9973902106285095, 0.999548077583313, 0.11490119248628616, 0.8838553428649902, 0.997768223285675, 0.9994542002677917, 0.44117891788482666, 0.559141218662262, 0.9994040727615356, 0.9978785514831543, 0.9993815422058105, 0.002088964683935046, 0.9964361786842346, 0.23564794659614563, 0.7623904347419739, 0.757535457611084, 0.24264806509017944, 0.19990980625152588, 0.09173943102359772, 0.707899808883667, 0.9990096092224121, 0.2737957835197449, 0.7240880131721497, 0.48469841480255127, 0.5143738389015198, 0.5229974985122681, 0.47557905316352844, 0.9991893172264099, 0.9976711869239807, 0.9995283484458923, 0.9983497858047485, 0.6629282832145691, 0.3364410996437073, 0.9995782971382141, 0.8234934210777283, 0.1759318858385086, 0.356607049703598, 0.6401389241218567, 0.9984789490699768, 0.08765902370214462, 0.09909281134605408, 0.813069224357605, 0.9983761310577393, 0.9962857365608215, 0.2611004114151001, 0.7379961013793945, 0.998134434223175, 0.998195230960846, 0.5655316114425659, 0.4334541857242584, 0.9973188042640686, 0.9992403388023376, 0.999683678150177, 0.8032582402229309, 0.0048979162238538265, 0.1910187304019928, 0.9991538524627686, 0.9996581077575684, 0.9994388818740845, 0.9985547065734863, 0.9968557953834534, 0.993832528591156, 0.9998393058776855, 0.32091620564460754, 0.12976713478565216, 0.004943510051816702, 0.2974345088005066, 0.24676354229450226, 0.39036160707473755, 0.607461154460907, 0.9993883967399597, 0.9969443082809448, 0.8548313975334167, 0.14521174132823944, 0.9987598061561584, 0.9946262240409851, 0.9980708956718445, 0.998680055141449, 0.9948009252548218, 0.9976261854171753, 0.998666524887085, 0.9950534701347351, 0.9987334609031677, 0.9973006844520569, 0.996977686882019, 0.9982846975326538, 0.8646245002746582, 0.13384279608726501, 0.10839280486106873, 0.8903694748878479, 0.4627242982387543, 0.5370708703994751, 0.9987565279006958, 0.9944708347320557, 0.9991416931152344, 0.9988098740577698, 0.5317326188087463, 0.26258400082588196, 0.1301978975534439, 0.07549290359020233, 0.9990116357803345, 0.05447475612163544, 0.10289675742387772, 0.8443586826324463, 0.8724232316017151, 0.1262717843055725, 0.9970535039901733, 0.5933107733726501, 0.40626129508018494, 0.5914972424507141, 0.4082164168357849, 0.9965416789054871, 0.7667195796966553, 0.23313826322555542, 0.3856249451637268, 0.11004644632339478, 0.5039942264556885, 0.9975183010101318], \"Term\": [\"@youtube\", \"actually\", \"add\", \"always\", \"american\", \"anyone\", \"apple\", \"article\", \"available\", \"available\", \"award\", \"awesome\", \"beautiful\", \"believe\", \"better\", \"better\", \"billion\", \"birthday\", \"bitch\", \"break\", \"brett\", \"brother\", \"brown\", \"business\", \"business\", \"celebrate\", \"center\", \"change\", \"change\", \"check\", \"check\", \"child\", \"choose\", \"cigarette\", \"cloud\", \"coffee\", \"coming\", \"coming\", \"company\", \"conference\", \"congratulations\", \"control\", \"cop8fctc\", \"could\", \"could\", \"country\", \"country\", \"daily\", \"dance\", \"donald\", \"drinking\", \"edition\", \"ejuice\", \"eliquid\", \"enter\", \"episode\", \"event\", \"every\", \"every\", \"every\", \"everyone\", \"everyone\", \"everything\", \"excite\", \"facebook\", \"family\", \"family\", \"family\", \"final\", \"first\", \"first\", \"first\", \"flavor\", \"flavor\", \"flavor\", \"follow\", \"follow\", \"followers\", \"forget\", \"fortnite\", \"friend\", \"front\", \"fucking\", \"getting\", \"giveaway\", \"glass\", \"going\", \"great\", \"great\", \"great\", \"great\", \"group\", \"halloween\", \"happen\", \"happen\", \"happy\", \"health\", \"heart\", \"help\", \"hurricane\", \"important\", \"include\", \"interest\", \"internet\", \"issue\", \"juice\", \"kavanaugh\", \"latest\", \"laugh\", \"leaders\", \"learn\", \"learn\", \"learn\", \"like\", \"listen\", \"little\", \"look\", \"marijuana\", \"maybe\", \"medical\", \"medicine\", \"medium\", \"miami\", \"michael\", \"million\", \"minutes\", \"morning\", \"mother\", \"move\", \"movie\", \"music\", \"music\", \"nearly\", \"never\", \"nicotine\", \"nigga\", \"night\", \"night\", \"nobody\", \"nothing\", \"october\", \"october\", \"officer\", \"order\", \"order\", \"parent\", \"people\", \"people\", \"people\", \"perfect\", \"perfect\", \"person\", \"phone\", \"photo\", \"playing\", \"playing\", \"please\", \"please\", \"please\", \"point\", \"post\", \"president\", \"product\", \"product\", \"proud\", \"public\", \"ready\", \"ready\", \"really\", \"remember\", \"report\", \"research\", \"research\", \"retweet\", \"retweet\", \"right\", \"right\", \"school\", \"school\", \"school\", \"science\", \"season\", \"season\", \"share\", \"share\", \"smoke\", \"smoke\", \"smoking\", \"social\", \"someone\", \"something\", \"start\", \"start\", \"state\", \"still\", \"still\", \"stock\", \"stock\", \"store\", \"story\", \"story\", \"story\", \"stream\", \"street\", \"student\", \"student\", \"study\", \"style\", \"support\", \"support\", \"sweet\", \"thank\", \"thanks\", \"there\", \"there\", \"there\", \"thing\", \"things\", \"think\", \"thought\", \"ticket\", \"tire\", \"tobacco\", \"today\", \"today\", \"today\", \"today\", \"today\", \"tomorrow\", \"tomorrow\", \"trump\", \"truth\", \"try\", \"try\", \"tweet\", \"twitch\", \"twitter\", \"using\", \"vapecommunity\", \"vapefam\", \"vapelife\", \"vapelyfe\", \"vapenation\", \"vapeon\", \"vapeporn\", \"vaper\", \"vapers\", \"vapers\", \"vapeshop\", \"vapeshop\", \"vaping\", \"vaping\", \"vapor\", \"vaporizer\", \"video\", \"wanna\", \"watch\", \"watch\", \"watch\", \"watch\", \"water\", \"welcome\", \"welcome\", \"welcome\", \"white\", \"white\", \"whole\", \"woman\", \"woman\", \"world\", \"world\", \"worst\", \"would\", \"would\", \"years\", \"years\", \"years\", \"youth\"]}, \"R\": 30, \"lambda.step\": 0.01, \"plot.opts\": {\"xlab\": \"PC1\", \"ylab\": \"PC2\"}, \"topic.order\": [1, 2, 3, 4, 5]};\n",
       "\n",
       "function LDAvis_load_lib(url, callback){\n",
       "  var s = document.createElement('script');\n",
       "  s.src = url;\n",
       "  s.async = true;\n",
       "  s.onreadystatechange = s.onload = callback;\n",
       "  s.onerror = function(){console.warn(\"failed to load library \" + url);};\n",
       "  document.getElementsByTagName(\"head\")[0].appendChild(s);\n",
       "}\n",
       "\n",
       "if(typeof(LDAvis) !== \"undefined\"){\n",
       "   // already loaded: just create the visualization\n",
       "   !function(LDAvis){\n",
       "       new LDAvis(\"#\" + \"ldavis_el310721398339853514963004312013\", ldavis_el310721398339853514963004312013_data);\n",
       "   }(LDAvis);\n",
       "}else if(typeof define === \"function\" && define.amd){\n",
       "   // require.js is available: use it to load d3/LDAvis\n",
       "   require.config({paths: {d3: \"https://cdnjs.cloudflare.com/ajax/libs/d3/3.5.5/d3.min\"}});\n",
       "   require([\"d3\"], function(d3){\n",
       "      window.d3 = d3;\n",
       "      LDAvis_load_lib(\"https://cdn.rawgit.com/bmabey/pyLDAvis/files/ldavis.v1.0.0.js\", function(){\n",
       "        new LDAvis(\"#\" + \"ldavis_el310721398339853514963004312013\", ldavis_el310721398339853514963004312013_data);\n",
       "      });\n",
       "    });\n",
       "}else{\n",
       "    // require.js not available: dynamically load d3 & LDAvis\n",
       "    LDAvis_load_lib(\"https://cdnjs.cloudflare.com/ajax/libs/d3/3.5.5/d3.min.js\", function(){\n",
       "         LDAvis_load_lib(\"https://cdn.rawgit.com/bmabey/pyLDAvis/files/ldavis.v1.0.0.js\", function(){\n",
       "                 new LDAvis(\"#\" + \"ldavis_el310721398339853514963004312013\", ldavis_el310721398339853514963004312013_data);\n",
       "            })\n",
       "         });\n",
       "}\n",
       "</script>"
      ],
      "text/plain": [
       "<IPython.core.display.HTML object>"
      ]
     },
     "execution_count": 83,
     "metadata": {},
     "output_type": "execute_result"
    }
   ],
   "source": [
    "# > 4 word size\n",
    "pyLDAvis.display(lda_display)\n",
    "\n",
    "## obs \n",
    "## Topic 3 and and topic 2 are have very little distance and they seem to be linked together..topic 3 talks about e-cigg and vape \n",
    "## and topic 2 mentions about marijuana"
   ]
  },
  {
   "cell_type": "code",
   "execution_count": 65,
   "metadata": {},
   "outputs": [
    {
     "data": {
      "text/html": [
       "\n",
       "<link rel=\"stylesheet\" type=\"text/css\" href=\"https://cdn.rawgit.com/bmabey/pyLDAvis/files/ldavis.v1.0.0.css\">\n",
       "\n",
       "\n",
       "<div id=\"ldavis_el310721398341289859286744775916\"></div>\n",
       "<script type=\"text/javascript\">\n",
       "\n",
       "var ldavis_el310721398341289859286744775916_data = {\"mdsDat\": {\"x\": [0.16731755814862814, -0.23232666699774773, -0.21535370362452308, 0.16356743519175398, 0.11679537728188873], \"y\": [-0.18753802435942019, 0.01928399981879666, -0.05629648820109419, -0.05326956950129229, 0.2778200822430098], \"topics\": [1, 2, 3, 4, 5], \"cluster\": [1, 1, 1, 1, 1], \"Freq\": [13.18825912475586, 30.7412052154541, 25.072891235351562, 13.787264823913574, 17.21037483215332]}, \"tinfo\": {\"Category\": [\"Default\", \"Default\", \"Default\", \"Default\", \"Default\", \"Default\", \"Default\", \"Default\", \"Default\", \"Default\", \"Default\", \"Default\", \"Default\", \"Default\", \"Default\", \"Default\", \"Default\", \"Default\", \"Default\", \"Default\", \"Default\", \"Default\", \"Default\", \"Default\", \"Default\", \"Default\", \"Default\", \"Default\", \"Default\", \"Default\", \"Topic1\", \"Topic1\", \"Topic1\", \"Topic1\", \"Topic1\", \"Topic1\", \"Topic1\", \"Topic1\", \"Topic1\", \"Topic1\", \"Topic1\", \"Topic1\", \"Topic1\", \"Topic1\", \"Topic1\", \"Topic1\", \"Topic1\", \"Topic1\", \"Topic1\", \"Topic1\", \"Topic1\", \"Topic1\", \"Topic1\", \"Topic1\", \"Topic1\", \"Topic1\", \"Topic1\", \"Topic1\", \"Topic1\", \"Topic1\", \"Topic1\", \"Topic1\", \"Topic1\", \"Topic1\", \"Topic1\", \"Topic1\", \"Topic1\", \"Topic1\", \"Topic1\", \"Topic2\", \"Topic2\", \"Topic2\", \"Topic2\", \"Topic2\", \"Topic2\", \"Topic2\", \"Topic2\", \"Topic2\", \"Topic2\", \"Topic2\", \"Topic2\", \"Topic2\", \"Topic2\", \"Topic2\", \"Topic2\", \"Topic2\", \"Topic2\", \"Topic2\", \"Topic2\", \"Topic2\", \"Topic2\", \"Topic2\", \"Topic2\", \"Topic2\", \"Topic2\", \"Topic2\", \"Topic2\", \"Topic2\", \"Topic2\", \"Topic2\", \"Topic2\", \"Topic2\", \"Topic2\", \"Topic2\", \"Topic2\", \"Topic2\", \"Topic2\", \"Topic2\", \"Topic2\", \"Topic2\", \"Topic2\", \"Topic2\", \"Topic2\", \"Topic2\", \"Topic2\", \"Topic2\", \"Topic2\", \"Topic3\", \"Topic3\", \"Topic3\", \"Topic3\", \"Topic3\", \"Topic3\", \"Topic3\", \"Topic3\", \"Topic3\", \"Topic3\", \"Topic3\", \"Topic3\", \"Topic3\", \"Topic3\", \"Topic3\", \"Topic3\", \"Topic3\", \"Topic3\", \"Topic3\", \"Topic3\", \"Topic3\", \"Topic3\", \"Topic3\", \"Topic3\", \"Topic3\", \"Topic3\", \"Topic3\", \"Topic3\", \"Topic3\", \"Topic3\", \"Topic3\", \"Topic3\", \"Topic3\", \"Topic3\", \"Topic3\", \"Topic3\", \"Topic3\", \"Topic3\", \"Topic3\", \"Topic3\", \"Topic3\", \"Topic3\", \"Topic3\", \"Topic3\", \"Topic3\", \"Topic3\", \"Topic3\", \"Topic3\", \"Topic3\", \"Topic3\", \"Topic3\", \"Topic3\", \"Topic3\", \"Topic3\", \"Topic3\", \"Topic3\", \"Topic3\", \"Topic4\", \"Topic4\", \"Topic4\", \"Topic4\", \"Topic4\", \"Topic4\", \"Topic4\", \"Topic4\", \"Topic4\", \"Topic4\", \"Topic4\", \"Topic4\", \"Topic4\", \"Topic4\", \"Topic4\", \"Topic4\", \"Topic4\", \"Topic4\", \"Topic4\", \"Topic4\", \"Topic4\", \"Topic4\", \"Topic4\", \"Topic4\", \"Topic4\", \"Topic4\", \"Topic4\", \"Topic4\", \"Topic4\", \"Topic4\", \"Topic4\", \"Topic4\", \"Topic4\", \"Topic4\", \"Topic4\", \"Topic4\", \"Topic4\", \"Topic4\", \"Topic4\", \"Topic4\", \"Topic4\", \"Topic4\", \"Topic4\", \"Topic5\", \"Topic5\", \"Topic5\", \"Topic5\", \"Topic5\", \"Topic5\", \"Topic5\", \"Topic5\", \"Topic5\", \"Topic5\", \"Topic5\", \"Topic5\", \"Topic5\", \"Topic5\", \"Topic5\", \"Topic5\", \"Topic5\", \"Topic5\", \"Topic5\", \"Topic5\", \"Topic5\", \"Topic5\", \"Topic5\", \"Topic5\", \"Topic5\", \"Topic5\", \"Topic5\", \"Topic5\", \"Topic5\", \"Topic5\", \"Topic5\", \"Topic5\", \"Topic5\", \"Topic5\", \"Topic5\", \"Topic5\", \"Topic5\", \"Topic5\", \"Topic5\", \"Topic5\"], \"Freq\": [4430.0, 2031.0, 2487.0, 1872.0, 1888.0, 1270.0, 1973.0, 2092.0, 2689.0, 2639.0, 1356.0, 1403.0, 1580.0, 1323.0, 3071.0, 1243.0, 966.0, 1227.0, 1395.0, 928.0, 1171.0, 929.0, 792.0, 1135.0, 871.0, 1093.0, 1368.0, 1934.0, 1054.0, 1082.0, 511.0981140136719, 473.52471923828125, 393.7973937988281, 385.1301574707031, 382.8258056640625, 375.9517517089844, 305.8160400390625, 266.1021423339844, 255.84481811523438, 249.54977416992188, 227.0742645263672, 214.0113525390625, 203.07968139648438, 200.23898315429688, 199.25474548339844, 196.88134765625, 196.13973999023438, 194.97866821289062, 191.48849487304688, 192.89923095703125, 188.84217834472656, 185.98878479003906, 185.32679748535156, 181.1223602294922, 176.8174285888672, 176.19015502929688, 171.4158172607422, 169.03089904785156, 169.48294067382812, 167.8877716064453, 211.7202606201172, 413.0333557128906, 211.04141235351562, 287.67034912109375, 304.5582580566406, 213.40257263183594, 285.4809265136719, 192.38783264160156, 204.78953552246094, 1972.912353515625, 1579.8111572265625, 1394.474609375, 1075.83935546875, 1067.592041015625, 1038.5126953125, 980.06689453125, 907.03759765625, 891.0872802734375, 888.6564331054688, 881.5880126953125, 875.5548095703125, 872.9874267578125, 787.6045532226562, 768.0904541015625, 686.2891235351562, 619.7115478515625, 576.5993041992188, 569.943603515625, 570.1818237304688, 549.2858276367188, 548.2969970703125, 545.29638671875, 538.7577514648438, 526.099365234375, 507.75701904296875, 499.5046691894531, 485.3406982421875, 478.3435974121094, 475.2144775390625, 910.1078491210938, 759.3290405273438, 907.3653564453125, 1000.0635375976562, 1575.0335693359375, 1365.9293212890625, 709.7378540039062, 1332.28076171875, 674.0729370117188, 975.2955932617188, 1064.2445068359375, 763.7900390625, 758.0440063476562, 849.9381103515625, 735.0804443359375, 864.6464233398438, 761.270263671875, 798.4763793945312, 2486.8701171875, 1887.8087158203125, 1356.144775390625, 1323.1055908203125, 1242.775634765625, 1226.3016357421875, 1134.7933349609375, 1092.8690185546875, 907.2666015625, 847.70361328125, 825.0150756835938, 766.8157958984375, 734.1619262695312, 692.357177734375, 676.0632934570312, 623.0404663085938, 487.9684143066406, 453.8464050292969, 424.84234619140625, 404.2948303222656, 403.57763671875, 436.5178527832031, 318.5240173339844, 302.2487487792969, 302.0794372558594, 300.634521484375, 295.355224609375, 293.54937744140625, 290.5983581542969, 287.6436462402344, 1049.26904296875, 1389.261474609375, 582.1861572265625, 1069.85205078125, 1097.9080810546875, 891.4030151367188, 1868.996826171875, 3749.46923828125, 656.4169311523438, 699.3906860351562, 916.1231689453125, 781.507568359375, 1161.0029296875, 1300.626220703125, 1890.77783203125, 1774.173828125, 1178.469482421875, 1327.9444580078125, 1706.3052978515625, 1028.7642822265625, 871.744873046875, 1003.0711059570312, 993.0986938476562, 992.6195678710938, 1013.4689331054688, 967.2604370117188, 937.0635986328125, 1269.6641845703125, 791.8704223632812, 583.4869995117188, 578.1964111328125, 500.5404357910156, 472.9601135253906, 460.1245422363281, 466.8292236328125, 460.377197265625, 405.3543701171875, 393.8726501464844, 344.1907043457031, 336.2036437988281, 307.5657653808594, 296.1478576660156, 290.884521484375, 238.17428588867188, 236.6881866455078, 235.28128051757812, 233.62918090820312, 226.3977813720703, 218.64535522460938, 220.7133331298828, 211.05477905273438, 206.15391540527344, 203.0267333984375, 201.61135864257812, 196.26475524902344, 193.53663635253906, 199.3539276123047, 825.851806640625, 394.6180725097656, 603.984375, 433.27740478515625, 608.0536499023438, 345.22735595703125, 287.55682373046875, 271.9346923828125, 621.5010986328125, 324.2001953125, 247.35511779785156, 237.47047424316406, 236.9524688720703, 2030.891845703125, 1871.4658203125, 965.9463500976562, 927.498779296875, 870.9437866210938, 669.94970703125, 642.75439453125, 586.596435546875, 583.5048217773438, 569.6776123046875, 531.3431396484375, 493.1088562011719, 446.1237487792969, 447.68890380859375, 435.82928466796875, 446.829833984375, 379.2758483886719, 371.72686767578125, 366.7334289550781, 367.57818603515625, 336.83203125, 332.2782897949219, 323.1496276855469, 322.0915832519531, 318.3707275390625, 315.8791198730469, 309.10784912109375, 315.2941589355469, 294.7266845703125, 287.0180358886719, 302.0496520996094, 986.4217529296875, 871.9512939453125, 363.1366271972656, 648.076416015625, 620.3939819335938, 564.95654296875, 389.5038757324219, 448.62591552734375, 355.7812194824219], \"Term\": [\"like\", \"vape\", \"love\", \"vaping\", \"thanks\", \"video\", \"health\", \"good\", \"know\", \"time\", \"happy\", \"look\", \"help\", \"latest\", \"make\", \"fuck\", \"juul\", \"really\", \"school\", \"cigarette\", \"smoking\", \"follow\", \"miss\", \"shit\", \"product\", \"friend\", \"tobacco\", \"want\", \"going\", \"ever\", \"baby\", \"left\", \"nothing\", \"phone\", \"close\", \"second\", \"apple\", \"energy\", \"okay\", \"north\", \"imagine\", \"west\", \"shirt\", \"sport\", \"definitely\", \"luck\", \"hearing\", \"choose\", \"beer\", \"happening\", \"saudi\", \"kanye\", \"suck\", \"fuckin\", \"twitch\", \"hour\", \"director\", \"security\", \"opinion\", \"fan\", \"congratulations\", \"trump\", \"hell\", \"coming\", \"live\", \"light\", \"game\", \"john\", \"join\", \"health\", \"help\", \"school\", \"child\", \"please\", \"kid\", \"state\", \"read\", \"student\", \"care\", \"support\", \"learn\", \"many\", \"public\", \"vote\", \"parent\", \"study\", \"report\", \"medium\", \"million\", \"kavanaugh\", \"become\", \"fact\", \"social\", \"drug\", \"community\", \"risk\", \"important\", \"money\", \"issue\", \"woman\", \"high\", \"here\", \"year\", \"people\", \"need\", \"change\", \"make\", \"family\", \"take\", \"today\", \"trump\", \"work\", \"life\", \"call\", \"time\", \"first\", \"know\", \"love\", \"thanks\", \"happy\", \"latest\", \"fuck\", \"really\", \"shit\", \"friend\", \"girl\", \"daily\", \"night\", \"feel\", \"....\", \"birthday\", \"fucking\", \"bitch\", \"hate\", \"research\", \"listen\", \"damn\", \"wanna\", \"see\", \"@realdonaldtrump\", \"nigga\", \"watching\", \"literally\", \"yeah\", \"pretty\", \"boy\", \"dude\", \"going\", \"look\", \"anyone\", \"ever\", \"never\", \"everyone\", \"good\", \"like\", \"something\", \"play\", \"this\", \"someone\", \"think\", \"back\", \"know\", \"time\", \"that\", \"want\", \"make\", \"would\", \"tell\", \"come\", \"life\", \"take\", \"people\", \"today\", \"need\", \"video\", \"miss\", \"thing\", \"tweet\", \"twitter\", \"music\", \"@youtube\", \"forget\", \"song\", \"nice\", \"water\", \"funny\", \"else\", \"giveaway\", \"movie\", \"sorry\", \"star\", \"winner\", \"google\", \"feeling\", \"voter\", \"instagram\", \"medicine\", \"enter\", \"brother\", \"episode\", \"wake\", \"eating\", \"grade\", \"generation\", \"follow\", \"drop\", \"thank\", \"post\", \"check\", \"person\", \"photo\", \"teacher\", \"like\", \"well\", \"facebook\", \"get\", \"must\", \"vape\", \"vaping\", \"juul\", \"cigarette\", \"product\", \"flavor\", \"smoke\", \"vapelife\", \"nicotine\", \"available\", \"vapefam\", \"sale\", \"vapor\", \"quit\", \"smoker\", \"store\", \"vapeon\", \"vapers\", \"vapenation\", \"shop\", \"market\", \"juice\", \"ecig\", \"ecigs\", \"vapeshop\", \"stock\", \"ejuice\", \"meet\", \"eliquid\", \"data\", \"brand\", \"smoking\", \"tobacco\", \"review\", \"free\", \"check\", \"today\", \"join\", \"come\", \"cancer\"], \"Total\": [4430.0, 2031.0, 2487.0, 1872.0, 1888.0, 1270.0, 1973.0, 2092.0, 2689.0, 2639.0, 1356.0, 1403.0, 1580.0, 1323.0, 3071.0, 1243.0, 966.0, 1227.0, 1395.0, 928.0, 1171.0, 929.0, 792.0, 1135.0, 871.0, 1093.0, 1368.0, 1934.0, 1054.0, 1082.0, 511.8080749511719, 474.2353820800781, 394.51019287109375, 385.83953857421875, 383.5491638183594, 376.665283203125, 306.52789306640625, 266.8201904296875, 256.5555114746094, 250.25831604003906, 227.79005432128906, 214.71878051757812, 203.79029846191406, 200.94671630859375, 199.967529296875, 197.59542846679688, 196.8534698486328, 195.6926727294922, 192.20028686523438, 193.61773681640625, 189.54611206054688, 186.6947021484375, 186.0330047607422, 181.83241271972656, 177.5178985595703, 176.90269470214844, 172.13351440429688, 169.74221801757812, 170.19754028320312, 168.5966796875, 263.7322998046875, 1180.2757568359375, 276.6390075683594, 640.71240234375, 985.4249877929688, 325.072021484375, 1065.513916015625, 243.98379516601562, 748.1866455078125, 1973.608642578125, 1580.5096435546875, 1395.1722412109375, 1076.5360107421875, 1068.300537109375, 1039.2120361328125, 980.7661743164062, 907.7395629882812, 891.7835693359375, 889.3550415039062, 882.2904052734375, 876.2562866210938, 873.6906127929688, 788.3008422851562, 768.7914428710938, 686.9874267578125, 620.40869140625, 577.2984008789062, 570.6451416015625, 570.8861694335938, 549.9823608398438, 548.9990234375, 545.9964599609375, 539.4561767578125, 526.7955932617188, 508.4545593261719, 500.2004089355469, 486.0374450683594, 479.04547119140625, 475.9130859375, 1106.149658203125, 907.8002319335938, 1169.6365966796875, 1404.7421875, 2809.033203125, 2303.51904296875, 861.6461181640625, 3071.341552734375, 824.1578979492188, 1968.4908447265625, 2596.837158203125, 1180.2757568359375, 1221.8720703125, 1843.5601806640625, 1175.01513671875, 2639.34521484375, 1584.4324951171875, 2689.779052734375, 2487.5771484375, 1888.51318359375, 1356.846435546875, 1323.8106689453125, 1243.4752197265625, 1227.005615234375, 1135.4930419921875, 1093.57666015625, 907.9694213867188, 848.40625, 825.720947265625, 767.5181274414062, 734.8689575195312, 693.0552368164062, 676.7638549804688, 623.7392578125, 488.6698913574219, 454.5867614746094, 425.54559326171875, 404.9964294433594, 404.2785949707031, 437.36981201171875, 319.2326965332031, 302.9481506347656, 302.7830810546875, 301.3375549316406, 296.05877685546875, 294.25616455078125, 291.2991027832031, 288.3440856933594, 1054.4278564453125, 1403.732666015625, 583.981689453125, 1082.184326171875, 1179.50830078125, 950.1856689453125, 2092.970458984375, 4430.27197265625, 701.558349609375, 757.5305786132812, 1051.5672607421875, 877.022216796875, 1419.100341796875, 1631.154296875, 2689.779052734375, 2639.34521484375, 1530.0098876953125, 1934.2945556640625, 3071.341552734375, 1597.5450439453125, 1136.5574951171875, 1755.657470703125, 1843.5601806640625, 1968.4908447265625, 2809.033203125, 2596.837158203125, 2303.51904296875, 1270.3695068359375, 792.580322265625, 584.1975708007812, 578.9052734375, 501.2468566894531, 473.6631774902344, 460.8240051269531, 467.5419616699219, 461.0820617675781, 406.06402587890625, 394.580078125, 344.90399169921875, 336.91583251953125, 308.2745666503906, 296.8562927246094, 291.5953369140625, 238.88230895996094, 237.3946990966797, 235.9922332763672, 234.33673095703125, 227.11656188964844, 219.3555450439453, 221.4315948486328, 211.76112365722656, 206.86134338378906, 203.73484802246094, 202.32254028320312, 196.97731018066406, 194.24281311035156, 200.0846405029297, 929.8358154296875, 545.8018188476562, 1276.39697265625, 758.6082153320312, 1464.70947265625, 625.5745239257812, 437.9674072265625, 386.228271484375, 4430.27197265625, 919.3743286132812, 334.5107727050781, 351.49017333984375, 455.45135498046875, 2031.5908203125, 1872.16650390625, 966.6492309570312, 928.201416015625, 871.6469116210938, 670.6506958007812, 643.4588623046875, 587.2935180664062, 584.2071533203125, 570.3820190429688, 532.041259765625, 493.81072998046875, 446.82177734375, 448.3921813964844, 436.5324401855469, 447.56158447265625, 379.97314453125, 372.4260559082031, 367.4304504394531, 368.2799987792969, 337.54150390625, 332.9817810058594, 323.8479309082031, 322.79156494140625, 319.0700988769531, 316.58074951171875, 309.80487060546875, 316.0084533691406, 295.4241638183594, 287.73284912109375, 302.8454284667969, 1171.1083984375, 1368.888916015625, 410.21435546875, 1219.5687255859375, 1464.70947265625, 2596.837158203125, 748.1866455078125, 1755.657470703125, 575.8814697265625], \"loglift\": [30.0, 29.0, 28.0, 27.0, 26.0, 25.0, 24.0, 23.0, 22.0, 21.0, 20.0, 19.0, 18.0, 17.0, 16.0, 15.0, 14.0, 13.0, 12.0, 11.0, 10.0, 9.0, 8.0, 7.0, 6.0, 5.0, 4.0, 3.0, 2.0, 1.0, 2.0244998931884766, 2.0243000984191895, 2.0239999294281006, 2.0239999294281006, 2.0239999294281006, 2.023900032043457, 2.0234999656677246, 2.023099899291992, 2.023099899291992, 2.0230000019073486, 2.022700071334839, 2.0225000381469727, 2.02239990234375, 2.0223000049591064, 2.0223000049591064, 2.022200107574463, 2.022200107574463, 2.022200107574463, 2.0220999717712402, 2.0220999717712402, 2.0220999717712402, 2.0220999717712402, 2.0220000743865967, 2.021899938583374, 2.021899938583374, 2.0218000411987305, 2.021699905395508, 2.0216000080108643, 2.0216000080108643, 2.0216000080108643, 1.8062000274658203, 0.9758999943733215, 1.7552000284194946, 1.225100040435791, 0.8515999913215637, 1.6050000190734863, 0.7088000178337097, 1.7883000373840332, 0.7301999926567078, 1.1792000532150269, 1.1791000366210938, 1.1791000366210938, 1.1789000034332275, 1.1789000034332275, 1.1789000034332275, 1.1789000034332275, 1.1787999868392944, 1.1787999868392944, 1.1787999868392944, 1.1787999868392944, 1.1787999868392944, 1.1787999868392944, 1.1786999702453613, 1.1786999702453613, 1.1785000562667847, 1.1784000396728516, 1.1784000396728516, 1.1783000230789185, 1.1783000230789185, 1.1783000230789185, 1.1783000230789185, 1.1783000230789185, 1.1783000230789185, 1.1782000064849854, 1.1782000064849854, 1.1782000064849854, 1.1780999898910522, 1.1780999898910522, 1.1780999898910522, 0.984499990940094, 1.0010000467300415, 0.9257000088691711, 0.8398000001907349, 0.6010000109672546, 0.6570000052452087, 0.9855999946594238, 0.3443000018596649, 0.9785000085830688, 0.4772999882698059, 0.2874999940395355, 0.7444000244140625, 0.7021999955177307, 0.40529999136924744, 0.7105000019073486, 0.06360000371932983, 0.4465999901294708, -0.0348999984562397, 1.3831000328063965, 1.3830000162124634, 1.3828999996185303, 1.3828999996185303, 1.3827999830245972, 1.3827999830245972, 1.3827999830245972, 1.382699966430664, 1.382599949836731, 1.382599949836731, 1.3825000524520874, 1.3825000524520874, 1.3824000358581543, 1.3824000358581543, 1.3823000192642212, 1.3823000192642212, 1.3818999528884888, 1.3818000555038452, 1.381700038909912, 1.381600022315979, 1.381600022315979, 1.3813999891281128, 1.3811999559402466, 1.381100058555603, 1.381100058555603, 1.38100004196167, 1.38100004196167, 1.38100004196167, 1.38100004196167, 1.38100004196167, 1.378499984741211, 1.3730000257492065, 1.3803000450134277, 1.371899962425232, 1.3116999864578247, 1.3194999694824219, 1.2702000141143799, 1.2165000438690186, 1.3169000148773193, 1.3035000562667847, 1.2454999685287476, 1.2681000232696533, 1.1826000213623047, 1.1569000482559204, 1.030900001525879, 0.9861999750137329, 1.1223000288009644, 1.0073000192642212, 0.7955999970436096, 0.9433000087738037, 1.1181000471115112, 0.8235999941825867, 0.7648000121116638, 0.6987000107765198, 0.36390000581741333, 0.39579999446868896, 0.4839000105857849, 1.9809000492095947, 1.9804999828338623, 1.9802000522613525, 1.9802000522613525, 1.9800000190734863, 1.9799000024795532, 1.9799000024795532, 1.9799000024795532, 1.9799000024795532, 1.979699969291687, 1.979599952697754, 1.9794000387191772, 1.9793000221252441, 1.979099988937378, 1.9789999723434448, 1.9789999723434448, 1.9785000085830688, 1.9783999919891357, 1.9783999919891357, 1.9783999919891357, 1.9782999753952026, 1.9781999588012695, 1.9781999588012695, 1.9780999422073364, 1.9780000448226929, 1.9779000282287598, 1.9779000282287598, 1.9778000116348267, 1.9778000116348267, 1.9778000116348267, 1.8628000020980835, 1.657099962234497, 1.233199954032898, 1.4213000535964966, 1.1023000478744507, 1.3869999647140503, 1.5607000589370728, 1.6305999755859375, 0.01730000041425228, 0.9391000270843506, 1.6796000003814697, 1.5893000364303589, 1.3279999494552612, 1.7592999935150146, 1.7592999935150146, 1.7589000463485718, 1.7589000463485718, 1.7589000463485718, 1.7585999965667725, 1.7585999965667725, 1.7584999799728394, 1.7584999799728394, 1.7583999633789062, 1.7582999467849731, 1.7582000494003296, 1.7581000328063965, 1.7581000328063965, 1.7580000162124634, 1.7580000162124634, 1.7577999830245972, 1.7577999830245972, 1.7577999830245972, 1.7577999830245972, 1.757599949836731, 1.7575000524520874, 1.7575000524520874, 1.7575000524520874, 1.7575000524520874, 1.7574000358581543, 1.7574000358581543, 1.7574000358581543, 1.7573000192642212, 1.757200002670288, 1.7569999694824219, 1.5880000591278076, 1.3085999488830566, 1.6377999782562256, 1.1274000406265259, 0.900600016117096, 0.23440000414848328, 1.1068999767303467, 0.3952000141143799, 1.2781000137329102], \"logprob\": [30.0, 29.0, 28.0, 27.0, 26.0, 25.0, 24.0, 23.0, 22.0, 21.0, 20.0, 19.0, 18.0, 17.0, 16.0, 15.0, 14.0, 13.0, 12.0, 11.0, 10.0, 9.0, 8.0, 7.0, 6.0, 5.0, 4.0, 3.0, 2.0, 1.0, -5.424699783325195, -5.500999927520752, -5.685400009155273, -5.707600116729736, -5.713600158691406, -5.731800079345703, -5.938199996948242, -6.077300071716309, -6.116700172424316, -6.141600131988525, -6.235899925231934, -6.295199871063232, -6.347599983215332, -6.361700057983398, -6.366600036621094, -6.378600120544434, -6.382400035858154, -6.388299942016602, -6.406400203704834, -6.399099826812744, -6.420300006866455, -6.435500144958496, -6.4390997886657715, -6.461999893188477, -6.486100196838379, -6.489699840545654, -6.517099857330322, -6.531099796295166, -6.528500080108643, -6.537899971008301, -6.306000232696533, -5.637700080871582, -6.309199810028076, -5.9994001388549805, -5.942399978637695, -6.297999858856201, -6.006999969482422, -6.401700019836426, -6.339200019836426, -4.920199871063232, -5.142399787902832, -5.267199993133545, -5.526599884033203, -5.534299850463867, -5.561999797821045, -5.619900226593018, -5.697299957275391, -5.715099811553955, -5.717800140380859, -5.725800037384033, -5.732600212097168, -5.735599994659424, -5.838500022888184, -5.86359977722168, -5.976200103759766, -6.078199863433838, -6.150400161743164, -6.1620001792907715, -6.161499977111816, -6.19890022277832, -6.200699806213379, -6.206200122833252, -6.218200206756592, -6.242000102996826, -6.277500152587891, -6.293900012969971, -6.3225998878479, -6.337200164794922, -6.343699932098389, -5.693900108337402, -5.875100135803223, -5.697000026702881, -5.599699974060059, -5.145500183105469, -5.287899971008301, -5.942599773406982, -5.312900066375732, -5.994200229644775, -5.624800205230713, -5.537499904632568, -5.869200229644775, -5.876800060272217, -5.76230001449585, -5.90749979019165, -5.745200157165527, -5.872499942779541, -5.82480001449585, -4.484899997711182, -4.760499954223633, -5.091300010681152, -5.115900039672852, -5.178599834442139, -5.19189977645874, -5.269499778747559, -5.30709981918335, -5.493199825286865, -5.561200141906738, -5.5883002281188965, -5.661399841308594, -5.704999923706055, -5.763599872589111, -5.787399768829346, -5.869100093841553, -6.113399982452393, -6.1859002113342285, -6.251999855041504, -6.301499843597412, -6.303299903869629, -6.224899768829346, -6.539999961853027, -6.592400074005127, -6.5929999351501465, -6.597799777984619, -6.615499973297119, -6.621600151062012, -6.631700038909912, -6.642000198364258, -5.347799777984619, -5.067200183868408, -5.9369001388549805, -5.328400135040283, -5.302499771118164, -5.510900020599365, -4.770500183105469, -4.0742998123168945, -5.81689977645874, -5.753499984741211, -5.483500003814697, -5.642499923706055, -5.246600151062012, -5.1331000328063965, -4.758900165557861, -4.8225998878479, -5.2316999435424805, -5.112299919128418, -4.861599922180176, -5.367599964141846, -5.533199787139893, -5.392899990081787, -5.402900218963623, -5.403299808502197, -5.382500171661377, -5.429200172424316, -5.460899829864502, -4.559100151062012, -5.031199932098389, -5.336599826812744, -5.345699787139893, -5.489999771118164, -5.546599864959717, -5.574100017547607, -5.559700012207031, -5.573599815368652, -5.700900077819824, -5.729599952697754, -5.8643999099731445, -5.887899875640869, -5.9770002365112305, -6.014800071716309, -6.032700061798096, -6.232600212097168, -6.238900184631348, -6.244900226593018, -6.2519001960754395, -6.283299922943115, -6.31820011138916, -6.308800220489502, -6.353499889373779, -6.376999855041504, -6.392300128936768, -6.3993000984191895, -6.426199913024902, -6.440199851989746, -6.410600185394287, -4.989200115203857, -5.727700233459473, -5.30210018157959, -5.634300231933594, -5.295400142669678, -5.861400127410889, -6.0441999435424805, -6.100100040435791, -5.273499965667725, -5.924300193786621, -6.194799900054932, -6.235599994659424, -6.237800121307373, -4.311200141906738, -4.392899990081787, -5.054299831390381, -5.094900131225586, -5.157800197601318, -5.420199871063232, -5.461599826812744, -5.553100109100342, -5.5584001541137695, -5.582300186157227, -5.6519999504089355, -5.7266998291015625, -5.8267998695373535, -5.823299884796143, -5.850200176239014, -5.825200080871582, -5.989099979400635, -6.009200096130371, -6.022799968719482, -6.020500183105469, -6.107800006866455, -6.121399879455566, -6.1493000984191895, -6.152599811553955, -6.1641998291015625, -6.171999931335449, -6.193699836730957, -6.173900127410889, -6.241399765014648, -6.267899990081787, -6.216800212860107, -5.033299922943115, -5.156700134277344, -6.032599925994873, -5.453400135040283, -5.497099876403809, -5.590700149536133, -5.962500095367432, -5.821199893951416, -6.053100109100342]}, \"token.table\": {\"Topic\": [3, 3, 4, 3, 4, 1, 5, 1, 1, 2, 3, 5, 2, 1, 3, 3, 3, 5, 4, 1, 2, 3, 5, 1, 3, 5, 2, 2, 3, 2, 4, 5, 2, 1, 5, 1, 1, 2, 3, 4, 5, 1, 2, 5, 2, 1, 5, 3, 3, 5, 1, 1, 4, 5, 2, 3, 4, 5, 5, 5, 5, 4, 1, 4, 4, 3, 4, 2, 3, 3, 4, 2, 2, 3, 1, 3, 4, 1, 2, 3, 4, 5, 5, 2, 4, 4, 2, 4, 5, 3, 3, 1, 3, 4, 1, 3, 4, 1, 4, 3, 4, 2, 3, 2, 3, 5, 4, 4, 1, 3, 3, 2, 1, 1, 2, 2, 2, 5, 2, 5, 1, 1, 2, 4, 2, 1, 4, 1, 3, 5, 5, 5, 1, 2, 2, 2, 3, 3, 2, 1, 2, 3, 1, 5, 3, 4, 5, 3, 3, 1, 2, 3, 5, 2, 3, 4, 3, 1, 2, 3, 4, 2, 5, 4, 2, 5, 2, 4, 2, 4, 4, 4, 5, 2, 3, 2, 3, 4, 5, 3, 3, 1, 1, 1, 1, 2, 2, 3, 4, 2, 4, 1, 2, 4, 2, 3, 4, 2, 2, 3, 4, 5, 3, 5, 2, 5, 2, 3, 2, 3, 4, 5, 2, 5, 1, 2, 1, 1, 3, 1, 3, 5, 5, 5, 2, 5, 2, 2, 3, 2, 3, 4, 4, 1, 4, 2, 5, 5, 2, 2, 1, 2, 2, 3, 1, 4, 2, 3, 1, 2, 4, 3, 2, 3, 4, 2, 3, 2, 3, 2, 3, 2, 5, 2, 3, 5, 1, 2, 3, 4, 1, 4, 5, 5, 5, 5, 5, 5, 5, 5, 5, 4, 2, 4, 4, 3, 2, 3, 3, 4, 2, 4, 1, 4, 2, 3, 2, 3, 2, 3, 3, 2, 3], \"Freq\": [0.9988175630569458, 0.9992710947990417, 0.9982118606567383, 0.9966065883636475, 0.0017123824218288064, 0.9982778429985046, 0.9993302226066589, 0.9984211325645447, 0.06498465687036514, 0.03984908014535904, 0.7975946664810181, 0.09747698158025742, 0.9981802701950073, 0.993755042552948, 0.9984773993492126, 0.9988148212432861, 0.9989731907844543, 0.9972083568572998, 0.9958361387252808, 0.05276527628302574, 0.6255238652229309, 0.31744271516799927, 0.0042552645318210125, 0.1719103753566742, 0.21011267602443695, 0.6181827783584595, 0.9996007680892944, 0.8240041732788086, 0.1752459555864334, 0.1611241102218628, 0.4150993824005127, 0.4232921302318573, 0.9995021224021912, 0.9964603781700134, 0.9987056255340576, 0.9985681772232056, 0.08828601241111755, 0.030188120901584625, 0.571295976638794, 0.054680369794368744, 0.2557446360588074, 0.44949963688850403, 0.31683480739593506, 0.2341143935918808, 0.9991059899330139, 0.8038454055786133, 0.19337791204452515, 0.9995211362838745, 0.9975396394729614, 0.9974530339241028, 0.9951615929603577, 0.9934149384498596, 0.7237058877944946, 0.27665719389915466, 0.9984897375106812, 0.9988066554069519, 0.9950384497642517, 0.9973816871643066, 0.9975477457046509, 0.997402012348175, 0.9985642433166504, 0.9972817301750183, 0.9969260692596436, 0.9964057207107544, 0.9963931441307068, 0.9887409806251526, 0.01108868420124054, 0.06104070320725441, 0.9377114772796631, 0.26008132100105286, 0.7383917570114136, 0.9981749653816223, 0.8178044557571411, 0.1820039600133896, 0.9964609146118164, 0.9993249177932739, 0.9985630512237549, 0.07636803388595581, 0.48029816150665283, 0.4020366966724396, 0.005680267233401537, 0.03534388542175293, 0.9990297555923462, 0.11077224463224411, 0.8883288502693176, 0.9988408088684082, 0.34930381178855896, 0.11889448761940002, 0.5313353538513184, 0.9994726777076721, 0.9996178150177002, 0.9954220652580261, 0.9988713264465332, 0.9973790049552917, 0.26747655868530273, 0.7320411205291748, 0.9945790767669678, 0.3214883506298065, 0.6742720603942871, 0.9989323019981384, 0.9991093277931213, 0.004741908051073551, 0.9948523044586182, 0.10511375963687897, 0.8929892182350159, 0.0019111593719571829, 0.995795488357544, 0.9987499713897705, 0.9968094825744629, 0.9993761777877808, 0.9986291527748108, 0.9996916055679321, 0.9956644177436829, 0.7627268433570862, 0.23496325314044952, 0.9996775388717651, 0.7754545211791992, 0.2240011990070343, 0.8360870480537415, 0.1630314588546753, 0.9948972463607788, 0.9965316653251648, 0.9978654980659485, 0.998379111289978, 0.998081386089325, 0.7869375348091125, 0.20903027057647705, 0.2739958167076111, 0.20583099126815796, 0.5212603211402893, 0.9970515370368958, 0.9993283748626709, 0.9962789416313171, 0.9982138276100159, 0.9997959733009338, 0.2966786324977875, 0.7030317187309265, 0.9993876218795776, 0.9997075200080872, 0.9995036721229553, 0.4610644280910492, 0.5386317372322083, 0.6552394032478333, 0.34146279096603394, 0.8462234139442444, 0.14039769768714905, 0.013317466713488102, 0.9987179040908813, 0.9988797903060913, 0.30951112508773804, 0.17352919280529022, 0.43331557512283325, 0.08422762155532837, 0.009261022321879864, 0.9895046353340149, 0.0007123863324522972, 0.9997679591178894, 0.9969866275787354, 0.4336867034435272, 0.555457592010498, 0.010418900288641453, 0.9992095232009888, 0.9983957409858704, 0.9980508685112, 0.9988694787025452, 0.9968087673187256, 0.9984477162361145, 0.9992678165435791, 0.9978175759315491, 0.9971154928207397, 0.9985998868942261, 0.520362913608551, 0.47864606976509094, 0.5930057168006897, 0.40676894783973694, 0.06867268681526184, 0.9308964014053345, 0.9973796606063843, 0.9996454119682312, 0.9968702793121338, 0.9991269111633301, 0.9989678263664246, 0.9987067580223083, 0.9978347420692444, 0.9929638504981995, 0.9985626935958862, 0.5606911182403564, 0.3606222867965698, 0.0783187597990036, 0.44758856296539307, 0.5514930486679077, 0.9978241324424744, 0.3424912393093109, 0.6575831770896912, 0.0752444863319397, 0.9227350354194641, 0.0013200787361711264, 0.9997186660766602, 0.255731463432312, 0.03822790086269379, 0.5707821249961853, 0.13445675373077393, 0.9991294741630554, 0.9992578029632568, 0.9996183514595032, 0.9991253614425659, 0.9991852641105652, 0.9991804361343384, 0.9994831085205078, 0.9987092614173889, 0.11457424610853195, 0.8849031925201416, 0.9995993375778198, 0.9983581900596619, 0.9971188306808472, 0.9991598129272461, 0.9982337355613708, 0.9956274032592773, 0.9991544485092163, 0.9961220026016235, 0.9995657801628113, 0.9992396831512451, 0.9992868900299072, 0.9987803101539612, 0.1571161150932312, 0.8419374227523804, 0.9991543889045715, 0.10832108557224274, 0.8916535973548889, 0.06414292007684708, 0.9350612163543701, 0.9976531863212585, 0.9979583621025085, 0.9952887296676636, 0.9963065385818481, 0.9992188215255737, 0.9981655478477478, 0.9987452626228333, 0.999121367931366, 0.9993412494659424, 0.9944471716880798, 0.9996708631515503, 0.49530330300331116, 0.504447340965271, 0.29516223073005676, 0.7042467594146729, 0.23228037357330322, 0.7672291398048401, 0.10498300939798355, 0.42149895429611206, 0.473207026720047, 0.999728262424469, 0.22941027581691742, 0.7699296474456787, 0.9979500770568848, 0.1818053275346756, 0.8181239366531372, 0.12837980687618256, 0.871080756187439, 0.32773280143737793, 0.6721364259719849, 0.3623376488685608, 0.6370129585266113, 0.4097291827201843, 0.37237605452537537, 0.21757236123085022, 0.3499182164669037, 0.6473063826560974, 0.0025417788419872522, 0.9984362125396729, 0.997082531452179, 0.999507486820221, 0.9997091889381409, 0.9980428814888, 0.9995002150535583, 0.9988284707069397, 0.997438907623291, 0.9988560080528259, 0.9966461658477783, 0.9993769526481628, 0.9981608390808105, 0.9997091293334961, 0.9989705085754395, 0.995083749294281, 0.9984058141708374, 0.9993109107017517, 0.3132925033569336, 0.6865552067756653, 0.997413694858551, 0.9985299110412598, 0.6471792459487915, 0.3524135947227478, 0.9966524839401245, 0.9983373880386353, 0.822673499584198, 0.17719121277332306, 0.6203595399856567, 0.37892675399780273, 0.3555455207824707, 0.644113302230835, 0.9964237809181213, 0.7118744254112244, 0.28759726881980896], \"Term\": [\"....\", \"@realdonaldtrump\", \"@youtube\", \"anyone\", \"anyone\", \"apple\", \"available\", \"baby\", \"back\", \"back\", \"back\", \"back\", \"become\", \"beer\", \"birthday\", \"bitch\", \"boy\", \"brand\", \"brother\", \"call\", \"call\", \"call\", \"call\", \"cancer\", \"cancer\", \"cancer\", \"care\", \"change\", \"change\", \"check\", \"check\", \"check\", \"child\", \"choose\", \"cigarette\", \"close\", \"come\", \"come\", \"come\", \"come\", \"come\", \"coming\", \"coming\", \"coming\", \"community\", \"congratulations\", \"congratulations\", \"daily\", \"damn\", \"data\", \"definitely\", \"director\", \"drop\", \"drop\", \"drug\", \"dude\", \"eating\", \"ecig\", \"ecigs\", \"ejuice\", \"eliquid\", \"else\", \"energy\", \"enter\", \"episode\", \"ever\", \"ever\", \"everyone\", \"everyone\", \"facebook\", \"facebook\", \"fact\", \"family\", \"family\", \"fan\", \"feel\", \"feeling\", \"first\", \"first\", \"first\", \"first\", \"first\", \"flavor\", \"follow\", \"follow\", \"forget\", \"free\", \"free\", \"free\", \"friend\", \"fuck\", \"fuckin\", \"fucking\", \"funny\", \"game\", \"game\", \"generation\", \"get\", \"get\", \"girl\", \"giveaway\", \"going\", \"going\", \"good\", \"good\", \"good\", \"google\", \"grade\", \"happening\", \"happy\", \"hate\", \"health\", \"hearing\", \"hell\", \"hell\", \"help\", \"here\", \"here\", \"high\", \"high\", \"hour\", \"imagine\", \"important\", \"instagram\", \"issue\", \"john\", \"john\", \"join\", \"join\", \"join\", \"juice\", \"juul\", \"kanye\", \"kavanaugh\", \"kid\", \"know\", \"know\", \"latest\", \"learn\", \"left\", \"life\", \"life\", \"light\", \"light\", \"like\", \"like\", \"like\", \"listen\", \"literally\", \"live\", \"live\", \"live\", \"live\", \"look\", \"look\", \"look\", \"love\", \"luck\", \"make\", \"make\", \"make\", \"many\", \"market\", \"medicine\", \"medium\", \"meet\", \"million\", \"miss\", \"money\", \"movie\", \"music\", \"must\", \"must\", \"need\", \"need\", \"never\", \"never\", \"nice\", \"nicotine\", \"nigga\", \"night\", \"north\", \"nothing\", \"okay\", \"opinion\", \"parent\", \"people\", \"people\", \"people\", \"person\", \"person\", \"phone\", \"photo\", \"photo\", \"play\", \"play\", \"play\", \"please\", \"post\", \"post\", \"post\", \"post\", \"pretty\", \"product\", \"public\", \"quit\", \"read\", \"really\", \"report\", \"research\", \"review\", \"review\", \"risk\", \"sale\", \"saudi\", \"school\", \"second\", \"security\", \"see\", \"shirt\", \"shit\", \"shop\", \"smoke\", \"smoker\", \"smoking\", \"smoking\", \"social\", \"someone\", \"someone\", \"something\", \"something\", \"song\", \"sorry\", \"sport\", \"star\", \"state\", \"stock\", \"store\", \"student\", \"study\", \"suck\", \"support\", \"take\", \"take\", \"teacher\", \"teacher\", \"tell\", \"tell\", \"thank\", \"thank\", \"thank\", \"thanks\", \"that\", \"that\", \"thing\", \"think\", \"think\", \"this\", \"this\", \"time\", \"time\", \"tobacco\", \"tobacco\", \"today\", \"today\", \"today\", \"trump\", \"trump\", \"trump\", \"tweet\", \"twitch\", \"twitter\", \"vape\", \"vapefam\", \"vapelife\", \"vapenation\", \"vapeon\", \"vapers\", \"vapeshop\", \"vaping\", \"vapor\", \"video\", \"vote\", \"voter\", \"wake\", \"wanna\", \"want\", \"want\", \"watching\", \"water\", \"well\", \"well\", \"west\", \"winner\", \"woman\", \"woman\", \"work\", \"work\", \"would\", \"would\", \"yeah\", \"year\", \"year\"]}, \"R\": 30, \"lambda.step\": 0.01, \"plot.opts\": {\"xlab\": \"PC1\", \"ylab\": \"PC2\"}, \"topic.order\": [1, 2, 3, 4, 5]};\n",
       "\n",
       "function LDAvis_load_lib(url, callback){\n",
       "  var s = document.createElement('script');\n",
       "  s.src = url;\n",
       "  s.async = true;\n",
       "  s.onreadystatechange = s.onload = callback;\n",
       "  s.onerror = function(){console.warn(\"failed to load library \" + url);};\n",
       "  document.getElementsByTagName(\"head\")[0].appendChild(s);\n",
       "}\n",
       "\n",
       "if(typeof(LDAvis) !== \"undefined\"){\n",
       "   // already loaded: just create the visualization\n",
       "   !function(LDAvis){\n",
       "       new LDAvis(\"#\" + \"ldavis_el310721398341289859286744775916\", ldavis_el310721398341289859286744775916_data);\n",
       "   }(LDAvis);\n",
       "}else if(typeof define === \"function\" && define.amd){\n",
       "   // require.js is available: use it to load d3/LDAvis\n",
       "   require.config({paths: {d3: \"https://cdnjs.cloudflare.com/ajax/libs/d3/3.5.5/d3.min\"}});\n",
       "   require([\"d3\"], function(d3){\n",
       "      window.d3 = d3;\n",
       "      LDAvis_load_lib(\"https://cdn.rawgit.com/bmabey/pyLDAvis/files/ldavis.v1.0.0.js\", function(){\n",
       "        new LDAvis(\"#\" + \"ldavis_el310721398341289859286744775916\", ldavis_el310721398341289859286744775916_data);\n",
       "      });\n",
       "    });\n",
       "}else{\n",
       "    // require.js not available: dynamically load d3 & LDAvis\n",
       "    LDAvis_load_lib(\"https://cdnjs.cloudflare.com/ajax/libs/d3/3.5.5/d3.min.js\", function(){\n",
       "         LDAvis_load_lib(\"https://cdn.rawgit.com/bmabey/pyLDAvis/files/ldavis.v1.0.0.js\", function(){\n",
       "                 new LDAvis(\"#\" + \"ldavis_el310721398341289859286744775916\", ldavis_el310721398341289859286744775916_data);\n",
       "            })\n",
       "         });\n",
       "}\n",
       "</script>"
      ],
      "text/plain": [
       "<IPython.core.display.HTML object>"
      ]
     },
     "execution_count": 65,
     "metadata": {},
     "output_type": "execute_result"
    }
   ],
   "source": [
    "# word size < 4\n",
    "pyLDAvis.display(lda_display)"
   ]
  }
 ],
 "metadata": {
  "anaconda-cloud": {},
  "hide_input": false,
  "kernelspec": {
   "display_name": "Python 3",
   "language": "python",
   "name": "python3"
  },
  "language_info": {
   "codemirror_mode": {
    "name": "ipython",
    "version": 3
   },
   "file_extension": ".py",
   "mimetype": "text/x-python",
   "name": "python",
   "nbconvert_exporter": "python",
   "pygments_lexer": "ipython3",
   "version": "3.7.0"
  }
 },
 "nbformat": 4,
 "nbformat_minor": 2
}
