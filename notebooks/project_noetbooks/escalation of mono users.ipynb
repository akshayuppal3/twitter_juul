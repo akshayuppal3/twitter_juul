{
 "cells": [
  {
   "cell_type": "code",
   "execution_count": 361,
   "metadata": {
    "collapsed": false
   },
   "outputs": [],
   "source": [
    "import pickle\n",
    "import os\n",
    "import git\n",
    "import pandas as pd\n",
    "import matplotlib.pyplot as plt\n",
    "import re\n",
    "import numpy as np\n",
    "from nltk.tokenize import TweetTokenizer\n",
    "from nltk.corpus import wordnet as wn\n",
    "from sklearn.model_selection import train_test_split\n",
    "from sklearn.metrics import precision_recall_fscore_support\n",
    "tknzr = TweetTokenizer()"
   ]
  },
  {
   "cell_type": "code",
   "execution_count": 187,
   "metadata": {
    "collapsed": false
   },
   "outputs": [
    {
     "name": "stderr",
     "output_type": "stream",
     "text": [
      "[nltk_data] Downloading package wordnet to\n",
      "[nltk_data]     /home/samarthgoal/nltk_data...\n",
      "[nltk_data]   Package wordnet is already up-to-date!\n",
      "[nltk_data] Downloading package stopwords to\n",
      "[nltk_data]     /home/samarthgoal/nltk_data...\n",
      "[nltk_data]   Package stopwords is already up-to-date!\n"
     ]
    },
    {
     "data": {
      "text/plain": [
       "True"
      ]
     },
     "execution_count": 187,
     "metadata": {},
     "output_type": "execute_result"
    }
   ],
   "source": [
    "# setup env\n",
    "import nltk\n",
    "from nltk.corpus import stopwords\n",
    "stopwords = set(stopwords.words('english'))\n",
    "nltk.download('wordnet')\n",
    "nltk.download('stopwords')"
   ]
  },
  {
   "cell_type": "code",
   "execution_count": 16,
   "metadata": {
    "collapsed": true
   },
   "outputs": [],
   "source": [
    "def get_git_root(path):\n",
    "    git_repo = git.Repo(path, search_parent_directories=True)\n",
    "    git_root = git_repo.git.rev_parse(\"--show-toplevel\")\n",
    "    return git_root"
   ]
  },
  {
   "cell_type": "code",
   "execution_count": 189,
   "metadata": {
    "collapsed": true
   },
   "outputs": [],
   "source": [
    "def get_lemma(word):\n",
    "    lemma = wn.morphy(word)\n",
    "    if lemma is None:\n",
    "        return word\n",
    "    else:\n",
    "        return lemma"
   ]
  },
  {
   "cell_type": "code",
   "execution_count": 29,
   "metadata": {
    "collapsed": true
   },
   "outputs": [],
   "source": [
    "def get_tweets_user(df):\n",
    "    df_tweets_comb = list()\n",
    "    users = df.userID.unique()\n",
    "    for user in users:\n",
    "        tweets =(df.loc[df.userID == user])\n",
    "        tweets_f = (\" . \".join(tweets[\"tweetText\"]))\n",
    "        df_tweets_comb.append((user,tweets_f))\n",
    "    df_user = pd.DataFrame(df_tweets_comb, columns=[\"userID\",\"tweetText\"])\n",
    "    return (df_user)"
   ]
  },
  {
   "cell_type": "code",
   "execution_count": 177,
   "metadata": {
    "collapsed": true
   },
   "outputs": [],
   "source": [
    "def clean_text(text):\n",
    "    text = re.sub(r'(https?://\\S+)', \"\", text) ## remove url\n",
    "    text = re.sub(r'(\\@\\w+)', \"author\",text) ## remove @ mentions with author\n",
    "    text = re.sub(r'(author)',\"\",text)     ## remove author\n",
    "    text = re.sub(r'(#)', \"\",text)        ## removing the hashtags signal \n",
    "    text = re.sub(r'(RT :)', \"\",text) \n",
    "#     text = re.sub(r'(rt :\\w+)', \"\",text)    ## remove the retweet info as they dont convey any information\n",
    "    text.rstrip \n",
    "    text.lstrip\n",
    "    return(text)"
   ]
  },
  {
   "cell_type": "code",
   "execution_count": 185,
   "metadata": {
    "collapsed": false
   },
   "outputs": [],
   "source": [
    "tweet_tknzr = TweetTokenizer()\n",
    "def prepare_text_LDA(sentence):\n",
    "#     tokens = nltk.word_tokenize(sentence)  # now using tweet tokenizer\n",
    "    tokens = tweet_tknzr.tokenize(sentence)\n",
    "    tokens = [token.lower() for token in tokens if (token not in stopwords and token.isalpha())] # stopwords removal\n",
    "    tokens = [get_lemma(token) for token in tokens]  # lemmatization\n",
    "    return (\" \".join(tokens))"
   ]
  },
  {
   "cell_type": "code",
   "execution_count": 91,
   "metadata": {
    "collapsed": true
   },
   "outputs": [],
   "source": [
    "poly_growth = []\n",
    "mono_growth = []\n",
    "years = []\n",
    "tweets_growth= []"
   ]
  },
  {
   "cell_type": "code",
   "execution_count": 17,
   "metadata": {
    "collapsed": false
   },
   "outputs": [],
   "source": [
    "model_dir = os.path.join(get_git_root(os.getcwd()),\"models\")\n",
    "poly_dir = os.path.join(model_dir,\"poly_users\")"
   ]
  },
  {
   "cell_type": "code",
   "execution_count": 195,
   "metadata": {
    "collapsed": false
   },
   "outputs": [
    {
     "name": "stderr",
     "output_type": "stream",
     "text": [
      "/home/samarthgoal/.local/lib/python3.5/site-packages/IPython/core/interactiveshell.py:3049: DtypeWarning: Columns (2) have mixed types. Specify dtype option on import or set low_memory=False.\n",
      "  interactivity=interactivity, compiler=compiler, result=result)\n"
     ]
    }
   ],
   "source": [
    "poly_users = pickle.load(open(os.path.join(poly_dir,\"poly_users.pkl\"),\"rb\"))\n",
    "normal_users = pickle.load(open(os.path.join(poly_dir,\"normal_users.pkl\"),\"rb\"))\n",
    "juul_before = pickle.load(open(os.path.join(poly_dir,\"juul_before.pkl\"),\"rb\"))\n",
    "df_tweets = pd.read_csv(os.path.join(poly_dir,\"labelled_data.csv\"),lineterminator=\"\\n\")"
   ]
  },
  {
   "cell_type": "code",
   "execution_count": 20,
   "metadata": {
    "collapsed": true
   },
   "outputs": [],
   "source": [
    "tweets_all = df_tweets.loc[df_tweets.userID.isin(normal_users)]\n",
    "tweets_all[\"tweetCreatedAt\"] = pd.to_datetime(tweets_all.tweetCreatedAt)"
   ]
  },
  {
   "cell_type": "code",
   "execution_count": 175,
   "metadata": {
    "collapsed": false
   },
   "outputs": [
    {
     "name": "stdout",
     "output_type": "stream",
     "text": [
      "extracting the pattern for weeds\n"
     ]
    }
   ],
   "source": [
    "print(\"extracting the pattern for weeds\")\n",
    "weed_words = pickle.load(open(os.path.join(model_dir, \"weed_words.pkl\"), \"rb\"))\n",
    "pattern_weed = \"|\".join(weed_words)"
   ]
  },
  {
   "cell_type": "code",
   "execution_count": 358,
   "metadata": {
    "collapsed": true
   },
   "outputs": [],
   "source": [
    "def get_label(df,poly_users):\n",
    "    label = []\n",
    "    for idx,row in tweets_user.iterrows():\n",
    "        if row['userID'] in poly_users:\n",
    "            label.append(\"poly\")\n",
    "        else:\n",
    "            label.append(\"mono\")\n",
    "    return label"
   ]
  },
  {
   "cell_type": "code",
   "execution_count": 156,
   "metadata": {
    "collapsed": true
   },
   "outputs": [],
   "source": [
    "def get_users(df):\n",
    "    poly_users = []\n",
    "    mono_users = []\n",
    "    for idx,row in tweets_user.iterrows():\n",
    "        if row['userID'] in poly_users:\n",
    "            poly_users.append(row[\"userID\"])\n",
    "        else:\n",
    "            mono_users.append(row[\"userID\"])\n",
    "    return (mono_users,poly_users)"
   ]
  },
  {
   "cell_type": "code",
   "execution_count": 173,
   "metadata": {
    "collapsed": false
   },
   "outputs": [
    {
     "name": "stdout",
     "output_type": "stream",
     "text": [
      "*****************************************\n",
      "poly_users 179\n",
      "mono_users 30\n",
      "total_users 209\n",
      "*****************************************\n",
      "poly_users 261\n",
      "mono_users 72\n",
      "total_users 333\n",
      "*****************************************\n",
      "poly_users 361\n",
      "mono_users 147\n",
      "total_users 508\n",
      "*****************************************\n",
      "poly_users 476\n",
      "mono_users 439\n",
      "total_users 915\n",
      "*****************************************\n",
      "poly_users 640\n",
      "mono_users 1878\n",
      "total_users 2518\n"
     ]
    }
   ],
   "source": [
    "year_c = [2015,2016,2017,2018,2019]\n",
    "mono_growth = []\n",
    "poly_growth = []\n",
    "total_growth= []\n",
    "for year in year_c:\n",
    "    tweets_ = tweets_all[tweets_all.tweetCreatedAt.dt.year < year]\n",
    "    tweets_user = get_tweets_user(tweets_)\n",
    "    label = get_label(tweets_user)\n",
    "    poly_ = len([ele for ele in label if ele == \"poly\"])\n",
    "    mono_ = len([ele for ele in label if ele == \"mono\"])\n",
    "    print(\"*****************************************\")\n",
    "    print(\"poly_users\",poly_)\n",
    "    print(\"mono_users\",mono_)\n",
    "    print(\"total_users\",poly_ + mono_)\n",
    "    poly_growth.append(poly_)\n",
    "    mono_growth.append(mono_)\n",
    "    total_growth.append(poly_ + mono_)\n",
    "    tweets_growth.append(len(tweets_))\n",
    "    years.append(year_c)"
   ]
  },
  {
   "cell_type": "code",
   "execution_count": 171,
   "metadata": {
    "collapsed": true
   },
   "outputs": [],
   "source": [
    "years = [\"2014-15\",\"2014-16\",\"2014-17\",\"2014-18\",\"2014-19\"]"
   ]
  },
  {
   "cell_type": "code",
   "execution_count": 172,
   "metadata": {
    "collapsed": false
   },
   "outputs": [
    {
     "data": {
      "image/png": "[encoded data removed]",
      "text/plain": [
       "<Figure size 1080x576 with 1 Axes>"
      ]
     },
     "metadata": {
      "needs_background": "light"
     },
     "output_type": "display_data"
    }
   ],
   "source": [
    "plt.figure(figsize=(15,8))\n",
    "plt.title(\"Growth of poly and mono users from 2014-2019\",fontsize=18)\n",
    "plt.xlabel(\"timeline (years)\",fontsize=16)\n",
    "plt.ylabel(\"no of unique users\",fontsize=16)\n",
    "plt.plot(years,poly_growth,color=\"g\",label=\"poly\")\n",
    "plt.plot(years,mono_growth,color=\"blue\",label=\"mono\")\n",
    "plt.plot(years,total_growth,color=\"black\",label=\"total\")\n",
    "plt.legend(fontsize=14)\n",
    "plt.show()"
   ]
  },
  {
   "cell_type": "code",
   "execution_count": 145,
   "metadata": {
    "collapsed": false,
    "scrolled": false
   },
   "outputs": [
    {
     "data": {
      "image/png": "[encoded data removed]",
      "text/plain": [
       "<Figure size 1080x576 with 1 Axes>"
      ]
     },
     "metadata": {
      "needs_background": "light"
     },
     "output_type": "display_data"
    }
   ],
   "source": [
    "## put this in apendix\n",
    "plt.figure(figsize=(15,8))\n",
    "plt.title(\"Growth of tweets from 2014-2019\",fontsize=18)\n",
    "plt.xlabel(\"timeline (years)\",fontsize=16)\n",
    "plt.ylabel(\"# of tweets\",fontsize=16)\n",
    "plt.plot(years,tweets_growth,color=\"blue\")\n",
    "plt.show()"
   ]
  },
  {
   "cell_type": "code",
   "execution_count": 235,
   "metadata": {
    "collapsed": false
   },
   "outputs": [
    {
     "name": "stdout",
     "output_type": "stream",
     "text": [
      "50\n",
      "9\n",
      "11\n",
      "14\n",
      "0\n"
     ]
    }
   ],
   "source": [
    "## finding the escalated users for mono\n",
    "# escalated = (users(previous_year) - [users(current_year) Ω users(previous_year)])\n",
    "## assuming no users account are deleted\n",
    "years_c = [2015,2016,2017,2018,2019]\n",
    "escalated_growth1 = []\n",
    "escalated_total = set()\n",
    "tweets_ = tweets_all[tweets_all.tweetCreatedAt.dt.year < years_c[0]]\n",
    "tweets_user = get_tweets_user(tweets_)\n",
    "tweets_user[\"tweetText\"] = tweets_user[\"tweetText\"].apply(clean_text)\n",
    "tweets_user[\"tweetText\"] = tweets_user[\"tweetText\"].apply(prepare_text_LDA)\n",
    "total_users = tweets_user.userID.unique()\n",
    "weed_tweets =  tweets_user[tweets_user[\"tweetText\"].str.contains(pattern_weed)]\n",
    "weed_users = weed_tweets.userID.unique()\n",
    "mono_old = list(set(total_users) - set(weed_users))\n",
    "\n",
    "for year in years_c[1:]:\n",
    "    tweets_ = tweets_all[tweets_all.tweetCreatedAt.dt.year < year]\n",
    "    tweets_user = get_tweets_user(tweets_)\n",
    "    tweets_user[\"tweetText\"] = tweets_user[\"tweetText\"].apply(clean_text)\n",
    "    tweets_user[\"tweetText\"] = tweets_user[\"tweetText\"].apply(prepare_text_LDA)\n",
    "    total_users = tweets_user.userID.unique()\n",
    "    weed_tweets =  tweets_user[tweets_user[\"tweetText\"].str.contains(pattern_weed)]\n",
    "    weed_users = weed_tweets.userID.unique()\n",
    "    mono_new = list(set(total_users) - set(weed_users))\n",
    "    escalated_c = list(set(mono_old) - set(mono_new).intersection(set(mono_old)))\n",
    "    if not escalated_total:\n",
    "        escalated_new = escalated_c\n",
    "    else:\n",
    "        escalated_new = list(set(escalated_c) - (set(escalated_c).intersection(set(escalated_total))))   \n",
    "    for user in escalated:\n",
    "        escalated_total.add(user)\n",
    "    escalated_growth1.append(len(escalated_new))\n",
    "    mono_old = mono_new"
   ]
  },
  {
   "cell_type": "code",
   "execution_count": 213,
   "metadata": {
    "collapsed": false
   },
   "outputs": [],
   "source": [
    "years = [\"2015\",\"2016\",\"2017\",\"2018\"]"
   ]
  },
  {
   "cell_type": "code",
   "execution_count": 209,
   "metadata": {
    "collapsed": false
   },
   "outputs": [
    {
     "data": {
      "image/png": "[encoded data removed]",
      "text/plain": [
       "<Figure size 1080x576 with 1 Axes>"
      ]
     },
     "metadata": {
      "needs_background": "light"
     },
     "output_type": "display_data"
    }
   ],
   "source": [
    "plt.figure(figsize=(15,8))\n",
    "plt.title(\"change of users from mono to poly 2015-2019 (cumulative)\",fontsize=18)\n",
    "plt.xlabel(\"timeline (years)\",fontsize=16)\n",
    "plt.ylabel(\"no of users escalated\",fontsize=16)\n",
    "plt.plot(years,escalated_growth,color=\"red\")\n",
    "plt.show()"
   ]
  },
  {
   "cell_type": "code",
   "execution_count": 241,
   "metadata": {
    "collapsed": false,
    "scrolled": false
   },
   "outputs": [
    {
     "data": {
      "image/png": "[encoded data removed]",
      "text/plain": [
       "<Figure size 1080x576 with 1 Axes>"
      ]
     },
     "metadata": {
      "needs_background": "light"
     },
     "output_type": "display_data"
    }
   ],
   "source": [
    "plt.figure(figsize=(15,8))\n",
    "plt.title(\"change of users from mono to poly 2015-2019\",fontsize=18)\n",
    "plt.xlabel(\"timeline (years)\",fontsize=16)\n",
    "plt.ylabel(\"no of users escalated\",fontsize=16)\n",
    "plt.bar(years,escalated_growth1,color=\"blue\",width=0.2)\n",
    "plt.show()"
   ]
  },
  {
   "cell_type": "code",
   "execution_count": 242,
   "metadata": {
    "collapsed": true
   },
   "outputs": [],
   "source": [
    "## looking at the delay of the change of poly to mono\n",
    "juul_before_tweets = df_tweets.loc[df_tweets.userID.isin(juul_before)]"
   ]
  },
  {
   "cell_type": "code",
   "execution_count": 247,
   "metadata": {
    "collapsed": true
   },
   "outputs": [],
   "source": [
    "pattern_juul = 'juul'"
   ]
  },
  {
   "cell_type": "code",
   "execution_count": 248,
   "metadata": {
    "collapsed": false
   },
   "outputs": [
    {
     "name": "stderr",
     "output_type": "stream",
     "text": [
      "/home/samarthgoal/.local/lib/python3.5/site-packages/ipykernel_launcher.py:2: SettingWithCopyWarning: \n",
      "A value is trying to be set on a copy of a slice from a DataFrame.\n",
      "Try using .loc[row_indexer,col_indexer] = value instead\n",
      "\n",
      "See the caveats in the documentation: http://pandas.pydata.org/pandas-docs/stable/indexing.html#indexing-view-versus-copy\n",
      "  \n"
     ]
    }
   ],
   "source": [
    "juul_tweets = juul_before_tweets.loc[juul_before_tweets[\"tweetText\"].str.contains(pattern_juul,case=False)]\n",
    "juul_tweets[\"tweetCreatedAt\"] = pd.to_datetime(juul_tweets[\"tweetCreatedAt\"])"
   ]
  },
  {
   "cell_type": "code",
   "execution_count": 249,
   "metadata": {
    "collapsed": false
   },
   "outputs": [],
   "source": [
    "## getting juul_first\n",
    "poly_first_juul_weed = []\n",
    "for user in juul_before:\n",
    "    user_tweets = juul_tweets.loc[juul_tweets.userID == user]\n",
    "    user_tweets = user_tweets.sort_values(by=[\"tweetCreatedAt\"])\n",
    "    if (list(user_tweets[\"tweetCreatedAt\"])):\n",
    "        anchor_juul = list(user_tweets[\"tweetCreatedAt\"])[0]\n",
    "        poly_first_juul_weed.append([user,anchor_juul])"
   ]
  },
  {
   "cell_type": "code",
   "execution_count": 250,
   "metadata": {
    "collapsed": true
   },
   "outputs": [],
   "source": [
    "poly_first_juul_weed = pd.DataFrame(poly_first_juul_weed,columns=[\"userID\",\"juul_first\"])\n",
    "weed_tweets = juul_before_tweets.loc[juul_before_tweets[\"tweetText\"].str.contains(pattern_weed,case=False)]\n",
    "weed_first = []\n",
    "\n",
    "## geetting the weed first \n",
    "for user in juul_before:\n",
    "    user_tweets = weed_tweets.loc[weed_tweets.userID == user]\n",
    "    user_tweets = user_tweets.sort_values(by=[\"tweetCreatedAt\"])\n",
    "    if (list(user_tweets[\"tweetCreatedAt\"])):\n",
    "        anchor_weed = list(user_tweets[\"tweetCreatedAt\"])[0]\n",
    "        anchor_weed = pd.to_datetime(anchor_weed)\n",
    "        weed_first.append(anchor_weed)\n",
    "# adding weed_first to the dataframe\n",
    "poly_first_juul_weed[\"weed_first\"] = weed_first                                             \n",
    "poly_first_juul_weed = poly_first_juul_weed.sort_values(by=[\"juul_first\"],ascending=True) ## sorting by juul first"
   ]
  },
  {
   "cell_type": "code",
   "execution_count": 251,
   "metadata": {
    "collapsed": false,
    "scrolled": true
   },
   "outputs": [
    {
     "data": {
      "text/html": [
       "<div>\n",
       "<style scoped>\n",
       "    .dataframe tbody tr th:only-of-type {\n",
       "        vertical-align: middle;\n",
       "    }\n",
       "\n",
       "    .dataframe tbody tr th {\n",
       "        vertical-align: top;\n",
       "    }\n",
       "\n",
       "    .dataframe thead th {\n",
       "        text-align: right;\n",
       "    }\n",
       "</style>\n",
       "<table border=\"1\" class=\"dataframe\">\n",
       "  <thead>\n",
       "    <tr style=\"text-align: right;\">\n",
       "      <th></th>\n",
       "      <th>userID</th>\n",
       "      <th>juul_first</th>\n",
       "      <th>weed_first</th>\n",
       "    </tr>\n",
       "  </thead>\n",
       "  <tbody>\n",
       "    <tr>\n",
       "      <th>74</th>\n",
       "      <td>141989041</td>\n",
       "      <td>2015-06-01 19:10:55</td>\n",
       "      <td>2016-01-26 22:14:10</td>\n",
       "    </tr>\n",
       "    <tr>\n",
       "      <th>112</th>\n",
       "      <td>20659105</td>\n",
       "      <td>2015-08-04 16:16:53</td>\n",
       "      <td>2016-10-06 01:01:49</td>\n",
       "    </tr>\n",
       "    <tr>\n",
       "      <th>3</th>\n",
       "      <td>25687773</td>\n",
       "      <td>2015-09-22 18:46:58</td>\n",
       "      <td>2016-12-11 02:10:13</td>\n",
       "    </tr>\n",
       "    <tr>\n",
       "      <th>73</th>\n",
       "      <td>4506167112</td>\n",
       "      <td>2015-12-30 19:37:59</td>\n",
       "      <td>2016-01-25 11:50:12</td>\n",
       "    </tr>\n",
       "    <tr>\n",
       "      <th>75</th>\n",
       "      <td>361403072</td>\n",
       "      <td>2016-06-07 15:53:59</td>\n",
       "      <td>2016-06-10 20:28:04</td>\n",
       "    </tr>\n",
       "    <tr>\n",
       "      <th>2</th>\n",
       "      <td>706991328630968320</td>\n",
       "      <td>2016-07-10 00:10:29</td>\n",
       "      <td>2016-07-27 20:24:00</td>\n",
       "    </tr>\n",
       "    <tr>\n",
       "      <th>76</th>\n",
       "      <td>3456044893</td>\n",
       "      <td>2016-07-10 15:53:11</td>\n",
       "      <td>2016-07-10 15:53:11</td>\n",
       "    </tr>\n",
       "    <tr>\n",
       "      <th>0</th>\n",
       "      <td>3393370513</td>\n",
       "      <td>2016-09-24 10:46:19</td>\n",
       "      <td>2016-09-26 00:46:40</td>\n",
       "    </tr>\n",
       "    <tr>\n",
       "      <th>1</th>\n",
       "      <td>514092250</td>\n",
       "      <td>2016-09-28 15:00:24</td>\n",
       "      <td>2016-09-28 15:00:24</td>\n",
       "    </tr>\n",
       "    <tr>\n",
       "      <th>95</th>\n",
       "      <td>778051861269975040</td>\n",
       "      <td>2016-11-20 06:22:38</td>\n",
       "      <td>2017-01-05 04:50:35</td>\n",
       "    </tr>\n",
       "    <tr>\n",
       "      <th>72</th>\n",
       "      <td>767209483</td>\n",
       "      <td>2016-11-27 04:58:05</td>\n",
       "      <td>2018-04-18 20:20:23</td>\n",
       "    </tr>\n",
       "    <tr>\n",
       "      <th>96</th>\n",
       "      <td>2819430672</td>\n",
       "      <td>2017-03-28 23:29:14</td>\n",
       "      <td>2017-03-28 23:29:14</td>\n",
       "    </tr>\n",
       "    <tr>\n",
       "      <th>6</th>\n",
       "      <td>116483677</td>\n",
       "      <td>2017-04-18 15:48:31</td>\n",
       "      <td>2018-04-23 19:11:59</td>\n",
       "    </tr>\n",
       "    <tr>\n",
       "      <th>98</th>\n",
       "      <td>2265692381</td>\n",
       "      <td>2017-05-01 16:10:10</td>\n",
       "      <td>2017-05-10 21:50:10</td>\n",
       "    </tr>\n",
       "    <tr>\n",
       "      <th>97</th>\n",
       "      <td>2762479215</td>\n",
       "      <td>2017-05-04 13:35:23</td>\n",
       "      <td>2017-05-04 13:35:23</td>\n",
       "    </tr>\n",
       "    <tr>\n",
       "      <th>70</th>\n",
       "      <td>217574786</td>\n",
       "      <td>2017-05-28 05:13:40</td>\n",
       "      <td>2018-03-30 18:54:36</td>\n",
       "    </tr>\n",
       "    <tr>\n",
       "      <th>99</th>\n",
       "      <td>821587944620359680</td>\n",
       "      <td>2017-07-05 15:46:57</td>\n",
       "      <td>2017-07-10 19:18:43</td>\n",
       "    </tr>\n",
       "    <tr>\n",
       "      <th>108</th>\n",
       "      <td>524835300</td>\n",
       "      <td>2017-07-08 02:30:22</td>\n",
       "      <td>2017-09-10 05:03:00</td>\n",
       "    </tr>\n",
       "    <tr>\n",
       "      <th>100</th>\n",
       "      <td>842032552386879488</td>\n",
       "      <td>2017-07-12 16:24:18</td>\n",
       "      <td>2017-07-12 16:24:18</td>\n",
       "    </tr>\n",
       "    <tr>\n",
       "      <th>109</th>\n",
       "      <td>702355923633831936</td>\n",
       "      <td>2017-07-16 16:08:48</td>\n",
       "      <td>2017-09-14 12:03:23</td>\n",
       "    </tr>\n",
       "    <tr>\n",
       "      <th>12</th>\n",
       "      <td>3436802871</td>\n",
       "      <td>2017-07-27 14:04:41</td>\n",
       "      <td>2018-06-23 16:11:31</td>\n",
       "    </tr>\n",
       "    <tr>\n",
       "      <th>78</th>\n",
       "      <td>879829246658596864</td>\n",
       "      <td>2017-08-02 22:32:08</td>\n",
       "      <td>2018-10-23 01:59:06</td>\n",
       "    </tr>\n",
       "    <tr>\n",
       "      <th>102</th>\n",
       "      <td>4865887763</td>\n",
       "      <td>2017-08-30 22:23:10</td>\n",
       "      <td>2017-11-16 22:15:23</td>\n",
       "    </tr>\n",
       "    <tr>\n",
       "      <th>110</th>\n",
       "      <td>853520737386336256</td>\n",
       "      <td>2017-09-27 18:23:35</td>\n",
       "      <td>2017-09-27 18:23:35</td>\n",
       "    </tr>\n",
       "    <tr>\n",
       "      <th>111</th>\n",
       "      <td>917851160966565888</td>\n",
       "      <td>2017-10-10 20:45:24</td>\n",
       "      <td>2017-10-10 20:45:24</td>\n",
       "    </tr>\n",
       "    <tr>\n",
       "      <th>61</th>\n",
       "      <td>711768518178557952</td>\n",
       "      <td>2017-10-19 19:25:27</td>\n",
       "      <td>2017-10-24 03:43:22</td>\n",
       "    </tr>\n",
       "    <tr>\n",
       "      <th>62</th>\n",
       "      <td>884300999611101184</td>\n",
       "      <td>2017-10-19 19:25:47</td>\n",
       "      <td>2017-10-24 03:43:41</td>\n",
       "    </tr>\n",
       "    <tr>\n",
       "      <th>26</th>\n",
       "      <td>196027487</td>\n",
       "      <td>2017-11-12 17:36:11</td>\n",
       "      <td>2017-11-12 17:36:11</td>\n",
       "    </tr>\n",
       "    <tr>\n",
       "      <th>59</th>\n",
       "      <td>32125966</td>\n",
       "      <td>2017-11-16 10:36:33</td>\n",
       "      <td>2018-05-02 11:11:23</td>\n",
       "    </tr>\n",
       "    <tr>\n",
       "      <th>88</th>\n",
       "      <td>162256699</td>\n",
       "      <td>2017-11-16 10:45:26</td>\n",
       "      <td>2018-11-20 13:12:04</td>\n",
       "    </tr>\n",
       "    <tr>\n",
       "      <th>...</th>\n",
       "      <td>...</td>\n",
       "      <td>...</td>\n",
       "      <td>...</td>\n",
       "    </tr>\n",
       "    <tr>\n",
       "      <th>77</th>\n",
       "      <td>903699050335277056</td>\n",
       "      <td>2018-07-25 18:57:39</td>\n",
       "      <td>2018-10-17 03:15:06</td>\n",
       "    </tr>\n",
       "    <tr>\n",
       "      <th>29</th>\n",
       "      <td>22159841</td>\n",
       "      <td>2018-07-27 00:11:00</td>\n",
       "      <td>2018-07-27 00:11:00</td>\n",
       "    </tr>\n",
       "    <tr>\n",
       "      <th>28</th>\n",
       "      <td>2208306795</td>\n",
       "      <td>2018-07-27 00:49:42</td>\n",
       "      <td>2018-07-27 00:49:42</td>\n",
       "    </tr>\n",
       "    <tr>\n",
       "      <th>30</th>\n",
       "      <td>435356880</td>\n",
       "      <td>2018-07-27 02:10:55</td>\n",
       "      <td>2018-07-27 02:10:55</td>\n",
       "    </tr>\n",
       "    <tr>\n",
       "      <th>118</th>\n",
       "      <td>774621609479049216</td>\n",
       "      <td>2018-07-27 02:44:14</td>\n",
       "      <td>2018-07-27 02:44:14</td>\n",
       "    </tr>\n",
       "    <tr>\n",
       "      <th>56</th>\n",
       "      <td>971326652906172416</td>\n",
       "      <td>2018-07-30 11:57:00</td>\n",
       "      <td>2018-07-30 11:57:00</td>\n",
       "    </tr>\n",
       "    <tr>\n",
       "      <th>32</th>\n",
       "      <td>945070818194804736</td>\n",
       "      <td>2018-07-31 02:09:23</td>\n",
       "      <td>2018-07-31 02:09:23</td>\n",
       "    </tr>\n",
       "    <tr>\n",
       "      <th>34</th>\n",
       "      <td>768452633447239680</td>\n",
       "      <td>2018-08-01 21:50:09</td>\n",
       "      <td>2018-08-01 21:50:09</td>\n",
       "    </tr>\n",
       "    <tr>\n",
       "      <th>94</th>\n",
       "      <td>30929200</td>\n",
       "      <td>2018-08-05 01:48:59</td>\n",
       "      <td>2018-12-10 01:13:45</td>\n",
       "    </tr>\n",
       "    <tr>\n",
       "      <th>35</th>\n",
       "      <td>2235401904</td>\n",
       "      <td>2018-08-05 09:38:49</td>\n",
       "      <td>2018-08-05 09:38:49</td>\n",
       "    </tr>\n",
       "    <tr>\n",
       "      <th>119</th>\n",
       "      <td>3607191078</td>\n",
       "      <td>2018-08-05 21:00:14</td>\n",
       "      <td>2018-08-05 21:00:14</td>\n",
       "    </tr>\n",
       "    <tr>\n",
       "      <th>93</th>\n",
       "      <td>1672760570</td>\n",
       "      <td>2018-08-06 13:24:26</td>\n",
       "      <td>2018-12-03 11:24:20</td>\n",
       "    </tr>\n",
       "    <tr>\n",
       "      <th>85</th>\n",
       "      <td>142797138</td>\n",
       "      <td>2018-08-06 16:33:04</td>\n",
       "      <td>2018-11-09 18:00:49</td>\n",
       "    </tr>\n",
       "    <tr>\n",
       "      <th>83</th>\n",
       "      <td>155567139</td>\n",
       "      <td>2018-08-16 15:23:50</td>\n",
       "      <td>2018-11-06 16:14:54</td>\n",
       "    </tr>\n",
       "    <tr>\n",
       "      <th>41</th>\n",
       "      <td>2476858796</td>\n",
       "      <td>2018-08-19 15:16:17</td>\n",
       "      <td>2018-08-19 15:16:17</td>\n",
       "    </tr>\n",
       "    <tr>\n",
       "      <th>121</th>\n",
       "      <td>2577181524</td>\n",
       "      <td>2018-08-23 15:40:20</td>\n",
       "      <td>2018-09-03 19:45:03</td>\n",
       "    </tr>\n",
       "    <tr>\n",
       "      <th>86</th>\n",
       "      <td>2282903965</td>\n",
       "      <td>2018-08-27 14:50:51</td>\n",
       "      <td>2018-11-13 12:10:52</td>\n",
       "    </tr>\n",
       "    <tr>\n",
       "      <th>45</th>\n",
       "      <td>2283812293</td>\n",
       "      <td>2018-09-06 13:27:52</td>\n",
       "      <td>2018-09-06 13:27:52</td>\n",
       "    </tr>\n",
       "    <tr>\n",
       "      <th>54</th>\n",
       "      <td>124516628</td>\n",
       "      <td>2018-09-10 04:28:30</td>\n",
       "      <td>2018-10-03 03:25:31</td>\n",
       "    </tr>\n",
       "    <tr>\n",
       "      <th>120</th>\n",
       "      <td>40963610</td>\n",
       "      <td>2018-09-10 12:54:19</td>\n",
       "      <td>2018-09-10 12:54:19</td>\n",
       "    </tr>\n",
       "    <tr>\n",
       "      <th>82</th>\n",
       "      <td>894642056991096832</td>\n",
       "      <td>2018-09-12 18:04:26</td>\n",
       "      <td>2018-10-31 17:03:18</td>\n",
       "    </tr>\n",
       "    <tr>\n",
       "      <th>55</th>\n",
       "      <td>283882468</td>\n",
       "      <td>2018-09-13 20:21:56</td>\n",
       "      <td>2018-10-06 08:51:29</td>\n",
       "    </tr>\n",
       "    <tr>\n",
       "      <th>84</th>\n",
       "      <td>57015346</td>\n",
       "      <td>2018-09-13 23:01:14</td>\n",
       "      <td>2018-11-07 19:26:30</td>\n",
       "    </tr>\n",
       "    <tr>\n",
       "      <th>52</th>\n",
       "      <td>15932729</td>\n",
       "      <td>2018-09-16 17:17:39</td>\n",
       "      <td>2018-09-22 22:49:40</td>\n",
       "    </tr>\n",
       "    <tr>\n",
       "      <th>48</th>\n",
       "      <td>1041540574401064960</td>\n",
       "      <td>2018-09-17 04:36:17</td>\n",
       "      <td>2018-09-19 02:55:29</td>\n",
       "    </tr>\n",
       "    <tr>\n",
       "      <th>53</th>\n",
       "      <td>63420783</td>\n",
       "      <td>2018-09-19 05:21:11</td>\n",
       "      <td>2018-09-24 00:41:00</td>\n",
       "    </tr>\n",
       "    <tr>\n",
       "      <th>50</th>\n",
       "      <td>335374709</td>\n",
       "      <td>2018-09-20 04:46:03</td>\n",
       "      <td>2018-09-20 04:46:03</td>\n",
       "    </tr>\n",
       "    <tr>\n",
       "      <th>51</th>\n",
       "      <td>3058487961</td>\n",
       "      <td>2018-09-20 20:19:46</td>\n",
       "      <td>2018-09-20 20:19:46</td>\n",
       "    </tr>\n",
       "    <tr>\n",
       "      <th>92</th>\n",
       "      <td>1602048426</td>\n",
       "      <td>2018-09-27 19:49:39</td>\n",
       "      <td>2018-11-26 20:52:21</td>\n",
       "    </tr>\n",
       "    <tr>\n",
       "      <th>80</th>\n",
       "      <td>23273872</td>\n",
       "      <td>2018-09-28 14:28:59</td>\n",
       "      <td>2018-10-25 17:01:35</td>\n",
       "    </tr>\n",
       "  </tbody>\n",
       "</table>\n",
       "<p>122 rows × 3 columns</p>\n",
       "</div>"
      ],
      "text/plain": [
       "                  userID          juul_first          weed_first\n",
       "74             141989041 2015-06-01 19:10:55 2016-01-26 22:14:10\n",
       "112             20659105 2015-08-04 16:16:53 2016-10-06 01:01:49\n",
       "3               25687773 2015-09-22 18:46:58 2016-12-11 02:10:13\n",
       "73            4506167112 2015-12-30 19:37:59 2016-01-25 11:50:12\n",
       "75             361403072 2016-06-07 15:53:59 2016-06-10 20:28:04\n",
       "2     706991328630968320 2016-07-10 00:10:29 2016-07-27 20:24:00\n",
       "76            3456044893 2016-07-10 15:53:11 2016-07-10 15:53:11\n",
       "0             3393370513 2016-09-24 10:46:19 2016-09-26 00:46:40\n",
       "1              514092250 2016-09-28 15:00:24 2016-09-28 15:00:24\n",
       "95    778051861269975040 2016-11-20 06:22:38 2017-01-05 04:50:35\n",
       "72             767209483 2016-11-27 04:58:05 2018-04-18 20:20:23\n",
       "96            2819430672 2017-03-28 23:29:14 2017-03-28 23:29:14\n",
       "6              116483677 2017-04-18 15:48:31 2018-04-23 19:11:59\n",
       "98            2265692381 2017-05-01 16:10:10 2017-05-10 21:50:10\n",
       "97            2762479215 2017-05-04 13:35:23 2017-05-04 13:35:23\n",
       "70             217574786 2017-05-28 05:13:40 2018-03-30 18:54:36\n",
       "99    821587944620359680 2017-07-05 15:46:57 2017-07-10 19:18:43\n",
       "108            524835300 2017-07-08 02:30:22 2017-09-10 05:03:00\n",
       "100   842032552386879488 2017-07-12 16:24:18 2017-07-12 16:24:18\n",
       "109   702355923633831936 2017-07-16 16:08:48 2017-09-14 12:03:23\n",
       "12            3436802871 2017-07-27 14:04:41 2018-06-23 16:11:31\n",
       "78    879829246658596864 2017-08-02 22:32:08 2018-10-23 01:59:06\n",
       "102           4865887763 2017-08-30 22:23:10 2017-11-16 22:15:23\n",
       "110   853520737386336256 2017-09-27 18:23:35 2017-09-27 18:23:35\n",
       "111   917851160966565888 2017-10-10 20:45:24 2017-10-10 20:45:24\n",
       "61    711768518178557952 2017-10-19 19:25:27 2017-10-24 03:43:22\n",
       "62    884300999611101184 2017-10-19 19:25:47 2017-10-24 03:43:41\n",
       "26             196027487 2017-11-12 17:36:11 2017-11-12 17:36:11\n",
       "59              32125966 2017-11-16 10:36:33 2018-05-02 11:11:23\n",
       "88             162256699 2017-11-16 10:45:26 2018-11-20 13:12:04\n",
       "..                   ...                 ...                 ...\n",
       "77    903699050335277056 2018-07-25 18:57:39 2018-10-17 03:15:06\n",
       "29              22159841 2018-07-27 00:11:00 2018-07-27 00:11:00\n",
       "28            2208306795 2018-07-27 00:49:42 2018-07-27 00:49:42\n",
       "30             435356880 2018-07-27 02:10:55 2018-07-27 02:10:55\n",
       "118   774621609479049216 2018-07-27 02:44:14 2018-07-27 02:44:14\n",
       "56    971326652906172416 2018-07-30 11:57:00 2018-07-30 11:57:00\n",
       "32    945070818194804736 2018-07-31 02:09:23 2018-07-31 02:09:23\n",
       "34    768452633447239680 2018-08-01 21:50:09 2018-08-01 21:50:09\n",
       "94              30929200 2018-08-05 01:48:59 2018-12-10 01:13:45\n",
       "35            2235401904 2018-08-05 09:38:49 2018-08-05 09:38:49\n",
       "119           3607191078 2018-08-05 21:00:14 2018-08-05 21:00:14\n",
       "93            1672760570 2018-08-06 13:24:26 2018-12-03 11:24:20\n",
       "85             142797138 2018-08-06 16:33:04 2018-11-09 18:00:49\n",
       "83             155567139 2018-08-16 15:23:50 2018-11-06 16:14:54\n",
       "41            2476858796 2018-08-19 15:16:17 2018-08-19 15:16:17\n",
       "121           2577181524 2018-08-23 15:40:20 2018-09-03 19:45:03\n",
       "86            2282903965 2018-08-27 14:50:51 2018-11-13 12:10:52\n",
       "45            2283812293 2018-09-06 13:27:52 2018-09-06 13:27:52\n",
       "54             124516628 2018-09-10 04:28:30 2018-10-03 03:25:31\n",
       "120             40963610 2018-09-10 12:54:19 2018-09-10 12:54:19\n",
       "82    894642056991096832 2018-09-12 18:04:26 2018-10-31 17:03:18\n",
       "55             283882468 2018-09-13 20:21:56 2018-10-06 08:51:29\n",
       "84              57015346 2018-09-13 23:01:14 2018-11-07 19:26:30\n",
       "52              15932729 2018-09-16 17:17:39 2018-09-22 22:49:40\n",
       "48   1041540574401064960 2018-09-17 04:36:17 2018-09-19 02:55:29\n",
       "53              63420783 2018-09-19 05:21:11 2018-09-24 00:41:00\n",
       "50             335374709 2018-09-20 04:46:03 2018-09-20 04:46:03\n",
       "51            3058487961 2018-09-20 20:19:46 2018-09-20 20:19:46\n",
       "92            1602048426 2018-09-27 19:49:39 2018-11-26 20:52:21\n",
       "80              23273872 2018-09-28 14:28:59 2018-10-25 17:01:35\n",
       "\n",
       "[122 rows x 3 columns]"
      ]
     },
     "execution_count": 251,
     "metadata": {},
     "output_type": "execute_result"
    }
   ],
   "source": [
    "poly_first_juul_weed"
   ]
  },
  {
   "cell_type": "code",
   "execution_count": 380,
   "metadata": {
    "collapsed": false
   },
   "outputs": [
    {
     "data": {
      "image/png": "[encoded data removed]",
      "text/plain": [
       "<Figure size 1296x720 with 1 Axes>"
      ]
     },
     "metadata": {
      "needs_background": "light"
     },
     "output_type": "display_data"
    }
   ],
   "source": [
    "plt.figure(figsize=(18,10))\n",
    "users_list = list(poly_first_juul_weed.userID.unique())\n",
    "plt.scatter(list(poly_first_juul_weed[\"juul_first\"]),[str(user) for user in users_list],color=\"blue\")\n",
    "plt.scatter(list(poly_first_juul_weed[\"weed_first\"]), [str(user) for user in users_list],color=\"green\")\n",
    "plt.tick_params(\n",
    "    axis='y',          # changes apply to the x-axis\n",
    "    which='both',      # both major and minor ticks are affected\n",
    "    left=False,      # ticks along the bottom edge are off\n",
    "    top=False,         # ticks along the top edge are off\n",
    "    labelleft=False) # labels along the bottom edge are of\n",
    "plt.ylabel(\"unique users\", fontsize = 18)\n",
    "plt.xlabel(\"timeline \", fontsize = 18)\n",
    "plt.title(\"timeline of change of users from mono to poly\" ,fontsize = 20)\n",
    "plt.show()"
   ]
  },
  {
   "cell_type": "code",
   "execution_count": 254,
   "metadata": {
    "collapsed": true
   },
   "outputs": [],
   "source": [
    "poly_first_juul_weed[\"interval\"] = poly_first_juul_weed[\"weed_first\"].dt.date - poly_first_juul_weed[\"juul_first\"].dt.date"
   ]
  },
  {
   "cell_type": "code",
   "execution_count": 284,
   "metadata": {
    "collapsed": false
   },
   "outputs": [],
   "source": [
    "days = [(ele).days for ele in list(poly_first_juul_weed[\"interval\"])]\n",
    "days.sort()"
   ]
  },
  {
   "cell_type": "code",
   "execution_count": 320,
   "metadata": {
    "collapsed": true
   },
   "outputs": [],
   "source": [
    "pos = 0\n",
    "counts = {}\n",
    "delta = 30\n",
    "counts[(pos+delta)] = 0\n",
    "for ele in days:\n",
    "    if  ele < pos + delta:\n",
    "        counts[(pos+ delta)] += 1\n",
    "    else:\n",
    "        pos += delta\n",
    "        counts[(pos + delta)] = 1"
   ]
  },
  {
   "cell_type": "code",
   "execution_count": 321,
   "metadata": {
    "collapsed": true
   },
   "outputs": [],
   "source": [
    "values = [ele[1] for ele in sorted(counts.items(), key=lambda x: x[0])]\n",
    "keys = [ele[0] for ele in sorted(counts.items(), key=lambda x: x[0])]\n",
    "keys = [str(ele) for ele in keys]"
   ]
  },
  {
   "cell_type": "code",
   "execution_count": 326,
   "metadata": {
    "collapsed": false
   },
   "outputs": [
    {
     "data": {
      "image/png": "[encoded data removed]",
      "text/plain": [
       "<Figure size 1080x576 with 1 Axes>"
      ]
     },
     "metadata": {
      "needs_background": "light"
     },
     "output_type": "display_data"
    }
   ],
   "source": [
    "plt.figure(figsize=(15,8))\n",
    "plt.bar(keys,values)\n",
    "plt.title(\"Delay between first juul and first substance tweet\",fontsize = 20)\n",
    "plt.xlabel(\"Range of Delay (days)\",fontsize = 16)\n",
    "plt.ylabel(\"no of users\",fontsize = 16)\n",
    "plt.xticks(rotation=30, ha='center')\n",
    "plt.show()"
   ]
  },
  {
   "cell_type": "markdown",
   "metadata": {},
   "source": [
    "## looking at the classfier prediction accuarcy for juul before users "
   ]
  },
  {
   "cell_type": "code",
   "execution_count": 329,
   "metadata": {
    "collapsed": false
   },
   "outputs": [
    {
     "name": "stderr",
     "output_type": "stream",
     "text": [
      "Using TensorFlow backend.\n"
     ]
    }
   ],
   "source": [
    "from sklearn.svm import LinearSVC\n",
    "from sklearn.feature_extraction.text import TfidfVectorizer\n",
    "from keras.preprocessing.text import Tokenizer as keras_Tokenizer\n",
    "from sklearn.metrics import classification_report\n",
    "keras_tkzr = keras_Tokenizer()"
   ]
  },
  {
   "cell_type": "code",
   "execution_count": 330,
   "metadata": {
    "collapsed": true
   },
   "outputs": [],
   "source": [
    "def clean_tweets(df):\n",
    "    df[\"tweetText\"] = df[\"tweetText\"].apply(clean_text)\n",
    "    df[\"tweetText\"] = df[\"tweetText\"].apply(prepare_text_LDA)\n",
    "    return (df)"
   ]
  },
  {
   "cell_type": "code",
   "execution_count": 332,
   "metadata": {
    "collapsed": true
   },
   "outputs": [],
   "source": [
    "def encode(label):\n",
    "    le = LabelEncoder()\n",
    "    le.fit(label)\n",
    "    y = le.transform(label)\n",
    "    return y"
   ]
  },
  {
   "cell_type": "code",
   "execution_count": 333,
   "metadata": {
    "collapsed": true
   },
   "outputs": [],
   "source": [
    "def get_data(df):\n",
    "    label = get_label(df)\n",
    "#     y = encode(label)\n",
    "    tf_idf = TfidfVectorizer(sublinear_tf=True)\n",
    "    tf_idf.fit(df[\"tweetText\"])\n",
    "    feature_names = np.array(tf_idf.get_feature_names())\n",
    "    X = tf_idf.fit_transform(df[\"tweetText\"])\n",
    "    print(X.shape)\n",
    "    return (X,np.array(label),tf_idf)"
   ]
  },
  {
   "cell_type": "code",
   "execution_count": 334,
   "metadata": {
    "collapsed": true
   },
   "outputs": [],
   "source": [
    "def svm_wrapper(X_train,Y_train):\n",
    "    svm = LinearSVC(C=10)\n",
    "    svm.fit(X_train,Y_train,)\n",
    "    return svm"
   ]
  },
  {
   "cell_type": "code",
   "execution_count": 335,
   "metadata": {
    "collapsed": true
   },
   "outputs": [],
   "source": [
    "tweets_all = df_tweets.loc[df_tweets.userID.isin(normal_users)]"
   ]
  },
  {
   "cell_type": "code",
   "execution_count": 337,
   "metadata": {
    "collapsed": false
   },
   "outputs": [
    {
     "name": "stdout",
     "output_type": "stream",
     "text": [
      "total tweets  42458\n",
      "users 2518\n"
     ]
    }
   ],
   "source": [
    "print(\"total tweets \",len(tweets_all))\n",
    "print(\"users\", len(tweets_all.userID.unique()))"
   ]
  },
  {
   "cell_type": "code",
   "execution_count": 343,
   "metadata": {
    "collapsed": false
   },
   "outputs": [
    {
     "name": "stderr",
     "output_type": "stream",
     "text": [
      "/home/samarthgoal/.local/lib/python3.5/site-packages/ipykernel_launcher.py:2: SettingWithCopyWarning: \n",
      "A value is trying to be set on a copy of a slice from a DataFrame.\n",
      "Try using .loc[row_indexer,col_indexer] = value instead\n",
      "\n",
      "See the caveats in the documentation: http://pandas.pydata.org/pandas-docs/stable/indexing.html#indexing-view-versus-copy\n",
      "  \n",
      "/home/samarthgoal/.local/lib/python3.5/site-packages/ipykernel_launcher.py:3: SettingWithCopyWarning: \n",
      "A value is trying to be set on a copy of a slice from a DataFrame.\n",
      "Try using .loc[row_indexer,col_indexer] = value instead\n",
      "\n",
      "See the caveats in the documentation: http://pandas.pydata.org/pandas-docs/stable/indexing.html#indexing-view-versus-copy\n",
      "  This is separate from the ipykernel package so we can avoid doing imports until\n"
     ]
    },
    {
     "name": "stdout",
     "output_type": "stream",
     "text": [
      "(2518, 29212)\n",
      "  Classification Report:\n",
      "               precision    recall  f1-score   support\n",
      "\n",
      "        mono       0.96      0.99      0.97       459\n",
      "        poly       0.97      0.88      0.92       171\n",
      "\n",
      "   micro avg       0.96      0.96      0.96       630\n",
      "   macro avg       0.96      0.93      0.95       630\n",
      "weighted avg       0.96      0.96      0.96       630\n",
      " \n",
      "\n"
     ]
    }
   ],
   "source": [
    "tweets_ = clean_tweets(tweets_all)\n",
    "tweets_user = get_tweets_user(tweets_)  ## combining all of the tweets of the user\n",
    "X,y,tf_idf_final = get_data(tweets_user)\n",
    "X_train,X_test, Y_train, Y_test = train_test_split(X,y,test_size=0.25,random_state =4)\n",
    "svm_final = svm_wrapper(X_train,Y_train)\n",
    "## svm accuracy on poly mono data ## C=1 kernel= linear\n",
    "Y_pred = svm_final.predict(X_test)\n",
    "print('  Classification Report:\\n',classification_report(Y_test,Y_pred),'\\n')"
   ]
  },
  {
   "cell_type": "code",
   "execution_count": 352,
   "metadata": {
    "collapsed": false
   },
   "outputs": [
    {
     "name": "stderr",
     "output_type": "stream",
     "text": [
      "/home/samarthgoal/.local/lib/python3.5/site-packages/ipykernel_launcher.py:2: SettingWithCopyWarning: \n",
      "A value is trying to be set on a copy of a slice from a DataFrame.\n",
      "Try using .loc[row_indexer,col_indexer] = value instead\n",
      "\n",
      "See the caveats in the documentation: http://pandas.pydata.org/pandas-docs/stable/indexing.html#indexing-view-versus-copy\n",
      "  \n"
     ]
    }
   ],
   "source": [
    "juul_before_tweets = df_tweets.loc[df_tweets.userID.isin(juul_before)]\n",
    "juul_before_tweets[\"tweetCreatedAt\"] = pd.to_datetime(juul_before_tweets.tweetCreatedAt)"
   ]
  },
  {
   "cell_type": "code",
   "execution_count": 353,
   "metadata": {
    "collapsed": false
   },
   "outputs": [
    {
     "data": {
      "text/plain": [
       "122"
      ]
     },
     "execution_count": 353,
     "metadata": {},
     "output_type": "execute_result"
    }
   ],
   "source": [
    "len(tweets_user.userID.unique())"
   ]
  },
  {
   "cell_type": "code",
   "execution_count": 370,
   "metadata": {
    "collapsed": false
   },
   "outputs": [
    {
     "name": "stderr",
     "output_type": "stream",
     "text": [
      "/home/samarthgoal/.local/lib/python3.5/site-packages/ipykernel_launcher.py:2: SettingWithCopyWarning: \n",
      "A value is trying to be set on a copy of a slice from a DataFrame.\n",
      "Try using .loc[row_indexer,col_indexer] = value instead\n",
      "\n",
      "See the caveats in the documentation: http://pandas.pydata.org/pandas-docs/stable/indexing.html#indexing-view-versus-copy\n",
      "  \n",
      "/home/samarthgoal/.local/lib/python3.5/site-packages/ipykernel_launcher.py:3: SettingWithCopyWarning: \n",
      "A value is trying to be set on a copy of a slice from a DataFrame.\n",
      "Try using .loc[row_indexer,col_indexer] = value instead\n",
      "\n",
      "See the caveats in the documentation: http://pandas.pydata.org/pandas-docs/stable/indexing.html#indexing-view-versus-copy\n",
      "  This is separate from the ipykernel package so we can avoid doing imports until\n"
     ]
    },
    {
     "name": "stdout",
     "output_type": "stream",
     "text": [
      "  Classification Report:\n",
      "               precision    recall  f1-score   support\n",
      "\n",
      "        mono       0.00      0.00      0.00         0\n",
      "        poly       0.00      0.00      0.00         2\n",
      "\n",
      "   micro avg       0.00      0.00      0.00         2\n",
      "   macro avg       0.00      0.00      0.00         2\n",
      "weighted avg       0.00      0.00      0.00         2\n",
      " \n",
      "\n",
      "  Classification Report:\n",
      "               precision    recall  f1-score   support\n",
      "\n",
      "        mono       0.00      0.00      0.00         0\n",
      "        poly       1.00      0.12      0.22         8\n",
      "\n",
      "   micro avg       0.12      0.12      0.12         8\n",
      "   macro avg       0.50      0.06      0.11         8\n",
      "weighted avg       1.00      0.12      0.22         8\n",
      " \n",
      "\n",
      "  Classification Report:\n",
      "               precision    recall  f1-score   support\n",
      "\n",
      "        mono       0.00      0.00      0.00         0\n",
      "        poly       1.00      0.67      0.80        15\n",
      "\n",
      "   micro avg       0.67      0.67      0.67        15\n",
      "   macro avg       0.50      0.33      0.40        15\n",
      "weighted avg       1.00      0.67      0.80        15\n",
      " \n",
      "\n",
      "  Classification Report:\n",
      "               precision    recall  f1-score   support\n",
      "\n",
      "        mono       0.00      0.00      0.00         0\n",
      "        poly       1.00      0.63      0.77        38\n",
      "\n",
      "   micro avg       0.63      0.63      0.63        38\n",
      "   macro avg       0.50      0.32      0.39        38\n",
      "weighted avg       1.00      0.63      0.77        38\n",
      " \n",
      "\n",
      "  Classification Report:\n",
      "               precision    recall  f1-score   support\n",
      "\n",
      "        mono       0.00      0.00      0.00         0\n",
      "        poly       1.00      0.95      0.97       122\n",
      "\n",
      "   micro avg       0.95      0.95      0.95       122\n",
      "   macro avg       0.50      0.48      0.49       122\n",
      "weighted avg       1.00      0.95      0.97       122\n",
      " \n",
      "\n"
     ]
    }
   ],
   "source": [
    "years_c = [2015,2016,2017,2018,2019]\n",
    "f_scores = []\n",
    "for year in years_c:\n",
    "    tweets_ = juul_before_tweets[juul_before_tweets.tweetCreatedAt.dt.year < year]\n",
    "    tweets_ = clean_tweets(tweets_)\n",
    "    tweets_user = get_tweets_user(tweets_)\n",
    "    X = tf_idf_final.transform(tweets_user[\"tweetText\"])\n",
    "    weed_tweets =  tweets_user[tweets_user[\"tweetText\"].str.contains(pattern_weed)]\n",
    "    poly_users_c = weed_tweets.userID.unique()\n",
    "    y_true = [\"poly\" for ele in range(len(tweets_user))]\n",
    "    y_pred = svm_final.predict(X)\n",
    "    print('  Classification Report:\\n',classification_report(y_true,y_pred),'\\n')\n",
    "    _,_,fscore,_ = precision_recall_fscore_support(y_true,y_pred)\n",
    "    f_scores.append(fscore[1]) "
   ]
  },
  {
   "cell_type": "code",
   "execution_count": 378,
   "metadata": {
    "collapsed": false
   },
   "outputs": [
    {
     "data": {
      "image/png": "[encoded data removed]",
      "text/plain": [
       "<Figure size 720x360 with 1 Axes>"
      ]
     },
     "metadata": {
      "needs_background": "light"
     },
     "output_type": "display_data"
    }
   ],
   "source": [
    "plt.figure(figsize=(10,5))\n",
    "years = [\"2014-15\",\"2014-16\",\"2014-17\",\"2014-18\",\"2014-19\"]\n",
    "plt.bar(years, f_scores,width= 0.2)\n",
    "plt.title(\"Prediction accuarcy of classifier to predict juul_before users\",fontsize = 20)\n",
    "plt.xlabel(\"Range of year span \",fontsize = 16)\n",
    "plt.ylabel(\"f1-score\",fontsize = 16)\n",
    "plt.xticks(rotation=30, ha='center')\n",
    "plt.show()"
   ]
  },
  {
   "cell_type": "code",
   "execution_count": 382,
   "metadata": {
    "collapsed": false
   },
   "outputs": [
    {
     "data": {
      "text/plain": [
       "Index(['favourites_count', 'followersCount', 'friendList', 'friendsCount',\n",
       "       'hashtags', 'imageurl', 'lang', 'listedCount', 'retweetCount',\n",
       "       'retweetText', 'retweeted', 'tweetCreatedAt', 'tweetId', 'tweetText',\n",
       "       'url', 'userCreatedAt', 'userDescription', 'userFollowersCount',\n",
       "       'userID', 'userLocation', 'userName', 'label'],\n",
       "      dtype='object')"
      ]
     },
     "execution_count": 382,
     "metadata": {},
     "output_type": "execute_result"
    }
   ],
   "source": [
    "df_tweets.columns"
   ]
  },
  {
   "cell_type": "code",
   "execution_count": 383,
   "metadata": {
    "collapsed": false
   },
   "outputs": [
    {
     "data": {
      "text/plain": [
       "120470"
      ]
     },
     "execution_count": 383,
     "metadata": {},
     "output_type": "execute_result"
    }
   ],
   "source": [
    "len(df_tweets)"
   ]
  },
  {
   "cell_type": "code",
   "execution_count": 384,
   "metadata": {
    "collapsed": false
   },
   "outputs": [
    {
     "data": {
      "text/plain": [
       "4857"
      ]
     },
     "execution_count": 384,
     "metadata": {},
     "output_type": "execute_result"
    }
   ],
   "source": [
    "len(df_tweets.userID.unique())"
   ]
  },
  {
   "cell_type": "code",
   "execution_count": null,
   "metadata": {
    "collapsed": true
   },
   "outputs": [],
   "source": []
  }
 ],
 "metadata": {
  "kernelspec": {
   "display_name": "Python 3",
   "language": "python",
   "name": "python3"
  },
  "language_info": {
   "codemirror_mode": {
    "name": "ipython",
    "version": 3
   },
   "file_extension": ".py",
   "mimetype": "text/x-python",
   "name": "python",
   "nbconvert_exporter": "python",
   "pygments_lexer": "ipython3",
   "version": "3.5.4"
  }
 },
 "nbformat": 4,
 "nbformat_minor": 0
}
