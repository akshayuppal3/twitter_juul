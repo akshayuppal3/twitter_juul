{
 "cells": [
  {
   "cell_type": "code",
   "execution_count": null,
   "metadata": {
    "collapsed": true
   },
   "outputs": [],
   "source": [
    "import pandas as pd\n",
    "import numpy as np\n",
    "import nltk\n",
    "import spacy\n",
    "import re\n",
    "from datetime import date, datetime\n",
    "import time"
   ]
  },
  {
   "cell_type": "code",
   "execution_count": null,
   "metadata": {
    "collapsed": true
   },
   "outputs": [],
   "source": [
    "import warnings\n",
    "warnings.filterwarnings('ignore')"
   ]
  },
  {
   "cell_type": "code",
   "execution_count": null,
   "metadata": {
    "collapsed": true
   },
   "outputs": [],
   "source": [
    "from datetime import datetime\n",
    "try:\n",
    "    # jupyter_client >= 5, use tz-aware now\n",
    "    from jupyter_client.session import utcnow as now\n",
    "except ImportError:\n",
    "    # jupyter_client < 5, use local now()\n",
    "    now = datetime.now\n"
   ]
  },
  {
   "cell_type": "code",
   "execution_count": null,
   "metadata": {
    "collapsed": true
   },
   "outputs": [],
   "source": [
    "import matplotlib.pyplot as plt\n",
    "import matplotlib.ticker as ticker"
   ]
  },
  {
   "cell_type": "code",
   "execution_count": null,
   "metadata": {
    "collapsed": true
   },
   "outputs": [],
   "source": [
    "from tqdm import tqdm"
   ]
  },
  {
   "cell_type": "code",
   "execution_count": null,
   "metadata": {
    "collapsed": true
   },
   "outputs": [],
   "source": [
    "tqdm.pandas()"
   ]
  },
  {
   "cell_type": "code",
   "execution_count": null,
   "metadata": {
    "collapsed": true
   },
   "outputs": [],
   "source": [
    "pd.set_option('display.max_colwidth', -1)"
   ]
  },
  {
   "cell_type": "code",
   "execution_count": null,
   "metadata": {
    "collapsed": true
   },
   "outputs": [],
   "source": [
    "pd.options.mode.chained_assignment = None"
   ]
  },
  {
   "cell_type": "code",
   "execution_count": null,
   "metadata": {
    "collapsed": true
   },
   "outputs": [],
   "source": [
    "df = pd.read_csv('~/twitter_juul/input/userTimelineData.csv',lineterminator='\\n', index_col=None)"
   ]
  },
  {
   "cell_type": "code",
   "execution_count": null,
   "metadata": {
    "collapsed": true
   },
   "outputs": [],
   "source": [
    "df"
   ]
  },
  {
   "cell_type": "code",
   "execution_count": null,
   "metadata": {
    "collapsed": true
   },
   "outputs": [],
   "source": [
    "# getting the dictionary for words for juul,,"
   ]
  },
  {
   "cell_type": "code",
   "execution_count": null,
   "metadata": {
    "collapsed": true
   },
   "outputs": [],
   "source": [
    "juul = [\n",
    "    \"juul\"\n",
    "    \"vaping\",\n",
    "    \"vapelife\",\n",
    "    \"vapefam\",\n",
    "    \"vapor\",\n",
    "    \"vapenation\",\n",
    "    \"vapers\",\n",
    "    \"eliquid\",\n",
    "    \"vapeon\",\n",
    "    \"vapeshop\",\n",
    "    \"vapecommunity\",\n",
    "    \"vapeporn\",    \n",
    "]"
   ]
  },
  {
   "cell_type": "code",
   "execution_count": null,
   "metadata": {
    "collapsed": true
   },
   "outputs": [],
   "source": [
    "# getting the tweets for marijuana from external sources as the topic modelling didnt gave amny other topics \n",
    "# file uploaded in google gcp"
   ]
  },
  {
   "cell_type": "code",
   "execution_count": null,
   "metadata": {
    "collapsed": true
   },
   "outputs": [],
   "source": [
    "marijuana = pd.read_excel(\"/home/auppal8/Book1.xlsx\",header=None)"
   ]
  },
  {
   "cell_type": "code",
   "execution_count": null,
   "metadata": {
    "collapsed": true
   },
   "outputs": [],
   "source": [
    "drug = marijuana[0].values"
   ]
  },
  {
   "cell_type": "markdown",
   "metadata": {},
   "source": [
    " #### In future might need to remove the promotion tweets from the normal user tweets..."
   ]
  },
  {
   "cell_type": "code",
   "execution_count": null,
   "metadata": {
    "collapsed": true
   },
   "outputs": [],
   "source": [
    "len((drug))"
   ]
  },
  {
   "cell_type": "code",
   "execution_count": null,
   "metadata": {
    "collapsed": true
   },
   "outputs": [],
   "source": [
    "# creating a pattern of the words and then applying on dataframe\n",
    "pattern_juul = '|'.join(juul)"
   ]
  },
  {
   "cell_type": "code",
   "execution_count": null,
   "metadata": {
    "collapsed": true
   },
   "outputs": [],
   "source": [
    "%time\n",
    "df_juul = df[df['tweetText'].str.contains(pattern_juul, case=False)]"
   ]
  },
  {
   "cell_type": "code",
   "execution_count": null,
   "metadata": {
    "collapsed": true
   },
   "outputs": [],
   "source": [
    "# similarly pattern for marijuana --takes considerable time\n",
    "drug = set(drug)\n",
    "pattern_mari = '|'.join(drug)\n",
    "df_mari = df[df.tweetText.str.contains(pattern_mari, case = False)]"
   ]
  },
  {
   "cell_type": "code",
   "execution_count": null,
   "metadata": {
    "collapsed": true,
    "scrolled": true
   },
   "outputs": [],
   "source": [
    "pattern_mari"
   ]
  },
  {
   "cell_type": "code",
   "execution_count": null,
   "metadata": {
    "collapsed": true
   },
   "outputs": [],
   "source": [
    "len(df_juul)"
   ]
  },
  {
   "cell_type": "code",
   "execution_count": null,
   "metadata": {
    "collapsed": true
   },
   "outputs": [],
   "source": [
    "len(df_mari)\n",
    "# total no of tweets is 525,342...."
   ]
  },
  {
   "cell_type": "code",
   "execution_count": null,
   "metadata": {
    "collapsed": true
   },
   "outputs": [],
   "source": [
    "# getting the users of the marijuana , getting the unique users\n",
    "a = (df_mari.userID).unique()"
   ]
  },
  {
   "cell_type": "code",
   "execution_count": null,
   "metadata": {
    "collapsed": true
   },
   "outputs": [],
   "source": [
    "# getting the list of users unique..\n",
    "len(list(a))"
   ]
  },
  {
   "cell_type": "code",
   "execution_count": null,
   "metadata": {
    "collapsed": true
   },
   "outputs": [],
   "source": [
    "len(set(a))"
   ]
  },
  {
   "cell_type": "code",
   "execution_count": null,
   "metadata": {
    "collapsed": true
   },
   "outputs": [],
   "source": [
    "# changing to datetime objects\n",
    "df_mari['tweetCreatedAt'] = pd.to_datetime(df_mari.tweetCreatedAt)"
   ]
  },
  {
   "cell_type": "code",
   "execution_count": null,
   "metadata": {
    "collapsed": true
   },
   "outputs": [],
   "source": [
    "mari_users_time = df_mari.groupby(by = [df_mari['tweetCreatedAt'].dt.date])['userID'].agg({\"user_id\":pd.Series.nunique})\n"
   ]
  },
  {
   "cell_type": "code",
   "execution_count": null,
   "metadata": {
    "collapsed": true,
    "scrolled": true
   },
   "outputs": [],
   "source": [
    "mari_users_time"
   ]
  },
  {
   "cell_type": "code",
   "execution_count": 38,
   "metadata": {
    "collapsed": false,
    "scrolled": true
   },
   "outputs": [
    {
     "data": {
      "image/png": "[encoded data removed]",
      "text/plain": [
       "<Figure size 576x288 with 1 Axes>"
      ]
     },
     "metadata": {
      "needs_background": "light"
     },
     "output_type": "display_data"
    }
   ],
   "source": [
    "# plotting the tweet ids\n",
    "plt.rcParams[\"figure.figsize\"] = (8,4)\n",
    "plt.scatter(list(mari_users_time.index),list(mari_users_time['user_id']),color = 'green', label='mari tweets')\n",
    "plt.ylabel(\"no of users\",fontsize=16)\n",
    "plt.xlabel(\"timestamp \", fontsize = 16)\n",
    "plt.title(\"increase of uses from 2010 to 2019\")\n",
    "plt.legend()\n",
    "plt.show() "
   ]
  },
  {
   "cell_type": "code",
   "execution_count": null,
   "metadata": {
    "collapsed": true
   },
   "outputs": [],
   "source": [
    "# convert to datetime\n",
    "mari_users_time.index = pd.to_datetime(mari_users_time.index)"
   ]
  },
  {
   "cell_type": "code",
   "execution_count": null,
   "metadata": {
    "collapsed": true
   },
   "outputs": [],
   "source": [
    "(mari_users_time).index[0].year"
   ]
  },
  {
   "cell_type": "code",
   "execution_count": null,
   "metadata": {
    "collapsed": true
   },
   "outputs": [],
   "source": [
    "# zoom in from 2018\n",
    "mari_users_2018 = mari_users_time.loc[mari_users_time.index.year >= 2017]  # change the value of year here"
   ]
  },
  {
   "cell_type": "code",
   "execution_count": null,
   "metadata": {
    "collapsed": true
   },
   "outputs": [],
   "source": [
    "# plotting the increase of unique marijuana users\n",
    "plt.rcParams[\"figure.figsize\"] = (10,4)\n",
    "plt.scatter(list(mari_users_2018.index),list(mari_users_2018['user_id']),color = 'green', label='mari tweets')\n",
    "plt.ylabel(\"no of users\",fontsize=16)\n",
    "plt.xlabel(\"timestamp \", fontsize = 16)\n",
    "plt.title(\"original of uses from 2018 to current\")\n",
    "plt.legend()\n",
    "plt.show() "
   ]
  },
  {
   "cell_type": "code",
   "execution_count": null,
   "metadata": {
    "collapsed": true
   },
   "outputs": [],
   "source": [
    "mari_users = df_mari.groupby(df_mari['userID'])['tweetId'].agg(['count']).sort_values('count',ascending= False)"
   ]
  },
  {
   "cell_type": "code",
   "execution_count": null,
   "metadata": {
    "collapsed": true
   },
   "outputs": [],
   "source": [
    "mari_users_ = [str(user) for user in mari_users.index]"
   ]
  },
  {
   "cell_type": "code",
   "execution_count": null,
   "metadata": {
    "collapsed": true
   },
   "outputs": [],
   "source": [
    "# plotting the tweet ids\n",
    "plt.rcParams[\"figure.figsize\"] = (8,6)\n",
    "plt.plot(mari_users_[:900],list(mari_users['count'])[:900],color = 'green', label='mari tweets')\n",
    "plt.ylabel(\"no of tweets\",fontsize=16)\n",
    "plt.xlabel(\"users \", fontsize = 16)\n",
    "plt.legend()\n",
    "plt.show() "
   ]
  },
  {
   "cell_type": "code",
   "execution_count": null,
   "metadata": {
    "collapsed": true,
    "scrolled": true
   },
   "outputs": [],
   "source": [
    "(mari_users)"
   ]
  },
  {
   "cell_type": "code",
   "execution_count": null,
   "metadata": {
    "collapsed": true
   },
   "outputs": [],
   "source": [
    "# further grouping by the no of users\n",
    "mari_users1 = pd.DataFrame(mari_users,columns=['count'],index=None)"
   ]
  },
  {
   "cell_type": "code",
   "execution_count": null,
   "metadata": {
    "collapsed": true
   },
   "outputs": [],
   "source": [
    "mari_users1['userID'] = mari_users1.index\n",
    "mari_users1.columns = ['counts','userID']"
   ]
  },
  {
   "cell_type": "code",
   "execution_count": null,
   "metadata": {
    "collapsed": true
   },
   "outputs": [],
   "source": [
    "mari_users2 = mari_users1.groupby(mari_users1['counts'])['userID'].agg(['count']).sort_values('count',ascending=False)"
   ]
  },
  {
   "cell_type": "code",
   "execution_count": null,
   "metadata": {
    "collapsed": true
   },
   "outputs": [],
   "source": [
    "mari_users2.columns = ['tweets']"
   ]
  },
  {
   "cell_type": "code",
   "execution_count": null,
   "metadata": {
    "collapsed": true,
    "scrolled": true
   },
   "outputs": [],
   "source": [
    "(mari_users2).sort_index(inplace=True,ascending=True)"
   ]
  },
  {
   "cell_type": "code",
   "execution_count": null,
   "metadata": {
    "collapsed": true,
    "scrolled": true
   },
   "outputs": [],
   "source": [
    "mari_users2"
   ]
  },
  {
   "cell_type": "code",
   "execution_count": null,
   "metadata": {
    "collapsed": true
   },
   "outputs": [],
   "source": [
    "# plotting the tweet ids\n",
    "plt.rcParams[\"figure.figsize\"] = (8,6)\n",
    "plt.plot(mari_users2.index,list(mari_users2['tweets']),color = 'blue', label='marijuana tweets')\n",
    "plt.ylabel(\"no of tweets\",fontsize=16)\n",
    "plt.xlabel(\"no of users \", fontsize = 16)\n",
    "plt.legend()\n",
    "plt.show()"
   ]
  },
  {
   "cell_type": "code",
   "execution_count": null,
   "metadata": {
    "collapsed": true
   },
   "outputs": [],
   "source": [
    "# checking for tweets"
   ]
  },
  {
   "cell_type": "code",
   "execution_count": null,
   "metadata": {
    "collapsed": true
   },
   "outputs": [],
   "source": [
    "# take a random sample of 30000\n",
    "df_mari_s = df_mari.sample(30000)\n",
    "df_juul_s = df_juul.sample(30000)"
   ]
  },
  {
   "cell_type": "code",
   "execution_count": null,
   "metadata": {
    "collapsed": true
   },
   "outputs": [],
   "source": [
    "df_mari['tweetCreatedAt'] = pd.to_datetime(df_mari.tweetCreatedAt)\n",
    "df_juul['tweetCreatedAt'] = pd.to_datetime(df_juul.tweetCreatedAt)"
   ]
  },
  {
   "cell_type": "code",
   "execution_count": null,
   "metadata": {
    "collapsed": true
   },
   "outputs": [],
   "source": [
    "juul_dt =  df_juul.groupby(df_juul['tweetCreatedAt'].dt.date)['tweetCreatedAt'].agg(['count'])\n",
    "mari_dt =  df_mari.groupby(df_mari['tweetCreatedAt'].dt.date)['tweetCreatedAt'].agg(['count'])"
   ]
  },
  {
   "cell_type": "code",
   "execution_count": null,
   "metadata": {
    "collapsed": true,
    "scrolled": false
   },
   "outputs": [],
   "source": [
    "plt.rcParams[\"figure.figsize\"] = (8,6)\n",
    "plt.plot(list(juul_dt.index),list(juul_dt['count']),color = 'blue', label='juul tweets')\n",
    "plt.plot(list(mari_dt.index),list(mari_dt['count']), color = 'green', label = 'marijuana tweets')\n",
    "plt.ylabel(\"no of tweets\",fontsize=16)\n",
    "plt.xlabel(\"time\", fontsize = 16)\n",
    "plt.legend()\n",
    "plt.show() "
   ]
  },
  {
   "cell_type": "code",
   "execution_count": null,
   "metadata": {
    "collapsed": true
   },
   "outputs": [],
   "source": [
    "## calculating with increase of user\n",
    "juul_dt_u =  df_juul.groupby(df_juul['tweetCreatedAt'].dt.date)['userID'].unique.agg(['count'])\n",
    "# juul_dt_u = df_juul.groupby(\"tweetCreatedAt\").agg({\"userID\": pd.Series.nunique})"
   ]
  },
  {
   "cell_type": "code",
   "execution_count": null,
   "metadata": {
    "collapsed": true
   },
   "outputs": [],
   "source": [
    "mari_dt_u = df_mari.groupby(\"tweetCreatedAt\").agg({\"userID\": pd.Series.nunique})"
   ]
  },
  {
   "cell_type": "code",
   "execution_count": null,
   "metadata": {
    "collapsed": true,
    "scrolled": true
   },
   "outputs": [],
   "source": [
    "juul_dt_u"
   ]
  },
  {
   "cell_type": "code",
   "execution_count": null,
   "metadata": {
    "collapsed": true
   },
   "outputs": [],
   "source": [
    "plt.rcParams[\"figure.figsize\"] = (8,6)\n",
    "plt.plot(list(juul_dt_u.index),list(juul_dt_u['userID']),color = 'blue', label='juul tweets')\n",
    "plt.plot(list(mari_dt_u.index),list(mari_dt_u['userID']), color = 'green', label = 'marijuana tweets')\n",
    "plt.ylabel(\"no of users\",fontsize=16)\n",
    "plt.xlabel(\"time\", fontsize = 16)\n",
    "plt.legend()\n",
    "plt.show() "
   ]
  },
  {
   "cell_type": "markdown",
   "metadata": {},
   "source": [
    "###### Previous approach"
   ]
  },
  {
   "cell_type": "code",
   "execution_count": null,
   "metadata": {
    "collapsed": true
   },
   "outputs": [],
   "source": [
    "df_juul = df[df['tweetText'].str.contains(\"juul\",case= False)]"
   ]
  },
  {
   "cell_type": "code",
   "execution_count": null,
   "metadata": {
    "collapsed": true
   },
   "outputs": [],
   "source": [
    "df_mari = df[df['tweetText'].str.contains(\"marijuana\",case= False)] "
   ]
  },
  {
   "cell_type": "code",
   "execution_count": null,
   "metadata": {
    "collapsed": true
   },
   "outputs": [],
   "source": [
    "len(df_juul)"
   ]
  },
  {
   "cell_type": "code",
   "execution_count": null,
   "metadata": {
    "collapsed": true
   },
   "outputs": [],
   "source": [
    "len(df_mari)"
   ]
  },
  {
   "cell_type": "code",
   "execution_count": null,
   "metadata": {
    "collapsed": true
   },
   "outputs": [],
   "source": [
    "# datetime_object = datetime.strptime(df_mari.tweetCreatedAt.iloc[0], '%Y-%m-%d %H:%M:%S')"
   ]
  },
  {
   "cell_type": "code",
   "execution_count": null,
   "metadata": {
    "collapsed": true
   },
   "outputs": [],
   "source": [
    "# ts = time.time()\n",
    "# datetime.fromtimestamp(ts).strftime('%Y-%m-%d %H:%M:%S')"
   ]
  },
  {
   "cell_type": "code",
   "execution_count": null,
   "metadata": {
    "collapsed": true
   },
   "outputs": [],
   "source": [
    "# changing to datetime objects\n",
    "df_mari['tweetCreatedAt'] = pd.to_datetime(df_mari.tweetCreatedAt)"
   ]
  },
  {
   "cell_type": "code",
   "execution_count": null,
   "metadata": {
    "collapsed": true
   },
   "outputs": [],
   "source": [
    "df_juul['tweetCreatedAt'] = pd.to_datetime(df_juul.tweetCreatedAt)"
   ]
  },
  {
   "cell_type": "code",
   "execution_count": null,
   "metadata": {
    "collapsed": true,
    "scrolled": true
   },
   "outputs": [],
   "source": [
    "juul_dt =  df_juul.groupby(df_juul['tweetCreatedAt'].dt.date)['tweetCreatedAt'].agg(['count'])"
   ]
  },
  {
   "cell_type": "code",
   "execution_count": null,
   "metadata": {
    "collapsed": true
   },
   "outputs": [],
   "source": [
    "mari_dt =  df_mari.groupby(df_mari['tweetCreatedAt'].dt.date)['tweetCreatedAt'].agg(['count'])"
   ]
  },
  {
   "cell_type": "code",
   "execution_count": null,
   "metadata": {
    "collapsed": true
   },
   "outputs": [],
   "source": [
    "len(juul_dt)"
   ]
  },
  {
   "cell_type": "code",
   "execution_count": null,
   "metadata": {
    "collapsed": true
   },
   "outputs": [],
   "source": [
    "len(mari_dt)"
   ]
  },
  {
   "cell_type": "code",
   "execution_count": null,
   "metadata": {
    "collapsed": true
   },
   "outputs": [],
   "source": [
    "# only \"juul\" and \"marijuana\"\n",
    "plt.plot(list(juul_dt.index),list(juul_dt['count']),color = 'blue', label='juul tweets')\n",
    "plt.plot(list(mari_dt.index),list(mari_dt['count']), color = 'green', label = 'marijuana tweets')\n",
    "plt.show() "
   ]
  },
  {
   "cell_type": "code",
   "execution_count": null,
   "metadata": {
    "collapsed": true
   },
   "outputs": [],
   "source": [
    "### testing"
   ]
  },
  {
   "cell_type": "code",
   "execution_count": null,
   "metadata": {
    "collapsed": true
   },
   "outputs": [],
   "source": [
    "## check with no of users insatead of tweets-- less data in previous"
   ]
  }
 ],
 "metadata": {
  "kernelspec": {
   "display_name": "Python [default]",
   "language": "python",
   "name": "python3"
  },
  "language_info": {
   "codemirror_mode": {
    "name": "ipython",
    "version": 3
   },
   "file_extension": ".py",
   "mimetype": "text/x-python",
   "name": "python",
   "nbconvert_exporter": "python",
   "pygments_lexer": "ipython3",
   "version": "3.5.2"
  }
 },
 "nbformat": 4,
 "nbformat_minor": 2
}
