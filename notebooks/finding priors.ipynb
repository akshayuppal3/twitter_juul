{
 "cells": [
  {
   "cell_type": "code",
   "execution_count": 2,
   "metadata": {
    "ExecuteTime": {
     "end_time": "2018-12-28T05:33:32.663518Z",
     "start_time": "2018-12-28T05:33:12.145722Z"
    }
   },
   "outputs": [],
   "source": [
    "import pandas as pd\n",
    "import numpy as np\n",
    "import nltk\n",
    "import re\n",
    "from datetime import date, datetime\n",
    "import time\n",
    "import matplotlib.pyplot as plt\n",
    "import urllib.request\n",
    "from tqdm import tqdm\n",
    "import pickle\n",
    "import spacy\n",
    "import random\n",
    "import ast\n",
    "import seaborn as sns\n",
    "import networkx as nx"
   ]
  },
  {
   "cell_type": "code",
   "execution_count": 3,
   "metadata": {
    "ExecuteTime": {
     "end_time": "2018-12-28T05:33:32.681804Z",
     "start_time": "2018-12-28T05:33:32.670085Z"
    }
   },
   "outputs": [],
   "source": [
    "tqdm.pandas()"
   ]
  },
  {
   "cell_type": "code",
   "execution_count": 4,
   "metadata": {
    "ExecuteTime": {
     "end_time": "2018-12-28T05:33:32.745236Z",
     "start_time": "2018-12-28T05:33:32.684438Z"
    }
   },
   "outputs": [],
   "source": [
    "pd.set_option('display.max_colwidth', -1)"
   ]
  },
  {
   "cell_type": "code",
   "execution_count": 5,
   "metadata": {
    "ExecuteTime": {
     "end_time": "2018-12-28T05:33:33.123929Z",
     "start_time": "2018-12-28T05:33:32.750203Z"
    }
   },
   "outputs": [],
   "source": [
    "# getting the burst timeline..\n",
    "df_tweets = pd.read_csv('/home/auppal8/HexagonData_new.csv',lineterminator='\\n', index_col=None)"
   ]
  },
  {
   "cell_type": "code",
   "execution_count": 6,
   "metadata": {
    "ExecuteTime": {
     "end_time": "2018-12-28T05:33:51.110695Z",
     "start_time": "2018-12-28T05:33:33.128344Z"
    }
   },
   "outputs": [],
   "source": [
    "df_timeline = pd.read_csv('/home/auppal8/userTimelineData.csv',lineterminator='\\n',)"
   ]
  },
  {
   "cell_type": "code",
   "execution_count": 7,
   "metadata": {
    "ExecuteTime": {
     "end_time": "2018-12-28T05:33:51.822132Z",
     "start_time": "2018-12-28T05:33:51.114157Z"
    }
   },
   "outputs": [],
   "source": [
    "df_following = pd.read_excel('/home/auppal8/updatedfollowingData1117.xlsx', index_col=0)"
   ]
  },
  {
   "cell_type": "code",
   "execution_count": 8,
   "metadata": {
    "ExecuteTime": {
     "end_time": "2018-12-28T05:33:51.940957Z",
     "start_time": "2018-12-28T05:33:51.825292Z"
    }
   },
   "outputs": [],
   "source": [
    "# following data for user...\n",
    "df_300 = pd.read_csv(\"~/Following300_1220.csv\",index_col=0)"
   ]
  },
  {
   "cell_type": "code",
   "execution_count": 9,
   "metadata": {
    "ExecuteTime": {
     "end_time": "2018-12-28T05:33:51.948720Z",
     "start_time": "2018-12-28T05:33:51.945161Z"
    }
   },
   "outputs": [],
   "source": [
    "#no of hashtags per tweet\n",
    "# url and then no of url per tweet\n",
    "# no of @user-mention per tweet\n",
    "# percentage of retweet per user (user retweets / total no of tweets)"
   ]
  },
  {
   "cell_type": "code",
   "execution_count": 10,
   "metadata": {
    "ExecuteTime": {
     "end_time": "2018-12-28T05:33:51.960788Z",
     "start_time": "2018-12-28T05:33:51.953516Z"
    }
   },
   "outputs": [],
   "source": [
    "def hashtag_count(df):\n",
    "    if df is not np.nan:\n",
    "        hashtags = ast.literal_eval(df)\n",
    "        if (hashtags is not None):\n",
    "            return (len(hashtags))\n",
    "        else:\n",
    "            return(0)\n",
    "    else:\n",
    "        return(0)"
   ]
  },
  {
   "cell_type": "code",
   "execution_count": 11,
   "metadata": {
    "ExecuteTime": {
     "end_time": "2018-12-28T05:34:02.713899Z",
     "start_time": "2018-12-28T05:33:51.964773Z"
    },
    "scrolled": true
   },
   "outputs": [
    {
     "name": "stderr",
     "output_type": "stream",
     "text": [
      "100%|██████████| 1344182/1344182 [00:10<00:00, 128569.39it/s]\n"
     ]
    }
   ],
   "source": [
    "# count no of hashtags\n",
    "df_timeline['hashtags'] = df_timeline['hashtags'].progress_apply(hashtag_count)"
   ]
  },
  {
   "cell_type": "code",
   "execution_count": 12,
   "metadata": {
    "ExecuteTime": {
     "end_time": "2018-12-28T05:34:04.375848Z",
     "start_time": "2018-12-28T05:34:02.718432Z"
    }
   },
   "outputs": [],
   "source": [
    "# count the no of urls per tweet\n",
    "df_timeline['urls'] = df_timeline['tweetText'].str.count(r'(https?://\\S+)')"
   ]
  },
  {
   "cell_type": "code",
   "execution_count": 13,
   "metadata": {
    "ExecuteTime": {
     "end_time": "2018-12-28T05:34:05.905927Z",
     "start_time": "2018-12-28T05:34:04.379311Z"
    }
   },
   "outputs": [],
   "source": [
    "# count no of user mentiosn per tweet\n",
    "df_timeline['author_mentions'] = df_timeline['tweetText'].str.count(r'(\\@\\w+)')"
   ]
  },
  {
   "cell_type": "code",
   "execution_count": 26,
   "metadata": {
    "ExecuteTime": {
     "end_time": "2018-12-28T05:38:33.969375Z",
     "start_time": "2018-12-28T05:38:33.819680Z"
    }
   },
   "outputs": [],
   "source": [
    "# just to get avergae user mentions per user\n",
    "df_user = df_timeline.groupby(df_timeline['userID']).agg({'author_mentions': 'median',\n",
    "                                                          'urls' : 'median',\n",
    "                                                          'retweetCount' : 'sum'})"
   ]
  },
  {
   "cell_type": "code",
   "execution_count": 33,
   "metadata": {
    "ExecuteTime": {
     "end_time": "2018-12-28T05:42:29.434091Z",
     "start_time": "2018-12-28T05:42:29.418338Z"
    },
    "scrolled": true
   },
   "outputs": [],
   "source": [
    "total = df_user['retweetCount'].sum()\n",
    "df_user['retweetCount'] = df_user['retweetCount'].apply(lambda x: (x/total) * 100)"
   ]
  },
  {
   "cell_type": "code",
   "execution_count": 37,
   "metadata": {
    "ExecuteTime": {
     "end_time": "2018-12-28T05:42:55.713629Z",
     "start_time": "2018-12-28T05:42:55.705036Z"
    },
    "scrolled": true
   },
   "outputs": [
    {
     "data": {
      "text/plain": [
       "7372"
      ]
     },
     "execution_count": 37,
     "metadata": {},
     "output_type": "execute_result"
    }
   ],
   "source": [
    "df_user"
   ]
  },
  {
   "cell_type": "code",
   "execution_count": 38,
   "metadata": {
    "ExecuteTime": {
     "end_time": "2018-12-28T05:43:37.763949Z",
     "start_time": "2018-12-28T05:43:37.760025Z"
    }
   },
   "outputs": [],
   "source": [
    "# start with behavious characteristics"
   ]
  },
  {
   "cell_type": "code",
   "execution_count": null,
   "metadata": {},
   "outputs": [],
   "source": []
  }
 ],
 "metadata": {
  "kernelspec": {
   "display_name": "Python 3",
   "language": "python",
   "name": "python3"
  },
  "language_info": {
   "codemirror_mode": {
    "name": "ipython",
    "version": 3
   },
   "file_extension": ".py",
   "mimetype": "text/x-python",
   "name": "python",
   "nbconvert_exporter": "python",
   "pygments_lexer": "ipython3",
   "version": "3.6.7"
  }
 },
 "nbformat": 4,
 "nbformat_minor": 2
}
