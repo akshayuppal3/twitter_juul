{
 "cells": [
  {
   "cell_type": "code",
   "execution_count": 2,
   "metadata": {
    "ExecuteTime": {
     "end_time": "2018-12-28T05:33:32.663518Z",
     "start_time": "2018-12-28T05:33:12.145722Z"
    }
   },
   "outputs": [],
   "source": [
    "import pandas as pd\n",
    "import numpy as np\n",
    "import nltk\n",
    "import re\n",
    "from datetime import date, datetime\n",
    "import time\n",
    "import matplotlib.pyplot as plt\n",
    "import urllib.request\n",
    "from tqdm import tqdm\n",
    "import pickle\n",
    "import spacy\n",
    "import random\n",
    "import ast\n",
    "import seaborn as sns\n",
    "import networkx as nx"
   ]
  },
  {
   "cell_type": "code",
   "execution_count": 386,
   "metadata": {
    "ExecuteTime": {
     "end_time": "2018-12-28T23:48:45.744675Z",
     "start_time": "2018-12-28T23:48:45.740301Z"
    }
   },
   "outputs": [],
   "source": [
    "from sklearn.linear_model import LogisticRegression\n",
    "from sklearn.metrics import accuracy_score"
   ]
  },
  {
   "cell_type": "code",
   "execution_count": 3,
   "metadata": {
    "ExecuteTime": {
     "end_time": "2018-12-28T05:33:32.681804Z",
     "start_time": "2018-12-28T05:33:32.670085Z"
    }
   },
   "outputs": [],
   "source": [
    "tqdm.pandas()"
   ]
  },
  {
   "cell_type": "code",
   "execution_count": 4,
   "metadata": {
    "ExecuteTime": {
     "end_time": "2018-12-28T05:33:32.745236Z",
     "start_time": "2018-12-28T05:33:32.684438Z"
    }
   },
   "outputs": [],
   "source": [
    "pd.set_option('display.max_colwidth', -1)"
   ]
  },
  {
   "cell_type": "code",
   "execution_count": 5,
   "metadata": {
    "ExecuteTime": {
     "end_time": "2018-12-28T05:33:33.123929Z",
     "start_time": "2018-12-28T05:33:32.750203Z"
    }
   },
   "outputs": [],
   "source": [
    "# getting the burst timeline..\n",
    "df_tweets = pd.read_csv('/home/auppal8/HexagonData_new.csv',lineterminator='\\n', index_col=None)"
   ]
  },
  {
   "cell_type": "code",
   "execution_count": 405,
   "metadata": {
    "ExecuteTime": {
     "end_time": "2018-12-29T03:32:21.931678Z",
     "start_time": "2018-12-29T03:32:09.803555Z"
    }
   },
   "outputs": [],
   "source": [
    "df_timeline = pd.read_csv('/home/auppal8/userTimelineData.csv',lineterminator='\\n',)"
   ]
  },
  {
   "cell_type": "code",
   "execution_count": 7,
   "metadata": {
    "ExecuteTime": {
     "end_time": "2018-12-28T05:33:51.822132Z",
     "start_time": "2018-12-28T05:33:51.114157Z"
    }
   },
   "outputs": [],
   "source": [
    "df_following = pd.read_excel('/home/auppal8/updatedfollowingData1117.xlsx', index_col=0)"
   ]
  },
  {
   "cell_type": "code",
   "execution_count": 8,
   "metadata": {
    "ExecuteTime": {
     "end_time": "2018-12-28T05:33:51.940957Z",
     "start_time": "2018-12-28T05:33:51.825292Z"
    }
   },
   "outputs": [],
   "source": [
    "# following data for user...\n",
    "df_300 = pd.read_csv(\"~/Following300_1220.csv\",index_col=0)"
   ]
  },
  {
   "cell_type": "code",
   "execution_count": 355,
   "metadata": {
    "ExecuteTime": {
     "end_time": "2018-12-28T23:36:30.163370Z",
     "start_time": "2018-12-28T23:36:30.141701Z"
    }
   },
   "outputs": [],
   "source": [
    "# getting the few labelled \n",
    "df_char = pd.read_csv(\"/home/auppal8/twitter_juul/input/user_characteristics.csv\",index_col=0,keep_default_na=False)"
   ]
  },
  {
   "cell_type": "code",
   "execution_count": 9,
   "metadata": {
    "ExecuteTime": {
     "end_time": "2018-12-28T05:33:51.948720Z",
     "start_time": "2018-12-28T05:33:51.945161Z"
    }
   },
   "outputs": [],
   "source": [
    "#no of hashtags per tweet\n",
    "# url and then no of url per tweet\n",
    "# no of @user-mention per tweet\n",
    "# percentage of retweet per user (user retweets / total no of tweets)"
   ]
  },
  {
   "cell_type": "code",
   "execution_count": 10,
   "metadata": {
    "ExecuteTime": {
     "end_time": "2018-12-28T05:33:51.960788Z",
     "start_time": "2018-12-28T05:33:51.953516Z"
    }
   },
   "outputs": [],
   "source": [
    "def hashtag_count(df):\n",
    "    if df is not np.nan:\n",
    "        hashtags = ast.literal_eval(df)\n",
    "        if (hashtags is not None):\n",
    "            return (len(hashtags))\n",
    "        else:\n",
    "            return(0)\n",
    "    else:\n",
    "        return(0)"
   ]
  },
  {
   "cell_type": "code",
   "execution_count": 406,
   "metadata": {
    "ExecuteTime": {
     "end_time": "2018-12-29T03:32:33.210625Z",
     "start_time": "2018-12-29T03:32:21.935493Z"
    },
    "scrolled": true
   },
   "outputs": [
    {
     "name": "stderr",
     "output_type": "stream",
     "text": [
      "\n",
      "  0%|          | 0/1344182 [00:00<?, ?it/s]\u001b[A\n",
      "  1%|          | 9263/1344182 [00:00<00:14, 92624.35it/s]\u001b[A\n",
      "  1%|▏         | 19148/1344182 [00:00<00:14, 94405.37it/s]\u001b[A\n",
      "  2%|▏         | 30094/1344182 [00:00<00:13, 98466.42it/s]\u001b[A\n",
      "  3%|▎         | 41928/1344182 [00:00<00:12, 103689.23it/s]\u001b[A\n",
      "  4%|▍         | 54187/1344182 [00:00<00:11, 108716.40it/s]\u001b[A\n",
      "  5%|▍         | 66664/1344182 [00:00<00:11, 113078.18it/s]\u001b[A\n",
      "  6%|▌         | 78827/1344182 [00:00<00:10, 115513.90it/s]\u001b[A\n",
      "  7%|▋         | 92412/1344182 [00:00<00:10, 120943.49it/s]\u001b[A\n",
      "  8%|▊         | 106531/1344182 [00:00<00:09, 126378.27it/s]\u001b[A\n",
      "  9%|▉         | 119510/1344182 [00:01<00:09, 127380.87it/s]\u001b[A\n",
      " 10%|▉         | 132105/1344182 [00:01<00:09, 124346.67it/s]\u001b[A\n",
      " 11%|█         | 144512/1344182 [00:01<00:09, 124262.06it/s]\u001b[A\n",
      " 12%|█▏        | 156880/1344182 [00:01<00:09, 122105.81it/s]\u001b[A\n",
      " 13%|█▎        | 169058/1344182 [00:01<00:09, 118192.04it/s]\u001b[A\n",
      " 14%|█▎        | 181735/1344182 [00:01<00:09, 120638.58it/s]\u001b[A\n",
      " 14%|█▍        | 194758/1344182 [00:01<00:09, 123361.50it/s]\u001b[A\n",
      " 16%|█▌        | 208973/1344182 [00:01<00:08, 128444.50it/s]\u001b[A\n",
      " 17%|█▋        | 222290/1344182 [00:01<00:08, 129824.79it/s]\u001b[A\n",
      " 18%|█▊        | 235327/1344182 [00:01<00:08, 128142.73it/s]\u001b[A\n",
      " 18%|█▊        | 248185/1344182 [00:02<00:08, 123277.24it/s]\u001b[A\n",
      " 20%|█▉        | 262649/1344182 [00:02<00:08, 128989.91it/s]\u001b[A\n",
      " 21%|██        | 276684/1344182 [00:02<00:08, 132199.98it/s]\u001b[A\n",
      " 22%|██▏       | 290007/1344182 [00:02<00:08, 128447.23it/s]\u001b[A\n",
      " 23%|██▎       | 302947/1344182 [00:02<00:08, 128525.39it/s]\u001b[A\n",
      " 23%|██▎       | 315867/1344182 [00:02<00:08, 127960.26it/s]\u001b[A\n",
      " 24%|██▍       | 328711/1344182 [00:02<00:07, 128020.55it/s]\u001b[A\n",
      " 25%|██▌       | 341547/1344182 [00:02<00:07, 127135.79it/s]\u001b[A\n",
      " 26%|██▋       | 354286/1344182 [00:02<00:08, 120141.19it/s]\u001b[A\n",
      " 27%|██▋       | 367010/1344182 [00:02<00:07, 122185.95it/s]\u001b[A\n",
      " 28%|██▊       | 380498/1344182 [00:03<00:07, 125732.59it/s]\u001b[A\n",
      " 29%|██▉       | 393817/1344182 [00:03<00:07, 127878.38it/s]\u001b[A\n",
      " 30%|███       | 406670/1344182 [00:03<00:07, 126476.17it/s]\u001b[A\n",
      " 31%|███▏      | 420744/1344182 [00:03<00:07, 130438.36it/s]\u001b[A\n",
      " 32%|███▏      | 433854/1344182 [00:03<00:07, 126067.08it/s]\u001b[A\n",
      " 33%|███▎      | 448002/1344182 [00:03<00:06, 130326.04it/s]\u001b[A\n",
      " 34%|███▍      | 461126/1344182 [00:03<00:06, 129295.54it/s]\u001b[A\n",
      " 35%|███▌      | 474121/1344182 [00:03<00:07, 122627.91it/s]\u001b[A\n",
      " 36%|███▌      | 486502/1344182 [00:03<00:07, 116679.96it/s]\u001b[A\n",
      " 37%|███▋      | 498313/1344182 [00:04<00:07, 112109.66it/s]\u001b[A\n",
      " 38%|███▊      | 510645/1344182 [00:04<00:07, 115252.63it/s]\u001b[A\n",
      " 39%|███▉      | 523379/1344182 [00:04<00:06, 118629.37it/s]\u001b[A\n",
      " 40%|███▉      | 535511/1344182 [00:04<00:06, 119422.97it/s]\u001b[A\n",
      " 41%|████      | 548436/1344182 [00:04<00:06, 122209.55it/s]\u001b[A\n",
      " 42%|████▏     | 562434/1344182 [00:04<00:06, 127046.89it/s]\u001b[A\n",
      " 43%|████▎     | 575237/1344182 [00:04<00:06, 123356.32it/s]\u001b[A\n",
      " 44%|████▍     | 588886/1344182 [00:04<00:05, 127022.92it/s]\u001b[A\n",
      " 45%|████▍     | 601722/1344182 [00:04<00:05, 127420.70it/s]\u001b[A\n",
      " 46%|████▌     | 614529/1344182 [00:04<00:05, 126162.66it/s]\u001b[A\n",
      " 47%|████▋     | 627286/1344182 [00:05<00:05, 126577.58it/s]\u001b[A\n",
      " 48%|████▊     | 639978/1344182 [00:05<00:05, 126174.82it/s]\u001b[A\n",
      " 49%|████▊     | 652856/1344182 [00:05<00:05, 126920.04it/s]\u001b[A\n",
      " 50%|████▉     | 665566/1344182 [00:05<00:05, 125878.20it/s]\u001b[A\n",
      " 50%|█████     | 678169/1344182 [00:05<00:05, 123731.68it/s]\u001b[A\n",
      " 51%|█████▏    | 690561/1344182 [00:05<00:05, 122684.02it/s]\u001b[A\n",
      " 52%|█████▏    | 703319/1344182 [00:05<00:05, 124110.08it/s]\u001b[A\n",
      " 53%|█████▎    | 717358/1344182 [00:05<00:04, 128581.33it/s]\u001b[A\n",
      " 54%|█████▍    | 731826/1344182 [00:05<00:04, 133018.39it/s]\u001b[A\n",
      " 55%|█████▌    | 745203/1344182 [00:05<00:04, 125849.23it/s]\u001b[A\n",
      " 56%|█████▋    | 759146/1344182 [00:06<00:04, 129636.74it/s]\u001b[A\n",
      " 57%|█████▋    | 772231/1344182 [00:06<00:04, 128319.69it/s]\u001b[A\n",
      " 58%|█████▊    | 785151/1344182 [00:06<00:04, 125550.10it/s]\u001b[A\n",
      " 60%|█████▉    | 800037/1344182 [00:06<00:04, 131737.13it/s]\u001b[A\n",
      " 61%|██████    | 813344/1344182 [00:06<00:04, 128049.12it/s]\u001b[A\n",
      " 62%|██████▏   | 826886/1344182 [00:06<00:03, 130173.69it/s]\u001b[A\n",
      " 62%|██████▏   | 839993/1344182 [00:06<00:03, 128516.48it/s]\u001b[A\n",
      " 63%|██████▎   | 853111/1344182 [00:06<00:03, 129300.95it/s]\u001b[A\n",
      " 64%|██████▍   | 866090/1344182 [00:06<00:03, 129261.88it/s]\u001b[A\n",
      " 65%|██████▌   | 879051/1344182 [00:07<00:03, 129013.49it/s]\u001b[A\n",
      " 66%|██████▋   | 892083/1344182 [00:07<00:03, 129399.78it/s]\u001b[A\n",
      " 67%|██████▋   | 905040/1344182 [00:07<00:03, 127856.41it/s]\u001b[A\n",
      " 68%|██████▊   | 917842/1344182 [00:07<00:03, 125419.15it/s]\u001b[A\n",
      " 69%|██████▉   | 930704/1344182 [00:07<00:03, 126359.21it/s]\u001b[A\n",
      " 70%|███████   | 944951/1344182 [00:07<00:03, 130796.29it/s]\u001b[A\n",
      " 71%|███████▏  | 958082/1344182 [00:07<00:02, 130214.21it/s]\u001b[A\n",
      " 72%|███████▏  | 971826/1344182 [00:07<00:02, 132298.56it/s]\u001b[A\n",
      " 73%|███████▎  | 985090/1344182 [00:07<00:02, 130265.08it/s]\u001b[A\n",
      " 74%|███████▍  | 998148/1344182 [00:07<00:02, 128923.25it/s]\u001b[A\n",
      " 75%|███████▌  | 1011065/1344182 [00:08<00:02, 127564.00it/s]\u001b[A\n",
      " 76%|███████▌  | 1024487/1344182 [00:08<00:02, 129487.89it/s]\u001b[A\n",
      " 77%|███████▋  | 1037458/1344182 [00:08<00:02, 120063.35it/s]\u001b[A\n",
      " 78%|███████▊  | 1049987/1344182 [00:08<00:02, 121583.41it/s]\u001b[A\n",
      " 79%|███████▉  | 1063298/1344182 [00:08<00:02, 124825.38it/s]\u001b[A\n",
      " 80%|████████  | 1075880/1344182 [00:08<00:02, 123864.21it/s]\u001b[A\n",
      " 81%|████████  | 1088578/1344182 [00:08<00:02, 124780.79it/s]\u001b[A\n",
      " 82%|████████▏ | 1102607/1344182 [00:08<00:01, 129056.93it/s]\u001b[A\n",
      " 83%|████████▎ | 1115586/1344182 [00:08<00:01, 125845.97it/s]\u001b[A\n",
      " 84%|████████▍ | 1128240/1344182 [00:09<00:01, 121651.68it/s]\u001b[A\n",
      " 85%|████████▍ | 1140949/1344182 [00:09<00:01, 123229.09it/s]\u001b[A\n",
      " 86%|████████▌ | 1153402/1344182 [00:09<00:01, 123616.01it/s]\u001b[A\n",
      " 87%|████████▋ | 1166737/1344182 [00:09<00:01, 126380.17it/s]\u001b[A\n",
      " 88%|████████▊ | 1179420/1344182 [00:09<00:01, 125844.56it/s]\u001b[A\n",
      " 89%|████████▊ | 1192639/1344182 [00:09<00:01, 127677.68it/s]\u001b[A\n",
      " 90%|████████▉ | 1205436/1344182 [00:09<00:01, 120677.05it/s]\u001b[A\n",
      " 91%|█████████ | 1218181/1344182 [00:09<00:01, 122629.80it/s]\u001b[A\n",
      " 92%|█████████▏| 1230522/1344182 [00:09<00:00, 122618.46it/s]\u001b[A\n",
      " 92%|█████████▏| 1242995/1344182 [00:09<00:00, 123243.28it/s]\u001b[A\n",
      " 93%|█████████▎| 1255358/1344182 [00:10<00:00, 122104.29it/s]\u001b[A\n",
      " 94%|█████████▍| 1267598/1344182 [00:10<00:00, 118274.26it/s]\u001b[A\n",
      " 95%|█████████▌| 1280532/1344182 [00:10<00:00, 121389.80it/s]\u001b[A\n",
      " 96%|█████████▌| 1292725/1344182 [00:10<00:00, 119889.47it/s]\u001b[A\n",
      " 97%|█████████▋| 1305151/1344182 [00:10<00:00, 121167.11it/s]\u001b[A\n",
      " 98%|█████████▊| 1318972/1344182 [00:10<00:00, 125821.07it/s]\u001b[A\n",
      " 99%|█████████▉| 1331623/1344182 [00:10<00:00, 125112.00it/s]\u001b[A\n",
      "100%|██████████| 1344182/1344182 [00:11<00:00, 121886.33it/s]\u001b[A"
     ]
    }
   ],
   "source": [
    "# count no of hashtags\n",
    "df_timeline['hashtags'] = df_timeline['hashtags'].progress_apply(hashtag_count)"
   ]
  },
  {
   "cell_type": "code",
   "execution_count": 208,
   "metadata": {
    "ExecuteTime": {
     "end_time": "2018-12-28T19:09:47.028275Z",
     "start_time": "2018-12-28T19:09:42.192693Z"
    }
   },
   "outputs": [],
   "source": [
    "# find the occurence of urls\n",
    "df_timeline['urls_id'] = df_timeline['tweetText'].str.findall(r'(https?://\\S+)')"
   ]
  },
  {
   "cell_type": "code",
   "execution_count": 12,
   "metadata": {
    "ExecuteTime": {
     "end_time": "2018-12-28T05:34:04.375848Z",
     "start_time": "2018-12-28T05:34:02.718432Z"
    }
   },
   "outputs": [],
   "source": [
    "# count the no of urls per tweet\n",
    "df_timeline['urls'] = df_timeline['tweetText'].str.count(r'(https?://\\S+)')"
   ]
  },
  {
   "cell_type": "code",
   "execution_count": 13,
   "metadata": {
    "ExecuteTime": {
     "end_time": "2018-12-28T05:34:05.905927Z",
     "start_time": "2018-12-28T05:34:04.379311Z"
    }
   },
   "outputs": [],
   "source": [
    "# count no of user mentiosn per tweet\n",
    "df_timeline['author_mentions'] = df_timeline['tweetText'].str.count(r'(\\@\\w+)')"
   ]
  },
  {
   "cell_type": "code",
   "execution_count": 26,
   "metadata": {
    "ExecuteTime": {
     "end_time": "2018-12-28T05:38:33.969375Z",
     "start_time": "2018-12-28T05:38:33.819680Z"
    }
   },
   "outputs": [],
   "source": [
    "# just to get avergae user mentions per user\n",
    "df_user = df_timeline.groupby(df_timeline['userID']).agg({'author_mentions': 'median',\n",
    "                                                          'urls' : 'median',\n",
    "                                                          'retweetCount' : 'sum'})"
   ]
  },
  {
   "cell_type": "code",
   "execution_count": 33,
   "metadata": {
    "ExecuteTime": {
     "end_time": "2018-12-28T05:42:29.434091Z",
     "start_time": "2018-12-28T05:42:29.418338Z"
    },
    "scrolled": true
   },
   "outputs": [],
   "source": [
    "total = df_user['retweetCount'].sum()\n",
    "df_user['retweetCount'] = df_user['retweetCount'].apply(lambda x: (x/total) * 100)"
   ]
  },
  {
   "cell_type": "code",
   "execution_count": 41,
   "metadata": {
    "ExecuteTime": {
     "end_time": "2018-12-28T17:04:29.984087Z",
     "start_time": "2018-12-28T17:04:29.975392Z"
    },
    "scrolled": true
   },
   "outputs": [
    {
     "data": {
      "text/plain": [
       "Index(['favourites_count', 'friendList', 'friendsCount', 'hashtags',\n",
       "       'imageurl', 'lang', 'retweetCount', 'retweeted', 'tweetCreatedAt',\n",
       "       'tweetId', 'tweetText', 'userCreatedAt', 'userDescription',\n",
       "       'userFollowersCount', 'userID', 'userLocation', 'userName', 'urls',\n",
       "       'author_mentions'],\n",
       "      dtype='object')"
      ]
     },
     "execution_count": 41,
     "metadata": {},
     "output_type": "execute_result"
    }
   ],
   "source": [
    "df_timeline.columns"
   ]
  },
  {
   "cell_type": "code",
   "execution_count": 40,
   "metadata": {
    "ExecuteTime": {
     "end_time": "2018-12-28T17:01:18.903155Z",
     "start_time": "2018-12-28T17:01:18.898882Z"
    }
   },
   "outputs": [],
   "source": [
    "# start with behavious characteristics\n",
    "# max, min and average no of tweets per day  --done\n",
    "# max, min time , average time interval between consecutive tweets --done\n",
    "# total no of tweets\n",
    "# no of unique urls"
   ]
  },
  {
   "cell_type": "code",
   "execution_count": 48,
   "metadata": {
    "ExecuteTime": {
     "end_time": "2018-12-28T17:17:04.351080Z",
     "start_time": "2018-12-28T17:17:03.687703Z"
    },
    "scrolled": true
   },
   "outputs": [],
   "source": [
    "df_timeline['tweetCreatedAt'] = pd.to_datetime(df_timeline.tweetCreatedAt)"
   ]
  },
  {
   "cell_type": "code",
   "execution_count": 89,
   "metadata": {
    "ExecuteTime": {
     "end_time": "2018-12-28T18:19:47.384279Z",
     "start_time": "2018-12-28T18:19:46.640855Z"
    }
   },
   "outputs": [],
   "source": [
    "df_tweets = df_timeline.groupby([df_timeline['userID'],df_timeline['tweetCreatedAt'].dt.date])['tweetId'].agg('count')\n"
   ]
  },
  {
   "cell_type": "code",
   "execution_count": 92,
   "metadata": {
    "ExecuteTime": {
     "end_time": "2018-12-28T18:20:22.224743Z",
     "start_time": "2018-12-28T18:20:22.219010Z"
    }
   },
   "outputs": [],
   "source": [
    "df_tweets = pd.DataFrame(df_tweets)"
   ]
  },
  {
   "cell_type": "code",
   "execution_count": 133,
   "metadata": {
    "ExecuteTime": {
     "end_time": "2018-12-28T18:34:56.263277Z",
     "start_time": "2018-12-28T18:34:56.170510Z"
    }
   },
   "outputs": [],
   "source": [
    "# avg, min and max tweets\n",
    "df_user['min_tweets'] = df_tweets.reset_index(level=0).groupby(['userID']).min()\n",
    "df_user['max_tweets'] = df_tweets.reset_index(level=0).groupby(['userID']).max()\n",
    "df_user['avg_tweets'] = df_tweets.reset_index(level=0).groupby(['userID']).mean()"
   ]
  },
  {
   "cell_type": "code",
   "execution_count": 155,
   "metadata": {
    "ExecuteTime": {
     "end_time": "2018-12-28T18:42:43.519284Z",
     "start_time": "2018-12-28T18:42:43.469608Z"
    }
   },
   "outputs": [],
   "source": [
    "df_tweets['diff'] = df_tweets.reset_index(level=0).index"
   ]
  },
  {
   "cell_type": "code",
   "execution_count": 159,
   "metadata": {
    "ExecuteTime": {
     "end_time": "2018-12-28T18:44:32.035198Z",
     "start_time": "2018-12-28T18:44:30.113695Z"
    }
   },
   "outputs": [],
   "source": [
    "df_tweets['diff'] = abs(df_tweets['diff'] - df_tweets['diff'].shift())"
   ]
  },
  {
   "cell_type": "code",
   "execution_count": 191,
   "metadata": {
    "ExecuteTime": {
     "end_time": "2018-12-28T18:59:53.179427Z",
     "start_time": "2018-12-28T18:59:47.799519Z"
    },
    "scrolled": true
   },
   "outputs": [],
   "source": [
    "df_tweets['diff'] = df_tweets['diff'].apply(lambda x: x.days)"
   ]
  },
  {
   "cell_type": "code",
   "execution_count": 228,
   "metadata": {
    "ExecuteTime": {
     "end_time": "2018-12-28T19:25:35.078098Z",
     "start_time": "2018-12-28T19:25:34.970720Z"
    }
   },
   "outputs": [],
   "source": [
    "# min , max , avg no of days in consecutive intervals..and total no of tweets\n",
    "df_user['min_interval'] = df_tweets.reset_index(level=0).groupby(['userID'])['diff'].min()\n",
    "df_user['max_interval'] = df_tweets.reset_index(level=0).groupby(['userID'])['diff'].max()\n",
    "df_user['avg_interval'] = df_tweets.reset_index(level=0).groupby(['userID'])['diff'].mean()\n",
    "df_user['total_tweets'] = df_tweets.groupby(['userID'])['tweetId'].sum()"
   ]
  },
  {
   "cell_type": "code",
   "execution_count": 229,
   "metadata": {
    "ExecuteTime": {
     "end_time": "2018-12-28T19:25:38.100322Z",
     "start_time": "2018-12-28T19:25:36.380073Z"
    }
   },
   "outputs": [],
   "source": [
    "df_user['total_urls'] = df_timeline.groupby(['userID']).urls_id.sum().apply(lambda x: len(set(x)))"
   ]
  },
  {
   "cell_type": "code",
   "execution_count": 282,
   "metadata": {
    "ExecuteTime": {
     "end_time": "2018-12-28T19:46:46.186112Z",
     "start_time": "2018-12-28T19:46:45.780423Z"
    },
    "scrolled": true
   },
   "outputs": [],
   "source": [
    "df_userNames = (df_timeline[['userID','userName','imageurl']].drop_duplicates()).reset_index(drop=True)"
   ]
  },
  {
   "cell_type": "code",
   "execution_count": 285,
   "metadata": {
    "ExecuteTime": {
     "end_time": "2018-12-28T19:47:08.728326Z",
     "start_time": "2018-12-28T19:47:08.716149Z"
    }
   },
   "outputs": [],
   "source": [
    "df_user =  df_userNames.join(df_user, on='userID')"
   ]
  },
  {
   "cell_type": "code",
   "execution_count": 313,
   "metadata": {
    "ExecuteTime": {
     "end_time": "2018-12-28T23:23:50.774982Z",
     "start_time": "2018-12-28T23:23:50.767924Z"
    }
   },
   "outputs": [
    {
     "data": {
      "text/plain": [
       "Index(['userID', 'userName', 'Promoter/not', 'author_mentions', 'urls',\n",
       "       'retweetCount', 'min_tweets', 'max_tweets', 'avg_tweets',\n",
       "       'min_interval', 'max_interval', 'avg_interval', 'total_urls',\n",
       "       'total_tweets'],\n",
       "      dtype='object')"
      ]
     },
     "execution_count": 313,
     "metadata": {},
     "output_type": "execute_result"
    }
   ],
   "source": [
    "df_char.columns"
   ]
  },
  {
   "cell_type": "code",
   "execution_count": 358,
   "metadata": {
    "ExecuteTime": {
     "end_time": "2018-12-28T23:36:52.836838Z",
     "start_time": "2018-12-28T23:36:52.828564Z"
    }
   },
   "outputs": [],
   "source": [
    "Y = df_char['Promoter/not']"
   ]
  },
  {
   "cell_type": "code",
   "execution_count": 319,
   "metadata": {
    "ExecuteTime": {
     "end_time": "2018-12-28T23:27:03.607943Z",
     "start_time": "2018-12-28T23:27:03.598431Z"
    }
   },
   "outputs": [],
   "source": [
    "X = df_char[df_char.columns[~df_char.columns.isin(['userID','userName','Promoter/not'])]]"
   ]
  },
  {
   "cell_type": "code",
   "execution_count": null,
   "metadata": {
    "ExecuteTime": {
     "end_time": "2018-12-28T23:37:10.833227Z",
     "start_time": "2018-12-28T23:37:10.827300Z"
    }
   },
   "outputs": [],
   "source": [
    "# repalcing the NA values with NAN\n",
    "Y = Y.replace('NA',np.nan)"
   ]
  },
  {
   "cell_type": "markdown",
   "metadata": {},
   "source": [
    "##### selcting that are not NaN"
   ]
  },
  {
   "cell_type": "code",
   "execution_count": 377,
   "metadata": {
    "ExecuteTime": {
     "end_time": "2018-12-28T23:43:55.196827Z",
     "start_time": "2018-12-28T23:43:55.189614Z"
    }
   },
   "outputs": [],
   "source": [
    "X_sub = (X[~Y.isin([np.nan])])"
   ]
  },
  {
   "cell_type": "code",
   "execution_count": 378,
   "metadata": {
    "ExecuteTime": {
     "end_time": "2018-12-28T23:43:55.590375Z",
     "start_time": "2018-12-28T23:43:55.584265Z"
    }
   },
   "outputs": [],
   "source": [
    "y_sub = Y[~Y.isin([np.nan])]"
   ]
  },
  {
   "cell_type": "code",
   "execution_count": 384,
   "metadata": {
    "ExecuteTime": {
     "end_time": "2018-12-28T23:45:29.891750Z",
     "start_time": "2018-12-28T23:45:29.883439Z"
    }
   },
   "outputs": [
    {
     "name": "stderr",
     "output_type": "stream",
     "text": [
      "/home/auppal8/.local/lib/python3.6/site-packages/sklearn/linear_model/logistic.py:433: FutureWarning: Default solver will be changed to 'lbfgs' in 0.22. Specify a solver to silence this warning.\n",
      "  FutureWarning)\n"
     ]
    }
   ],
   "source": [
    "# logistic regression\n",
    "# labelling done....\n",
    "model = LogisticRegression(C=1.0)\n",
    "model = model.fit(X_sub,y_sub)"
   ]
  },
  {
   "cell_type": "code",
   "execution_count": 394,
   "metadata": {
    "ExecuteTime": {
     "end_time": "2018-12-28T23:50:50.096381Z",
     "start_time": "2018-12-28T23:50:50.088728Z"
    }
   },
   "outputs": [],
   "source": [
    "y_pred = (model.predict(X_sub))"
   ]
  },
  {
   "cell_type": "code",
   "execution_count": 395,
   "metadata": {
    "ExecuteTime": {
     "end_time": "2018-12-28T23:50:50.955560Z",
     "start_time": "2018-12-28T23:50:50.948884Z"
    }
   },
   "outputs": [],
   "source": [
    "score = accuracy_score(Y_pred, y_sub)"
   ]
  },
  {
   "cell_type": "markdown",
   "metadata": {},
   "source": [
    "### accuracy with the 57 labelled nodes..\n"
   ]
  },
  {
   "cell_type": "code",
   "execution_count": 396,
   "metadata": {
    "ExecuteTime": {
     "end_time": "2018-12-28T23:50:55.288150Z",
     "start_time": "2018-12-28T23:50:55.281337Z"
    }
   },
   "outputs": [
    {
     "data": {
      "text/plain": [
       "0.8596491228070176"
      ]
     },
     "execution_count": 396,
     "metadata": {},
     "output_type": "execute_result"
    }
   ],
   "source": [
    "score"
   ]
  },
  {
   "cell_type": "code",
   "execution_count": 397,
   "metadata": {
    "ExecuteTime": {
     "end_time": "2018-12-29T02:21:39.164017Z",
     "start_time": "2018-12-29T02:21:39.158612Z"
    }
   },
   "outputs": [],
   "source": [
    "# can now find propability of the remaining nodes...."
   ]
  },
  {
   "cell_type": "code",
   "execution_count": 402,
   "metadata": {
    "ExecuteTime": {
     "end_time": "2018-12-29T02:23:56.163128Z",
     "start_time": "2018-12-29T02:23:56.146374Z"
    }
   },
   "outputs": [
    {
     "data": {
      "text/plain": [
       "array([0.86769694, 0.13230306])"
      ]
     },
     "execution_count": 402,
     "metadata": {},
     "output_type": "execute_result"
    }
   ],
   "source": [
    "model.predict_proba(X)[3]"
   ]
  },
  {
   "cell_type": "code",
   "execution_count": 403,
   "metadata": {
    "ExecuteTime": {
     "end_time": "2018-12-29T02:24:35.652411Z",
     "start_time": "2018-12-29T02:24:35.648785Z"
    }
   },
   "outputs": [],
   "source": [
    "# start with algorithm"
   ]
  },
  {
   "cell_type": "code",
   "execution_count": null,
   "metadata": {},
   "outputs": [],
   "source": []
  }
 ],
 "metadata": {
  "kernelspec": {
   "display_name": "Python 3",
   "language": "python",
   "name": "python3"
  },
  "language_info": {
   "codemirror_mode": {
    "name": "ipython",
    "version": 3
   },
   "file_extension": ".py",
   "mimetype": "text/x-python",
   "name": "python",
   "nbconvert_exporter": "python",
   "pygments_lexer": "ipython3",
   "version": "3.6.7"
  }
 },
 "nbformat": 4,
 "nbformat_minor": 2
}
