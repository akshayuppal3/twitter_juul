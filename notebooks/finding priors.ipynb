{
 "cells": [
  {
   "cell_type": "code",
   "execution_count": 2,
   "metadata": {
    "ExecuteTime": {
     "end_time": "2019-01-01T15:21:36.755981Z",
     "start_time": "2019-01-01T15:21:16.751106Z"
    },
    "collapsed": true
   },
   "outputs": [],
   "source": [
    "import pandas as pd\n",
    "import numpy as np\n",
    "import nltk\n",
    "import re\n",
    "from datetime import date, datetime\n",
    "import time\n",
    "import matplotlib.pyplot as plt\n",
    "import urllib.request\n",
    "from tqdm import tqdm\n",
    "import pickle\n",
    "import spacy\n",
    "import random\n",
    "import ast\n",
    "import seaborn as sns\n",
    "import networkx as nx"
   ]
  },
  {
   "cell_type": "code",
   "execution_count": 23,
   "metadata": {
    "ExecuteTime": {
     "end_time": "2018-12-31T20:26:45.408850Z",
     "start_time": "2018-12-31T20:26:45.404084Z"
    },
    "collapsed": true
   },
   "outputs": [],
   "source": [
    "from sklearn.linear_model import LogisticRegression\n",
    "from sklearn.metrics import accuracy_score"
   ]
  },
  {
   "cell_type": "code",
   "execution_count": 24,
   "metadata": {
    "ExecuteTime": {
     "end_time": "2018-12-31T20:26:45.814491Z",
     "start_time": "2018-12-31T20:26:45.809765Z"
    },
    "collapsed": true
   },
   "outputs": [],
   "source": [
    "tqdm.pandas()"
   ]
  },
  {
   "cell_type": "code",
   "execution_count": 25,
   "metadata": {
    "ExecuteTime": {
     "end_time": "2018-12-31T20:26:46.228954Z",
     "start_time": "2018-12-31T20:26:46.219946Z"
    },
    "collapsed": true
   },
   "outputs": [],
   "source": [
    "pd.set_option('display.max_colwidth', -1)"
   ]
  },
  {
   "cell_type": "code",
   "execution_count": 26,
   "metadata": {
    "ExecuteTime": {
     "end_time": "2018-12-31T20:26:46.770440Z",
     "start_time": "2018-12-31T20:26:46.622996Z"
    },
    "collapsed": true
   },
   "outputs": [],
   "source": [
    "# getting the burst timeline..\n",
    "df_tweets = pd.read_csv('/home/auppal8/HexagonData_new.csv',lineterminator='\\n', index_col=None)"
   ]
  },
  {
   "cell_type": "code",
   "execution_count": 27,
   "metadata": {
    "ExecuteTime": {
     "end_time": "2018-12-31T20:26:58.199678Z",
     "start_time": "2018-12-31T20:26:46.911378Z"
    },
    "collapsed": true
   },
   "outputs": [],
   "source": [
    "df_timeline = pd.read_csv('/home/auppal8/userTimelineData.csv',lineterminator='\\n',)"
   ]
  },
  {
   "cell_type": "code",
   "execution_count": 28,
   "metadata": {
    "ExecuteTime": {
     "end_time": "2018-12-31T20:26:59.111071Z",
     "start_time": "2018-12-31T20:26:58.203426Z"
    },
    "collapsed": true
   },
   "outputs": [],
   "source": [
    "df_following = pd.read_excel('/home/auppal8/updatedfollowingData1117.xlsx', index_col=0)"
   ]
  },
  {
   "cell_type": "code",
   "execution_count": 29,
   "metadata": {
    "ExecuteTime": {
     "end_time": "2018-12-31T20:26:59.157582Z",
     "start_time": "2018-12-31T20:26:59.113793Z"
    },
    "collapsed": true
   },
   "outputs": [],
   "source": [
    "# following data for user...\n",
    "df_300 = pd.read_csv(\"~/Following300_1220.csv\",index_col=0)"
   ]
  },
  {
   "cell_type": "code",
   "execution_count": 30,
   "metadata": {
    "ExecuteTime": {
     "end_time": "2018-12-31T20:26:59.187269Z",
     "start_time": "2018-12-31T20:26:59.162153Z"
    },
    "collapsed": true
   },
   "outputs": [],
   "source": [
    "# getting the few labelled \n",
    "df_char = pd.read_csv(\"/home/auppal8/twitter_juul/input/user_characteristics.csv\",index_col=0,keep_default_na=False)"
   ]
  },
  {
   "cell_type": "code",
   "execution_count": 31,
   "metadata": {
    "ExecuteTime": {
     "end_time": "2018-12-31T20:26:59.195713Z",
     "start_time": "2018-12-31T20:26:59.191958Z"
    },
    "collapsed": true
   },
   "outputs": [],
   "source": [
    "#no of hashtags per tweet\n",
    "# url and then no of url per tweet\n",
    "# no of @user-mention per tweet\n",
    "# percentage of retweet per user (user retweets / total no of tweets)"
   ]
  },
  {
   "cell_type": "code",
   "execution_count": 32,
   "metadata": {
    "ExecuteTime": {
     "end_time": "2018-12-31T20:26:59.207183Z",
     "start_time": "2018-12-31T20:26:59.199906Z"
    },
    "collapsed": true
   },
   "outputs": [],
   "source": [
    "def hashtag_count(df):\n",
    "    if df is not np.nan:\n",
    "        hashtags = ast.literal_eval(df)\n",
    "        if (hashtags is not None):\n",
    "            return (len(hashtags))\n",
    "        else:\n",
    "            return(0)\n",
    "    else:\n",
    "        return(0)"
   ]
  },
  {
   "cell_type": "code",
   "execution_count": 33,
   "metadata": {
    "ExecuteTime": {
     "end_time": "2018-12-31T20:27:10.500047Z",
     "start_time": "2018-12-31T20:26:59.211304Z"
    },
    "collapsed": false,
    "scrolled": true
   },
   "outputs": [
    {
     "name": "stderr",
     "output_type": "stream",
     "text": [
      "100%|██████████| 1344182/1344182 [00:11<00:00, 121984.73it/s]\n"
     ]
    }
   ],
   "source": [
    "# count no of hashtags\n",
    "df_timeline['hashtags'] = df_timeline['hashtags'].progress_apply(hashtag_count)"
   ]
  },
  {
   "cell_type": "code",
   "execution_count": 34,
   "metadata": {
    "ExecuteTime": {
     "end_time": "2018-12-31T20:27:13.601737Z",
     "start_time": "2018-12-31T20:27:10.504180Z"
    },
    "collapsed": true
   },
   "outputs": [],
   "source": [
    "# find the occurence of urls\n",
    "df_timeline['urls_id'] = df_timeline['tweetText'].str.findall(r'(https?://\\S+)')"
   ]
  },
  {
   "cell_type": "code",
   "execution_count": 35,
   "metadata": {
    "ExecuteTime": {
     "end_time": "2018-12-31T20:27:15.366634Z",
     "start_time": "2018-12-31T20:27:13.605502Z"
    },
    "collapsed": true
   },
   "outputs": [],
   "source": [
    "# count the no of urls per tweet\n",
    "df_timeline['urls'] = df_timeline['tweetText'].str.count(r'(https?://\\S+)')"
   ]
  },
  {
   "cell_type": "code",
   "execution_count": 36,
   "metadata": {
    "ExecuteTime": {
     "end_time": "2018-12-31T20:27:17.007961Z",
     "start_time": "2018-12-31T20:27:15.369609Z"
    },
    "collapsed": true
   },
   "outputs": [],
   "source": [
    "# count no of user mentiosn per tweet\n",
    "df_timeline['author_mentions'] = df_timeline['tweetText'].str.count(r'(\\@\\w+)')"
   ]
  },
  {
   "cell_type": "code",
   "execution_count": 37,
   "metadata": {
    "ExecuteTime": {
     "end_time": "2018-12-31T20:27:17.763120Z",
     "start_time": "2018-12-31T20:27:17.011128Z"
    },
    "collapsed": true
   },
   "outputs": [],
   "source": [
    "# just to get avergae user mentions per user\n",
    "df_user = df_timeline.groupby(df_timeline['userID']).agg({'author_mentions': 'median',\n",
    "                                                          'urls' : 'median',\n",
    "                                                          'retweetCount' : 'sum'})"
   ]
  },
  {
   "cell_type": "code",
   "execution_count": 38,
   "metadata": {
    "ExecuteTime": {
     "end_time": "2018-12-31T20:27:17.786344Z",
     "start_time": "2018-12-31T20:27:17.765896Z"
    },
    "collapsed": true,
    "scrolled": true
   },
   "outputs": [],
   "source": [
    "total = df_user['retweetCount'].sum()\n",
    "df_user['retweetCount'] = df_user['retweetCount'].apply(lambda x: (x/total) * 100)"
   ]
  },
  {
   "cell_type": "code",
   "execution_count": 39,
   "metadata": {
    "ExecuteTime": {
     "end_time": "2018-12-31T20:27:17.804583Z",
     "start_time": "2018-12-31T20:27:17.788991Z"
    },
    "collapsed": false,
    "scrolled": true
   },
   "outputs": [
    {
     "data": {
      "text/plain": [
       "Index(['favourites_count', 'friendList', 'friendsCount', 'hashtags',\n",
       "       'imageurl', 'lang', 'retweetCount', 'retweeted', 'tweetCreatedAt',\n",
       "       'tweetId', 'tweetText', 'userCreatedAt', 'userDescription',\n",
       "       'userFollowersCount', 'userID', 'userLocation', 'userName', 'urls_id',\n",
       "       'urls', 'author_mentions'],\n",
       "      dtype='object')"
      ]
     },
     "execution_count": 39,
     "metadata": {},
     "output_type": "execute_result"
    }
   ],
   "source": [
    "df_timeline.columns"
   ]
  },
  {
   "cell_type": "code",
   "execution_count": 40,
   "metadata": {
    "ExecuteTime": {
     "end_time": "2018-12-31T20:27:17.812062Z",
     "start_time": "2018-12-31T20:27:17.807182Z"
    },
    "collapsed": true
   },
   "outputs": [],
   "source": [
    "# start with behavious characteristics\n",
    "# max, min and average no of tweets per day  --done\n",
    "# max, min time , average time interval between consecutive tweets --done\n",
    "# total no of tweets\n",
    "# no of unique urls"
   ]
  },
  {
   "cell_type": "code",
   "execution_count": 41,
   "metadata": {
    "ExecuteTime": {
     "end_time": "2018-12-31T20:27:18.379303Z",
     "start_time": "2018-12-31T20:27:17.815661Z"
    },
    "collapsed": true,
    "scrolled": true
   },
   "outputs": [],
   "source": [
    "df_timeline['tweetCreatedAt'] = pd.to_datetime(df_timeline.tweetCreatedAt)"
   ]
  },
  {
   "cell_type": "code",
   "execution_count": 42,
   "metadata": {
    "ExecuteTime": {
     "end_time": "2018-12-31T20:27:19.105586Z",
     "start_time": "2018-12-31T20:27:18.381829Z"
    },
    "collapsed": true
   },
   "outputs": [],
   "source": [
    "df_tweets = df_timeline.groupby([df_timeline['userID'],df_timeline['tweetCreatedAt'].dt.date])['tweetId'].agg('count')\n"
   ]
  },
  {
   "cell_type": "code",
   "execution_count": 43,
   "metadata": {
    "ExecuteTime": {
     "end_time": "2018-12-31T20:27:19.115944Z",
     "start_time": "2018-12-31T20:27:19.108065Z"
    },
    "collapsed": true
   },
   "outputs": [],
   "source": [
    "df_tweets = pd.DataFrame(df_tweets)"
   ]
  },
  {
   "cell_type": "code",
   "execution_count": 44,
   "metadata": {
    "ExecuteTime": {
     "end_time": "2018-12-31T20:27:19.241204Z",
     "start_time": "2018-12-31T20:27:19.127424Z"
    },
    "collapsed": true
   },
   "outputs": [],
   "source": [
    "# avg, min and max tweets\n",
    "df_user['min_tweets'] = df_tweets.reset_index(level=0).groupby(['userID']).min()\n",
    "df_user['max_tweets'] = df_tweets.reset_index(level=0).groupby(['userID']).max()\n",
    "df_user['avg_tweets'] = df_tweets.reset_index(level=0).groupby(['userID']).mean()"
   ]
  },
  {
   "cell_type": "code",
   "execution_count": 45,
   "metadata": {
    "ExecuteTime": {
     "end_time": "2018-12-31T20:27:19.285689Z",
     "start_time": "2018-12-31T20:27:19.246749Z"
    },
    "collapsed": true
   },
   "outputs": [],
   "source": [
    "df_tweets['diff'] = df_tweets.reset_index(level=0).index"
   ]
  },
  {
   "cell_type": "code",
   "execution_count": 46,
   "metadata": {
    "ExecuteTime": {
     "end_time": "2018-12-31T20:27:21.290987Z",
     "start_time": "2018-12-31T20:27:19.288462Z"
    },
    "collapsed": true
   },
   "outputs": [],
   "source": [
    "df_tweets['diff'] = abs(df_tweets['diff'] - df_tweets['diff'].shift())"
   ]
  },
  {
   "cell_type": "code",
   "execution_count": 47,
   "metadata": {
    "ExecuteTime": {
     "end_time": "2018-12-31T20:27:25.688858Z",
     "start_time": "2018-12-31T20:27:21.293474Z"
    },
    "collapsed": true,
    "scrolled": true
   },
   "outputs": [],
   "source": [
    "df_tweets['diff'] = df_tweets['diff'].apply(lambda x: x.days)"
   ]
  },
  {
   "cell_type": "code",
   "execution_count": 48,
   "metadata": {
    "ExecuteTime": {
     "end_time": "2018-12-31T20:27:25.795891Z",
     "start_time": "2018-12-31T20:27:25.691386Z"
    },
    "collapsed": true
   },
   "outputs": [],
   "source": [
    "# min , max , avg no of days in consecutive intervals..and total no of tweets\n",
    "df_user['min_interval'] = df_tweets.reset_index(level=0).groupby(['userID'])['diff'].min()\n",
    "df_user['max_interval'] = df_tweets.reset_index(level=0).groupby(['userID'])['diff'].max()\n",
    "df_user['avg_interval'] = df_tweets.reset_index(level=0).groupby(['userID'])['diff'].mean()\n",
    "df_user['total_tweets'] = df_tweets.groupby(['userID'])['tweetId'].sum()"
   ]
  },
  {
   "cell_type": "code",
   "execution_count": 49,
   "metadata": {
    "ExecuteTime": {
     "end_time": "2018-12-31T20:27:27.621346Z",
     "start_time": "2018-12-31T20:27:25.798530Z"
    },
    "collapsed": true
   },
   "outputs": [],
   "source": [
    "df_user['total_urls'] = df_timeline.groupby(['userID']).urls_id.sum().apply(lambda x: len(set(x)))"
   ]
  },
  {
   "cell_type": "code",
   "execution_count": 50,
   "metadata": {
    "ExecuteTime": {
     "end_time": "2018-12-31T20:27:27.987597Z",
     "start_time": "2018-12-31T20:27:27.623990Z"
    },
    "collapsed": true,
    "scrolled": true
   },
   "outputs": [],
   "source": [
    "df_userNames = (df_timeline[['userID','userName','imageurl']].drop_duplicates()).reset_index(drop=True)"
   ]
  },
  {
   "cell_type": "code",
   "execution_count": 51,
   "metadata": {
    "ExecuteTime": {
     "end_time": "2018-12-31T20:27:28.030414Z",
     "start_time": "2018-12-31T20:27:27.990406Z"
    },
    "collapsed": true
   },
   "outputs": [],
   "source": [
    "df_user =  df_userNames.join(df_user, on='userID')"
   ]
  },
  {
   "cell_type": "code",
   "execution_count": 52,
   "metadata": {
    "ExecuteTime": {
     "end_time": "2018-12-31T20:27:28.039757Z",
     "start_time": "2018-12-31T20:27:28.033141Z"
    },
    "collapsed": false
   },
   "outputs": [
    {
     "data": {
      "text/plain": [
       "Index(['userID', 'userName', 'Promoter/not', 'author_mentions', 'urls',\n",
       "       'retweetCount', 'min_tweets', 'max_tweets', 'avg_tweets',\n",
       "       'min_interval', 'max_interval', 'avg_interval', 'total_urls',\n",
       "       'total_tweets'],\n",
       "      dtype='object')"
      ]
     },
     "execution_count": 52,
     "metadata": {},
     "output_type": "execute_result"
    }
   ],
   "source": [
    "df_char.columns"
   ]
  },
  {
   "cell_type": "code",
   "execution_count": 53,
   "metadata": {
    "ExecuteTime": {
     "end_time": "2018-12-31T20:27:28.048801Z",
     "start_time": "2018-12-31T20:27:28.043769Z"
    },
    "collapsed": true
   },
   "outputs": [],
   "source": [
    "Y = df_char['Promoter/not']"
   ]
  },
  {
   "cell_type": "code",
   "execution_count": 54,
   "metadata": {
    "ExecuteTime": {
     "end_time": "2018-12-31T20:27:28.061047Z",
     "start_time": "2018-12-31T20:27:28.052596Z"
    },
    "collapsed": true
   },
   "outputs": [],
   "source": [
    "X = df_char[df_char.columns[~df_char.columns.isin(['userID','userName','Promoter/not'])]]"
   ]
  },
  {
   "cell_type": "code",
   "execution_count": 55,
   "metadata": {
    "ExecuteTime": {
     "end_time": "2018-12-31T20:27:28.074542Z",
     "start_time": "2018-12-31T20:27:28.065229Z"
    },
    "collapsed": true
   },
   "outputs": [],
   "source": [
    "# repalcing the NA values with NAN\n",
    "Y = Y.replace('NA',np.nan)"
   ]
  },
  {
   "cell_type": "markdown",
   "metadata": {},
   "source": [
    "##### selcting that are not NaN"
   ]
  },
  {
   "cell_type": "code",
   "execution_count": 56,
   "metadata": {
    "ExecuteTime": {
     "end_time": "2018-12-31T20:27:28.086129Z",
     "start_time": "2018-12-31T20:27:28.078501Z"
    },
    "collapsed": true
   },
   "outputs": [],
   "source": [
    "X_sub = (X[~Y.isin([np.nan])])"
   ]
  },
  {
   "cell_type": "code",
   "execution_count": 57,
   "metadata": {
    "ExecuteTime": {
     "end_time": "2018-12-31T20:27:28.096839Z",
     "start_time": "2018-12-31T20:27:28.089996Z"
    },
    "collapsed": true
   },
   "outputs": [],
   "source": [
    "y_sub = Y[~Y.isin([np.nan])]"
   ]
  },
  {
   "cell_type": "code",
   "execution_count": 58,
   "metadata": {
    "ExecuteTime": {
     "end_time": "2018-12-31T20:27:28.104927Z",
     "start_time": "2018-12-31T20:27:28.101086Z"
    },
    "collapsed": true
   },
   "outputs": [],
   "source": [
    "# traing the model on the values that have been manually labelled"
   ]
  },
  {
   "cell_type": "code",
   "execution_count": 59,
   "metadata": {
    "ExecuteTime": {
     "end_time": "2018-12-31T20:27:28.169357Z",
     "start_time": "2018-12-31T20:27:28.108956Z"
    },
    "collapsed": false
   },
   "outputs": [
    {
     "name": "stderr",
     "output_type": "stream",
     "text": [
      "/home/auppal8/.local/lib/python3.6/site-packages/sklearn/linear_model/logistic.py:433: FutureWarning: Default solver will be changed to 'lbfgs' in 0.22. Specify a solver to silence this warning.\n",
      "  FutureWarning)\n"
     ]
    }
   ],
   "source": [
    "# logistic regression\n",
    "# labelling done....\n",
    "model = LogisticRegression(C=1.0)\n",
    "model = model.fit(X_sub,y_sub)"
   ]
  },
  {
   "cell_type": "code",
   "execution_count": 60,
   "metadata": {
    "ExecuteTime": {
     "end_time": "2018-12-31T20:27:28.194459Z",
     "start_time": "2018-12-31T20:27:28.173360Z"
    },
    "collapsed": true
   },
   "outputs": [],
   "source": [
    "# pickle the model\n",
    "with open(\"lr_model\",\"wb\") as f:\n",
    "    pickle.dump(model,f)"
   ]
  },
  {
   "cell_type": "code",
   "execution_count": 77,
   "metadata": {
    "ExecuteTime": {
     "end_time": "2018-12-31T20:28:23.351300Z",
     "start_time": "2018-12-31T20:28:23.344744Z"
    },
    "collapsed": true
   },
   "outputs": [],
   "source": [
    "y_pred = (model.predict(X_sub))"
   ]
  },
  {
   "cell_type": "markdown",
   "metadata": {},
   "source": [
    "### accuracy with the 57 manually labelled nodes..\n"
   ]
  },
  {
   "cell_type": "code",
   "execution_count": 76,
   "metadata": {
    "ExecuteTime": {
     "end_time": "2018-12-31T20:28:08.832028Z",
     "start_time": "2018-12-31T20:28:08.806286Z"
    },
    "collapsed": false
   },
   "outputs": [
    {
     "ename": "NameError",
     "evalue": "name 'score' is not defined",
     "output_type": "error",
     "traceback": [
      "\u001b[0;31m---------------------------------------------------------------------------\u001b[0m",
      "\u001b[0;31mNameError\u001b[0m                                 Traceback (most recent call last)",
      "\u001b[0;32m<ipython-input-76-d2d780e36333>\u001b[0m in \u001b[0;36m<module>\u001b[0;34m\u001b[0m\n\u001b[0;32m----> 1\u001b[0;31m \u001b[0mscore\u001b[0m\u001b[0;34m\u001b[0m\u001b[0;34m\u001b[0m\u001b[0m\n\u001b[0m",
      "\u001b[0;31mNameError\u001b[0m: name 'score' is not defined"
     ]
    }
   ],
   "source": [
    "score"
   ]
  },
  {
   "cell_type": "code",
   "execution_count": null,
   "metadata": {
    "ExecuteTime": {
     "end_time": "2018-12-31T20:27:28.245556Z",
     "start_time": "2018-12-31T20:27:31.388Z"
    },
    "collapsed": true
   },
   "outputs": [],
   "source": [
    "# can now find propability of the remaining nodes...."
   ]
  },
  {
   "cell_type": "code",
   "execution_count": 78,
   "metadata": {
    "ExecuteTime": {
     "end_time": "2018-12-31T20:28:42.088672Z",
     "start_time": "2018-12-31T20:28:42.059076Z"
    },
    "collapsed": false
   },
   "outputs": [
    {
     "data": {
      "text/plain": [
       "0"
      ]
     },
     "execution_count": 78,
     "metadata": {},
     "output_type": "execute_result"
    }
   ],
   "source": [
    "# so first class is negative and second value pos..\n",
    "np.argmax(model.predict_proba(X)[3])"
   ]
  },
  {
   "cell_type": "code",
   "execution_count": 79,
   "metadata": {
    "ExecuteTime": {
     "end_time": "2018-12-31T20:28:43.460090Z",
     "start_time": "2018-12-31T20:28:43.454465Z"
    },
    "collapsed": false
   },
   "outputs": [
    {
     "data": {
      "text/plain": [
       "array(['0', '1'], dtype=object)"
      ]
     },
     "execution_count": 79,
     "metadata": {},
     "output_type": "execute_result"
    }
   ],
   "source": [
    "# so first class is negative and second value pos..\n",
    "# first 0 : non promoter\n",
    "# second 1 : promoter\n",
    "model.classes_"
   ]
  },
  {
   "cell_type": "code",
   "execution_count": 1,
   "metadata": {
    "ExecuteTime": {
     "end_time": "2019-01-01T15:21:12.436213Z",
     "start_time": "2019-01-01T15:21:11.822892Z"
    },
    "collapsed": false
   },
   "outputs": [
    {
     "ename": "NameError",
     "evalue": "name 'pickle' is not defined",
     "output_type": "error",
     "traceback": [
      "\u001b[0;31m---------------------------------------------------------------------------\u001b[0m",
      "\u001b[0;31mNameError\u001b[0m                                 Traceback (most recent call last)",
      "\u001b[0;32m<ipython-input-1-03eec9b5baa7>\u001b[0m in \u001b[0;36m<module>\u001b[0;34m\u001b[0m\n\u001b[1;32m      1\u001b[0m \u001b[0;31m# now will classify randomly smapled 300 users..from the timeline and their urls...as just to set some...\u001b[0m\u001b[0;34m\u001b[0m\u001b[0;34m\u001b[0m\u001b[0;34m\u001b[0m\u001b[0m\n\u001b[0;32m----> 2\u001b[0;31m \u001b[0muserIdR\u001b[0m \u001b[0;34m=\u001b[0m \u001b[0mpickle\u001b[0m\u001b[0;34m.\u001b[0m\u001b[0mload\u001b[0m\u001b[0;34m(\u001b[0m \u001b[0mopen\u001b[0m\u001b[0;34m(\u001b[0m \u001b[0;34m\"userIdR\"\u001b[0m\u001b[0;34m,\u001b[0m \u001b[0;34m\"rb\"\u001b[0m \u001b[0;34m)\u001b[0m \u001b[0;34m)\u001b[0m\u001b[0;34m\u001b[0m\u001b[0;34m\u001b[0m\u001b[0m\n\u001b[0m",
      "\u001b[0;31mNameError\u001b[0m: name 'pickle' is not defined"
     ]
    }
   ],
   "source": [
    "# now will classify randomly smapled 300 users..from the timeline and their urls...as just to set some...\n",
    "userIdR = pickle.load( open( \"userIdR\", \"rb\" ) )"
   ]
  },
  {
   "cell_type": "code",
   "execution_count": 81,
   "metadata": {
    "ExecuteTime": {
     "end_time": "2018-12-31T20:28:45.987813Z",
     "start_time": "2018-12-31T20:28:45.984048Z"
    },
    "collapsed": true
   },
   "outputs": [],
   "source": [
    "# check where is positive and negative by predict proba..\n",
    "# classify all the users based on the logistic regression..\n",
    "# get the url and burst priors.."
   ]
  },
  {
   "cell_type": "code",
   "execution_count": 82,
   "metadata": {
    "ExecuteTime": {
     "end_time": "2018-12-31T20:28:46.682399Z",
     "start_time": "2018-12-31T20:28:46.674553Z"
    },
    "collapsed": true
   },
   "outputs": [],
   "source": [
    "# getting users that are randomly sampled out of 300\n",
    "df_user_sub = df_user[df_user.userID.isin(userIdR)]"
   ]
  },
  {
   "cell_type": "code",
   "execution_count": 83,
   "metadata": {
    "ExecuteTime": {
     "end_time": "2018-12-31T20:28:47.109291Z",
     "start_time": "2018-12-31T20:28:47.105134Z"
    },
    "collapsed": true
   },
   "outputs": [],
   "source": [
    "df_user_sub.reset_index(inplace=True,drop=True)"
   ]
  },
  {
   "cell_type": "code",
   "execution_count": 84,
   "metadata": {
    "ExecuteTime": {
     "end_time": "2018-12-31T20:28:47.439537Z",
     "start_time": "2018-12-31T20:28:47.432559Z"
    },
    "collapsed": true
   },
   "outputs": [],
   "source": [
    "X_300 = df_user[df_user.userID.isin(userIdR)]"
   ]
  },
  {
   "cell_type": "code",
   "execution_count": 85,
   "metadata": {
    "ExecuteTime": {
     "end_time": "2018-12-31T20:28:48.001013Z",
     "start_time": "2018-12-31T20:28:47.994091Z"
    },
    "collapsed": true
   },
   "outputs": [],
   "source": [
    "# removing the other columns now\n",
    "independent_variables = X_300[X_300.columns[~X_300.columns.isin(['userID','userName','imageurl'])]]"
   ]
  },
  {
   "cell_type": "code",
   "execution_count": 86,
   "metadata": {
    "ExecuteTime": {
     "end_time": "2018-12-31T20:28:48.731657Z",
     "start_time": "2018-12-31T20:28:48.726490Z"
    },
    "collapsed": true
   },
   "outputs": [],
   "source": [
    "# so first class is negative and second value pos..\n",
    "user_prior = model.predict_proba(independent_variables)"
   ]
  },
  {
   "cell_type": "code",
   "execution_count": 87,
   "metadata": {
    "ExecuteTime": {
     "end_time": "2018-12-31T20:28:49.334363Z",
     "start_time": "2018-12-31T20:28:49.324928Z"
    },
    "collapsed": false
   },
   "outputs": [
    {
     "data": {
      "text/plain": [
       "300"
      ]
     },
     "execution_count": 87,
     "metadata": {},
     "output_type": "execute_result"
    }
   ],
   "source": [
    "# class probabilities for all of the classes\n",
    "len(user_prior)"
   ]
  },
  {
   "cell_type": "code",
   "execution_count": 88,
   "metadata": {
    "ExecuteTime": {
     "end_time": "2018-12-31T20:28:50.235589Z",
     "start_time": "2018-12-31T20:28:50.207954Z"
    },
    "collapsed": true
   },
   "outputs": [],
   "source": [
    "user_priors = pd.DataFrame({ 'userID':X_300.userID.values,\n",
    "               'nprom':[x[0] for x in user_prior],\n",
    "               'prom':[x[1] for x in user_prior]}) \n",
    "user_priors.to_csv(\"user_priors\")"
   ]
  },
  {
   "cell_type": "code",
   "execution_count": 89,
   "metadata": {
    "ExecuteTime": {
     "end_time": "2018-12-31T20:28:50.748673Z",
     "start_time": "2018-12-31T20:28:50.743362Z"
    },
    "collapsed": true
   },
   "outputs": [],
   "source": [
    "# as we have less labelled for user we are going to use the label from the classifier.. \n",
    "# these are used for calc url priors\n",
    "y_pred_300 =  model.predict(independent_variables)"
   ]
  },
  {
   "cell_type": "code",
   "execution_count": 90,
   "metadata": {
    "ExecuteTime": {
     "end_time": "2018-12-31T20:28:51.664560Z",
     "start_time": "2018-12-31T20:28:51.660943Z"
    },
    "collapsed": true
   },
   "outputs": [],
   "source": [
    "# checking which is more probable for promoter and which for non promoter.. testing not used..fwd.."
   ]
  },
  {
   "cell_type": "code",
   "execution_count": 91,
   "metadata": {
    "ExecuteTime": {
     "end_time": "2018-12-31T20:28:53.754456Z",
     "start_time": "2018-12-31T20:28:53.745560Z"
    },
    "collapsed": false
   },
   "outputs": [
    {
     "data": {
      "text/plain": [
       "130"
      ]
     },
     "execution_count": 91,
     "metadata": {},
     "output_type": "execute_result"
    }
   ],
   "source": [
    "promoter = (X_300[[True if x is '1' else False for x in y_pred_300]])\n",
    "len(promoter) #90\n",
    "non_promoter = (X_300[[True if x is '0' else False for x in y_pred_300]])\n",
    "len(non_promoter) #210"
   ]
  },
  {
   "cell_type": "code",
   "execution_count": 93,
   "metadata": {
    "ExecuteTime": {
     "end_time": "2018-12-31T20:29:12.197959Z",
     "start_time": "2018-12-31T20:29:12.193297Z"
    },
    "collapsed": true
   },
   "outputs": [],
   "source": [
    "def count_urls(lst):\n",
    "    url_list = list()\n",
    "    for element in lst:\n",
    "        url_list.extend(element)\n",
    "    return url_list"
   ]
  },
  {
   "cell_type": "code",
   "execution_count": 94,
   "metadata": {
    "ExecuteTime": {
     "end_time": "2018-12-31T20:29:13.495259Z",
     "start_time": "2018-12-31T20:29:12.607815Z"
    },
    "collapsed": true,
    "scrolled": true
   },
   "outputs": [],
   "source": [
    "# getting all the urls and then checking by the count if it is promoter or non promoter\n",
    "df_total = pd.merge(X_300[['userID']],df_timeline, how = 'left')\n",
    "df_total['urls'] = df_total['tweetText'].str.findall(r'(https?://\\S+)')\n",
    "urls = count_urls(df_total['urls'])"
   ]
  },
  {
   "cell_type": "markdown",
   "metadata": {},
   "source": [
    "### Urls priors"
   ]
  },
  {
   "cell_type": "code",
   "execution_count": 95,
   "metadata": {
    "ExecuteTime": {
     "end_time": "2018-12-31T20:29:15.856936Z",
     "start_time": "2018-12-31T20:29:14.301831Z"
    },
    "collapsed": true
   },
   "outputs": [],
   "source": [
    "# getting the labelled promoter and non promoter\n",
    "df_promo = pd.merge(promoter[['userID']], df_timeline, how= 'left')\n",
    "df_nonpromo = pd.merge(non_promoter[['userID']], df_timeline, how= 'left')"
   ]
  },
  {
   "cell_type": "code",
   "execution_count": 96,
   "metadata": {
    "ExecuteTime": {
     "end_time": "2018-12-31T20:29:15.941837Z",
     "start_time": "2018-12-31T20:29:15.861897Z"
    },
    "collapsed": true
   },
   "outputs": [],
   "source": [
    "# getting the url priors\n",
    "df_promo['urls'] = df_promo['tweetText'].str.findall(r'(https?://\\S+)')\n",
    "df_nonpromo['urls'] = df_nonpromo['tweetText'].str.findall(r'(https?://\\S+)')"
   ]
  },
  {
   "cell_type": "code",
   "execution_count": 97,
   "metadata": {
    "ExecuteTime": {
     "end_time": "2018-12-31T20:29:15.960612Z",
     "start_time": "2018-12-31T20:29:15.945328Z"
    },
    "collapsed": true
   },
   "outputs": [],
   "source": [
    "# getting the promoter urls..\n",
    "prom_urls = count_urls(df_promo['urls'])\n",
    "nprom_urls = count_urls(df_nonpromo['urls'])"
   ]
  },
  {
   "cell_type": "code",
   "execution_count": 98,
   "metadata": {
    "ExecuteTime": {
     "end_time": "2018-12-31T20:30:37.081179Z",
     "start_time": "2018-12-31T20:29:15.983836Z"
    },
    "collapsed": false,
    "scrolled": true
   },
   "outputs": [
    {
     "name": "stderr",
     "output_type": "stream",
     "text": [
      " 36%|███▌      | 19412/54120 [01:20<02:39, 217.89it/s]"
     ]
    },
    {
     "ename": "KeyboardInterrupt",
     "evalue": "",
     "output_type": "error",
     "traceback": [
      "\u001b[0;31m---------------------------------------------------------------------------\u001b[0m",
      "\u001b[0;31mKeyboardInterrupt\u001b[0m                         Traceback (most recent call last)",
      "\u001b[0;32m<ipython-input-98-de475a368f6a>\u001b[0m in \u001b[0;36m<module>\u001b[0;34m\u001b[0m\n\u001b[1;32m      8\u001b[0m         \u001b[0mp_count\u001b[0m \u001b[0;34m=\u001b[0m \u001b[0mprom_urls\u001b[0m\u001b[0;34m.\u001b[0m\u001b[0mcount\u001b[0m\u001b[0;34m(\u001b[0m\u001b[0murl\u001b[0m\u001b[0;34m)\u001b[0m\u001b[0;34m\u001b[0m\u001b[0;34m\u001b[0m\u001b[0m\n\u001b[1;32m      9\u001b[0m     \u001b[0;32mif\u001b[0m \u001b[0murl\u001b[0m \u001b[0;32min\u001b[0m \u001b[0mnprom_urls\u001b[0m\u001b[0;34m:\u001b[0m\u001b[0;34m\u001b[0m\u001b[0;34m\u001b[0m\u001b[0m\n\u001b[0;32m---> 10\u001b[0;31m         \u001b[0mn_count\u001b[0m \u001b[0;34m=\u001b[0m \u001b[0mnprom_urls\u001b[0m\u001b[0;34m.\u001b[0m\u001b[0mcount\u001b[0m\u001b[0;34m(\u001b[0m\u001b[0murl\u001b[0m\u001b[0;34m)\u001b[0m\u001b[0;34m\u001b[0m\u001b[0;34m\u001b[0m\u001b[0m\n\u001b[0m\u001b[1;32m     11\u001b[0m     \u001b[0mnprom\u001b[0m \u001b[0;34m=\u001b[0m \u001b[0;34m(\u001b[0m\u001b[0mn_count\u001b[0m \u001b[0;34m+\u001b[0m \u001b[0malpha\u001b[0m\u001b[0;34m)\u001b[0m \u001b[0;34m/\u001b[0m \u001b[0;34m(\u001b[0m\u001b[0mn_count\u001b[0m \u001b[0;34m+\u001b[0m \u001b[0mp_count\u001b[0m \u001b[0;34m+\u001b[0m \u001b[0;34m(\u001b[0m\u001b[0;36m2\u001b[0m\u001b[0;34m*\u001b[0m\u001b[0malpha\u001b[0m\u001b[0;34m)\u001b[0m\u001b[0;34m)\u001b[0m\u001b[0;34m\u001b[0m\u001b[0;34m\u001b[0m\u001b[0m\n\u001b[1;32m     12\u001b[0m     \u001b[0mprom\u001b[0m \u001b[0;34m=\u001b[0m \u001b[0;34m(\u001b[0m\u001b[0mp_count\u001b[0m \u001b[0;34m+\u001b[0m \u001b[0malpha\u001b[0m\u001b[0;34m)\u001b[0m \u001b[0;34m/\u001b[0m \u001b[0;34m(\u001b[0m\u001b[0mn_count\u001b[0m \u001b[0;34m+\u001b[0m \u001b[0mp_count\u001b[0m \u001b[0;34m+\u001b[0m \u001b[0;34m(\u001b[0m\u001b[0;36m2\u001b[0m\u001b[0;34m*\u001b[0m\u001b[0malpha\u001b[0m\u001b[0;34m)\u001b[0m\u001b[0;34m)\u001b[0m\u001b[0;34m\u001b[0m\u001b[0;34m\u001b[0m\u001b[0m\n",
      "\u001b[0;31mKeyboardInterrupt\u001b[0m: "
     ]
    }
   ],
   "source": [
    "# prior dataFrame\n",
    "priors_list = pd.DataFrame()\n",
    "alpha = 1\n",
    "for url in tqdm(urls):\n",
    "    p_count = 0\n",
    "    n_count = 0\n",
    "    if url in prom_urls:\n",
    "        p_count = prom_urls.count(url)\n",
    "    if url in nprom_urls:\n",
    "        n_count = nprom_urls.count(url)\n",
    "    nprom = (n_count + alpha) / (n_count + p_count + (2*alpha)) \n",
    "    prom = (p_count + alpha) / (n_count + p_count + (2*alpha))\n",
    "    data = pd.DataFrame.from_records([{\n",
    "                'url':url,\n",
    "                'nprom':nprom,\n",
    "                'prom':prom\n",
    "    }],index=[0])\n",
    "    priors_list = priors_list.append(data,ignore_index=True)\n",
    "url_priors = priors_list.reindex(['url','nprom','prom'],axis=1)\n",
    "url_priors.to_csv('url_priors')"
   ]
  },
  {
   "cell_type": "markdown",
   "metadata": {},
   "source": [
    "### Burst priors"
   ]
  },
  {
   "cell_type": "code",
   "execution_count": 99,
   "metadata": {
    "ExecuteTime": {
     "end_time": "2018-12-31T20:30:39.996661Z",
     "start_time": "2018-12-31T20:30:39.993336Z"
    },
    "collapsed": true
   },
   "outputs": [],
   "source": [
    "# group by the users (prmoter and non promoter) and then the no of tweets per day for both and then find the\n",
    "# corresponding value for both the promoter and non promoter during burst times.."
   ]
  },
  {
   "cell_type": "code",
   "execution_count": 100,
   "metadata": {
    "ExecuteTime": {
     "end_time": "2018-12-31T20:30:40.265107Z",
     "start_time": "2018-12-31T20:30:40.245063Z"
    },
    "collapsed": true
   },
   "outputs": [],
   "source": [
    "peaks = pickle.load(open(\"peaks.pkl\",'rb'))"
   ]
  },
  {
   "cell_type": "code",
   "execution_count": 101,
   "metadata": {
    "ExecuteTime": {
     "end_time": "2018-12-31T20:30:42.006113Z",
     "start_time": "2018-12-31T20:30:41.998076Z"
    },
    "collapsed": true
   },
   "outputs": [],
   "source": [
    "# finding no of users \n",
    "df_promo['tweetCreatedAt'] = pd.to_datetime(df_promo.tweetCreatedAt)\n",
    "df_nonpromo['tweetCreatedAt'] = pd.to_datetime(df_nonpromo.tweetCreatedAt)"
   ]
  },
  {
   "cell_type": "code",
   "execution_count": 102,
   "metadata": {
    "ExecuteTime": {
     "end_time": "2018-12-31T20:30:42.385048Z",
     "start_time": "2018-12-31T20:30:42.232057Z"
    },
    "collapsed": false
   },
   "outputs": [
    {
     "name": "stderr",
     "output_type": "stream",
     "text": [
      "/home/auppal8/anaconda3/envs/juul/lib/python3.6/site-packages/ipykernel_launcher.py:1: FutureWarning: using a dict on a Series for aggregation\n",
      "is deprecated and will be removed in a future version\n",
      "  \"\"\"Entry point for launching an IPython kernel.\n"
     ]
    }
   ],
   "source": [
    "ds_promo =  df_promo.groupby(by = [df_promo['tweetCreatedAt'].dt.date])['tweetId'].agg({\"count\":pd.Series.nunique})\n"
   ]
  },
  {
   "cell_type": "code",
   "execution_count": 103,
   "metadata": {
    "ExecuteTime": {
     "end_time": "2018-12-31T20:30:42.733672Z",
     "start_time": "2018-12-31T20:30:42.595381Z"
    },
    "collapsed": false
   },
   "outputs": [
    {
     "name": "stderr",
     "output_type": "stream",
     "text": [
      "/home/auppal8/anaconda3/envs/juul/lib/python3.6/site-packages/ipykernel_launcher.py:1: FutureWarning: using a dict on a Series for aggregation\n",
      "is deprecated and will be removed in a future version\n",
      "  \"\"\"Entry point for launching an IPython kernel.\n"
     ]
    }
   ],
   "source": [
    "ds_npromo =  df_nonpromo.groupby(by = [df_nonpromo['tweetCreatedAt'].dt.date])['tweetId'].agg({\"count\":pd.Series.nunique})\n"
   ]
  },
  {
   "cell_type": "code",
   "execution_count": 106,
   "metadata": {
    "ExecuteTime": {
     "end_time": "2018-12-31T20:30:52.938356Z",
     "start_time": "2018-12-31T20:30:52.924543Z"
    },
    "collapsed": true,
    "scrolled": true
   },
   "outputs": [],
   "source": [
    "# converting date time compatible\n",
    "per1 = pd.DatetimeIndex(ds_promo.index).to_period(\"M\")\n",
    "ds_promo = ds_promo.groupby(per1).sum()"
   ]
  },
  {
   "cell_type": "code",
   "execution_count": 107,
   "metadata": {
    "ExecuteTime": {
     "end_time": "2018-12-31T20:30:54.027741Z",
     "start_time": "2018-12-31T20:30:53.952953Z"
    },
    "collapsed": false
   },
   "outputs": [
    {
     "ename": "TypeError",
     "evalue": "Argument 'values' has incorrect type (expected numpy.ndarray, got Index)",
     "output_type": "error",
     "traceback": [
      "\u001b[0;31m---------------------------------------------------------------------------\u001b[0m",
      "\u001b[0;31mTypeError\u001b[0m                                 Traceback (most recent call last)",
      "\u001b[0;32m<ipython-input-107-ae64bdf4abbf>\u001b[0m in \u001b[0;36m<module>\u001b[0;34m\u001b[0m\n\u001b[0;32m----> 1\u001b[0;31m \u001b[0mper2\u001b[0m \u001b[0;34m=\u001b[0m \u001b[0mpd\u001b[0m\u001b[0;34m.\u001b[0m\u001b[0mDatetimeIndex\u001b[0m\u001b[0;34m(\u001b[0m\u001b[0mds_npromo\u001b[0m\u001b[0;34m.\u001b[0m\u001b[0mindex\u001b[0m\u001b[0;34m)\u001b[0m\u001b[0;34m.\u001b[0m\u001b[0mto_period\u001b[0m\u001b[0;34m(\u001b[0m\u001b[0;34m\"M\"\u001b[0m\u001b[0;34m)\u001b[0m\u001b[0;34m\u001b[0m\u001b[0;34m\u001b[0m\u001b[0m\n\u001b[0m\u001b[1;32m      2\u001b[0m \u001b[0mds_npromo\u001b[0m \u001b[0;34m=\u001b[0m \u001b[0mds_npromo\u001b[0m\u001b[0;34m.\u001b[0m\u001b[0mgroupby\u001b[0m\u001b[0;34m(\u001b[0m\u001b[0mper2\u001b[0m\u001b[0;34m)\u001b[0m\u001b[0;34m.\u001b[0m\u001b[0msum\u001b[0m\u001b[0;34m(\u001b[0m\u001b[0;34m)\u001b[0m\u001b[0;34m\u001b[0m\u001b[0;34m\u001b[0m\u001b[0m\n",
      "\u001b[0;32m~/.local/lib/python3.6/site-packages/pandas/core/indexes/datetimes.py\u001b[0m in \u001b[0;36m__new__\u001b[0;34m(cls, data, freq, start, end, periods, tz, normalize, closed, ambiguous, dayfirst, yearfirst, dtype, copy, name, verify_integrity)\u001b[0m\n\u001b[1;32m    397\u001b[0m                 is_integer_dtype(data)):\n\u001b[1;32m    398\u001b[0m             data = tools.to_datetime(data, dayfirst=dayfirst,\n\u001b[0;32m--> 399\u001b[0;31m                                      yearfirst=yearfirst)\n\u001b[0m\u001b[1;32m    400\u001b[0m \u001b[0;34m\u001b[0m\u001b[0m\n\u001b[1;32m    401\u001b[0m         \u001b[0;32mif\u001b[0m \u001b[0missubclass\u001b[0m\u001b[0;34m(\u001b[0m\u001b[0mdata\u001b[0m\u001b[0;34m.\u001b[0m\u001b[0mdtype\u001b[0m\u001b[0;34m.\u001b[0m\u001b[0mtype\u001b[0m\u001b[0;34m,\u001b[0m \u001b[0mnp\u001b[0m\u001b[0;34m.\u001b[0m\u001b[0mdatetime64\u001b[0m\u001b[0;34m)\u001b[0m \u001b[0;32mor\u001b[0m \u001b[0mis_datetimetz\u001b[0m\u001b[0;34m(\u001b[0m\u001b[0mdata\u001b[0m\u001b[0;34m)\u001b[0m\u001b[0;34m:\u001b[0m\u001b[0;34m\u001b[0m\u001b[0;34m\u001b[0m\u001b[0m\n",
      "\u001b[0;32m~/.local/lib/python3.6/site-packages/pandas/core/tools/datetimes.py\u001b[0m in \u001b[0;36mto_datetime\u001b[0;34m(arg, errors, dayfirst, yearfirst, utc, box, format, exact, unit, infer_datetime_format, origin, cache)\u001b[0m\n\u001b[1;32m    459\u001b[0m                                             name=arg.name)\n\u001b[1;32m    460\u001b[0m         \u001b[0;32melse\u001b[0m\u001b[0;34m:\u001b[0m\u001b[0;34m\u001b[0m\u001b[0;34m\u001b[0m\u001b[0m\n\u001b[0;32m--> 461\u001b[0;31m             \u001b[0mresult\u001b[0m \u001b[0;34m=\u001b[0m \u001b[0m_convert_listlike\u001b[0m\u001b[0;34m(\u001b[0m\u001b[0marg\u001b[0m\u001b[0;34m,\u001b[0m \u001b[0mbox\u001b[0m\u001b[0;34m,\u001b[0m \u001b[0mformat\u001b[0m\u001b[0;34m,\u001b[0m \u001b[0mname\u001b[0m\u001b[0;34m=\u001b[0m\u001b[0marg\u001b[0m\u001b[0;34m.\u001b[0m\u001b[0mname\u001b[0m\u001b[0;34m)\u001b[0m\u001b[0;34m\u001b[0m\u001b[0;34m\u001b[0m\u001b[0m\n\u001b[0m\u001b[1;32m    462\u001b[0m     \u001b[0;32melif\u001b[0m \u001b[0mis_list_like\u001b[0m\u001b[0;34m(\u001b[0m\u001b[0marg\u001b[0m\u001b[0;34m)\u001b[0m\u001b[0;34m:\u001b[0m\u001b[0;34m\u001b[0m\u001b[0;34m\u001b[0m\u001b[0m\n\u001b[1;32m    463\u001b[0m         \u001b[0mcache_array\u001b[0m \u001b[0;34m=\u001b[0m \u001b[0m_maybe_cache\u001b[0m\u001b[0;34m(\u001b[0m\u001b[0marg\u001b[0m\u001b[0;34m,\u001b[0m \u001b[0mformat\u001b[0m\u001b[0;34m,\u001b[0m \u001b[0mcache\u001b[0m\u001b[0;34m,\u001b[0m \u001b[0mtz\u001b[0m\u001b[0;34m,\u001b[0m \u001b[0m_convert_listlike\u001b[0m\u001b[0;34m)\u001b[0m\u001b[0;34m\u001b[0m\u001b[0;34m\u001b[0m\u001b[0m\n",
      "\u001b[0;32m~/.local/lib/python3.6/site-packages/pandas/core/tools/datetimes.py\u001b[0m in \u001b[0;36m_convert_listlike\u001b[0;34m(arg, box, format, name, tz)\u001b[0m\n\u001b[1;32m    366\u001b[0m                     \u001b[0mdayfirst\u001b[0m\u001b[0;34m=\u001b[0m\u001b[0mdayfirst\u001b[0m\u001b[0;34m,\u001b[0m\u001b[0;34m\u001b[0m\u001b[0;34m\u001b[0m\u001b[0m\n\u001b[1;32m    367\u001b[0m                     \u001b[0myearfirst\u001b[0m\u001b[0;34m=\u001b[0m\u001b[0myearfirst\u001b[0m\u001b[0;34m,\u001b[0m\u001b[0;34m\u001b[0m\u001b[0;34m\u001b[0m\u001b[0m\n\u001b[0;32m--> 368\u001b[0;31m                     \u001b[0mrequire_iso8601\u001b[0m\u001b[0;34m=\u001b[0m\u001b[0mrequire_iso8601\u001b[0m\u001b[0;34m\u001b[0m\u001b[0;34m\u001b[0m\u001b[0m\n\u001b[0m\u001b[1;32m    369\u001b[0m                 )\n\u001b[1;32m    370\u001b[0m \u001b[0;34m\u001b[0m\u001b[0m\n",
      "\u001b[0;31mTypeError\u001b[0m: Argument 'values' has incorrect type (expected numpy.ndarray, got Index)"
     ]
    }
   ],
   "source": [
    "per2 = pd.DatetimeIndex(ds_npromo.index).to_period(\"M\")\n",
    "ds_npromo = ds_npromo.groupby(per2).sum()"
   ]
  },
  {
   "cell_type": "code",
   "execution_count": 108,
   "metadata": {
    "ExecuteTime": {
     "end_time": "2018-12-31T20:30:54.368935Z",
     "start_time": "2018-12-31T20:30:54.361819Z"
    },
    "collapsed": false
   },
   "outputs": [
    {
     "name": "stderr",
     "output_type": "stream",
     "text": [
      "\r",
      " 36%|███▌      | 19412/54120 [01:40<02:39, 217.89it/s]"
     ]
    }
   ],
   "source": [
    "ds_promo = ds_promo.reset_index()\n",
    "ds_npromo = ds_npromo.reset_index()"
   ]
  },
  {
   "cell_type": "code",
   "execution_count": 109,
   "metadata": {
    "ExecuteTime": {
     "end_time": "2018-12-31T20:31:04.316970Z",
     "start_time": "2018-12-31T20:31:04.309990Z"
    },
    "collapsed": true
   },
   "outputs": [],
   "source": [
    "ds_promo['tweetCreatedAt'] = ds_promo['tweetCreatedAt'].apply(lambda x: x.strftime('%Y-%m'))\n",
    "ds_npromo['tweetCreatedAt'] = ds_npromo['tweetCreatedAt'].apply(lambda x: x.strftime('%Y-%m'))"
   ]
  },
  {
   "cell_type": "code",
   "execution_count": 110,
   "metadata": {
    "ExecuteTime": {
     "end_time": "2018-12-31T20:31:05.347691Z",
     "start_time": "2018-12-31T20:31:05.336899Z"
    },
    "collapsed": false
   },
   "outputs": [
    {
     "data": {
      "text/plain": [
       "21    34\n",
       "Name: count, dtype: int64"
      ]
     },
     "execution_count": 110,
     "metadata": {},
     "output_type": "execute_result"
    }
   ],
   "source": [
    "ds_promo[ds_promo['tweetCreatedAt'] == \"2016-06\"]['count']"
   ]
  },
  {
   "cell_type": "code",
   "execution_count": null,
   "metadata": {
    "ExecuteTime": {
     "end_time": "2018-12-31T20:27:28.334372Z",
     "start_time": "2018-12-31T20:27:54.771Z"
    },
    "collapsed": true
   },
   "outputs": [],
   "source": [
    "bursts = [x.strftime('%Y-%m') for x in peaks]"
   ]
  },
  {
   "cell_type": "code",
   "execution_count": null,
   "metadata": {
    "ExecuteTime": {
     "end_time": "2018-12-31T20:27:28.337116Z",
     "start_time": "2018-12-31T20:27:55.019Z"
    },
    "collapsed": true
   },
   "outputs": [],
   "source": [
    "burst_priors = pd.DataFrame()\n",
    "alpha = 1\n",
    "for date in tqdm(bursts):\n",
    "    p_count = 0\n",
    "    n_count = 0\n",
    "    if date in list(ds_promo.tweetCreatedAt):\n",
    "        p_count = ds_promo[ds_promo['tweetCreatedAt'] == date]['count'].values[0]\n",
    "    if date in list(ds_npromo.tweetCreatedAt):\n",
    "        n_count = ds_npromo[ds_npromo['tweetCreatedAt'] == date]['count'].values[0]\n",
    "    nprom = (n_count + alpha) / (n_count + p_count + (2*alpha)) \n",
    "    prom = (p_count + alpha) / (n_count + p_count + (2*alpha))\n",
    "    data = pd.DataFrame.from_records([{\n",
    "                'date':date,\n",
    "                'nprom':nprom,\n",
    "                'prom':prom\n",
    "    }],index=[0])\n",
    "    burst_priors = burst_priors.append(data,ignore_index=True)\n",
    "burst_priors.to_csv('burst_priors')    "
   ]
  },
  {
   "cell_type": "code",
   "execution_count": 815,
   "metadata": {
    "ExecuteTime": {
     "end_time": "2018-12-30T21:29:55.232624Z",
     "start_time": "2018-12-30T21:29:54.895288Z"
    },
    "collapsed": false,
    "scrolled": true
   },
   "outputs": [
    {
     "data": {
      "image/png": "[encoded data removed]",
      "text/plain": [
       "<Figure size 1440x288 with 1 Axes>"
      ]
     },
     "metadata": {
      "needs_background": "light"
     },
     "output_type": "display_data"
    }
   ],
   "source": [
    "## find the occurance for both prom and nprom during the burst period.....\n",
    "# plotting the tweet ids for prom and non prom\n",
    "plt.rcParams[\"figure.figsize\"] = (20,4)\n",
    "plt.plot(list(ds_promo.index),list(ds_promo['count']),color = 'green', label='burst tweets')\n",
    "plt.ylabel(\"no of tweets\",fontsize=16)\n",
    "plt.xlabel(\"timestamp \", fontsize = 16)\n",
    "plt.title(\"promoter tweets counts (2015 to 2019)\",fontsize=18)\n",
    "plt.legend()\n",
    "plt.show() "
   ]
  },
  {
   "cell_type": "code",
   "execution_count": 818,
   "metadata": {
    "ExecuteTime": {
     "end_time": "2018-12-30T21:31:06.757684Z",
     "start_time": "2018-12-30T21:31:06.480709Z"
    },
    "collapsed": false
   },
   "outputs": [
    {
     "data": {
      "image/png": "[encoded data removed]",
      "text/plain": [
       "<Figure size 1080x288 with 1 Axes>"
      ]
     },
     "metadata": {
      "needs_background": "light"
     },
     "output_type": "display_data"
    }
   ],
   "source": [
    "# plotting the tweet ids for prom and non prom\n",
    "plt.rcParams[\"figure.figsize\"] = (15,4)\n",
    "plt.plot(list(ds_npromo.index),list(ds_npromo['count']),color = 'green', label='burst tweets')\n",
    "plt.ylabel(\"no of tweets\",fontsize=16)\n",
    "plt.xlabel(\"timestamp \", fontsize = 16)\n",
    "plt.title(\"non promoter tweets counts (2015 to 2019)\",fontsize=18)\n",
    "plt.legend()\n",
    "plt.show() "
   ]
  },
  {
   "cell_type": "code",
   "execution_count": 651,
   "metadata": {
    "ExecuteTime": {
     "end_time": "2018-12-30T04:55:56.132225Z",
     "start_time": "2018-12-30T04:55:56.125912Z"
    },
    "collapsed": false
   },
   "outputs": [
    {
     "data": {
      "text/plain": [
       "300"
      ]
     },
     "execution_count": 651,
     "metadata": {},
     "output_type": "execute_result"
    }
   ],
   "source": [
    "len(df_300.userID.unique())"
   ]
  },
  {
   "cell_type": "markdown",
   "metadata": {},
   "source": [
    "## Pseudocode"
   ]
  },
  {
   "cell_type": "code",
   "execution_count": 643,
   "metadata": {
    "ExecuteTime": {
     "end_time": "2018-12-30T04:35:39.051868Z",
     "start_time": "2018-12-30T04:35:39.048302Z"
    },
    "collapsed": true
   },
   "outputs": [],
   "source": [
    "# Pseudocode\n",
    "# train the classifier on tweets D , sklearn logistic regression on that ...done that part\n",
    "# priors user, url and burst ke aa gaye..based on model LR ..predict proba\n",
    "# build the graph u-url-burst , weight based on propagation matrix e = some value...result based...\n",
    "# for all edges..\n",
    "## for all states of node \n",
    "##    Update the message passign info <- 1\n",
    "# while not cnverged\n",
    "#     for all edges in the graph\n",
    "#         for all states of i\n",
    "#             update the message passign info (uing eq 3 based on edge potential and node potential)\n",
    "#         end for\n",
    "#     end for\n",
    "# end while\n",
    "\n",
    "# calculate the final belief...\n",
    "# Output the probability ..."
   ]
  },
  {
   "cell_type": "code",
   "execution_count": 63,
   "metadata": {
    "ExecuteTime": {
     "end_time": "2018-12-31T20:27:41.784962Z",
     "start_time": "2018-12-31T20:27:41.701710Z"
    },
    "collapsed": true
   },
   "outputs": [],
   "source": [
    "user_potential = pd.read_csv(\"user_priors\")\n",
    "url_potential = pd.read_csv(\"url_priors\")\n",
    "burst_potential = pd.read_csv(\"burst_priors\")"
   ]
  },
  {
   "cell_type": "code",
   "execution_count": 64,
   "metadata": {
    "ExecuteTime": {
     "end_time": "2018-12-31T20:27:47.335840Z",
     "start_time": "2018-12-31T20:27:47.331682Z"
    },
    "collapsed": true
   },
   "outputs": [],
   "source": [
    "# create the graph .. if poss can create in neo4j\n",
    "# create the user and then add url and bursts.."
   ]
  },
  {
   "cell_type": "code",
   "execution_count": 66,
   "metadata": {
    "ExecuteTime": {
     "end_time": "2018-12-31T20:27:49.600279Z",
     "start_time": "2018-12-31T20:27:49.596001Z"
    },
    "collapsed": true
   },
   "outputs": [],
   "source": [
    "def is_number(s):\n",
    "    try:\n",
    "        int(s)\n",
    "        return True\n",
    "    except ValueError:\n",
    "        return False"
   ]
  },
  {
   "cell_type": "code",
   "execution_count": 137,
   "metadata": {
    "ExecuteTime": {
     "end_time": "2018-12-31T20:56:53.625082Z",
     "start_time": "2018-12-31T20:56:53.610494Z"
    },
    "collapsed": true
   },
   "outputs": [],
   "source": [
    "# loading the files\n",
    "similarity = pickle.load(open(\"user-user-similarity.pkl\",\"rb\"))\n",
    "users = pickle.load(open(\"userIdR\",\"rb\"))"
   ]
  },
  {
   "cell_type": "code",
   "execution_count": 138,
   "metadata": {
    "ExecuteTime": {
     "end_time": "2018-12-31T20:56:54.053835Z",
     "start_time": "2018-12-31T20:56:54.048315Z"
    },
    "collapsed": true
   },
   "outputs": [],
   "source": [
    "# fill dignol with zero\n",
    "np.fill_diagonal(similarity,0)"
   ]
  },
  {
   "cell_type": "code",
   "execution_count": 139,
   "metadata": {
    "ExecuteTime": {
     "end_time": "2018-12-31T20:56:54.425045Z",
     "start_time": "2018-12-31T20:56:54.419298Z"
    },
    "collapsed": true
   },
   "outputs": [],
   "source": [
    "# add the threshold for similarity as 0.3\n",
    "similarity[similarity<0.3] =0 "
   ]
  },
  {
   "cell_type": "code",
   "execution_count": 140,
   "metadata": {
    "ExecuteTime": {
     "end_time": "2018-12-31T20:56:54.872365Z",
     "start_time": "2018-12-31T20:56:54.854771Z"
    },
    "collapsed": false
   },
   "outputs": [
    {
     "data": {
      "text/plain": [
       "706"
      ]
     },
     "execution_count": 140,
     "metadata": {},
     "output_type": "execute_result"
    }
   ],
   "source": [
    "len(similarity[similarity >= 0.3])"
   ]
  },
  {
   "cell_type": "code",
   "execution_count": 141,
   "metadata": {
    "ExecuteTime": {
     "end_time": "2018-12-31T20:56:55.975123Z",
     "start_time": "2018-12-31T20:56:55.963277Z"
    },
    "collapsed": true
   },
   "outputs": [],
   "source": [
    "user_adjframe = pd.DataFrame(similarity,columns=users,index=users)"
   ]
  },
  {
   "cell_type": "code",
   "execution_count": 142,
   "metadata": {
    "ExecuteTime": {
     "end_time": "2018-12-31T20:56:58.344067Z",
     "start_time": "2018-12-31T20:56:58.329354Z"
    },
    "collapsed": true
   },
   "outputs": [],
   "source": [
    "user_adjframe.index = user_adjframe.index.map(str)\n",
    "user_adjframe.columns = user_adjframe.columns.map(str)"
   ]
  },
  {
   "cell_type": "code",
   "execution_count": 143,
   "metadata": {
    "ExecuteTime": {
     "end_time": "2018-12-31T20:57:00.326768Z",
     "start_time": "2018-12-31T20:57:00.280210Z"
    },
    "collapsed": true
   },
   "outputs": [],
   "source": [
    "G = nx.from_pandas_adjacency(user_adjframe,create_using=nx.DiGraph())"
   ]
  },
  {
   "cell_type": "code",
   "execution_count": 145,
   "metadata": {
    "ExecuteTime": {
     "end_time": "2018-12-31T20:57:08.050918Z",
     "start_time": "2018-12-31T20:57:07.938110Z"
    },
    "collapsed": true
   },
   "outputs": [],
   "source": [
    "# ading user-url\n",
    "G2 = nx.read_edgelist(\"user-url.edgelist\",)"
   ]
  },
  {
   "cell_type": "code",
   "execution_count": 146,
   "metadata": {
    "ExecuteTime": {
     "end_time": "2018-12-31T20:57:09.464260Z",
     "start_time": "2018-12-31T20:57:08.564387Z"
    },
    "collapsed": true
   },
   "outputs": [],
   "source": [
    "## add edges from the edgelist\n",
    "G.add_edges_from(G2.edges())"
   ]
  },
  {
   "cell_type": "code",
   "execution_count": 147,
   "metadata": {
    "ExecuteTime": {
     "end_time": "2018-12-31T20:57:10.450211Z",
     "start_time": "2018-12-31T20:57:10.435205Z"
    },
    "collapsed": true
   },
   "outputs": [],
   "source": [
    "# adding the burst\n",
    "G3 = nx.read_edgelist(\"user-burst.edgelist\")"
   ]
  },
  {
   "cell_type": "code",
   "execution_count": 148,
   "metadata": {
    "ExecuteTime": {
     "end_time": "2018-12-31T20:57:11.397097Z",
     "start_time": "2018-12-31T20:57:11.383972Z"
    },
    "collapsed": true
   },
   "outputs": [],
   "source": [
    "#adding burst to the graph\n",
    "G.add_edges_from(G3.edges())"
   ]
  },
  {
   "cell_type": "code",
   "execution_count": 149,
   "metadata": {
    "ExecuteTime": {
     "end_time": "2018-12-31T20:57:13.072699Z",
     "start_time": "2018-12-31T20:57:13.048104Z"
    },
    "collapsed": false
   },
   "outputs": [
    {
     "data": {
      "text/plain": [
       "11716"
      ]
     },
     "execution_count": 149,
     "metadata": {},
     "output_type": "execute_result"
    }
   ],
   "source": [
    "len(G.edges())"
   ]
  },
  {
   "cell_type": "code",
   "execution_count": 150,
   "metadata": {
    "ExecuteTime": {
     "end_time": "2018-12-31T20:57:16.882997Z",
     "start_time": "2018-12-31T20:57:16.834879Z"
    },
    "collapsed": true
   },
   "outputs": [],
   "source": [
    "# dumping the grah\n",
    "with open(\"graph_final\",\"wb\") as f:\n",
    "    pickle.dump(G,f)"
   ]
  },
  {
   "cell_type": "code",
   "execution_count": 122,
   "metadata": {
    "ExecuteTime": {
     "end_time": "2018-12-31T20:44:42.373717Z",
     "start_time": "2018-12-31T20:44:42.369567Z"
    },
    "collapsed": true
   },
   "outputs": [],
   "source": [
    "## tesing with small case if edges are correct or not...taking subsample of the files\n",
    "## moved to visualizing motebook"
   ]
  }
 ],
 "metadata": {
  "anaconda-cloud": {},
  "hide_input": false,
  "kernelspec": {
   "display_name": "Python [default]",
   "language": "python",
   "name": "python3"
  },
  "language_info": {
   "codemirror_mode": {
    "name": "ipython",
    "version": 3
   },
   "file_extension": ".py",
   "mimetype": "text/x-python",
   "name": "python",
   "nbconvert_exporter": "python",
   "pygments_lexer": "ipython3",
   "version": "3.5.2"
  }
 },
 "nbformat": 4,
 "nbformat_minor": 2
}
