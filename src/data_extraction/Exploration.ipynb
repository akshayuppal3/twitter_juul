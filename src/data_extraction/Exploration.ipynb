{
 "cells": [
  {
   "cell_type": "code",
   "execution_count": 1,
   "metadata": {},
   "outputs": [],
   "source": [
    "import following_data as fd"
   ]
  },
  {
   "cell_type": "code",
   "execution_count": 2,
   "metadata": {},
   "outputs": [],
   "source": [
    "import util "
   ]
  },
  {
   "cell_type": "code",
   "execution_count": 3,
   "metadata": {},
   "outputs": [],
   "source": [
    "import pandas as pd\n",
    "import numpy as np\n",
    "from tqdm import tqdm\n",
    "import matplotlib.pyplot as plt"
   ]
  },
  {
   "cell_type": "code",
   "execution_count": 13,
   "metadata": {},
   "outputs": [],
   "source": [
    "from tqdm import tqdm\n",
    "import ast"
   ]
  },
  {
   "cell_type": "code",
   "execution_count": 19,
   "metadata": {},
   "outputs": [],
   "source": [
    "import networkx as nx\n",
    "import matplotlib.pyplot as plt"
   ]
  },
  {
   "cell_type": "code",
   "execution_count": 5,
   "metadata": {},
   "outputs": [],
   "source": [
    "ob = fd.twitter_following()\n",
    "api = ob.api"
   ]
  },
  {
   "cell_type": "code",
   "execution_count": 6,
   "metadata": {},
   "outputs": [],
   "source": [
    "df = pd.read_excel(\"/home/auppal8/thesis/twitter_juul/input/updatedfollowingData1117.xlsx\",index_col=None)"
   ]
  },
  {
   "cell_type": "code",
   "execution_count": 8,
   "metadata": {},
   "outputs": [
    {
     "data": {
      "text/plain": [
       "7203"
      ]
     },
     "execution_count": 8,
     "metadata": {},
     "output_type": "execute_result"
    }
   ],
   "source": [
    "len(df)"
   ]
  },
  {
   "cell_type": "code",
   "execution_count": 9,
   "metadata": {},
   "outputs": [],
   "source": [
    "userIDs = list(df.userID.astype(int))"
   ]
  },
  {
   "cell_type": "code",
   "execution_count": 14,
   "metadata": {},
   "outputs": [
    {
     "name": "stderr",
     "output_type": "stream",
     "text": [
      "100%|██████████| 7203/7203 [23:36<00:00,  2.79it/s]\n"
     ]
    }
   ],
   "source": [
    "## creation of the adjacency matrix\n",
    "mat = np.empty((0,len(df.userID)))\n",
    "with tqdm(total=(len(list(df.iterrows())))) as pbar:\n",
    "    for index,row in df.iterrows():\n",
    "        pbar.update(1)   \n",
    "        friends = ast.literal_eval(row['following'])\n",
    "        user = row['userID']\n",
    "        a = list()\n",
    "        for neighbor in (userIDs):\n",
    "            if user == neighbor:\n",
    "                a.append(0)\n",
    "            else:\n",
    "                if len(friends) is 5000:\n",
    "                    a.append(-1)         # as the api GET friends/ids has a limit of 5000 friends\n",
    "                if neighbor in friends:\n",
    "                    a.append(1)\n",
    "                else:\n",
    "                    a.append(0)\n",
    "        mat = np.vstack((mat,a))"
   ]
  },
  {
   "cell_type": "code",
   "execution_count": 20,
   "metadata": {},
   "outputs": [],
   "source": [
    "## getiing the graph\n",
    "G = nx.from_numpy_matrix(mat,parallel_edges = True,create_using=nx.MultiDiGraph())"
   ]
  },
  {
   "cell_type": "code",
   "execution_count": 24,
   "metadata": {},
   "outputs": [],
   "source": [
    "#relabel nodes\n",
    "labels = {idx:user for idx,user in enumerate(userIDs)}"
   ]
  },
  {
   "cell_type": "code",
   "execution_count": 25,
   "metadata": {},
   "outputs": [],
   "source": [
    "G = nx.relabel_nodes(G, labels)"
   ]
  },
  {
   "cell_type": "code",
   "execution_count": null,
   "metadata": {},
   "outputs": [],
   "source": [
    "# spectral \n",
    "plt.figure(figsize=(100,100)) \n",
    "nx.draw(G,pos= nx.draw_spectral(G) )\n",
    "plt.savefig(\"pairwise_spectral\", format=\"PNG\",dpi=fig.dpi)"
   ]
  },
  {
   "cell_type": "code",
   "execution_count": null,
   "metadata": {},
   "outputs": [],
   "source": [
    "# nx.draw_spring(G)\n",
    "plt.figure(figsize=(100,100)) \n",
    "nx.draw(G,pos= nx.draw_spring(G) )\n",
    "plt.savefig(\"pairwise_spring\", format=\"PNG\",dpi=fig.dpi)"
   ]
  }
 ],
 "metadata": {
  "kernelspec": {
   "display_name": "Python 3",
   "language": "python",
   "name": "python3"
  },
  "language_info": {
   "codemirror_mode": {
    "name": "ipython",
    "version": 3
   },
   "file_extension": ".py",
   "mimetype": "text/x-python",
   "name": "python",
   "nbconvert_exporter": "python",
   "pygments_lexer": "ipython3",
   "version": "3.6.2"
  }
 },
 "nbformat": 4,
 "nbformat_minor": 2
}
