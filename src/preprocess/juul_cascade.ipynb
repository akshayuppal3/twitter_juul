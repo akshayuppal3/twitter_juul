{
 "cells": [
  {
   "cell_type": "code",
   "execution_count": 1,
   "metadata": {},
   "outputs": [
    {
     "name": "stdout",
     "output_type": "stream",
     "text": [
      "[nltk_data] Downloading package wordnet to\n",
      "[nltk_data]     /Users/akshayuppal/nltk_data...\n",
      "[nltk_data]   Package wordnet is already up-to-date!\n",
      "[nltk_data] Downloading package punkt to\n",
      "[nltk_data]     /Users/akshayuppal/nltk_data...\n",
      "[nltk_data]   Package punkt is already up-to-date!\n",
      "[nltk_data] Downloading package stopwords to\n",
      "[nltk_data]     /Users/akshayuppal/nltk_data...\n",
      "[nltk_data]   Package stopwords is already up-to-date!\n"
     ]
    }
   ],
   "source": [
    "import pandas as pd\n",
    "import numpy as np\n",
    "import os\n",
    "import git\n",
    "import ast\n",
    "import matplotlib.pyplot as plt\n",
    "import networkx as nx\n",
    "from tqdm import tqdm_notebook as tqdm\n",
    "import tweepy\n",
    "from cascade import Cascade"
   ]
  },
  {
   "cell_type": "code",
   "execution_count": 24,
   "metadata": {},
   "outputs": [
    {
     "name": "stdout",
     "output_type": "stream",
     "text": [
      "The autoreload extension is already loaded. To reload it, use:\n",
      "  %reload_ext autoreload\n"
     ]
    }
   ],
   "source": [
    "%load_ext autoreload\n",
    "%autoreload 2\n",
    "%reload_ext autoreload"
   ]
  },
  {
   "cell_type": "code",
   "execution_count": 2,
   "metadata": {},
   "outputs": [],
   "source": [
    "pd.set_option('display.max_colwidth', -1)\n",
    "cas = Cascade()"
   ]
  },
  {
   "cell_type": "code",
   "execution_count": 3,
   "metadata": {},
   "outputs": [],
   "source": [
    "def get_git_root(path):\n",
    "    git_repo = git.Repo(path, search_parent_directories=True)\n",
    "    git_root = git_repo.git.rev_parse(\"--show-toplevel\")\n",
    "    return git_root"
   ]
  },
  {
   "cell_type": "code",
   "execution_count": 4,
   "metadata": {},
   "outputs": [],
   "source": [
    "hexagon_path = os.path.join(get_git_root(os.getcwd()),\"input\",\"hexagonData.csv\")\n",
    "hexagon_data = pd.read_csv(hexagon_path,lineterminator=\"\\n\")"
   ]
  },
  {
   "cell_type": "code",
   "execution_count": 6,
   "metadata": {},
   "outputs": [
    {
     "data": {
      "text/plain": [
       "array([  0,   1,   2,   3,   4,   5,   6,   7,   8,   9,  10,  11,  12,\n",
       "        13,  14,  15,  16,  17,  18,  19,  20,  22,  24,  25,  26,  27,\n",
       "        29,  30,  31,  33,  34,  38,  43,  44,  48,  70, 106, 182, 229,\n",
       "       781])"
      ]
     },
     "execution_count": 6,
     "metadata": {},
     "output_type": "execute_result"
    }
   ],
   "source": [
    "a = hexagon_data.retweetCount.unique()\n",
    "a.sort()\n",
    "a"
   ]
  },
  {
   "cell_type": "code",
   "execution_count": 7,
   "metadata": {},
   "outputs": [],
   "source": [
    "## looking at the cascade 229 (juul)\n",
    "juul_cascade = hexagon_data.loc[hexagon_data.retweetCount == 229]"
   ]
  },
  {
   "cell_type": "code",
   "execution_count": 8,
   "metadata": {},
   "outputs": [],
   "source": [
    "source_node = juul_cascade.head(1).userID.values[0]"
   ]
  },
  {
   "cell_type": "code",
   "execution_count": 9,
   "metadata": {},
   "outputs": [],
   "source": [
    "users = list(juul_cascade.userID.unique())\n",
    "users.remove(source_node)"
   ]
  },
  {
   "cell_type": "code",
   "execution_count": 25,
   "metadata": {
    "scrolled": true
   },
   "outputs": [
    {
     "name": "stderr",
     "output_type": "stream",
     "text": [
      "\n",
      "\n",
      "  0%|          | 0/165 [00:00<?, ?it/s]\u001b[A\u001b[A\n",
      "\n",
      "  1%|          | 1/165 [00:00<01:04,  2.56it/s]\u001b[A\u001b[A\n",
      "\n",
      "  1%|          | 2/165 [00:00<00:58,  2.80it/s]\u001b[A\u001b[A\n",
      "\n",
      "  2%|▏         | 3/165 [00:00<00:54,  3.00it/s]\u001b[A\u001b[A\n",
      "\n",
      "  2%|▏         | 4/165 [00:01<00:50,  3.16it/s]\u001b[A\u001b[A\n",
      "\n",
      "  3%|▎         | 5/165 [00:01<00:48,  3.29it/s]\u001b[A\u001b[A\n",
      "\n",
      "  4%|▎         | 6/165 [00:01<00:46,  3.38it/s]\u001b[A\u001b[A\n",
      "\n",
      "  4%|▍         | 7/165 [00:02<00:46,  3.37it/s]\u001b[A\u001b[A\n",
      "\n",
      "  5%|▍         | 8/165 [00:02<00:46,  3.40it/s]\u001b[A\u001b[A\n",
      "\n",
      "  5%|▌         | 9/165 [00:02<00:44,  3.50it/s]\u001b[A\u001b[A\n",
      "\n",
      "  6%|▌         | 10/165 [00:02<00:43,  3.53it/s]\u001b[A\u001b[A\n",
      "\n",
      "  7%|▋         | 11/165 [00:03<00:43,  3.56it/s]\u001b[A\u001b[A\n",
      "\n",
      "  7%|▋         | 12/165 [00:03<00:47,  3.20it/s]\u001b[A\u001b[A\n",
      "\n",
      "  8%|▊         | 13/165 [00:03<00:46,  3.30it/s]\u001b[A\u001b[A\n",
      "\n",
      "  8%|▊         | 14/165 [00:04<00:44,  3.39it/s]\u001b[A\u001b[A\n",
      "\n",
      "  9%|▉         | 15/165 [00:04<00:43,  3.42it/s]\u001b[A\u001b[A\n",
      "\n",
      " 10%|▉         | 16/165 [06:12<4:34:56, 110.72s/it]\u001b[A\u001b[A\n",
      "\n",
      " 10%|█         | 17/165 [06:13<3:11:24, 77.60s/it] \u001b[A\u001b[A\n",
      "\n",
      " 11%|█         | 18/165 [06:13<2:13:16, 54.40s/it]\u001b[A\u001b[A\n",
      "\n",
      " 12%|█▏        | 19/165 [06:13<1:32:52, 38.16s/it]\u001b[A\u001b[A\n",
      "\n",
      " 12%|█▏        | 20/165 [06:13<1:04:45, 26.79s/it]\u001b[A\u001b[A\n",
      "\n",
      " 13%|█▎        | 21/165 [06:14<45:13, 18.84s/it]  \u001b[A\u001b[A\n",
      "\n",
      " 13%|█▎        | 22/165 [06:14<31:38, 13.27s/it]\u001b[A\u001b[A\n",
      "\n",
      " 14%|█▍        | 23/165 [06:14<22:10,  9.37s/it]\u001b[A\u001b[A\n",
      "\n",
      " 15%|█▍        | 24/165 [06:15<15:36,  6.64s/it]\u001b[A\u001b[A\n",
      "\n",
      " 15%|█▌        | 25/165 [06:15<11:02,  4.74s/it]\u001b[A\u001b[A\n",
      "\n",
      " 16%|█▌        | 26/165 [06:15<07:52,  3.40s/it]\u001b[A\u001b[A\n",
      "\n",
      " 16%|█▋        | 27/165 [06:15<05:40,  2.47s/it]\u001b[A\u001b[A\n",
      "\n",
      " 17%|█▋        | 28/165 [06:16<04:08,  1.81s/it]\u001b[A\u001b[A\n",
      "\n",
      " 18%|█▊        | 29/165 [06:16<03:03,  1.35s/it]\u001b[A\u001b[A\n",
      "\n",
      " 18%|█▊        | 30/165 [06:16<02:19,  1.03s/it]\u001b[A\u001b[A\n",
      "\n",
      " 19%|█▉        | 31/165 [06:17<01:50,  1.22it/s]\u001b[A\u001b[A\n",
      "\n",
      " 19%|█▉        | 32/165 [06:17<01:27,  1.53it/s]\u001b[A\u001b[A\n",
      "\n",
      " 20%|██        | 33/165 [06:17<01:12,  1.83it/s]\u001b[A\u001b[A\n",
      "\n",
      " 21%|██        | 34/165 [06:17<01:00,  2.15it/s]\u001b[A\u001b[A\n",
      "\n",
      " 21%|██        | 35/165 [06:18<00:52,  2.46it/s]\u001b[A\u001b[A\n",
      "\n",
      " 22%|██▏       | 36/165 [06:18<00:49,  2.63it/s]\u001b[A\u001b[A\n",
      "\n",
      " 22%|██▏       | 37/165 [06:18<00:44,  2.87it/s]\u001b[A\u001b[A\n",
      "\n",
      " 23%|██▎       | 38/165 [06:19<00:41,  3.08it/s]\u001b[A\u001b[A\n",
      "\n",
      " 24%|██▎       | 39/165 [06:19<00:40,  3.13it/s]\u001b[A\u001b[A\n",
      "\n",
      " 24%|██▍       | 40/165 [06:19<00:38,  3.25it/s]\u001b[A\u001b[A\n",
      "\n",
      " 25%|██▍       | 41/165 [06:19<00:38,  3.23it/s]\u001b[A\u001b[A\n",
      "\n",
      " 25%|██▌       | 42/165 [06:20<00:37,  3.29it/s]\u001b[A\u001b[A\n",
      "\n",
      " 26%|██▌       | 43/165 [06:20<00:35,  3.42it/s]\u001b[A\u001b[A\n",
      "\n",
      " 27%|██▋       | 44/165 [06:20<00:34,  3.49it/s]\u001b[A\u001b[A\n",
      "\n",
      " 27%|██▋       | 45/165 [06:21<00:34,  3.43it/s]\u001b[A\u001b[A\n",
      "\n",
      " 28%|██▊       | 46/165 [06:21<00:34,  3.50it/s]\u001b[A\u001b[A\n",
      "\n",
      " 28%|██▊       | 47/165 [06:21<00:34,  3.40it/s]\u001b[A\u001b[A\n",
      "\n",
      " 29%|██▉       | 48/165 [06:21<00:34,  3.39it/s]\u001b[A\u001b[A\n",
      "\n",
      " 30%|██▉       | 49/165 [06:22<00:34,  3.38it/s]\u001b[A\u001b[A\n",
      "\n",
      " 30%|███       | 50/165 [06:22<00:33,  3.40it/s]\u001b[A\u001b[A\n",
      "\n",
      " 31%|███       | 51/165 [06:22<00:33,  3.42it/s]\u001b[A\u001b[A\n",
      "\n",
      " 32%|███▏      | 52/165 [06:23<00:32,  3.49it/s]\u001b[A\u001b[A\n",
      "\n",
      " 32%|███▏      | 53/165 [06:23<00:31,  3.58it/s]\u001b[A\u001b[A\n",
      "\n",
      " 33%|███▎      | 54/165 [06:23<00:31,  3.50it/s]\u001b[A\u001b[A\n",
      "\n",
      " 33%|███▎      | 55/165 [06:23<00:31,  3.55it/s]\u001b[A\u001b[A\n",
      "\n",
      " 34%|███▍      | 56/165 [06:24<00:31,  3.51it/s]\u001b[A\u001b[A\n",
      "\n",
      " 35%|███▍      | 57/165 [06:24<00:30,  3.53it/s]\u001b[A\u001b[A\n",
      "\n",
      " 35%|███▌      | 58/165 [06:24<00:29,  3.60it/s]\u001b[A\u001b[A\n",
      "\n",
      " 36%|███▌      | 59/165 [06:25<00:29,  3.58it/s]\u001b[A\u001b[A\n",
      "\n",
      " 36%|███▋      | 60/165 [06:25<00:29,  3.53it/s]\u001b[A\u001b[A\n",
      "\n",
      " 37%|███▋      | 61/165 [06:25<00:29,  3.55it/s]\u001b[A\u001b[A\n",
      "\n",
      " 38%|███▊      | 62/165 [06:25<00:28,  3.60it/s]\u001b[A\u001b[A\n",
      "\n",
      " 38%|███▊      | 63/165 [06:26<00:28,  3.63it/s]\u001b[A\u001b[A\n",
      "\n",
      " 39%|███▉      | 64/165 [06:26<00:28,  3.55it/s]\u001b[A\u001b[A\n",
      "\n",
      " 39%|███▉      | 65/165 [06:26<00:27,  3.58it/s]\u001b[A\u001b[A\n",
      "\n",
      " 40%|████      | 66/165 [06:27<00:28,  3.52it/s]\u001b[A\u001b[A\n",
      "\n",
      " 41%|████      | 67/165 [06:27<00:28,  3.49it/s]\u001b[A\u001b[A\n",
      "\n",
      " 41%|████      | 68/165 [06:27<00:28,  3.43it/s]\u001b[A\u001b[A\n",
      "\n",
      " 42%|████▏     | 69/165 [06:27<00:27,  3.53it/s]\u001b[A\u001b[A\n",
      "\n",
      " 42%|████▏     | 70/165 [06:28<00:26,  3.58it/s]\u001b[A\u001b[A\n",
      "\n",
      " 43%|████▎     | 71/165 [06:28<00:29,  3.23it/s]\u001b[A\u001b[A\n",
      "\n",
      " 44%|████▎     | 72/165 [06:28<00:27,  3.35it/s]\u001b[A\u001b[A\n",
      "\n",
      " 44%|████▍     | 73/165 [06:29<00:27,  3.40it/s]\u001b[A\u001b[A\n",
      "\n",
      " 45%|████▍     | 74/165 [06:29<00:25,  3.52it/s]\u001b[A\u001b[A\n",
      "\n",
      " 45%|████▌     | 75/165 [06:29<00:26,  3.44it/s]\u001b[A\u001b[A\n",
      "\n",
      " 46%|████▌     | 76/165 [06:29<00:25,  3.48it/s]\u001b[A\u001b[A\n",
      "\n",
      " 47%|████▋     | 77/165 [06:30<00:25,  3.46it/s]\u001b[A\u001b[A\n",
      "\n",
      " 47%|████▋     | 78/165 [06:30<00:24,  3.54it/s]\u001b[A\u001b[A\n",
      "\n",
      " 48%|████▊     | 79/165 [06:30<00:25,  3.36it/s]\u001b[A\u001b[A\n",
      "\n",
      " 48%|████▊     | 80/165 [06:31<00:26,  3.26it/s]\u001b[A\u001b[A\n",
      "\n",
      " 49%|████▉     | 81/165 [06:31<00:24,  3.38it/s]\u001b[A\u001b[A\n",
      "\n",
      " 50%|████▉     | 82/165 [06:31<00:23,  3.46it/s]\u001b[A\u001b[A\n",
      "\n",
      " 50%|█████     | 83/165 [06:32<00:23,  3.48it/s]\u001b[A\u001b[A\n",
      "\n",
      " 51%|█████     | 84/165 [06:32<00:23,  3.48it/s]\u001b[A\u001b[A\n",
      "\n",
      " 52%|█████▏    | 85/165 [06:32<00:23,  3.47it/s]\u001b[A\u001b[A\n",
      "\n",
      " 52%|█████▏    | 86/165 [06:32<00:22,  3.51it/s]\u001b[A\u001b[A\n",
      "\n",
      " 53%|█████▎    | 87/165 [06:33<00:22,  3.54it/s]\u001b[A\u001b[A\n",
      "\n",
      " 53%|█████▎    | 88/165 [06:33<00:21,  3.54it/s]\u001b[A\u001b[A\n",
      "\n",
      " 54%|█████▍    | 89/165 [06:33<00:21,  3.57it/s]\u001b[A\u001b[A\n",
      "\n",
      " 55%|█████▍    | 90/165 [06:33<00:21,  3.51it/s]\u001b[A\u001b[A\n",
      "\n",
      " 55%|█████▌    | 91/165 [06:34<00:21,  3.44it/s]\u001b[A\u001b[A\n",
      "\n",
      " 56%|█████▌    | 92/165 [06:34<00:20,  3.53it/s]\u001b[A\u001b[A\n",
      "\n",
      " 56%|█████▋    | 93/165 [06:34<00:20,  3.51it/s]\u001b[A\u001b[A\n",
      "\n",
      " 57%|█████▋    | 94/165 [06:35<00:21,  3.34it/s]\u001b[A\u001b[A\n",
      "\n",
      " 58%|█████▊    | 95/165 [06:35<00:21,  3.31it/s]\u001b[A\u001b[A\n",
      "\n",
      " 58%|█████▊    | 96/165 [06:35<00:20,  3.32it/s]\u001b[A\u001b[A\n",
      "\n",
      " 59%|█████▉    | 97/165 [06:36<00:20,  3.26it/s]\u001b[A\u001b[A\n",
      "\n",
      " 59%|█████▉    | 98/165 [06:36<00:19,  3.36it/s]\u001b[A\u001b[A\n",
      "\n",
      " 60%|██████    | 99/165 [06:36<00:19,  3.47it/s]\u001b[A\u001b[A\n",
      "\n",
      " 61%|██████    | 100/165 [06:36<00:18,  3.53it/s]\u001b[A\u001b[A\n",
      "\n",
      " 61%|██████    | 101/165 [06:37<00:17,  3.57it/s]\u001b[A\u001b[A\n",
      "\n",
      " 62%|██████▏   | 102/165 [06:37<00:17,  3.62it/s]\u001b[A\u001b[A\n",
      "\n",
      " 62%|██████▏   | 103/165 [06:37<00:17,  3.61it/s]\u001b[A\u001b[A\n",
      "\n",
      " 63%|██████▎   | 104/165 [06:38<00:16,  3.64it/s]\u001b[A\u001b[A\n",
      "\n",
      " 64%|██████▎   | 105/165 [06:38<00:16,  3.69it/s]\u001b[A\u001b[A\n",
      "\n",
      " 64%|██████▍   | 106/165 [06:38<00:16,  3.63it/s]\u001b[A\u001b[A\n",
      "\n",
      " 65%|██████▍   | 107/165 [06:38<00:15,  3.68it/s]\u001b[A\u001b[A\n",
      "\n",
      " 65%|██████▌   | 108/165 [06:39<00:15,  3.72it/s]\u001b[A\u001b[A\n",
      "\n",
      " 66%|██████▌   | 109/165 [06:39<00:15,  3.52it/s]\u001b[A\u001b[A\n",
      "\n",
      " 67%|██████▋   | 110/165 [06:39<00:15,  3.54it/s]\u001b[A\u001b[A\n",
      "\n",
      " 67%|██████▋   | 111/165 [06:39<00:15,  3.50it/s]\u001b[A\u001b[A\n",
      "\n",
      " 68%|██████▊   | 112/165 [06:40<00:14,  3.54it/s]\u001b[A\u001b[A\n",
      "\n",
      " 68%|██████▊   | 113/165 [06:40<00:14,  3.53it/s]\u001b[A\u001b[A\n",
      "\n",
      " 69%|██████▉   | 114/165 [06:40<00:14,  3.55it/s]\u001b[A\u001b[A\n",
      "\n",
      " 70%|██████▉   | 115/165 [06:41<00:14,  3.51it/s]\u001b[A\u001b[A\n",
      "\n",
      " 70%|███████   | 116/165 [06:41<00:13,  3.52it/s]\u001b[A\u001b[A\n",
      "\n",
      " 71%|███████   | 117/165 [06:41<00:13,  3.54it/s]\u001b[A\u001b[A\n",
      "\n",
      " 72%|███████▏  | 118/165 [06:41<00:13,  3.56it/s]\u001b[A\u001b[A\n",
      "\n",
      " 72%|███████▏  | 119/165 [06:42<00:12,  3.55it/s]\u001b[A\u001b[A\n",
      "\n",
      " 73%|███████▎  | 120/165 [06:42<00:12,  3.59it/s]\u001b[A\u001b[A\n",
      "\n",
      " 73%|███████▎  | 121/165 [06:42<00:12,  3.60it/s]\u001b[A\u001b[A\n",
      "\n",
      " 74%|███████▍  | 122/165 [06:43<00:11,  3.60it/s]\u001b[A\u001b[A\n",
      "\n",
      " 75%|███████▍  | 123/165 [06:43<00:11,  3.63it/s]\u001b[A\u001b[A\n",
      "\n",
      " 75%|███████▌  | 124/165 [06:43<00:11,  3.65it/s]\u001b[A\u001b[A\n",
      "\n",
      " 76%|███████▌  | 125/165 [06:43<00:11,  3.63it/s]\u001b[A\u001b[A\n",
      "\n",
      " 76%|███████▋  | 126/165 [06:44<00:10,  3.57it/s]\u001b[A\u001b[A\n",
      "\n",
      " 77%|███████▋  | 127/165 [06:44<00:10,  3.57it/s]\u001b[A\u001b[A\n",
      "\n",
      " 78%|███████▊  | 128/165 [06:44<00:10,  3.58it/s]\u001b[A\u001b[A\n",
      "\n",
      " 78%|███████▊  | 129/165 [06:44<00:10,  3.60it/s]\u001b[A\u001b[A\n",
      "\n",
      " 79%|███████▉  | 130/165 [06:45<00:10,  3.41it/s]\u001b[A\u001b[A\n",
      "\n",
      " 79%|███████▉  | 131/165 [06:45<00:10,  3.31it/s]\u001b[A\u001b[A\n",
      "\n",
      " 80%|████████  | 132/165 [06:45<00:09,  3.36it/s]\u001b[A\u001b[A\n",
      "\n",
      " 81%|████████  | 133/165 [06:46<00:09,  3.45it/s]\u001b[A\u001b[A\n",
      "\n",
      " 81%|████████  | 134/165 [06:46<00:08,  3.50it/s]\u001b[A\u001b[A\n",
      "\n",
      " 82%|████████▏ | 135/165 [06:46<00:08,  3.46it/s]\u001b[A\u001b[A\n",
      "\n",
      " 82%|████████▏ | 136/165 [06:47<00:08,  3.39it/s]\u001b[A\u001b[A\n",
      "\n",
      " 83%|████████▎ | 137/165 [06:47<00:08,  3.46it/s]\u001b[A\u001b[A\n",
      "\n",
      " 84%|████████▎ | 138/165 [06:47<00:08,  3.36it/s]\u001b[A\u001b[A\n",
      "\n",
      " 84%|████████▍ | 139/165 [06:48<00:07,  3.28it/s]\u001b[A\u001b[A\n",
      "\n",
      " 85%|████████▍ | 140/165 [06:48<00:07,  3.30it/s]\u001b[A\u001b[A\n",
      "\n",
      " 85%|████████▌ | 141/165 [06:48<00:07,  3.32it/s]\u001b[A\u001b[A\n",
      "\n",
      " 86%|████████▌ | 142/165 [06:48<00:06,  3.42it/s]\u001b[A\u001b[A\n",
      "\n",
      " 87%|████████▋ | 143/165 [06:49<00:06,  3.19it/s]\u001b[A\u001b[A\n",
      "\n",
      " 87%|████████▋ | 144/165 [06:49<00:06,  3.28it/s]\u001b[A\u001b[A\n",
      "\n"
     ]
    },
    {
     "name": "stderr",
     "output_type": "stream",
     "text": [
      " 88%|████████▊ | 145/165 [06:49<00:05,  3.34it/s]\u001b[A\u001b[A\n",
      "\n",
      " 88%|████████▊ | 146/165 [06:50<00:05,  3.31it/s]\u001b[A\u001b[A\n",
      "\n",
      " 89%|████████▉ | 147/165 [06:50<00:05,  3.34it/s]\u001b[A\u001b[A\n",
      "\n",
      " 90%|████████▉ | 148/165 [06:50<00:05,  3.24it/s]\u001b[A\u001b[A\n",
      "\n",
      " 90%|█████████ | 149/165 [06:51<00:04,  3.28it/s]\u001b[A\u001b[A\n",
      "\n",
      " 91%|█████████ | 150/165 [06:51<00:04,  3.36it/s]\u001b[A\u001b[A\n",
      "\n",
      " 92%|█████████▏| 151/165 [06:51<00:04,  3.42it/s]\u001b[A\u001b[A\n",
      "\n",
      " 92%|█████████▏| 152/165 [06:51<00:03,  3.44it/s]\u001b[A\u001b[A\n",
      "\n",
      " 93%|█████████▎| 153/165 [06:52<00:03,  3.41it/s]\u001b[A\u001b[A\n",
      "\n",
      " 93%|█████████▎| 154/165 [06:52<00:03,  3.48it/s]\u001b[A\u001b[A\n",
      "\n",
      " 94%|█████████▍| 155/165 [06:52<00:02,  3.55it/s]\u001b[A\u001b[A\n",
      "\n",
      " 95%|█████████▍| 156/165 [06:53<00:02,  3.54it/s]\u001b[A\u001b[A\n",
      "\n",
      " 95%|█████████▌| 157/165 [06:53<00:02,  3.58it/s]\u001b[A\u001b[A\n",
      "\n",
      " 96%|█████████▌| 158/165 [06:53<00:01,  3.59it/s]\u001b[A\u001b[A\n",
      "\n",
      " 96%|█████████▋| 159/165 [06:53<00:01,  3.55it/s]\u001b[A\u001b[A\n",
      "\n",
      " 97%|█████████▋| 160/165 [06:54<00:01,  3.59it/s]\u001b[A\u001b[A\n",
      "\n",
      " 98%|█████████▊| 161/165 [06:54<00:01,  3.52it/s]\u001b[A\u001b[A\n",
      "\n",
      " 98%|█████████▊| 162/165 [06:54<00:00,  3.55it/s]\u001b[A\u001b[A\n",
      "\n",
      " 99%|█████████▉| 163/165 [06:54<00:00,  3.57it/s]\u001b[A\u001b[A\n",
      "\n",
      " 99%|█████████▉| 164/165 [06:55<00:00,  3.59it/s]\u001b[A\u001b[A\n",
      "\n",
      "100%|██████████| 165/165 [06:55<00:00,  3.63it/s]\u001b[A\u001b[A\n",
      "\n",
      "\u001b[A\u001b[A"
     ]
    }
   ],
   "source": [
    "G, first_nodes = cas.create_cascade_lvl_1(source_node,users,hexagon_data)"
   ]
  },
  {
   "cell_type": "code",
   "execution_count": 63,
   "metadata": {},
   "outputs": [],
   "source": [
    "G = cas.get_node_attributes(G,users,hexagon_data,1,source_node=source_node)"
   ]
  },
  {
   "cell_type": "code",
   "execution_count": 127,
   "metadata": {
    "scrolled": true
   },
   "outputs": [
    {
     "name": "stderr",
     "output_type": "stream",
     "text": [
      "\n",
      "\n",
      "\n",
      "\n",
      "  0%|          | 0/2 [00:00<?, ?it/s]\u001b[A\u001b[A\u001b[A\u001b[A"
     ]
    },
    {
     "name": "stdout",
     "output_type": "stream",
     "text": [
      "finding connection for following network might take some time\n",
      "\n"
     ]
    },
    {
     "name": "stderr",
     "output_type": "stream",
     "text": [
      "\n",
      "\n",
      "\n",
      "\n",
      " 50%|█████     | 1/2 [00:00<00:00,  2.78it/s]\u001b[A\u001b[A\u001b[A\u001b[A\n",
      "\n",
      "\n",
      "\n",
      "100%|██████████| 2/2 [00:00<00:00,  2.85it/s]\u001b[A\u001b[A\u001b[A\u001b[A\n",
      "\n",
      "\n",
      "\n",
      "\u001b[A\u001b[A\u001b[A\u001b[A\n",
      "\n",
      "\n",
      "\n",
      "  0%|          | 0/2 [00:00<?, ?it/s]\u001b[A\u001b[A\u001b[A\u001b[A"
     ]
    },
    {
     "name": "stdout",
     "output_type": "stream",
     "text": [
      "finding connection for followers network might take some time\n",
      "\n"
     ]
    },
    {
     "name": "stderr",
     "output_type": "stream",
     "text": [
      "\n",
      "\n",
      "\n",
      "\n",
      " 50%|█████     | 1/2 [00:00<00:00,  3.64it/s]\u001b[A\u001b[A\u001b[A\u001b[A\n",
      "\n",
      "\n",
      "\n",
      "100%|██████████| 2/2 [00:00<00:00,  3.49it/s]\u001b[A\u001b[A\u001b[A\u001b[A\n",
      "\n",
      "\n",
      "\n",
      "\u001b[A\u001b[A\u001b[A\u001b[A\n",
      "\n",
      "\n",
      "\n",
      "  0%|          | 0/2 [00:00<?, ?it/s]\u001b[A\u001b[A\u001b[A\u001b[A\n",
      "\n",
      "\n",
      "\n",
      " 50%|█████     | 1/2 [00:00<00:00,  4.70it/s]\u001b[A\u001b[A\u001b[A\u001b[A\n",
      "\n",
      "\n",
      "\n",
      "100%|██████████| 2/2 [00:00<00:00,  4.69it/s]\u001b[A\u001b[A\u001b[A\u001b[A\n",
      "\n",
      "\n",
      "\n",
      "\u001b[A\u001b[A\u001b[A\u001b[A"
     ]
    }
   ],
   "source": [
    "rem_users = set(user_list) - set(first_nodes)\n",
    "G, second_user, rem_users = cas.create_cascade(G,first_nodes,rem_users)"
   ]
  },
  {
   "cell_type": "code",
   "execution_count": 129,
   "metadata": {
    "scrolled": true
   },
   "outputs": [
    {
     "name": "stderr",
     "output_type": "stream",
     "text": [
      "\n",
      "\n",
      "\n",
      "\n",
      "  0%|          | 0/5 [00:00<?, ?it/s]\u001b[A\u001b[A\u001b[A\u001b[A"
     ]
    },
    {
     "name": "stdout",
     "output_type": "stream",
     "text": [
      "finding connection for following network might take some time\n",
      "\n"
     ]
    },
    {
     "name": "stderr",
     "output_type": "stream",
     "text": [
      "\n",
      "\n",
      "\n",
      "\n",
      " 20%|██        | 1/5 [00:00<00:01,  2.29it/s]\u001b[A\u001b[A\u001b[A\u001b[A\n",
      "\n",
      "\n",
      "\n",
      " 40%|████      | 2/5 [00:00<00:01,  2.60it/s]\u001b[A\u001b[A\u001b[A\u001b[A\n",
      "\n",
      "\n",
      "\n",
      " 60%|██████    | 3/5 [12:30<07:30, 225.12s/it]\u001b[A\u001b[A\u001b[A\u001b[A\n",
      "\n",
      "\n",
      "\n",
      " 80%|████████  | 4/5 [12:30<02:37, 157.69s/it]\u001b[A\u001b[A\u001b[A\u001b[A\n",
      "\n",
      "\n",
      "\n",
      "100%|██████████| 5/5 [12:31<00:00, 110.65s/it]\u001b[A\u001b[A\u001b[A\u001b[A\n",
      "\n",
      "\n",
      "\n",
      "\u001b[A\u001b[A\u001b[A\u001b[A\n",
      "\n",
      "\n",
      "\n",
      "  0%|          | 0/5 [00:00<?, ?it/s]\u001b[A\u001b[A\u001b[A\u001b[A"
     ]
    },
    {
     "name": "stdout",
     "output_type": "stream",
     "text": [
      "finding connection for followers network might take some time\n",
      "\n"
     ]
    },
    {
     "name": "stderr",
     "output_type": "stream",
     "text": [
      "\n",
      "\n",
      "\n",
      "\n",
      " 20%|██        | 1/5 [00:00<00:01,  3.76it/s]\u001b[A\u001b[A\u001b[A\u001b[A\n",
      "\n",
      "\n",
      "\n",
      " 40%|████      | 2/5 [00:00<00:00,  3.65it/s]\u001b[A\u001b[A\u001b[A\u001b[A\n",
      "\n",
      "\n",
      "\n",
      " 60%|██████    | 3/5 [00:00<00:00,  3.65it/s]\u001b[A\u001b[A\u001b[A\u001b[A\n",
      "\n",
      "\n",
      "\n",
      " 80%|████████  | 4/5 [00:01<00:00,  3.65it/s]\u001b[A\u001b[A\u001b[A\u001b[A\n",
      "\n",
      "\n",
      "\n",
      "100%|██████████| 5/5 [00:01<00:00,  3.53it/s]\u001b[A\u001b[A\u001b[A\u001b[A\n",
      "\n",
      "\n",
      "\n",
      "\u001b[A\u001b[A\u001b[A\u001b[A\n",
      "\n",
      "\n",
      "\n",
      "  0%|          | 0/5 [00:00<?, ?it/s]\u001b[A\u001b[A\u001b[A\u001b[A\n",
      "\n",
      "\n",
      "\n",
      " 20%|██        | 1/5 [00:00<00:00,  4.42it/s]\u001b[A\u001b[A\u001b[A\u001b[A\n",
      "\n",
      "\n",
      "\n",
      " 40%|████      | 2/5 [00:00<00:00,  4.71it/s]\u001b[A\u001b[A\u001b[A\u001b[A\n",
      "\n",
      "\n",
      "\n",
      " 60%|██████    | 3/5 [00:00<00:00,  4.97it/s]\u001b[A\u001b[A\u001b[A\u001b[A\n",
      "\n",
      "\n",
      "\n",
      " 80%|████████  | 4/5 [00:00<00:00,  5.16it/s]\u001b[A\u001b[A\u001b[A\u001b[A\n",
      "\n",
      "\n",
      "\n",
      "100%|██████████| 5/5 [00:00<00:00,  5.35it/s]\u001b[A\u001b[A\u001b[A\u001b[A\n",
      "\n",
      "\n",
      "\n",
      "\u001b[A\u001b[A\u001b[A\u001b[A"
     ]
    }
   ],
   "source": [
    "G3, third_users, rem_users1 = cas.create_cascade(G,second_user,rem_users)"
   ]
  },
  {
   "cell_type": "code",
   "execution_count": null,
   "metadata": {},
   "outputs": [],
   "source": [
    "G = cas.get_node_attributes(G,first_nodes,hexagon_data,1)\n",
    "G = cas.get_node_attributes(G,second_user,hexagon_data,2)"
   ]
  },
  {
   "cell_type": "code",
   "execution_count": 132,
   "metadata": {},
   "outputs": [],
   "source": [
    "G = cas.get_node_attributes(G,third_users,hexagon_data,3)"
   ]
  },
  {
   "cell_type": "code",
   "execution_count": 165,
   "metadata": {},
   "outputs": [],
   "source": [
    "shells =  [third_users] + [[source_node]] + [first_nodes] + [second_user] \n",
    "pos = nx.shell_layout(G,shells)"
   ]
  },
  {
   "cell_type": "code",
   "execution_count": 167,
   "metadata": {},
   "outputs": [],
   "source": [
    "## for shells\n",
    "color_map = list()\n",
    "for (node) in G.nodes():\n",
    "    if node == source_node:\n",
    "        color_map.append(\"yellow\")\n",
    "    else:\n",
    "        if node in set(second_user):\n",
    "            color_map.append(\"green\")\n",
    "        elif node in set(first_nodes):\n",
    "            color_map.append(\"blue\")\n",
    "        elif node in set(third_users):\n",
    "            color_map.append(\"red\")"
   ]
  },
  {
   "cell_type": "code",
   "execution_count": 123,
   "metadata": {},
   "outputs": [
    {
     "data": {
      "image/png": "[encoded data removed]",
      "text/plain": [
       "<Figure size 720x720 with 1 Axes>"
      ]
     },
     "metadata": {},
     "output_type": "display_data"
    }
   ],
   "source": [
    "%matplotlib inline\n",
    "plt.figure(figsize=(10,10))\n",
    "nx.draw(G,nodelist=pos.keys(),pos=pos,node_color=color_map,with_labels=False,)\n",
    "ax = plt.gca()\n",
    "ax.set_aspect('equal')\n",
    "ax.set_axis_off()\n",
    "plt.title(\"2 level cascade\")\n",
    "plt.show()"
   ]
  },
  {
   "cell_type": "code",
   "execution_count": 170,
   "metadata": {},
   "outputs": [
    {
     "data": {
      "image/png": "[encoded data removed]",
      "text/plain": [
       "<Figure size 720x720 with 1 Axes>"
      ]
     },
     "metadata": {},
     "output_type": "display_data"
    }
   ],
   "source": [
    "%matplotlib inline\n",
    "plt.figure(figsize=(10,10))\n",
    "nx.draw(G,node_color=color_map,with_labels=False,)\n",
    "ax = plt.gca()\n",
    "ax.set_aspect('equal')\n",
    "ax.set_axis_off()\n",
    "plt.title(\"2 level cascade\")\n",
    "plt.show()"
   ]
  },
  {
   "cell_type": "code",
   "execution_count": null,
   "metadata": {},
   "outputs": [],
   "source": []
  },
  {
   "cell_type": "markdown",
   "metadata": {},
   "source": [
    "## dump the graph"
   ]
  },
  {
   "cell_type": "code",
   "execution_count": 171,
   "metadata": {},
   "outputs": [],
   "source": [
    "# gpickle the graph\n",
    "nx.write_gpickle(G,\"/Users/akshayuppal/Desktop/thesis/twitter_juul/models/juul_cascade.gpickle\")"
   ]
  },
  {
   "cell_type": "code",
   "execution_count": null,
   "metadata": {},
   "outputs": [],
   "source": []
  }
 ],
 "metadata": {
  "kernelspec": {
   "display_name": "Python 3",
   "language": "python",
   "name": "python3"
  }
 },
 "nbformat": 4,
 "nbformat_minor": 2
}
